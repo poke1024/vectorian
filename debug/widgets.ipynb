{
 "cells": [
  {
   "cell_type": "code",
   "execution_count": 1,
   "id": "synthetic-forge",
   "metadata": {},
   "outputs": [],
   "source": [
    "from pathlib import Path\n",
    "\n",
    "import os\n",
    "import sys\n",
    "\n",
    "current_path = Path(os.getcwd())\n",
    "sys.path.append(str(current_path.parent))\n",
    "os.environ['VECTORIAN_CPP_IMPORT'] = \"1\""
   ]
  },
  {
   "cell_type": "code",
   "execution_count": 2,
   "id": "biological-shock",
   "metadata": {},
   "outputs": [],
   "source": [
    "import vectorian"
   ]
  },
  {
   "cell_type": "code",
   "execution_count": 3,
   "id": "elementary-manor",
   "metadata": {},
   "outputs": [],
   "source": [
    "import spacy\n",
    "#nlp = spacy.load(\"en_core_web_trf\")\n",
    "nlp = spacy.load(\"en_core_web_sm\")"
   ]
  },
  {
   "cell_type": "code",
   "execution_count": 4,
   "id": "configured-demographic",
   "metadata": {},
   "outputs": [
    {
     "name": "stdout",
     "output_type": "stream",
     "text": [
      "Matching checksum for /Users/arbeit/Projects/vectorian-2021/vectorian/core/cpp/core.cpp --> not compiling\n"
     ]
    },
    {
     "name": "stderr",
     "output_type": "stream",
     "text": [
      "Importing /Users/arbeit/Wise Children.txt: 100%|██████████| 369/369 [00:02<00:00, 154.68it/s]\n",
      "Opening glove-6B-50: 100%|██████████\n",
      "4054it [00:00, 22478.62it/s]\n"
     ]
    }
   ],
   "source": [
    "import vectorian\n",
    "from vectorian.embeddings import CompressedFastTextVectors, PretrainedGloVe\n",
    "\n",
    "fasttext = CompressedFastTextVectors(\"../models/fasttext-en-mini.kv\")\n",
    "glove = PretrainedGloVe(\"6B\", 50)\n",
    "\n",
    "from vectorian.importers import NovelImporter\n",
    "from vectorian.session import LabSession\n",
    "from vectorian.embeddings import SpacyTransformerEmbedding\n",
    "\n",
    "# contextual embeddings\n",
    "#im = NovelImporter(nlp, embeddings=[SpacyTransformerEmbedding(nlp)])\n",
    "\n",
    "im = NovelImporter(nlp)\n",
    "doc = im(\"/Users/arbeit/Wise Children.txt\")\n",
    "\n",
    "# note: you may also specify StackedEmbedding here.\n",
    "session = LabSession(\n",
    "    [doc],\n",
    "    [fasttext, glove],\n",
    "    \"default\")"
   ]
  },
  {
   "cell_type": "code",
   "execution_count": 5,
   "id": "patent-raise",
   "metadata": {},
   "outputs": [
    {
     "data": {
      "application/vnd.jupyter.widget-view+json": {
       "model_id": "787cedd2a36947a998eb465ddb4bf568",
       "version_major": 2,
       "version_minor": 0
      },
      "text/plain": [
       "VBox(children=(HBox(children=(Text(value='', description='Query:', layout=Layout(width='40em'), placeholder='Y…"
      ]
     },
     "metadata": {},
     "output_type": "display_data"
    }
   ],
   "source": [
    "session.interact(nlp)"
   ]
  },
  {
   "cell_type": "code",
   "execution_count": null,
   "id": "intelligent-devon",
   "metadata": {},
   "outputs": [],
   "source": []
  },
  {
   "cell_type": "code",
   "execution_count": null,
   "id": "talented-strength",
   "metadata": {},
   "outputs": [],
   "source": []
  },
  {
   "cell_type": "code",
   "execution_count": null,
   "id": "impressed-retreat",
   "metadata": {},
   "outputs": [],
   "source": []
  },
  {
   "cell_type": "code",
   "execution_count": null,
   "id": "allied-cocktail",
   "metadata": {},
   "outputs": [],
   "source": []
  }
 ],
 "metadata": {
  "kernelspec": {
   "display_name": "Python 3",
   "language": "python",
   "name": "python3"
  },
  "language_info": {
   "codemirror_mode": {
    "name": "ipython",
    "version": 3
   },
   "file_extension": ".py",
   "mimetype": "text/x-python",
   "name": "python",
   "nbconvert_exporter": "python",
   "pygments_lexer": "ipython3",
   "version": "3.8.5"
  }
 },
 "nbformat": 4,
 "nbformat_minor": 5
}

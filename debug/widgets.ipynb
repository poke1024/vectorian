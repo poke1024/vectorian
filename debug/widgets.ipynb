{
 "cells": [
  {
   "cell_type": "code",
   "execution_count": 1,
   "id": "standard-cannon",
   "metadata": {},
   "outputs": [],
   "source": [
    "from pathlib import Path\n",
    "\n",
    "import os\n",
    "import sys\n",
    "\n",
    "current_path = Path(os.getcwd())\n",
    "sys.path.append(str(current_path.parent))\n",
    "os.environ['VECTORIAN_CPP_IMPORT'] = \"1\""
   ]
  },
  {
   "cell_type": "code",
   "execution_count": 2,
   "id": "parallel-priest",
   "metadata": {},
   "outputs": [],
   "source": [
    "import vectorian"
   ]
  },
  {
   "cell_type": "code",
   "execution_count": 3,
   "id": "initial-clearing",
   "metadata": {},
   "outputs": [],
   "source": [
    "import spacy\n",
    "#nlp = spacy.load(\"en_core_web_trf\")\n",
    "nlp = spacy.load(\"en_core_web_sm\")"
   ]
  },
  {
   "cell_type": "code",
   "execution_count": 4,
   "id": "muslim-andrew",
   "metadata": {},
   "outputs": [
    {
     "name": "stdout",
     "output_type": "stream",
     "text": [
      "Failed to find compiled extension; rebuilding.\n",
      "Compiling /Users/arbeit/Projects/vectorian-2021/vectorian/core/cpp/core.cpp\n",
      "running build_ext\n",
      "building 'vectorian.core.cpp.core' extension\n",
      "creating /var/folders/m6/3kr1nz2x29qdczpm2q_8n5m40000gr/T/tmpnep8fpws/Users\n",
      "creating /var/folders/m6/3kr1nz2x29qdczpm2q_8n5m40000gr/T/tmpnep8fpws/Users/arbeit\n",
      "creating /var/folders/m6/3kr1nz2x29qdczpm2q_8n5m40000gr/T/tmpnep8fpws/Users/arbeit/Projects\n",
      "creating /var/folders/m6/3kr1nz2x29qdczpm2q_8n5m40000gr/T/tmpnep8fpws/Users/arbeit/Projects/vectorian-2021\n",
      "creating /var/folders/m6/3kr1nz2x29qdczpm2q_8n5m40000gr/T/tmpnep8fpws/Users/arbeit/Projects/vectorian-2021/vectorian\n",
      "creating /var/folders/m6/3kr1nz2x29qdczpm2q_8n5m40000gr/T/tmpnep8fpws/Users/arbeit/Projects/vectorian-2021/vectorian/core\n",
      "creating /var/folders/m6/3kr1nz2x29qdczpm2q_8n5m40000gr/T/tmpnep8fpws/Users/arbeit/Projects/vectorian-2021/vectorian/core/cpp\n",
      "creating /var/folders/m6/3kr1nz2x29qdczpm2q_8n5m40000gr/T/tmpnep8fpws/Users/arbeit/Projects/vectorian-2021/vectorian/core/cpp/metric\n",
      "creating /var/folders/m6/3kr1nz2x29qdczpm2q_8n5m40000gr/T/tmpnep8fpws/Users/arbeit/Projects/vectorian-2021/vectorian/core/cpp/match\n",
      "creating /var/folders/m6/3kr1nz2x29qdczpm2q_8n5m40000gr/T/tmpnep8fpws/Users/arbeit/Projects/vectorian-2021/vectorian/core/cpp/embedding\n",
      "creating /var/folders/m6/3kr1nz2x29qdczpm2q_8n5m40000gr/T/tmpnep8fpws/Users/arbeit/Projects/vectorian-2021/vectorian/core/lib\n",
      "creating /var/folders/m6/3kr1nz2x29qdczpm2q_8n5m40000gr/T/tmpnep8fpws/Users/arbeit/Projects/vectorian-2021/vectorian/core/lib/ppk_assert\n",
      "creating /var/folders/m6/3kr1nz2x29qdczpm2q_8n5m40000gr/T/tmpnep8fpws/Users/arbeit/Projects/vectorian-2021/vectorian/core/lib/ppk_assert/src\n",
      "gcc -Wno-unused-result -Wsign-compare -Wunreachable-code -DNDEBUG -g -fwrapv -O3 -Wall -Wstrict-prototypes -I/opt/miniconda3/envs/vectorian2021/include -arch x86_64 -I/opt/miniconda3/envs/vectorian2021/include -arch x86_64 -I/opt/miniconda3/envs/vectorian2021/lib/python3.8/site-packages/numpy/core/include -I/Users/arbeit/Projects/vectorian-2021/vectorian/core/cpp/../lib -I/Users/arbeit/Projects/vectorian-2021/vectorian/core/cpp/../lib/pyemd/pyemd/lib -I/Users/arbeit/Projects/vectorian-2021/vectorian/core/cpp/../lib/ppk_assert/src -I/opt/miniconda3/envs/vectorian2021/lib/python3.8/site-packages/pybind11/include -I/opt/miniconda3/envs/vectorian2021/lib/python3.8/site-packages/pybind11/include -I/Users/arbeit/Projects/vectorian-2021/vectorian/core/cpp -I/opt/miniconda3/envs/vectorian2021/include/python3.8 -c /Users/arbeit/Projects/vectorian-2021/vectorian/core/cpp/vocabulary.cpp -o /var/folders/m6/3kr1nz2x29qdczpm2q_8n5m40000gr/T/tmpnep8fpws/Users/arbeit/Projects/vectorian-2021/vectorian/core/cpp/vocabulary.o -std=c++11 -fvisibility=hidden -Wall -std=c++17 -O3 -fvisibility=hidden -stdlib=libc++ -mmacosx-version-min=10.15\n",
      "gcc -Wno-unused-result -Wsign-compare -Wunreachable-code -DNDEBUG -g -fwrapv -O3 -Wall -Wstrict-prototypes -I/opt/miniconda3/envs/vectorian2021/include -arch x86_64 -I/opt/miniconda3/envs/vectorian2021/include -arch x86_64 -I/opt/miniconda3/envs/vectorian2021/lib/python3.8/site-packages/numpy/core/include -I/Users/arbeit/Projects/vectorian-2021/vectorian/core/cpp/../lib -I/Users/arbeit/Projects/vectorian-2021/vectorian/core/cpp/../lib/pyemd/pyemd/lib -I/Users/arbeit/Projects/vectorian-2021/vectorian/core/cpp/../lib/ppk_assert/src -I/opt/miniconda3/envs/vectorian2021/lib/python3.8/site-packages/pybind11/include -I/opt/miniconda3/envs/vectorian2021/lib/python3.8/site-packages/pybind11/include -I/Users/arbeit/Projects/vectorian-2021/vectorian/core/cpp -I/opt/miniconda3/envs/vectorian2021/include/python3.8 -c /Users/arbeit/Projects/vectorian-2021/vectorian/core/cpp/metric/contextual.cpp -o /var/folders/m6/3kr1nz2x29qdczpm2q_8n5m40000gr/T/tmpnep8fpws/Users/arbeit/Projects/vectorian-2021/vectorian/core/cpp/metric/contextual.o -std=c++11 -fvisibility=hidden -Wall -std=c++17 -O3 -fvisibility=hidden -stdlib=libc++ -mmacosx-version-min=10.15\n",
      "gcc -Wno-unused-result -Wsign-compare -Wunreachable-code -DNDEBUG -g -fwrapv -O3 -Wall -Wstrict-prototypes -I/opt/miniconda3/envs/vectorian2021/include -arch x86_64 -I/opt/miniconda3/envs/vectorian2021/include -arch x86_64 -I/opt/miniconda3/envs/vectorian2021/lib/python3.8/site-packages/numpy/core/include -I/Users/arbeit/Projects/vectorian-2021/vectorian/core/cpp/../lib -I/Users/arbeit/Projects/vectorian-2021/vectorian/core/cpp/../lib/pyemd/pyemd/lib -I/Users/arbeit/Projects/vectorian-2021/vectorian/core/cpp/../lib/ppk_assert/src -I/opt/miniconda3/envs/vectorian2021/lib/python3.8/site-packages/pybind11/include -I/opt/miniconda3/envs/vectorian2021/lib/python3.8/site-packages/pybind11/include -I/Users/arbeit/Projects/vectorian-2021/vectorian/core/cpp -I/opt/miniconda3/envs/vectorian2021/include/python3.8 -c /Users/arbeit/Projects/vectorian-2021/vectorian/core/cpp/metric/modifier.cpp -o /var/folders/m6/3kr1nz2x29qdczpm2q_8n5m40000gr/T/tmpnep8fpws/Users/arbeit/Projects/vectorian-2021/vectorian/core/cpp/metric/modifier.o -std=c++11 -fvisibility=hidden -Wall -std=c++17 -O3 -fvisibility=hidden -stdlib=libc++ -mmacosx-version-min=10.15\n",
      "gcc -Wno-unused-result -Wsign-compare -Wunreachable-code -DNDEBUG -g -fwrapv -O3 -Wall -Wstrict-prototypes -I/opt/miniconda3/envs/vectorian2021/include -arch x86_64 -I/opt/miniconda3/envs/vectorian2021/include -arch x86_64 -I/opt/miniconda3/envs/vectorian2021/lib/python3.8/site-packages/numpy/core/include -I/Users/arbeit/Projects/vectorian-2021/vectorian/core/cpp/../lib -I/Users/arbeit/Projects/vectorian-2021/vectorian/core/cpp/../lib/pyemd/pyemd/lib -I/Users/arbeit/Projects/vectorian-2021/vectorian/core/cpp/../lib/ppk_assert/src -I/opt/miniconda3/envs/vectorian2021/lib/python3.8/site-packages/pybind11/include -I/opt/miniconda3/envs/vectorian2021/lib/python3.8/site-packages/pybind11/include -I/Users/arbeit/Projects/vectorian-2021/vectorian/core/cpp -I/opt/miniconda3/envs/vectorian2021/include/python3.8 -c /Users/arbeit/Projects/vectorian-2021/vectorian/core/cpp/metric/static.cpp -o /var/folders/m6/3kr1nz2x29qdczpm2q_8n5m40000gr/T/tmpnep8fpws/Users/arbeit/Projects/vectorian-2021/vectorian/core/cpp/metric/static.o -std=c++11 -fvisibility=hidden -Wall -std=c++17 -O3 -fvisibility=hidden -stdlib=libc++ -mmacosx-version-min=10.15\n",
      "gcc -Wno-unused-result -Wsign-compare -Wunreachable-code -DNDEBUG -g -fwrapv -O3 -Wall -Wstrict-prototypes -I/opt/miniconda3/envs/vectorian2021/include -arch x86_64 -I/opt/miniconda3/envs/vectorian2021/include -arch x86_64 -I/opt/miniconda3/envs/vectorian2021/lib/python3.8/site-packages/numpy/core/include -I/Users/arbeit/Projects/vectorian-2021/vectorian/core/cpp/../lib -I/Users/arbeit/Projects/vectorian-2021/vectorian/core/cpp/../lib/pyemd/pyemd/lib -I/Users/arbeit/Projects/vectorian-2021/vectorian/core/cpp/../lib/ppk_assert/src -I/opt/miniconda3/envs/vectorian2021/lib/python3.8/site-packages/pybind11/include -I/opt/miniconda3/envs/vectorian2021/lib/python3.8/site-packages/pybind11/include -I/Users/arbeit/Projects/vectorian-2021/vectorian/core/cpp -I/opt/miniconda3/envs/vectorian2021/include/python3.8 -c /Users/arbeit/Projects/vectorian-2021/vectorian/core/cpp/match/matcher.cpp -o /var/folders/m6/3kr1nz2x29qdczpm2q_8n5m40000gr/T/tmpnep8fpws/Users/arbeit/Projects/vectorian-2021/vectorian/core/cpp/match/matcher.o -std=c++11 -fvisibility=hidden -Wall -std=c++17 -O3 -fvisibility=hidden -stdlib=libc++ -mmacosx-version-min=10.15\n",
      "gcc -Wno-unused-result -Wsign-compare -Wunreachable-code -DNDEBUG -g -fwrapv -O3 -Wall -Wstrict-prototypes -I/opt/miniconda3/envs/vectorian2021/include -arch x86_64 -I/opt/miniconda3/envs/vectorian2021/include -arch x86_64 -I/opt/miniconda3/envs/vectorian2021/lib/python3.8/site-packages/numpy/core/include -I/Users/arbeit/Projects/vectorian-2021/vectorian/core/cpp/../lib -I/Users/arbeit/Projects/vectorian-2021/vectorian/core/cpp/../lib/pyemd/pyemd/lib -I/Users/arbeit/Projects/vectorian-2021/vectorian/core/cpp/../lib/ppk_assert/src -I/opt/miniconda3/envs/vectorian2021/lib/python3.8/site-packages/pybind11/include -I/opt/miniconda3/envs/vectorian2021/lib/python3.8/site-packages/pybind11/include -I/Users/arbeit/Projects/vectorian-2021/vectorian/core/cpp -I/opt/miniconda3/envs/vectorian2021/include/python3.8 -c /Users/arbeit/Projects/vectorian-2021/vectorian/core/cpp/match/instantiate.cpp -o /var/folders/m6/3kr1nz2x29qdczpm2q_8n5m40000gr/T/tmpnep8fpws/Users/arbeit/Projects/vectorian-2021/vectorian/core/cpp/match/instantiate.o -std=c++11 -fvisibility=hidden -Wall -std=c++17 -O3 -fvisibility=hidden -stdlib=libc++ -mmacosx-version-min=10.15\n",
      "gcc -Wno-unused-result -Wsign-compare -Wunreachable-code -DNDEBUG -g -fwrapv -O3 -Wall -Wstrict-prototypes -I/opt/miniconda3/envs/vectorian2021/include -arch x86_64 -I/opt/miniconda3/envs/vectorian2021/include -arch x86_64 -I/opt/miniconda3/envs/vectorian2021/lib/python3.8/site-packages/numpy/core/include -I/Users/arbeit/Projects/vectorian-2021/vectorian/core/cpp/../lib -I/Users/arbeit/Projects/vectorian-2021/vectorian/core/cpp/../lib/pyemd/pyemd/lib -I/Users/arbeit/Projects/vectorian-2021/vectorian/core/cpp/../lib/ppk_assert/src -I/opt/miniconda3/envs/vectorian2021/lib/python3.8/site-packages/pybind11/include -I/opt/miniconda3/envs/vectorian2021/lib/python3.8/site-packages/pybind11/include -I/Users/arbeit/Projects/vectorian-2021/vectorian/core/cpp -I/opt/miniconda3/envs/vectorian2021/include/python3.8 -c /Users/arbeit/Projects/vectorian-2021/vectorian/core/cpp/query.cpp -o /var/folders/m6/3kr1nz2x29qdczpm2q_8n5m40000gr/T/tmpnep8fpws/Users/arbeit/Projects/vectorian-2021/vectorian/core/cpp/query.o -std=c++11 -fvisibility=hidden -Wall -std=c++17 -O3 -fvisibility=hidden -stdlib=libc++ -mmacosx-version-min=10.15\n",
      "gcc -Wno-unused-result -Wsign-compare -Wunreachable-code -DNDEBUG -g -fwrapv -O3 -Wall -Wstrict-prototypes -I/opt/miniconda3/envs/vectorian2021/include -arch x86_64 -I/opt/miniconda3/envs/vectorian2021/include -arch x86_64 -I/opt/miniconda3/envs/vectorian2021/lib/python3.8/site-packages/numpy/core/include -I/Users/arbeit/Projects/vectorian-2021/vectorian/core/cpp/../lib -I/Users/arbeit/Projects/vectorian-2021/vectorian/core/cpp/../lib/pyemd/pyemd/lib -I/Users/arbeit/Projects/vectorian-2021/vectorian/core/cpp/../lib/ppk_assert/src -I/opt/miniconda3/envs/vectorian2021/lib/python3.8/site-packages/pybind11/include -I/opt/miniconda3/envs/vectorian2021/lib/python3.8/site-packages/pybind11/include -I/Users/arbeit/Projects/vectorian-2021/vectorian/core/cpp -I/opt/miniconda3/envs/vectorian2021/include/python3.8 -c /Users/arbeit/Projects/vectorian-2021/vectorian/core/cpp/embedding/static.cpp -o /var/folders/m6/3kr1nz2x29qdczpm2q_8n5m40000gr/T/tmpnep8fpws/Users/arbeit/Projects/vectorian-2021/vectorian/core/cpp/embedding/static.o -std=c++11 -fvisibility=hidden -Wall -std=c++17 -O3 -fvisibility=hidden -stdlib=libc++ -mmacosx-version-min=10.15\n",
      "gcc -Wno-unused-result -Wsign-compare -Wunreachable-code -DNDEBUG -g -fwrapv -O3 -Wall -Wstrict-prototypes -I/opt/miniconda3/envs/vectorian2021/include -arch x86_64 -I/opt/miniconda3/envs/vectorian2021/include -arch x86_64 -I/opt/miniconda3/envs/vectorian2021/lib/python3.8/site-packages/numpy/core/include -I/Users/arbeit/Projects/vectorian-2021/vectorian/core/cpp/../lib -I/Users/arbeit/Projects/vectorian-2021/vectorian/core/cpp/../lib/pyemd/pyemd/lib -I/Users/arbeit/Projects/vectorian-2021/vectorian/core/cpp/../lib/ppk_assert/src -I/opt/miniconda3/envs/vectorian2021/lib/python3.8/site-packages/pybind11/include -I/opt/miniconda3/envs/vectorian2021/lib/python3.8/site-packages/pybind11/include -I/Users/arbeit/Projects/vectorian-2021/vectorian/core/cpp -I/opt/miniconda3/envs/vectorian2021/include/python3.8 -c /Users/arbeit/Projects/vectorian-2021/vectorian/core/cpp/module.cpp -o /var/folders/m6/3kr1nz2x29qdczpm2q_8n5m40000gr/T/tmpnep8fpws/Users/arbeit/Projects/vectorian-2021/vectorian/core/cpp/module.o -std=c++11 -fvisibility=hidden -Wall -std=c++17 -O3 -fvisibility=hidden -stdlib=libc++ -mmacosx-version-min=10.15\n",
      "gcc -Wno-unused-result -Wsign-compare -Wunreachable-code -DNDEBUG -g -fwrapv -O3 -Wall -Wstrict-prototypes -I/opt/miniconda3/envs/vectorian2021/include -arch x86_64 -I/opt/miniconda3/envs/vectorian2021/include -arch x86_64 -I/opt/miniconda3/envs/vectorian2021/lib/python3.8/site-packages/numpy/core/include -I/Users/arbeit/Projects/vectorian-2021/vectorian/core/cpp/../lib -I/Users/arbeit/Projects/vectorian-2021/vectorian/core/cpp/../lib/pyemd/pyemd/lib -I/Users/arbeit/Projects/vectorian-2021/vectorian/core/cpp/../lib/ppk_assert/src -I/opt/miniconda3/envs/vectorian2021/lib/python3.8/site-packages/pybind11/include -I/opt/miniconda3/envs/vectorian2021/lib/python3.8/site-packages/pybind11/include -I/Users/arbeit/Projects/vectorian-2021/vectorian/core/cpp -I/opt/miniconda3/envs/vectorian2021/include/python3.8 -c /Users/arbeit/Projects/vectorian-2021/vectorian/core/cpp/match/flow.cpp -o /var/folders/m6/3kr1nz2x29qdczpm2q_8n5m40000gr/T/tmpnep8fpws/Users/arbeit/Projects/vectorian-2021/vectorian/core/cpp/match/flow.o -std=c++11 -fvisibility=hidden -Wall -std=c++17 -O3 -fvisibility=hidden -stdlib=libc++ -mmacosx-version-min=10.15\n",
      "gcc -Wno-unused-result -Wsign-compare -Wunreachable-code -DNDEBUG -g -fwrapv -O3 -Wall -Wstrict-prototypes -I/opt/miniconda3/envs/vectorian2021/include -arch x86_64 -I/opt/miniconda3/envs/vectorian2021/include -arch x86_64 -I/opt/miniconda3/envs/vectorian2021/lib/python3.8/site-packages/numpy/core/include -I/Users/arbeit/Projects/vectorian-2021/vectorian/core/cpp/../lib -I/Users/arbeit/Projects/vectorian-2021/vectorian/core/cpp/../lib/pyemd/pyemd/lib -I/Users/arbeit/Projects/vectorian-2021/vectorian/core/cpp/../lib/ppk_assert/src -I/opt/miniconda3/envs/vectorian2021/lib/python3.8/site-packages/pybind11/include -I/opt/miniconda3/envs/vectorian2021/lib/python3.8/site-packages/pybind11/include -I/Users/arbeit/Projects/vectorian-2021/vectorian/core/cpp -I/opt/miniconda3/envs/vectorian2021/include/python3.8 -c /Users/arbeit/Projects/vectorian-2021/vectorian/core/cpp/match/match.cpp -o /var/folders/m6/3kr1nz2x29qdczpm2q_8n5m40000gr/T/tmpnep8fpws/Users/arbeit/Projects/vectorian-2021/vectorian/core/cpp/match/match.o -std=c++11 -fvisibility=hidden -Wall -std=c++17 -O3 -fvisibility=hidden -stdlib=libc++ -mmacosx-version-min=10.15\n",
      "gcc -Wno-unused-result -Wsign-compare -Wunreachable-code -DNDEBUG -g -fwrapv -O3 -Wall -Wstrict-prototypes -I/opt/miniconda3/envs/vectorian2021/include -arch x86_64 -I/opt/miniconda3/envs/vectorian2021/include -arch x86_64 -I/opt/miniconda3/envs/vectorian2021/lib/python3.8/site-packages/numpy/core/include -I/Users/arbeit/Projects/vectorian-2021/vectorian/core/cpp/../lib -I/Users/arbeit/Projects/vectorian-2021/vectorian/core/cpp/../lib/pyemd/pyemd/lib -I/Users/arbeit/Projects/vectorian-2021/vectorian/core/cpp/../lib/ppk_assert/src -I/opt/miniconda3/envs/vectorian2021/lib/python3.8/site-packages/pybind11/include -I/opt/miniconda3/envs/vectorian2021/lib/python3.8/site-packages/pybind11/include -I/Users/arbeit/Projects/vectorian-2021/vectorian/core/cpp -I/opt/miniconda3/envs/vectorian2021/include/python3.8 -c /Users/arbeit/Projects/vectorian-2021/vectorian/core/cpp/common.cpp -o /var/folders/m6/3kr1nz2x29qdczpm2q_8n5m40000gr/T/tmpnep8fpws/Users/arbeit/Projects/vectorian-2021/vectorian/core/cpp/common.o -std=c++11 -fvisibility=hidden -Wall -std=c++17 -O3 -fvisibility=hidden -stdlib=libc++ -mmacosx-version-min=10.15\n",
      "gcc -Wno-unused-result -Wsign-compare -Wunreachable-code -DNDEBUG -g -fwrapv -O3 -Wall -Wstrict-prototypes -I/opt/miniconda3/envs/vectorian2021/include -arch x86_64 -I/opt/miniconda3/envs/vectorian2021/include -arch x86_64 -I/opt/miniconda3/envs/vectorian2021/lib/python3.8/site-packages/numpy/core/include -I/Users/arbeit/Projects/vectorian-2021/vectorian/core/cpp/../lib -I/Users/arbeit/Projects/vectorian-2021/vectorian/core/cpp/../lib/pyemd/pyemd/lib -I/Users/arbeit/Projects/vectorian-2021/vectorian/core/cpp/../lib/ppk_assert/src -I/opt/miniconda3/envs/vectorian2021/lib/python3.8/site-packages/pybind11/include -I/opt/miniconda3/envs/vectorian2021/lib/python3.8/site-packages/pybind11/include -I/Users/arbeit/Projects/vectorian-2021/vectorian/core/cpp -I/opt/miniconda3/envs/vectorian2021/include/python3.8 -c /Users/arbeit/Projects/vectorian-2021/vectorian/core/cpp/result_set.cpp -o /var/folders/m6/3kr1nz2x29qdczpm2q_8n5m40000gr/T/tmpnep8fpws/Users/arbeit/Projects/vectorian-2021/vectorian/core/cpp/result_set.o -std=c++11 -fvisibility=hidden -Wall -std=c++17 -O3 -fvisibility=hidden -stdlib=libc++ -mmacosx-version-min=10.15\n",
      "gcc -Wno-unused-result -Wsign-compare -Wunreachable-code -DNDEBUG -g -fwrapv -O3 -Wall -Wstrict-prototypes -I/opt/miniconda3/envs/vectorian2021/include -arch x86_64 -I/opt/miniconda3/envs/vectorian2021/include -arch x86_64 -I/opt/miniconda3/envs/vectorian2021/lib/python3.8/site-packages/numpy/core/include -I/Users/arbeit/Projects/vectorian-2021/vectorian/core/cpp/../lib -I/Users/arbeit/Projects/vectorian-2021/vectorian/core/cpp/../lib/pyemd/pyemd/lib -I/Users/arbeit/Projects/vectorian-2021/vectorian/core/cpp/../lib/ppk_assert/src -I/opt/miniconda3/envs/vectorian2021/lib/python3.8/site-packages/pybind11/include -I/opt/miniconda3/envs/vectorian2021/lib/python3.8/site-packages/pybind11/include -I/Users/arbeit/Projects/vectorian-2021/vectorian/core/cpp -I/opt/miniconda3/envs/vectorian2021/include/python3.8 -c /Users/arbeit/Projects/vectorian-2021/vectorian/core/cpp/document.cpp -o /var/folders/m6/3kr1nz2x29qdczpm2q_8n5m40000gr/T/tmpnep8fpws/Users/arbeit/Projects/vectorian-2021/vectorian/core/cpp/document.o -std=c++11 -fvisibility=hidden -Wall -std=c++17 -O3 -fvisibility=hidden -stdlib=libc++ -mmacosx-version-min=10.15\n",
      "gcc -Wno-unused-result -Wsign-compare -Wunreachable-code -DNDEBUG -g -fwrapv -O3 -Wall -Wstrict-prototypes -I/opt/miniconda3/envs/vectorian2021/include -arch x86_64 -I/opt/miniconda3/envs/vectorian2021/include -arch x86_64 -I/opt/miniconda3/envs/vectorian2021/lib/python3.8/site-packages/numpy/core/include -I/Users/arbeit/Projects/vectorian-2021/vectorian/core/cpp/../lib -I/Users/arbeit/Projects/vectorian-2021/vectorian/core/cpp/../lib/pyemd/pyemd/lib -I/Users/arbeit/Projects/vectorian-2021/vectorian/core/cpp/../lib/ppk_assert/src -I/opt/miniconda3/envs/vectorian2021/lib/python3.8/site-packages/pybind11/include -I/opt/miniconda3/envs/vectorian2021/lib/python3.8/site-packages/pybind11/include -I/Users/arbeit/Projects/vectorian-2021/vectorian/core/cpp -I/opt/miniconda3/envs/vectorian2021/include/python3.8 -c /Users/arbeit/Projects/vectorian-2021/vectorian/core/cpp/../lib/ppk_assert/src/ppk_assert.cpp -o /var/folders/m6/3kr1nz2x29qdczpm2q_8n5m40000gr/T/tmpnep8fpws/Users/arbeit/Projects/vectorian-2021/vectorian/core/cpp/../lib/ppk_assert/src/ppk_assert.o -std=c++11 -fvisibility=hidden -Wall -std=c++17 -O3 -fvisibility=hidden -stdlib=libc++ -mmacosx-version-min=10.15\n",
      "gcc -Wno-unused-result -Wsign-compare -Wunreachable-code -DNDEBUG -g -fwrapv -O3 -Wall -Wstrict-prototypes -I/opt/miniconda3/envs/vectorian2021/include -arch x86_64 -I/opt/miniconda3/envs/vectorian2021/include -arch x86_64 -I/opt/miniconda3/envs/vectorian2021/lib/python3.8/site-packages/numpy/core/include -I/Users/arbeit/Projects/vectorian-2021/vectorian/core/cpp/../lib -I/Users/arbeit/Projects/vectorian-2021/vectorian/core/cpp/../lib/pyemd/pyemd/lib -I/Users/arbeit/Projects/vectorian-2021/vectorian/core/cpp/../lib/ppk_assert/src -I/opt/miniconda3/envs/vectorian2021/lib/python3.8/site-packages/pybind11/include -I/opt/miniconda3/envs/vectorian2021/lib/python3.8/site-packages/pybind11/include -I/Users/arbeit/Projects/vectorian-2021/vectorian/core/cpp -I/opt/miniconda3/envs/vectorian2021/include/python3.8 -c /Users/arbeit/Projects/vectorian-2021/vectorian/core/cpp/.rendered.core.cpp -o /var/folders/m6/3kr1nz2x29qdczpm2q_8n5m40000gr/T/tmpnep8fpws/Users/arbeit/Projects/vectorian-2021/vectorian/core/cpp/.rendered.core.o -std=c++11 -fvisibility=hidden -Wall -std=c++17 -O3 -fvisibility=hidden -stdlib=libc++ -mmacosx-version-min=10.15\n",
      "creating /var/folders/m6/3kr1nz2x29qdczpm2q_8n5m40000gr/T/tmpnep8fpws/vectorian\n",
      "creating /var/folders/m6/3kr1nz2x29qdczpm2q_8n5m40000gr/T/tmpnep8fpws/vectorian/core\n",
      "creating /var/folders/m6/3kr1nz2x29qdczpm2q_8n5m40000gr/T/tmpnep8fpws/vectorian/core/cpp\n",
      "g++ -bundle -undefined dynamic_lookup -L/opt/miniconda3/envs/vectorian2021/lib -arch x86_64 -L/opt/miniconda3/envs/vectorian2021/lib -arch x86_64 -arch x86_64 /var/folders/m6/3kr1nz2x29qdczpm2q_8n5m40000gr/T/tmpnep8fpws/Users/arbeit/Projects/vectorian-2021/vectorian/core/cpp/vocabulary.o /var/folders/m6/3kr1nz2x29qdczpm2q_8n5m40000gr/T/tmpnep8fpws/Users/arbeit/Projects/vectorian-2021/vectorian/core/cpp/metric/contextual.o /var/folders/m6/3kr1nz2x29qdczpm2q_8n5m40000gr/T/tmpnep8fpws/Users/arbeit/Projects/vectorian-2021/vectorian/core/cpp/metric/modifier.o /var/folders/m6/3kr1nz2x29qdczpm2q_8n5m40000gr/T/tmpnep8fpws/Users/arbeit/Projects/vectorian-2021/vectorian/core/cpp/metric/static.o /var/folders/m6/3kr1nz2x29qdczpm2q_8n5m40000gr/T/tmpnep8fpws/Users/arbeit/Projects/vectorian-2021/vectorian/core/cpp/match/matcher.o /var/folders/m6/3kr1nz2x29qdczpm2q_8n5m40000gr/T/tmpnep8fpws/Users/arbeit/Projects/vectorian-2021/vectorian/core/cpp/match/instantiate.o /var/folders/m6/3kr1nz2x29qdczpm2q_8n5m40000gr/T/tmpnep8fpws/Users/arbeit/Projects/vectorian-2021/vectorian/core/cpp/query.o /var/folders/m6/3kr1nz2x29qdczpm2q_8n5m40000gr/T/tmpnep8fpws/Users/arbeit/Projects/vectorian-2021/vectorian/core/cpp/embedding/static.o /var/folders/m6/3kr1nz2x29qdczpm2q_8n5m40000gr/T/tmpnep8fpws/Users/arbeit/Projects/vectorian-2021/vectorian/core/cpp/module.o /var/folders/m6/3kr1nz2x29qdczpm2q_8n5m40000gr/T/tmpnep8fpws/Users/arbeit/Projects/vectorian-2021/vectorian/core/cpp/match/flow.o /var/folders/m6/3kr1nz2x29qdczpm2q_8n5m40000gr/T/tmpnep8fpws/Users/arbeit/Projects/vectorian-2021/vectorian/core/cpp/match/match.o /var/folders/m6/3kr1nz2x29qdczpm2q_8n5m40000gr/T/tmpnep8fpws/Users/arbeit/Projects/vectorian-2021/vectorian/core/cpp/common.o /var/folders/m6/3kr1nz2x29qdczpm2q_8n5m40000gr/T/tmpnep8fpws/Users/arbeit/Projects/vectorian-2021/vectorian/core/cpp/result_set.o /var/folders/m6/3kr1nz2x29qdczpm2q_8n5m40000gr/T/tmpnep8fpws/Users/arbeit/Projects/vectorian-2021/vectorian/core/cpp/document.o /var/folders/m6/3kr1nz2x29qdczpm2q_8n5m40000gr/T/tmpnep8fpws/Users/arbeit/Projects/vectorian-2021/vectorian/core/cpp/../lib/ppk_assert/src/ppk_assert.o /var/folders/m6/3kr1nz2x29qdczpm2q_8n5m40000gr/T/tmpnep8fpws/Users/arbeit/Projects/vectorian-2021/vectorian/core/cpp/.rendered.core.o -o /var/folders/m6/3kr1nz2x29qdczpm2q_8n5m40000gr/T/tmpnep8fpws/vectorian/core/cpp/core.cpython-38-darwin.so -stdlib=libc++ -mmacosx-version-min=10.15\n",
      "copying /var/folders/m6/3kr1nz2x29qdczpm2q_8n5m40000gr/T/tmpnep8fpws/vectorian/core/cpp/core.cpython-38-darwin.so -> /Users/arbeit/Projects/vectorian-2021/vectorian/core/cpp\n"
     ]
    },
    {
     "name": "stderr",
     "output_type": "stream",
     "text": [
      "Importing /Users/arbeit/Wise Children.txt: 100%|██████████| 369/369 [00:02<00:00, 150.88it/s]\n",
      "Opening glove-6B-50: 100%|██████████\n",
      "4054it [00:00, 29645.55it/s]\n"
     ]
    }
   ],
   "source": [
    "import vectorian\n",
    "from vectorian.embeddings import CompressedFastTextVectors, PretrainedGloVe\n",
    "\n",
    "fasttext = CompressedFastTextVectors(\"../models/fasttext-en-mini.kv\")\n",
    "glove = PretrainedGloVe(\"6B\", 50)\n",
    "\n",
    "from vectorian.importers import NovelImporter\n",
    "from vectorian.session import LabSession\n",
    "from vectorian.embeddings import SpacyTransformerEmbedding\n",
    "\n",
    "# contextual embeddings\n",
    "#im = NovelImporter(nlp, embeddings=[SpacyTransformerEmbedding(nlp)])\n",
    "\n",
    "im = NovelImporter(nlp)\n",
    "doc = im(\"/Users/arbeit/Wise Children.txt\")\n",
    "\n",
    "# note: you may also specify StackedEmbedding here.\n",
    "session = LabSession(\n",
    "    [doc],\n",
    "    [fasttext, glove],\n",
    "    \"default\")"
   ]
  },
  {
   "cell_type": "code",
   "execution_count": null,
   "id": "threaded-chapter",
   "metadata": {},
   "outputs": [],
   "source": [
    "import humanize\n",
    "humanize.naturalsize(session.get_embedding_instance(glove).memory_usage)"
   ]
  },
  {
   "cell_type": "code",
   "execution_count": null,
   "id": "macro-distribution",
   "metadata": {},
   "outputs": [],
   "source": []
  },
  {
   "cell_type": "code",
   "execution_count": null,
   "id": "asian-billy",
   "metadata": {},
   "outputs": [],
   "source": []
  },
  {
   "cell_type": "code",
   "execution_count": 6,
   "id": "legislative-lincoln",
   "metadata": {},
   "outputs": [
    {
     "data": {
      "text/plain": [
       "'fasttext-en-mini'"
      ]
     },
     "execution_count": 6,
     "metadata": {},
     "output_type": "execute_result"
    }
   ],
   "source": [
    "list(session.embeddings)[0].name"
   ]
  },
  {
   "cell_type": "code",
   "execution_count": 5,
   "id": "incorporate-buffalo",
   "metadata": {},
   "outputs": [
    {
     "data": {
      "application/vnd.jupyter.widget-view+json": {
       "model_id": "9dde6f0887e94414bca29311115bd58f",
       "version_major": 2,
       "version_minor": 0
      },
      "text/plain": [
       "VBox(children=(HBox(children=(Text(value='', description='Query:', layout=Layout(width='40em'), placeholder='Y…"
      ]
     },
     "metadata": {},
     "output_type": "display_data"
    }
   ],
   "source": [
    "session.interact(nlp)"
   ]
  },
  {
   "cell_type": "code",
   "execution_count": null,
   "id": "inclusive-croatia",
   "metadata": {},
   "outputs": [],
   "source": []
  },
  {
   "cell_type": "code",
   "execution_count": null,
   "id": "technical-toner",
   "metadata": {},
   "outputs": [],
   "source": []
  },
  {
   "cell_type": "code",
   "execution_count": null,
   "id": "ignored-coast",
   "metadata": {},
   "outputs": [],
   "source": []
  },
  {
   "cell_type": "code",
   "execution_count": null,
   "id": "exotic-spine",
   "metadata": {},
   "outputs": [],
   "source": []
  }
 ],
 "metadata": {
  "kernelspec": {
   "display_name": "Python 3",
   "language": "python",
   "name": "python3"
  },
  "language_info": {
   "codemirror_mode": {
    "name": "ipython",
    "version": 3
   },
   "file_extension": ".py",
   "mimetype": "text/x-python",
   "name": "python",
   "nbconvert_exporter": "python",
   "pygments_lexer": "ipython3",
   "version": "3.8.5"
  }
 },
 "nbformat": 4,
 "nbformat_minor": 5
}

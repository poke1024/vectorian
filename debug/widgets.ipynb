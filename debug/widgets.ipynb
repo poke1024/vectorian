{
 "cells": [
  {
   "cell_type": "code",
   "execution_count": 1,
   "id": "composed-location",
   "metadata": {},
   "outputs": [],
   "source": [
    "from pathlib import Path\n",
    "\n",
    "import os\n",
    "import sys\n",
    "\n",
    "current_path = Path(os.getcwd())\n",
    "sys.path.append(str(current_path.parent))"
   ]
  },
  {
   "cell_type": "code",
   "execution_count": 2,
   "id": "racial-pacific",
   "metadata": {},
   "outputs": [],
   "source": [
    "import vectorian"
   ]
  },
  {
   "cell_type": "code",
   "execution_count": 12,
   "id": "nasty-colleague",
   "metadata": {},
   "outputs": [
    {
     "data": {
      "application/vnd.jupyter.widget-view+json": {
       "model_id": "21b15f19719c488780768c7113713a25",
       "version_major": 2,
       "version_minor": 0
      },
      "text/plain": [
       "VBox(children=(Dropdown(description='Gap Type:', index=1, options=('Constant', 'Linear', 'Exponential'), value…"
      ]
     },
     "metadata": {},
     "output_type": "display_data"
    }
   ],
   "source": [
    "import ipywidgets as widgets\n",
    "import matplotlib.pyplot as plt\n",
    "import vectorian.alignment\n",
    "\n",
    "class SlidingGapCostWidget:\n",
    "    def __init__(self, description, construct, max=1.0):\n",
    "        self._construct = construct\n",
    "        \n",
    "        self._cost = widgets.FloatSlider(\n",
    "            value=0,\n",
    "            min=0,\n",
    "            max=max,\n",
    "            step=0.01,\n",
    "            description=description,\n",
    "            disabled=False)\n",
    "\n",
    "        self._plot = widgets.Image(\n",
    "            value=b'',\n",
    "            format='png',\n",
    "            width=300,\n",
    "            height=400,\n",
    "        )\n",
    "\n",
    "        self.update_plot()\n",
    "        self._cost.observe(self.on_changed, names='value')\n",
    "        \n",
    "        self._vbox = widgets.VBox([self._cost, self._plot])\n",
    "     \n",
    "    def make(self):\n",
    "        return self._construct(self._cost.value)\n",
    "    \n",
    "    def update_plot(self):\n",
    "        fig, ax = plt.subplots(1, 1, figsize=(5, 2))\n",
    "        im_data = self.make().plot_to_image(\n",
    "            fig, ax, 20, format='png')\n",
    "        plt.close()\n",
    "        self._plot.value = im_data\n",
    "\n",
    "    def on_changed(self, change):\n",
    "        # cost = change.new\n",
    "        self.update_plot()\n",
    "        \n",
    "    @property\n",
    "    def widget(self):\n",
    "        return self._vbox\n",
    "    \n",
    "class ConstantGapCostWidget(SlidingGapCostWidget):\n",
    "    def __init__(self):\n",
    "        super().__init__('Cost:', vectorian.alignment.ConstantGapCost)\n",
    "\n",
    "class LinearGapCostWidget(SlidingGapCostWidget):\n",
    "    def __init__(self):\n",
    "        super().__init__('Cost:', vectorian.alignment.LinearGapCost)\n",
    "\n",
    "class ExponentialGapCostWidget(SlidingGapCostWidget):\n",
    "    def __init__(self):\n",
    "        super().__init__('Cutoff:', vectorian.alignment.ExponentialGapCost, max=20)\n",
    "        \n",
    "class GapCostWidget:\n",
    "    _types = [\n",
    "        ('Constant', ConstantGapCostWidget),\n",
    "        ('Linear', LinearGapCostWidget),\n",
    "        ('Exponential', ExponentialGapCostWidget)\n",
    "    ]\n",
    "    \n",
    "    def __init__(self):\n",
    "        self._type = widgets.Dropdown(\n",
    "            options=[x[0] for x in self._types],\n",
    "            value='Linear',\n",
    "            description='Gap Type:',\n",
    "            disabled=False)\n",
    "        \n",
    "        self._fine_tune = LinearGapCostWidget()\n",
    "        \n",
    "        self._type.observe(self.on_changed, names='value')\n",
    "\n",
    "        self._vbox = widgets.VBox([self._type, self._fine_tune.widget])\n",
    "\n",
    "    def on_changed(self, change):\n",
    "        i = [x[0] for x in self._types].index(change.new)\n",
    "        self._fine_tune = self._types[i][1]()\n",
    "        self._vbox.children = [self._type, self._fine_tune.widget]\n",
    "\n",
    "    @property\n",
    "    def widget(self):\n",
    "        return self._vbox\n",
    "\n",
    "        \n",
    "w = GapCostWidget()\n",
    "w.widget"
   ]
  },
  {
   "cell_type": "code",
   "execution_count": null,
   "id": "entertaining-pearl",
   "metadata": {},
   "outputs": [],
   "source": []
  },
  {
   "cell_type": "code",
   "execution_count": null,
   "id": "european-appeal",
   "metadata": {},
   "outputs": [],
   "source": []
  }
 ],
 "metadata": {
  "kernelspec": {
   "display_name": "Python 3",
   "language": "python",
   "name": "python3"
  },
  "language_info": {
   "codemirror_mode": {
    "name": "ipython",
    "version": 3
   },
   "file_extension": ".py",
   "mimetype": "text/x-python",
   "name": "python",
   "nbconvert_exporter": "python",
   "pygments_lexer": "ipython3",
   "version": "3.8.5"
  }
 },
 "nbformat": 4,
 "nbformat_minor": 5
}

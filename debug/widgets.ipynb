{
 "cells": [
  {
   "cell_type": "code",
   "execution_count": 1,
   "id": "white-compression",
   "metadata": {},
   "outputs": [],
   "source": [
    "from pathlib import Path\n",
    "\n",
    "import os\n",
    "import sys\n",
    "\n",
    "current_path = Path(os.getcwd())\n",
    "sys.path.append(str(current_path.parent))\n",
    "os.environ['VECTORIAN_CPP_IMPORT'] = \"1\""
   ]
  },
  {
   "cell_type": "code",
   "execution_count": 2,
   "id": "african-oregon",
   "metadata": {},
   "outputs": [],
   "source": [
    "import vectorian"
   ]
  },
  {
   "cell_type": "code",
   "execution_count": 3,
   "id": "continued-screen",
   "metadata": {},
   "outputs": [],
   "source": [
    "import spacy\n",
    "#nlp = spacy.load(\"en_core_web_trf\")\n",
    "nlp = spacy.load(\"en_core_web_sm\")"
   ]
  },
  {
   "cell_type": "code",
   "execution_count": 4,
   "id": "analyzed-incident",
   "metadata": {},
   "outputs": [
    {
     "name": "stdout",
     "output_type": "stream",
     "text": [
      "Matching checksum for /Users/arbeit/Projects/vectorian-2021/vectorian/core/cpp/core.cpp --> not compiling\n"
     ]
    },
    {
     "name": "stderr",
     "output_type": "stream",
     "text": [
      "Importing /Users/arbeit/Wise Children.txt: 100%|██████████| 369/369 [00:02<00:00, 151.04it/s]\n",
      "Opening glove-6B-50: 100%|██████████\n",
      "4054it [00:00, 31972.07it/s]\n"
     ]
    }
   ],
   "source": [
    "import vectorian\n",
    "from vectorian.embeddings import CompressedFastTextVectors, PretrainedGloVe\n",
    "\n",
    "fasttext = CompressedFastTextVectors(\"../models/fasttext-en-mini.kv\")\n",
    "glove = PretrainedGloVe(\"6B\", 50)\n",
    "\n",
    "from vectorian.importers import NovelImporter\n",
    "from vectorian.session import LabSession\n",
    "from vectorian.embeddings import SpacyTransformerEmbedding\n",
    "\n",
    "# contextual embeddings\n",
    "#im = NovelImporter(nlp, embeddings=[SpacyTransformerEmbedding(nlp)])\n",
    "\n",
    "im = NovelImporter(nlp)\n",
    "doc = im(\"/Users/arbeit/Wise Children.txt\")\n",
    "\n",
    "# note: you may also specify StackedEmbedding here.\n",
    "session = LabSession(\n",
    "    [doc],\n",
    "    [fasttext, glove],\n",
    "    \"default\")"
   ]
  },
  {
   "cell_type": "code",
   "execution_count": null,
   "id": "elementary-disposition",
   "metadata": {},
   "outputs": [],
   "source": [
    "import humanize\n",
    "humanize.naturalsize(session.get_embedding_instance(glove).memory_usage)"
   ]
  },
  {
   "cell_type": "code",
   "execution_count": null,
   "id": "parliamentary-vatican",
   "metadata": {},
   "outputs": [],
   "source": []
  },
  {
   "cell_type": "code",
   "execution_count": null,
   "id": "enormous-falls",
   "metadata": {},
   "outputs": [],
   "source": []
  },
  {
   "cell_type": "code",
   "execution_count": 6,
   "id": "exotic-turkish",
   "metadata": {},
   "outputs": [
    {
     "data": {
      "text/plain": [
       "'fasttext-en-mini'"
      ]
     },
     "execution_count": 6,
     "metadata": {},
     "output_type": "execute_result"
    }
   ],
   "source": [
    "list(session.embeddings)[0].name"
   ]
  },
  {
   "cell_type": "code",
   "execution_count": 5,
   "id": "sharing-surface",
   "metadata": {},
   "outputs": [
    {
     "data": {
      "application/vnd.jupyter.widget-view+json": {
       "model_id": "0e034b1f17a242d483bc6677669b916d",
       "version_major": 2,
       "version_minor": 0
      },
      "text/plain": [
       "VBox(children=(HBox(children=(Text(value='', description='Query:', layout=Layout(width='40em'), placeholder='Y…"
      ]
     },
     "metadata": {},
     "output_type": "display_data"
    }
   ],
   "source": [
    "session.interact(nlp)"
   ]
  },
  {
   "cell_type": "code",
   "execution_count": null,
   "id": "polar-theorem",
   "metadata": {},
   "outputs": [],
   "source": []
  },
  {
   "cell_type": "code",
   "execution_count": null,
   "id": "impressed-monday",
   "metadata": {},
   "outputs": [],
   "source": []
  },
  {
   "cell_type": "code",
   "execution_count": null,
   "id": "funded-aaron",
   "metadata": {},
   "outputs": [],
   "source": []
  },
  {
   "cell_type": "code",
   "execution_count": null,
   "id": "approximate-dining",
   "metadata": {},
   "outputs": [],
   "source": []
  }
 ],
 "metadata": {
  "kernelspec": {
   "display_name": "Python 3",
   "language": "python",
   "name": "python3"
  },
  "language_info": {
   "codemirror_mode": {
    "name": "ipython",
    "version": 3
   },
   "file_extension": ".py",
   "mimetype": "text/x-python",
   "name": "python",
   "nbconvert_exporter": "python",
   "pygments_lexer": "ipython3",
   "version": "3.8.5"
  }
 },
 "nbformat": 4,
 "nbformat_minor": 5
}

{
 "cells": [
  {
   "cell_type": "code",
   "execution_count": 1,
   "id": "split-health",
   "metadata": {},
   "outputs": [],
   "source": [
    "from pathlib import Path\n",
    "\n",
    "import os\n",
    "import sys\n",
    "\n",
    "current_path = Path(os.getcwd())\n",
    "sys.path.append(str(current_path.parent))"
   ]
  },
  {
   "cell_type": "code",
   "execution_count": 2,
   "id": "acting-playback",
   "metadata": {},
   "outputs": [
    {
     "name": "stdout",
     "output_type": "stream",
     "text": [
      "Matching checksum for /Users/arbeit/Projects/vectorian-2021/vectorian/core/cpp/core.cpp --> not compiling\n"
     ]
    }
   ],
   "source": [
    "import vectorian\n",
    "vectorian.compile()"
   ]
  },
  {
   "cell_type": "code",
   "execution_count": 3,
   "id": "billion-immigration",
   "metadata": {},
   "outputs": [],
   "source": [
    "import spacy\n",
    "nlp = spacy.load(\"en_core_web_sm\")"
   ]
  },
  {
   "cell_type": "code",
   "execution_count": 4,
   "id": "discrete-azerbaijan",
   "metadata": {},
   "outputs": [],
   "source": [
    "import vectorian\n",
    "from vectorian.embeddings import PretrainedFastText, CompressedFastTextVectors, PretrainedGloVe\n",
    "\n",
    "#fasttext = PretrainedFastText(\"en\")\n",
    "#fasttext = CompressedFastTextVectors(\"../models/fasttext-en-mini.kv\")\n",
    "glove = PretrainedGloVe('6B', ndims=50)"
   ]
  },
  {
   "cell_type": "code",
   "execution_count": 5,
   "id": "awful-attribute",
   "metadata": {},
   "outputs": [],
   "source": [
    "import vectorian.utils as utils\n",
    "\n",
    "token_mappings = {\n",
    "    \"tokenizer\": [],\n",
    "    \"tagger\": []\n",
    "}\n",
    "\n",
    "#token_mappings[\"tokenizer\"].append(utils.lowercase())\n",
    "token_mappings[\"tokenizer\"].append(utils.erase(\"W\"))\n",
    "token_mappings[\"tokenizer\"].append(utils.alpha())\n",
    "\n",
    "def filter_punct(t):\n",
    "    return None if t[\"pos\"] == \"PUNCT\" else t\n",
    "\n",
    "token_mappings[\"tagger\"].append(filter_punct)\n",
    "token_mappings[\"tagger\"].append(utils.rewrite({\n",
    "    'pos': {\n",
    "        'PROPN': 'NOUN'\n",
    "    },\n",
    "    'tag': {\n",
    "        'NNP': 'NN',\n",
    "        'NNPS': 'NNS',\n",
    "    }\n",
    "}))\n",
    "\n"
   ]
  },
  {
   "cell_type": "code",
   "execution_count": 13,
   "id": "ultimate-example",
   "metadata": {},
   "outputs": [
    {
     "name": "stderr",
     "output_type": "stream",
     "text": [
      "Importing <string>: 100%|██████████| 1/1 [00:00<00:00, 68.64it/s]\n"
     ]
    }
   ],
   "source": [
    "from vectorian.importers import StringImporter\n",
    "from vectorian.session import LabSession\n",
    "from vectorian.metrics import CosineMetric, TokenSimilarityMetric\n",
    "from vectorian.metrics import AlignmentSentenceMetric\n",
    "from vectorian.alignment import WatermanSmithBeyer, ConstantGapCost\n",
    "\n",
    "im = StringImporter(nlp)\n",
    "doc = im(\"At the station is an art museum.\")\n",
    "\n",
    "metric = AlignmentSentenceMetric(\n",
    "    token_metric=TokenSimilarityMetric(glove, CosineMetric()),\n",
    "    alignment=WatermanSmithBeyer(gap=ConstantGapCost(0), zero=0.25))\n",
    "\n",
    "session = LabSession(\n",
    "    [doc],\n",
    "    static_embeddings=[glove],\n",
    "    token_mappings=token_mappings)\n",
    "\n",
    "index = session.partition(\"sentence\").index(metric, nlp)"
   ]
  },
  {
   "cell_type": "code",
   "execution_count": 14,
   "id": "handmade-newton",
   "metadata": {},
   "outputs": [
    {
     "data": {
      "text/plain": [
       "array([ 0.10564262,  0.09795339,  0.00622643, -0.01882638, -0.26887512,\n",
       "        0.01853382, -0.182363  ,  0.05094859, -0.03497178, -0.25857762],\n",
       "      dtype=float32)"
      ]
     },
     "execution_count": 14,
     "metadata": {},
     "output_type": "execute_result"
    }
   ],
   "source": [
    "import numpy as np\n",
    "v = list(session.embeddings)[0].word_vec(\"railway\")\n",
    "(v / np.linalg.norm(v))[:10]"
   ]
  },
  {
   "cell_type": "code",
   "execution_count": 17,
   "id": "sitting-amount",
   "metadata": {},
   "outputs": [
    {
     "data": {
      "application/vnd.jupyter.widget-view+json": {
       "model_id": "",
       "version_major": 2,
       "version_minor": 0
      },
      "text/plain": [
       "FloatProgress(value=0.0, layout=Layout(width='100%'), max=1.0)"
      ]
     },
     "metadata": {},
     "output_type": "display_data"
    },
    {
     "name": "stdout",
     "output_type": "stream",
     "text": [
      "fill_matrix [-0.05316912  0.1222051   0.0792319  -0.03397769  0.21265252 -0.05686188\n",
      " -0.11944044 -0.2277743   0.02206284  0.04720843]\n",
      "fill_matrix [-0.05316912  0.1222051   0.0792319  -0.03397769  0.21265252 -0.05686188\n",
      " -0.11944044 -0.2277743   0.02206284  0.04720843]\n",
      "similarity_matrix {'matrix': array([[0.6026792 ],\n",
      "       [0.6026792 ],\n",
      "       [0.3087222 ],\n",
      "       [0.5977156 ],\n",
      "       [0.58631784],\n",
      "       [0.6044975 ],\n",
      "       [0.4451513 ],\n",
      "       [1.        ]], dtype=float32), 'rows': <built-in method  of PyCapsule object at 0x7ff9eec71540>, 'columns': <built-in method  of PyCapsule object at 0x7ff9eec71480>}\n"
     ]
    },
    {
     "data": {
      "text/html": [
       "\n",
       "\t<iframe\n",
       "\t\tid=\"vectorian-1616079156400313000-140711588395856-1\"\n",
       "\t\twidth=\"100%\"\n",
       "\t\theight=\"100%\"\n",
       "\t\tsrcdoc=\"&lt;!DOCTYPE html&gt;&lt;html&gt;&lt;head&gt;&lt;meta charset=&quot;utf-8&quot;&gt;&lt;meta name=&quot;viewport&quot; content=&quot;width=device-width, initial-scale=1&quot;&gt;&lt;link rel=&quot;stylesheet&quot; href=&quot;https://cdn.jsdelivr.net/npm/bulma@0.9.1/css/bulma.min.css&quot; /&gt;&lt;/head&gt;&lt;body&gt;&lt;div class=&quot;container&quot; height=&quot;100%&quot;&gt;&lt;div class=&quot;section&quot;&gt;&lt;article class=&quot;media&quot;&gt;&lt;div class=&quot;media-left&quot;&gt;&lt;p class=&quot;image is-64x64&quot;&gt;&lt;span class=&quot;buttons&quot;&gt;&lt;span class=&quot;has-text-weight-bold&quot;&gt;60.4%&lt;/span&gt;&lt;/span&gt;&lt;/p&gt;&lt;/div&gt;&lt;div class=&quot;media-content&quot;&gt;&lt;div class=&quot;is-pulled-right&quot;&gt;&lt;small&gt;&lt;/small&gt;&lt;/div&gt;&lt;div&gt;&lt;br /&gt;&lt;br /&gt;&lt;span&gt;&lt;span class=&quot;has-text-grey-light&quot;&gt;At the station is an &lt;/span&gt; &lt;span&gt;&lt;span style=&quot;display:inline-table;&quot;&gt;&lt;span style=&quot;display:table-row;&quot;&gt;&lt;span style=&quot;display:table-cell;&quot;&gt;&lt;span class=&quot;has-text-black has-text-weight-bold&quot;&gt;art&lt;/span&gt;&lt;/span&gt; &lt;span style=&quot;display:table-cell;&quot;&gt;&lt;span class=&quot;tag is-light&quot;&gt;picture&lt;/span&gt;&lt;/span&gt; &lt;span style=&quot;display:table-cell; opacity:1.0;&quot;&gt;&lt;span class=&quot;tag is-warning&quot;&gt;60%&lt;/span&gt;&lt;/span&gt;&lt;/span&gt;&lt;/span&gt;&lt;/span&gt; &lt;span class=&quot;has-text-grey-light&quot;&gt;museum&lt;/span&gt;&lt;/span&gt;&lt;/div&gt;&lt;/div&gt;&lt;/article&gt;&lt;/div&gt;&lt;/div&gt;&lt;/body&gt;&lt;/html&gt;&lt;script&gt;\n",
       "\t\t(function() {\n",
       "\t\t\tvar f = parent.document.getElementById(&#x27;vectorian-1616079156400313000-140711588395856-1&#x27;);\n",
       "\t\t\tf.height = f.contentWindow.document.body.scrollHeight + &#x27;px&#x27;;\n",
       "\t\t})();\n",
       "\t&lt;/script&gt;\"\n",
       "\t\tonload=\"\n",
       "\t\t(function() {\n",
       "\t\t\tvar f = parent.document.getElementById('vectorian-1616079156400313000-140711588395856-1');\n",
       "\t\t\tf.height = f.contentWindow.document.body.scrollHeight + 'px';\n",
       "\t\t})();\n",
       "\t\"\n",
       "\t\tframeborder=\"0\"\n",
       "\t\tallowfullscreen\n",
       "\t></iframe>\n",
       "\t"
      ],
      "text/plain": [
       "<vectorian.session.LabResult at 0x7ff9dc2cc100>"
      ]
     },
     "execution_count": 17,
     "metadata": {},
     "output_type": "execute_result"
    }
   ],
   "source": [
    "def debug(hook, args):\n",
    "    if hook == 'fill_matrix':\n",
    "        print(hook, args['t'][:10])\n",
    "    if hook == 'similarity_matrix':\n",
    "        print(hook, args)\n",
    "    #print(hook)\n",
    "\n",
    "index.find(\"picture\", n=1, debug=debug)"
   ]
  },
  {
   "cell_type": "code",
   "execution_count": null,
   "id": "vertical-opinion",
   "metadata": {},
   "outputs": [],
   "source": []
  },
  {
   "cell_type": "code",
   "execution_count": null,
   "id": "appointed-interest",
   "metadata": {},
   "outputs": [],
   "source": []
  }
 ],
 "metadata": {
  "kernelspec": {
   "display_name": "Python 3",
   "language": "python",
   "name": "python3"
  },
  "language_info": {
   "codemirror_mode": {
    "name": "ipython",
    "version": 3
   },
   "file_extension": ".py",
   "mimetype": "text/x-python",
   "name": "python",
   "nbconvert_exporter": "python",
   "pygments_lexer": "ipython3",
   "version": "3.8.5"
  }
 },
 "nbformat": 4,
 "nbformat_minor": 5
}

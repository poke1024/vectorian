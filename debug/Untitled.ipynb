{
 "cells": [
  {
   "cell_type": "code",
   "execution_count": 1,
   "id": "exclusive-slave",
   "metadata": {},
   "outputs": [],
   "source": [
    "import numpy as np\n",
    "\n",
    "x = np.array([-0.0072517,-0.0193276,-0.0149888,-0.0527077,-0.0219264,0.0146801,0.0113693,0.036387,-0.0160948,0.0142471,-0.0308729,-0.0228216,0.0197928,-0.00544991,0.0118018,0.0512357,-0.0181088,-0.00772532,-0.0364812,0.00189513,-0.00191947,0.00665262,-0.021374,0.010104,-0.00857085,-0.0333865,0.00449376,-0.0110102,-0.0150824,0.0989093,0.000362827,0.00749817,-0.00543,-0.0050601,-0.0136851,-0.00661086,-0.0273833,-0.0967763,0.000339407,0.00717893,-0.0247099,-0.0332084,0.0107581,-0.0328398,-0.0167047,-0.0202006,-0.0266565,0.0142229,-0.0570797,0.00131633,-0.00857016,-0.00405874,0.00971009,0.00444737,-0.022115,-0.0193889,0.0116127,0.0346967,0.036448,0.016773,0.024334,0.00390436,-0.00997996,0.018918,0.0134042,0.00970138,-0.0273965,-0.00430797,0.00610301,0.0187134,0.0446877,-0.0123575,-0.0469951,0.0219964,-0.0100873,0.00175133,-0.00556353,-0.0196795,0.000726143,0.000684535,0.00455683,0.0138868,-0.0165347,0.0350061,-0.0165814,0.012352,-0.0224697,0.0163484,-0.00964853,-0.0063181,-0.0359369,0.000327202,0.0926582,-0.0183958,0.0270203,-0.0220275,0.0157127,-0.0165035,0.0309955,0.0177697,0.00268224,-0.00929149,0.0238312,0.00640837,0.0356675,-0.0109,-0.00192168,0.0132283,0.0220428,0.0154038,-0.0035703,0.0253997,-0.004891,0.0150905,0.0301723,0.0473669,-0.0152338,0.00223085,-0.0092939,-0.00422206,-0.00423545,-0.026939,0.00875872,-0.00806301,-0.0222056,0.0121803,-0.0174519,-0.00974089,-0.00861803,-0.00923141,0.0143504,-0.0061177,0.0247009,-0.0292472,-0.0194458,-0.0081212,-0.0356304,-0.035834,-0.0177393,-0.0217801,-0.0388887,-0.0076277,-0.028748,-0.00297334,-0.0228548,0.00747635,-0.108022,-0.00988702,0.00281152,-0.00643003,-0.0410864,0.00178827,0.0370066,-0.00175653,0.000440586,0.00861645,0.0402597,0.0132069,-0.00701482,-0.0289846,0.0160618,0.0133537,-0.000433748,-0.0369513,0.0173566,0.00261166,0.0263175,-0.00996239,0.0100943,-0.00212303,-0.00939696,-0.0146719,-0.0256213,0.0189317,0.0258114,0.00820165,0.00645122,-0.0100276,-0.0129185,-0.0256343,-0.0218257,-0.0250985,0.0149111,0.0334004,0.0252494,0.0322499,0.00848199,-0.00280296,-0.0127327,0.0225111,-0.00635339,-0.00933378,-0.00986209,-0.0427601,0.00252624,0.00573822,0.0151507,-0.00231423,0.0214282,-0.065586,0.0612042,0.0652295,0.0219155,0.0150884,0.0457455,0.00819505,0.041896,0.00247253,-0.0284248,-0.00364177,-0.0179564,0.0130073,-0.0188199,-0.0170997,0.00178675,-0.00412696,-0.0218299,0.0164586,0.00528486,-0.00126934,-0.0357945,-0.00869646,-0.0399828,0.00755631,-0.0277383,-0.00501714,0.0110878,-0.00554293,0.044786,0.000957434,-0.0147502,-0.0130192,0.00436083,0.0124739,0.0873499,0.0110978,0.0104985,-0.0263252,-0.0154089,0.00746308,0.0112049,0.00747513,0.0135642,0.015247,0.192655,0.0176787,0.0192375,0.00181098,0.000993927,0.00293009,-0.0747322,0.0148335,-0.0127952,0.0310046,0.0216169,0.0145223,0.0368933,-0.00367253,-0.00331374,-0.0267328,-0.00957018,-0.065498,0.115699,0.0106783,0.0271993,-0.0142774,0.0115499,-0.0180051,0.00227382,-0.0335592,0.0368739,-0.0142405,0.0503106,0.0230492,-0.00210775,0.00668504,-0.0130521,-0.0275724,0.0303647,-0.0171128,0.00479436,0.00703794,-0.0263987,-0.0298404,-0.00581748,-0.00936057,0.0059473,0.0230163,0.00477584,-0.00416509,-0.00945044,-0.0250511,0.013062,0.0131064,-0.00572554,-0.0219203,0.0173558,0.04871,-0.0134156,-0.0184355])"
   ]
  },
  {
   "cell_type": "code",
   "execution_count": 14,
   "id": "critical-stone",
   "metadata": {},
   "outputs": [],
   "source": [
    "#x / np.linalg.norm(x)"
   ]
  },
  {
   "cell_type": "code",
   "execution_count": 12,
   "id": "rental-courtesy",
   "metadata": {},
   "outputs": [
    {
     "data": {
      "text/plain": [
       "array([[1, 3],\n",
       "       [0, 7]])"
      ]
     },
     "execution_count": 12,
     "metadata": {},
     "output_type": "execute_result"
    }
   ],
   "source": [
    "import numpy as np\n",
    "M = np.array([\n",
    "    [1, 3],\n",
    "    [0, 7]\n",
    "])\n",
    "M"
   ]
  },
  {
   "cell_type": "code",
   "execution_count": 13,
   "id": "floral-antigua",
   "metadata": {},
   "outputs": [
    {
     "data": {
      "text/plain": [
       "array([1, 1])"
      ]
     },
     "execution_count": 13,
     "metadata": {},
     "output_type": "execute_result"
    }
   ],
   "source": [
    "np.argmax(M, axis=1)"
   ]
  },
  {
   "cell_type": "code",
   "execution_count": null,
   "id": "overhead-pulse",
   "metadata": {},
   "outputs": [],
   "source": []
  },
  {
   "cell_type": "code",
   "execution_count": 30,
   "id": "miniature-supplier",
   "metadata": {},
   "outputs": [
    {
     "data": {
      "text/plain": [
       "array([ 3.7416575, 11.224972 ,  7.071068 ], dtype=float32)"
      ]
     },
     "execution_count": 30,
     "metadata": {},
     "output_type": "execute_result"
    }
   ],
   "source": [
    "import numpy as np\n",
    "data = np.array([\n",
    "    [1, 2, 3],\n",
    "    [10, 5, 1],\n",
    "    [0, 1, 7]\n",
    "], dtype=np.float32)\n",
    "np.linalg.norm(data, axis=1)"
   ]
  },
  {
   "cell_type": "code",
   "execution_count": 31,
   "id": "pressed-waterproof",
   "metadata": {},
   "outputs": [
    {
     "data": {
      "text/plain": [
       "7.0710678118654755"
      ]
     },
     "execution_count": 31,
     "metadata": {},
     "output_type": "execute_result"
    }
   ],
   "source": [
    "np.sqrt(1 * 1 + 7*7)"
   ]
  },
  {
   "cell_type": "code",
   "execution_count": 64,
   "id": "right-frederick",
   "metadata": {},
   "outputs": [
    {
     "data": {
      "text/plain": [
       "array([[0.26726124, 0.5345225 , 0.8017837 ],\n",
       "       [0.8908708 , 0.4454354 , 0.08908708],\n",
       "       [0.        , 0.14142136, 0.98994946]], dtype=float32)"
      ]
     },
     "execution_count": 64,
     "metadata": {},
     "output_type": "execute_result"
    }
   ],
   "source": [
    "data / np.linalg.norm(data, axis=1)[:, np.newaxis]"
   ]
  },
  {
   "cell_type": "code",
   "execution_count": 50,
   "id": "expanded-witness",
   "metadata": {},
   "outputs": [
    {
     "data": {
      "text/plain": [
       "array([0.        , 0.14142136, 0.98994949])"
      ]
     },
     "execution_count": 50,
     "metadata": {},
     "output_type": "execute_result"
    }
   ],
   "source": [
    "np.array([0, 1, 7]) / np.sqrt(1 * 1 + 7*7)"
   ]
  },
  {
   "cell_type": "code",
   "execution_count": 66,
   "id": "abroad-argentina",
   "metadata": {},
   "outputs": [
    {
     "data": {
      "text/plain": [
       "array([0.89087081, 0.4454354 , 0.08908708])"
      ]
     },
     "execution_count": 66,
     "metadata": {},
     "output_type": "execute_result"
    }
   ],
   "source": [
    "np.array([10, 5, 1]) / np.sqrt(10 * 10 + 5 * 5 + 1 * 1)"
   ]
  },
  {
   "cell_type": "code",
   "execution_count": 67,
   "id": "accepting-triangle",
   "metadata": {},
   "outputs": [
    {
     "data": {
      "text/plain": [
       "array([0.26726124, 0.53452248, 0.80178373])"
      ]
     },
     "execution_count": 67,
     "metadata": {},
     "output_type": "execute_result"
    }
   ],
   "source": [
    "np.array([1, 2, 3]) / np.sqrt(1 * 1 + 2 * 2 + 3 * 3)"
   ]
  },
  {
   "cell_type": "code",
   "execution_count": 6,
   "id": "standing-shopping",
   "metadata": {},
   "outputs": [
    {
     "data": {
      "text/plain": [
       "array([[ 48,  20,  14],\n",
       "       [108,  44,  32]])"
      ]
     },
     "execution_count": 6,
     "metadata": {},
     "output_type": "execute_result"
    }
   ],
   "source": [
    "a = np.array([\n",
    "    [1, 2, 3],\n",
    "    [4, 5, 6]\n",
    "])\n",
    "\n",
    "b = np.array([\n",
    "    [2, 8, 10],\n",
    "    [1, 2, 5],\n",
    "    [1, 2, 3]\n",
    "])\n",
    "\n",
    "c = np.array([\n",
    "    [12, 3, 20],\n",
    "    [2, 1, 3],\n",
    "    [0, 4, 1]\n",
    "])\n",
    "\n",
    "np.linalg.multi_dot([\n",
    "    a, b.T\n",
    "])"
   ]
  },
  {
   "cell_type": "code",
   "execution_count": 28,
   "id": "accomplished-proxy",
   "metadata": {},
   "outputs": [
    {
     "data": {
      "text/plain": [
       "array([[1, 0, 1],\n",
       "       [1, 0, 0],\n",
       "       [0, 1, 0]])"
      ]
     },
     "execution_count": 28,
     "metadata": {},
     "output_type": "execute_result"
    }
   ],
   "source": [
    "X = np.array([b, c])\n",
    "\n",
    "sel = np.argmax(X, axis=0)\n",
    "sel"
   ]
  },
  {
   "cell_type": "code",
   "execution_count": 50,
   "id": "american-thinking",
   "metadata": {},
   "outputs": [
    {
     "data": {
      "text/plain": [
       "array([[1, 2, 2],\n",
       "       [2, 1, 1]])"
      ]
     },
     "execution_count": 50,
     "metadata": {},
     "output_type": "execute_result"
    }
   ],
   "source": [
    "weights = np.apply_along_axis(\n",
    "    lambda arr: np.bincount(arr, minlength=X.shape[0]), 1, sel)\n",
    "weights.T"
   ]
  },
  {
   "cell_type": "code",
   "execution_count": 53,
   "id": "olive-information",
   "metadata": {},
   "outputs": [
    {
     "data": {
      "text/plain": [
       "array([0.66666667, 4.66666667, 3.33333333])"
      ]
     },
     "execution_count": 53,
     "metadata": {},
     "output_type": "execute_result"
    }
   ],
   "source": [
    "mag = np.array([\n",
    "    [1, 2, 3],\n",
    "    [0.5, 10, 4]\n",
    "])\n",
    "\n",
    "np.average(mag, axis=0, weights=weights.T)"
   ]
  },
  {
   "cell_type": "code",
   "execution_count": 54,
   "id": "senior-version",
   "metadata": {},
   "outputs": [
    {
     "data": {
      "text/plain": [
       "4.666666666666667"
      ]
     },
     "execution_count": 54,
     "metadata": {},
     "output_type": "execute_result"
    }
   ],
   "source": [
    "(2 * 2 + 1 * 10) / 3"
   ]
  },
  {
   "cell_type": "code",
   "execution_count": 41,
   "id": "utility-option",
   "metadata": {},
   "outputs": [
    {
     "data": {
      "text/plain": [
       "array([[12,  8, 20],\n",
       "       [ 2,  2,  5],\n",
       "       [ 1,  4,  3]])"
      ]
     },
     "execution_count": 41,
     "metadata": {},
     "output_type": "execute_result"
    }
   ],
   "source": [
    "np.choose(sel.reshape(-1), X.reshape(X.shape[0], -1)).reshape(X[0].shape)"
   ]
  },
  {
   "cell_type": "code",
   "execution_count": 8,
   "id": "fitting-fleece",
   "metadata": {},
   "outputs": [
    {
     "data": {
      "text/plain": [
       "array([[ 3.5,  9.5, 11.5],\n",
       "       [ 2.5,  3.5,  6.5],\n",
       "       [ 2.5,  3.5,  4.5]])"
      ]
     },
     "execution_count": 8,
     "metadata": {},
     "output_type": "execute_result"
    }
   ],
   "source": [
    "c = b + 3\n",
    "\n",
    "np.average([b, c], axis=0)"
   ]
  },
  {
   "cell_type": "code",
   "execution_count": null,
   "id": "basic-wichita",
   "metadata": {},
   "outputs": [],
   "source": []
  },
  {
   "cell_type": "code",
   "execution_count": 10,
   "id": "official-sarah",
   "metadata": {},
   "outputs": [
    {
     "data": {
      "text/plain": [
       "3.5"
      ]
     },
     "execution_count": 10,
     "metadata": {},
     "output_type": "execute_result"
    }
   ],
   "source": [
    "(2 + 5) / 2"
   ]
  },
  {
   "cell_type": "code",
   "execution_count": 72,
   "id": "healthy-fossil",
   "metadata": {},
   "outputs": [
    {
     "data": {
      "text/plain": [
       "array([[10.89143914,  6.87298335,  6.        ],\n",
       "       [16.89894914, 10.63950324,  9.40491835]])"
      ]
     },
     "execution_count": 72,
     "metadata": {},
     "output_type": "execute_result"
    }
   ],
   "source": [
    "np.sum(np.sqrt(a[:, np.newaxis] * b[np.newaxis, :]), axis=-1)"
   ]
  },
  {
   "cell_type": "code",
   "execution_count": 74,
   "id": "attended-webmaster",
   "metadata": {},
   "outputs": [
    {
     "data": {
      "text/plain": [
       "array([2.44948974, 3.87298335])"
      ]
     },
     "execution_count": 74,
     "metadata": {},
     "output_type": "execute_result"
    }
   ],
   "source": [
    "np.sqrt(np.sum(a, axis=-1))"
   ]
  },
  {
   "cell_type": "code",
   "execution_count": 68,
   "id": "variable-digit",
   "metadata": {},
   "outputs": [
    {
     "data": {
      "text/plain": [
       "array([[[-1, -6, -7],\n",
       "        [ 0,  0, -2],\n",
       "        [ 0,  0,  0]],\n",
       "\n",
       "       [[ 2, -3, -4],\n",
       "        [ 3,  3,  1],\n",
       "        [ 3,  3,  3]]])"
      ]
     },
     "execution_count": 68,
     "metadata": {},
     "output_type": "execute_result"
    }
   ],
   "source": [
    "d = a[:, np.newaxis] - np.broadcast_to(b, (len(a),) + b.shape)\n",
    "d"
   ]
  },
  {
   "cell_type": "code",
   "execution_count": 69,
   "id": "uniform-modeling",
   "metadata": {},
   "outputs": [
    {
     "data": {
      "text/plain": [
       "array([[[-1, -6, -7],\n",
       "        [ 0,  0, -2],\n",
       "        [ 0,  0,  0]],\n",
       "\n",
       "       [[ 2, -3, -4],\n",
       "        [ 3,  3,  1],\n",
       "        [ 3,  3,  3]]])"
      ]
     },
     "execution_count": 69,
     "metadata": {},
     "output_type": "execute_result"
    }
   ],
   "source": [
    "d = a[:, np.newaxis] - b[np.newaxis, :]\n",
    "d"
   ]
  },
  {
   "cell_type": "code",
   "execution_count": 62,
   "id": "major-statement",
   "metadata": {},
   "outputs": [],
   "source": [
    "#d = np.broadcast_to(a, (len(b),) + a.shape) - b[:, np.newaxis]\n",
    "#d"
   ]
  },
  {
   "cell_type": "code",
   "execution_count": 63,
   "id": "present-handle",
   "metadata": {},
   "outputs": [
    {
     "data": {
      "text/plain": [
       "array([[86,  4,  0],\n",
       "       [29, 19, 27]])"
      ]
     },
     "execution_count": 63,
     "metadata": {},
     "output_type": "execute_result"
    }
   ],
   "source": [
    "d2 = np.sum(np.power(np.abs(d), 2), axis=-1)\n",
    "d2"
   ]
  },
  {
   "cell_type": "code",
   "execution_count": 36,
   "id": "ethical-flavor",
   "metadata": {},
   "outputs": [
    {
     "data": {
      "text/plain": [
       "array([10.89143914, 16.89894914])"
      ]
     },
     "execution_count": 36,
     "metadata": {},
     "output_type": "execute_result"
    }
   ],
   "source": [
    "np.sum(np.sqrt(a * b), axis=1)"
   ]
  },
  {
   "cell_type": "code",
   "execution_count": 74,
   "id": "useful-ghana",
   "metadata": {},
   "outputs": [
    {
     "data": {
      "text/plain": [
       "array([[1, 2, 3],\n",
       "       [4, 5, 6],\n",
       "       [0, 0, 1]])"
      ]
     },
     "execution_count": 74,
     "metadata": {},
     "output_type": "execute_result"
    }
   ],
   "source": [
    "np.vstack([a, b])"
   ]
  },
  {
   "cell_type": "code",
   "execution_count": null,
   "id": "sticky-motor",
   "metadata": {},
   "outputs": [],
   "source": []
  },
  {
   "cell_type": "code",
   "execution_count": 38,
   "id": "former-testament",
   "metadata": {},
   "outputs": [
    {
     "data": {
      "text/plain": [
       "array([86, 19])"
      ]
     },
     "execution_count": 38,
     "metadata": {},
     "output_type": "execute_result"
    }
   ],
   "source": [
    "d = np.sum(np.power(np.abs(a - b), 2), axis=1)\n",
    "d"
   ]
  },
  {
   "cell_type": "code",
   "execution_count": 64,
   "id": "smart-forth",
   "metadata": {},
   "outputs": [
    {
     "data": {
      "text/plain": [
       "array([[0.07263815, 0.8       , 1.        ],\n",
       "       [0.46148352, 0.56411011, 0.48038476]])"
      ]
     },
     "execution_count": 64,
     "metadata": {},
     "output_type": "execute_result"
    }
   ],
   "source": [
    "1 - np.power(d2, 1 / 2) * 0.1"
   ]
  },
  {
   "cell_type": "code",
   "execution_count": 30,
   "id": "median-mining",
   "metadata": {},
   "outputs": [
    {
     "data": {
      "text/plain": [
       "array([0.48038476, 1.        ])"
      ]
     },
     "execution_count": 30,
     "metadata": {},
     "output_type": "execute_result"
    }
   ],
   "source": [
    "np.maximum(0, 1 - np.power(d, 1 / 2) * 0.1)"
   ]
  },
  {
   "cell_type": "code",
   "execution_count": 33,
   "id": "swedish-queens",
   "metadata": {},
   "outputs": [
    {
     "data": {
      "text/plain": [
       "array([[ 2, 16, 30],\n",
       "       [ 8, 40, 60]])"
      ]
     },
     "execution_count": 33,
     "metadata": {},
     "output_type": "execute_result"
    }
   ],
   "source": []
  },
  {
   "cell_type": "code",
   "execution_count": null,
   "id": "grateful-shark",
   "metadata": {},
   "outputs": [],
   "source": []
  }
 ],
 "metadata": {
  "kernelspec": {
   "display_name": "Python 3",
   "language": "python",
   "name": "python3"
  },
  "language_info": {
   "codemirror_mode": {
    "name": "ipython",
    "version": 3
   },
   "file_extension": ".py",
   "mimetype": "text/x-python",
   "name": "python",
   "nbconvert_exporter": "python",
   "pygments_lexer": "ipython3",
   "version": "3.8.5"
  }
 },
 "nbformat": 4,
 "nbformat_minor": 5
}

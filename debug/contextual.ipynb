{
 "cells": [
  {
   "cell_type": "code",
   "execution_count": 1,
   "id": "stunning-finger",
   "metadata": {},
   "outputs": [],
   "source": [
    "import spacy"
   ]
  },
  {
   "cell_type": "code",
   "execution_count": 2,
   "id": "compatible-colony",
   "metadata": {},
   "outputs": [
    {
     "data": {
      "text/plain": [
       "'3.0.3'"
      ]
     },
     "execution_count": 2,
     "metadata": {},
     "output_type": "execute_result"
    }
   ],
   "source": [
    "spacy.__version__"
   ]
  },
  {
   "cell_type": "code",
   "execution_count": 3,
   "id": "inappropriate-baker",
   "metadata": {},
   "outputs": [],
   "source": [
    "nlp = spacy.load(\"en_core_web_trf\")"
   ]
  },
  {
   "cell_type": "code",
   "execution_count": 4,
   "id": "rapid-nickname",
   "metadata": {},
   "outputs": [
    {
     "data": {
      "text/plain": [
       "['transformer', 'tagger', 'parser', 'ner', 'attribute_ruler', 'lemmatizer']"
      ]
     },
     "execution_count": 4,
     "metadata": {},
     "output_type": "execute_result"
    }
   ],
   "source": [
    "nlp.pipe_names"
   ]
  },
  {
   "cell_type": "code",
   "execution_count": 5,
   "id": "nuclear-scene",
   "metadata": {},
   "outputs": [
    {
     "data": {
      "text/plain": [
       "'core_web_trf'"
      ]
     },
     "execution_count": 5,
     "metadata": {},
     "output_type": "execute_result"
    }
   ],
   "source": [
    "nlp.meta['name']"
   ]
  },
  {
   "cell_type": "code",
   "execution_count": 6,
   "id": "aggregate-subsection",
   "metadata": {},
   "outputs": [],
   "source": [
    "#nlp(\"hello there\")._.trf_data"
   ]
  },
  {
   "cell_type": "code",
   "execution_count": 7,
   "id": "exterior-medline",
   "metadata": {},
   "outputs": [],
   "source": [
    "from pathlib import Path\n",
    "\n",
    "import os\n",
    "import sys\n",
    "\n",
    "current_path = Path(os.getcwd())\n",
    "sys.path.append(str(current_path.parent))\n",
    "os.environ['VECTORIAN_CPP_IMPORT'] = \"1\""
   ]
  },
  {
   "cell_type": "code",
   "execution_count": 8,
   "id": "certain-wages",
   "metadata": {},
   "outputs": [
    {
     "name": "stdout",
     "output_type": "stream",
     "text": [
      "Matching checksum for /Users/arbeit/Projects/vectorian-2021/vectorian/core/cpp/core.cpp --> not compiling\n"
     ]
    },
    {
     "name": "stderr",
     "output_type": "stream",
     "text": [
      "Importing /Users/arbeit/Wise Children Mini.txt: 100%|██████████| 5/5 [00:02<00:00,  1.73it/s]\n"
     ]
    }
   ],
   "source": [
    "import vectorian\n",
    "\n",
    "from vectorian.importers import NovelImporter\n",
    "from vectorian.session import LabSession\n",
    "from vectorian.embeddings import SpacyTransformerEmbedding\n",
    "\n",
    "my_embedding = SpacyTransformerEmbedding(nlp).compressed(100)\n",
    "\n",
    "# contextual embeddings\n",
    "im = NovelImporter(nlp, embeddings=[my_embedding])\n",
    "\n",
    "#im = NovelImporter(nlp)\n",
    "doc = im(\"/Users/arbeit/Wise Children Mini.txt\")"
   ]
  },
  {
   "cell_type": "code",
   "execution_count": 9,
   "id": "academic-davis",
   "metadata": {},
   "outputs": [
    {
     "data": {
      "text/plain": [
       "{'spacy/core_web_trf/3.0.0/pca:100': <vectorian.embeddings.ProxyVectorsRef at 0x7f83ec4312e0>}"
      ]
     },
     "execution_count": 9,
     "metadata": {},
     "output_type": "execute_result"
    }
   ],
   "source": [
    "doc.contextual_embeddings"
   ]
  },
  {
   "cell_type": "code",
   "execution_count": 10,
   "id": "crazy-motel",
   "metadata": {},
   "outputs": [
    {
     "data": {
      "text/plain": [
       "(837, 100)"
      ]
     },
     "execution_count": 10,
     "metadata": {},
     "output_type": "execute_result"
    }
   ],
   "source": [
    "doc.contextual_embeddings['spacy/core_web_trf/3.0.0/pca:100'].open().unmodified.shape"
   ]
  },
  {
   "cell_type": "code",
   "execution_count": 9,
   "id": "moved-russell",
   "metadata": {},
   "outputs": [],
   "source": [
    "doc.save(\"/Users/arbeit/Desktop/my_example_doc\")"
   ]
  },
  {
   "cell_type": "code",
   "execution_count": 9,
   "id": "integrated-simulation",
   "metadata": {},
   "outputs": [],
   "source": [
    "from vectorian.corpus.document import Document\n",
    "doc = Document.load(\"/Users/arbeit/Desktop/my_example_doc\")"
   ]
  },
  {
   "cell_type": "code",
   "execution_count": 9,
   "id": "nearby-oracle",
   "metadata": {},
   "outputs": [
    {
     "name": "stdout",
     "output_type": "stream",
     "text": [
      "?? 837\n"
     ]
    }
   ],
   "source": [
    "# note: you may also specify StackedEmbedding here.\n",
    "session = LabSession(\n",
    "    [doc],\n",
    "    embeddings=[my_embedding],\n",
    "    normalizers=\"default\")"
   ]
  },
  {
   "cell_type": "code",
   "execution_count": 12,
   "id": "current-magnitude",
   "metadata": {},
   "outputs": [],
   "source": [
    "from vectorian.importers import StringImporter\n",
    "from vectorian.session import LabSession\n",
    "from vectorian.metrics import CosineSimilarity, TokenSimilarity\n",
    "from vectorian.metrics import AlignmentSentenceSimilarity\n",
    "from vectorian.alignment import WatermanSmithBeyer, ConstantGapCost\n",
    "\n",
    "metric = AlignmentSentenceSimilarity(\n",
    "    token_metric=TokenSimilarity(my_embedding, CosineSimilarity()),\n",
    "    alignment=WatermanSmithBeyer(gap=ConstantGapCost(0), zero=0.1))\n",
    "\n",
    "index = session.partition(\"sentence\").index(metric, nlp)"
   ]
  },
  {
   "cell_type": "code",
   "execution_count": 13,
   "id": "final-recipe",
   "metadata": {},
   "outputs": [
    {
     "data": {
      "application/vnd.jupyter.widget-view+json": {
       "model_id": "",
       "version_major": 2,
       "version_minor": 0
      },
      "text/plain": [
       "FloatProgress(value=0.0, layout=Layout(width='100%'), max=1.0)"
      ]
     },
     "metadata": {},
     "output_type": "display_data"
    },
    {
     "data": {
      "text/html": [
       "\n",
       "\t<iframe\n",
       "\t\tid=\"vectorian-1616941040781947000-140555567099712-1\"\n",
       "\t\twidth=\"100%\"\n",
       "\t\theight=\"100%\"\n",
       "\t\tsrcdoc=\"&lt;!DOCTYPE html&gt;&lt;html&gt;&lt;head&gt;&lt;meta charset=&quot;utf-8&quot;&gt;&lt;meta name=&quot;viewport&quot; content=&quot;width=device-width, initial-scale=1&quot;&gt;&lt;link rel=&quot;stylesheet&quot; href=&quot;https://cdn.jsdelivr.net/npm/bulma@0.9.1/css/bulma.min.css&quot; /&gt;&lt;/head&gt;&lt;body&gt;&lt;div class=&quot;container&quot; height=&quot;100%&quot;&gt;&lt;div class=&quot;section&quot;&gt;&lt;article class=&quot;media&quot;&gt;&lt;div class=&quot;media-left&quot;&gt;&lt;p class=&quot;image is-64x64&quot;&gt;&lt;span class=&quot;buttons&quot;&gt;&lt;span class=&quot;has-text-weight-bold&quot;&gt;81.1%&lt;/span&gt;&lt;/span&gt;&lt;/p&gt;&lt;/div&gt;&lt;div class=&quot;media-content&quot;&gt;&lt;div class=&quot;is-pulled-right&quot;&gt;&lt;small class=&quot;is-italic&quot;&gt;Wise Children Mini, &lt;/small&gt;&lt;small&gt;par. 5&lt;/small&gt;&lt;/div&gt;&lt;div&gt;&lt;br /&gt;&lt;br /&gt;&lt;span&gt;&lt;span class=&quot;has-text-grey-light&quot;&gt;She had a soubrette personality . . . which had always been thwarted. &lt;/span&gt; &lt;span&gt;&lt;span style=&quot;display:inline-table;&quot;&gt;&lt;span style=&quot;display:table-row;&quot;&gt;&lt;span style=&quot;display:table-cell;&quot;&gt;&lt;span class=&quot;has-text-black has-text-weight-bold&quot;&gt;She&lt;/span&gt;&lt;/span&gt; &lt;span style=&quot;display:table-cell;&quot;&gt;&lt;span class=&quot;tag is-light&quot;&gt;they&lt;/span&gt;&lt;/span&gt; &lt;span style=&quot;display:table-cell; opacity:1.0;&quot;&gt;&lt;span class=&quot;tag is-warning&quot;&gt;69%&lt;/span&gt;&lt;/span&gt;&lt;/span&gt;&lt;/span&gt;&lt;/span&gt; &lt;span&gt;&lt;span style=&quot;display:inline-table;&quot;&gt;&lt;span style=&quot;display:table-row;&quot;&gt;&lt;span style=&quot;display:table-cell;&quot;&gt;&lt;span class=&quot;has-text-black has-text-weight-bold&quot;&gt;was&lt;/span&gt;&lt;/span&gt; &lt;span style=&quot;display:table-cell;&quot;&gt;&lt;span class=&quot;tag is-light&quot;&gt;went&lt;/span&gt;&lt;/span&gt; &lt;span style=&quot;display:table-cell; opacity:1.0;&quot;&gt;&lt;span class=&quot;tag is-success&quot;&gt;75%&lt;/span&gt;&lt;/span&gt;&lt;/span&gt;&lt;/span&gt;&lt;/span&gt; &lt;span&gt;&lt;span style=&quot;display:inline-table;&quot;&gt;&lt;span style=&quot;display:table-row;&quot;&gt;&lt;span style=&quot;display:table-cell;&quot;&gt;&lt;span class=&quot;has-text-black has-text-weight-bold&quot;&gt;at&lt;/span&gt;&lt;/span&gt; &lt;span style=&quot;display:table-cell;&quot;&gt;&lt;span class=&quot;tag is-light&quot;&gt;to&lt;/span&gt;&lt;/span&gt; &lt;span style=&quot;display:table-cell; opacity:1.0;&quot;&gt;&lt;span class=&quot;tag is-success&quot;&gt;82%&lt;/span&gt;&lt;/span&gt;&lt;/span&gt;&lt;/span&gt;&lt;/span&gt; &lt;span&gt;&lt;span style=&quot;display:inline-table;&quot;&gt;&lt;span style=&quot;display:table-row;&quot;&gt;&lt;span style=&quot;display:table-cell;&quot;&gt;&lt;span class=&quot;has-text-black has-text-weight-bold&quot;&gt;a&lt;/span&gt;&lt;/span&gt; &lt;span style=&quot;display:table-cell;&quot;&gt;&lt;span class=&quot;tag is-light&quot;&gt;a&lt;/span&gt;&lt;/span&gt; &lt;span style=&quot;display:table-cell; opacity:1.0;&quot;&gt;&lt;span class=&quot;tag is-success&quot;&gt;89%&lt;/span&gt;&lt;/span&gt;&lt;/span&gt;&lt;/span&gt;&lt;/span&gt; &lt;span&gt;&lt;span style=&quot;display:inline-table;&quot;&gt;&lt;span style=&quot;display:table-row;&quot;&gt;&lt;span style=&quot;display:table-cell;&quot;&gt;&lt;span class=&quot;has-text-black has-text-weight-bold&quot;&gt;secondary&lt;/span&gt;&lt;/span&gt; &lt;span style=&quot;display:table-cell;&quot;&gt;&lt;span class=&quot;tag is-light&quot;&gt;new&lt;/span&gt;&lt;/span&gt; &lt;span style=&quot;display:table-cell; opacity:1.0;&quot;&gt;&lt;span class=&quot;tag is-success&quot;&gt;87%&lt;/span&gt;&lt;/span&gt;&lt;/span&gt;&lt;/span&gt;&lt;/span&gt; &lt;span class=&quot;has-text-grey-light&quot;&gt;school round here towards the end of the 1914 war and my grandmother was asked in and they wondered what they were going to do with Kit, what she was going to do when she left &lt;/span&gt; &lt;span&gt;&lt;span style=&quot;display:inline-table;&quot;&gt;&lt;span style=&quot;display:table-row;&quot;&gt;&lt;span style=&quot;display:table-cell;&quot;&gt;&lt;span class=&quot;has-text-black has-text-weight-bold&quot;&gt;school&lt;/span&gt;&lt;/span&gt; &lt;span style=&quot;display:table-cell;&quot;&gt;&lt;span class=&quot;tag is-light&quot;&gt;house&lt;/span&gt;&lt;/span&gt; &lt;span style=&quot;display:table-cell; opacity:1.0;&quot;&gt;&lt;span class=&quot;tag is-success&quot;&gt;81%&lt;/span&gt;&lt;/span&gt;&lt;/span&gt;&lt;/span&gt;&lt;/span&gt; &lt;span class=&quot;has-text-grey-light&quot;&gt;and my grandmother said, in all innocence and seriousness, well, &lt;/span&gt;&lt;/span&gt;&lt;/div&gt;&lt;/div&gt;&lt;/article&gt;&lt;/div&gt;&lt;/div&gt;&lt;/body&gt;&lt;/html&gt;&lt;script&gt;\n",
       "\t\t(function() {\n",
       "\t\t\tvar f = parent.document.getElementById(&#x27;vectorian-1616941040781947000-140555567099712-1&#x27;);\n",
       "\t\t\tf.height = f.contentWindow.document.body.scrollHeight + &#x27;px&#x27;;\n",
       "\t\t})();\n",
       "\t&lt;/script&gt;\"\n",
       "\t\tonload=\"\n",
       "\t\t(function() {\n",
       "\t\t\tvar f = parent.document.getElementById('vectorian-1616941040781947000-140555567099712-1');\n",
       "\t\t\tf.height = f.contentWindow.document.body.scrollHeight + 'px';\n",
       "\t\t})();\n",
       "\t\"\n",
       "\t\tframeborder=\"0\"\n",
       "\t\tallowfullscreen\n",
       "\t></iframe>\n",
       "\t"
      ],
      "text/plain": [
       "<vectorian.session.LabResult at 0x7fd5a49231f0>"
      ]
     },
     "execution_count": 13,
     "metadata": {},
     "output_type": "execute_result"
    }
   ],
   "source": [
    "import numpy as np\n",
    "import json\n",
    "\n",
    "class Logger:\n",
    "    def __init__(self):\n",
    "        self._data = []\n",
    "        \n",
    "    def __call__(self, hook, args):\n",
    "        if isinstance(args, dict):\n",
    "            c_args = dict()\n",
    "            for k, v in args.items():\n",
    "                if isinstance(v, np.ndarray):\n",
    "                    c_args[k] = v.tolist()\n",
    "                elif not callable(v):\n",
    "                    c_args[k] = v\n",
    "            self._data.append((hook, c_args))\n",
    "        \n",
    "    def write(self, path):\n",
    "        with open(path, \"w\") as f:\n",
    "            f.write(json.dumps(self._data, indent=4))\n",
    "\n",
    "def debug(hook, args):\n",
    "    print(hook)\n",
    "    if hook == 'contextual_similarity_matrix':\n",
    "        print(args)\n",
    "    if hook == 'alignment/waterman-smith-beyer':\n",
    "        print(args)\n",
    "        \n",
    "logger = Logger()\n",
    "\n",
    "#index.find('less than two people', n=1, debug=logger)\n",
    "index.find('they went to a new house', n=1, debug=logger)"
   ]
  },
  {
   "cell_type": "code",
   "execution_count": 15,
   "id": "exceptional-contamination",
   "metadata": {},
   "outputs": [],
   "source": [
    "#logger.write(\"/Users/arbeit/Desktop/debug.json\")"
   ]
  },
  {
   "cell_type": "code",
   "execution_count": 30,
   "id": "straight-regular",
   "metadata": {},
   "outputs": [],
   "source": [
    "the_vectors = doc._contextual_embeddings[\"spacy/core_web_trf/3.0.0\"].open()"
   ]
  },
  {
   "cell_type": "code",
   "execution_count": 38,
   "id": "familiar-norway",
   "metadata": {},
   "outputs": [
    {
     "data": {
      "text/plain": [
       "array([ True,  True,  True,  True,  True, False,  True,  True,  True,\n",
       "        True])"
      ]
     },
     "execution_count": 38,
     "metadata": {},
     "output_type": "execute_result"
    }
   ],
   "source": [
    "session.documents[0]._contextual_embeddings['spacy/core_web_trf/3.0.0']._mask[:10]"
   ]
  },
  {
   "cell_type": "code",
   "execution_count": 32,
   "id": "accurate-elder",
   "metadata": {},
   "outputs": [
    {
     "data": {
      "text/plain": [
       "array([[-1.1437572 , -0.30409056,  0.86509454, -0.3199063 ,  1.0615821 ,\n",
       "         0.8518285 ,  0.8528243 , -0.175081  , -0.36473972, -1.5114549 ],\n",
       "       [-0.90024966, -0.7322849 , -0.06842124,  0.7308314 ,  1.216424  ,\n",
       "         0.43938926,  0.8470165 ,  1.5145514 ,  1.4551923 , -0.8445735 ],\n",
       "       [-0.56277   , -0.49145812, -0.16693702,  1.5647322 ,  2.4678462 ,\n",
       "         1.9017525 , -0.59321785,  0.45290664, -0.14161064,  0.071206  ],\n",
       "       [-0.37899685, -0.61451423,  0.47324866, -0.12926887,  1.2933862 ,\n",
       "        -1.2349845 ,  0.9202763 , -0.1379444 , -1.2901033 , -0.41220453],\n",
       "       [-0.16907969, -0.00849829, -0.05117168,  1.0145043 ,  0.6396689 ,\n",
       "         1.594169  ,  1.2766489 ,  0.5413009 ,  0.87566674,  0.12214404]],\n",
       "      dtype=float32)"
      ]
     },
     "execution_count": 32,
     "metadata": {},
     "output_type": "execute_result"
    }
   ],
   "source": [
    "the_vectors.unmodified[:5, :10]"
   ]
  },
  {
   "cell_type": "code",
   "execution_count": 33,
   "id": "advanced-volume",
   "metadata": {},
   "outputs": [
    {
     "data": {
      "text/plain": [
       "array([[-0.7902165 ,  0.07575585,  1.1739827 , -0.59203947,  1.5813203 ,\n",
       "         0.74327445,  0.5742742 , -0.41585118,  0.03771653, -1.5513849 ],\n",
       "       [-0.69410986,  0.5108354 ,  0.02819886,  0.65676075,  2.4084206 ,\n",
       "        -0.10979126,  0.82100856,  0.52209187,  1.8926276 , -0.86945325],\n",
       "       [ 0.01929621, -0.5152243 ,  0.20008804,  1.3415744 ,  2.3048139 ,\n",
       "         1.8081183 , -0.4049492 ,  0.09468511,  0.37712878, -0.5053382 ],\n",
       "       [-0.17340645, -0.6229514 ,  0.58971316, -0.26212963,  2.6693375 ,\n",
       "        -1.166319  ,  0.8589273 , -0.06591436, -1.6602695 , -0.707235  ],\n",
       "       [ 0.14447287, -0.79191524, -0.7875701 , -0.3217711 ,  2.4091105 ,\n",
       "         0.39358836, -0.5959423 , -0.78360283,  0.1599305 ,  0.6296562 ]],\n",
       "      dtype=float32)"
      ]
     },
     "execution_count": 33,
     "metadata": {},
     "output_type": "execute_result"
    }
   ],
   "source": [
    "the_vectors.unmodified[:5, :10]"
   ]
  },
  {
   "cell_type": "code",
   "execution_count": null,
   "id": "bulgarian-terrace",
   "metadata": {},
   "outputs": [],
   "source": []
  },
  {
   "cell_type": "code",
   "execution_count": 33,
   "id": "remarkable-burke",
   "metadata": {},
   "outputs": [
    {
     "data": {
      "text/plain": [
       "[[0.03435264155268669],\n",
       " [0.20815441012382507],\n",
       " [0.12758424878120422],\n",
       " [0.040174320340156555],\n",
       " [0.08760717511177063],\n",
       " [0.07986205816268921],\n",
       " [0.077518992125988],\n",
       " [0.007615974172949791],\n",
       " [0.11193264275789261],\n",
       " [0.09225888550281525],\n",
       " [0.2719535827636719],\n",
       " [0.2404748797416687],\n",
       " [0.24498812854290009],\n",
       " [0.09525300562381744],\n",
       " [0.21946756541728973],\n",
       " [0.2555495798587799],\n",
       " [0.27379339933395386],\n",
       " [0.01946047507226467],\n",
       " [0.26449835300445557],\n",
       " [0.0787554681301117],\n",
       " [0.23769263923168182],\n",
       " [0.09757082164287567],\n",
       " [0.23840230703353882],\n",
       " [0.10723082721233368],\n",
       " [0.09300249814987183],\n",
       " [0.27191683650016785],\n",
       " [0.315754234790802],\n",
       " [0.1637067198753357],\n",
       " [0.04754708334803581],\n",
       " [0.17439493536949158],\n",
       " [0.24613851308822632],\n",
       " [0.3326062560081482],\n",
       " [0.18957677483558655],\n",
       " [0.04853488877415657],\n",
       " [0.28399544954299927],\n",
       " [0.2576620280742645],\n",
       " [0.08207577466964722],\n",
       " [0.1802542805671692],\n",
       " [0.522920548915863],\n",
       " [0.1728563755750656],\n",
       " [0.08114302158355713],\n",
       " [0.13426032662391663],\n",
       " [0.14074578881263733],\n",
       " [-0.008740337565541267],\n",
       " [0.2075543850660324],\n",
       " [-0.016564957797527313],\n",
       " [0.2323181927204132],\n",
       " [0.12171564996242523],\n",
       " [0.12780825793743134],\n",
       " [0.1723937690258026],\n",
       " [0.18706929683685303],\n",
       " [0.1323818862438202],\n",
       " [0.06833010911941528],\n",
       " [0.15446346998214722],\n",
       " [0.201153963804245],\n",
       " [-0.014647011645138264],\n",
       " [0.14775142073631287],\n",
       " [0.2082844376564026],\n",
       " [0.13063357770442963],\n",
       " [0.08779817819595337],\n",
       " [0.2713193893432617],\n",
       " [-0.010847572237253189],\n",
       " [0.14474692940711975],\n",
       " [0.17053163051605225],\n",
       " [0.07859392464160919],\n",
       " [0.10250373184680939],\n",
       " [0.1698996126651764],\n",
       " [0.11854222416877747],\n",
       " [0.25620150566101074],\n",
       " [0.16267213225364685],\n",
       " [0.3613893985748291],\n",
       " [0.15259091556072235],\n",
       " [0.1056889221072197],\n",
       " [0.05533258616924286],\n",
       " [0.061868321150541306],\n",
       " [0.11241704970598221],\n",
       " [0.2717548906803131],\n",
       " [-0.007228073198348284],\n",
       " [0.1551532745361328],\n",
       " [0.20890337228775024],\n",
       " [0.10591890662908554],\n",
       " [0.08476510643959045],\n",
       " [0.28950268030166626],\n",
       " [-0.005819077603518963],\n",
       " [0.132528156042099],\n",
       " [0.2045137733221054],\n",
       " [0.0848107635974884],\n",
       " [0.08418859541416168],\n",
       " [0.24140134453773499],\n",
       " [0.08665556460618973],\n",
       " [0.24794232845306396],\n",
       " [-0.010969089344143867],\n",
       " [0.1285145878791809],\n",
       " [0.1871183216571808],\n",
       " [0.07739321142435074],\n",
       " [0.05616024136543274],\n",
       " [0.23673470318317413],\n",
       " [0.21027150750160217],\n",
       " [0.13286028802394867],\n",
       " [-0.0034535154700279236],\n",
       " [0.0349651575088501],\n",
       " [0.10406357049942017],\n",
       " [0.12271773815155029],\n",
       " [0.1270037293434143],\n",
       " [0.15629151463508606],\n",
       " [0.1527511477470398],\n",
       " [0.28275245428085327],\n",
       " [0.1541576236486435],\n",
       " [0.09704326093196869],\n",
       " [0.30757540464401245],\n",
       " [0.44096750020980835],\n",
       " [0.014267713762819767],\n",
       " [0.19516785442829132],\n",
       " [0.1979367434978485],\n",
       " [0.19470635056495667],\n",
       " [0.10793168842792511],\n",
       " [0.1013198047876358],\n",
       " [0.36131399869918823],\n",
       " [0.15454329550266266],\n",
       " [0.11277033388614655],\n",
       " [0.30969351530075073],\n",
       " [0.49817684292793274],\n",
       " [0.10835645347833633],\n",
       " [0.08530285209417343],\n",
       " [0.08345857262611389],\n",
       " [0.16982948780059814],\n",
       " [0.06684964895248413],\n",
       " [0.054291944950819016],\n",
       " [0.19949395954608917],\n",
       " [0.4916418194770813],\n",
       " [0.13793820142745972],\n",
       " [0.08282212913036346],\n",
       " [0.25448963046073914],\n",
       " [0.2636408805847168],\n",
       " [0.18710307776927948],\n",
       " [0.06485825777053833],\n",
       " [0.2545230984687805],\n",
       " [0.10955089330673218],\n",
       " [0.0353870689868927],\n",
       " [0.25638291239738464],\n",
       " [-0.05790488049387932],\n",
       " [0.10964982956647873],\n",
       " [0.0858256071805954],\n",
       " [0.12644511461257935],\n",
       " [0.29417890310287476],\n",
       " [0.12372684478759766],\n",
       " [0.218777596950531],\n",
       " [0.23685777187347412],\n",
       " [0.10142006725072861],\n",
       " [0.11412496119737625],\n",
       " [0.0374804325401783],\n",
       " [0.1301094889640808],\n",
       " [0.4801388084888458],\n",
       " [0.046469010412693024],\n",
       " [0.08635872602462769],\n",
       " [0.22469240427017212],\n",
       " [0.09631287306547165],\n",
       " [0.04971751570701599],\n",
       " [0.18732038140296936],\n",
       " [0.1503368616104126],\n",
       " [0.2376389503479004],\n",
       " [0.2235415279865265],\n",
       " [0.28063294291496277],\n",
       " [0.4227067232131958],\n",
       " [0.18654701113700867],\n",
       " [0.07226543873548508],\n",
       " [0.24494656920433044],\n",
       " [0.14318476617336273],\n",
       " [0.1301688551902771],\n",
       " [0.19532865285873413],\n",
       " [0.1185569316148758],\n",
       " [-0.0320865660905838],\n",
       " [0.1892799288034439],\n",
       " [0.1173432245850563],\n",
       " [0.05921238660812378],\n",
       " [0.049210887402296066],\n",
       " [0.11069488525390625],\n",
       " [0.38283875584602356],\n",
       " [0.34332984685897827],\n",
       " [0.01595708355307579],\n",
       " [0.17686507105827332],\n",
       " [0.20470991730690002],\n",
       " [-0.007876996882259846],\n",
       " [0.19412748515605927],\n",
       " [0.02741108275949955],\n",
       " [0.21444940567016602]]"
      ]
     },
     "execution_count": 33,
     "metadata": {},
     "output_type": "execute_result"
    }
   ],
   "source": [
    "logger._data[0][1]['similarity']"
   ]
  },
  {
   "cell_type": "code",
   "execution_count": 12,
   "id": "improved-configuration",
   "metadata": {},
   "outputs": [],
   "source": [
    "import json\n",
    "with open(\"/Users/arbeit/Desktop/debug.json\", \"r\") as f:\n",
    "    data = json.loads(f.read())"
   ]
  },
  {
   "cell_type": "code",
   "execution_count": 27,
   "id": "african-examination",
   "metadata": {},
   "outputs": [
    {
     "data": {
      "text/plain": [
       "array([ 1.11921835, -1.50500298, -0.47002545,  0.72598863,  1.25613248,\n",
       "       -1.59027803, -0.11668806, -0.79666078,  0.65255964, -0.2121384 ])"
      ]
     },
     "execution_count": 27,
     "metadata": {},
     "output_type": "execute_result"
    }
   ],
   "source": [
    "np.array(data[\"a\"])[0][:10]"
   ]
  },
  {
   "cell_type": "code",
   "execution_count": 26,
   "id": "electoral-mercy",
   "metadata": {},
   "outputs": [
    {
     "data": {
      "text/plain": [
       "array([ 0.49695939, -1.57025933,  0.48457262, -0.32552609, -1.09349322,\n",
       "       -1.80017662,  0.84969461, -0.1012421 ,  0.49484468, -0.32485196])"
      ]
     },
     "execution_count": 26,
     "metadata": {},
     "output_type": "execute_result"
    }
   ],
   "source": [
    "np.array(data[\"b\"])[-2][:10]"
   ]
  },
  {
   "cell_type": "code",
   "execution_count": 29,
   "id": "human-barbados",
   "metadata": {},
   "outputs": [
    {
     "data": {
      "text/plain": [
       "(2, 10)"
      ]
     },
     "execution_count": 29,
     "metadata": {},
     "output_type": "execute_result"
    }
   ],
   "source": [
    "import numpy as np\n",
    "import json\n",
    "with open(\"/Users/arbeit/Desktop/debug2.json\", \"r\") as f:\n",
    "    data = json.loads(f.read())\n",
    "np.array(data).shape"
   ]
  },
  {
   "cell_type": "code",
   "execution_count": 29,
   "id": "portable-conjunction",
   "metadata": {},
   "outputs": [],
   "source": [
    "with open(\"/Users/arbeit/Desktop/my_example_doc.json\", \"r\") as f:\n",
    "    data = json.loads(f.read())"
   ]
  },
  {
   "cell_type": "code",
   "execution_count": 31,
   "id": "reserved-tissue",
   "metadata": {},
   "outputs": [
    {
     "data": {
      "text/plain": [
       "837"
      ]
     },
     "execution_count": 31,
     "metadata": {},
     "output_type": "execute_result"
    }
   ],
   "source": [
    "sum(len(p[\"tokens\"]) for p in data[\"partitions\"])"
   ]
  },
  {
   "cell_type": "code",
   "execution_count": null,
   "id": "necessary-maria",
   "metadata": {},
   "outputs": [],
   "source": []
  }
 ],
 "metadata": {
  "kernelspec": {
   "display_name": "Python 3",
   "language": "python",
   "name": "python3"
  },
  "language_info": {
   "codemirror_mode": {
    "name": "ipython",
    "version": 3
   },
   "file_extension": ".py",
   "mimetype": "text/x-python",
   "name": "python",
   "nbconvert_exporter": "python",
   "pygments_lexer": "ipython3",
   "version": "3.8.5"
  }
 },
 "nbformat": 4,
 "nbformat_minor": 5
}

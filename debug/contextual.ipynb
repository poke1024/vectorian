{
 "cells": [
  {
   "cell_type": "code",
   "execution_count": 1,
   "id": "incredible-needle",
   "metadata": {},
   "outputs": [],
   "source": [
    "import spacy"
   ]
  },
  {
   "cell_type": "code",
   "execution_count": 2,
   "id": "divine-exposure",
   "metadata": {},
   "outputs": [
    {
     "data": {
      "text/plain": [
       "'3.0.3'"
      ]
     },
     "execution_count": 2,
     "metadata": {},
     "output_type": "execute_result"
    }
   ],
   "source": [
    "spacy.__version__"
   ]
  },
  {
   "cell_type": "code",
   "execution_count": null,
   "id": "generic-nebraska",
   "metadata": {},
   "outputs": [],
   "source": []
  },
  {
   "cell_type": "code",
   "execution_count": 3,
   "id": "through-solution",
   "metadata": {},
   "outputs": [],
   "source": [
    "nlp = spacy.load(\"en_core_web_trf\")"
   ]
  },
  {
   "cell_type": "code",
   "execution_count": 4,
   "id": "stuffed-fields",
   "metadata": {},
   "outputs": [
    {
     "data": {
      "text/plain": [
       "['transformer', 'tagger', 'parser', 'ner', 'attribute_ruler', 'lemmatizer']"
      ]
     },
     "execution_count": 4,
     "metadata": {},
     "output_type": "execute_result"
    }
   ],
   "source": [
    "nlp.pipe_names"
   ]
  },
  {
   "cell_type": "code",
   "execution_count": 5,
   "id": "shaped-listening",
   "metadata": {},
   "outputs": [
    {
     "data": {
      "text/plain": [
       "'core_web_trf'"
      ]
     },
     "execution_count": 5,
     "metadata": {},
     "output_type": "execute_result"
    }
   ],
   "source": [
    "nlp.meta['name']"
   ]
  },
  {
   "cell_type": "code",
   "execution_count": 6,
   "id": "micro-kruger",
   "metadata": {},
   "outputs": [],
   "source": [
    "#nlp(\"hello there\")._.trf_data"
   ]
  },
  {
   "cell_type": "code",
   "execution_count": 7,
   "id": "integral-action",
   "metadata": {},
   "outputs": [],
   "source": [
    "from pathlib import Path\n",
    "\n",
    "import os\n",
    "import sys\n",
    "\n",
    "current_path = Path(os.getcwd())\n",
    "sys.path.append(str(current_path.parent))"
   ]
  },
  {
   "cell_type": "code",
   "execution_count": null,
   "id": "dangerous-medline",
   "metadata": {},
   "outputs": [],
   "source": [
    "import vectorian\n",
    "\n",
    "from vectorian.importers import NovelImporter\n",
    "from vectorian.session import LabSession\n",
    "from vectorian.embeddings import SpacyTransformerEmbedding\n",
    "\n",
    "my_embedding = SpacyTransformerEmbedding(nlp)\n",
    "\n",
    "# contextual embeddings\n",
    "im = NovelImporter(nlp, embeddings=[my_embedding])\n",
    "\n",
    "#im = NovelImporter(nlp)\n",
    "doc = im(\"/Users/arbeit/Wise Children Mini.txt\")"
   ]
  },
  {
   "cell_type": "code",
   "execution_count": null,
   "id": "latter-automation",
   "metadata": {},
   "outputs": [],
   "source": [
    "doc._contextual_embeddings"
   ]
  },
  {
   "cell_type": "code",
   "execution_count": null,
   "id": "individual-secondary",
   "metadata": {},
   "outputs": [],
   "source": [
    "# note: you may also specify StackedEmbedding here.\n",
    "session = LabSession(\n",
    "    [doc],\n",
    "    embeddings=[my_embedding],\n",
    "    token_mappings=\"default\")"
   ]
  },
  {
   "cell_type": "code",
   "execution_count": null,
   "id": "large-prophet",
   "metadata": {},
   "outputs": [],
   "source": [
    "from vectorian.importers import StringImporter\n",
    "from vectorian.session import LabSession\n",
    "from vectorian.metrics import CosineSimilarity, TokenSimilarity\n",
    "from vectorian.metrics import AlignmentSentenceSimilarity\n",
    "from vectorian.alignment import WatermanSmithBeyer, ConstantGapCost\n",
    "\n",
    "metric = AlignmentSentenceSimilarity(\n",
    "    token_metric=TokenSimilarity(my_embedding, CosineSimilarity()),\n",
    "    alignment=WatermanSmithBeyer(gap=ConstantGapCost(0), zero=0.25))\n",
    "\n",
    "index = session.partition(\"sentence\").index(metric, nlp)"
   ]
  },
  {
   "cell_type": "code",
   "execution_count": null,
   "id": "conventional-wings",
   "metadata": {},
   "outputs": [
    {
     "data": {
      "application/vnd.jupyter.widget-view+json": {
       "model_id": "6a60d1e1e804409eaf8e2cf3c824d87c",
       "version_major": 2,
       "version_minor": 0
      },
      "text/plain": [
       "FloatProgress(value=0.0, layout=Layout(width='100%'), max=1.0)"
      ]
     },
     "metadata": {},
     "output_type": "display_data"
    }
   ],
   "source": [
    "index.find('thing', n=1)"
   ]
  },
  {
   "cell_type": "code",
   "execution_count": null,
   "id": "happy-biodiversity",
   "metadata": {},
   "outputs": [],
   "source": []
  }
 ],
 "metadata": {
  "kernelspec": {
   "display_name": "Python 3",
   "language": "python",
   "name": "python3"
  },
  "language_info": {
   "codemirror_mode": {
    "name": "ipython",
    "version": 3
   },
   "file_extension": ".py",
   "mimetype": "text/x-python",
   "name": "python",
   "nbconvert_exporter": "python",
   "pygments_lexer": "ipython3",
   "version": "3.8.5"
  }
 },
 "nbformat": 4,
 "nbformat_minor": 5
}
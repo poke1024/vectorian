{
 "cells": [
  {
   "cell_type": "code",
   "execution_count": 1,
   "metadata": {
    "collapsed": true,
    "jupyter": {
     "outputs_hidden": true
    }
   },
   "outputs": [],
   "source": [
    "import numpy as np\n",
    "import faiss"
   ]
  },
  {
   "cell_type": "code",
   "execution_count": 3,
   "metadata": {
    "collapsed": true,
    "jupyter": {
     "outputs_hidden": true
    }
   },
   "outputs": [],
   "source": [
    "nq = 100\n",
    "nb = 1000\n",
    "d = 32\n",
    "\n",
    "xq = faiss.randn((nq, d))\n",
    "xb = faiss.randn((nb, d))"
   ]
  },
  {
   "cell_type": "code",
   "execution_count": 5,
   "metadata": {
    "collapsed": true,
    "jupyter": {
     "outputs_hidden": true
    }
   },
   "outputs": [],
   "source": [
    "# reference IP search\n",
    "k = 10\n",
    "index = faiss.IndexFlatIP(d)\n",
    "index.add(xb)\n",
    "Dref, Iref = index.search(xq, k)"
   ]
  },
  {
   "cell_type": "code",
   "execution_count": 10,
   "metadata": {
    "collapsed": true,
    "jupyter": {
     "outputs_hidden": true
    }
   },
   "outputs": [],
   "source": [
    "# see http://ulrichpaquet.com/Papers/SpeedUp.pdf theorem 5\n",
    "\n",
    "def get_phi(xb): \n",
    "    return (xb ** 2).sum(1).max()\n",
    "\n",
    "def augment_xb(xb, phi=None): \n",
    "    norms = (xb ** 2).sum(1)\n",
    "    if phi is None: \n",
    "        phi = norms.max()\n",
    "    extracol = np.sqrt(phi - norms)\n",
    "    return np.hstack((xb, extracol.reshape(-1, 1)))\n",
    "\n",
    "def augment_xq(xq): \n",
    "    extracol = np.zeros(len(xq), dtype='float32')\n",
    "    return np.hstack((xq, extracol.reshape(-1, 1)))\n",
    "    "
   ]
  },
  {
   "cell_type": "code",
   "execution_count": 11,
   "metadata": {},
   "outputs": [],
   "source": [
    "# reference IP search\n",
    "k = 10\n",
    "index = faiss.IndexFlatL2(d + 1)\n",
    "index.add(augment_xb(xb))\n",
    "D, I = index.search(augment_xq(xq), k)\n"
   ]
  },
  {
   "cell_type": "code",
   "execution_count": 12,
   "metadata": {},
   "outputs": [
    {
     "data": {
      "text/plain": [
       "True"
      ]
     },
     "execution_count": 12,
     "metadata": {
      "bento_obj_id": "140595066188536"
     },
     "output_type": "execute_result"
    }
   ],
   "source": [
    "np.all(I == Iref)"
   ]
  },
  {
   "cell_type": "code",
   "execution_count": null,
   "metadata": {
    "collapsed": true,
    "jupyter": {
     "outputs_hidden": true
    }
   },
   "outputs": [],
   "source": []
  }
 ],
 "metadata": {
  "bento_stylesheets": {
   "bento/extensions/flow/main.css": true,
   "bento/extensions/kernel_selector/main.css": true,
   "bento/extensions/kernel_ui/main.css": true,
   "bento/extensions/new_kernel/main.css": true,
   "bento/extensions/system_usage/main.css": true,
   "bento/extensions/theme/main.css": true
  },
  "kernelspec": {
   "display_name": "Python 3",
   "language": "python",
   "name": "python3"
  },
  "language_info": {
   "codemirror_mode": {
    "name": "ipython",
    "version": 3
   },
   "file_extension": ".py",
   "mimetype": "text/x-python",
   "name": "python",
   "nbconvert_exporter": "python",
   "pygments_lexer": "ipython3",
   "version": "3.8.5"
  }
 },
 "nbformat": 4,
 "nbformat_minor": 4
}

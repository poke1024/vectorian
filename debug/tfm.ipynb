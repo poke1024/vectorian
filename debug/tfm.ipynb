{
 "cells": [
  {
   "cell_type": "code",
   "execution_count": 1,
   "id": "architectural-doubt",
   "metadata": {},
   "outputs": [],
   "source": [
    "import spacy\n",
    "nlp = spacy.load(\"en_core_web_trf\")"
   ]
  },
  {
   "cell_type": "code",
   "execution_count": 6,
   "id": "digital-arbitration",
   "metadata": {},
   "outputs": [],
   "source": [
    "import numpy as np\n",
    "import itertools\n",
    "\n",
    "def tfm_tensors(doc):\n",
    "    import numpy as np\n",
    "\n",
    "    tfm_str = doc._.trf_data.wordpieces.strings\n",
    "    tfm_str = list(itertools.chain(*tfm_str))\n",
    "    \n",
    "    token_emb, sent_emb = doc._.trf_data.tensors\n",
    "    print(token_emb.shape)\n",
    "    token_emb = token_emb.reshape(-1, token_emb.shape[-1])\n",
    "    #print(token_emb.shape, len(tfm_str[0]))\n",
    "    n_dims = token_emb.shape[-1]\n",
    "\n",
    "    vs = []\n",
    "    for x in doc._.trf_data.align:\n",
    "        #print([tfm_str[i[0]] for i in x.data])\n",
    "        v = []\n",
    "        for i in x.data:\n",
    "            #print(\"?\", token_emb.shape[0], i[0])\n",
    "            v.append(token_emb[i[0]])\n",
    "        if v:\n",
    "            v = np.average(np.array(v), axis=0)\n",
    "        else:\n",
    "            v = np.zeros((n_dims))\n",
    "        #print(v.shape, v[:5])\n",
    "        vs.append(v)\n",
    "        \n",
    "    return np.array(vs)\n",
    "\n",
    "def sim(doc1, s1, doc2, s2):\n",
    "    v1 = tfm_tensors(doc1)\n",
    "    v2 = tfm_tensors(doc2)\n",
    "    i = [str(s) for s in doc1].index(s1)\n",
    "    j = [str(s) for s in doc2].index(s2)\n",
    "    return np.dot(v1[i] / np.linalg.norm(v1[i]), v2[j] / np.linalg.norm(v2[j]))"
   ]
  },
  {
   "cell_type": "code",
   "execution_count": 7,
   "id": "powerful-crime",
   "metadata": {},
   "outputs": [],
   "source": [
    "#doc = nlp(\"Wise Children’s insouciance is near stoic. A book about old ladies is, helplessly, going to be a book about ‘the way of all flesh’. ‘Whence came we? Whither goeth we? I know the answer to the second question, of course. Bound for oblivion, nor leave a wrack behind.’ It’s a limelight novel that knows the dark, that ‘wars are facts we cannot fuck away’. Its insouciance is its response in the face of tragedy, poverty, illegitimacy, hierarchy, and most grave of all, ‘untimely death.’ What to do? ‘We’ll go on singing and dancing until we drop in our tracks, won’t we kids?’ In her critical writings Carter associates lightness with stoicism more than once. She comments on one of the movie stars she was most fascinated by, Louise Brooks, who, in Pabst’s Pandora’s Box, ‘typifies the subversive violence inherent in beauty and a light heart.’13 In a book as much about the degeneration game as it is about generation and generations, Dora and Nora, in their seventies, at the fag end of the British empire, go to a broken-down old cinema and see the film of their young selves in A Midsummer Night’s Dream, ‘two batty old tarts with their eyes glued to their own ghosts.’\")\n",
    "#doc = nlp(\"In that essay on Colette, Carter wrote about the moment in Simone de Beauvoir’s memoirs when she records the surreality of her being in the same room as (if not actually speaking to) Colette.\")\n",
    "with open(\"/Users/arbeit/Wise Children Mini.txt\", \"r\") as f:\n",
    "    doc = nlp(f.read())"
   ]
  },
  {
   "cell_type": "code",
   "execution_count": 11,
   "id": "spectacular-absence",
   "metadata": {},
   "outputs": [],
   "source": [
    "doc2 = nlp(\"person\")"
   ]
  },
  {
   "cell_type": "code",
   "execution_count": 14,
   "id": "aware-chosen",
   "metadata": {},
   "outputs": [
    {
     "name": "stdout",
     "output_type": "stream",
     "text": [
      "(1, 43, 768)\n",
      "(1, 3, 768)\n"
     ]
    },
    {
     "data": {
      "text/plain": [
       "0.5506242087667998"
      ]
     },
     "execution_count": 14,
     "metadata": {},
     "output_type": "execute_result"
    }
   ],
   "source": [
    "sim(doc, \"communality\", doc2, \"person\")"
   ]
  },
  {
   "cell_type": "code",
   "execution_count": 10,
   "id": "beginning-wayne",
   "metadata": {},
   "outputs": [
    {
     "name": "stdout",
     "output_type": "stream",
     "text": [
      "(1, 43, 768)\n",
      "(1, 3, 768)\n"
     ]
    },
    {
     "data": {
      "text/plain": [
       "0.4380336470114672"
      ]
     },
     "execution_count": 10,
     "metadata": {},
     "output_type": "execute_result"
    }
   ],
   "source": [
    "sim(doc, \"taken\", doc2, \"shared\")"
   ]
  },
  {
   "cell_type": "code",
   "execution_count": 61,
   "id": "progressive-bobby",
   "metadata": {},
   "outputs": [],
   "source": [
    "#tfm_tensors(doc).shape"
   ]
  },
  {
   "cell_type": "code",
   "execution_count": 5,
   "id": "quality-store",
   "metadata": {},
   "outputs": [
    {
     "name": "stdout",
     "output_type": "stream",
     "text": [
      "(2, 146, 768)\n"
     ]
    },
    {
     "data": {
      "text/plain": [
       "array([[-1.14375722, -0.30409056,  0.86509454, -0.31990629,  1.06158209,\n",
       "         0.85182852,  0.85282427, -0.175081  , -0.36473972, -1.51145494],\n",
       "       [-0.90024966, -0.7322849 , -0.06842124,  0.73083138,  1.21642399,\n",
       "         0.43938926,  0.84701651,  1.5145514 ,  1.45519233, -0.8445735 ],\n",
       "       [-0.56277001, -0.49145812, -0.16693702,  1.56473219,  2.46784616,\n",
       "         1.90175247, -0.59321785,  0.45290664, -0.14161064,  0.071206  ],\n",
       "       [-0.37899685, -0.61451423,  0.47324866, -0.12926887,  1.29338622,\n",
       "        -1.23498452,  0.92027628, -0.1379444 , -1.29010332, -0.41220453],\n",
       "       [-0.16907969, -0.00849829, -0.05117168,  1.01450431,  0.63966888,\n",
       "         1.59416902,  1.27664888,  0.54130089,  0.87566674,  0.12214404]])"
      ]
     },
     "execution_count": 5,
     "metadata": {},
     "output_type": "execute_result"
    }
   ],
   "source": [
    "tfm_tensors(doc)[:5, :10]"
   ]
  },
  {
   "cell_type": "code",
   "execution_count": 39,
   "id": "agreed-joyce",
   "metadata": {},
   "outputs": [
    {
     "data": {
      "text/plain": [
       "263"
      ]
     },
     "execution_count": 39,
     "metadata": {},
     "output_type": "execute_result"
    }
   ],
   "source": [
    "len(doc._.trf_data.align)"
   ]
  },
  {
   "cell_type": "code",
   "execution_count": 40,
   "id": "adequate-hybrid",
   "metadata": {},
   "outputs": [
    {
     "data": {
      "text/plain": [
       "263"
      ]
     },
     "execution_count": 40,
     "metadata": {},
     "output_type": "execute_result"
    }
   ],
   "source": [
    "len(doc)"
   ]
  },
  {
   "cell_type": "code",
   "execution_count": 43,
   "id": "improving-initial",
   "metadata": {},
   "outputs": [
    {
     "data": {
      "text/plain": [
       "(495, 768)"
      ]
     },
     "execution_count": 43,
     "metadata": {},
     "output_type": "execute_result"
    }
   ],
   "source": [
    "v = doc._.trf_data.tensors[0]\n",
    "v.reshape(-1, v.shape[-1]).shape"
   ]
  },
  {
   "cell_type": "code",
   "execution_count": null,
   "id": "native-strike",
   "metadata": {},
   "outputs": [],
   "source": []
  }
 ],
 "metadata": {
  "kernelspec": {
   "display_name": "Python 3",
   "language": "python",
   "name": "python3"
  },
  "language_info": {
   "codemirror_mode": {
    "name": "ipython",
    "version": 3
   },
   "file_extension": ".py",
   "mimetype": "text/x-python",
   "name": "python",
   "nbconvert_exporter": "python",
   "pygments_lexer": "ipython3",
   "version": "3.8.5"
  }
 },
 "nbformat": 4,
 "nbformat_minor": 5
}

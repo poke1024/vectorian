{
 "cells": [
  {
   "cell_type": "code",
   "execution_count": 1,
   "id": "simplified-effect",
   "metadata": {},
   "outputs": [],
   "source": [
    "import spacy\n",
    "nlp = spacy.load(\"en_core_web_trf\")"
   ]
  },
  {
   "cell_type": "code",
   "execution_count": 32,
   "id": "applicable-difficulty",
   "metadata": {},
   "outputs": [],
   "source": [
    "import numpy as np\n",
    "\n",
    "def tfm_tensors(doc):\n",
    "    import numpy as np\n",
    "\n",
    "    tfm_str = doc._.trf_data.wordpieces.strings\n",
    "    token_emb, sent_emb = doc._.trf_data.tensors\n",
    "    #print(token_emb.shape, len(tfm_str[0]))\n",
    "\n",
    "    vs = []\n",
    "    for x in doc._.trf_data.align:\n",
    "        #print([tfm_str[0][i[0]] for i in x.data])\n",
    "        v = []\n",
    "        for i in x.data:\n",
    "            #print(\"?\", i[0])\n",
    "            v.append(token_emb[0][i[0]])\n",
    "        v = np.average(np.array(v), axis=0)\n",
    "        #print(v.shape, v[:5])\n",
    "        vs.append(v)\n",
    "        \n",
    "    return np.array(vs)\n",
    "\n",
    "def sim(doc1, s1, doc2, s2):\n",
    "    v1 = tfm_tensors(doc1)\n",
    "    v2 = tfm_tensors(doc2)\n",
    "    i = [str(s) for s in doc1].index(s1)\n",
    "    j = [str(s) for s in doc2].index(s2)\n",
    "    return np.dot(v1[i] / np.linalg.norm(v1[i]), v2[j] / np.linalg.norm(v2[j]))"
   ]
  },
  {
   "cell_type": "code",
   "execution_count": 33,
   "id": "subject-generic",
   "metadata": {},
   "outputs": [],
   "source": [
    "doc = nlp(\"This is my room, we don’t share.\")"
   ]
  },
  {
   "cell_type": "code",
   "execution_count": 34,
   "id": "cardiovascular-portsmouth",
   "metadata": {},
   "outputs": [
    {
     "data": {
      "text/plain": [
       "0.5882041"
      ]
     },
     "execution_count": 34,
     "metadata": {},
     "output_type": "execute_result"
    }
   ],
   "source": [
    "doc2 = nlp(\"share\")\n",
    "sim(doc, \"share\", doc2, \"share\")"
   ]
  },
  {
   "cell_type": "code",
   "execution_count": 35,
   "id": "manufactured-batman",
   "metadata": {},
   "outputs": [
    {
     "data": {
      "text/plain": [
       "0.3652556"
      ]
     },
     "execution_count": 35,
     "metadata": {},
     "output_type": "execute_result"
    }
   ],
   "source": [
    "sim(doc, \"room\", doc2, \"share\")"
   ]
  },
  {
   "cell_type": "code",
   "execution_count": null,
   "id": "permanent-quantity",
   "metadata": {},
   "outputs": [],
   "source": []
  }
 ],
 "metadata": {
  "kernelspec": {
   "display_name": "Python 3",
   "language": "python",
   "name": "python3"
  },
  "language_info": {
   "codemirror_mode": {
    "name": "ipython",
    "version": 3
   },
   "file_extension": ".py",
   "mimetype": "text/x-python",
   "name": "python",
   "nbconvert_exporter": "python",
   "pygments_lexer": "ipython3",
   "version": "3.8.5"
  }
 },
 "nbformat": 4,
 "nbformat_minor": 5
}

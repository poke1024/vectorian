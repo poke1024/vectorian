{
 "cells": [
  {
   "cell_type": "code",
   "execution_count": 1,
   "id": "excellent-holmes",
   "metadata": {},
   "outputs": [],
   "source": [
    "import spacy\n",
    "nlp = spacy.load(\"en_core_web_trf\")"
   ]
  },
  {
   "cell_type": "code",
   "execution_count": 54,
   "id": "polyphonic-cathedral",
   "metadata": {},
   "outputs": [],
   "source": [
    "import numpy as np\n",
    "import itertools\n",
    "\n",
    "def tfm_tensors(doc):\n",
    "    import numpy as np\n",
    "\n",
    "    tfm_str = doc._.trf_data.wordpieces.strings\n",
    "    tfm_str = list(itertools.chain(*tfm_str))\n",
    "    \n",
    "    token_emb, sent_emb = doc._.trf_data.tensors\n",
    "    token_emb = token_emb.reshape(-1, token_emb.shape[-1])\n",
    "    #print(token_emb.shape, len(tfm_str[0]))\n",
    "    n_dims = token_emb.shape[-1]\n",
    "\n",
    "    vs = []\n",
    "    for x in doc._.trf_data.align:\n",
    "        print([tfm_str[i[0]] for i in x.data])\n",
    "        v = []\n",
    "        for i in x.data:\n",
    "            #print(\"?\", token_emb.shape[0], i[0])\n",
    "            v.append(token_emb[i[0]])\n",
    "        if v:\n",
    "            v = np.average(np.array(v), axis=0)\n",
    "        else:\n",
    "            v = np.zeros((n_dims))\n",
    "        #print(v.shape, v[:5])\n",
    "        vs.append(v)\n",
    "        \n",
    "    return np.array(vs)\n",
    "\n",
    "def sim(doc1, s1, doc2, s2):\n",
    "    v1 = tfm_tensors(doc1)\n",
    "    v2 = tfm_tensors(doc2)\n",
    "    i = [str(s) for s in doc1].index(s1)\n",
    "    j = [str(s) for s in doc2].index(s2)\n",
    "    return np.dot(v1[i] / np.linalg.norm(v1[i]), v2[j] / np.linalg.norm(v2[j]))"
   ]
  },
  {
   "cell_type": "code",
   "execution_count": 55,
   "id": "behind-preservation",
   "metadata": {},
   "outputs": [],
   "source": [
    "doc = nlp(\"Wise Children’s insouciance is near stoic. A book about old ladies is, helplessly, going to be a book about ‘the way of all flesh’. ‘Whence came we? Whither goeth we? I know the answer to the second question, of course. Bound for oblivion, nor leave a wrack behind.’ It’s a limelight novel that knows the dark, that ‘wars are facts we cannot fuck away’. Its insouciance is its response in the face of tragedy, poverty, illegitimacy, hierarchy, and most grave of all, ‘untimely death.’ What to do? ‘We’ll go on singing and dancing until we drop in our tracks, won’t we kids?’ In her critical writings Carter associates lightness with stoicism more than once. She comments on one of the movie stars she was most fascinated by, Louise Brooks, who, in Pabst’s Pandora’s Box, ‘typifies the subversive violence inherent in beauty and a light heart.’13 In a book as much about the degeneration game as it is about generation and generations, Dora and Nora, in their seventies, at the fag end of the British empire, go to a broken-down old cinema and see the film of their young selves in A Midsummer Night’s Dream, ‘two batty old tarts with their eyes glued to their own ghosts.’\")"
   ]
  },
  {
   "cell_type": "code",
   "execution_count": 34,
   "id": "early-transportation",
   "metadata": {},
   "outputs": [
    {
     "data": {
      "text/plain": [
       "0.5882041"
      ]
     },
     "execution_count": 34,
     "metadata": {},
     "output_type": "execute_result"
    }
   ],
   "source": [
    "doc2 = nlp(\"share\")\n",
    "sim(doc, \"share\", doc2, \"share\")"
   ]
  },
  {
   "cell_type": "code",
   "execution_count": 35,
   "id": "short-consensus",
   "metadata": {},
   "outputs": [
    {
     "data": {
      "text/plain": [
       "0.3652556"
      ]
     },
     "execution_count": 35,
     "metadata": {},
     "output_type": "execute_result"
    }
   ],
   "source": [
    "sim(doc, \"room\", doc2, \"share\")"
   ]
  },
  {
   "cell_type": "code",
   "execution_count": 56,
   "id": "alert-statistics",
   "metadata": {},
   "outputs": [
    {
     "name": "stdout",
     "output_type": "stream",
     "text": [
      "['W', 'ise']\n",
      "['ĠChildren']\n",
      "['s']\n",
      "['Ġins', 'ou', 'ci', 'ance']\n",
      "['Ġis']\n",
      "['Ġnear']\n",
      "['Ġsto', 'ic']\n",
      "['.']\n",
      "['ĠA']\n",
      "['Ġbook']\n",
      "['Ġabout']\n",
      "['Ġold']\n",
      "['Ġladies']\n",
      "['Ġis']\n",
      "[',']\n",
      "['Ġhelpless', 'ly']\n",
      "[',']\n",
      "['Ġgoing']\n",
      "['Ġto']\n",
      "['Ġbe']\n",
      "['Ġa']\n",
      "['Ġbook']\n",
      "['Ġabout']\n",
      "[]\n",
      "['the']\n",
      "['Ġway']\n",
      "['Ġof']\n",
      "['Ġall']\n",
      "['Ġflesh']\n",
      "[]\n",
      "['.']\n",
      "[]\n",
      "['When', 'ce']\n",
      "['Ġcame']\n",
      "['Ġwe']\n",
      "['?']\n",
      "['ĠWh', 'ither']\n",
      "['Ġgo', 'eth']\n",
      "['Ġwe']\n",
      "['?']\n",
      "['ĠI']\n",
      "['Ġknow']\n",
      "['Ġthe']\n",
      "['Ġanswer']\n",
      "['Ġto']\n",
      "['Ġthe']\n",
      "['Ġsecond']\n",
      "['Ġquestion']\n",
      "[',']\n",
      "['Ġof']\n",
      "['Ġcourse']\n",
      "['.']\n",
      "['ĠBound']\n",
      "['Ġfor']\n",
      "['Ġob', 'livion']\n",
      "[',']\n",
      "['Ġnor']\n",
      "['Ġleave']\n",
      "['Ġa']\n",
      "['Ġwr', 'ack']\n",
      "['Ġbehind']\n",
      "['.']\n",
      "[]\n",
      "['ĠIt']\n",
      "['s']\n",
      "['Ġa']\n",
      "['Ġlim', 'elight']\n",
      "['Ġnovel']\n",
      "['Ġthat']\n",
      "['Ġknows']\n",
      "['Ġthe']\n",
      "['Ġdark']\n",
      "[',']\n",
      "['Ġthat']\n",
      "[]\n",
      "['w', 'ars']\n",
      "['Ġare']\n",
      "['Ġfacts']\n",
      "['Ġwe']\n",
      "['Ġcannot']\n",
      "['Ġcannot']\n",
      "['Ġfuck']\n",
      "['Ġaway']\n",
      "[]\n",
      "['.']\n",
      "['ĠIts']\n",
      "['Ġins', 'ou', 'ci', 'ance']\n",
      "['Ġis']\n",
      "['Ġits']\n",
      "['Ġresponse']\n",
      "['Ġin']\n",
      "['Ġthe']\n",
      "['Ġface']\n",
      "['Ġof']\n",
      "['Ġtragedy']\n",
      "[',']\n",
      "['Ġpoverty', 'p', 'overty']\n",
      "[',', ',']\n",
      "['Ġilleg', 'it', 'im', 'acy', 'Ġilleg', 'it', 'im', 'acy']\n",
      "[',', ',']\n",
      "['Ġhierarchy', 'Ġhierarchy']\n",
      "[',', ',']\n",
      "['Ġand', 'Ġand']\n",
      "['Ġmost', 'Ġmost']\n",
      "['Ġgrave', 'Ġgrave']\n",
      "['Ġof', 'Ġof']\n",
      "['Ġall', 'Ġall']\n",
      "[',', ',']\n",
      "[]\n",
      "['un', 'time', 'ly', 'un', 'time', 'ly']\n",
      "['Ġdeath', 'Ġdeath']\n",
      "['.', '.']\n",
      "[]\n",
      "['ĠWhat', 'ĠWhat']\n",
      "['Ġto', 'Ġto']\n",
      "['Ġdo', 'Ġdo']\n",
      "['?', '?']\n",
      "[]\n",
      "['We', 'We']\n",
      "['Ļ', 'll', 'Ļ', 'll']\n",
      "['Ġgo', 'Ġgo']\n",
      "['Ġon', 'Ġon']\n",
      "['Ġsinging', 'Ġsinging']\n",
      "['Ġand', 'Ġand']\n",
      "['Ġdancing', 'Ġdancing']\n",
      "['Ġuntil', 'Ġuntil']\n",
      "['Ġwe', 'Ġwe']\n",
      "['Ġdrop', 'Ġdrop']\n",
      "['Ġin']\n",
      "['Ġour']\n",
      "['Ġtracks']\n",
      "[',']\n",
      "['Ġwon']\n",
      "['Ġwon', 't']\n",
      "['Ġwe']\n",
      "['Ġkids']\n",
      "['?']\n",
      "[]\n",
      "['ĠIn']\n",
      "['Ġher']\n",
      "['Ġcritical']\n",
      "['Ġwritings']\n",
      "['ĠCarter']\n",
      "['Ġassociates']\n",
      "['Ġlight', 'ness']\n",
      "['Ġwith']\n",
      "['Ġsto', 'icism']\n",
      "['Ġmore']\n",
      "['Ġthan']\n",
      "['Ġonce']\n",
      "['.']\n",
      "['ĠShe']\n",
      "['Ġcomments']\n",
      "['Ġon']\n",
      "['Ġone']\n",
      "['Ġof']\n",
      "['Ġthe']\n",
      "['Ġmovie']\n",
      "['Ġstars']\n",
      "['Ġshe']\n",
      "['Ġwas']\n",
      "['Ġmost']\n",
      "['Ġfascinated']\n",
      "['Ġby']\n",
      "[',']\n",
      "['ĠLouise']\n",
      "['ĠBrooks']\n",
      "[',']\n",
      "['Ġwho']\n",
      "[',']\n",
      "['Ġin']\n",
      "['ĠP', 'ab', 'st']\n",
      "['s']\n",
      "['ĠPandora']\n",
      "['s']\n",
      "['ĠBox']\n",
      "[',']\n",
      "[]\n",
      "['typ', 'ifies']\n",
      "['Ġthe']\n",
      "['Ġsubversive']\n",
      "['Ġviolence']\n",
      "['Ġinherent']\n",
      "['Ġin']\n",
      "['Ġbeauty']\n",
      "['Ġand']\n",
      "['Ġa']\n",
      "['Ġlight']\n",
      "['Ġheart']\n",
      "['.']\n",
      "['13']\n",
      "['ĠIn']\n",
      "['Ġa', 'a']\n",
      "['Ġbook', 'Ġbook']\n",
      "['Ġas', 'Ġas']\n",
      "['Ġmuch', 'Ġmuch']\n",
      "['Ġabout', 'Ġabout']\n",
      "['Ġthe', 'Ġthe']\n",
      "['Ġdegener', 'ation', 'Ġdegener', 'ation']\n",
      "['Ġgame', 'Ġgame']\n",
      "['Ġas', 'Ġas']\n",
      "['Ġit', 'Ġit']\n",
      "['Ġis', 'Ġis']\n",
      "['Ġabout', 'Ġabout']\n",
      "['Ġgeneration', 'Ġgeneration']\n",
      "['Ġand', 'Ġand']\n",
      "['Ġgenerations', 'Ġgenerations']\n",
      "[',', ',']\n",
      "['ĠD', 'ora', 'ĠD', 'ora']\n",
      "['Ġand', 'Ġand']\n",
      "['ĠNora', 'ĠNora']\n",
      "[',', ',']\n",
      "['Ġin', 'Ġin']\n",
      "['Ġtheir', 'Ġtheir']\n",
      "['Ġsevent', 'ies', 'Ġsevent', 'ies']\n",
      "[',', ',']\n",
      "['Ġat', 'Ġat']\n",
      "['Ġthe', 'Ġthe']\n",
      "['Ġf', 'ag', 'Ġf', 'ag']\n",
      "['Ġend', 'Ġend']\n",
      "['Ġof', 'Ġof']\n",
      "['Ġthe', 'Ġthe']\n",
      "['ĠBritish', 'ĠBritish']\n",
      "['Ġempire', 'Ġempire']\n",
      "[',']\n",
      "['Ġgo']\n",
      "['Ġto']\n",
      "['Ġa']\n",
      "['Ġbroken']\n",
      "['-']\n",
      "['down']\n",
      "['Ġold']\n",
      "['Ġcinema']\n",
      "['Ġand']\n",
      "['Ġsee']\n",
      "['Ġthe']\n",
      "['Ġfilm']\n",
      "['Ġof']\n",
      "['Ġtheir']\n",
      "['Ġyoung']\n",
      "['Ġselves']\n",
      "['Ġin']\n",
      "['ĠA']\n",
      "['ĠM', 'ids', 'ummer']\n",
      "['ĠNight']\n",
      "['s']\n",
      "['ĠDream']\n",
      "[',']\n",
      "[]\n",
      "['two']\n",
      "['Ġbat', 'ty']\n",
      "['Ġold']\n",
      "['Ġt', 'arts']\n",
      "['Ġwith']\n",
      "['Ġtheir']\n",
      "['Ġeyes']\n",
      "['Ġglued']\n",
      "['Ġto']\n",
      "['Ġtheir']\n",
      "['Ġown']\n",
      "['Ġghosts']\n",
      "['.']\n",
      "[]\n"
     ]
    },
    {
     "data": {
      "text/plain": [
       "(263, 768)"
      ]
     },
     "execution_count": 56,
     "metadata": {},
     "output_type": "execute_result"
    }
   ],
   "source": [
    "tfm_tensors(doc).shape"
   ]
  },
  {
   "cell_type": "code",
   "execution_count": 39,
   "id": "sensitive-sleep",
   "metadata": {},
   "outputs": [
    {
     "data": {
      "text/plain": [
       "263"
      ]
     },
     "execution_count": 39,
     "metadata": {},
     "output_type": "execute_result"
    }
   ],
   "source": [
    "len(doc._.trf_data.align)"
   ]
  },
  {
   "cell_type": "code",
   "execution_count": 40,
   "id": "traditional-criminal",
   "metadata": {},
   "outputs": [
    {
     "data": {
      "text/plain": [
       "263"
      ]
     },
     "execution_count": 40,
     "metadata": {},
     "output_type": "execute_result"
    }
   ],
   "source": [
    "len(doc)"
   ]
  },
  {
   "cell_type": "code",
   "execution_count": 43,
   "id": "under-exception",
   "metadata": {},
   "outputs": [
    {
     "data": {
      "text/plain": [
       "(495, 768)"
      ]
     },
     "execution_count": 43,
     "metadata": {},
     "output_type": "execute_result"
    }
   ],
   "source": [
    "v = doc._.trf_data.tensors[0]\n",
    "v.reshape(-1, v.shape[-1]).shape"
   ]
  },
  {
   "cell_type": "code",
   "execution_count": null,
   "id": "crude-sapphire",
   "metadata": {},
   "outputs": [],
   "source": []
  }
 ],
 "metadata": {
  "kernelspec": {
   "display_name": "Python 3",
   "language": "python",
   "name": "python3"
  },
  "language_info": {
   "codemirror_mode": {
    "name": "ipython",
    "version": 3
   },
   "file_extension": ".py",
   "mimetype": "text/x-python",
   "name": "python",
   "nbconvert_exporter": "python",
   "pygments_lexer": "ipython3",
   "version": "3.8.5"
  }
 },
 "nbformat": 4,
 "nbformat_minor": 5
}

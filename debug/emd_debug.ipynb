{
 "cells": [
  {
   "cell_type": "code",
   "execution_count": 5,
   "id": "manufactured-hazard",
   "metadata": {},
   "outputs": [
    {
     "data": {
      "text/plain": [
       "(2.585470414529,\n",
       " [[0.0, 0.9999990000000001, 0.0, 0.0],\n",
       "  [0.0, 0.0, 0.0, 0.0],\n",
       "  [0.0, 0.0, 0.0, 0.0],\n",
       "  [0.0, 0.0, 0.0, 0.0]])"
      ]
     },
     "execution_count": 5,
     "metadata": {},
     "output_type": "execute_result"
    }
   ],
   "source": [
    "'''\n",
    "infeasible?!\n",
    "\n",
    "bow_s:\n",
    "[1. 0. 0. 0.]\n",
    "\n",
    "bow_t:\n",
    "[0. 1. 1. 1.]\n",
    "\n",
    "D:\n",
    "[[1.         0.5854713  0.8332059  0.80485016]\n",
    " [0.5854713  1.         1.         1.        ]\n",
    " [0.8332059  1.         1.         1.        ]\n",
    " [0.80485016 1.         1.         1.        ]]\n",
    "\n",
    "'''\n",
    "\n",
    "\n",
    "\n",
    "w1 = np.array([1., 0., 0., 0.])\n",
    "w2 = np.array([0., 1., 1., 1.])\n",
    "D = parse_matrix('''\n",
    "[[1.         0.5854713  0.8332059  0.80485016]\n",
    " [0.5854713  1.         1.         1.        ]\n",
    " [0.8332059  1.         1.         1.        ]\n",
    " [0.80485016 1.         1.         1.        ]]\n",
    "''')\n",
    "\n",
    "from pyemd import emd_with_flow\n",
    "emd_with_flow(w1, w2, D)"
   ]
  },
  {
   "cell_type": "code",
   "execution_count": 6,
   "id": "neither-rover",
   "metadata": {},
   "outputs": [
    {
     "name": "stderr",
     "output_type": "stream",
     "text": [
      "/opt/miniconda3/envs/vectorian2021/lib/python3.8/site-packages/ot/lp/__init__.py:421: UserWarning: Problem infeasible. Check that a and b are in the simplex\n",
      "  check_result(result_code)\n"
     ]
    },
    {
     "data": {
      "text/plain": [
       "0.0"
      ]
     },
     "execution_count": 6,
     "metadata": {},
     "output_type": "execute_result"
    }
   ],
   "source": [
    "import ot\n",
    "ot.emd2(w1, w2, D)"
   ]
  },
  {
   "cell_type": "code",
   "execution_count": 2,
   "id": "communist-gothic",
   "metadata": {},
   "outputs": [
    {
     "data": {
      "text/plain": [
       "array([[1.        , 0.5854713 , 0.8332059 , 0.80485016],\n",
       "       [0.5854713 , 1.        , 1.        , 1.        ],\n",
       "       [0.8332059 , 1.        , 1.        , 1.        ],\n",
       "       [0.80485016, 1.        , 1.        , 1.        ]])"
      ]
     },
     "execution_count": 2,
     "metadata": {},
     "output_type": "execute_result"
    }
   ],
   "source": [
    "import re\n",
    "import json\n",
    "import numpy as np\n",
    "\n",
    "def parse_matrix(s):\n",
    "    s = re.sub('\\s+', ',', s.strip())\n",
    "    s = s.replace(',]', ']')\n",
    "    s = s.replace('.,', ',')\n",
    "    s = s.replace('.]', ']')\n",
    "    return np.array(json.loads(s))\n",
    "\n",
    "D = parse_matrix('''\n",
    "[[1.         0.5854713  0.8332059  0.80485016]\n",
    " [0.5854713  1.         1.         1.        ]\n",
    " [0.8332059  1.         1.         1.        ]\n",
    " [0.80485016 1.         1.         1.        ]]\n",
    "''')\n",
    "\n",
    "D"
   ]
  },
  {
   "cell_type": "code",
   "execution_count": 12,
   "id": "phantom-addition",
   "metadata": {},
   "outputs": [
    {
     "data": {
      "text/plain": [
       "(0.5, [[0.0, 1.0], [0.0, 0.0]])"
      ]
     },
     "execution_count": 12,
     "metadata": {},
     "output_type": "execute_result"
    }
   ],
   "source": [
    "import numpy as np\n",
    "\n",
    "w1 = np.array([2, 0], dtype=np.float64)\n",
    "w2 = np.array([0, 1], dtype=np.float64)\n",
    "d = 0.25\n",
    "D = np.array([\n",
    "    [0, d],\n",
    "    [d, 0]\n",
    "], dtype=np.float64)\n",
    "\n",
    "from pyemd import emd_with_flow\n",
    "emd_with_flow(w1, w2, D)"
   ]
  },
  {
   "cell_type": "code",
   "execution_count": null,
   "id": "proper-orlando",
   "metadata": {},
   "outputs": [],
   "source": []
  }
 ],
 "metadata": {
  "kernelspec": {
   "display_name": "Python 3",
   "language": "python",
   "name": "python3"
  },
  "language_info": {
   "codemirror_mode": {
    "name": "ipython",
    "version": 3
   },
   "file_extension": ".py",
   "mimetype": "text/x-python",
   "name": "python",
   "nbconvert_exporter": "python",
   "pygments_lexer": "ipython3",
   "version": "3.8.5"
  }
 },
 "nbformat": 4,
 "nbformat_minor": 5
}

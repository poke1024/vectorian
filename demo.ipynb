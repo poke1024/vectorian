{
 "cells": [
  {
   "cell_type": "code",
   "execution_count": 1,
   "id": "stainless-spoke",
   "metadata": {},
   "outputs": [],
   "source": [
    "from pathlib import Path\n",
    "\n",
    "import os\n",
    "import sys\n",
    "\n",
    "current_path = Path(os.getcwd())\n",
    "sys.path.append(str(current_path))"
   ]
  },
  {
   "cell_type": "code",
   "execution_count": 2,
   "id": "accredited-candy",
   "metadata": {},
   "outputs": [
    {
     "name": "stdout",
     "output_type": "stream",
     "text": [
      "Matching checksum for /Users/arbeit/Projects/vectorian-2021/vectorian/core/cpp/core.cpp --> not compiling\n"
     ]
    }
   ],
   "source": [
    "import vectorian\n",
    "vectorian.compile()"
   ]
  },
  {
   "cell_type": "code",
   "execution_count": 3,
   "id": "documentary-selling",
   "metadata": {},
   "outputs": [],
   "source": [
    "import spacy\n",
    "nlp = spacy.load(\"en_core_web_sm\")"
   ]
  },
  {
   "cell_type": "code",
   "execution_count": 4,
   "id": "unnecessary-estate",
   "metadata": {},
   "outputs": [],
   "source": [
    "import vectorian\n",
    "from vectorian.embeddings import FastText\n",
    "\n",
    "fasttext = FastText(\"en\")"
   ]
  },
  {
   "cell_type": "code",
   "execution_count": 5,
   "id": "chemical-australian",
   "metadata": {},
   "outputs": [],
   "source": [
    "import vectorian.utils as utils\n",
    "\n",
    "token_mappings = {\n",
    "    \"tokenizer\": [],\n",
    "    \"tagger\": []\n",
    "}\n",
    "\n",
    "token_mappings[\"tokenizer\"].append(utils.lowercase())\n",
    "token_mappings[\"tokenizer\"].append(utils.erase(\"W\"))\n",
    "token_mappings[\"tokenizer\"].append(utils.alpha())\n",
    "\n",
    "def filter_punct(t):\n",
    "    return None if t[\"pos\"] == \"PUNCT\" else t\n",
    "\n",
    "token_mappings[\"tagger\"].append(filter_punct)\n",
    "token_mappings[\"tagger\"].append(utils.rewrite({\n",
    "    'pos': {\n",
    "        'PROPN': 'NOUN'\n",
    "    },\n",
    "    'tag': {\n",
    "        'NNP': 'NN',\n",
    "        'NNPS': 'NNS',\n",
    "    }\n",
    "}))\n",
    "\n"
   ]
  },
  {
   "cell_type": "code",
   "execution_count": 6,
   "id": "exempt-diana",
   "metadata": {},
   "outputs": [
    {
     "name": "stderr",
     "output_type": "stream",
     "text": [
      "Importing <string>: 100%|██████████| 1/1 [00:00<00:00, 29.94it/s]\n"
     ]
    }
   ],
   "source": [
    "from vectorian.importers import StringImporter\n",
    "from vectorian.session import LabSession\n",
    "\n",
    "im = StringImporter(nlp)\n",
    "doc = im(\"Hey, ye want to talk like a pirate, eh?\")\n",
    "\n",
    "\n",
    "session = LabSession(\n",
    "    [doc],\n",
    "    static_embeddings=[fasttext],\n",
    "    token_mappings=token_mappings)\n",
    "\n",
    "index = session.index_for_metric(\"auto\", nlp)"
   ]
  },
  {
   "cell_type": "code",
   "execution_count": 7,
   "id": "destroyed-fourth",
   "metadata": {},
   "outputs": [
    {
     "data": {
      "application/vnd.jupyter.widget-view+json": {
       "model_id": "",
       "version_major": 2,
       "version_minor": 0
      },
      "text/plain": [
       "FloatProgress(value=0.0, layout=Layout(width='100%'), max=1.0)"
      ]
     },
     "metadata": {},
     "output_type": "display_data"
    },
    {
     "data": {
      "text/html": [
       "\n",
       "<iframe\n",
       "\tid=\"vectorian-iframe-1614699095628377000\"\n",
       "\twidth=\"100%\"\n",
       "\theight=\"100%\"\n",
       "\tsrcdoc=\"&lt;!DOCTYPE html&gt;\n",
       "&lt;html&gt;\n",
       "\t&lt;head&gt;\n",
       "\t\t&lt;meta charset=&quot;utf-8&quot;&gt;\n",
       "\t\t&lt;meta name=&quot;viewport&quot; content=&quot;width=device-width, initial-scale=1&quot;&gt;\n",
       "\t\t&lt;title&gt;Vectorian&lt;/title&gt;\n",
       "\t\t&lt;link rel=&quot;stylesheet&quot; href=&quot;https://cdn.jsdelivr.net/npm/bulma@0.9.1/css/bulma.min.css&quot;&gt;\n",
       "\t&lt;/head&gt;\n",
       "\t&lt;body&gt;\n",
       "\t\t&lt;div class=&quot;container&quot; height=&quot;100%&quot;&gt;\n",
       "\t\t\t&lt;div class=&quot;section&quot;&gt;\n",
       "&lt;!DOCTYPE html&gt;&lt;article class=&quot;media&quot;&gt;&lt;div class=&quot;media-left&quot;&gt;&lt;p class=&quot;image is-64x64&quot;&gt;&lt;span class=&quot;buttons&quot;&gt;&lt;span class=&quot;has-text-weight-bold&quot;&gt;60.1%&lt;/span&gt;&lt;br /&gt;&lt;div&gt;&lt;/div&gt;&lt;/span&gt;&lt;/p&gt;&lt;/div&gt;&lt;div class=&quot;media-content&quot;&gt;&lt;div class=&quot;is-pulled-right&quot;&gt;&lt;small&gt;&lt;/small&gt;&lt;/div&gt;&lt;div&gt;&lt;br /&gt;&lt;br /&gt;&lt;span&gt;&lt;span class=&quot;has-text-grey-light&quot;&gt;Hey, ye want to &lt;/span&gt; &lt;span&gt;&lt;span style=&quot;display:inline-table;&quot;&gt;&lt;span style=&quot;display:table-row;&quot;&gt;&lt;span style=&quot;display:table-cell;&quot;&gt;&lt;span class=&quot;has-text-black has-text-weight-bold&quot;&gt;talk&lt;/span&gt;&lt;/span&gt; &lt;span style=&quot;display:table-cell;&quot;&gt;&lt;span class=&quot;tag is-light&quot;&gt;speak&lt;/span&gt;&lt;/span&gt; &lt;span style=&quot;display:table-cell; opacity:1.0;&quot;&gt;&lt;span class=&quot;tag is-warning&quot;&gt;60%&lt;/span&gt;&lt;/span&gt;&lt;/span&gt;&lt;/span&gt;&lt;/span&gt; &lt;span class=&quot;has-text-grey-light&quot;&gt;like a pirate, eh&lt;/span&gt;&lt;/span&gt;&lt;/div&gt;&lt;/div&gt;&lt;/article&gt;\n",
       "\t\t\t&lt;/div&gt;\n",
       "\t\t&lt;/div&gt;\n",
       "\t&lt;/body&gt;\n",
       "&lt;/html&gt;\"\n",
       "\tframeborder=\"0\"\n",
       "\tallowfullscreen\n",
       "></iframe>\n",
       "<script>\n",
       "\tvar f = document.getElementById(\"vectorian-iframe-1614699095628377000\");\n",
       "\tf.onload = function() {\n",
       "\t\tf.height = f.contentWindow.document.body.scrollHeight + \"px\";\n",
       "\t};\n",
       "</script>\n",
       "\t\t"
      ],
      "text/plain": [
       "<vectorian.session.LabResult at 0x7fa72aadd7f0>"
      ]
     },
     "execution_count": 7,
     "metadata": {},
     "output_type": "execute_result"
    }
   ],
   "source": [
    "r = index.find(\"speak\", n=1)\n",
    "r"
   ]
  },
  {
   "cell_type": "code",
   "execution_count": null,
   "id": "clinical-mason",
   "metadata": {},
   "outputs": [],
   "source": []
  },
  {
   "cell_type": "code",
   "execution_count": 8,
   "id": "simple-viewer",
   "metadata": {},
   "outputs": [
    {
     "data": {
      "text/plain": [
       "(300,)"
      ]
     },
     "execution_count": 8,
     "metadata": {},
     "output_type": "execute_result"
    }
   ],
   "source": [
    "session.get_embedding_instance(fasttext).tok2vec(\"talk\").shape"
   ]
  },
  {
   "cell_type": "code",
   "execution_count": 12,
   "id": "infrared-verification",
   "metadata": {},
   "outputs": [
    {
     "data": {
      "text/plain": [
       "0.60145444"
      ]
     },
     "execution_count": 12,
     "metadata": {},
     "output_type": "execute_result"
    }
   ],
   "source": [
    "import numpy as np\n",
    "tok2vec = session.get_embedding_instance(fasttext).tok2vec\n",
    "np.dot(tok2vec(\"talk\"), tok2vec(\"speak\"))"
   ]
  },
  {
   "cell_type": "code",
   "execution_count": 8,
   "id": "experimental-cancer",
   "metadata": {},
   "outputs": [
    {
     "name": "stderr",
     "output_type": "stream",
     "text": [
      "Importing /Users/arbeit/Wise Children.txt: 100%|██████████| 369/369 [00:04<00:00, 76.24it/s] \n"
     ]
    }
   ],
   "source": [
    "from vectorian.importers import NovelImporter\n",
    "from vectorian.session import LabSession\n",
    "\n",
    "im = NovelImporter(nlp)\n",
    "doc = im(\"/Users/arbeit/Wise Children.txt\")\n",
    "\n",
    "session = LabSession(\n",
    "    [doc],\n",
    "    [fasttext],\n",
    "    token_mappings)\n",
    "\n",
    "index = session.index_for_metric(\"auto\", nlp)"
   ]
  },
  {
   "cell_type": "code",
   "execution_count": 9,
   "id": "blond-protest",
   "metadata": {},
   "outputs": [
    {
     "data": {
      "application/vnd.jupyter.widget-view+json": {
       "model_id": "",
       "version_major": 2,
       "version_minor": 0
      },
      "text/plain": [
       "FloatProgress(value=0.0, layout=Layout(width='100%'), max=1.0)"
      ]
     },
     "metadata": {},
     "output_type": "display_data"
    }
   ],
   "source": [
    "r = index.find(\"write female\", n=3)  # options={'pos_filter': [\"NOUN\"]}"
   ]
  },
  {
   "cell_type": "code",
   "execution_count": 10,
   "id": "returning-literature",
   "metadata": {},
   "outputs": [
    {
     "data": {
      "text/plain": [
       "0.05346989631652832"
      ]
     },
     "execution_count": 10,
     "metadata": {},
     "output_type": "execute_result"
    }
   ],
   "source": [
    "r.duration"
   ]
  },
  {
   "cell_type": "code",
   "execution_count": 11,
   "id": "physical-circumstances",
   "metadata": {},
   "outputs": [
    {
     "data": {
      "text/html": [
       "\n",
       "<iframe\n",
       "\tid=\"vectorian-iframe-1614699109382682000\"\n",
       "\twidth=\"100%\"\n",
       "\theight=\"100%\"\n",
       "\tsrcdoc=\"&lt;!DOCTYPE html&gt;\n",
       "&lt;html&gt;\n",
       "\t&lt;head&gt;\n",
       "\t\t&lt;meta charset=&quot;utf-8&quot;&gt;\n",
       "\t\t&lt;meta name=&quot;viewport&quot; content=&quot;width=device-width, initial-scale=1&quot;&gt;\n",
       "\t\t&lt;title&gt;Vectorian&lt;/title&gt;\n",
       "\t\t&lt;link rel=&quot;stylesheet&quot; href=&quot;https://cdn.jsdelivr.net/npm/bulma@0.9.1/css/bulma.min.css&quot;&gt;\n",
       "\t&lt;/head&gt;\n",
       "\t&lt;body&gt;\n",
       "\t\t&lt;div class=&quot;container&quot; height=&quot;100%&quot;&gt;\n",
       "\t\t\t&lt;div class=&quot;section&quot;&gt;\n",
       "&lt;!DOCTYPE html&gt;&lt;article class=&quot;media&quot;&gt;&lt;div class=&quot;media-left&quot;&gt;&lt;p class=&quot;image is-64x64&quot;&gt;&lt;span class=&quot;buttons&quot;&gt;&lt;span class=&quot;has-text-weight-bold&quot;&gt;75.0%&lt;/span&gt;&lt;br /&gt;&lt;div&gt;&lt;div style=&quot;text-decoration: line-through;&quot;&gt;write&lt;/div&gt;&lt;/div&gt;&lt;/span&gt;&lt;/p&gt;&lt;/div&gt;&lt;div class=&quot;media-content&quot;&gt;&lt;div class=&quot;is-pulled-right&quot;&gt;&lt;small class=&quot;is-italic&quot;&gt;Wise Children, &lt;/small&gt;&lt;small&gt;par. 150&lt;/small&gt;&lt;/div&gt;&lt;div&gt;&lt;br /&gt;&lt;br /&gt;&lt;span&gt;&lt;span class=&quot;has-text-grey-light&quot;&gt;for the voice.’11Dora Chance is the only completely &lt;/span&gt; &lt;span&gt;&lt;span style=&quot;display:inline-table;&quot;&gt;&lt;span style=&quot;display:table-row;&quot;&gt;&lt;span style=&quot;display:table-cell;&quot;&gt;&lt;span class=&quot;has-text-black has-text-weight-bold&quot;&gt;female&lt;/span&gt;&lt;/span&gt; &lt;span style=&quot;display:table-cell;&quot;&gt;&lt;span class=&quot;tag is-light&quot;&gt;female&lt;/span&gt;&lt;/span&gt; &lt;span style=&quot;display:table-cell; opacity:1.0;&quot;&gt;&lt;span class=&quot;tag is-success&quot;&gt;100%&lt;/span&gt;&lt;/span&gt;&lt;/span&gt;&lt;/span&gt;&lt;/span&gt; &lt;span class=&quot;has-text-grey-light&quot;&gt;first-person protagonist in Carter’s novels – one who knows, &lt;/span&gt;&lt;/span&gt;&lt;/div&gt;&lt;/div&gt;&lt;/article&gt;&lt;article class=&quot;media&quot;&gt;&lt;div class=&quot;media-left&quot;&gt;&lt;p class=&quot;image is-64x64&quot;&gt;&lt;span class=&quot;buttons&quot;&gt;&lt;span class=&quot;has-text-weight-bold&quot;&gt;75.0%&lt;/span&gt;&lt;br /&gt;&lt;div&gt;&lt;div style=&quot;text-decoration: line-through;&quot;&gt;write&lt;/div&gt;&lt;/div&gt;&lt;/span&gt;&lt;/p&gt;&lt;/div&gt;&lt;div class=&quot;media-content&quot;&gt;&lt;div class=&quot;is-pulled-right&quot;&gt;&lt;small class=&quot;is-italic&quot;&gt;Wise Children, &lt;/small&gt;&lt;small&gt;par. 151&lt;/small&gt;&lt;/div&gt;&lt;div&gt;&lt;br /&gt;&lt;br /&gt;&lt;span&gt;&lt;span class=&quot;has-text-grey-light&quot;&gt;story?Because if she is – even if she’s the &lt;/span&gt; &lt;span&gt;&lt;span style=&quot;display:inline-table;&quot;&gt;&lt;span style=&quot;display:table-row;&quot;&gt;&lt;span style=&quot;display:table-cell;&quot;&gt;&lt;span class=&quot;has-text-black has-text-weight-bold&quot;&gt;female&lt;/span&gt;&lt;/span&gt; &lt;span style=&quot;display:table-cell;&quot;&gt;&lt;span class=&quot;tag is-light&quot;&gt;female&lt;/span&gt;&lt;/span&gt; &lt;span style=&quot;display:table-cell; opacity:1.0;&quot;&gt;&lt;span class=&quot;tag is-success&quot;&gt;100%&lt;/span&gt;&lt;/span&gt;&lt;/span&gt;&lt;/span&gt;&lt;/span&gt; &lt;span class=&quot;has-text-grey-light&quot;&gt;twentieth-century version of the Ancient Mariner – then she’ll &lt;/span&gt;&lt;/span&gt;&lt;/div&gt;&lt;/div&gt;&lt;/article&gt;&lt;article class=&quot;media&quot;&gt;&lt;div class=&quot;media-left&quot;&gt;&lt;p class=&quot;image is-64x64&quot;&gt;&lt;span class=&quot;buttons&quot;&gt;&lt;span class=&quot;has-text-weight-bold&quot;&gt;75.0%&lt;/span&gt;&lt;br /&gt;&lt;div&gt;&lt;div style=&quot;text-decoration: line-through;&quot;&gt;write&lt;/div&gt;&lt;/div&gt;&lt;/span&gt;&lt;/p&gt;&lt;/div&gt;&lt;div class=&quot;media-content&quot;&gt;&lt;div class=&quot;is-pulled-right&quot;&gt;&lt;small class=&quot;is-italic&quot;&gt;Wise Children, &lt;/small&gt;&lt;small&gt;par. 286&lt;/small&gt;&lt;/div&gt;&lt;div&gt;&lt;br /&gt;&lt;br /&gt;&lt;span&gt;&lt;span class=&quot;has-text-grey-light&quot;&gt;twins announced that they were on the way and a &lt;/span&gt; &lt;span&gt;&lt;span style=&quot;display:inline-table;&quot;&gt;&lt;span style=&quot;display:table-row;&quot;&gt;&lt;span style=&quot;display:table-cell;&quot;&gt;&lt;span class=&quot;has-text-black has-text-weight-bold&quot;&gt;female&lt;/span&gt;&lt;/span&gt; &lt;span style=&quot;display:table-cell;&quot;&gt;&lt;span class=&quot;tag is-light&quot;&gt;female&lt;/span&gt;&lt;/span&gt; &lt;span style=&quot;display:table-cell; opacity:1.0;&quot;&gt;&lt;span class=&quot;tag is-success&quot;&gt;100%&lt;/span&gt;&lt;/span&gt;&lt;/span&gt;&lt;/span&gt;&lt;/span&gt; &lt;span class=&quot;has-text-grey-light&quot;&gt;Hamlet is one thing but a pregnant prince is quite &lt;/span&gt;&lt;/span&gt;&lt;/div&gt;&lt;/div&gt;&lt;/article&gt;\n",
       "\t\t\t&lt;/div&gt;\n",
       "\t\t&lt;/div&gt;\n",
       "\t&lt;/body&gt;\n",
       "&lt;/html&gt;\"\n",
       "\tframeborder=\"0\"\n",
       "\tallowfullscreen\n",
       "></iframe>\n",
       "<script>\n",
       "\tvar f = document.getElementById(\"vectorian-iframe-1614699109382682000\");\n",
       "\tf.onload = function() {\n",
       "\t\tf.height = f.contentWindow.document.body.scrollHeight + \"px\";\n",
       "\t};\n",
       "</script>\n",
       "\t\t"
      ],
      "text/plain": [
       "<vectorian.session.LabResult at 0x7fa72ab30b50>"
      ]
     },
     "execution_count": 11,
     "metadata": {},
     "output_type": "execute_result"
    }
   ],
   "source": [
    "r"
   ]
  },
  {
   "cell_type": "code",
   "execution_count": 16,
   "id": "binary-litigation",
   "metadata": {},
   "outputs": [
    {
     "ename": "TypeError",
     "evalue": "__init__() missing 1 required positional argument: 'location_formatter'",
     "output_type": "error",
     "traceback": [
      "\u001b[0;31m---------------------------------------------------------------------------\u001b[0m",
      "\u001b[0;31mTypeError\u001b[0m                                 Traceback (most recent call last)",
      "\u001b[0;32m<ipython-input-16-2b8cdac8fb45>\u001b[0m in \u001b[0;36m<module>\u001b[0;34m\u001b[0m\n\u001b[0;32m----> 1\u001b[0;31m \u001b[0mr\u001b[0m\u001b[0;34m.\u001b[0m\u001b[0mannotate\u001b[0m\u001b[0;34m(\u001b[0m\u001b[0;34m)\u001b[0m\u001b[0;34m\u001b[0m\u001b[0;34m\u001b[0m\u001b[0m\n\u001b[0m",
      "\u001b[0;32m~/Projects/vectorian-2021/vectorian/session.py\u001b[0m in \u001b[0;36mannotate\u001b[0;34m(self, tags, metric, penalties, **kwargs)\u001b[0m\n\u001b[1;32m    173\u001b[0m \u001b[0;34m\u001b[0m\u001b[0m\n\u001b[1;32m    174\u001b[0m         \u001b[0;32mdef\u001b[0m \u001b[0mannotate\u001b[0m\u001b[0;34m(\u001b[0m\u001b[0mself\u001b[0m\u001b[0;34m,\u001b[0m \u001b[0mtags\u001b[0m\u001b[0;34m=\u001b[0m\u001b[0;32mTrue\u001b[0m\u001b[0;34m,\u001b[0m \u001b[0mmetric\u001b[0m\u001b[0;34m=\u001b[0m\u001b[0;32mTrue\u001b[0m\u001b[0;34m,\u001b[0m \u001b[0mpenalties\u001b[0m\u001b[0;34m=\u001b[0m\u001b[0;32mTrue\u001b[0m\u001b[0;34m,\u001b[0m \u001b[0;34m**\u001b[0m\u001b[0mkwargs\u001b[0m\u001b[0;34m)\u001b[0m\u001b[0;34m:\u001b[0m\u001b[0;34m\u001b[0m\u001b[0;34m\u001b[0m\u001b[0m\n\u001b[0;32m--> 175\u001b[0;31m \t\treturn LabResult(\n\u001b[0m\u001b[1;32m    176\u001b[0m                         \u001b[0mself\u001b[0m\u001b[0;34m.\u001b[0m\u001b[0mindex\u001b[0m\u001b[0;34m,\u001b[0m\u001b[0;34m\u001b[0m\u001b[0;34m\u001b[0m\u001b[0m\n\u001b[1;32m    177\u001b[0m                         \u001b[0mself\u001b[0m\u001b[0;34m.\u001b[0m\u001b[0m_matches\u001b[0m\u001b[0;34m,\u001b[0m\u001b[0;34m\u001b[0m\u001b[0;34m\u001b[0m\u001b[0m\n",
      "\u001b[0;31mTypeError\u001b[0m: __init__() missing 1 required positional argument: 'location_formatter'"
     ]
    }
   ],
   "source": [
    "r.annotate()"
   ]
  },
  {
   "cell_type": "code",
   "execution_count": 13,
   "id": "curious-priest",
   "metadata": {},
   "outputs": [
    {
     "data": {
      "application/vnd.jupyter.widget-view+json": {
       "model_id": "",
       "version_major": 2,
       "version_minor": 0
      },
      "text/plain": [
       "FloatProgress(value=0.0, layout=Layout(width='100%'), max=1.0)"
      ]
     },
     "metadata": {},
     "output_type": "display_data"
    },
    {
     "data": {
      "text/html": [
       "\n",
       "<iframe\n",
       "\tid=\"vectorian-iframe-1614699116267243000\"\n",
       "\twidth=\"100%\"\n",
       "\theight=\"100%\"\n",
       "\tsrcdoc=\"&lt;!DOCTYPE html&gt;\n",
       "&lt;html&gt;\n",
       "\t&lt;head&gt;\n",
       "\t\t&lt;meta charset=&quot;utf-8&quot;&gt;\n",
       "\t\t&lt;meta name=&quot;viewport&quot; content=&quot;width=device-width, initial-scale=1&quot;&gt;\n",
       "\t\t&lt;title&gt;Vectorian&lt;/title&gt;\n",
       "\t\t&lt;link rel=&quot;stylesheet&quot; href=&quot;https://cdn.jsdelivr.net/npm/bulma@0.9.1/css/bulma.min.css&quot;&gt;\n",
       "\t&lt;/head&gt;\n",
       "\t&lt;body&gt;\n",
       "\t\t&lt;div class=&quot;container&quot; height=&quot;100%&quot;&gt;\n",
       "\t\t\t&lt;div class=&quot;section&quot;&gt;\n",
       "&lt;!DOCTYPE html&gt;&lt;article class=&quot;media&quot;&gt;&lt;div class=&quot;media-left&quot;&gt;&lt;p class=&quot;image is-64x64&quot;&gt;&lt;span class=&quot;buttons&quot;&gt;&lt;span class=&quot;has-text-weight-bold&quot;&gt;100.0%&lt;/span&gt;&lt;br /&gt;&lt;div&gt;&lt;/div&gt;&lt;/span&gt;&lt;/p&gt;&lt;/div&gt;&lt;div class=&quot;media-content&quot;&gt;&lt;div class=&quot;is-pulled-right&quot;&gt;&lt;small class=&quot;is-italic&quot;&gt;Wise Children, &lt;/small&gt;&lt;small&gt;&lt;/small&gt;&lt;/div&gt;&lt;div&gt;&lt;br /&gt;&lt;br /&gt;&lt;span&gt;&lt;span class=&quot;has-text-grey-light&quot;&gt;many respects something rather archaic in that he did actually &lt;/span&gt; &lt;span&gt;&lt;span style=&quot;display:inline-table;&quot;&gt;&lt;span style=&quot;display:table-row;&quot;&gt;&lt;span style=&quot;display:table-cell;&quot;&gt;&lt;span class=&quot;has-text-black has-text-weight-bold&quot;&gt;write&lt;/span&gt;&lt;/span&gt; &lt;span style=&quot;display:table-cell;&quot;&gt;&lt;span class=&quot;tag is-light&quot;&gt;write&lt;/span&gt;&lt;/span&gt; &lt;span style=&quot;display:table-cell; opacity:1.0;&quot;&gt;&lt;span class=&quot;tag is-success&quot;&gt;100%&lt;/span&gt;&lt;/span&gt;&lt;/span&gt;&lt;/span&gt;&lt;/span&gt; &lt;span class=&quot;has-text-grey-light&quot;&gt;for the voice.’11Dora Chance is the only completely &lt;/span&gt; &lt;span&gt;&lt;span style=&quot;display:inline-table;&quot;&gt;&lt;span style=&quot;display:table-row;&quot;&gt;&lt;span style=&quot;display:table-cell;&quot;&gt;&lt;span class=&quot;has-text-black has-text-weight-bold&quot;&gt;female&lt;/span&gt;&lt;/span&gt; &lt;span style=&quot;display:table-cell;&quot;&gt;&lt;span class=&quot;tag is-light&quot;&gt;female&lt;/span&gt;&lt;/span&gt; &lt;span style=&quot;display:table-cell; opacity:1.0;&quot;&gt;&lt;span class=&quot;tag is-success&quot;&gt;100%&lt;/span&gt;&lt;/span&gt;&lt;/span&gt;&lt;/span&gt;&lt;/span&gt; &lt;span class=&quot;has-text-grey-light&quot;&gt;first-person protagonist in Carter’s novels – one who knows, &lt;/span&gt;&lt;/span&gt;&lt;/div&gt;&lt;/div&gt;&lt;/article&gt;&lt;article class=&quot;media&quot;&gt;&lt;div class=&quot;media-left&quot;&gt;&lt;p class=&quot;image is-64x64&quot;&gt;&lt;span class=&quot;buttons&quot;&gt;&lt;span class=&quot;has-text-weight-bold&quot;&gt;100.0%&lt;/span&gt;&lt;br /&gt;&lt;div&gt;&lt;/div&gt;&lt;/span&gt;&lt;/p&gt;&lt;/div&gt;&lt;div class=&quot;media-content&quot;&gt;&lt;div class=&quot;is-pulled-right&quot;&gt;&lt;small class=&quot;is-italic&quot;&gt;Wise Children, &lt;/small&gt;&lt;small&gt;&lt;/small&gt;&lt;/div&gt;&lt;div&gt;&lt;br /&gt;&lt;br /&gt;&lt;span&gt;&lt;span class=&quot;has-text-grey-light&quot;&gt;many respects something rather archaic in that he did actually &lt;/span&gt; &lt;span&gt;&lt;span style=&quot;display:inline-table;&quot;&gt;&lt;span style=&quot;display:table-row;&quot;&gt;&lt;span style=&quot;display:table-cell;&quot;&gt;&lt;span class=&quot;has-text-black has-text-weight-bold&quot;&gt;write&lt;/span&gt;&lt;/span&gt; &lt;span style=&quot;display:table-cell;&quot;&gt;&lt;span class=&quot;tag is-light&quot;&gt;write&lt;/span&gt;&lt;/span&gt; &lt;span style=&quot;display:table-cell; opacity:1.0;&quot;&gt;&lt;span class=&quot;tag is-success&quot;&gt;100%&lt;/span&gt;&lt;/span&gt;&lt;/span&gt;&lt;/span&gt;&lt;/span&gt; &lt;span class=&quot;has-text-grey-light&quot;&gt;for the voice.’11Dora Chance is the only completely &lt;/span&gt; &lt;span&gt;&lt;span style=&quot;display:inline-table;&quot;&gt;&lt;span style=&quot;display:table-row;&quot;&gt;&lt;span style=&quot;display:table-cell;&quot;&gt;&lt;span class=&quot;has-text-black has-text-weight-bold&quot;&gt;female&lt;/span&gt;&lt;/span&gt; &lt;span style=&quot;display:table-cell;&quot;&gt;&lt;span class=&quot;tag is-light&quot;&gt;female&lt;/span&gt;&lt;/span&gt; &lt;span style=&quot;display:table-cell; opacity:1.0;&quot;&gt;&lt;span class=&quot;tag is-success&quot;&gt;100%&lt;/span&gt;&lt;/span&gt;&lt;/span&gt;&lt;/span&gt;&lt;/span&gt; &lt;span class=&quot;has-text-grey-light&quot;&gt;first-person protagonist in Carter’s novels – one who knows, &lt;/span&gt;&lt;/span&gt;&lt;/div&gt;&lt;/div&gt;&lt;/article&gt;&lt;article class=&quot;media&quot;&gt;&lt;div class=&quot;media-left&quot;&gt;&lt;p class=&quot;image is-64x64&quot;&gt;&lt;span class=&quot;buttons&quot;&gt;&lt;span class=&quot;has-text-weight-bold&quot;&gt;100.0%&lt;/span&gt;&lt;br /&gt;&lt;div&gt;&lt;/div&gt;&lt;/span&gt;&lt;/p&gt;&lt;/div&gt;&lt;div class=&quot;media-content&quot;&gt;&lt;div class=&quot;is-pulled-right&quot;&gt;&lt;small class=&quot;is-italic&quot;&gt;Wise Children, &lt;/small&gt;&lt;small&gt;&lt;/small&gt;&lt;/div&gt;&lt;div&gt;&lt;br /&gt;&lt;br /&gt;&lt;span&gt;&lt;span class=&quot;has-text-grey-light&quot;&gt;many respects something rather archaic in that he did actually &lt;/span&gt; &lt;span&gt;&lt;span style=&quot;display:inline-table;&quot;&gt;&lt;span style=&quot;display:table-row;&quot;&gt;&lt;span style=&quot;display:table-cell;&quot;&gt;&lt;span class=&quot;has-text-black has-text-weight-bold&quot;&gt;write&lt;/span&gt;&lt;/span&gt; &lt;span style=&quot;display:table-cell;&quot;&gt;&lt;span class=&quot;tag is-light&quot;&gt;write&lt;/span&gt;&lt;/span&gt; &lt;span style=&quot;display:table-cell; opacity:1.0;&quot;&gt;&lt;span class=&quot;tag is-success&quot;&gt;100%&lt;/span&gt;&lt;/span&gt;&lt;/span&gt;&lt;/span&gt;&lt;/span&gt; &lt;span class=&quot;has-text-grey-light&quot;&gt;for the voice.’11Dora Chance is the only completely &lt;/span&gt; &lt;span&gt;&lt;span style=&quot;display:inline-table;&quot;&gt;&lt;span style=&quot;display:table-row;&quot;&gt;&lt;span style=&quot;display:table-cell;&quot;&gt;&lt;span class=&quot;has-text-black has-text-weight-bold&quot;&gt;female&lt;/span&gt;&lt;/span&gt; &lt;span style=&quot;display:table-cell;&quot;&gt;&lt;span class=&quot;tag is-light&quot;&gt;female&lt;/span&gt;&lt;/span&gt; &lt;span style=&quot;display:table-cell; opacity:1.0;&quot;&gt;&lt;span class=&quot;tag is-success&quot;&gt;100%&lt;/span&gt;&lt;/span&gt;&lt;/span&gt;&lt;/span&gt;&lt;/span&gt; &lt;span class=&quot;has-text-grey-light&quot;&gt;first-person protagonist in Carter’s novels – one who knows, &lt;/span&gt;&lt;/span&gt;&lt;/div&gt;&lt;/div&gt;&lt;/article&gt;\n",
       "\t\t\t&lt;/div&gt;\n",
       "\t\t&lt;/div&gt;\n",
       "\t&lt;/body&gt;\n",
       "&lt;/html&gt;\"\n",
       "\tframeborder=\"0\"\n",
       "\tallowfullscreen\n",
       "></iframe>\n",
       "<script>\n",
       "\tvar f = document.getElementById(\"vectorian-iframe-1614699116267243000\");\n",
       "\tf.onload = function() {\n",
       "\t\tf.height = f.contentWindow.document.body.scrollHeight + \"px\";\n",
       "\t};\n",
       "</script>\n",
       "\t\t"
      ],
      "text/plain": [
       "<vectorian.session.LabResult at 0x7fa72e3eaf10>"
      ]
     },
     "execution_count": 13,
     "metadata": {},
     "output_type": "execute_result"
    }
   ],
   "source": [
    "index.find(\"write female\", n=3, on=\"token\", window=(15, 1))"
   ]
  },
  {
   "cell_type": "code",
   "execution_count": 15,
   "id": "partial-container",
   "metadata": {},
   "outputs": [
    {
     "data": {
      "application/vnd.jupyter.widget-view+json": {
       "model_id": "",
       "version_major": 2,
       "version_minor": 0
      },
      "text/plain": [
       "FloatProgress(value=0.0, layout=Layout(width='100%'), max=1.0)"
      ]
     },
     "metadata": {},
     "output_type": "display_data"
    }
   ],
   "source": [
    "from vectorian.metrics import CosineMetric, WordSimilarityMetric, AlignmentSentenceMetric\n",
    "from vectorian.alignment import WordMoversDistance\n",
    "\n",
    "index = session.index_for_metric(AlignmentSentenceMetric(\n",
    "    word_metric=WordSimilarityMetric(fasttext, CosineMetric()),\n",
    "    alignment=WordMoversDistance()))\n",
    "\n",
    "query = nlp(\"the great star\")\n",
    "#query = nlp(\"making america great again\")\n",
    "r = index.find(query, n=5, min_score=0.1)"
   ]
  },
  {
   "cell_type": "code",
   "execution_count": null,
   "id": "deluxe-lindsay",
   "metadata": {},
   "outputs": [],
   "source": []
  },
  {
   "cell_type": "code",
   "execution_count": 16,
   "id": "developing-warrior",
   "metadata": {},
   "outputs": [
    {
     "data": {
      "text/html": [
       "\n",
       "<iframe\n",
       "\tid=\"vectorian-iframe-1614288887913078000\"\n",
       "\twidth=\"100%\"\n",
       "\theight=\"100%\"\n",
       "\tsrcdoc=\"&lt;!DOCTYPE html&gt;\n",
       "&lt;html&gt;\n",
       "\t&lt;head&gt;\n",
       "\t\t&lt;meta charset=&quot;utf-8&quot;&gt;\n",
       "\t\t&lt;meta name=&quot;viewport&quot; content=&quot;width=device-width, initial-scale=1&quot;&gt;\n",
       "\t\t&lt;title&gt;Vectorian&lt;/title&gt;\n",
       "\t\t&lt;link rel=&quot;stylesheet&quot; href=&quot;https://cdn.jsdelivr.net/npm/bulma@0.9.1/css/bulma.min.css&quot;&gt;\n",
       "\t&lt;/head&gt;\n",
       "\t&lt;body&gt;\n",
       "\t\t&lt;div class=&quot;container&quot; height=&quot;100%&quot;&gt;\n",
       "\t\t\t&lt;div class=&quot;section&quot;&gt;\n",
       "&lt;!DOCTYPE html&gt;&lt;article class=&quot;media&quot;&gt;&lt;div class=&quot;media-left&quot;&gt;&lt;p class=&quot;image is-64x64&quot;&gt;&lt;span class=&quot;buttons&quot;&gt;&lt;span class=&quot;has-text-weight-bold&quot;&gt;100.0%&lt;/span&gt;&lt;br /&gt;&lt;div&gt;&lt;/div&gt;&lt;/span&gt;&lt;/p&gt;&lt;/div&gt;&lt;div class=&quot;media-content&quot;&gt;&lt;div class=&quot;is-pulled-right&quot;&gt;&lt;small class=&quot;is-italic&quot;&gt;A Child&#x27;s Dream of a Star, &lt;/small&gt;&lt;small&gt;par. 17&lt;/small&gt;&lt;/div&gt;&lt;div&gt;&lt;br /&gt;&lt;br /&gt;&lt;span&gt;&lt;span class=&quot;has-text-grey-light&quot;&gt;of people taken up that sparkling road by angels.And &lt;/span&gt; &lt;span&gt;&lt;span style=&quot;display:inline-table;&quot;&gt;&lt;span style=&quot;display:table-row;&quot;&gt;&lt;span style=&quot;display:table-cell;&quot;&gt;&lt;span class=&quot;has-text-black has-text-weight-bold&quot;&gt;the&lt;/span&gt;&lt;/span&gt; &lt;span style=&quot;display:table-cell;&quot;&gt;&lt;span class=&quot;tag is-light&quot;&gt;the&lt;/span&gt;&lt;/span&gt; &lt;span style=&quot;display:table-cell; opacity:1.0;&quot;&gt;&lt;span class=&quot;tag is-success&quot;&gt;100%&lt;/span&gt;&lt;/span&gt;&lt;/span&gt;&lt;/span&gt;&lt;/span&gt; &lt;span&gt;&lt;span style=&quot;display:inline-table;&quot;&gt;&lt;span style=&quot;display:table-row;&quot;&gt;&lt;span style=&quot;display:table-cell;&quot;&gt;&lt;span class=&quot;has-text-black has-text-weight-bold&quot;&gt;star&lt;/span&gt;&lt;/span&gt; &lt;span style=&quot;display:table-cell;&quot;&gt;&lt;span class=&quot;tag is-light&quot;&gt;star&lt;/span&gt;&lt;/span&gt; &lt;span style=&quot;display:table-cell; opacity:1.0;&quot;&gt;&lt;span class=&quot;tag is-success&quot;&gt;100%&lt;/span&gt;&lt;/span&gt;&lt;/span&gt;&lt;/span&gt;&lt;/span&gt; &lt;span class=&quot;has-text-grey-light&quot;&gt;opening, showed him a &lt;/span&gt; &lt;span&gt;&lt;span style=&quot;display:inline-table;&quot;&gt;&lt;span style=&quot;display:table-row;&quot;&gt;&lt;span style=&quot;display:table-cell;&quot;&gt;&lt;span class=&quot;has-text-black has-text-weight-bold&quot;&gt;great&lt;/span&gt;&lt;/span&gt; &lt;span style=&quot;display:table-cell;&quot;&gt;&lt;span class=&quot;tag is-light&quot;&gt;great&lt;/span&gt;&lt;/span&gt; &lt;span style=&quot;display:table-cell; opacity:1.0;&quot;&gt;&lt;span class=&quot;tag is-success&quot;&gt;100%&lt;/span&gt;&lt;/span&gt;&lt;/span&gt;&lt;/span&gt;&lt;/span&gt; &lt;span class=&quot;has-text-grey-light&quot;&gt;world of light, where many more such angels waited to &lt;/span&gt;&lt;/span&gt;&lt;/div&gt;&lt;/div&gt;&lt;/article&gt;&lt;article class=&quot;media&quot;&gt;&lt;div class=&quot;media-left&quot;&gt;&lt;p class=&quot;image is-64x64&quot;&gt;&lt;span class=&quot;buttons&quot;&gt;&lt;span class=&quot;has-text-weight-bold&quot;&gt;98.1%&lt;/span&gt;&lt;br /&gt;&lt;div&gt;&lt;/div&gt;&lt;/span&gt;&lt;/p&gt;&lt;/div&gt;&lt;div class=&quot;media-content&quot;&gt;&lt;div class=&quot;is-pulled-right&quot;&gt;&lt;small class=&quot;is-italic&quot;&gt;A Child&#x27;s Dream of a Star, &lt;/small&gt;&lt;small&gt;par. 10&lt;/small&gt;&lt;/div&gt;&lt;div&gt;&lt;br /&gt;&lt;br /&gt;&lt;span&gt;&lt;span&gt;&lt;span style=&quot;display:inline-table;&quot;&gt;&lt;span style=&quot;display:table-row;&quot;&gt;&lt;span style=&quot;display:table-cell;&quot;&gt;&lt;span class=&quot;has-text-black has-text-weight-bold&quot;&gt;good&lt;/span&gt;&lt;/span&gt; &lt;span style=&quot;display:table-cell;&quot;&gt;&lt;span class=&quot;tag is-light&quot;&gt;great&lt;/span&gt;&lt;/span&gt; &lt;span style=&quot;display:table-cell; opacity:1.0;&quot;&gt;&lt;span class=&quot;tag is-success&quot;&gt;83%&lt;/span&gt;&lt;/span&gt;&lt;/span&gt;&lt;/span&gt;&lt;/span&gt; &lt;span class=&quot;has-text-grey-light&quot;&gt;night; and when they were turning round to sleep, they used to say, “God bless &lt;/span&gt; &lt;span&gt;&lt;span style=&quot;display:inline-table;&quot;&gt;&lt;span style=&quot;display:table-row;&quot;&gt;&lt;span style=&quot;display:table-cell;&quot;&gt;&lt;span class=&quot;has-text-black has-text-weight-bold&quot;&gt;the&lt;/span&gt;&lt;/span&gt; &lt;span style=&quot;display:table-cell;&quot;&gt;&lt;span class=&quot;tag is-light&quot;&gt;the&lt;/span&gt;&lt;/span&gt; &lt;span style=&quot;display:table-cell; opacity:1.0;&quot;&gt;&lt;span class=&quot;tag is-success&quot;&gt;100%&lt;/span&gt;&lt;/span&gt;&lt;/span&gt;&lt;/span&gt;&lt;/span&gt; &lt;span&gt;&lt;span style=&quot;display:inline-table;&quot;&gt;&lt;span style=&quot;display:table-row;&quot;&gt;&lt;span style=&quot;display:table-cell;&quot;&gt;&lt;span class=&quot;has-text-black has-text-weight-bold&quot;&gt;star&lt;/span&gt;&lt;/span&gt; &lt;span style=&quot;display:table-cell;&quot;&gt;&lt;span class=&quot;tag is-light&quot;&gt;star&lt;/span&gt;&lt;/span&gt; &lt;span style=&quot;display:table-cell; opacity:1.0;&quot;&gt;&lt;span class=&quot;tag is-success&quot;&gt;100%&lt;/span&gt;&lt;/span&gt;&lt;/span&gt;&lt;/span&gt;&lt;/span&gt; &lt;span class=&quot;has-text-grey-light&quot;&gt;But while she was still very young, O, very, very &lt;/span&gt;&lt;/span&gt;&lt;/div&gt;&lt;/div&gt;&lt;/article&gt;&lt;article class=&quot;media&quot;&gt;&lt;div class=&quot;media-left&quot;&gt;&lt;p class=&quot;image is-64x64&quot;&gt;&lt;span class=&quot;buttons&quot;&gt;&lt;span class=&quot;has-text-weight-bold&quot;&gt;95.8%&lt;/span&gt;&lt;br /&gt;&lt;div&gt;&lt;/div&gt;&lt;/span&gt;&lt;/p&gt;&lt;/div&gt;&lt;div class=&quot;media-content&quot;&gt;&lt;div class=&quot;is-pulled-right&quot;&gt;&lt;small class=&quot;is-italic&quot;&gt;A Child&#x27;s Dream of a Star, &lt;/small&gt;&lt;small&gt;par. 20&lt;/small&gt;&lt;/div&gt;&lt;div&gt;&lt;br /&gt;&lt;br /&gt;&lt;span&gt;&lt;span class=&quot;has-text-grey-light&quot;&gt;carried up into the &lt;/span&gt; &lt;span&gt;&lt;span style=&quot;display:inline-table;&quot;&gt;&lt;span style=&quot;display:table-row;&quot;&gt;&lt;span style=&quot;display:table-cell;&quot;&gt;&lt;span class=&quot;has-text-black has-text-weight-bold&quot;&gt;star&lt;/span&gt;&lt;/span&gt; &lt;span style=&quot;display:table-cell;&quot;&gt;&lt;span class=&quot;tag is-light&quot;&gt;star&lt;/span&gt;&lt;/span&gt; &lt;span style=&quot;display:table-cell; opacity:1.0;&quot;&gt;&lt;span class=&quot;tag is-success&quot;&gt;100%&lt;/span&gt;&lt;/span&gt;&lt;/span&gt;&lt;/span&gt;&lt;/span&gt; &lt;span class=&quot;has-text-grey-light&quot;&gt;and some came out from &lt;/span&gt; &lt;span&gt;&lt;span style=&quot;display:inline-table;&quot;&gt;&lt;span style=&quot;display:table-row;&quot;&gt;&lt;span style=&quot;display:table-cell;&quot;&gt;&lt;span class=&quot;has-text-black has-text-weight-bold&quot;&gt;the&lt;/span&gt;&lt;/span&gt; &lt;span style=&quot;display:table-cell;&quot;&gt;&lt;span class=&quot;tag is-light&quot;&gt;the&lt;/span&gt;&lt;/span&gt; &lt;span style=&quot;display:table-cell; opacity:1.0;&quot;&gt;&lt;span class=&quot;tag is-success&quot;&gt;100%&lt;/span&gt;&lt;/span&gt;&lt;/span&gt;&lt;/span&gt;&lt;/span&gt; &lt;span class=&quot;has-text-grey-light&quot;&gt;long rows in which they stood, and fell upon the people’s necks, and kissed them tenderly, and went away with them down avenues of light, and were so &lt;/span&gt; &lt;span&gt;&lt;span style=&quot;display:inline-table;&quot;&gt;&lt;span style=&quot;display:table-row;&quot;&gt;&lt;span style=&quot;display:table-cell;&quot;&gt;&lt;span class=&quot;has-text-black has-text-weight-bold&quot;&gt;happy&lt;/span&gt;&lt;/span&gt; &lt;span style=&quot;display:table-cell;&quot;&gt;&lt;span class=&quot;tag is-light&quot;&gt;great&lt;/span&gt;&lt;/span&gt; &lt;span style=&quot;display:table-cell; opacity:1.0;&quot;&gt;&lt;span class=&quot;tag is-warning&quot;&gt;62%&lt;/span&gt;&lt;/span&gt;&lt;/span&gt;&lt;/span&gt;&lt;/span&gt; &lt;span class=&quot;has-text-grey-light&quot;&gt;in their company, that, lying in his bed, he wept &lt;/span&gt;&lt;/span&gt;&lt;/div&gt;&lt;/div&gt;&lt;/article&gt;&lt;article class=&quot;media&quot;&gt;&lt;div class=&quot;media-left&quot;&gt;&lt;p class=&quot;image is-64x64&quot;&gt;&lt;span class=&quot;buttons&quot;&gt;&lt;span class=&quot;has-text-weight-bold&quot;&gt;95.8%&lt;/span&gt;&lt;br /&gt;&lt;div&gt;&lt;/div&gt;&lt;/span&gt;&lt;/p&gt;&lt;/div&gt;&lt;div class=&quot;media-content&quot;&gt;&lt;div class=&quot;is-pulled-right&quot;&gt;&lt;small class=&quot;is-italic&quot;&gt;A Child&#x27;s Dream of a Star, &lt;/small&gt;&lt;small&gt;par. 16&lt;/small&gt;&lt;/div&gt;&lt;div&gt;&lt;br /&gt;&lt;br /&gt;&lt;span&gt;&lt;span class=&quot;has-text-grey-light&quot;&gt;the bed; and when there was a &lt;/span&gt; &lt;span&gt;&lt;span style=&quot;display:inline-table;&quot;&gt;&lt;span style=&quot;display:table-row;&quot;&gt;&lt;span style=&quot;display:table-cell;&quot;&gt;&lt;span class=&quot;has-text-black has-text-weight-bold&quot;&gt;little&lt;/span&gt;&lt;/span&gt; &lt;span style=&quot;display:table-cell;&quot;&gt;&lt;span class=&quot;tag is-light&quot;&gt;great&lt;/span&gt;&lt;/span&gt; &lt;span style=&quot;display:table-cell; opacity:1.0;&quot;&gt;&lt;span class=&quot;tag is-warning&quot;&gt;61%&lt;/span&gt;&lt;/span&gt;&lt;/span&gt;&lt;/span&gt;&lt;/span&gt; &lt;span class=&quot;has-text-grey-light&quot;&gt;grave among &lt;/span&gt; &lt;span&gt;&lt;span style=&quot;display:inline-table;&quot;&gt;&lt;span style=&quot;display:table-row;&quot;&gt;&lt;span style=&quot;display:table-cell;&quot;&gt;&lt;span class=&quot;has-text-black has-text-weight-bold&quot;&gt;the&lt;/span&gt;&lt;/span&gt; &lt;span style=&quot;display:table-cell;&quot;&gt;&lt;span class=&quot;tag is-light&quot;&gt;the&lt;/span&gt;&lt;/span&gt; &lt;span style=&quot;display:table-cell; opacity:1.0;&quot;&gt;&lt;span class=&quot;tag is-success&quot;&gt;100%&lt;/span&gt;&lt;/span&gt;&lt;/span&gt;&lt;/span&gt;&lt;/span&gt; &lt;span class=&quot;has-text-grey-light&quot;&gt;graves, not there before; and when the &lt;/span&gt; &lt;span&gt;&lt;span style=&quot;display:inline-table;&quot;&gt;&lt;span style=&quot;display:table-row;&quot;&gt;&lt;span style=&quot;display:table-cell;&quot;&gt;&lt;span class=&quot;has-text-black has-text-weight-bold&quot;&gt;star&lt;/span&gt;&lt;/span&gt; &lt;span style=&quot;display:table-cell;&quot;&gt;&lt;span class=&quot;tag is-light&quot;&gt;star&lt;/span&gt;&lt;/span&gt; &lt;span style=&quot;display:table-cell; opacity:1.0;&quot;&gt;&lt;span class=&quot;tag is-success&quot;&gt;100%&lt;/span&gt;&lt;/span&gt;&lt;/span&gt;&lt;/span&gt;&lt;/span&gt; &lt;span class=&quot;has-text-grey-light&quot;&gt;made long rays down towards him, as he saw it &lt;/span&gt;&lt;/span&gt;&lt;/div&gt;&lt;/div&gt;&lt;/article&gt;&lt;article class=&quot;media&quot;&gt;&lt;div class=&quot;media-left&quot;&gt;&lt;p class=&quot;image is-64x64&quot;&gt;&lt;span class=&quot;buttons&quot;&gt;&lt;span class=&quot;has-text-weight-bold&quot;&gt;95.8%&lt;/span&gt;&lt;br /&gt;&lt;div&gt;&lt;/div&gt;&lt;/span&gt;&lt;/p&gt;&lt;/div&gt;&lt;div class=&quot;media-content&quot;&gt;&lt;div class=&quot;is-pulled-right&quot;&gt;&lt;small class=&quot;is-italic&quot;&gt;A Child&#x27;s Dream of a Star, &lt;/small&gt;&lt;small&gt;par. 13&lt;/small&gt;&lt;/div&gt;&lt;div&gt;&lt;br /&gt;&lt;br /&gt;&lt;span&gt;&lt;span&gt;&lt;span style=&quot;display:inline-table;&quot;&gt;&lt;span style=&quot;display:table-row;&quot;&gt;&lt;span style=&quot;display:table-cell;&quot;&gt;&lt;span class=&quot;has-text-black has-text-weight-bold&quot;&gt;little&lt;/span&gt;&lt;/span&gt; &lt;span style=&quot;display:table-cell;&quot;&gt;&lt;span class=&quot;tag is-light&quot;&gt;great&lt;/span&gt;&lt;/span&gt; &lt;span style=&quot;display:table-cell; opacity:1.0;&quot;&gt;&lt;span class=&quot;tag is-warning&quot;&gt;61%&lt;/span&gt;&lt;/span&gt;&lt;/span&gt;&lt;/span&gt;&lt;/span&gt; &lt;span class=&quot;has-text-grey-light&quot;&gt;weak voice used to say, “God bless my brother and &lt;/span&gt; &lt;span&gt;&lt;span style=&quot;display:inline-table;&quot;&gt;&lt;span style=&quot;display:table-row;&quot;&gt;&lt;span style=&quot;display:table-cell;&quot;&gt;&lt;span class=&quot;has-text-black has-text-weight-bold&quot;&gt;the&lt;/span&gt;&lt;/span&gt; &lt;span style=&quot;display:table-cell;&quot;&gt;&lt;span class=&quot;tag is-light&quot;&gt;the&lt;/span&gt;&lt;/span&gt; &lt;span style=&quot;display:table-cell; opacity:1.0;&quot;&gt;&lt;span class=&quot;tag is-success&quot;&gt;100%&lt;/span&gt;&lt;/span&gt;&lt;/span&gt;&lt;/span&gt;&lt;/span&gt; &lt;span&gt;&lt;span style=&quot;display:inline-table;&quot;&gt;&lt;span style=&quot;display:table-row;&quot;&gt;&lt;span style=&quot;display:table-cell;&quot;&gt;&lt;span class=&quot;has-text-black has-text-weight-bold&quot;&gt;star&lt;/span&gt;&lt;/span&gt; &lt;span style=&quot;display:table-cell;&quot;&gt;&lt;span class=&quot;tag is-light&quot;&gt;star&lt;/span&gt;&lt;/span&gt; &lt;span style=&quot;display:table-cell; opacity:1.0;&quot;&gt;&lt;span class=&quot;tag is-success&quot;&gt;100%&lt;/span&gt;&lt;/span&gt;&lt;/span&gt;&lt;/span&gt;&lt;/span&gt; &lt;span class=&quot;has-text-grey-light&quot;&gt;And so the time came, all too soon!when the &lt;/span&gt;&lt;/span&gt;&lt;/div&gt;&lt;/div&gt;&lt;/article&gt;\n",
       "\t\t\t&lt;/div&gt;\n",
       "\t\t&lt;/div&gt;\n",
       "\t&lt;/body&gt;\n",
       "&lt;/html&gt;\"\n",
       "\tframeborder=\"0\"\n",
       "\tallowfullscreen\n",
       "></iframe>\n",
       "<script>\n",
       "\tvar f = document.getElementById(\"vectorian-iframe-1614288887913078000\");\n",
       "\tf.onload = function() {\n",
       "\t\tf.height = f.contentWindow.document.body.scrollHeight + \"px\";\n",
       "\t};\n",
       "</script>\n",
       "\t\t"
      ],
      "text/plain": [
       "<vectorian.session.LabResult at 0x7f84eb5a3490>"
      ]
     },
     "execution_count": 16,
     "metadata": {},
     "output_type": "execute_result"
    }
   ],
   "source": [
    "r"
   ]
  },
  {
   "cell_type": "code",
   "execution_count": 14,
   "id": "miniature-horror",
   "metadata": {},
   "outputs": [
    {
     "data": {
      "text/html": [
       "\n",
       "\t\t        <iframe\n",
       "\t\t        \tid=\"vectorian-iframe-1614083105828215000\"\n",
       "\t\t            width=\"100%\"\n",
       "\t\t            height=\"100%\"\n",
       "\t\t            srcdoc=\"&lt;!DOCTYPE html&gt;\n",
       "&lt;html&gt;\n",
       "\t&lt;head&gt;\n",
       "\t\t&lt;meta charset=&quot;utf-8&quot;&gt;\n",
       "\t\t&lt;meta name=&quot;viewport&quot; content=&quot;width=device-width, initial-scale=1&quot;&gt;\n",
       "\t\t&lt;title&gt;Vectorian&lt;/title&gt;\n",
       "\t\t&lt;link rel=&quot;stylesheet&quot; href=&quot;https://cdn.jsdelivr.net/npm/bulma@0.9.1/css/bulma.min.css&quot;&gt;\n",
       "\t&lt;/head&gt;\n",
       "\t&lt;body&gt;\n",
       "\t\t&lt;div class=&quot;container&quot; height=&quot;100%&quot;&gt;\n",
       "\t\t\t&lt;div class=&quot;section&quot;&gt;\n",
       "&lt;!DOCTYPE html&gt;&lt;article class=&quot;media&quot;&gt;&lt;div class=&quot;media-left&quot;&gt;&lt;p class=&quot;image is-64x64&quot;&gt;&lt;span class=&quot;buttons&quot;&gt;&lt;span class=&quot;has-text-weight-bold&quot;&gt;91.7%&lt;/span&gt;&lt;br /&gt;&lt;div&gt;&lt;/div&gt;&lt;/span&gt;&lt;/p&gt;&lt;/div&gt;&lt;div class=&quot;media-content&quot;&gt;&lt;span style=&quot;font-variant: small-caps;&quot;&gt;&lt;/span&gt;&lt;div class=&quot;is-pulled-right&quot;&gt;&lt;small&gt;Anonymous, &lt;/small&gt;&lt;small class=&quot;is-italic&quot;&gt;A Child&#x27;s Dream of a Star, &lt;/small&gt;&lt;small&gt;par. 43&lt;/small&gt;&lt;/div&gt;&lt;div&gt;&lt;br /&gt;&lt;br /&gt;&lt;span&gt;&lt;span class=&quot;has-text-grey-light&quot;&gt;He grew to be a man, whose hair was &lt;/span&gt; &lt;span&gt;&lt;span style=&quot;display:inline-table;&quot;&gt;&lt;span style=&quot;display:table-row;&quot;&gt;&lt;span style=&quot;display:table-cell;&quot;&gt;&lt;span class=&quot;has-text-black has-text-weight-bold&quot;&gt;turning&lt;/span&gt;&lt;/span&gt; &lt;span style=&quot;display:table-cell;&quot;&gt;&lt;span class=&quot;tag is-light&quot;&gt;making&lt;/span&gt;&lt;/span&gt; &lt;span style=&quot;display:table-cell; opacity:1.0;&quot;&gt;&lt;span class=&quot;tag is-warning&quot;&gt;66%&lt;/span&gt;&lt;/span&gt;&lt;/span&gt;&lt;span style=&quot;display:table-row;&quot;&gt;&lt;span style=&quot;display:table-cell; padding-left: 0.2em; padding-right: 0.2em;&quot; class=&quot;is-size-7 has-text-centered has-text-black&quot;&gt;VERB&lt;/span&gt;&lt;span style=&quot;display:table-cell; padding-left: 0.2em; padding-right: 0.2em;&quot; class=&quot;is-size-7 has-text-centered&quot;&gt;VERB&lt;/span&gt;&lt;span style=&quot;display:table-cell; padding-left: 0.2em; padding-right: 0.2em;&quot; class=&quot;is-size-7 has-text-centered has-text-grey-light&quot;&gt;fasttext-en&lt;/span&gt;&lt;/span&gt;&lt;/span&gt;&lt;/span&gt; &lt;span class=&quot;has-text-grey-light&quot;&gt;gray; and he was sitting in his chair by the &lt;/span&gt; &lt;span&gt;&lt;span style=&quot;display:inline-table;&quot;&gt;&lt;span style=&quot;display:table-row;&quot;&gt;&lt;span style=&quot;display:table-cell;&quot;&gt;&lt;span class=&quot;has-text-black has-text-weight-bold&quot;&gt;fireside&lt;/span&gt;&lt;/span&gt; &lt;span style=&quot;display:table-cell;&quot;&gt;&lt;span class=&quot;tag is-light&quot;&gt;america&lt;/span&gt;&lt;/span&gt; &lt;span style=&quot;display:table-cell; opacity:1.0;&quot;&gt;&lt;span class=&quot;tag is-warning&quot;&gt;45%&lt;/span&gt;&lt;/span&gt;&lt;/span&gt;&lt;span style=&quot;display:table-row;&quot;&gt;&lt;span style=&quot;display:table-cell; padding-left: 0.2em; padding-right: 0.2em;&quot; class=&quot;is-size-7 has-text-centered has-text-black&quot;&gt;NOUN&lt;/span&gt;&lt;span style=&quot;display:table-cell; padding-left: 0.2em; padding-right: 0.2em;&quot; class=&quot;is-size-7 has-text-centered&quot;&gt;NOUN&lt;/span&gt;&lt;span style=&quot;display:table-cell; padding-left: 0.2em; padding-right: 0.2em;&quot; class=&quot;is-size-7 has-text-centered has-text-grey-light&quot;&gt;fasttext-en&lt;/span&gt;&lt;/span&gt;&lt;/span&gt;&lt;/span&gt; &lt;span class=&quot;has-text-grey-light&quot;&gt;heavy with grief, and with his face bedewed with tears, when the star opened &lt;/span&gt; &lt;span&gt;&lt;span style=&quot;display:inline-table;&quot;&gt;&lt;span style=&quot;display:table-row;&quot;&gt;&lt;span style=&quot;display:table-cell;&quot;&gt;&lt;span class=&quot;has-text-black has-text-weight-bold&quot;&gt;once&lt;/span&gt;&lt;/span&gt; &lt;span style=&quot;display:table-cell;&quot;&gt;&lt;span class=&quot;tag is-light&quot;&gt;great&lt;/span&gt;&lt;/span&gt; &lt;span style=&quot;display:table-cell; opacity:1.0;&quot;&gt;&lt;span class=&quot;tag is-warning&quot;&gt;55%&lt;/span&gt;&lt;/span&gt;&lt;/span&gt;&lt;span style=&quot;display:table-row;&quot;&gt;&lt;span style=&quot;display:table-cell; padding-left: 0.2em; padding-right: 0.2em;&quot; class=&quot;is-size-7 has-text-centered has-text-danger&quot;&gt;ADV&lt;/span&gt;&lt;span style=&quot;display:table-cell; padding-left: 0.2em; padding-right: 0.2em;&quot; class=&quot;is-size-7 has-text-centered&quot;&gt;ADJ&lt;/span&gt;&lt;span style=&quot;display:table-cell; padding-left: 0.2em; padding-right: 0.2em;&quot; class=&quot;is-size-7 has-text-centered has-text-grey-light&quot;&gt;fasttext-en&lt;/span&gt;&lt;/span&gt;&lt;/span&gt;&lt;/span&gt; &lt;span&gt;&lt;span style=&quot;display:inline-table;&quot;&gt;&lt;span style=&quot;display:table-row;&quot;&gt;&lt;span style=&quot;display:table-cell;&quot;&gt;&lt;span class=&quot;has-text-black has-text-weight-bold&quot;&gt;again&lt;/span&gt;&lt;/span&gt; &lt;span style=&quot;display:table-cell;&quot;&gt;&lt;span class=&quot;tag is-light&quot;&gt;again&lt;/span&gt;&lt;/span&gt; &lt;span style=&quot;display:table-cell; opacity:1.0;&quot;&gt;&lt;span class=&quot;tag is-success&quot;&gt;100%&lt;/span&gt;&lt;/span&gt;&lt;/span&gt;&lt;span style=&quot;display:table-row;&quot;&gt;&lt;span style=&quot;display:table-cell; padding-left: 0.2em; padding-right: 0.2em;&quot; class=&quot;is-size-7 has-text-centered has-text-black&quot;&gt;ADV&lt;/span&gt;&lt;span style=&quot;display:table-cell; padding-left: 0.2em; padding-right: 0.2em;&quot; class=&quot;is-size-7 has-text-centered&quot;&gt;ADV&lt;/span&gt;&lt;span style=&quot;display:table-cell; padding-left: 0.2em; padding-right: 0.2em;&quot; class=&quot;is-size-7 has-text-centered has-text-grey-light&quot;&gt;fasttext-en&lt;/span&gt;&lt;/span&gt;&lt;/span&gt;&lt;/span&gt; &lt;span class=&quot;has-text-grey-light&quot;&gt;Said his sister’s angel to the leader, “Is &lt;/span&gt;&lt;/span&gt;&lt;/div&gt;&lt;/div&gt;&lt;/article&gt;&lt;article class=&quot;media&quot;&gt;&lt;div class=&quot;media-left&quot;&gt;&lt;p class=&quot;image is-64x64&quot;&gt;&lt;span class=&quot;buttons&quot;&gt;&lt;span class=&quot;has-text-weight-bold&quot;&gt;91.3%&lt;/span&gt;&lt;br /&gt;&lt;div&gt;&lt;/div&gt;&lt;/span&gt;&lt;/p&gt;&lt;/div&gt;&lt;div class=&quot;media-content&quot;&gt;&lt;span style=&quot;font-variant: small-caps;&quot;&gt;&lt;/span&gt;&lt;div class=&quot;is-pulled-right&quot;&gt;&lt;small&gt;Anonymous, &lt;/small&gt;&lt;small class=&quot;is-italic&quot;&gt;A Child&#x27;s Dream of a Star, &lt;/small&gt;&lt;small&gt;par. 5&lt;/small&gt;&lt;/div&gt;&lt;div&gt;&lt;br /&gt;&lt;br /&gt;&lt;span&gt;&lt;span&gt;&lt;span style=&quot;display:inline-table;&quot;&gt;&lt;span style=&quot;display:table-row;&quot;&gt;&lt;span style=&quot;display:table-cell;&quot;&gt;&lt;span class=&quot;has-text-black has-text-weight-bold&quot;&gt;once&lt;/span&gt;&lt;/span&gt; &lt;span style=&quot;display:table-cell;&quot;&gt;&lt;span class=&quot;tag is-light&quot;&gt;again&lt;/span&gt;&lt;/span&gt; &lt;span style=&quot;display:table-cell; opacity:1.0;&quot;&gt;&lt;span class=&quot;tag is-warning&quot;&gt;72%&lt;/span&gt;&lt;/span&gt;&lt;/span&gt;&lt;span style=&quot;display:table-row;&quot;&gt;&lt;span style=&quot;display:table-cell; padding-left: 0.2em; padding-right: 0.2em;&quot; class=&quot;is-size-7 has-text-centered has-text-black&quot;&gt;ADV&lt;/span&gt;&lt;span style=&quot;display:table-cell; padding-left: 0.2em; padding-right: 0.2em;&quot; class=&quot;is-size-7 has-text-centered&quot;&gt;ADV&lt;/span&gt;&lt;span style=&quot;display:table-cell; padding-left: 0.2em; padding-right: 0.2em;&quot; class=&quot;is-size-7 has-text-centered has-text-grey-light&quot;&gt;fasttext-en&lt;/span&gt;&lt;/span&gt;&lt;/span&gt;&lt;/span&gt; &lt;span class=&quot;has-text-grey-light&quot;&gt;a child, and he strolled about a &lt;/span&gt; &lt;span&gt;&lt;span style=&quot;display:inline-table;&quot;&gt;&lt;span style=&quot;display:table-row;&quot;&gt;&lt;span style=&quot;display:table-cell;&quot;&gt;&lt;span class=&quot;has-text-black has-text-weight-bold&quot;&gt;good&lt;/span&gt;&lt;/span&gt; &lt;span style=&quot;display:table-cell;&quot;&gt;&lt;span class=&quot;tag is-light&quot;&gt;great&lt;/span&gt;&lt;/span&gt; &lt;span style=&quot;display:table-cell; opacity:1.0;&quot;&gt;&lt;span class=&quot;tag is-success&quot;&gt;83%&lt;/span&gt;&lt;/span&gt;&lt;/span&gt;&lt;span style=&quot;display:table-row;&quot;&gt;&lt;span style=&quot;display:table-cell; padding-left: 0.2em; padding-right: 0.2em;&quot; class=&quot;is-size-7 has-text-centered has-text-black&quot;&gt;ADJ&lt;/span&gt;&lt;span style=&quot;display:table-cell; padding-left: 0.2em; padding-right: 0.2em;&quot; class=&quot;is-size-7 has-text-centered&quot;&gt;ADJ&lt;/span&gt;&lt;span style=&quot;display:table-cell; padding-left: 0.2em; padding-right: 0.2em;&quot; class=&quot;is-size-7 has-text-centered has-text-grey-light&quot;&gt;fasttext-en&lt;/span&gt;&lt;/span&gt;&lt;/span&gt;&lt;/span&gt; &lt;span class=&quot;has-text-grey-light&quot;&gt;deal, and thought of &lt;/span&gt; &lt;span&gt;&lt;span style=&quot;display:inline-table;&quot;&gt;&lt;span style=&quot;display:table-row;&quot;&gt;&lt;span style=&quot;display:table-cell;&quot;&gt;&lt;span class=&quot;has-text-black has-text-weight-bold&quot;&gt;a&lt;/span&gt;&lt;/span&gt; &lt;span style=&quot;display:table-cell;&quot;&gt;&lt;span class=&quot;tag is-light&quot;&gt;making&lt;/span&gt;&lt;/span&gt; &lt;span style=&quot;display:table-cell; opacity:1.0;&quot;&gt;&lt;span class=&quot;tag is-warning&quot;&gt;60%&lt;/span&gt;&lt;/span&gt;&lt;/span&gt;&lt;span style=&quot;display:table-row;&quot;&gt;&lt;span style=&quot;display:table-cell; padding-left: 0.2em; padding-right: 0.2em;&quot; class=&quot;is-size-7 has-text-centered has-text-danger&quot;&gt;DET&lt;/span&gt;&lt;span style=&quot;display:table-cell; padding-left: 0.2em; padding-right: 0.2em;&quot; class=&quot;is-size-7 has-text-centered&quot;&gt;VERB&lt;/span&gt;&lt;span style=&quot;display:table-cell; padding-left: 0.2em; padding-right: 0.2em;&quot; class=&quot;is-size-7 has-text-centered has-text-grey-light&quot;&gt;fasttext-en&lt;/span&gt;&lt;/span&gt;&lt;/span&gt;&lt;/span&gt; &lt;span class=&quot;has-text-grey-light&quot;&gt;number of &lt;/span&gt; &lt;span&gt;&lt;span style=&quot;display:inline-table;&quot;&gt;&lt;span style=&quot;display:table-row;&quot;&gt;&lt;span style=&quot;display:table-cell;&quot;&gt;&lt;span class=&quot;has-text-black has-text-weight-bold&quot;&gt;things&lt;/span&gt;&lt;/span&gt; &lt;span style=&quot;display:table-cell;&quot;&gt;&lt;span class=&quot;tag is-light&quot;&gt;america&lt;/span&gt;&lt;/span&gt; &lt;span style=&quot;display:table-cell; opacity:1.0;&quot;&gt;&lt;span class=&quot;tag is-warning&quot;&gt;43%&lt;/span&gt;&lt;/span&gt;&lt;/span&gt;&lt;span style=&quot;display:table-row;&quot;&gt;&lt;span style=&quot;display:table-cell; padding-left: 0.2em; padding-right: 0.2em;&quot; class=&quot;is-size-7 has-text-centered has-text-black&quot;&gt;NOUN&lt;/span&gt;&lt;span style=&quot;display:table-cell; padding-left: 0.2em; padding-right: 0.2em;&quot; class=&quot;is-size-7 has-text-centered&quot;&gt;NOUN&lt;/span&gt;&lt;span style=&quot;display:table-cell; padding-left: 0.2em; padding-right: 0.2em;&quot; class=&quot;is-size-7 has-text-centered has-text-grey-light&quot;&gt;fasttext-en&lt;/span&gt;&lt;/span&gt;&lt;/span&gt;&lt;/span&gt; &lt;span class=&quot;has-text-grey-light&quot;&gt;&lt;/span&gt;&lt;/span&gt;&lt;/div&gt;&lt;/div&gt;&lt;/article&gt;&lt;article class=&quot;media&quot;&gt;&lt;div class=&quot;media-left&quot;&gt;&lt;p class=&quot;image is-64x64&quot;&gt;&lt;span class=&quot;buttons&quot;&gt;&lt;span class=&quot;has-text-weight-bold&quot;&gt;91.1%&lt;/span&gt;&lt;br /&gt;&lt;div&gt;&lt;/div&gt;&lt;/span&gt;&lt;/p&gt;&lt;/div&gt;&lt;div class=&quot;media-content&quot;&gt;&lt;span style=&quot;font-variant: small-caps;&quot;&gt;&lt;/span&gt;&lt;div class=&quot;is-pulled-right&quot;&gt;&lt;small&gt;Anonymous, &lt;/small&gt;&lt;small class=&quot;is-italic&quot;&gt;A Child&#x27;s Dream of a Star, &lt;/small&gt;&lt;small&gt;par. 37&lt;/small&gt;&lt;/div&gt;&lt;div&gt;&lt;br /&gt;&lt;br /&gt;&lt;span&gt;&lt;span class=&quot;has-text-grey-light&quot;&gt;\n",
       "\n",
       "&lt;/span&gt; &lt;span&gt;&lt;span style=&quot;display:inline-table;&quot;&gt;&lt;span style=&quot;display:table-row;&quot;&gt;&lt;span style=&quot;display:table-cell;&quot;&gt;&lt;span class=&quot;has-text-black has-text-weight-bold&quot;&gt;Again&lt;/span&gt;&lt;/span&gt; &lt;span style=&quot;display:table-cell;&quot;&gt;&lt;span class=&quot;tag is-light&quot;&gt;again&lt;/span&gt;&lt;/span&gt; &lt;span style=&quot;display:table-cell; opacity:1.0;&quot;&gt;&lt;span class=&quot;tag is-success&quot;&gt;100%&lt;/span&gt;&lt;/span&gt;&lt;/span&gt;&lt;span style=&quot;display:table-row;&quot;&gt;&lt;span style=&quot;display:table-cell; padding-left: 0.2em; padding-right: 0.2em;&quot; class=&quot;is-size-7 has-text-centered has-text-black&quot;&gt;ADV&lt;/span&gt;&lt;span style=&quot;display:table-cell; padding-left: 0.2em; padding-right: 0.2em;&quot; class=&quot;is-size-7 has-text-centered&quot;&gt;ADV&lt;/span&gt;&lt;span style=&quot;display:table-cell; padding-left: 0.2em; padding-right: 0.2em;&quot; class=&quot;is-size-7 has-text-centered has-text-grey-light&quot;&gt;fasttext-en&lt;/span&gt;&lt;/span&gt;&lt;/span&gt;&lt;/span&gt; &lt;span class=&quot;has-text-grey-light&quot;&gt;at night he saw &lt;/span&gt; &lt;span&gt;&lt;span style=&quot;display:inline-table;&quot;&gt;&lt;span style=&quot;display:table-row;&quot;&gt;&lt;span style=&quot;display:table-cell;&quot;&gt;&lt;span class=&quot;has-text-black has-text-weight-bold&quot;&gt;the&lt;/span&gt;&lt;/span&gt; &lt;span style=&quot;display:table-cell;&quot;&gt;&lt;span class=&quot;tag is-light&quot;&gt;making&lt;/span&gt;&lt;/span&gt; &lt;span style=&quot;display:table-cell; opacity:1.0;&quot;&gt;&lt;span class=&quot;tag is-warning&quot;&gt;58%&lt;/span&gt;&lt;/span&gt;&lt;/span&gt;&lt;span style=&quot;display:table-row;&quot;&gt;&lt;span style=&quot;display:table-cell; padding-left: 0.2em; padding-right: 0.2em;&quot; class=&quot;is-size-7 has-text-centered has-text-danger&quot;&gt;DET&lt;/span&gt;&lt;span style=&quot;display:table-cell; padding-left: 0.2em; padding-right: 0.2em;&quot; class=&quot;is-size-7 has-text-centered&quot;&gt;VERB&lt;/span&gt;&lt;span style=&quot;display:table-cell; padding-left: 0.2em; padding-right: 0.2em;&quot; class=&quot;is-size-7 has-text-centered has-text-grey-light&quot;&gt;fasttext-en&lt;/span&gt;&lt;/span&gt;&lt;/span&gt;&lt;/span&gt; &lt;span class=&quot;has-text-grey-light&quot;&gt;star, and all &lt;/span&gt; &lt;span&gt;&lt;span style=&quot;display:inline-table;&quot;&gt;&lt;span style=&quot;display:table-row;&quot;&gt;&lt;span style=&quot;display:table-cell;&quot;&gt;&lt;span class=&quot;has-text-black has-text-weight-bold&quot;&gt;that&lt;/span&gt;&lt;/span&gt; &lt;span style=&quot;display:table-cell;&quot;&gt;&lt;span class=&quot;tag is-light&quot;&gt;great&lt;/span&gt;&lt;/span&gt; &lt;span style=&quot;display:table-cell; opacity:1.0;&quot;&gt;&lt;span class=&quot;tag is-warning&quot;&gt;54%&lt;/span&gt;&lt;/span&gt;&lt;/span&gt;&lt;span style=&quot;display:table-row;&quot;&gt;&lt;span style=&quot;display:table-cell; padding-left: 0.2em; padding-right: 0.2em;&quot; class=&quot;is-size-7 has-text-centered has-text-danger&quot;&gt;DET&lt;/span&gt;&lt;span style=&quot;display:table-cell; padding-left: 0.2em; padding-right: 0.2em;&quot; class=&quot;is-size-7 has-text-centered&quot;&gt;ADJ&lt;/span&gt;&lt;span style=&quot;display:table-cell; padding-left: 0.2em; padding-right: 0.2em;&quot; class=&quot;is-size-7 has-text-centered has-text-grey-light&quot;&gt;fasttext-en&lt;/span&gt;&lt;/span&gt;&lt;/span&gt;&lt;/span&gt; &lt;span class=&quot;has-text-grey-light&quot;&gt;former &lt;/span&gt; &lt;span&gt;&lt;span style=&quot;display:inline-table;&quot;&gt;&lt;span style=&quot;display:table-row;&quot;&gt;&lt;span style=&quot;display:table-cell;&quot;&gt;&lt;span class=&quot;has-text-black has-text-weight-bold&quot;&gt;company&lt;/span&gt;&lt;/span&gt; &lt;span style=&quot;display:table-cell;&quot;&gt;&lt;span class=&quot;tag is-light&quot;&gt;america&lt;/span&gt;&lt;/span&gt; &lt;span style=&quot;display:table-cell; opacity:1.0;&quot;&gt;&lt;span class=&quot;tag is-warning&quot;&gt;44%&lt;/span&gt;&lt;/span&gt;&lt;/span&gt;&lt;span style=&quot;display:table-row;&quot;&gt;&lt;span style=&quot;display:table-cell; padding-left: 0.2em; padding-right: 0.2em;&quot; class=&quot;is-size-7 has-text-centered has-text-black&quot;&gt;NOUN&lt;/span&gt;&lt;span style=&quot;display:table-cell; padding-left: 0.2em; padding-right: 0.2em;&quot; class=&quot;is-size-7 has-text-centered&quot;&gt;NOUN&lt;/span&gt;&lt;span style=&quot;display:table-cell; padding-left: 0.2em; padding-right: 0.2em;&quot; class=&quot;is-size-7 has-text-centered has-text-grey-light&quot;&gt;fasttext-en&lt;/span&gt;&lt;/span&gt;&lt;/span&gt;&lt;/span&gt; &lt;span class=&quot;has-text-grey-light&quot;&gt;&lt;/span&gt;&lt;/span&gt;&lt;/div&gt;&lt;/div&gt;&lt;/article&gt;&lt;article class=&quot;media&quot;&gt;&lt;div class=&quot;media-left&quot;&gt;&lt;p class=&quot;image is-64x64&quot;&gt;&lt;span class=&quot;buttons&quot;&gt;&lt;span class=&quot;has-text-weight-bold&quot;&gt;91.0%&lt;/span&gt;&lt;br /&gt;&lt;div&gt;&lt;/div&gt;&lt;/span&gt;&lt;/p&gt;&lt;/div&gt;&lt;div class=&quot;media-content&quot;&gt;&lt;span style=&quot;font-variant: small-caps;&quot;&gt;&lt;/span&gt;&lt;div class=&quot;is-pulled-right&quot;&gt;&lt;small&gt;Anonymous, &lt;/small&gt;&lt;small class=&quot;is-italic&quot;&gt;A Child&#x27;s Dream of a Star, &lt;/small&gt;&lt;small&gt;par. 30&lt;/small&gt;&lt;/div&gt;&lt;div&gt;&lt;br /&gt;&lt;br /&gt;&lt;span&gt;&lt;span&gt;&lt;span style=&quot;display:inline-table;&quot;&gt;&lt;span style=&quot;display:table-row;&quot;&gt;&lt;span style=&quot;display:table-cell;&quot;&gt;&lt;span class=&quot;has-text-black has-text-weight-bold&quot;&gt;Again&lt;/span&gt;&lt;/span&gt; &lt;span style=&quot;display:table-cell;&quot;&gt;&lt;span class=&quot;tag is-light&quot;&gt;again&lt;/span&gt;&lt;/span&gt; &lt;span style=&quot;display:table-cell; opacity:1.0;&quot;&gt;&lt;span class=&quot;tag is-success&quot;&gt;100%&lt;/span&gt;&lt;/span&gt;&lt;/span&gt;&lt;span style=&quot;display:table-row;&quot;&gt;&lt;span style=&quot;display:table-cell; padding-left: 0.2em; padding-right: 0.2em;&quot; class=&quot;is-size-7 has-text-centered has-text-black&quot;&gt;ADV&lt;/span&gt;&lt;span style=&quot;display:table-cell; padding-left: 0.2em; padding-right: 0.2em;&quot; class=&quot;is-size-7 has-text-centered&quot;&gt;ADV&lt;/span&gt;&lt;span style=&quot;display:table-cell; padding-left: 0.2em; padding-right: 0.2em;&quot; class=&quot;is-size-7 has-text-centered has-text-grey-light&quot;&gt;fasttext-en&lt;/span&gt;&lt;/span&gt;&lt;/span&gt;&lt;/span&gt; &lt;span class=&quot;has-text-grey-light&quot;&gt;the child dreamed of the opened star, and of the company of &lt;/span&gt; &lt;span&gt;&lt;span style=&quot;display:inline-table;&quot;&gt;&lt;span style=&quot;display:table-row;&quot;&gt;&lt;span style=&quot;display:table-cell;&quot;&gt;&lt;span class=&quot;has-text-black has-text-weight-bold&quot;&gt;angels&lt;/span&gt;&lt;/span&gt; &lt;span style=&quot;display:table-cell;&quot;&gt;&lt;span class=&quot;tag is-light&quot;&gt;america&lt;/span&gt;&lt;/span&gt; &lt;span style=&quot;display:table-cell; opacity:1.0;&quot;&gt;&lt;span class=&quot;tag is-warning&quot;&gt;44%&lt;/span&gt;&lt;/span&gt;&lt;/span&gt;&lt;span style=&quot;display:table-row;&quot;&gt;&lt;span style=&quot;display:table-cell; padding-left: 0.2em; padding-right: 0.2em;&quot; class=&quot;is-size-7 has-text-centered has-text-black&quot;&gt;NOUN&lt;/span&gt;&lt;span style=&quot;display:table-cell; padding-left: 0.2em; padding-right: 0.2em;&quot; class=&quot;is-size-7 has-text-centered&quot;&gt;NOUN&lt;/span&gt;&lt;span style=&quot;display:table-cell; padding-left: 0.2em; padding-right: 0.2em;&quot; class=&quot;is-size-7 has-text-centered has-text-grey-light&quot;&gt;fasttext-en&lt;/span&gt;&lt;/span&gt;&lt;/span&gt;&lt;/span&gt; &lt;span class=&quot;has-text-grey-light&quot;&gt;and the train of people, and the rows of angels with &lt;/span&gt; &lt;span&gt;&lt;span style=&quot;display:inline-table;&quot;&gt;&lt;span style=&quot;display:table-row;&quot;&gt;&lt;span style=&quot;display:table-cell;&quot;&gt;&lt;span class=&quot;has-text-black has-text-weight-bold&quot;&gt;their&lt;/span&gt;&lt;/span&gt; &lt;span style=&quot;display:table-cell;&quot;&gt;&lt;span class=&quot;tag is-light&quot;&gt;making&lt;/span&gt;&lt;/span&gt; &lt;span style=&quot;display:table-cell; opacity:1.0;&quot;&gt;&lt;span class=&quot;tag is-warning&quot;&gt;60%&lt;/span&gt;&lt;/span&gt;&lt;/span&gt;&lt;span style=&quot;display:table-row;&quot;&gt;&lt;span style=&quot;display:table-cell; padding-left: 0.2em; padding-right: 0.2em;&quot; class=&quot;is-size-7 has-text-centered has-text-danger&quot;&gt;PRON&lt;/span&gt;&lt;span style=&quot;display:table-cell; padding-left: 0.2em; padding-right: 0.2em;&quot; class=&quot;is-size-7 has-text-centered&quot;&gt;VERB&lt;/span&gt;&lt;span style=&quot;display:table-cell; padding-left: 0.2em; padding-right: 0.2em;&quot; class=&quot;is-size-7 has-text-centered has-text-grey-light&quot;&gt;fasttext-en&lt;/span&gt;&lt;/span&gt;&lt;/span&gt;&lt;/span&gt; &lt;span class=&quot;has-text-grey-light&quot;&gt;beaming eyes &lt;/span&gt; &lt;span&gt;&lt;span style=&quot;display:inline-table;&quot;&gt;&lt;span style=&quot;display:table-row;&quot;&gt;&lt;span style=&quot;display:table-cell;&quot;&gt;&lt;span class=&quot;has-text-black has-text-weight-bold&quot;&gt;all&lt;/span&gt;&lt;/span&gt; &lt;span style=&quot;display:table-cell;&quot;&gt;&lt;span class=&quot;tag is-light&quot;&gt;great&lt;/span&gt;&lt;/span&gt; &lt;span style=&quot;display:table-cell; opacity:1.0;&quot;&gt;&lt;span class=&quot;tag is-warning&quot;&gt;50%&lt;/span&gt;&lt;/span&gt;&lt;/span&gt;&lt;span style=&quot;display:table-row;&quot;&gt;&lt;span style=&quot;display:table-cell; padding-left: 0.2em; padding-right: 0.2em;&quot; class=&quot;is-size-7 has-text-centered has-text-danger&quot;&gt;DET&lt;/span&gt;&lt;span style=&quot;display:table-cell; padding-left: 0.2em; padding-right: 0.2em;&quot; class=&quot;is-size-7 has-text-centered&quot;&gt;ADJ&lt;/span&gt;&lt;span style=&quot;display:table-cell; padding-left: 0.2em; padding-right: 0.2em;&quot; class=&quot;is-size-7 has-text-centered has-text-grey-light&quot;&gt;fasttext-en&lt;/span&gt;&lt;/span&gt;&lt;/span&gt;&lt;/span&gt; &lt;span class=&quot;has-text-grey-light&quot;&gt;turned upon those people’s faces.\n",
       "\n",
       "Said his sister&lt;/span&gt;&lt;/span&gt;&lt;/div&gt;&lt;/div&gt;&lt;/article&gt;&lt;article class=&quot;media&quot;&gt;&lt;div class=&quot;media-left&quot;&gt;&lt;p class=&quot;image is-64x64&quot;&gt;&lt;span class=&quot;buttons&quot;&gt;&lt;span class=&quot;has-text-weight-bold&quot;&gt;90.9%&lt;/span&gt;&lt;br /&gt;&lt;div&gt;&lt;/div&gt;&lt;/span&gt;&lt;/p&gt;&lt;/div&gt;&lt;div class=&quot;media-content&quot;&gt;&lt;span style=&quot;font-variant: small-caps;&quot;&gt;&lt;/span&gt;&lt;div class=&quot;is-pulled-right&quot;&gt;&lt;small&gt;Anonymous, &lt;/small&gt;&lt;small class=&quot;is-italic&quot;&gt;A Child&#x27;s Dream of a Star, &lt;/small&gt;&lt;small&gt;par. 16&lt;/small&gt;&lt;/div&gt;&lt;div&gt;&lt;br /&gt;&lt;br /&gt;&lt;span&gt;&lt;span&gt;&lt;span style=&quot;display:inline-table;&quot;&gt;&lt;span style=&quot;display:table-row;&quot;&gt;&lt;span style=&quot;display:table-cell;&quot;&gt;&lt;span class=&quot;has-text-black has-text-weight-bold&quot;&gt;Now&lt;/span&gt;&lt;/span&gt; &lt;span style=&quot;display:table-cell;&quot;&gt;&lt;span class=&quot;tag is-light&quot;&gt;again&lt;/span&gt;&lt;/span&gt; &lt;span style=&quot;display:table-cell; opacity:1.0;&quot;&gt;&lt;span class=&quot;tag is-warning&quot;&gt;61%&lt;/span&gt;&lt;/span&gt;&lt;/span&gt;&lt;span style=&quot;display:table-row;&quot;&gt;&lt;span style=&quot;display:table-cell; padding-left: 0.2em; padding-right: 0.2em;&quot; class=&quot;is-size-7 has-text-centered has-text-black&quot;&gt;ADV&lt;/span&gt;&lt;span style=&quot;display:table-cell; padding-left: 0.2em; padding-right: 0.2em;&quot; class=&quot;is-size-7 has-text-centered&quot;&gt;ADV&lt;/span&gt;&lt;span style=&quot;display:table-cell; padding-left: 0.2em; padding-right: 0.2em;&quot; class=&quot;is-size-7 has-text-centered has-text-grey-light&quot;&gt;fasttext-en&lt;/span&gt;&lt;/span&gt;&lt;/span&gt;&lt;/span&gt; &lt;span class=&quot;has-text-grey-light&quot;&gt;these rays were so bright, and they seemed to &lt;/span&gt; &lt;span&gt;&lt;span style=&quot;display:inline-table;&quot;&gt;&lt;span style=&quot;display:table-row;&quot;&gt;&lt;span style=&quot;display:table-cell;&quot;&gt;&lt;span class=&quot;has-text-black has-text-weight-bold&quot;&gt;make&lt;/span&gt;&lt;/span&gt; &lt;span style=&quot;display:table-cell;&quot;&gt;&lt;span class=&quot;tag is-light&quot;&gt;making&lt;/span&gt;&lt;/span&gt; &lt;span style=&quot;display:table-cell; opacity:1.0;&quot;&gt;&lt;span class=&quot;tag is-success&quot;&gt;81%&lt;/span&gt;&lt;/span&gt;&lt;/span&gt;&lt;span style=&quot;display:table-row;&quot;&gt;&lt;span style=&quot;display:table-cell; padding-left: 0.2em; padding-right: 0.2em;&quot; class=&quot;is-size-7 has-text-centered has-text-black&quot;&gt;VERB&lt;/span&gt;&lt;span style=&quot;display:table-cell; padding-left: 0.2em; padding-right: 0.2em;&quot; class=&quot;is-size-7 has-text-centered&quot;&gt;VERB&lt;/span&gt;&lt;span style=&quot;display:table-cell; padding-left: 0.2em; padding-right: 0.2em;&quot; class=&quot;is-size-7 has-text-centered has-text-grey-light&quot;&gt;fasttext-en&lt;/span&gt;&lt;/span&gt;&lt;/span&gt;&lt;/span&gt; &lt;span class=&quot;has-text-grey-light&quot;&gt;such a shining &lt;/span&gt; &lt;span&gt;&lt;span style=&quot;display:inline-table;&quot;&gt;&lt;span style=&quot;display:table-row;&quot;&gt;&lt;span style=&quot;display:table-cell;&quot;&gt;&lt;span class=&quot;has-text-black has-text-weight-bold&quot;&gt;way&lt;/span&gt;&lt;/span&gt; &lt;span style=&quot;display:table-cell;&quot;&gt;&lt;span class=&quot;tag is-light&quot;&gt;great&lt;/span&gt;&lt;/span&gt; &lt;span style=&quot;display:table-cell; opacity:1.0;&quot;&gt;&lt;span class=&quot;tag is-warning&quot;&gt;58%&lt;/span&gt;&lt;/span&gt;&lt;/span&gt;&lt;span style=&quot;display:table-row;&quot;&gt;&lt;span style=&quot;display:table-cell; padding-left: 0.2em; padding-right: 0.2em;&quot; class=&quot;is-size-7 has-text-centered has-text-danger&quot;&gt;NOUN&lt;/span&gt;&lt;span style=&quot;display:table-cell; padding-left: 0.2em; padding-right: 0.2em;&quot; class=&quot;is-size-7 has-text-centered&quot;&gt;ADJ&lt;/span&gt;&lt;span style=&quot;display:table-cell; padding-left: 0.2em; padding-right: 0.2em;&quot; class=&quot;is-size-7 has-text-centered has-text-grey-light&quot;&gt;fasttext-en&lt;/span&gt;&lt;/span&gt;&lt;/span&gt;&lt;/span&gt; &lt;span class=&quot;has-text-grey-light&quot;&gt;from &lt;/span&gt; &lt;span&gt;&lt;span style=&quot;display:inline-table;&quot;&gt;&lt;span style=&quot;display:table-row;&quot;&gt;&lt;span style=&quot;display:table-cell;&quot;&gt;&lt;span class=&quot;has-text-black has-text-weight-bold&quot;&gt;earth&lt;/span&gt;&lt;/span&gt; &lt;span style=&quot;display:table-cell;&quot;&gt;&lt;span class=&quot;tag is-light&quot;&gt;america&lt;/span&gt;&lt;/span&gt; &lt;span style=&quot;display:table-cell; opacity:1.0;&quot;&gt;&lt;span class=&quot;tag is-warning&quot;&gt;53%&lt;/span&gt;&lt;/span&gt;&lt;/span&gt;&lt;span style=&quot;display:table-row;&quot;&gt;&lt;span style=&quot;display:table-cell; padding-left: 0.2em; padding-right: 0.2em;&quot; class=&quot;is-size-7 has-text-centered has-text-black&quot;&gt;NOUN&lt;/span&gt;&lt;span style=&quot;display:table-cell; padding-left: 0.2em; padding-right: 0.2em;&quot; class=&quot;is-size-7 has-text-centered&quot;&gt;NOUN&lt;/span&gt;&lt;span style=&quot;display:table-cell; padding-left: 0.2em; padding-right: 0.2em;&quot; class=&quot;is-size-7 has-text-centered has-text-grey-light&quot;&gt;fasttext-en&lt;/span&gt;&lt;/span&gt;&lt;/span&gt;&lt;/span&gt; &lt;span class=&quot;has-text-grey-light&quot;&gt;to heaven, that when the child went to his solitary &lt;/span&gt;&lt;/span&gt;&lt;/div&gt;&lt;/div&gt;&lt;/article&gt;\n",
       "\t\t\t&lt;/div&gt;\n",
       "\t\t&lt;/div&gt;\n",
       "\t&lt;/body&gt;\n",
       "&lt;/html&gt;\"\n",
       "\t\t            frameborder=\"0\"\n",
       "\t\t            allowfullscreen\n",
       "\t\t        ></iframe>\n",
       "\t\t        <script>\n",
       "\t\t        \tvar f = document.getElementById(\"vectorian-iframe-1614083105828215000\");\n",
       "\t\t        \tf.onload = function() {\n",
       "\t\t\t        \tf.height = f.contentWindow.document.body.scrollHeight + \"px\";\n",
       "\t\t\t        };\n",
       "\t\t        </script>\n",
       "\t\t"
      ],
      "text/plain": [
       "<vectorian.session.LabResult at 0x7fbc59517730>"
      ]
     },
     "execution_count": 14,
     "metadata": {},
     "output_type": "execute_result"
    }
   ],
   "source": [
    "r.annotate()"
   ]
  },
  {
   "cell_type": "code",
   "execution_count": 8,
   "id": "ready-remains",
   "metadata": {},
   "outputs": [
    {
     "data": {
      "text/plain": [
       "{'book': -1,\n",
       " 'chapter': -1,\n",
       " 'speaker': -1,\n",
       " 'paragraph': 5,\n",
       " 'token_at': 25,\n",
       " 'n_tokens': 83}"
      ]
     },
     "execution_count": 8,
     "metadata": {},
     "output_type": "execute_result"
    }
   ],
   "source": [
    "r[0].document.sentence(r[0].sentence)"
   ]
  },
  {
   "cell_type": "code",
   "execution_count": 9,
   "id": "ethical-variance",
   "metadata": {},
   "outputs": [
    {
     "data": {
      "text/plain": [
       "'THERE was once a child, and he strolled about a good deal, and thought of a number of things. He had a sister, who was a child too, and his constant companion. These two used to wonder all day long. They wondered at the beauty of the flowers; they wondered at the height and blueness of the sky; they wondered at the depth of the bright water; they wondered at the goodness and the power of God, who made the lovely world.\\n\\n'"
      ]
     },
     "execution_count": 9,
     "metadata": {},
     "output_type": "execute_result"
    }
   ],
   "source": [
    "start = r[0].document.tokens[\"idx\"][25]\n",
    "end = r[0].document.tokens[\"idx\"][25 + 83]\n",
    "r[0].document.substr(start, end)"
   ]
  },
  {
   "cell_type": "code",
   "execution_count": 6,
   "id": "grateful-climb",
   "metadata": {},
   "outputs": [],
   "source": [
    "from vectorian.embeddings import Glove\n",
    "glove = Glove()\n",
    "\n",
    "session = LabSession(\n",
    "    [doc],\n",
    "    [fasttext, glove])"
   ]
  },
  {
   "cell_type": "code",
   "execution_count": null,
   "id": "reverse-affiliate",
   "metadata": {},
   "outputs": [],
   "source": []
  },
  {
   "cell_type": "code",
   "execution_count": 7,
   "id": "adopted-minutes",
   "metadata": {},
   "outputs": [
    {
     "data": {
      "application/vnd.jupyter.widget-view+json": {
       "model_id": "",
       "version_major": 2,
       "version_minor": 0
      },
      "text/plain": [
       "FloatProgress(value=0.0, layout=Layout(width='100%'), max=1.0)"
      ]
     },
     "metadata": {},
     "output_type": "display_data"
    }
   ],
   "source": [
    "from vectorian.metrics import CosineMetric, LerpMetric, PNormMetric\n",
    "\n",
    "query = nlp(\"play\")\n",
    "\n",
    "#r = session.find(query, n=3, metric=PNormMetric(fasttext, p=2, scale=0.1))\n",
    "r = session.find(query, n=3)\n",
    "\n",
    "#r = session.find(query, n=3, metric=LerpMetric(\n",
    "#    CosineMetric(fasttext),\n",
    "#    CosineMetric(glove),\n",
    "#    0.8))"
   ]
  },
  {
   "cell_type": "code",
   "execution_count": 10,
   "id": "spare-incidence",
   "metadata": {},
   "outputs": [
    {
     "data": {
      "text/plain": [
       "0.024589061737060547"
      ]
     },
     "execution_count": 10,
     "metadata": {},
     "output_type": "execute_result"
    }
   ],
   "source": [
    "r.duration"
   ]
  },
  {
   "cell_type": "code",
   "execution_count": 11,
   "id": "developing-willow",
   "metadata": {},
   "outputs": [
    {
     "data": {
      "text/html": [
       "\n",
       "\t\t        <iframe\n",
       "\t\t        \tid=\"vectorian-iframe-1613910549881285000\"\n",
       "\t\t            width=\"100%\"\n",
       "\t\t            height=\"100%\"\n",
       "\t\t            srcdoc=\"&lt;!DOCTYPE html&gt;\n",
       "&lt;html&gt;\n",
       "\t&lt;head&gt;\n",
       "\t\t&lt;meta charset=&quot;utf-8&quot;&gt;\n",
       "\t\t&lt;meta name=&quot;viewport&quot; content=&quot;width=device-width, initial-scale=1&quot;&gt;\n",
       "\t\t&lt;title&gt;Vectorian&lt;/title&gt;\n",
       "\t\t&lt;link rel=&quot;stylesheet&quot; href=&quot;https://cdn.jsdelivr.net/npm/bulma@0.9.1/css/bulma.min.css&quot;&gt;\n",
       "\t&lt;/head&gt;\n",
       "\t&lt;body&gt;\n",
       "\t\t&lt;div class=&quot;container&quot; height=&quot;100%&quot;&gt;\n",
       "\t\t\t&lt;div class=&quot;section&quot;&gt;\n",
       "&lt;!DOCTYPE html&gt;&lt;article class=&quot;media&quot;&gt;&lt;div class=&quot;media-left&quot;&gt;&lt;p class=&quot;image is-64x64&quot;&gt;&lt;span class=&quot;buttons&quot;&gt;&lt;span class=&quot;has-text-weight-bold&quot;&gt;85.6%&lt;/span&gt;&lt;br /&gt;&lt;div&gt;&lt;/div&gt;&lt;/span&gt;&lt;/p&gt;&lt;/div&gt;&lt;div class=&quot;media-content&quot;&gt;&lt;span style=&quot;font-variant: small-caps;&quot;&gt;&lt;/span&gt;&lt;div class=&quot;is-pulled-right&quot;&gt;&lt;small&gt;Anonymous, &lt;/small&gt;&lt;small class=&quot;is-italic&quot;&gt;A Child&#x27;s Dream of a Star, &lt;/small&gt;&lt;small&gt;par. 8&lt;/small&gt;&lt;/div&gt;&lt;div&gt;&lt;br /&gt;&lt;br /&gt;&lt;span&gt;&lt;span class=&quot;has-text-grey-light&quot;&gt;the children of the water; and the smallest bright specks &lt;/span&gt; &lt;span&gt;&lt;span style=&quot;display:inline-table;&quot;&gt;&lt;span style=&quot;display:table-row;&quot;&gt;&lt;span style=&quot;display:table-cell;&quot;&gt;&lt;span class=&quot;has-text-black has-text-weight-bold&quot;&gt;playing&lt;/span&gt;&lt;/span&gt; &lt;span style=&quot;display:table-cell;&quot;&gt;&lt;span class=&quot;tag is-light&quot;&gt;play&lt;/span&gt;&lt;/span&gt; &lt;span style=&quot;display:table-cell; opacity:1.0;&quot;&gt;&lt;span class=&quot;tag is-success&quot;&gt;85%&lt;/span&gt;&lt;/span&gt;&lt;/span&gt;&lt;/span&gt;&lt;/span&gt; &lt;span class=&quot;has-text-grey-light&quot;&gt;at hide-and-seek in the sky all night must &lt;/span&gt;&lt;/span&gt;&lt;/div&gt;&lt;/div&gt;&lt;/article&gt;&lt;article class=&quot;media&quot;&gt;&lt;div class=&quot;media-left&quot;&gt;&lt;p class=&quot;image is-64x64&quot;&gt;&lt;span class=&quot;buttons&quot;&gt;&lt;span class=&quot;has-text-weight-bold&quot;&gt;79.4%&lt;/span&gt;&lt;br /&gt;&lt;div&gt;&lt;/div&gt;&lt;/span&gt;&lt;/p&gt;&lt;/div&gt;&lt;div class=&quot;media-content&quot;&gt;&lt;span style=&quot;font-variant: small-caps;&quot;&gt;&lt;/span&gt;&lt;div class=&quot;is-pulled-right&quot;&gt;&lt;small&gt;Anonymous, &lt;/small&gt;&lt;small class=&quot;is-italic&quot;&gt;A Child&#x27;s Dream of a Star, &lt;/small&gt;&lt;small&gt;par. 8&lt;/small&gt;&lt;/div&gt;&lt;div&gt;&lt;br /&gt;&lt;br /&gt;&lt;span&gt;&lt;span class=&quot;has-text-grey-light&quot;&gt;the children of the water; and the smallest bright specks &lt;/span&gt; &lt;span&gt;&lt;span style=&quot;display:inline-table;&quot;&gt;&lt;span style=&quot;display:table-row;&quot;&gt;&lt;span style=&quot;display:table-cell;&quot;&gt;&lt;span class=&quot;has-text-black has-text-weight-bold&quot;&gt;playing&lt;/span&gt;&lt;/span&gt; &lt;span style=&quot;display:table-cell;&quot;&gt;&lt;span class=&quot;tag is-light&quot;&gt;play&lt;/span&gt;&lt;/span&gt; &lt;span style=&quot;display:table-cell; opacity:1.0;&quot;&gt;&lt;span class=&quot;tag is-success&quot;&gt;79%&lt;/span&gt;&lt;/span&gt;&lt;/span&gt;&lt;/span&gt;&lt;/span&gt; &lt;span class=&quot;has-text-grey-light&quot;&gt;at hide-and-seek in the sky all night must &lt;/span&gt;&lt;/span&gt;&lt;/div&gt;&lt;/div&gt;&lt;/article&gt;&lt;article class=&quot;media&quot;&gt;&lt;div class=&quot;media-left&quot;&gt;&lt;p class=&quot;image is-64x64&quot;&gt;&lt;span class=&quot;buttons&quot;&gt;&lt;span class=&quot;has-text-weight-bold&quot;&gt;60.4%&lt;/span&gt;&lt;br /&gt;&lt;div&gt;&lt;/div&gt;&lt;/span&gt;&lt;/p&gt;&lt;/div&gt;&lt;div class=&quot;media-content&quot;&gt;&lt;span style=&quot;font-variant: small-caps;&quot;&gt;&lt;/span&gt;&lt;div class=&quot;is-pulled-right&quot;&gt;&lt;small&gt;Anonymous, &lt;/small&gt;&lt;small class=&quot;is-italic&quot;&gt;A Child&#x27;s Dream of a Star, &lt;/small&gt;&lt;small&gt;par. 20&lt;/small&gt;&lt;/div&gt;&lt;div&gt;&lt;br /&gt;&lt;br /&gt;&lt;span&gt;&lt;span class=&quot;has-text-grey-light&quot;&gt;joy.\n",
       "\n",
       "But there were many angels who did not &lt;/span&gt; &lt;span&gt;&lt;span style=&quot;display:inline-table;&quot;&gt;&lt;span style=&quot;display:table-row;&quot;&gt;&lt;span style=&quot;display:table-cell;&quot;&gt;&lt;span class=&quot;has-text-black has-text-weight-bold&quot;&gt;go&lt;/span&gt;&lt;/span&gt; &lt;span style=&quot;display:table-cell;&quot;&gt;&lt;span class=&quot;tag is-light&quot;&gt;play&lt;/span&gt;&lt;/span&gt; &lt;span style=&quot;display:table-cell; opacity:1.0;&quot;&gt;&lt;span class=&quot;tag is-warning&quot;&gt;60%&lt;/span&gt;&lt;/span&gt;&lt;/span&gt;&lt;/span&gt;&lt;/span&gt; &lt;span class=&quot;has-text-grey-light&quot;&gt;with them, and among them one he knew. The patient &lt;/span&gt;&lt;/span&gt;&lt;/div&gt;&lt;/div&gt;&lt;/article&gt;\n",
       "\t\t\t&lt;/div&gt;\n",
       "\t\t&lt;/div&gt;\n",
       "\t&lt;/body&gt;\n",
       "&lt;/html&gt;\"\n",
       "\t\t            frameborder=\"0\"\n",
       "\t\t            allowfullscreen\n",
       "\t\t        ></iframe>\n",
       "\t\t        <script>\n",
       "\t\t        \tvar f = document.getElementById(\"vectorian-iframe-1613910549881285000\");\n",
       "\t\t        \tf.onload = function() {\n",
       "\t\t\t        \tf.height = f.contentWindow.document.body.scrollHeight + \"px\";\n",
       "\t\t\t        };\n",
       "\t\t        </script>\n",
       "\t\t"
      ],
      "text/plain": [
       "<vectorian.session.LabResult at 0x7fa87fc72460>"
      ]
     },
     "execution_count": 11,
     "metadata": {},
     "output_type": "execute_result"
    }
   ],
   "source": [
    "r"
   ]
  },
  {
   "cell_type": "code",
   "execution_count": 6,
   "id": "similar-scotland",
   "metadata": {},
   "outputs": [
    {
     "name": "stderr",
     "output_type": "stream",
     "text": [
      "100%|██████████| 58/58 [00:00<00:00, 114.64it/s]\n"
     ]
    }
   ],
   "source": [
    "session = LabSession(\n",
    "    [doc],\n",
    "    [glove])"
   ]
  },
  {
   "cell_type": "code",
   "execution_count": 11,
   "id": "guided-victoria",
   "metadata": {},
   "outputs": [
    {
     "data": {
      "application/vnd.jupyter.widget-view+json": {
       "model_id": "",
       "version_major": 2,
       "version_minor": 0
      },
      "text/plain": [
       "FloatProgress(value=0.0, layout=Layout(width='100%'), max=1.0)"
      ]
     },
     "metadata": {},
     "output_type": "display_data"
    },
    {
     "data": {
      "text/html": [
       "\n",
       "\t\t        <iframe\n",
       "\t\t        \tid=\"vectorian-iframe-1613558883447023000\"\n",
       "\t\t            width=\"100%\"\n",
       "\t\t            height=\"100%\"\n",
       "\t\t            srcdoc=\"&lt;!DOCTYPE html&gt;\n",
       "&lt;html&gt;\n",
       "\t&lt;head&gt;\n",
       "\t\t&lt;meta charset=&quot;utf-8&quot;&gt;\n",
       "\t\t&lt;meta name=&quot;viewport&quot; content=&quot;width=device-width, initial-scale=1&quot;&gt;\n",
       "\t\t&lt;title&gt;Vectorian&lt;/title&gt;\n",
       "\t\t&lt;link rel=&quot;stylesheet&quot; href=&quot;https://cdn.jsdelivr.net/npm/bulma@0.9.1/css/bulma.min.css&quot;&gt;\n",
       "\t&lt;/head&gt;\n",
       "\t&lt;body&gt;\n",
       "\t\t&lt;div class=&quot;container&quot; height=&quot;100%&quot;&gt;\n",
       "\t\t\t&lt;div class=&quot;section&quot;&gt;\n",
       "&lt;!DOCTYPE html&gt;&lt;media&gt;&lt;mediaLeft&gt;&lt;p class=&quot;image is-64x64&quot;&gt;&lt;span class=&quot;buttons&quot;&gt;&lt;span class=&quot;has-text-weight-bold&quot;&gt;100.0%&lt;/span&gt;&lt;br /&gt;&lt;div&gt;&lt;/div&gt;&lt;/span&gt;&lt;/p&gt;&lt;/mediaLeft&gt;&lt;mediaContent&gt;&lt;span style=&quot;font-variant: small-caps;&quot;&gt;&lt;/span&gt;&lt;div class=&quot;is-pulled-right&quot;&gt;&lt;small&gt;Anonymous, &lt;/small&gt;&lt;small class=&quot;is-italic&quot;&gt;A Child&#x27;s Dream of a Star, &lt;/small&gt;&lt;small&gt;par. 4&lt;/small&gt;&lt;/div&gt;&lt;div&gt;&lt;br /&gt;&lt;br /&gt;&lt;span&gt;&lt;span class=&quot;has-text-grey-light&quot;&gt;\n",
       "\n",
       "A CHILD’S DREAM OF A STAR.\n",
       "\n",
       "\n",
       "&lt;/span&gt; &lt;span&gt;&lt;span style=&quot;display:inline-table;&quot;&gt;&lt;span style=&quot;display:table-row;&quot;&gt;&lt;span style=&quot;display:table-cell;&quot;&gt;&lt;span class=&quot;has-text-black has-text-weight-bold&quot;&gt;Short&lt;/span&gt;&lt;/span&gt; &lt;span style=&quot;display:table-cell;&quot;&gt;&lt;span class=&quot;has-text-grey-light&quot;&gt;short&lt;/span&gt;&lt;/span&gt; &lt;span style=&quot;display:table-cell; opacity:1.0;&quot;&gt;&lt;span class=&quot;tag is-success&quot;&gt;100%&lt;/span&gt;&lt;/span&gt;&lt;/span&gt;&lt;/span&gt;&lt;/span&gt; &lt;span class=&quot;has-text-grey-light&quot;&gt;Stories Table of Contents.\n",
       "\n",
       "THERE was once a child, &lt;/span&gt;&lt;/span&gt;&lt;/div&gt;&lt;/mediaContent&gt;&lt;/media&gt;&lt;media&gt;&lt;mediaLeft&gt;&lt;p class=&quot;image is-64x64&quot;&gt;&lt;span class=&quot;buttons&quot;&gt;&lt;span class=&quot;has-text-weight-bold&quot;&gt;67.0%&lt;/span&gt;&lt;br /&gt;&lt;div&gt;&lt;/div&gt;&lt;/span&gt;&lt;/p&gt;&lt;/mediaLeft&gt;&lt;mediaContent&gt;&lt;span style=&quot;font-variant: small-caps;&quot;&gt;&lt;/span&gt;&lt;div class=&quot;is-pulled-right&quot;&gt;&lt;small&gt;Anonymous, &lt;/small&gt;&lt;small class=&quot;is-italic&quot;&gt;A Child&#x27;s Dream of a Star, &lt;/small&gt;&lt;small&gt;par. 19&lt;/small&gt;&lt;/div&gt;&lt;div&gt;&lt;br /&gt;&lt;br /&gt;&lt;span&gt;&lt;span class=&quot;has-text-grey-light&quot;&gt;up into the star; and some came out from the &lt;/span&gt; &lt;span&gt;&lt;span style=&quot;display:inline-table;&quot;&gt;&lt;span style=&quot;display:table-row;&quot;&gt;&lt;span style=&quot;display:table-cell;&quot;&gt;&lt;span class=&quot;has-text-black has-text-weight-bold&quot;&gt;long&lt;/span&gt;&lt;/span&gt; &lt;span style=&quot;display:table-cell;&quot;&gt;&lt;span class=&quot;has-text-grey-light&quot;&gt;short&lt;/span&gt;&lt;/span&gt; &lt;span style=&quot;display:table-cell; opacity:1.0;&quot;&gt;&lt;span class=&quot;tag is-warning&quot;&gt;67%&lt;/span&gt;&lt;/span&gt;&lt;/span&gt;&lt;/span&gt;&lt;/span&gt; &lt;span class=&quot;has-text-grey-light&quot;&gt;rows in which they stood, and fell upon the people&lt;/span&gt;&lt;/span&gt;&lt;/div&gt;&lt;/mediaContent&gt;&lt;/media&gt;&lt;media&gt;&lt;mediaLeft&gt;&lt;p class=&quot;image is-64x64&quot;&gt;&lt;span class=&quot;buttons&quot;&gt;&lt;span class=&quot;has-text-weight-bold&quot;&gt;67.0%&lt;/span&gt;&lt;br /&gt;&lt;div&gt;&lt;/div&gt;&lt;/span&gt;&lt;/p&gt;&lt;/mediaLeft&gt;&lt;mediaContent&gt;&lt;span style=&quot;font-variant: small-caps;&quot;&gt;&lt;/span&gt;&lt;div class=&quot;is-pulled-right&quot;&gt;&lt;small&gt;Anonymous, &lt;/small&gt;&lt;small class=&quot;is-italic&quot;&gt;A Child&#x27;s Dream of a Star, &lt;/small&gt;&lt;small&gt;par. 15&lt;/small&gt;&lt;/div&gt;&lt;div&gt;&lt;br /&gt;&lt;br /&gt;&lt;span&gt;&lt;span class=&quot;has-text-grey-light&quot;&gt;among the graves, not there before; and when the star made &lt;/span&gt; &lt;span&gt;&lt;span style=&quot;display:inline-table;&quot;&gt;&lt;span style=&quot;display:table-row;&quot;&gt;&lt;span style=&quot;display:table-cell;&quot;&gt;&lt;span class=&quot;has-text-black has-text-weight-bold&quot;&gt;long&lt;/span&gt;&lt;/span&gt; &lt;span style=&quot;display:table-cell;&quot;&gt;&lt;span class=&quot;has-text-grey-light&quot;&gt;short&lt;/span&gt;&lt;/span&gt; &lt;span style=&quot;display:table-cell; opacity:1.0;&quot;&gt;&lt;span class=&quot;tag is-warning&quot;&gt;67%&lt;/span&gt;&lt;/span&gt;&lt;/span&gt;&lt;/span&gt;&lt;/span&gt; &lt;span class=&quot;has-text-grey-light&quot;&gt;rays down towards him, as he saw it through his &lt;/span&gt;&lt;/span&gt;&lt;/div&gt;&lt;/mediaContent&gt;&lt;/media&gt;&lt;media&gt;&lt;mediaLeft&gt;&lt;p class=&quot;image is-64x64&quot;&gt;&lt;span class=&quot;buttons&quot;&gt;&lt;span class=&quot;has-text-weight-bold&quot;&gt;67.0%&lt;/span&gt;&lt;br /&gt;&lt;div&gt;&lt;/div&gt;&lt;/span&gt;&lt;/p&gt;&lt;/mediaLeft&gt;&lt;mediaContent&gt;&lt;span style=&quot;font-variant: small-caps;&quot;&gt;&lt;/span&gt;&lt;div class=&quot;is-pulled-right&quot;&gt;&lt;small&gt;Anonymous, &lt;/small&gt;&lt;small class=&quot;is-italic&quot;&gt;A Child&#x27;s Dream of a Star, &lt;/small&gt;&lt;small&gt;par. 25&lt;/small&gt;&lt;/div&gt;&lt;div&gt;&lt;br /&gt;&lt;br /&gt;&lt;span&gt;&lt;span class=&quot;has-text-grey-light&quot;&gt;night; and the star was shining into the room, making &lt;/span&gt; &lt;span&gt;&lt;span style=&quot;display:inline-table;&quot;&gt;&lt;span style=&quot;display:table-row;&quot;&gt;&lt;span style=&quot;display:table-cell;&quot;&gt;&lt;span class=&quot;has-text-black has-text-weight-bold&quot;&gt;long&lt;/span&gt;&lt;/span&gt; &lt;span style=&quot;display:table-cell;&quot;&gt;&lt;span class=&quot;has-text-grey-light&quot;&gt;short&lt;/span&gt;&lt;/span&gt; &lt;span style=&quot;display:table-cell; opacity:1.0;&quot;&gt;&lt;span class=&quot;tag is-warning&quot;&gt;67%&lt;/span&gt;&lt;/span&gt;&lt;/span&gt;&lt;/span&gt;&lt;/span&gt; &lt;span class=&quot;has-text-grey-light&quot;&gt;rays down towards him as he saw it through his &lt;/span&gt;&lt;/span&gt;&lt;/div&gt;&lt;/mediaContent&gt;&lt;/media&gt;\n",
       "\t\t\t&lt;/div&gt;\n",
       "\t\t&lt;/div&gt;\n",
       "\t&lt;/body&gt;\n",
       "&lt;/html&gt;\"\n",
       "\t\t            frameborder=\"0\"\n",
       "\t\t            allowfullscreen\n",
       "\t\t        ></iframe>\n",
       "\t\t        <script>\n",
       "\t\t        \tvar f = document.getElementById(\"vectorian-iframe-1613558883447023000\");\n",
       "\t\t        \tf.onload = function() {\n",
       "\t\t\t        \tf.height = f.contentWindow.document.body.scrollHeight + \"px\";\n",
       "\t\t\t        };\n",
       "\t\t        </script>\n",
       "\t\t"
      ],
      "text/plain": [
       "<vectorian.session.LabResult at 0x7f860b43af70>"
      ]
     },
     "execution_count": 11,
     "metadata": {},
     "output_type": "execute_result"
    }
   ],
   "source": [
    "query = nlp(\"short\")\n",
    "r = session.find(query, n=3)\n",
    "r"
   ]
  },
  {
   "cell_type": "code",
   "execution_count": null,
   "id": "prepared-advance",
   "metadata": {},
   "outputs": [],
   "source": []
  },
  {
   "cell_type": "code",
   "execution_count": 1,
   "id": "european-resistance",
   "metadata": {},
   "outputs": [
    {
     "data": {
      "image/png": "[encoded data removed]",
      "text/plain": [
       "<Figure size 864x216 with 1 Axes>"
      ]
     },
     "metadata": {
      "needs_background": "light"
     },
     "output_type": "display_data"
    }
   ],
   "source": [
    "from vectorian.alignment import LinearGapCost, WatermanSmithBeyer\n",
    "\n",
    "LinearGapCost(0.2)"
   ]
  },
  {
   "cell_type": "code",
   "execution_count": 3,
   "id": "rotary-consistency",
   "metadata": {},
   "outputs": [
    {
     "data": {
      "text/plain": [
       "{'algorithm': 'wsb', 'gap': array([0.2], dtype=float32), 'zero': 0.5}"
      ]
     },
     "execution_count": 3,
     "metadata": {},
     "output_type": "execute_result"
    }
   ],
   "source": [
    "#session.exponential_gap_costs(5)  # , 20)session.max_sentence_len\n",
    "\n",
    "waterman_smith_beyer(gap=0.2, zero=0.5)"
   ]
  },
  {
   "cell_type": "code",
   "execution_count": 5,
   "id": "insured-district",
   "metadata": {},
   "outputs": [
    {
     "data": {
      "text/plain": [
       "True"
      ]
     },
     "execution_count": 5,
     "metadata": {},
     "output_type": "execute_result"
    }
   ],
   "source": [
    "r = session.find(query, n=3, options={\n",
    "    'alignment': WatermanSmithBeyer(gap=LinearGapCost(0.2), zero=0.5)\n",
    "})"
   ]
  },
  {
   "cell_type": "code",
   "execution_count": 3,
   "id": "northern-bulletin",
   "metadata": {},
   "outputs": [
    {
     "data": {
      "text/plain": [
       "PosixPath('/Users/arbeit/Projects/vectorian-2021')"
      ]
     },
     "execution_count": 3,
     "metadata": {},
     "output_type": "execute_result"
    }
   ],
   "source": [
    "current_path"
   ]
  },
  {
   "cell_type": "markdown",
   "id": "documentary-humor",
   "metadata": {},
   "source": [
    "# Query Details Example"
   ]
  },
  {
   "cell_type": "code",
   "execution_count": 12,
   "id": "burning-violin",
   "metadata": {},
   "outputs": [
    {
     "data": {
      "text/plain": [
       "'play'"
      ]
     },
     "execution_count": 12,
     "metadata": {},
     "output_type": "execute_result"
    }
   ],
   "source": [
    "r[0].query.text"
   ]
  },
  {
   "cell_type": "code",
   "execution_count": 13,
   "id": "colonial-rehabilitation",
   "metadata": {},
   "outputs": [
    {
     "data": {
      "text/plain": [
       "6457"
      ]
     },
     "execution_count": 13,
     "metadata": {},
     "output_type": "execute_result"
    }
   ],
   "source": [
    "len(r[0].document.text)"
   ]
  },
  {
   "cell_type": "code",
   "execution_count": 14,
   "id": "inside-black",
   "metadata": {},
   "outputs": [
    {
     "data": {
      "text/plain": [
       "{'id': array([ 0,  1,  2, ...,  6,  6, -1], dtype=int32),\n",
       " 'idx': array([   0,    2,    7, ..., 6568, 6570, 6571], dtype=int32),\n",
       " 'len': array([1, 5, 4, ..., 2, 1, 0], dtype=int8),\n",
       " 'pos': array([ 0,  1,  1, ...,  3,  3, -1], dtype=int8),\n",
       " 'tag': array([ 0,  1,  1, ...,  3,  3, -1], dtype=int8)}"
      ]
     },
     "execution_count": 14,
     "metadata": {},
     "output_type": "execute_result"
    }
   ],
   "source": [
    "r[0].document.tokens"
   ]
  },
  {
   "cell_type": "code",
   "execution_count": 16,
   "id": "continued-character",
   "metadata": {},
   "outputs": [
    {
     "data": {
      "text/plain": [
       "{'idx': array([66], dtype=int16),\n",
       " 'sim': array([0.7944386], dtype=float32),\n",
       " 'w': array([1.], dtype=float32)}"
      ]
     },
     "execution_count": 16,
     "metadata": {},
     "output_type": "execute_result"
    }
   ],
   "source": [
    "r[0].assignment"
   ]
  },
  {
   "cell_type": "code",
   "execution_count": 17,
   "id": "facial-radio",
   "metadata": {},
   "outputs": [
    {
     "data": {
      "text/plain": [
       "{'book': -1,\n",
       " 'chapter': -1,\n",
       " 'speaker': -1,\n",
       " 'paragraph': 8,\n",
       " 'token_at': 110,\n",
       " 'n_tokens': 101}"
      ]
     },
     "execution_count": 17,
     "metadata": {},
     "output_type": "execute_result"
    }
   ],
   "source": [
    "sent = r[0].document.sentence(r[0].sentence)\n",
    "sent"
   ]
  },
  {
   "cell_type": "code",
   "execution_count": null,
   "id": "outstanding-ocean",
   "metadata": {},
   "outputs": [],
   "source": []
  },
  {
   "cell_type": "code",
   "execution_count": 20,
   "id": "accessible-modification",
   "metadata": {},
   "outputs": [
    {
     "name": "stdout",
     "output_type": "stream",
     "text": [
      "match with:  playing\n",
      "sim:  0.7944386\n"
     ]
    }
   ],
   "source": [
    "index = r[0].assignment[\"idx\"][0] + sent[\"token_at\"]\n",
    "start = r[0].document.tokens[\"idx\"][index]\n",
    "end = start + r[0].document.tokens[\"len\"][index]\n",
    "print(\"match with: \", r[0].document.substr(start, end))\n",
    "print(\"sim: \", r[0].assignment[\"sim\"][0])"
   ]
  },
  {
   "cell_type": "code",
   "execution_count": 13,
   "id": "enclosed-wildlife",
   "metadata": {},
   "outputs": [
    {
     "data": {
      "text/plain": [
       "<vectorian.corpus.document.Document at 0x7fe7c88ca040>"
      ]
     },
     "execution_count": 13,
     "metadata": {},
     "output_type": "execute_result"
    }
   ],
   "source": [
    "doc"
   ]
  },
  {
   "cell_type": "code",
   "execution_count": 8,
   "id": "crucial-directive",
   "metadata": {},
   "outputs": [],
   "source": [
    "doc.save(\"/Users/arbeit/Desktop/doc.json\")"
   ]
  },
  {
   "cell_type": "code",
   "execution_count": 12,
   "id": "respiratory-amino",
   "metadata": {},
   "outputs": [
    {
     "name": "stdout",
     "output_type": "stream",
     "text": [
      "partition 1:\n",
      "  sentence 1:\n",
      "    A Child’s Dream Of A Star.\n",
      "  sentence 2:\n",
      "    \n",
      "\n",
      "\n",
      "partition 2:\n",
      "  sentence 1:\n",
      "    \n",
      "\n",
      "\n",
      "partition 3:\n",
      "  sentence 1:\n",
      "    \n",
      "\n",
      "\n",
      "partition 4:\n",
      "  sentence 1:\n",
      "    A CHILD’S DREAM OF A STAR.\n",
      "  sentence 2:\n",
      "    \n",
      "\n",
      "\n",
      "partition 5:\n",
      "  sentence 1:\n",
      "    \n",
      "Short Stories Table of Contents.\n",
      "  sentence 2:\n",
      "    \n",
      "\n",
      "\n",
      "partition 6:\n",
      "  sentence 1:\n",
      "    THERE was once a child, and he strolled about a good deal, and thought of a number of things.\n",
      "  sentence 2:\n",
      "    He had a sister, who was a child too, and his constant companion.\n",
      "  sentence 3:\n",
      "    These two used to wonder all day long.\n",
      "  sentence 4:\n",
      "    They wondered at the beauty of the flowers; they wondered at the height and blueness of the sky; they wondered at the depth of the bright water; they wondered at the goodness and the power of God, who made the lovely world.\n",
      "  sentence 5:\n",
      "    \n",
      "\n",
      "\n",
      "partition 7:\n",
      "  sentence 1:\n",
      "    \n",
      "\n",
      "\n",
      "partition 8:\n",
      "  sentence 1:\n",
      "    \n",
      "\n",
      "\n",
      "partition 9:\n",
      "  sentence 1:\n",
      "    They used to say to one another, sometimes,\n",
      "  sentence 2:\n",
      "    Supposing all the children upon earth were to die, would the flowers and the water and the sky be sorry?\n",
      "  sentence 3:\n",
      "    They believed they would be sorry.\n",
      "  sentence 4:\n",
      "    For, said they, the buds are the children of the flowers, and the little playful streams that gambol down the hillsides are the children of the water; and the smallest bright specks playing at hide-and-seek in the sky all night must surely be the children of the stars; and they would all be grieved to see their playmates, the children of men, no more.\n",
      "  sentence 5:\n",
      "    \n",
      "\n",
      "\n",
      "partition 10:\n",
      "  sentence 1:\n",
      "    There was one clear shining star that used to come out in the sky before the rest, near the church-spire, above the graves.\n",
      "  sentence 2:\n",
      "    It was larger and more beautiful, they thought, than all the others, and every night they watched for it, standing hand in hand at a window.\n",
      "  sentence 3:\n",
      "    Whoever saw it first cried out, “I see the star!”\n",
      "  sentence 4:\n",
      "    And often they cried out both together, knowing so well when it would rise and where.\n",
      "  sentence 5:\n",
      "    So they grew to be such friends with it, that, before lying down in their beds, they always looked out once again, to bid it good night; and when they were turning round to sleep, they used to say, “God bless the star!”\n",
      "  sentence 6:\n",
      "    \n",
      "\n",
      "\n",
      "partition 11:\n",
      "  sentence 1:\n",
      "    \n",
      "\n",
      "\n",
      "partition 12:\n",
      "  sentence 1:\n",
      "    \n",
      "\n",
      "\n",
      "partition 13:\n",
      "  sentence 1:\n",
      "    But while she was still very young, O, very, very young, the sister drooped, and came to be so weak that she could no longer stand in the window at night; and then the child looked sadly out by himself, and when he saw the star, turned round and said to the patient pale face on the bed, “I see the star!”\n",
      "  sentence 2:\n",
      "    And then a smile would come upon the face, and a little weak voice used to say, “God bless my brother and the star!”\n",
      "  sentence 3:\n",
      "    \n",
      "\n",
      "\n",
      "partition 14:\n",
      "  sentence 1:\n",
      "    \n",
      "\n",
      "\n",
      "partition 15:\n",
      "  sentence 1:\n",
      "    \n",
      "\n",
      "\n",
      "partition 16:\n",
      "  sentence 1:\n",
      "    And so the time came, all too soon!\n",
      "  sentence 2:\n",
      "    when the child looked out alone, and when there was no face on the bed; and when there was a little grave among the graves, not there before; and when the star made long rays down towards him, as he saw it through his tears.\n",
      "  sentence 3:\n",
      "    \n",
      "\n",
      "\n",
      "partition 17:\n",
      "  sentence 1:\n",
      "    Now, these rays were so bright, and they seemed to make such a shining way from earth to heaven, that when the child went to his solitary bed, he dreamed about the star; and dreamed that, lying where he was, he saw a train of people taken up that sparkling road by angels.\n",
      "  sentence 2:\n",
      "    And the star, opening, showed him a great world of light, where many more such angels waited to receive them.\n",
      "  sentence 3:\n",
      "    \n",
      "\n",
      "\n",
      "partition 18:\n",
      "  sentence 1:\n",
      "    \n",
      "\n",
      "\n",
      "partition 19:\n",
      "  sentence 1:\n",
      "    \n",
      "\n",
      "\n",
      "partition 20:\n",
      "  sentence 1:\n",
      "    All these angels, who were waiting, turned their beaming eyes upon the people who were carried up into the star; and some came out from the long rows in which they stood, and fell upon the people’s necks, and kissed them tenderly, and went away with them down avenues of light, and were so happy in their company, that, lying in his bed, he wept for joy.\n",
      "  sentence 2:\n",
      "    \n",
      "\n",
      "\n",
      "partition 21:\n",
      "  sentence 1:\n",
      "    But there were many angels who did not go with them, and among them one he knew.\n",
      "  sentence 2:\n",
      "    The patient face that once had lain upon the bed was glorified and radiant, but his heart found out his sister among all the host.\n",
      "  sentence 3:\n",
      "    \n",
      "\n",
      "\n",
      "partition 22:\n",
      "  sentence 1:\n",
      "    \n",
      "\n",
      "\n",
      "partition 23:\n",
      "  sentence 1:\n",
      "    \n",
      "\n",
      "\n",
      "partition 24:\n",
      "  sentence 1:\n",
      "    His sister’s angel lingered near the entrance of the star, and said to the leader among those who had brought the people thither, “Is my brother come?””\n",
      "  sentence 2:\n",
      "    \n",
      "\n",
      "\n",
      "partition 25:\n",
      "  sentence 1:\n",
      "    And he said, “No.”\n",
      "  sentence 2:\n",
      "    \n",
      "\n",
      "\n",
      "partition 26:\n",
      "  sentence 1:\n",
      "    She was turning hopefully away, when the child stretched out his arms, and cried, “O sister, I am here!\n",
      "  sentence 2:\n",
      "    Take me!”\n",
      "  sentence 3:\n",
      "    And then she turned her beaming eyes upon him, and it was night; and the star was shining into the room, making long rays down towards him as he saw it through his tears.\n",
      "  sentence 4:\n",
      "    \n",
      "\n",
      "\n",
      "partition 27:\n",
      "  sentence 1:\n",
      "    From that hour forth, the child looked out upon the star as on the home he was to go to, when his time should come; and he thought that he did not belong to the earth alone, but to the star too, because of his sister’s angel gone before.\n",
      "  sentence 2:\n",
      "    \n",
      "\n",
      "\n",
      "partition 28:\n",
      "  sentence 1:\n",
      "    \n",
      "\n",
      "\n",
      "partition 29:\n",
      "  sentence 1:\n",
      "    \n",
      "\n",
      "\n",
      "partition 30:\n",
      "  sentence 1:\n",
      "    There was a baby born to be a brother to the child; and while he was so little that he never yet had spoken word, he stretched his tiny form out on his bed, and died.\n",
      "  sentence 2:\n",
      "    \n",
      "\n",
      "\n",
      "partition 31:\n",
      "  sentence 1:\n",
      "    Again the child dreamed of the opened star, and of the company of angels, and the train of people, and the rows of angels with their beaming eyes all turned upon those people’s faces.\n",
      "  sentence 2:\n",
      "    \n",
      "\n",
      "\n",
      "partition 32:\n",
      "  sentence 1:\n",
      "    Said his sister’s angel to the leader, “Is my brother come?”\n",
      "  sentence 2:\n",
      "    \n",
      "\n",
      "\n",
      "partition 33:\n",
      "  sentence 1:\n",
      "    \n",
      "\n",
      "\n",
      "partition 34:\n",
      "  sentence 1:\n",
      "    \n",
      "\n",
      "\n",
      "partition 35:\n",
      "  sentence 1:\n",
      "    And he said, “Not that one, but another.”\n",
      "  sentence 2:\n",
      "    \n",
      "\n",
      "\n",
      "partition 36:\n",
      "  sentence 1:\n",
      "    As the child beheld his brother’s angel in her arms, he cried, “O sister, I am here!\n",
      "  sentence 2:\n",
      "    Take me!”\n",
      "  sentence 3:\n",
      "    And she turned and smiled upon him, and the star was shining.\n",
      "  sentence 4:\n",
      "    \n",
      "\n",
      "\n",
      "partition 37:\n",
      "  sentence 1:\n",
      "    He grew to be a young man, and was busy at his books when an old servant came to him and said, “Thy mother is no more.\n",
      "  sentence 2:\n",
      "    I bring her blessing on her darling son!”\n",
      "  sentence 3:\n",
      "    \n",
      "\n",
      "\n",
      "partition 38:\n",
      "  sentence 1:\n",
      "    Again at night he saw the star, and all that former company.\n",
      "  sentence 2:\n",
      "    Said his sister’s angel to the leader, “Is my brother come?”\n",
      "  sentence 3:\n",
      "    \n",
      "\n",
      "\n",
      "partition 39:\n",
      "  sentence 1:\n",
      "    And he said, “Thy mother!”\n",
      "  sentence 2:\n",
      "    \n",
      "\n",
      "\n",
      "partition 40:\n",
      "  sentence 1:\n",
      "    A mighty cry of joy went forth through all the star, because the mother was reunited to her two children.\n",
      "  sentence 2:\n",
      "    And he stretched out his arms and cried, “O mother, sister, and brother, I am here!\n",
      "  sentence 3:\n",
      "    Take me!”\n",
      "  sentence 4:\n",
      "    \n",
      "\n",
      "\n",
      "partition 41:\n",
      "  sentence 1:\n",
      "    \n",
      "\n",
      "\n",
      "partition 42:\n",
      "  sentence 1:\n",
      "    \n",
      "\n",
      "\n",
      "partition 43:\n",
      "  sentence 1:\n",
      "    And they answered him, “Not yet.”\n",
      "  sentence 2:\n",
      "    And the star was shining.\n",
      "  sentence 3:\n",
      "    \n",
      "\n",
      "\n",
      "partition 44:\n",
      "  sentence 1:\n",
      "    He grew to be a man, whose hair was turning gray; and he was sitting in his chair by the fireside, heavy with grief, and with his face bedewed with tears, when the star opened once again.\n",
      "  sentence 2:\n",
      "    \n",
      "\n",
      "\n",
      "partition 45:\n",
      "  sentence 1:\n",
      "    Said his sister’s angel to the leader, “Is my brother come?”\n",
      "  sentence 2:\n",
      "    \n",
      "\n",
      "\n",
      "partition 46:\n",
      "  sentence 1:\n",
      "    And he said, “Nay, but his maiden daughter.”\n",
      "  sentence 2:\n",
      "    \n",
      "\n",
      "\n",
      "partition 47:\n",
      "  sentence 1:\n",
      "    And the man who had been the child saw his daughter, newly lost to him, a celestial creature among those three, and he said, “My daughter’s head is on my sister’s bosom, and her arm is round my mother’s neck, and at her feet there is the baby of old time, and I can bear the parting from her, God be praised!””\n",
      "  sentence 2:\n",
      "    \n",
      "\n",
      "\n",
      "partition 48:\n",
      "  sentence 1:\n",
      "    \n",
      "\n",
      "\n",
      "partition 49:\n",
      "  sentence 1:\n",
      "    \n",
      "\n",
      "\n",
      "partition 50:\n",
      "  sentence 1:\n",
      "    And the star was shining.\n",
      "  sentence 2:\n",
      "    \n",
      "\n",
      "\n",
      "partition 51:\n",
      "  sentence 1:\n",
      "    Thus the child came to be an old man, and his once smooth face was wrinkled, and his steps were slow and feeble, and his back was bent.\n",
      "  sentence 2:\n",
      "    And one night as he lay upon his bed, his children standing round, he cried, as he had cried so long ago, “I see the star!”\n",
      "  sentence 3:\n",
      "    \n",
      "\n",
      "\n",
      "partition 52:\n",
      "  sentence 1:\n",
      "    They whispered one another, “He is dying.”\n",
      "  sentence 2:\n",
      "    \n",
      "\n",
      "\n",
      "partition 53:\n",
      "  sentence 1:\n",
      "    And he said, “I am.\n",
      "  sentence 2:\n",
      "    My age is falling from me like a garment, and I move towards the star as a child.\n",
      "  sentence 3:\n",
      "    And O my Father, now I thank thee that it has so often opened to receive those dear ones who await me!”\n",
      "  sentence 4:\n",
      "    \n",
      "\n",
      "\n",
      "partition 54:\n",
      "  sentence 1:\n",
      "    \n",
      "\n",
      "\n",
      "partition 55:\n",
      "  sentence 1:\n",
      "    \n",
      "\n",
      "\n",
      "partition 56:\n",
      "  sentence 1:\n",
      "    And the star was shining; and it shines upon his grave.\n",
      "  sentence 2:\n",
      "    \n",
      "\n",
      "\n",
      "partition 57:\n",
      "  sentence 1:\n",
      "    \n",
      "\n",
      "\n",
      "partition 58:\n",
      "  sentence 1:\n",
      "    \n",
      "\n"
     ]
    }
   ],
   "source": [
    "print(doc.structure)"
   ]
  },
  {
   "cell_type": "markdown",
   "id": "expanded-denmark",
   "metadata": {},
   "source": [
    "# Interactive GUI"
   ]
  },
  {
   "cell_type": "code",
   "execution_count": 11,
   "id": "published-attraction",
   "metadata": {},
   "outputs": [
    {
     "data": {
      "application/vnd.jupyter.widget-view+json": {
       "model_id": "",
       "version_major": 2,
       "version_minor": 0
      },
      "text/plain": [
       "FloatProgress(value=0.0, layout=Layout(width='100%'), max=1.0)"
      ]
     },
     "metadata": {},
     "output_type": "display_data"
    },
    {
     "data": {
      "text/html": [
       "\n",
       "\t\t        <iframe\n",
       "\t\t        \tid=\"vectorian-iframe-1614007334432271000\"\n",
       "\t\t            width=\"100%\"\n",
       "\t\t            height=\"100%\"\n",
       "\t\t            srcdoc=\"&lt;!DOCTYPE html&gt;\n",
       "&lt;html&gt;\n",
       "\t&lt;head&gt;\n",
       "\t\t&lt;meta charset=&quot;utf-8&quot;&gt;\n",
       "\t\t&lt;meta name=&quot;viewport&quot; content=&quot;width=device-width, initial-scale=1&quot;&gt;\n",
       "\t\t&lt;title&gt;Vectorian&lt;/title&gt;\n",
       "\t\t&lt;link rel=&quot;stylesheet&quot; href=&quot;https://cdn.jsdelivr.net/npm/bulma@0.9.1/css/bulma.min.css&quot;&gt;\n",
       "\t&lt;/head&gt;\n",
       "\t&lt;body&gt;\n",
       "\t\t&lt;div class=&quot;container&quot; height=&quot;100%&quot;&gt;\n",
       "\t\t\t&lt;div class=&quot;section&quot;&gt;\n",
       "&lt;!DOCTYPE html&gt;&lt;article class=&quot;media&quot;&gt;&lt;div class=&quot;media-left&quot;&gt;&lt;p class=&quot;image is-64x64&quot;&gt;&lt;span class=&quot;buttons&quot;&gt;&lt;span class=&quot;has-text-weight-bold&quot;&gt;73.6%&lt;/span&gt;&lt;br /&gt;&lt;div&gt;&lt;/div&gt;&lt;/span&gt;&lt;/p&gt;&lt;/div&gt;&lt;div class=&quot;media-content&quot;&gt;&lt;span style=&quot;font-variant: small-caps;&quot;&gt;&lt;/span&gt;&lt;div class=&quot;is-pulled-right&quot;&gt;&lt;small&gt;Anonymous, &lt;/small&gt;&lt;small class=&quot;is-italic&quot;&gt;A Child&#x27;s Dream of a Star, &lt;/small&gt;&lt;small&gt;par. 9&lt;/small&gt;&lt;/div&gt;&lt;div&gt;&lt;br /&gt;&lt;br /&gt;&lt;span&gt;&lt;span class=&quot;has-text-grey-light&quot;&gt;rest, near the church-spire, above the graves. It was &lt;/span&gt; &lt;span&gt;&lt;span style=&quot;display:inline-table;&quot;&gt;&lt;span style=&quot;display:table-row;&quot;&gt;&lt;span style=&quot;display:table-cell;&quot;&gt;&lt;span class=&quot;has-text-black has-text-weight-bold&quot;&gt;larger&lt;/span&gt;&lt;/span&gt; &lt;span style=&quot;display:table-cell;&quot;&gt;&lt;span class=&quot;tag is-light&quot;&gt;large&lt;/span&gt;&lt;/span&gt; &lt;span style=&quot;display:table-cell; opacity:0.800000011920929;&quot;&gt;&lt;span class=&quot;tag is-warning&quot;&gt;73%&lt;/span&gt;&lt;/span&gt;&lt;/span&gt;&lt;/span&gt;&lt;/span&gt; &lt;span class=&quot;has-text-grey-light&quot;&gt;and more beautiful, they thought, than all the others, and &lt;/span&gt;&lt;/span&gt;&lt;/div&gt;&lt;/div&gt;&lt;/article&gt;&lt;article class=&quot;media&quot;&gt;&lt;div class=&quot;media-left&quot;&gt;&lt;p class=&quot;image is-64x64&quot;&gt;&lt;span class=&quot;buttons&quot;&gt;&lt;span class=&quot;has-text-weight-bold&quot;&gt;70.9%&lt;/span&gt;&lt;br /&gt;&lt;div&gt;&lt;/div&gt;&lt;/span&gt;&lt;/p&gt;&lt;/div&gt;&lt;div class=&quot;media-content&quot;&gt;&lt;span style=&quot;font-variant: small-caps;&quot;&gt;&lt;/span&gt;&lt;div class=&quot;is-pulled-right&quot;&gt;&lt;small&gt;Anonymous, &lt;/small&gt;&lt;small class=&quot;is-italic&quot;&gt;A Child&#x27;s Dream of a Star, &lt;/small&gt;&lt;small&gt;par. 29&lt;/small&gt;&lt;/div&gt;&lt;div&gt;&lt;br /&gt;&lt;br /&gt;&lt;span&gt;&lt;span class=&quot;has-text-grey-light&quot;&gt;that he never yet had spoken word, he stretched his &lt;/span&gt; &lt;span&gt;&lt;span style=&quot;display:inline-table;&quot;&gt;&lt;span style=&quot;display:table-row;&quot;&gt;&lt;span style=&quot;display:table-cell;&quot;&gt;&lt;span class=&quot;has-text-black has-text-weight-bold&quot;&gt;tiny&lt;/span&gt;&lt;/span&gt; &lt;span style=&quot;display:table-cell;&quot;&gt;&lt;span class=&quot;tag is-light&quot;&gt;large&lt;/span&gt;&lt;/span&gt; &lt;span style=&quot;display:table-cell; opacity:0.800000011920929;&quot;&gt;&lt;span class=&quot;tag is-warning&quot;&gt;70%&lt;/span&gt;&lt;/span&gt;&lt;/span&gt;&lt;/span&gt;&lt;/span&gt; &lt;span class=&quot;has-text-grey-light&quot;&gt;form out on his bed, and died.\n",
       "\n",
       "Again the &lt;/span&gt;&lt;/span&gt;&lt;/div&gt;&lt;/div&gt;&lt;/article&gt;&lt;article class=&quot;media&quot;&gt;&lt;div class=&quot;media-left&quot;&gt;&lt;p class=&quot;image is-64x64&quot;&gt;&lt;span class=&quot;buttons&quot;&gt;&lt;span class=&quot;has-text-weight-bold&quot;&gt;62.5%&lt;/span&gt;&lt;br /&gt;&lt;div&gt;&lt;div style=&quot;text-decoration: line-through;&quot;&gt;large&lt;/div&gt;&lt;/div&gt;&lt;/span&gt;&lt;/p&gt;&lt;/div&gt;&lt;div class=&quot;media-content&quot;&gt;&lt;span style=&quot;font-variant: small-caps;&quot;&gt;&lt;/span&gt;&lt;div class=&quot;is-pulled-right&quot;&gt;&lt;small&gt;Anonymous, &lt;/small&gt;&lt;small class=&quot;is-italic&quot;&gt;A Child&#x27;s Dream of a Star, &lt;/small&gt;&lt;small&gt;par. 0&lt;/small&gt;&lt;/div&gt;&lt;div&gt;&lt;br /&gt;&lt;br /&gt;&lt;span&gt;&lt;span class=&quot;has-text-grey-light&quot;&gt;A Child’s Dream Of A Star.\n",
       "\n",
       "\n",
       "\n",
       "\n",
       "\n",
       "&lt;/span&gt;&lt;/span&gt;&lt;/div&gt;&lt;/div&gt;&lt;/article&gt;\n",
       "\t\t\t&lt;/div&gt;\n",
       "\t\t&lt;/div&gt;\n",
       "\t&lt;/body&gt;\n",
       "&lt;/html&gt;\"\n",
       "\t\t            frameborder=\"0\"\n",
       "\t\t            allowfullscreen\n",
       "\t\t        ></iframe>\n",
       "\t\t        <script>\n",
       "\t\t        \tvar f = document.getElementById(\"vectorian-iframe-1614007334432271000\");\n",
       "\t\t        \tf.onload = function() {\n",
       "\t\t\t        \tf.height = f.contentWindow.document.body.scrollHeight + \"px\";\n",
       "\t\t\t        };\n",
       "\t\t        </script>\n",
       "\t\t"
      ],
      "text/plain": [
       "<vectorian.session.LabResult at 0x7f85c053a430>"
      ]
     },
     "execution_count": 11,
     "metadata": {},
     "output_type": "execute_result"
    }
   ],
   "source": [
    "query = nlp(\"large\")\n",
    "r = session.find(query, n=3, options={'tag_weights': {\n",
    "    'JJ': 0.8\n",
    "}})\n",
    "r"
   ]
  },
  {
   "cell_type": "markdown",
   "id": "victorian-scanning",
   "metadata": {},
   "source": [
    "# Sentence Embeddings"
   ]
  },
  {
   "cell_type": "code",
   "execution_count": 1,
   "id": "noticed-drinking",
   "metadata": {},
   "outputs": [],
   "source": [
    "from pathlib import Path\n",
    "\n",
    "import os\n",
    "import sys\n",
    "\n",
    "current_path = Path(os.getcwd())\n",
    "sys.path.append(str(current_path))\n",
    "\n",
    "import vectorian"
   ]
  },
  {
   "cell_type": "code",
   "execution_count": 2,
   "id": "thick-mount",
   "metadata": {},
   "outputs": [],
   "source": [
    "from sentence_transformers import SentenceTransformer\n",
    "model = SentenceTransformer('paraphrase-distilroberta-base-v1')"
   ]
  },
  {
   "cell_type": "code",
   "execution_count": 3,
   "id": "herbal-finish",
   "metadata": {},
   "outputs": [
    {
     "name": "stdout",
     "output_type": "stream",
     "text": [
      "Matching checksum for /Users/arbeit/Projects/vectorian-2021/vectorian/core/cpp/core.cpp --> not compiling\n"
     ]
    }
   ],
   "source": [
    "from vectorian.metrics import SentenceEmbeddingMetric\n",
    "metric = SentenceEmbeddingMetric(model.encode)"
   ]
  },
  {
   "cell_type": "code",
   "execution_count": 4,
   "id": "disabled-minute",
   "metadata": {},
   "outputs": [],
   "source": [
    "import spacy\n",
    "nlp = spacy.load(\"en_core_web_sm\")"
   ]
  },
  {
   "cell_type": "code",
   "execution_count": 5,
   "id": "infectious-norman",
   "metadata": {},
   "outputs": [
    {
     "name": "stderr",
     "output_type": "stream",
     "text": [
      "Importing <string>: 100%|██████████| 1/1 [00:00<00:00, 35.79it/s]\n",
      "Importing <string>: 100%|██████████| 1/1 [00:00<00:00, 22.46it/s]\n",
      "Encoding: 100%|██████████| 2/2 [00:00<00:00, 15.72it/s]\n"
     ]
    }
   ],
   "source": [
    "from vectorian.importers import StringImporter\n",
    "from vectorian.session import LabSession\n",
    "\n",
    "im = StringImporter(nlp)\n",
    "docs = [im(x) for x in [\n",
    "    \"Hey, ye want to talk like a pirate, eh?\",\n",
    "    \"Summer strolls are beautiful.\"]]\n",
    "\n",
    "session = LabSession(docs)\n",
    "index = session.partition(\"sentence\").index(metric)"
   ]
  },
  {
   "cell_type": "code",
   "execution_count": 6,
   "id": "improved-scotland",
   "metadata": {},
   "outputs": [],
   "source": [
    "#docs[0].to_json()"
   ]
  },
  {
   "cell_type": "code",
   "execution_count": 8,
   "id": "respected-zambia",
   "metadata": {},
   "outputs": [
    {
     "data": {
      "application/vnd.jupyter.widget-view+json": {
       "model_id": "",
       "version_major": 2,
       "version_minor": 0
      },
      "text/plain": [
       "FloatProgress(value=0.0, layout=Layout(width='100%'), max=1.0)"
      ]
     },
     "metadata": {},
     "output_type": "display_data"
    },
    {
     "data": {
      "text/html": [
       "\n",
       "<iframe\n",
       "\tid=\"vectorian-iframe-1614764570157065000\"\n",
       "\twidth=\"100%\"\n",
       "\theight=\"100%\"\n",
       "\tsrcdoc=\"&lt;!DOCTYPE html&gt;\n",
       "&lt;html&gt;\n",
       "\t&lt;head&gt;\n",
       "\t\t&lt;meta charset=&quot;utf-8&quot;&gt;\n",
       "\t\t&lt;meta name=&quot;viewport&quot; content=&quot;width=device-width, initial-scale=1&quot;&gt;\n",
       "\t\t&lt;title&gt;Vectorian&lt;/title&gt;\n",
       "\t\t&lt;link rel=&quot;stylesheet&quot; href=&quot;https://cdn.jsdelivr.net/npm/bulma@0.9.1/css/bulma.min.css&quot;&gt;\n",
       "\t&lt;/head&gt;\n",
       "\t&lt;body&gt;\n",
       "\t\t&lt;div class=&quot;container&quot; height=&quot;100%&quot;&gt;\n",
       "\t\t\t&lt;div class=&quot;section&quot;&gt;\n",
       "&lt;!DOCTYPE html&gt;&lt;article class=&quot;media&quot;&gt;&lt;div class=&quot;media-left&quot;&gt;&lt;p class=&quot;image is-64x64&quot;&gt;&lt;span class=&quot;buttons&quot;&gt;&lt;span class=&quot;has-text-weight-bold&quot;&gt;61.9%&lt;/span&gt;&lt;br /&gt;&lt;div&gt;&lt;/div&gt;&lt;/span&gt;&lt;/p&gt;&lt;/div&gt;&lt;div class=&quot;media-content&quot;&gt;&lt;div class=&quot;is-pulled-right&quot;&gt;&lt;small&gt;&lt;/small&gt;&lt;/div&gt;&lt;div&gt;&lt;br /&gt;&lt;br /&gt;&lt;span&gt;Hey, ye want to talk like a pirate, eh?&lt;/span&gt;&lt;/div&gt;&lt;/div&gt;&lt;/article&gt;&lt;article class=&quot;media&quot;&gt;&lt;div class=&quot;media-left&quot;&gt;&lt;p class=&quot;image is-64x64&quot;&gt;&lt;span class=&quot;buttons&quot;&gt;&lt;span class=&quot;has-text-weight-bold&quot;&gt;57.1%&lt;/span&gt;&lt;br /&gt;&lt;div&gt;&lt;/div&gt;&lt;/span&gt;&lt;/p&gt;&lt;/div&gt;&lt;div class=&quot;media-content&quot;&gt;&lt;div class=&quot;is-pulled-right&quot;&gt;&lt;small&gt;&lt;/small&gt;&lt;/div&gt;&lt;div&gt;&lt;br /&gt;&lt;br /&gt;&lt;span&gt;Summer strolls are beautiful.&lt;/span&gt;&lt;/div&gt;&lt;/div&gt;&lt;/article&gt;\n",
       "\t\t\t&lt;/div&gt;\n",
       "\t\t&lt;/div&gt;\n",
       "\t&lt;/body&gt;\n",
       "&lt;/html&gt;\"\n",
       "\tframeborder=\"0\"\n",
       "\tallowfullscreen\n",
       "></iframe>\n",
       "<script>\n",
       "\tvar f = document.getElementById(\"vectorian-iframe-1614764570157065000\");\n",
       "\tf.onload = function() {\n",
       "\t\tf.height = f.contentWindow.document.body.scrollHeight + \"px\";\n",
       "\t};\n",
       "</script>\n",
       "\t\t"
      ],
      "text/plain": [
       "<vectorian.session.LabResult at 0x7ff38954cf40>"
      ]
     },
     "execution_count": 8,
     "metadata": {},
     "output_type": "execute_result"
    }
   ],
   "source": [
    "index.find(\"sea\")"
   ]
  },
  {
   "cell_type": "code",
   "execution_count": null,
   "id": "subject-platinum",
   "metadata": {},
   "outputs": [],
   "source": [
    "from vectorian.importers import NovelImporter\n",
    "from vectorian.session import LabSession\n",
    "\n",
    "im = NovelImporter(nlp)\n",
    "doc = im(\"/Users/arbeit/Wise Children.txt\")\n",
    "session = LabSession([doc])\n",
    "index = session.partition(\"sentence\", 2).index(metric)"
   ]
  },
  {
   "cell_type": "code",
   "execution_count": 10,
   "id": "sacred-america",
   "metadata": {},
   "outputs": [],
   "source": [
    "doc.save(\"/Users/arbeit/Desktop/novel.json\")"
   ]
  },
  {
   "cell_type": "code",
   "execution_count": 9,
   "id": "electrical-distribution",
   "metadata": {},
   "outputs": [
    {
     "name": "stderr",
     "output_type": "stream",
     "text": [
      "Saving: 100%|██████████| 1/1 [00:00<00:00, 104.80it/s]\n"
     ]
    }
   ],
   "source": [
    "index.save(Path(\"/Users/arbeit/Desktop/my_index\"))"
   ]
  },
  {
   "cell_type": "code",
   "execution_count": 6,
   "id": "underlying-accordance",
   "metadata": {},
   "outputs": [
    {
     "ename": "FileNotFoundError",
     "evalue": "/Users/arbeit/Desktop/my_index/2021-03-03-10-45-05-346683.npy",
     "output_type": "error",
     "traceback": [
      "\u001b[0;31m---------------------------------------------------------------------------\u001b[0m",
      "\u001b[0;31mFileNotFoundError\u001b[0m                         Traceback (most recent call last)",
      "\u001b[0;32m<ipython-input-6-6b41c2e6e021>\u001b[0m in \u001b[0;36m<module>\u001b[0;34m\u001b[0m\n\u001b[0;32m----> 1\u001b[0;31m \u001b[0mindex\u001b[0m \u001b[0;34m=\u001b[0m \u001b[0mmetric\u001b[0m\u001b[0;34m.\u001b[0m\u001b[0mload_index\u001b[0m\u001b[0;34m(\u001b[0m\u001b[0msession\u001b[0m\u001b[0;34m,\u001b[0m \u001b[0;34m\"/Users/arbeit/Desktop/my_index\"\u001b[0m\u001b[0;34m)\u001b[0m\u001b[0;34m\u001b[0m\u001b[0;34m\u001b[0m\u001b[0m\n\u001b[0m",
      "\u001b[0;32m~/Projects/vectorian-2021/vectorian/metrics.py\u001b[0m in \u001b[0;36mload_index\u001b[0;34m(self, session, path, **kwargs)\u001b[0m\n\u001b[1;32m    208\u001b[0m \u001b[0;34m\u001b[0m\u001b[0m\n\u001b[1;32m    209\u001b[0m         \u001b[0;32mdef\u001b[0m \u001b[0mload_index\u001b[0m\u001b[0;34m(\u001b[0m\u001b[0mself\u001b[0m\u001b[0;34m,\u001b[0m \u001b[0msession\u001b[0m\u001b[0;34m,\u001b[0m \u001b[0mpath\u001b[0m\u001b[0;34m,\u001b[0m \u001b[0;34m**\u001b[0m\u001b[0mkwargs\u001b[0m\u001b[0;34m)\u001b[0m\u001b[0;34m:\u001b[0m\u001b[0;34m\u001b[0m\u001b[0;34m\u001b[0m\u001b[0m\n\u001b[0;32m--> 210\u001b[0;31m \t\treturn SentenceEmbeddingIndex.load(\n\u001b[0m\u001b[1;32m    211\u001b[0m \t\t\tsession, self, self._encoder, path, **kwargs)\n\u001b[1;32m    212\u001b[0m \u001b[0;34m\u001b[0m\u001b[0m\n",
      "\u001b[0;32m~/Projects/vectorian-2021/vectorian/index.py\u001b[0m in \u001b[0;36mload\u001b[0;34m(session, metric, encoder, path)\u001b[0m\n\u001b[1;32m    334\u001b[0m                         \u001b[0mp\u001b[0m \u001b[0;34m=\u001b[0m \u001b[0mpath\u001b[0m \u001b[0;34m/\u001b[0m \u001b[0;34m(\u001b[0m\u001b[0mdoc\u001b[0m\u001b[0;34m.\u001b[0m\u001b[0mcaching_name\u001b[0m \u001b[0;34m+\u001b[0m \u001b[0;34m\".npy\"\u001b[0m\u001b[0;34m)\u001b[0m\u001b[0;34m\u001b[0m\u001b[0;34m\u001b[0m\u001b[0m\n\u001b[1;32m    335\u001b[0m                         \u001b[0;32mif\u001b[0m \u001b[0;32mnot\u001b[0m \u001b[0mp\u001b[0m\u001b[0;34m.\u001b[0m\u001b[0mexists\u001b[0m\u001b[0;34m(\u001b[0m\u001b[0;34m)\u001b[0m\u001b[0;34m:\u001b[0m\u001b[0;34m\u001b[0m\u001b[0;34m\u001b[0m\u001b[0m\n\u001b[0;32m--> 336\u001b[0;31m                                 \u001b[0;32mraise\u001b[0m \u001b[0mFileNotFoundError\u001b[0m\u001b[0;34m(\u001b[0m\u001b[0mp\u001b[0m\u001b[0;34m)\u001b[0m\u001b[0;34m\u001b[0m\u001b[0;34m\u001b[0m\u001b[0m\n\u001b[0m\u001b[1;32m    337\u001b[0m                         \u001b[0mcorpus_vec\u001b[0m\u001b[0;34m.\u001b[0m\u001b[0mappend\u001b[0m\u001b[0;34m(\u001b[0m\u001b[0mnp\u001b[0m\u001b[0;34m.\u001b[0m\u001b[0mload\u001b[0m\u001b[0;34m(\u001b[0m\u001b[0mp\u001b[0m\u001b[0;34m)\u001b[0m\u001b[0;34m)\u001b[0m\u001b[0;34m\u001b[0m\u001b[0;34m\u001b[0m\u001b[0m\n\u001b[1;32m    338\u001b[0m                 \u001b[0mcorpus_vec\u001b[0m \u001b[0;34m=\u001b[0m \u001b[0mnp\u001b[0m\u001b[0;34m.\u001b[0m\u001b[0mvstack\u001b[0m\u001b[0;34m(\u001b[0m\u001b[0mcorpus_vec\u001b[0m\u001b[0;34m)\u001b[0m\u001b[0;34m\u001b[0m\u001b[0;34m\u001b[0m\u001b[0m\n",
      "\u001b[0;31mFileNotFoundError\u001b[0m: /Users/arbeit/Desktop/my_index/2021-03-03-10-45-05-346683.npy"
     ]
    }
   ],
   "source": [
    "index = metric.load_index(session, \"/Users/arbeit/Desktop/my_index\")"
   ]
  },
  {
   "cell_type": "code",
   "execution_count": 14,
   "id": "fluid-struggle",
   "metadata": {},
   "outputs": [
    {
     "data": {
      "text/plain": [
       "0"
      ]
     },
     "execution_count": 14,
     "metadata": {},
     "output_type": "execute_result"
    }
   ],
   "source": [
    "session.documents[0].tokens['len'][386]"
   ]
  },
  {
   "cell_type": "code",
   "execution_count": 7,
   "id": "signal-gauge",
   "metadata": {},
   "outputs": [
    {
     "data": {
      "application/vnd.jupyter.widget-view+json": {
       "model_id": "",
       "version_major": 2,
       "version_minor": 0
      },
      "text/plain": [
       "FloatProgress(value=0.0, layout=Layout(width='100%'), max=1.0)"
      ]
     },
     "metadata": {},
     "output_type": "display_data"
    },
    {
     "name": "stdout",
     "output_type": "stream",
     "text": [
      "returning text 29736 29753 Yes!Seventy-five.\n",
      "returning text 1914 1941 Heroes and Villains\n",
      "\n",
      "Love\n",
      "\n",
      "\n",
      "returning text 117 146 Chapter Three\n",
      "\n",
      "Chapter Four\n",
      "\n",
      "\n",
      "returning text 91 117 Chapter One\n",
      "\n",
      "Chapter Two\n",
      "\n",
      "\n",
      "returning text 27587 27615 4–5.8 Shaking a Leg, p. 604.\n",
      "returning text 57185 57222 Rivers of tears.Tempests of applause.\n",
      "returning text 26932 26953 p. 37.2 Ibid., p. 40.\n",
      "returning text 1596 1627 Fireworks\n",
      "\n",
      "The Bloody Chamber\n",
      "\n",
      "\n",
      "returning text 47262 47307 And Fred and Ginger, of course.Good old Fred.\n",
      "returning text 13871 13893 But I got a lotin!’5\n",
      "\n",
      "\n"
     ]
    },
    {
     "data": {
      "text/html": [
       "\n",
       "<iframe\n",
       "\tid=\"vectorian-iframe-1614764205813541000\"\n",
       "\twidth=\"100%\"\n",
       "\theight=\"100%\"\n",
       "\tsrcdoc=\"&lt;!DOCTYPE html&gt;\n",
       "&lt;html&gt;\n",
       "\t&lt;head&gt;\n",
       "\t\t&lt;meta charset=&quot;utf-8&quot;&gt;\n",
       "\t\t&lt;meta name=&quot;viewport&quot; content=&quot;width=device-width, initial-scale=1&quot;&gt;\n",
       "\t\t&lt;title&gt;Vectorian&lt;/title&gt;\n",
       "\t\t&lt;link rel=&quot;stylesheet&quot; href=&quot;https://cdn.jsdelivr.net/npm/bulma@0.9.1/css/bulma.min.css&quot;&gt;\n",
       "\t&lt;/head&gt;\n",
       "\t&lt;body&gt;\n",
       "\t\t&lt;div class=&quot;container&quot; height=&quot;100%&quot;&gt;\n",
       "\t\t\t&lt;div class=&quot;section&quot;&gt;\n",
       "&lt;!DOCTYPE html&gt;&lt;article class=&quot;media&quot;&gt;&lt;div class=&quot;media-left&quot;&gt;&lt;p class=&quot;image is-64x64&quot;&gt;&lt;span class=&quot;buttons&quot;&gt;&lt;span class=&quot;has-text-weight-bold&quot;&gt;70.4%&lt;/span&gt;&lt;br /&gt;&lt;div&gt;&lt;/div&gt;&lt;/span&gt;&lt;/p&gt;&lt;/div&gt;&lt;div class=&quot;media-content&quot;&gt;&lt;div class=&quot;is-pulled-right&quot;&gt;&lt;small class=&quot;is-italic&quot;&gt;Wise Children, &lt;/small&gt;&lt;small&gt;par. 188&lt;/small&gt;&lt;/div&gt;&lt;div&gt;&lt;br /&gt;&lt;br /&gt;&lt;span&gt;Yes!Seventy-five.&lt;/span&gt;&lt;/div&gt;&lt;/div&gt;&lt;/article&gt;&lt;article class=&quot;media&quot;&gt;&lt;div class=&quot;media-left&quot;&gt;&lt;p class=&quot;image is-64x64&quot;&gt;&lt;span class=&quot;buttons&quot;&gt;&lt;span class=&quot;has-text-weight-bold&quot;&gt;67.5%&lt;/span&gt;&lt;br /&gt;&lt;div&gt;&lt;/div&gt;&lt;/span&gt;&lt;/p&gt;&lt;/div&gt;&lt;div class=&quot;media-content&quot;&gt;&lt;div class=&quot;is-pulled-right&quot;&gt;&lt;small class=&quot;is-italic&quot;&gt;Wise Children, &lt;/small&gt;&lt;small&gt;par. 39&lt;/small&gt;&lt;/div&gt;&lt;div&gt;&lt;br /&gt;&lt;br /&gt;&lt;span&gt;Heroes and Villains\n",
       "\n",
       "Love&lt;/span&gt;&lt;/div&gt;&lt;/div&gt;&lt;/article&gt;&lt;article class=&quot;media&quot;&gt;&lt;div class=&quot;media-left&quot;&gt;&lt;p class=&quot;image is-64x64&quot;&gt;&lt;span class=&quot;buttons&quot;&gt;&lt;span class=&quot;has-text-weight-bold&quot;&gt;67.5%&lt;/span&gt;&lt;br /&gt;&lt;div&gt;&lt;/div&gt;&lt;/span&gt;&lt;/p&gt;&lt;/div&gt;&lt;div class=&quot;media-content&quot;&gt;&lt;div class=&quot;is-pulled-right&quot;&gt;&lt;small class=&quot;is-italic&quot;&gt;Wise Children, &lt;/small&gt;&lt;small&gt;par. 9&lt;/small&gt;&lt;/div&gt;&lt;div&gt;&lt;br /&gt;&lt;br /&gt;&lt;span&gt;Chapter Three\n",
       "\n",
       "Chapter Four&lt;/span&gt;&lt;/div&gt;&lt;/div&gt;&lt;/article&gt;&lt;article class=&quot;media&quot;&gt;&lt;div class=&quot;media-left&quot;&gt;&lt;p class=&quot;image is-64x64&quot;&gt;&lt;span class=&quot;buttons&quot;&gt;&lt;span class=&quot;has-text-weight-bold&quot;&gt;66.0%&lt;/span&gt;&lt;br /&gt;&lt;div&gt;&lt;/div&gt;&lt;/span&gt;&lt;/p&gt;&lt;/div&gt;&lt;div class=&quot;media-content&quot;&gt;&lt;div class=&quot;is-pulled-right&quot;&gt;&lt;small class=&quot;is-italic&quot;&gt;Wise Children, &lt;/small&gt;&lt;small&gt;par. 7&lt;/small&gt;&lt;/div&gt;&lt;div&gt;&lt;br /&gt;&lt;br /&gt;&lt;span&gt;Chapter One\n",
       "\n",
       "Chapter Two&lt;/span&gt;&lt;/div&gt;&lt;/div&gt;&lt;/article&gt;&lt;article class=&quot;media&quot;&gt;&lt;div class=&quot;media-left&quot;&gt;&lt;p class=&quot;image is-64x64&quot;&gt;&lt;span class=&quot;buttons&quot;&gt;&lt;span class=&quot;has-text-weight-bold&quot;&gt;65.0%&lt;/span&gt;&lt;br /&gt;&lt;div&gt;&lt;/div&gt;&lt;/span&gt;&lt;/p&gt;&lt;/div&gt;&lt;div class=&quot;media-content&quot;&gt;&lt;div class=&quot;is-pulled-right&quot;&gt;&lt;small class=&quot;is-italic&quot;&gt;Wise Children, &lt;/small&gt;&lt;small&gt;par. 171&lt;/small&gt;&lt;/div&gt;&lt;div&gt;&lt;br /&gt;&lt;br /&gt;&lt;span&gt;4–5.8 Shaking a Leg, p. 604.&lt;/span&gt;&lt;/div&gt;&lt;/div&gt;&lt;/article&gt;&lt;article class=&quot;media&quot;&gt;&lt;div class=&quot;media-left&quot;&gt;&lt;p class=&quot;image is-64x64&quot;&gt;&lt;span class=&quot;buttons&quot;&gt;&lt;span class=&quot;has-text-weight-bold&quot;&gt;64.6%&lt;/span&gt;&lt;br /&gt;&lt;div&gt;&lt;/div&gt;&lt;/span&gt;&lt;/p&gt;&lt;/div&gt;&lt;div class=&quot;media-content&quot;&gt;&lt;div class=&quot;is-pulled-right&quot;&gt;&lt;small class=&quot;is-italic&quot;&gt;Wise Children, &lt;/small&gt;&lt;small&gt;par. 278&lt;/small&gt;&lt;/div&gt;&lt;div&gt;&lt;br /&gt;&lt;br /&gt;&lt;span&gt;Rivers of tears.Tempests of applause.&lt;/span&gt;&lt;/div&gt;&lt;/div&gt;&lt;/article&gt;&lt;article class=&quot;media&quot;&gt;&lt;div class=&quot;media-left&quot;&gt;&lt;p class=&quot;image is-64x64&quot;&gt;&lt;span class=&quot;buttons&quot;&gt;&lt;span class=&quot;has-text-weight-bold&quot;&gt;64.4%&lt;/span&gt;&lt;br /&gt;&lt;div&gt;&lt;/div&gt;&lt;/span&gt;&lt;/p&gt;&lt;/div&gt;&lt;div class=&quot;media-content&quot;&gt;&lt;div class=&quot;is-pulled-right&quot;&gt;&lt;small class=&quot;is-italic&quot;&gt;Wise Children, &lt;/small&gt;&lt;small&gt;par. 165&lt;/small&gt;&lt;/div&gt;&lt;div&gt;&lt;br /&gt;&lt;br /&gt;&lt;span&gt;p. 37.2 Ibid., p. 40.&lt;/span&gt;&lt;/div&gt;&lt;/div&gt;&lt;/article&gt;&lt;article class=&quot;media&quot;&gt;&lt;div class=&quot;media-left&quot;&gt;&lt;p class=&quot;image is-64x64&quot;&gt;&lt;span class=&quot;buttons&quot;&gt;&lt;span class=&quot;has-text-weight-bold&quot;&gt;64.3%&lt;/span&gt;&lt;br /&gt;&lt;div&gt;&lt;/div&gt;&lt;/span&gt;&lt;/p&gt;&lt;/div&gt;&lt;div class=&quot;media-content&quot;&gt;&lt;div class=&quot;is-pulled-right&quot;&gt;&lt;small class=&quot;is-italic&quot;&gt;Wise Children, &lt;/small&gt;&lt;small&gt;par. 27&lt;/small&gt;&lt;/div&gt;&lt;div&gt;&lt;br /&gt;&lt;br /&gt;&lt;span&gt;Fireworks\n",
       "\n",
       "The Bloody Chamber&lt;/span&gt;&lt;/div&gt;&lt;/div&gt;&lt;/article&gt;&lt;article class=&quot;media&quot;&gt;&lt;div class=&quot;media-left&quot;&gt;&lt;p class=&quot;image is-64x64&quot;&gt;&lt;span class=&quot;buttons&quot;&gt;&lt;span class=&quot;has-text-weight-bold&quot;&gt;63.5%&lt;/span&gt;&lt;br /&gt;&lt;div&gt;&lt;/div&gt;&lt;/span&gt;&lt;/p&gt;&lt;/div&gt;&lt;div class=&quot;media-content&quot;&gt;&lt;div class=&quot;is-pulled-right&quot;&gt;&lt;small class=&quot;is-italic&quot;&gt;Wise Children, &lt;/small&gt;&lt;small&gt;par. 252&lt;/small&gt;&lt;/div&gt;&lt;div&gt;&lt;br /&gt;&lt;br /&gt;&lt;span&gt;And Fred and Ginger, of course.Good old Fred.&lt;/span&gt;&lt;/div&gt;&lt;/div&gt;&lt;/article&gt;&lt;article class=&quot;media&quot;&gt;&lt;div class=&quot;media-left&quot;&gt;&lt;p class=&quot;image is-64x64&quot;&gt;&lt;span class=&quot;buttons&quot;&gt;&lt;span class=&quot;has-text-weight-bold&quot;&gt;63.4%&lt;/span&gt;&lt;br /&gt;&lt;div&gt;&lt;/div&gt;&lt;/span&gt;&lt;/p&gt;&lt;/div&gt;&lt;div class=&quot;media-content&quot;&gt;&lt;div class=&quot;is-pulled-right&quot;&gt;&lt;small class=&quot;is-italic&quot;&gt;Wise Children, &lt;/small&gt;&lt;small&gt;par. 141&lt;/small&gt;&lt;/div&gt;&lt;div&gt;&lt;br /&gt;&lt;br /&gt;&lt;span&gt;But I got a lotin!’5&lt;/span&gt;&lt;/div&gt;&lt;/div&gt;&lt;/article&gt;\n",
       "\t\t\t&lt;/div&gt;\n",
       "\t\t&lt;/div&gt;\n",
       "\t&lt;/body&gt;\n",
       "&lt;/html&gt;\"\n",
       "\tframeborder=\"0\"\n",
       "\tallowfullscreen\n",
       "></iframe>\n",
       "<script>\n",
       "\tvar f = document.getElementById(\"vectorian-iframe-1614764205813541000\");\n",
       "\tf.onload = function() {\n",
       "\t\tf.height = f.contentWindow.document.body.scrollHeight + \"px\";\n",
       "\t};\n",
       "</script>\n",
       "\t\t"
      ],
      "text/plain": [
       "<vectorian.session.LabResult at 0x7fb3d150dbe0>"
      ]
     },
     "execution_count": 7,
     "metadata": {},
     "output_type": "execute_result"
    }
   ],
   "source": [
    "index.find(\"two and four\")\n",
    "#index.find(\"making America great again\")\n",
    "#index.find(\"under the greenwood tree\")"
   ]
  },
  {
   "cell_type": "code",
   "execution_count": 6,
   "id": "intensive-andrew",
   "metadata": {},
   "outputs": [
    {
     "name": "stderr",
     "output_type": "stream",
     "text": [
      "Importing /Users/arbeit/Desktop/play.xml: 100%|██████████| 916/916 [00:07<00:00, 128.00it/s]\n"
     ]
    }
   ],
   "source": [
    "from vectorian.importers import ShakespeareImporter\n",
    "from vectorian.session import LabSession\n",
    "\n",
    "im = ShakespeareImporter(nlp)\n",
    "doc = im(\"/Users/arbeit/Desktop/play.xml\")\n",
    "session = LabSession(\n",
    "    [doc],\n",
    "    static_embeddings=[fasttext],\n",
    "    token_mappings=token_mappings)"
   ]
  },
  {
   "cell_type": "code",
   "execution_count": 7,
   "id": "precious-grave",
   "metadata": {},
   "outputs": [],
   "source": [
    "index = session.index_for_metric()"
   ]
  },
  {
   "cell_type": "code",
   "execution_count": 8,
   "id": "arranged-leader",
   "metadata": {},
   "outputs": [
    {
     "data": {
      "application/vnd.jupyter.widget-view+json": {
       "model_id": "",
       "version_major": 2,
       "version_minor": 0
      },
      "text/plain": [
       "FloatProgress(value=0.0, layout=Layout(width='100%'), max=1.0)"
      ]
     },
     "metadata": {},
     "output_type": "display_data"
    },
    {
     "data": {
      "text/html": [
       "\n",
       "<iframe\n",
       "\tid=\"vectorian-iframe-1614612249831673000\"\n",
       "\twidth=\"100%\"\n",
       "\theight=\"100%\"\n",
       "\tsrcdoc=\"&lt;!DOCTYPE html&gt;\n",
       "&lt;html&gt;\n",
       "\t&lt;head&gt;\n",
       "\t\t&lt;meta charset=&quot;utf-8&quot;&gt;\n",
       "\t\t&lt;meta name=&quot;viewport&quot; content=&quot;width=device-width, initial-scale=1&quot;&gt;\n",
       "\t\t&lt;title&gt;Vectorian&lt;/title&gt;\n",
       "\t\t&lt;link rel=&quot;stylesheet&quot; href=&quot;https://cdn.jsdelivr.net/npm/bulma@0.9.1/css/bulma.min.css&quot;&gt;\n",
       "\t&lt;/head&gt;\n",
       "\t&lt;body&gt;\n",
       "\t\t&lt;div class=&quot;container&quot; height=&quot;100%&quot;&gt;\n",
       "\t\t\t&lt;div class=&quot;section&quot;&gt;\n",
       "&lt;!DOCTYPE html&gt;&lt;article class=&quot;media&quot;&gt;&lt;div class=&quot;media-left&quot;&gt;&lt;p class=&quot;image is-64x64&quot;&gt;&lt;span class=&quot;buttons&quot;&gt;&lt;span class=&quot;has-text-weight-bold&quot;&gt;84.0%&lt;/span&gt;&lt;br /&gt;&lt;div&gt;&lt;/div&gt;&lt;/span&gt;&lt;/p&gt;&lt;/div&gt;&lt;div class=&quot;media-content&quot;&gt;&lt;span style=&quot;font-variant: small-caps;&quot;&gt;Countess of Roussillon&lt;/span&gt;&lt;div class=&quot;is-pulled-right&quot;&gt;&lt;small&gt;William Shakespeare, &lt;/small&gt;&lt;small class=&quot;is-italic&quot;&gt;All’s Well That Ends Well, &lt;/small&gt;&lt;small&gt;III.2, line 1045&lt;/small&gt;&lt;/div&gt;&lt;div&gt;&lt;br /&gt;&lt;br /&gt;&lt;span&gt;&lt;span class=&quot;has-text-grey-light&quot;&gt;you have there.This is not well, rash and unbridled &lt;/span&gt; &lt;span&gt;&lt;span style=&quot;display:inline-table;&quot;&gt;&lt;span style=&quot;display:table-row;&quot;&gt;&lt;span style=&quot;display:table-cell;&quot;&gt;&lt;span class=&quot;has-text-black has-text-weight-bold&quot;&gt;boy&lt;/span&gt;&lt;/span&gt; &lt;span style=&quot;display:table-cell;&quot;&gt;&lt;span class=&quot;tag is-light&quot;&gt;girl&lt;/span&gt;&lt;/span&gt; &lt;span style=&quot;display:table-cell; opacity:1.0;&quot;&gt;&lt;span class=&quot;tag is-success&quot;&gt;83%&lt;/span&gt;&lt;/span&gt;&lt;/span&gt;&lt;/span&gt;&lt;/span&gt; &lt;span class=&quot;has-text-grey-light&quot;&gt;To fly the favors of so good a king, To &lt;/span&gt;&lt;/span&gt;&lt;/div&gt;&lt;/div&gt;&lt;/article&gt;&lt;article class=&quot;media&quot;&gt;&lt;div class=&quot;media-left&quot;&gt;&lt;p class=&quot;image is-64x64&quot;&gt;&lt;span class=&quot;buttons&quot;&gt;&lt;span class=&quot;has-text-weight-bold&quot;&gt;84.0%&lt;/span&gt;&lt;br /&gt;&lt;div&gt;&lt;/div&gt;&lt;/span&gt;&lt;/p&gt;&lt;/div&gt;&lt;div class=&quot;media-content&quot;&gt;&lt;span style=&quot;font-variant: small-caps;&quot;&gt;Parolles&lt;/span&gt;&lt;div class=&quot;is-pulled-right&quot;&gt;&lt;small&gt;William Shakespeare, &lt;/small&gt;&lt;small class=&quot;is-italic&quot;&gt;All’s Well That Ends Well, &lt;/small&gt;&lt;small&gt;IV.3, line 1653&lt;/small&gt;&lt;/div&gt;&lt;div&gt;&lt;br /&gt;&lt;br /&gt;&lt;span&gt;&lt;span class=&quot;has-text-grey-light&quot;&gt;well, and to beguile the supposition of that lascivious young &lt;/span&gt; &lt;span&gt;&lt;span style=&quot;display:inline-table;&quot;&gt;&lt;span style=&quot;display:table-row;&quot;&gt;&lt;span style=&quot;display:table-cell;&quot;&gt;&lt;span class=&quot;has-text-black has-text-weight-bold&quot;&gt;boy&lt;/span&gt;&lt;/span&gt; &lt;span style=&quot;display:table-cell;&quot;&gt;&lt;span class=&quot;tag is-light&quot;&gt;girl&lt;/span&gt;&lt;/span&gt; &lt;span style=&quot;display:table-cell; opacity:1.0;&quot;&gt;&lt;span class=&quot;tag is-success&quot;&gt;83%&lt;/span&gt;&lt;/span&gt;&lt;/span&gt;&lt;/span&gt;&lt;/span&gt; &lt;span class=&quot;has-text-grey-light&quot;&gt;the Count, have I run into this danger.Yet who &lt;/span&gt;&lt;/span&gt;&lt;/div&gt;&lt;/div&gt;&lt;/article&gt;&lt;article class=&quot;media&quot;&gt;&lt;div class=&quot;media-left&quot;&gt;&lt;p class=&quot;image is-64x64&quot;&gt;&lt;span class=&quot;buttons&quot;&gt;&lt;span class=&quot;has-text-weight-bold&quot;&gt;84.0%&lt;/span&gt;&lt;br /&gt;&lt;div&gt;&lt;/div&gt;&lt;/span&gt;&lt;/p&gt;&lt;/div&gt;&lt;div class=&quot;media-content&quot;&gt;&lt;span style=&quot;font-variant: small-caps;&quot;&gt;Parolles&lt;/span&gt;&lt;div class=&quot;is-pulled-right&quot;&gt;&lt;small&gt;William Shakespeare, &lt;/small&gt;&lt;small class=&quot;is-italic&quot;&gt;All’s Well That Ends Well, &lt;/small&gt;&lt;small&gt;IV.3, line 1619&lt;/small&gt;&lt;/div&gt;&lt;div&gt;&lt;br /&gt;&lt;br /&gt;&lt;span&gt;&lt;span class=&quot;has-text-grey-light&quot;&gt;knew the young Count to be a dangerous and lascivious &lt;/span&gt; &lt;span&gt;&lt;span style=&quot;display:inline-table;&quot;&gt;&lt;span style=&quot;display:table-row;&quot;&gt;&lt;span style=&quot;display:table-cell;&quot;&gt;&lt;span class=&quot;has-text-black has-text-weight-bold&quot;&gt;boy&lt;/span&gt;&lt;/span&gt; &lt;span style=&quot;display:table-cell;&quot;&gt;&lt;span class=&quot;tag is-light&quot;&gt;girl&lt;/span&gt;&lt;/span&gt; &lt;span style=&quot;display:table-cell; opacity:1.0;&quot;&gt;&lt;span class=&quot;tag is-success&quot;&gt;83%&lt;/span&gt;&lt;/span&gt;&lt;/span&gt;&lt;/span&gt;&lt;/span&gt; &lt;span class=&quot;has-text-grey-light&quot;&gt;who is a whale to virginity, and devours up all &lt;/span&gt;&lt;/span&gt;&lt;/div&gt;&lt;/div&gt;&lt;/article&gt;&lt;article class=&quot;media&quot;&gt;&lt;div class=&quot;media-left&quot;&gt;&lt;p class=&quot;image is-64x64&quot;&gt;&lt;span class=&quot;buttons&quot;&gt;&lt;span class=&quot;has-text-weight-bold&quot;&gt;84.0%&lt;/span&gt;&lt;br /&gt;&lt;div&gt;&lt;/div&gt;&lt;/span&gt;&lt;/p&gt;&lt;/div&gt;&lt;div class=&quot;media-content&quot;&gt;&lt;span style=&quot;font-variant: small-caps;&quot;&gt;Parolles&lt;/span&gt;&lt;div class=&quot;is-pulled-right&quot;&gt;&lt;small&gt;William Shakespeare, &lt;/small&gt;&lt;small class=&quot;is-italic&quot;&gt;All’s Well That Ends Well, &lt;/small&gt;&lt;small&gt;IV.3, line 1617&lt;/small&gt;&lt;/div&gt;&lt;div&gt;&lt;br /&gt;&lt;br /&gt;&lt;span&gt;&lt;span class=&quot;has-text-grey-light&quot;&gt;of the allurement of one Count Roussillon, a foolish idle &lt;/span&gt; &lt;span&gt;&lt;span style=&quot;display:inline-table;&quot;&gt;&lt;span style=&quot;display:table-row;&quot;&gt;&lt;span style=&quot;display:table-cell;&quot;&gt;&lt;span class=&quot;has-text-black has-text-weight-bold&quot;&gt;boy&lt;/span&gt;&lt;/span&gt; &lt;span style=&quot;display:table-cell;&quot;&gt;&lt;span class=&quot;tag is-light&quot;&gt;girl&lt;/span&gt;&lt;/span&gt; &lt;span style=&quot;display:table-cell; opacity:1.0;&quot;&gt;&lt;span class=&quot;tag is-success&quot;&gt;83%&lt;/span&gt;&lt;/span&gt;&lt;/span&gt;&lt;/span&gt;&lt;/span&gt; &lt;span class=&quot;has-text-grey-light&quot;&gt;but for all that very ruttish.I pray you, sir, &lt;/span&gt;&lt;/span&gt;&lt;/div&gt;&lt;/div&gt;&lt;/article&gt;&lt;article class=&quot;media&quot;&gt;&lt;div class=&quot;media-left&quot;&gt;&lt;p class=&quot;image is-64x64&quot;&gt;&lt;span class=&quot;buttons&quot;&gt;&lt;span class=&quot;has-text-weight-bold&quot;&gt;84.0%&lt;/span&gt;&lt;br /&gt;&lt;div&gt;&lt;/div&gt;&lt;/span&gt;&lt;/p&gt;&lt;/div&gt;&lt;div class=&quot;media-content&quot;&gt;&lt;span style=&quot;font-variant: small-caps;&quot;&gt;King of France&lt;/span&gt;&lt;div class=&quot;is-pulled-right&quot;&gt;&lt;small&gt;William Shakespeare, &lt;/small&gt;&lt;small class=&quot;is-italic&quot;&gt;All’s Well That Ends Well, &lt;/small&gt;&lt;small&gt;II.3, line 790&lt;/small&gt;&lt;/div&gt;&lt;div&gt;&lt;br /&gt;&lt;br /&gt;&lt;span&gt;&lt;span class=&quot;has-text-grey-light&quot;&gt;must produce my power.Here, take her hand, Proud scornful &lt;/span&gt; &lt;span&gt;&lt;span style=&quot;display:inline-table;&quot;&gt;&lt;span style=&quot;display:table-row;&quot;&gt;&lt;span style=&quot;display:table-cell;&quot;&gt;&lt;span class=&quot;has-text-black has-text-weight-bold&quot;&gt;boy&lt;/span&gt;&lt;/span&gt; &lt;span style=&quot;display:table-cell;&quot;&gt;&lt;span class=&quot;tag is-light&quot;&gt;girl&lt;/span&gt;&lt;/span&gt; &lt;span style=&quot;display:table-cell; opacity:1.0;&quot;&gt;&lt;span class=&quot;tag is-success&quot;&gt;83%&lt;/span&gt;&lt;/span&gt;&lt;/span&gt;&lt;/span&gt;&lt;/span&gt; &lt;span class=&quot;has-text-grey-light&quot;&gt;unworthy this good gift, That dost in vile misprision shackle &lt;/span&gt;&lt;/span&gt;&lt;/div&gt;&lt;/div&gt;&lt;/article&gt;&lt;article class=&quot;media&quot;&gt;&lt;div class=&quot;media-left&quot;&gt;&lt;p class=&quot;image is-64x64&quot;&gt;&lt;span class=&quot;buttons&quot;&gt;&lt;span class=&quot;has-text-weight-bold&quot;&gt;84.0%&lt;/span&gt;&lt;br /&gt;&lt;div&gt;&lt;/div&gt;&lt;/span&gt;&lt;/p&gt;&lt;/div&gt;&lt;div class=&quot;media-content&quot;&gt;&lt;span style=&quot;font-variant: small-caps;&quot;&gt;Parolles&lt;/span&gt;&lt;div class=&quot;is-pulled-right&quot;&gt;&lt;small&gt;William Shakespeare, &lt;/small&gt;&lt;small class=&quot;is-italic&quot;&gt;All’s Well That Ends Well, &lt;/small&gt;&lt;small&gt;II.3, line 870&lt;/small&gt;&lt;/div&gt;&lt;div&gt;&lt;br /&gt;&lt;br /&gt;&lt;span&gt;&lt;span class=&quot;has-text-grey-light&quot;&gt;yet.Ay, that would be known.To th’ wars, my &lt;/span&gt; &lt;span&gt;&lt;span style=&quot;display:inline-table;&quot;&gt;&lt;span style=&quot;display:table-row;&quot;&gt;&lt;span style=&quot;display:table-cell;&quot;&gt;&lt;span class=&quot;has-text-black has-text-weight-bold&quot;&gt;boy&lt;/span&gt;&lt;/span&gt; &lt;span style=&quot;display:table-cell;&quot;&gt;&lt;span class=&quot;tag is-light&quot;&gt;girl&lt;/span&gt;&lt;/span&gt; &lt;span style=&quot;display:table-cell; opacity:1.0;&quot;&gt;&lt;span class=&quot;tag is-success&quot;&gt;83%&lt;/span&gt;&lt;/span&gt;&lt;/span&gt;&lt;/span&gt;&lt;/span&gt; &lt;span class=&quot;has-text-grey-light&quot;&gt;to th’ wars!He wears his honor in a box &lt;/span&gt;&lt;/span&gt;&lt;/div&gt;&lt;/div&gt;&lt;/article&gt;&lt;article class=&quot;media&quot;&gt;&lt;div class=&quot;media-left&quot;&gt;&lt;p class=&quot;image is-64x64&quot;&gt;&lt;span class=&quot;buttons&quot;&gt;&lt;span class=&quot;has-text-weight-bold&quot;&gt;84.0%&lt;/span&gt;&lt;br /&gt;&lt;div&gt;&lt;/div&gt;&lt;/span&gt;&lt;/p&gt;&lt;/div&gt;&lt;div class=&quot;media-content&quot;&gt;&lt;span style=&quot;font-variant: small-caps;&quot;&gt;Parolles&lt;/span&gt;&lt;div class=&quot;is-pulled-right&quot;&gt;&lt;small&gt;William Shakespeare, &lt;/small&gt;&lt;small class=&quot;is-italic&quot;&gt;All’s Well That Ends Well, &lt;/small&gt;&lt;small&gt;II.1, line 445&lt;/small&gt;&lt;/div&gt;&lt;div&gt;&lt;br /&gt;&lt;br /&gt;&lt;span&gt;&lt;span class=&quot;has-text-grey-light&quot;&gt;year” and “’tis too early.”And thy mind stand to’t, &lt;/span&gt; &lt;span&gt;&lt;span style=&quot;display:inline-table;&quot;&gt;&lt;span style=&quot;display:table-row;&quot;&gt;&lt;span style=&quot;display:table-cell;&quot;&gt;&lt;span class=&quot;has-text-black has-text-weight-bold&quot;&gt;boy&lt;/span&gt;&lt;/span&gt; &lt;span style=&quot;display:table-cell;&quot;&gt;&lt;span class=&quot;tag is-light&quot;&gt;girl&lt;/span&gt;&lt;/span&gt; &lt;span style=&quot;display:table-cell; opacity:1.0;&quot;&gt;&lt;span class=&quot;tag is-success&quot;&gt;83%&lt;/span&gt;&lt;/span&gt;&lt;/span&gt;&lt;/span&gt;&lt;/span&gt; &lt;span class=&quot;has-text-grey-light&quot;&gt;steal away bravely.I shall stay here the forehorse to &lt;/span&gt;&lt;/span&gt;&lt;/div&gt;&lt;/div&gt;&lt;/article&gt;&lt;article class=&quot;media&quot;&gt;&lt;div class=&quot;media-left&quot;&gt;&lt;p class=&quot;image is-64x64&quot;&gt;&lt;span class=&quot;buttons&quot;&gt;&lt;span class=&quot;has-text-weight-bold&quot;&gt;79.8%&lt;/span&gt;&lt;br /&gt;&lt;div&gt;&lt;/div&gt;&lt;/span&gt;&lt;/p&gt;&lt;/div&gt;&lt;div class=&quot;media-content&quot;&gt;&lt;span style=&quot;font-variant: small-caps;&quot;&gt;King of France&lt;/span&gt;&lt;div class=&quot;is-pulled-right&quot;&gt;&lt;small&gt;William Shakespeare, &lt;/small&gt;&lt;small class=&quot;is-italic&quot;&gt;All’s Well That Ends Well, &lt;/small&gt;&lt;small&gt;II.1, line 433&lt;/small&gt;&lt;/div&gt;&lt;div&gt;&lt;br /&gt;&lt;br /&gt;&lt;span&gt;&lt;span class=&quot;has-text-grey-light&quot;&gt;say farewell.Health, at your bidding, serve your Majesty!Those &lt;/span&gt; &lt;span&gt;&lt;span style=&quot;display:inline-table;&quot;&gt;&lt;span style=&quot;display:table-row;&quot;&gt;&lt;span style=&quot;display:table-cell;&quot;&gt;&lt;span class=&quot;has-text-black has-text-weight-bold&quot;&gt;girls&lt;/span&gt;&lt;/span&gt; &lt;span style=&quot;display:table-cell;&quot;&gt;&lt;span class=&quot;tag is-light&quot;&gt;girl&lt;/span&gt;&lt;/span&gt; &lt;span style=&quot;display:table-cell; opacity:1.0;&quot;&gt;&lt;span class=&quot;tag is-success&quot;&gt;79%&lt;/span&gt;&lt;/span&gt;&lt;/span&gt;&lt;/span&gt;&lt;/span&gt; &lt;span class=&quot;has-text-grey-light&quot;&gt;of Italy, take heed of them.They say our French &lt;/span&gt;&lt;/span&gt;&lt;/div&gt;&lt;/div&gt;&lt;/article&gt;&lt;article class=&quot;media&quot;&gt;&lt;div class=&quot;media-left&quot;&gt;&lt;p class=&quot;image is-64x64&quot;&gt;&lt;span class=&quot;buttons&quot;&gt;&lt;span class=&quot;has-text-weight-bold&quot;&gt;71.1%&lt;/span&gt;&lt;br /&gt;&lt;div&gt;&lt;/div&gt;&lt;/span&gt;&lt;/p&gt;&lt;/div&gt;&lt;div class=&quot;media-content&quot;&gt;&lt;span style=&quot;font-variant: small-caps;&quot;&gt;Lavatch&lt;/span&gt;&lt;div class=&quot;is-pulled-right&quot;&gt;&lt;small&gt;William Shakespeare, &lt;/small&gt;&lt;small class=&quot;is-italic&quot;&gt;All’s Well That Ends Well, &lt;/small&gt;&lt;small&gt;I.3, line 264&lt;/small&gt;&lt;/div&gt;&lt;div&gt;&lt;br /&gt;&lt;br /&gt;&lt;span&gt;&lt;span class=&quot;has-text-grey-light&quot;&gt;do as I command you.That man should be at &lt;/span&gt; &lt;span&gt;&lt;span style=&quot;display:inline-table;&quot;&gt;&lt;span style=&quot;display:table-row;&quot;&gt;&lt;span style=&quot;display:table-cell;&quot;&gt;&lt;span class=&quot;has-text-black has-text-weight-bold&quot;&gt;woman&lt;/span&gt;&lt;/span&gt; &lt;span style=&quot;display:table-cell;&quot;&gt;&lt;span class=&quot;tag is-light&quot;&gt;girl&lt;/span&gt;&lt;/span&gt; &lt;span style=&quot;display:table-cell; opacity:1.0;&quot;&gt;&lt;span class=&quot;tag is-warning&quot;&gt;71%&lt;/span&gt;&lt;/span&gt;&lt;/span&gt;&lt;/span&gt;&lt;/span&gt; &lt;span class=&quot;has-text-grey-light&quot;&gt;’s command, and yet no hurt done!Though honesty be &lt;/span&gt;&lt;/span&gt;&lt;/div&gt;&lt;/div&gt;&lt;/article&gt;&lt;article class=&quot;media&quot;&gt;&lt;div class=&quot;media-left&quot;&gt;&lt;p class=&quot;image is-64x64&quot;&gt;&lt;span class=&quot;buttons&quot;&gt;&lt;span class=&quot;has-text-weight-bold&quot;&gt;71.1%&lt;/span&gt;&lt;br /&gt;&lt;div&gt;&lt;/div&gt;&lt;/span&gt;&lt;/p&gt;&lt;/div&gt;&lt;div class=&quot;media-content&quot;&gt;&lt;span style=&quot;font-variant: small-caps;&quot;&gt;Lavatch&lt;/span&gt;&lt;div class=&quot;is-pulled-right&quot;&gt;&lt;small&gt;William Shakespeare, &lt;/small&gt;&lt;small class=&quot;is-italic&quot;&gt;All’s Well That Ends Well, &lt;/small&gt;&lt;small&gt;I.3, line 262&lt;/small&gt;&lt;/div&gt;&lt;div&gt;&lt;br /&gt;&lt;br /&gt;&lt;span&gt;&lt;span class=&quot;has-text-grey-light&quot;&gt;in ten, quoth ’a?And we might have a good &lt;/span&gt; &lt;span&gt;&lt;span style=&quot;display:inline-table;&quot;&gt;&lt;span style=&quot;display:table-row;&quot;&gt;&lt;span style=&quot;display:table-cell;&quot;&gt;&lt;span class=&quot;has-text-black has-text-weight-bold&quot;&gt;woman&lt;/span&gt;&lt;/span&gt; &lt;span style=&quot;display:table-cell;&quot;&gt;&lt;span class=&quot;tag is-light&quot;&gt;girl&lt;/span&gt;&lt;/span&gt; &lt;span style=&quot;display:table-cell; opacity:1.0;&quot;&gt;&lt;span class=&quot;tag is-warning&quot;&gt;71%&lt;/span&gt;&lt;/span&gt;&lt;/span&gt;&lt;/span&gt;&lt;/span&gt; &lt;span class=&quot;has-text-grey-light&quot;&gt;born but or every blazing star or at an earthquake, ’&lt;/span&gt;&lt;/span&gt;&lt;/div&gt;&lt;/div&gt;&lt;/article&gt;\n",
       "\t\t\t&lt;/div&gt;\n",
       "\t\t&lt;/div&gt;\n",
       "\t&lt;/body&gt;\n",
       "&lt;/html&gt;\"\n",
       "\tframeborder=\"0\"\n",
       "\tallowfullscreen\n",
       "></iframe>\n",
       "<script>\n",
       "\tvar f = document.getElementById(\"vectorian-iframe-1614612249831673000\");\n",
       "\tf.onload = function() {\n",
       "\t\tf.height = f.contentWindow.document.body.scrollHeight + \"px\";\n",
       "\t};\n",
       "</script>\n",
       "\t\t"
      ],
      "text/plain": [
       "<vectorian.session.LabResult at 0x7fd4feb13430>"
      ]
     },
     "execution_count": 8,
     "metadata": {},
     "output_type": "execute_result"
    }
   ],
   "source": [
    "index.find(nlp(\"girl\"))"
   ]
  },
  {
   "cell_type": "code",
   "execution_count": 14,
   "id": "marked-television",
   "metadata": {},
   "outputs": [
    {
     "data": {
      "text/plain": [
       "{'version': '1.0',\n",
       " 'unique_id': 'William Shakespeare/All’s Well That Ends Well',\n",
       " 'origin': PosixPath('/Users/arbeit/Desktop/play.xml'),\n",
       " 'author': 'William Shakespeare',\n",
       " 'title': 'All’s Well That Ends Well',\n",
       " 'speakers': {1: 'Countess of Roussillon',\n",
       "  2: 'Bertram, Count of Roussillon',\n",
       "  3: 'Lafew',\n",
       "  4: 'Helena',\n",
       "  5: 'Parolles',\n",
       "  6: 'Countess’s Page',\n",
       "  7: 'King of France',\n",
       "  8: 'First French Lord Dumaine',\n",
       "  9: 'Second French Lord Dumaine',\n",
       "  10: 'Rinaldo',\n",
       "  11: 'Lavatch',\n",
       "  12: 'Both French Lords',\n",
       "  13: 'All French Lords',\n",
       "  14: 'First French Lord',\n",
       "  15: 'Second French Lord',\n",
       "  16: 'Fourth French Lord',\n",
       "  17: 'Duke of Florence',\n",
       "  18: 'An Old Widow of Florence',\n",
       "  19: 'Diana',\n",
       "  20: 'Mariana',\n",
       "  21: 'Both Mariana and Widow',\n",
       "  22: 'First Soldier as Interpreter',\n",
       "  23: 'Second Soldier',\n",
       "  24: 'Messenger',\n",
       "  25: 'Gentleman'}}"
      ]
     },
     "execution_count": 14,
     "metadata": {},
     "output_type": "execute_result"
    }
   ],
   "source": [
    "doc._json[\"metadata\"]"
   ]
  },
  {
   "cell_type": "code",
   "execution_count": null,
   "id": "understanding-scottish",
   "metadata": {},
   "outputs": [],
   "source": []
  },
  {
   "cell_type": "code",
   "execution_count": null,
   "id": "informed-stroke",
   "metadata": {},
   "outputs": [],
   "source": []
  }
 ],
 "metadata": {
  "kernelspec": {
   "display_name": "Python 3",
   "language": "python",
   "name": "python3"
  },
  "language_info": {
   "codemirror_mode": {
    "name": "ipython",
    "version": 3
   },
   "file_extension": ".py",
   "mimetype": "text/x-python",
   "name": "python",
   "nbconvert_exporter": "python",
   "pygments_lexer": "ipython3",
   "version": "3.8.5"
  }
 },
 "nbformat": 4,
 "nbformat_minor": 5
}

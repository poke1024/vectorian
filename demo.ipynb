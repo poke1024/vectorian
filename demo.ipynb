{
 "cells": [
  {
   "cell_type": "code",
   "execution_count": 1,
   "id": "exclusive-teacher",
   "metadata": {},
   "outputs": [],
   "source": [
    "from pathlib import Path\n",
    "\n",
    "import os\n",
    "import sys\n",
    "\n",
    "current_path = Path(os.getcwd())\n",
    "sys.path.append(str(current_path))"
   ]
  },
  {
   "cell_type": "code",
   "execution_count": 2,
   "id": "existing-baghdad",
   "metadata": {},
   "outputs": [
    {
     "name": "stdout",
     "output_type": "stream",
     "text": [
      "Matching checksum for /Users/arbeit/Projects/vectorian-2021/vectorian/core/cpp/core.cpp --> not compiling\n"
     ]
    }
   ],
   "source": [
    "import vectorian\n",
    "vectorian.compile()"
   ]
  },
  {
   "cell_type": "code",
   "execution_count": 3,
   "id": "relevant-riding",
   "metadata": {},
   "outputs": [],
   "source": [
    "import spacy\n",
    "nlp = spacy.load(\"en_core_web_sm\")"
   ]
  },
  {
   "cell_type": "code",
   "execution_count": 4,
   "id": "political-transfer",
   "metadata": {},
   "outputs": [],
   "source": [
    "import vectorian\n",
    "from vectorian.embeddings import FastText\n",
    "\n",
    "fasttext = FastText(\"en\")"
   ]
  },
  {
   "cell_type": "code",
   "execution_count": 10,
   "id": "mighty-coffee",
   "metadata": {},
   "outputs": [
    {
     "name": "stderr",
     "output_type": "stream",
     "text": [
      "100%|██████████| 1/1 [00:00<00:00, 94.26it/s]\n"
     ]
    }
   ],
   "source": [
    "from vectorian.importers import StringImporter\n",
    "from vectorian.session import LabSession\n",
    "\n",
    "im = StringImporter(nlp)\n",
    "doc = im(\"Hey, ye want to talk like a pirate, eh?\")\n",
    "\n",
    "session = LabSession(\n",
    "    [doc],\n",
    "    static_embeddings=[fasttext])\n",
    "\n",
    "index = session.index_for_metric()"
   ]
  },
  {
   "cell_type": "code",
   "execution_count": 11,
   "id": "asian-malpractice",
   "metadata": {},
   "outputs": [
    {
     "data": {
      "application/vnd.jupyter.widget-view+json": {
       "model_id": "",
       "version_major": 2,
       "version_minor": 0
      },
      "text/plain": [
       "FloatProgress(value=0.0, layout=Layout(width='100%'), max=1.0)"
      ]
     },
     "metadata": {},
     "output_type": "display_data"
    },
    {
     "data": {
      "text/html": [
       "\n",
       "\t\t        <iframe\n",
       "\t\t        \tid=\"vectorian-iframe-1614266013404929000\"\n",
       "\t\t            width=\"100%\"\n",
       "\t\t            height=\"100%\"\n",
       "\t\t            srcdoc=\"&lt;!DOCTYPE html&gt;\n",
       "&lt;html&gt;\n",
       "\t&lt;head&gt;\n",
       "\t\t&lt;meta charset=&quot;utf-8&quot;&gt;\n",
       "\t\t&lt;meta name=&quot;viewport&quot; content=&quot;width=device-width, initial-scale=1&quot;&gt;\n",
       "\t\t&lt;title&gt;Vectorian&lt;/title&gt;\n",
       "\t\t&lt;link rel=&quot;stylesheet&quot; href=&quot;https://cdn.jsdelivr.net/npm/bulma@0.9.1/css/bulma.min.css&quot;&gt;\n",
       "\t&lt;/head&gt;\n",
       "\t&lt;body&gt;\n",
       "\t\t&lt;div class=&quot;container&quot; height=&quot;100%&quot;&gt;\n",
       "\t\t\t&lt;div class=&quot;section&quot;&gt;\n",
       "&lt;!DOCTYPE html&gt;&lt;article class=&quot;media&quot;&gt;&lt;div class=&quot;media-left&quot;&gt;&lt;p class=&quot;image is-64x64&quot;&gt;&lt;span class=&quot;buttons&quot;&gt;&lt;span class=&quot;has-text-weight-bold&quot;&gt;60.4%&lt;/span&gt;&lt;br /&gt;&lt;div&gt;&lt;/div&gt;&lt;/span&gt;&lt;/p&gt;&lt;/div&gt;&lt;div class=&quot;media-content&quot;&gt;&lt;span style=&quot;font-variant: small-caps;&quot;&gt;&lt;/span&gt;&lt;div class=&quot;is-pulled-right&quot;&gt;&lt;small&gt;, &lt;/small&gt;&lt;small class=&quot;is-italic&quot;&gt;, &lt;/small&gt;&lt;small&gt;par. 0&lt;/small&gt;&lt;/div&gt;&lt;div&gt;&lt;br /&gt;&lt;br /&gt;&lt;span&gt;&lt;span class=&quot;has-text-grey-light&quot;&gt;Hey, ye want to &lt;/span&gt; &lt;span&gt;&lt;span style=&quot;display:inline-table;&quot;&gt;&lt;span style=&quot;display:table-row;&quot;&gt;&lt;span style=&quot;display:table-cell;&quot;&gt;&lt;span class=&quot;has-text-black has-text-weight-bold&quot;&gt;talk&lt;/span&gt;&lt;/span&gt; &lt;span style=&quot;display:table-cell;&quot;&gt;&lt;span class=&quot;tag is-light&quot;&gt;speak&lt;/span&gt;&lt;/span&gt; &lt;span style=&quot;display:table-cell; opacity:1.0;&quot;&gt;&lt;span class=&quot;tag is-warning&quot;&gt;60%&lt;/span&gt;&lt;/span&gt;&lt;/span&gt;&lt;/span&gt;&lt;/span&gt; &lt;span class=&quot;has-text-grey-light&quot;&gt;like a pirate, eh&lt;/span&gt;&lt;/span&gt;&lt;/div&gt;&lt;/div&gt;&lt;/article&gt;\n",
       "\t\t\t&lt;/div&gt;\n",
       "\t\t&lt;/div&gt;\n",
       "\t&lt;/body&gt;\n",
       "&lt;/html&gt;\"\n",
       "\t\t            frameborder=\"0\"\n",
       "\t\t            allowfullscreen\n",
       "\t\t        ></iframe>\n",
       "\t\t        <script>\n",
       "\t\t        \tvar f = document.getElementById(\"vectorian-iframe-1614266013404929000\");\n",
       "\t\t        \tf.onload = function() {\n",
       "\t\t\t        \tf.height = f.contentWindow.document.body.scrollHeight + \"px\";\n",
       "\t\t\t        };\n",
       "\t\t        </script>\n",
       "\t\t"
      ],
      "text/plain": [
       "<vectorian.session.LabResult at 0x7fb4b33ad3d0>"
      ]
     },
     "execution_count": 11,
     "metadata": {},
     "output_type": "execute_result"
    }
   ],
   "source": [
    "query = nlp(\"speak\")\n",
    "r = index.find(query, n=1)\n",
    "r"
   ]
  },
  {
   "cell_type": "code",
   "execution_count": 7,
   "id": "agreed-detection",
   "metadata": {},
   "outputs": [
    {
     "name": "stderr",
     "output_type": "stream",
     "text": [
      "A Child's Dream of a Star: 100%|██████████| 58/58 [00:00<00:00, 80.42it/s]\n"
     ]
    }
   ],
   "source": [
    "from vectorian.importers import NovelImporter\n",
    "from vectorian.session import LabSession\n",
    "\n",
    "im = NovelImporter(nlp)\n",
    "doc = im(\"/Users/arbeit/A Child's Dream of a Star.txt\")\n",
    "\n",
    "session = LabSession(\n",
    "    [doc],\n",
    "    [fasttext])\n",
    "\n",
    "index = session.index_for_metric()"
   ]
  },
  {
   "cell_type": "code",
   "execution_count": 8,
   "id": "facial-skill",
   "metadata": {},
   "outputs": [
    {
     "data": {
      "application/vnd.jupyter.widget-view+json": {
       "model_id": "",
       "version_major": 2,
       "version_minor": 0
      },
      "text/plain": [
       "FloatProgress(value=0.0, layout=Layout(width='100%'), max=1.0)"
      ]
     },
     "metadata": {},
     "output_type": "display_data"
    }
   ],
   "source": [
    "query = nlp(\"large\")\n",
    "r = index.find(query, n=3)  # options={'pos_filter': [\"NOUN\"]}"
   ]
  },
  {
   "cell_type": "code",
   "execution_count": null,
   "id": "electric-quality",
   "metadata": {},
   "outputs": [],
   "source": [
    "r.duration"
   ]
  },
  {
   "cell_type": "code",
   "execution_count": null,
   "id": "smaller-invasion",
   "metadata": {},
   "outputs": [],
   "source": [
    "r"
   ]
  },
  {
   "cell_type": "code",
   "execution_count": 9,
   "id": "changed-collection",
   "metadata": {},
   "outputs": [
    {
     "data": {
      "text/html": [
       "\n",
       "\t\t        <iframe\n",
       "\t\t        \tid=\"vectorian-iframe-1614170745033363000\"\n",
       "\t\t            width=\"100%\"\n",
       "\t\t            height=\"100%\"\n",
       "\t\t            srcdoc=\"&lt;!DOCTYPE html&gt;\n",
       "&lt;html&gt;\n",
       "\t&lt;head&gt;\n",
       "\t\t&lt;meta charset=&quot;utf-8&quot;&gt;\n",
       "\t\t&lt;meta name=&quot;viewport&quot; content=&quot;width=device-width, initial-scale=1&quot;&gt;\n",
       "\t\t&lt;title&gt;Vectorian&lt;/title&gt;\n",
       "\t\t&lt;link rel=&quot;stylesheet&quot; href=&quot;https://cdn.jsdelivr.net/npm/bulma@0.9.1/css/bulma.min.css&quot;&gt;\n",
       "\t&lt;/head&gt;\n",
       "\t&lt;body&gt;\n",
       "\t\t&lt;div class=&quot;container&quot; height=&quot;100%&quot;&gt;\n",
       "\t\t\t&lt;div class=&quot;section&quot;&gt;\n",
       "&lt;!DOCTYPE html&gt;&lt;article class=&quot;media&quot;&gt;&lt;div class=&quot;media-left&quot;&gt;&lt;p class=&quot;image is-64x64&quot;&gt;&lt;span class=&quot;buttons&quot;&gt;&lt;span class=&quot;has-text-weight-bold&quot;&gt;70.9%&lt;/span&gt;&lt;br /&gt;&lt;div&gt;&lt;/div&gt;&lt;/span&gt;&lt;/p&gt;&lt;/div&gt;&lt;div class=&quot;media-content&quot;&gt;&lt;span style=&quot;font-variant: small-caps;&quot;&gt;&lt;/span&gt;&lt;div class=&quot;is-pulled-right&quot;&gt;&lt;small&gt;Anonymous, &lt;/small&gt;&lt;small class=&quot;is-italic&quot;&gt;A Child&#x27;s Dream of a Star, &lt;/small&gt;&lt;small&gt;par. 29&lt;/small&gt;&lt;/div&gt;&lt;div&gt;&lt;br /&gt;&lt;br /&gt;&lt;span&gt;&lt;span class=&quot;has-text-grey-light&quot;&gt;that he never yet had spoken word, he stretched his &lt;/span&gt; &lt;span&gt;&lt;span style=&quot;display:inline-table;&quot;&gt;&lt;span style=&quot;display:table-row;&quot;&gt;&lt;span style=&quot;display:table-cell;&quot;&gt;&lt;span class=&quot;has-text-black has-text-weight-bold&quot;&gt;tiny&lt;/span&gt;&lt;/span&gt; &lt;span style=&quot;display:table-cell;&quot;&gt;&lt;span class=&quot;tag is-light&quot;&gt;large&lt;/span&gt;&lt;/span&gt; &lt;span style=&quot;display:table-cell; opacity:1.0;&quot;&gt;&lt;span class=&quot;tag is-warning&quot;&gt;70%&lt;/span&gt;&lt;/span&gt;&lt;/span&gt;&lt;span style=&quot;display:table-row;&quot;&gt;&lt;span style=&quot;display:table-cell; padding-left: 0.2em; padding-right: 0.2em;&quot; class=&quot;is-size-7 has-text-centered has-text-black&quot;&gt;ADJ&lt;/span&gt;&lt;span style=&quot;display:table-cell; padding-left: 0.2em; padding-right: 0.2em;&quot; class=&quot;is-size-7 has-text-centered&quot;&gt;ADJ&lt;/span&gt;&lt;span style=&quot;display:table-cell; padding-left: 0.2em; padding-right: 0.2em;&quot; class=&quot;is-size-7 has-text-centered has-text-grey-light&quot;&gt;fasttext-en&lt;/span&gt;&lt;/span&gt;&lt;/span&gt;&lt;/span&gt; &lt;span class=&quot;has-text-grey-light&quot;&gt;form out on his bed, and died.\n",
       "\n",
       "Again the &lt;/span&gt;&lt;/span&gt;&lt;/div&gt;&lt;/div&gt;&lt;/article&gt;&lt;article class=&quot;media&quot;&gt;&lt;div class=&quot;media-left&quot;&gt;&lt;p class=&quot;image is-64x64&quot;&gt;&lt;span class=&quot;buttons&quot;&gt;&lt;span class=&quot;has-text-weight-bold&quot;&gt;58.1%&lt;/span&gt;&lt;br /&gt;&lt;div&gt;&lt;/div&gt;&lt;/span&gt;&lt;/p&gt;&lt;/div&gt;&lt;div class=&quot;media-content&quot;&gt;&lt;span style=&quot;font-variant: small-caps;&quot;&gt;&lt;/span&gt;&lt;div class=&quot;is-pulled-right&quot;&gt;&lt;small&gt;Anonymous, &lt;/small&gt;&lt;small class=&quot;is-italic&quot;&gt;A Child&#x27;s Dream of a Star, &lt;/small&gt;&lt;small&gt;par. 20&lt;/small&gt;&lt;/div&gt;&lt;div&gt;&lt;br /&gt;&lt;br /&gt;&lt;span&gt;&lt;span class=&quot;has-text-grey-light&quot;&gt;his bed, he wept for joy.\n",
       "\n",
       "But there were &lt;/span&gt; &lt;span&gt;&lt;span style=&quot;display:inline-table;&quot;&gt;&lt;span style=&quot;display:table-row;&quot;&gt;&lt;span style=&quot;display:table-cell;&quot;&gt;&lt;span class=&quot;has-text-black has-text-weight-bold&quot;&gt;many&lt;/span&gt;&lt;/span&gt; &lt;span style=&quot;display:table-cell;&quot;&gt;&lt;span class=&quot;tag is-light&quot;&gt;large&lt;/span&gt;&lt;/span&gt; &lt;span style=&quot;display:table-cell; opacity:1.0;&quot;&gt;&lt;span class=&quot;tag is-warning&quot;&gt;58%&lt;/span&gt;&lt;/span&gt;&lt;/span&gt;&lt;span style=&quot;display:table-row;&quot;&gt;&lt;span style=&quot;display:table-cell; padding-left: 0.2em; padding-right: 0.2em;&quot; class=&quot;is-size-7 has-text-centered has-text-black&quot;&gt;ADJ&lt;/span&gt;&lt;span style=&quot;display:table-cell; padding-left: 0.2em; padding-right: 0.2em;&quot; class=&quot;is-size-7 has-text-centered&quot;&gt;ADJ&lt;/span&gt;&lt;span style=&quot;display:table-cell; padding-left: 0.2em; padding-right: 0.2em;&quot; class=&quot;is-size-7 has-text-centered has-text-grey-light&quot;&gt;fasttext-en&lt;/span&gt;&lt;/span&gt;&lt;/span&gt;&lt;/span&gt; &lt;span class=&quot;has-text-grey-light&quot;&gt;angels who did not go with them, and among them &lt;/span&gt;&lt;/span&gt;&lt;/div&gt;&lt;/div&gt;&lt;/article&gt;&lt;article class=&quot;media&quot;&gt;&lt;div class=&quot;media-left&quot;&gt;&lt;p class=&quot;image is-64x64&quot;&gt;&lt;span class=&quot;buttons&quot;&gt;&lt;span class=&quot;has-text-weight-bold&quot;&gt;57.6%&lt;/span&gt;&lt;br /&gt;&lt;div&gt;&lt;/div&gt;&lt;/span&gt;&lt;/p&gt;&lt;/div&gt;&lt;div class=&quot;media-content&quot;&gt;&lt;span style=&quot;font-variant: small-caps;&quot;&gt;&lt;/span&gt;&lt;div class=&quot;is-pulled-right&quot;&gt;&lt;small&gt;Anonymous, &lt;/small&gt;&lt;small class=&quot;is-italic&quot;&gt;A Child&#x27;s Dream of a Star, &lt;/small&gt;&lt;small&gt;par. 12&lt;/small&gt;&lt;/div&gt;&lt;div&gt;&lt;br /&gt;&lt;br /&gt;&lt;span&gt;&lt;span class=&quot;has-text-grey-light&quot;&gt;\n",
       "\n",
       "\n",
       "\n",
       "\n",
       "\n",
       "But while she was still &lt;/span&gt; &lt;span&gt;&lt;span style=&quot;display:inline-table;&quot;&gt;&lt;span style=&quot;display:table-row;&quot;&gt;&lt;span style=&quot;display:table-cell;&quot;&gt;&lt;span class=&quot;has-text-black has-text-weight-bold&quot;&gt;very&lt;/span&gt;&lt;/span&gt; &lt;span style=&quot;display:table-cell;&quot;&gt;&lt;span class=&quot;tag is-light&quot;&gt;large&lt;/span&gt;&lt;/span&gt; &lt;span style=&quot;display:table-cell; opacity:1.0;&quot;&gt;&lt;span class=&quot;tag is-warning&quot;&gt;57%&lt;/span&gt;&lt;/span&gt;&lt;/span&gt;&lt;span style=&quot;display:table-row;&quot;&gt;&lt;span style=&quot;display:table-cell; padding-left: 0.2em; padding-right: 0.2em;&quot; class=&quot;is-size-7 has-text-centered has-text-danger&quot;&gt;ADV&lt;/span&gt;&lt;span style=&quot;display:table-cell; padding-left: 0.2em; padding-right: 0.2em;&quot; class=&quot;is-size-7 has-text-centered&quot;&gt;ADJ&lt;/span&gt;&lt;span style=&quot;display:table-cell; padding-left: 0.2em; padding-right: 0.2em;&quot; class=&quot;is-size-7 has-text-centered has-text-grey-light&quot;&gt;fasttext-en&lt;/span&gt;&lt;/span&gt;&lt;/span&gt;&lt;/span&gt; &lt;span class=&quot;has-text-grey-light&quot;&gt;young, O, very, very young, the sister drooped, and came &lt;/span&gt;&lt;/span&gt;&lt;/div&gt;&lt;/div&gt;&lt;/article&gt;\n",
       "\t\t\t&lt;/div&gt;\n",
       "\t\t&lt;/div&gt;\n",
       "\t&lt;/body&gt;\n",
       "&lt;/html&gt;\"\n",
       "\t\t            frameborder=\"0\"\n",
       "\t\t            allowfullscreen\n",
       "\t\t        ></iframe>\n",
       "\t\t        <script>\n",
       "\t\t        \tvar f = document.getElementById(\"vectorian-iframe-1614170745033363000\");\n",
       "\t\t        \tf.onload = function() {\n",
       "\t\t\t        \tf.height = f.contentWindow.document.body.scrollHeight + \"px\";\n",
       "\t\t\t        };\n",
       "\t\t        </script>\n",
       "\t\t"
      ],
      "text/plain": [
       "<vectorian.session.LabResult at 0x7fde92d16fa0>"
      ]
     },
     "execution_count": 9,
     "metadata": {},
     "output_type": "execute_result"
    }
   ],
   "source": [
    "r.annotate()"
   ]
  },
  {
   "cell_type": "code",
   "execution_count": 11,
   "id": "optional-benjamin",
   "metadata": {},
   "outputs": [
    {
     "data": {
      "application/vnd.jupyter.widget-view+json": {
       "model_id": "",
       "version_major": 2,
       "version_minor": 0
      },
      "text/plain": [
       "FloatProgress(value=0.0, layout=Layout(width='100%'), max=1.0)"
      ]
     },
     "metadata": {},
     "output_type": "display_data"
    }
   ],
   "source": [
    "from vectorian.metrics import CosineMetric, WordSimilarityMetric, AlignmentSentenceMetric\n",
    "from vectorian.alignment import WordMoversDistance\n",
    "\n",
    "index = session.index_for_metric(AlignmentSentenceMetric(\n",
    "    word_metric=WordSimilarityMetric(fasttext, CosineMetric()),\n",
    "    alignment=WordMoversDistance()))\n",
    "\n",
    "#query = nlp(\"the great star\")\n",
    "query = nlp(\"making america great again\")\n",
    "r = index.find(query, n=5, min_score=0.1)"
   ]
  },
  {
   "cell_type": "code",
   "execution_count": null,
   "id": "formed-partnership",
   "metadata": {},
   "outputs": [],
   "source": []
  },
  {
   "cell_type": "code",
   "execution_count": 12,
   "id": "resistant-collapse",
   "metadata": {},
   "outputs": [
    {
     "data": {
      "text/html": [
       "\n",
       "\t\t        <iframe\n",
       "\t\t        \tid=\"vectorian-iframe-1614253554438343000\"\n",
       "\t\t            width=\"100%\"\n",
       "\t\t            height=\"100%\"\n",
       "\t\t            srcdoc=\"&lt;!DOCTYPE html&gt;\n",
       "&lt;html&gt;\n",
       "\t&lt;head&gt;\n",
       "\t\t&lt;meta charset=&quot;utf-8&quot;&gt;\n",
       "\t\t&lt;meta name=&quot;viewport&quot; content=&quot;width=device-width, initial-scale=1&quot;&gt;\n",
       "\t\t&lt;title&gt;Vectorian&lt;/title&gt;\n",
       "\t\t&lt;link rel=&quot;stylesheet&quot; href=&quot;https://cdn.jsdelivr.net/npm/bulma@0.9.1/css/bulma.min.css&quot;&gt;\n",
       "\t&lt;/head&gt;\n",
       "\t&lt;body&gt;\n",
       "\t\t&lt;div class=&quot;container&quot; height=&quot;100%&quot;&gt;\n",
       "\t\t\t&lt;div class=&quot;section&quot;&gt;\n",
       "&lt;!DOCTYPE html&gt;&lt;article class=&quot;media&quot;&gt;&lt;div class=&quot;media-left&quot;&gt;&lt;p class=&quot;image is-64x64&quot;&gt;&lt;span class=&quot;buttons&quot;&gt;&lt;span class=&quot;has-text-weight-bold&quot;&gt;91.7%&lt;/span&gt;&lt;br /&gt;&lt;div&gt;&lt;/div&gt;&lt;/span&gt;&lt;/p&gt;&lt;/div&gt;&lt;div class=&quot;media-content&quot;&gt;&lt;span style=&quot;font-variant: small-caps;&quot;&gt;&lt;/span&gt;&lt;div class=&quot;is-pulled-right&quot;&gt;&lt;small&gt;Anonymous, &lt;/small&gt;&lt;small class=&quot;is-italic&quot;&gt;A Child&#x27;s Dream of a Star, &lt;/small&gt;&lt;small&gt;par. 43&lt;/small&gt;&lt;/div&gt;&lt;div&gt;&lt;br /&gt;&lt;br /&gt;&lt;span&gt;&lt;span class=&quot;has-text-grey-light&quot;&gt;He grew to be a man, whose hair was &lt;/span&gt; &lt;span&gt;&lt;span style=&quot;display:inline-table;&quot;&gt;&lt;span style=&quot;display:table-row;&quot;&gt;&lt;span style=&quot;display:table-cell;&quot;&gt;&lt;span class=&quot;has-text-black has-text-weight-bold&quot;&gt;turning&lt;/span&gt;&lt;/span&gt; &lt;span style=&quot;display:table-cell;&quot;&gt;&lt;span class=&quot;tag is-light&quot;&gt;making&lt;/span&gt;&lt;/span&gt; &lt;span style=&quot;display:table-cell; opacity:1.0;&quot;&gt;&lt;span class=&quot;tag is-warning&quot;&gt;66%&lt;/span&gt;&lt;/span&gt;&lt;/span&gt;&lt;/span&gt;&lt;/span&gt; &lt;span class=&quot;has-text-grey-light&quot;&gt;gray; and he was sitting in his chair by the &lt;/span&gt; &lt;span&gt;&lt;span style=&quot;display:inline-table;&quot;&gt;&lt;span style=&quot;display:table-row;&quot;&gt;&lt;span style=&quot;display:table-cell;&quot;&gt;&lt;span class=&quot;has-text-black has-text-weight-bold&quot;&gt;fireside&lt;/span&gt;&lt;/span&gt; &lt;span style=&quot;display:table-cell;&quot;&gt;&lt;span class=&quot;tag is-light&quot;&gt;america&lt;/span&gt;&lt;/span&gt; &lt;span style=&quot;display:table-cell; opacity:1.0;&quot;&gt;&lt;span class=&quot;tag is-warning&quot;&gt;45%&lt;/span&gt;&lt;/span&gt;&lt;/span&gt;&lt;/span&gt;&lt;/span&gt; &lt;span class=&quot;has-text-grey-light&quot;&gt;heavy with grief, and with his face bedewed with tears, when the star opened &lt;/span&gt; &lt;span&gt;&lt;span style=&quot;display:inline-table;&quot;&gt;&lt;span style=&quot;display:table-row;&quot;&gt;&lt;span style=&quot;display:table-cell;&quot;&gt;&lt;span class=&quot;has-text-black has-text-weight-bold&quot;&gt;once&lt;/span&gt;&lt;/span&gt; &lt;span style=&quot;display:table-cell;&quot;&gt;&lt;span class=&quot;tag is-light&quot;&gt;great&lt;/span&gt;&lt;/span&gt; &lt;span style=&quot;display:table-cell; opacity:1.0;&quot;&gt;&lt;span class=&quot;tag is-warning&quot;&gt;55%&lt;/span&gt;&lt;/span&gt;&lt;/span&gt;&lt;/span&gt;&lt;/span&gt; &lt;span&gt;&lt;span style=&quot;display:inline-table;&quot;&gt;&lt;span style=&quot;display:table-row;&quot;&gt;&lt;span style=&quot;display:table-cell;&quot;&gt;&lt;span class=&quot;has-text-black has-text-weight-bold&quot;&gt;again&lt;/span&gt;&lt;/span&gt; &lt;span style=&quot;display:table-cell;&quot;&gt;&lt;span class=&quot;tag is-light&quot;&gt;again&lt;/span&gt;&lt;/span&gt; &lt;span style=&quot;display:table-cell; opacity:1.0;&quot;&gt;&lt;span class=&quot;tag is-success&quot;&gt;100%&lt;/span&gt;&lt;/span&gt;&lt;/span&gt;&lt;/span&gt;&lt;/span&gt; &lt;span class=&quot;has-text-grey-light&quot;&gt;Said his sister’s angel to the leader, “Is &lt;/span&gt;&lt;/span&gt;&lt;/div&gt;&lt;/div&gt;&lt;/article&gt;&lt;article class=&quot;media&quot;&gt;&lt;div class=&quot;media-left&quot;&gt;&lt;p class=&quot;image is-64x64&quot;&gt;&lt;span class=&quot;buttons&quot;&gt;&lt;span class=&quot;has-text-weight-bold&quot;&gt;91.3%&lt;/span&gt;&lt;br /&gt;&lt;div&gt;&lt;/div&gt;&lt;/span&gt;&lt;/p&gt;&lt;/div&gt;&lt;div class=&quot;media-content&quot;&gt;&lt;span style=&quot;font-variant: small-caps;&quot;&gt;&lt;/span&gt;&lt;div class=&quot;is-pulled-right&quot;&gt;&lt;small&gt;Anonymous, &lt;/small&gt;&lt;small class=&quot;is-italic&quot;&gt;A Child&#x27;s Dream of a Star, &lt;/small&gt;&lt;small&gt;par. 5&lt;/small&gt;&lt;/div&gt;&lt;div&gt;&lt;br /&gt;&lt;br /&gt;&lt;span&gt;&lt;span&gt;&lt;span style=&quot;display:inline-table;&quot;&gt;&lt;span style=&quot;display:table-row;&quot;&gt;&lt;span style=&quot;display:table-cell;&quot;&gt;&lt;span class=&quot;has-text-black has-text-weight-bold&quot;&gt;once&lt;/span&gt;&lt;/span&gt; &lt;span style=&quot;display:table-cell;&quot;&gt;&lt;span class=&quot;tag is-light&quot;&gt;again&lt;/span&gt;&lt;/span&gt; &lt;span style=&quot;display:table-cell; opacity:1.0;&quot;&gt;&lt;span class=&quot;tag is-warning&quot;&gt;72%&lt;/span&gt;&lt;/span&gt;&lt;/span&gt;&lt;/span&gt;&lt;/span&gt; &lt;span class=&quot;has-text-grey-light&quot;&gt;a child, and he strolled about a &lt;/span&gt; &lt;span&gt;&lt;span style=&quot;display:inline-table;&quot;&gt;&lt;span style=&quot;display:table-row;&quot;&gt;&lt;span style=&quot;display:table-cell;&quot;&gt;&lt;span class=&quot;has-text-black has-text-weight-bold&quot;&gt;good&lt;/span&gt;&lt;/span&gt; &lt;span style=&quot;display:table-cell;&quot;&gt;&lt;span class=&quot;tag is-light&quot;&gt;great&lt;/span&gt;&lt;/span&gt; &lt;span style=&quot;display:table-cell; opacity:1.0;&quot;&gt;&lt;span class=&quot;tag is-success&quot;&gt;83%&lt;/span&gt;&lt;/span&gt;&lt;/span&gt;&lt;/span&gt;&lt;/span&gt; &lt;span class=&quot;has-text-grey-light&quot;&gt;deal, and thought of &lt;/span&gt; &lt;span&gt;&lt;span style=&quot;display:inline-table;&quot;&gt;&lt;span style=&quot;display:table-row;&quot;&gt;&lt;span style=&quot;display:table-cell;&quot;&gt;&lt;span class=&quot;has-text-black has-text-weight-bold&quot;&gt;a&lt;/span&gt;&lt;/span&gt; &lt;span style=&quot;display:table-cell;&quot;&gt;&lt;span class=&quot;tag is-light&quot;&gt;making&lt;/span&gt;&lt;/span&gt; &lt;span style=&quot;display:table-cell; opacity:1.0;&quot;&gt;&lt;span class=&quot;tag is-warning&quot;&gt;60%&lt;/span&gt;&lt;/span&gt;&lt;/span&gt;&lt;/span&gt;&lt;/span&gt; &lt;span class=&quot;has-text-grey-light&quot;&gt;number of &lt;/span&gt; &lt;span&gt;&lt;span style=&quot;display:inline-table;&quot;&gt;&lt;span style=&quot;display:table-row;&quot;&gt;&lt;span style=&quot;display:table-cell;&quot;&gt;&lt;span class=&quot;has-text-black has-text-weight-bold&quot;&gt;things&lt;/span&gt;&lt;/span&gt; &lt;span style=&quot;display:table-cell;&quot;&gt;&lt;span class=&quot;tag is-light&quot;&gt;america&lt;/span&gt;&lt;/span&gt; &lt;span style=&quot;display:table-cell; opacity:1.0;&quot;&gt;&lt;span class=&quot;tag is-warning&quot;&gt;43%&lt;/span&gt;&lt;/span&gt;&lt;/span&gt;&lt;/span&gt;&lt;/span&gt; &lt;span class=&quot;has-text-grey-light&quot;&gt;&lt;/span&gt;&lt;/span&gt;&lt;/div&gt;&lt;/div&gt;&lt;/article&gt;&lt;article class=&quot;media&quot;&gt;&lt;div class=&quot;media-left&quot;&gt;&lt;p class=&quot;image is-64x64&quot;&gt;&lt;span class=&quot;buttons&quot;&gt;&lt;span class=&quot;has-text-weight-bold&quot;&gt;91.1%&lt;/span&gt;&lt;br /&gt;&lt;div&gt;&lt;/div&gt;&lt;/span&gt;&lt;/p&gt;&lt;/div&gt;&lt;div class=&quot;media-content&quot;&gt;&lt;span style=&quot;font-variant: small-caps;&quot;&gt;&lt;/span&gt;&lt;div class=&quot;is-pulled-right&quot;&gt;&lt;small&gt;Anonymous, &lt;/small&gt;&lt;small class=&quot;is-italic&quot;&gt;A Child&#x27;s Dream of a Star, &lt;/small&gt;&lt;small&gt;par. 37&lt;/small&gt;&lt;/div&gt;&lt;div&gt;&lt;br /&gt;&lt;br /&gt;&lt;span&gt;&lt;span class=&quot;has-text-grey-light&quot;&gt;\n",
       "\n",
       "&lt;/span&gt; &lt;span&gt;&lt;span style=&quot;display:inline-table;&quot;&gt;&lt;span style=&quot;display:table-row;&quot;&gt;&lt;span style=&quot;display:table-cell;&quot;&gt;&lt;span class=&quot;has-text-black has-text-weight-bold&quot;&gt;Again&lt;/span&gt;&lt;/span&gt; &lt;span style=&quot;display:table-cell;&quot;&gt;&lt;span class=&quot;tag is-light&quot;&gt;again&lt;/span&gt;&lt;/span&gt; &lt;span style=&quot;display:table-cell; opacity:1.0;&quot;&gt;&lt;span class=&quot;tag is-success&quot;&gt;100%&lt;/span&gt;&lt;/span&gt;&lt;/span&gt;&lt;/span&gt;&lt;/span&gt; &lt;span class=&quot;has-text-grey-light&quot;&gt;at night he saw &lt;/span&gt; &lt;span&gt;&lt;span style=&quot;display:inline-table;&quot;&gt;&lt;span style=&quot;display:table-row;&quot;&gt;&lt;span style=&quot;display:table-cell;&quot;&gt;&lt;span class=&quot;has-text-black has-text-weight-bold&quot;&gt;the&lt;/span&gt;&lt;/span&gt; &lt;span style=&quot;display:table-cell;&quot;&gt;&lt;span class=&quot;tag is-light&quot;&gt;making&lt;/span&gt;&lt;/span&gt; &lt;span style=&quot;display:table-cell; opacity:1.0;&quot;&gt;&lt;span class=&quot;tag is-warning&quot;&gt;58%&lt;/span&gt;&lt;/span&gt;&lt;/span&gt;&lt;/span&gt;&lt;/span&gt; &lt;span class=&quot;has-text-grey-light&quot;&gt;star, and all &lt;/span&gt; &lt;span&gt;&lt;span style=&quot;display:inline-table;&quot;&gt;&lt;span style=&quot;display:table-row;&quot;&gt;&lt;span style=&quot;display:table-cell;&quot;&gt;&lt;span class=&quot;has-text-black has-text-weight-bold&quot;&gt;that&lt;/span&gt;&lt;/span&gt; &lt;span style=&quot;display:table-cell;&quot;&gt;&lt;span class=&quot;tag is-light&quot;&gt;great&lt;/span&gt;&lt;/span&gt; &lt;span style=&quot;display:table-cell; opacity:1.0;&quot;&gt;&lt;span class=&quot;tag is-warning&quot;&gt;54%&lt;/span&gt;&lt;/span&gt;&lt;/span&gt;&lt;/span&gt;&lt;/span&gt; &lt;span class=&quot;has-text-grey-light&quot;&gt;former &lt;/span&gt; &lt;span&gt;&lt;span style=&quot;display:inline-table;&quot;&gt;&lt;span style=&quot;display:table-row;&quot;&gt;&lt;span style=&quot;display:table-cell;&quot;&gt;&lt;span class=&quot;has-text-black has-text-weight-bold&quot;&gt;company&lt;/span&gt;&lt;/span&gt; &lt;span style=&quot;display:table-cell;&quot;&gt;&lt;span class=&quot;tag is-light&quot;&gt;america&lt;/span&gt;&lt;/span&gt; &lt;span style=&quot;display:table-cell; opacity:1.0;&quot;&gt;&lt;span class=&quot;tag is-warning&quot;&gt;44%&lt;/span&gt;&lt;/span&gt;&lt;/span&gt;&lt;/span&gt;&lt;/span&gt; &lt;span class=&quot;has-text-grey-light&quot;&gt;&lt;/span&gt;&lt;/span&gt;&lt;/div&gt;&lt;/div&gt;&lt;/article&gt;&lt;article class=&quot;media&quot;&gt;&lt;div class=&quot;media-left&quot;&gt;&lt;p class=&quot;image is-64x64&quot;&gt;&lt;span class=&quot;buttons&quot;&gt;&lt;span class=&quot;has-text-weight-bold&quot;&gt;91.0%&lt;/span&gt;&lt;br /&gt;&lt;div&gt;&lt;/div&gt;&lt;/span&gt;&lt;/p&gt;&lt;/div&gt;&lt;div class=&quot;media-content&quot;&gt;&lt;span style=&quot;font-variant: small-caps;&quot;&gt;&lt;/span&gt;&lt;div class=&quot;is-pulled-right&quot;&gt;&lt;small&gt;Anonymous, &lt;/small&gt;&lt;small class=&quot;is-italic&quot;&gt;A Child&#x27;s Dream of a Star, &lt;/small&gt;&lt;small&gt;par. 30&lt;/small&gt;&lt;/div&gt;&lt;div&gt;&lt;br /&gt;&lt;br /&gt;&lt;span&gt;&lt;span&gt;&lt;span style=&quot;display:inline-table;&quot;&gt;&lt;span style=&quot;display:table-row;&quot;&gt;&lt;span style=&quot;display:table-cell;&quot;&gt;&lt;span class=&quot;has-text-black has-text-weight-bold&quot;&gt;Again&lt;/span&gt;&lt;/span&gt; &lt;span style=&quot;display:table-cell;&quot;&gt;&lt;span class=&quot;tag is-light&quot;&gt;again&lt;/span&gt;&lt;/span&gt; &lt;span style=&quot;display:table-cell; opacity:1.0;&quot;&gt;&lt;span class=&quot;tag is-success&quot;&gt;100%&lt;/span&gt;&lt;/span&gt;&lt;/span&gt;&lt;/span&gt;&lt;/span&gt; &lt;span class=&quot;has-text-grey-light&quot;&gt;the child dreamed of the opened star, and of the company of &lt;/span&gt; &lt;span&gt;&lt;span style=&quot;display:inline-table;&quot;&gt;&lt;span style=&quot;display:table-row;&quot;&gt;&lt;span style=&quot;display:table-cell;&quot;&gt;&lt;span class=&quot;has-text-black has-text-weight-bold&quot;&gt;angels&lt;/span&gt;&lt;/span&gt; &lt;span style=&quot;display:table-cell;&quot;&gt;&lt;span class=&quot;tag is-light&quot;&gt;america&lt;/span&gt;&lt;/span&gt; &lt;span style=&quot;display:table-cell; opacity:1.0;&quot;&gt;&lt;span class=&quot;tag is-warning&quot;&gt;44%&lt;/span&gt;&lt;/span&gt;&lt;/span&gt;&lt;/span&gt;&lt;/span&gt; &lt;span class=&quot;has-text-grey-light&quot;&gt;and the train of people, and the rows of angels with &lt;/span&gt; &lt;span&gt;&lt;span style=&quot;display:inline-table;&quot;&gt;&lt;span style=&quot;display:table-row;&quot;&gt;&lt;span style=&quot;display:table-cell;&quot;&gt;&lt;span class=&quot;has-text-black has-text-weight-bold&quot;&gt;their&lt;/span&gt;&lt;/span&gt; &lt;span style=&quot;display:table-cell;&quot;&gt;&lt;span class=&quot;tag is-light&quot;&gt;making&lt;/span&gt;&lt;/span&gt; &lt;span style=&quot;display:table-cell; opacity:1.0;&quot;&gt;&lt;span class=&quot;tag is-warning&quot;&gt;60%&lt;/span&gt;&lt;/span&gt;&lt;/span&gt;&lt;/span&gt;&lt;/span&gt; &lt;span class=&quot;has-text-grey-light&quot;&gt;beaming eyes &lt;/span&gt; &lt;span&gt;&lt;span style=&quot;display:inline-table;&quot;&gt;&lt;span style=&quot;display:table-row;&quot;&gt;&lt;span style=&quot;display:table-cell;&quot;&gt;&lt;span class=&quot;has-text-black has-text-weight-bold&quot;&gt;all&lt;/span&gt;&lt;/span&gt; &lt;span style=&quot;display:table-cell;&quot;&gt;&lt;span class=&quot;tag is-light&quot;&gt;great&lt;/span&gt;&lt;/span&gt; &lt;span style=&quot;display:table-cell; opacity:1.0;&quot;&gt;&lt;span class=&quot;tag is-warning&quot;&gt;50%&lt;/span&gt;&lt;/span&gt;&lt;/span&gt;&lt;/span&gt;&lt;/span&gt; &lt;span class=&quot;has-text-grey-light&quot;&gt;turned upon those people’s faces.\n",
       "\n",
       "Said his sister&lt;/span&gt;&lt;/span&gt;&lt;/div&gt;&lt;/div&gt;&lt;/article&gt;&lt;article class=&quot;media&quot;&gt;&lt;div class=&quot;media-left&quot;&gt;&lt;p class=&quot;image is-64x64&quot;&gt;&lt;span class=&quot;buttons&quot;&gt;&lt;span class=&quot;has-text-weight-bold&quot;&gt;90.9%&lt;/span&gt;&lt;br /&gt;&lt;div&gt;&lt;/div&gt;&lt;/span&gt;&lt;/p&gt;&lt;/div&gt;&lt;div class=&quot;media-content&quot;&gt;&lt;span style=&quot;font-variant: small-caps;&quot;&gt;&lt;/span&gt;&lt;div class=&quot;is-pulled-right&quot;&gt;&lt;small&gt;Anonymous, &lt;/small&gt;&lt;small class=&quot;is-italic&quot;&gt;A Child&#x27;s Dream of a Star, &lt;/small&gt;&lt;small&gt;par. 16&lt;/small&gt;&lt;/div&gt;&lt;div&gt;&lt;br /&gt;&lt;br /&gt;&lt;span&gt;&lt;span&gt;&lt;span style=&quot;display:inline-table;&quot;&gt;&lt;span style=&quot;display:table-row;&quot;&gt;&lt;span style=&quot;display:table-cell;&quot;&gt;&lt;span class=&quot;has-text-black has-text-weight-bold&quot;&gt;Now&lt;/span&gt;&lt;/span&gt; &lt;span style=&quot;display:table-cell;&quot;&gt;&lt;span class=&quot;tag is-light&quot;&gt;again&lt;/span&gt;&lt;/span&gt; &lt;span style=&quot;display:table-cell; opacity:1.0;&quot;&gt;&lt;span class=&quot;tag is-warning&quot;&gt;61%&lt;/span&gt;&lt;/span&gt;&lt;/span&gt;&lt;/span&gt;&lt;/span&gt; &lt;span class=&quot;has-text-grey-light&quot;&gt;these rays were so bright, and they seemed to &lt;/span&gt; &lt;span&gt;&lt;span style=&quot;display:inline-table;&quot;&gt;&lt;span style=&quot;display:table-row;&quot;&gt;&lt;span style=&quot;display:table-cell;&quot;&gt;&lt;span class=&quot;has-text-black has-text-weight-bold&quot;&gt;make&lt;/span&gt;&lt;/span&gt; &lt;span style=&quot;display:table-cell;&quot;&gt;&lt;span class=&quot;tag is-light&quot;&gt;making&lt;/span&gt;&lt;/span&gt; &lt;span style=&quot;display:table-cell; opacity:1.0;&quot;&gt;&lt;span class=&quot;tag is-success&quot;&gt;81%&lt;/span&gt;&lt;/span&gt;&lt;/span&gt;&lt;/span&gt;&lt;/span&gt; &lt;span class=&quot;has-text-grey-light&quot;&gt;such a shining &lt;/span&gt; &lt;span&gt;&lt;span style=&quot;display:inline-table;&quot;&gt;&lt;span style=&quot;display:table-row;&quot;&gt;&lt;span style=&quot;display:table-cell;&quot;&gt;&lt;span class=&quot;has-text-black has-text-weight-bold&quot;&gt;way&lt;/span&gt;&lt;/span&gt; &lt;span style=&quot;display:table-cell;&quot;&gt;&lt;span class=&quot;tag is-light&quot;&gt;great&lt;/span&gt;&lt;/span&gt; &lt;span style=&quot;display:table-cell; opacity:1.0;&quot;&gt;&lt;span class=&quot;tag is-warning&quot;&gt;58%&lt;/span&gt;&lt;/span&gt;&lt;/span&gt;&lt;/span&gt;&lt;/span&gt; &lt;span class=&quot;has-text-grey-light&quot;&gt;from &lt;/span&gt; &lt;span&gt;&lt;span style=&quot;display:inline-table;&quot;&gt;&lt;span style=&quot;display:table-row;&quot;&gt;&lt;span style=&quot;display:table-cell;&quot;&gt;&lt;span class=&quot;has-text-black has-text-weight-bold&quot;&gt;earth&lt;/span&gt;&lt;/span&gt; &lt;span style=&quot;display:table-cell;&quot;&gt;&lt;span class=&quot;tag is-light&quot;&gt;america&lt;/span&gt;&lt;/span&gt; &lt;span style=&quot;display:table-cell; opacity:1.0;&quot;&gt;&lt;span class=&quot;tag is-warning&quot;&gt;53%&lt;/span&gt;&lt;/span&gt;&lt;/span&gt;&lt;/span&gt;&lt;/span&gt; &lt;span class=&quot;has-text-grey-light&quot;&gt;to heaven, that when the child went to his solitary &lt;/span&gt;&lt;/span&gt;&lt;/div&gt;&lt;/div&gt;&lt;/article&gt;\n",
       "\t\t\t&lt;/div&gt;\n",
       "\t\t&lt;/div&gt;\n",
       "\t&lt;/body&gt;\n",
       "&lt;/html&gt;\"\n",
       "\t\t            frameborder=\"0\"\n",
       "\t\t            allowfullscreen\n",
       "\t\t        ></iframe>\n",
       "\t\t        <script>\n",
       "\t\t        \tvar f = document.getElementById(\"vectorian-iframe-1614253554438343000\");\n",
       "\t\t        \tf.onload = function() {\n",
       "\t\t\t        \tf.height = f.contentWindow.document.body.scrollHeight + \"px\";\n",
       "\t\t\t        };\n",
       "\t\t        </script>\n",
       "\t\t"
      ],
      "text/plain": [
       "<vectorian.session.LabResult at 0x7fc7002e1b50>"
      ]
     },
     "execution_count": 12,
     "metadata": {},
     "output_type": "execute_result"
    }
   ],
   "source": [
    "r"
   ]
  },
  {
   "cell_type": "code",
   "execution_count": 14,
   "id": "musical-theorem",
   "metadata": {},
   "outputs": [
    {
     "data": {
      "text/html": [
       "\n",
       "\t\t        <iframe\n",
       "\t\t        \tid=\"vectorian-iframe-1614083105828215000\"\n",
       "\t\t            width=\"100%\"\n",
       "\t\t            height=\"100%\"\n",
       "\t\t            srcdoc=\"&lt;!DOCTYPE html&gt;\n",
       "&lt;html&gt;\n",
       "\t&lt;head&gt;\n",
       "\t\t&lt;meta charset=&quot;utf-8&quot;&gt;\n",
       "\t\t&lt;meta name=&quot;viewport&quot; content=&quot;width=device-width, initial-scale=1&quot;&gt;\n",
       "\t\t&lt;title&gt;Vectorian&lt;/title&gt;\n",
       "\t\t&lt;link rel=&quot;stylesheet&quot; href=&quot;https://cdn.jsdelivr.net/npm/bulma@0.9.1/css/bulma.min.css&quot;&gt;\n",
       "\t&lt;/head&gt;\n",
       "\t&lt;body&gt;\n",
       "\t\t&lt;div class=&quot;container&quot; height=&quot;100%&quot;&gt;\n",
       "\t\t\t&lt;div class=&quot;section&quot;&gt;\n",
       "&lt;!DOCTYPE html&gt;&lt;article class=&quot;media&quot;&gt;&lt;div class=&quot;media-left&quot;&gt;&lt;p class=&quot;image is-64x64&quot;&gt;&lt;span class=&quot;buttons&quot;&gt;&lt;span class=&quot;has-text-weight-bold&quot;&gt;91.7%&lt;/span&gt;&lt;br /&gt;&lt;div&gt;&lt;/div&gt;&lt;/span&gt;&lt;/p&gt;&lt;/div&gt;&lt;div class=&quot;media-content&quot;&gt;&lt;span style=&quot;font-variant: small-caps;&quot;&gt;&lt;/span&gt;&lt;div class=&quot;is-pulled-right&quot;&gt;&lt;small&gt;Anonymous, &lt;/small&gt;&lt;small class=&quot;is-italic&quot;&gt;A Child&#x27;s Dream of a Star, &lt;/small&gt;&lt;small&gt;par. 43&lt;/small&gt;&lt;/div&gt;&lt;div&gt;&lt;br /&gt;&lt;br /&gt;&lt;span&gt;&lt;span class=&quot;has-text-grey-light&quot;&gt;He grew to be a man, whose hair was &lt;/span&gt; &lt;span&gt;&lt;span style=&quot;display:inline-table;&quot;&gt;&lt;span style=&quot;display:table-row;&quot;&gt;&lt;span style=&quot;display:table-cell;&quot;&gt;&lt;span class=&quot;has-text-black has-text-weight-bold&quot;&gt;turning&lt;/span&gt;&lt;/span&gt; &lt;span style=&quot;display:table-cell;&quot;&gt;&lt;span class=&quot;tag is-light&quot;&gt;making&lt;/span&gt;&lt;/span&gt; &lt;span style=&quot;display:table-cell; opacity:1.0;&quot;&gt;&lt;span class=&quot;tag is-warning&quot;&gt;66%&lt;/span&gt;&lt;/span&gt;&lt;/span&gt;&lt;span style=&quot;display:table-row;&quot;&gt;&lt;span style=&quot;display:table-cell; padding-left: 0.2em; padding-right: 0.2em;&quot; class=&quot;is-size-7 has-text-centered has-text-black&quot;&gt;VERB&lt;/span&gt;&lt;span style=&quot;display:table-cell; padding-left: 0.2em; padding-right: 0.2em;&quot; class=&quot;is-size-7 has-text-centered&quot;&gt;VERB&lt;/span&gt;&lt;span style=&quot;display:table-cell; padding-left: 0.2em; padding-right: 0.2em;&quot; class=&quot;is-size-7 has-text-centered has-text-grey-light&quot;&gt;fasttext-en&lt;/span&gt;&lt;/span&gt;&lt;/span&gt;&lt;/span&gt; &lt;span class=&quot;has-text-grey-light&quot;&gt;gray; and he was sitting in his chair by the &lt;/span&gt; &lt;span&gt;&lt;span style=&quot;display:inline-table;&quot;&gt;&lt;span style=&quot;display:table-row;&quot;&gt;&lt;span style=&quot;display:table-cell;&quot;&gt;&lt;span class=&quot;has-text-black has-text-weight-bold&quot;&gt;fireside&lt;/span&gt;&lt;/span&gt; &lt;span style=&quot;display:table-cell;&quot;&gt;&lt;span class=&quot;tag is-light&quot;&gt;america&lt;/span&gt;&lt;/span&gt; &lt;span style=&quot;display:table-cell; opacity:1.0;&quot;&gt;&lt;span class=&quot;tag is-warning&quot;&gt;45%&lt;/span&gt;&lt;/span&gt;&lt;/span&gt;&lt;span style=&quot;display:table-row;&quot;&gt;&lt;span style=&quot;display:table-cell; padding-left: 0.2em; padding-right: 0.2em;&quot; class=&quot;is-size-7 has-text-centered has-text-black&quot;&gt;NOUN&lt;/span&gt;&lt;span style=&quot;display:table-cell; padding-left: 0.2em; padding-right: 0.2em;&quot; class=&quot;is-size-7 has-text-centered&quot;&gt;NOUN&lt;/span&gt;&lt;span style=&quot;display:table-cell; padding-left: 0.2em; padding-right: 0.2em;&quot; class=&quot;is-size-7 has-text-centered has-text-grey-light&quot;&gt;fasttext-en&lt;/span&gt;&lt;/span&gt;&lt;/span&gt;&lt;/span&gt; &lt;span class=&quot;has-text-grey-light&quot;&gt;heavy with grief, and with his face bedewed with tears, when the star opened &lt;/span&gt; &lt;span&gt;&lt;span style=&quot;display:inline-table;&quot;&gt;&lt;span style=&quot;display:table-row;&quot;&gt;&lt;span style=&quot;display:table-cell;&quot;&gt;&lt;span class=&quot;has-text-black has-text-weight-bold&quot;&gt;once&lt;/span&gt;&lt;/span&gt; &lt;span style=&quot;display:table-cell;&quot;&gt;&lt;span class=&quot;tag is-light&quot;&gt;great&lt;/span&gt;&lt;/span&gt; &lt;span style=&quot;display:table-cell; opacity:1.0;&quot;&gt;&lt;span class=&quot;tag is-warning&quot;&gt;55%&lt;/span&gt;&lt;/span&gt;&lt;/span&gt;&lt;span style=&quot;display:table-row;&quot;&gt;&lt;span style=&quot;display:table-cell; padding-left: 0.2em; padding-right: 0.2em;&quot; class=&quot;is-size-7 has-text-centered has-text-danger&quot;&gt;ADV&lt;/span&gt;&lt;span style=&quot;display:table-cell; padding-left: 0.2em; padding-right: 0.2em;&quot; class=&quot;is-size-7 has-text-centered&quot;&gt;ADJ&lt;/span&gt;&lt;span style=&quot;display:table-cell; padding-left: 0.2em; padding-right: 0.2em;&quot; class=&quot;is-size-7 has-text-centered has-text-grey-light&quot;&gt;fasttext-en&lt;/span&gt;&lt;/span&gt;&lt;/span&gt;&lt;/span&gt; &lt;span&gt;&lt;span style=&quot;display:inline-table;&quot;&gt;&lt;span style=&quot;display:table-row;&quot;&gt;&lt;span style=&quot;display:table-cell;&quot;&gt;&lt;span class=&quot;has-text-black has-text-weight-bold&quot;&gt;again&lt;/span&gt;&lt;/span&gt; &lt;span style=&quot;display:table-cell;&quot;&gt;&lt;span class=&quot;tag is-light&quot;&gt;again&lt;/span&gt;&lt;/span&gt; &lt;span style=&quot;display:table-cell; opacity:1.0;&quot;&gt;&lt;span class=&quot;tag is-success&quot;&gt;100%&lt;/span&gt;&lt;/span&gt;&lt;/span&gt;&lt;span style=&quot;display:table-row;&quot;&gt;&lt;span style=&quot;display:table-cell; padding-left: 0.2em; padding-right: 0.2em;&quot; class=&quot;is-size-7 has-text-centered has-text-black&quot;&gt;ADV&lt;/span&gt;&lt;span style=&quot;display:table-cell; padding-left: 0.2em; padding-right: 0.2em;&quot; class=&quot;is-size-7 has-text-centered&quot;&gt;ADV&lt;/span&gt;&lt;span style=&quot;display:table-cell; padding-left: 0.2em; padding-right: 0.2em;&quot; class=&quot;is-size-7 has-text-centered has-text-grey-light&quot;&gt;fasttext-en&lt;/span&gt;&lt;/span&gt;&lt;/span&gt;&lt;/span&gt; &lt;span class=&quot;has-text-grey-light&quot;&gt;Said his sister’s angel to the leader, “Is &lt;/span&gt;&lt;/span&gt;&lt;/div&gt;&lt;/div&gt;&lt;/article&gt;&lt;article class=&quot;media&quot;&gt;&lt;div class=&quot;media-left&quot;&gt;&lt;p class=&quot;image is-64x64&quot;&gt;&lt;span class=&quot;buttons&quot;&gt;&lt;span class=&quot;has-text-weight-bold&quot;&gt;91.3%&lt;/span&gt;&lt;br /&gt;&lt;div&gt;&lt;/div&gt;&lt;/span&gt;&lt;/p&gt;&lt;/div&gt;&lt;div class=&quot;media-content&quot;&gt;&lt;span style=&quot;font-variant: small-caps;&quot;&gt;&lt;/span&gt;&lt;div class=&quot;is-pulled-right&quot;&gt;&lt;small&gt;Anonymous, &lt;/small&gt;&lt;small class=&quot;is-italic&quot;&gt;A Child&#x27;s Dream of a Star, &lt;/small&gt;&lt;small&gt;par. 5&lt;/small&gt;&lt;/div&gt;&lt;div&gt;&lt;br /&gt;&lt;br /&gt;&lt;span&gt;&lt;span&gt;&lt;span style=&quot;display:inline-table;&quot;&gt;&lt;span style=&quot;display:table-row;&quot;&gt;&lt;span style=&quot;display:table-cell;&quot;&gt;&lt;span class=&quot;has-text-black has-text-weight-bold&quot;&gt;once&lt;/span&gt;&lt;/span&gt; &lt;span style=&quot;display:table-cell;&quot;&gt;&lt;span class=&quot;tag is-light&quot;&gt;again&lt;/span&gt;&lt;/span&gt; &lt;span style=&quot;display:table-cell; opacity:1.0;&quot;&gt;&lt;span class=&quot;tag is-warning&quot;&gt;72%&lt;/span&gt;&lt;/span&gt;&lt;/span&gt;&lt;span style=&quot;display:table-row;&quot;&gt;&lt;span style=&quot;display:table-cell; padding-left: 0.2em; padding-right: 0.2em;&quot; class=&quot;is-size-7 has-text-centered has-text-black&quot;&gt;ADV&lt;/span&gt;&lt;span style=&quot;display:table-cell; padding-left: 0.2em; padding-right: 0.2em;&quot; class=&quot;is-size-7 has-text-centered&quot;&gt;ADV&lt;/span&gt;&lt;span style=&quot;display:table-cell; padding-left: 0.2em; padding-right: 0.2em;&quot; class=&quot;is-size-7 has-text-centered has-text-grey-light&quot;&gt;fasttext-en&lt;/span&gt;&lt;/span&gt;&lt;/span&gt;&lt;/span&gt; &lt;span class=&quot;has-text-grey-light&quot;&gt;a child, and he strolled about a &lt;/span&gt; &lt;span&gt;&lt;span style=&quot;display:inline-table;&quot;&gt;&lt;span style=&quot;display:table-row;&quot;&gt;&lt;span style=&quot;display:table-cell;&quot;&gt;&lt;span class=&quot;has-text-black has-text-weight-bold&quot;&gt;good&lt;/span&gt;&lt;/span&gt; &lt;span style=&quot;display:table-cell;&quot;&gt;&lt;span class=&quot;tag is-light&quot;&gt;great&lt;/span&gt;&lt;/span&gt; &lt;span style=&quot;display:table-cell; opacity:1.0;&quot;&gt;&lt;span class=&quot;tag is-success&quot;&gt;83%&lt;/span&gt;&lt;/span&gt;&lt;/span&gt;&lt;span style=&quot;display:table-row;&quot;&gt;&lt;span style=&quot;display:table-cell; padding-left: 0.2em; padding-right: 0.2em;&quot; class=&quot;is-size-7 has-text-centered has-text-black&quot;&gt;ADJ&lt;/span&gt;&lt;span style=&quot;display:table-cell; padding-left: 0.2em; padding-right: 0.2em;&quot; class=&quot;is-size-7 has-text-centered&quot;&gt;ADJ&lt;/span&gt;&lt;span style=&quot;display:table-cell; padding-left: 0.2em; padding-right: 0.2em;&quot; class=&quot;is-size-7 has-text-centered has-text-grey-light&quot;&gt;fasttext-en&lt;/span&gt;&lt;/span&gt;&lt;/span&gt;&lt;/span&gt; &lt;span class=&quot;has-text-grey-light&quot;&gt;deal, and thought of &lt;/span&gt; &lt;span&gt;&lt;span style=&quot;display:inline-table;&quot;&gt;&lt;span style=&quot;display:table-row;&quot;&gt;&lt;span style=&quot;display:table-cell;&quot;&gt;&lt;span class=&quot;has-text-black has-text-weight-bold&quot;&gt;a&lt;/span&gt;&lt;/span&gt; &lt;span style=&quot;display:table-cell;&quot;&gt;&lt;span class=&quot;tag is-light&quot;&gt;making&lt;/span&gt;&lt;/span&gt; &lt;span style=&quot;display:table-cell; opacity:1.0;&quot;&gt;&lt;span class=&quot;tag is-warning&quot;&gt;60%&lt;/span&gt;&lt;/span&gt;&lt;/span&gt;&lt;span style=&quot;display:table-row;&quot;&gt;&lt;span style=&quot;display:table-cell; padding-left: 0.2em; padding-right: 0.2em;&quot; class=&quot;is-size-7 has-text-centered has-text-danger&quot;&gt;DET&lt;/span&gt;&lt;span style=&quot;display:table-cell; padding-left: 0.2em; padding-right: 0.2em;&quot; class=&quot;is-size-7 has-text-centered&quot;&gt;VERB&lt;/span&gt;&lt;span style=&quot;display:table-cell; padding-left: 0.2em; padding-right: 0.2em;&quot; class=&quot;is-size-7 has-text-centered has-text-grey-light&quot;&gt;fasttext-en&lt;/span&gt;&lt;/span&gt;&lt;/span&gt;&lt;/span&gt; &lt;span class=&quot;has-text-grey-light&quot;&gt;number of &lt;/span&gt; &lt;span&gt;&lt;span style=&quot;display:inline-table;&quot;&gt;&lt;span style=&quot;display:table-row;&quot;&gt;&lt;span style=&quot;display:table-cell;&quot;&gt;&lt;span class=&quot;has-text-black has-text-weight-bold&quot;&gt;things&lt;/span&gt;&lt;/span&gt; &lt;span style=&quot;display:table-cell;&quot;&gt;&lt;span class=&quot;tag is-light&quot;&gt;america&lt;/span&gt;&lt;/span&gt; &lt;span style=&quot;display:table-cell; opacity:1.0;&quot;&gt;&lt;span class=&quot;tag is-warning&quot;&gt;43%&lt;/span&gt;&lt;/span&gt;&lt;/span&gt;&lt;span style=&quot;display:table-row;&quot;&gt;&lt;span style=&quot;display:table-cell; padding-left: 0.2em; padding-right: 0.2em;&quot; class=&quot;is-size-7 has-text-centered has-text-black&quot;&gt;NOUN&lt;/span&gt;&lt;span style=&quot;display:table-cell; padding-left: 0.2em; padding-right: 0.2em;&quot; class=&quot;is-size-7 has-text-centered&quot;&gt;NOUN&lt;/span&gt;&lt;span style=&quot;display:table-cell; padding-left: 0.2em; padding-right: 0.2em;&quot; class=&quot;is-size-7 has-text-centered has-text-grey-light&quot;&gt;fasttext-en&lt;/span&gt;&lt;/span&gt;&lt;/span&gt;&lt;/span&gt; &lt;span class=&quot;has-text-grey-light&quot;&gt;&lt;/span&gt;&lt;/span&gt;&lt;/div&gt;&lt;/div&gt;&lt;/article&gt;&lt;article class=&quot;media&quot;&gt;&lt;div class=&quot;media-left&quot;&gt;&lt;p class=&quot;image is-64x64&quot;&gt;&lt;span class=&quot;buttons&quot;&gt;&lt;span class=&quot;has-text-weight-bold&quot;&gt;91.1%&lt;/span&gt;&lt;br /&gt;&lt;div&gt;&lt;/div&gt;&lt;/span&gt;&lt;/p&gt;&lt;/div&gt;&lt;div class=&quot;media-content&quot;&gt;&lt;span style=&quot;font-variant: small-caps;&quot;&gt;&lt;/span&gt;&lt;div class=&quot;is-pulled-right&quot;&gt;&lt;small&gt;Anonymous, &lt;/small&gt;&lt;small class=&quot;is-italic&quot;&gt;A Child&#x27;s Dream of a Star, &lt;/small&gt;&lt;small&gt;par. 37&lt;/small&gt;&lt;/div&gt;&lt;div&gt;&lt;br /&gt;&lt;br /&gt;&lt;span&gt;&lt;span class=&quot;has-text-grey-light&quot;&gt;\n",
       "\n",
       "&lt;/span&gt; &lt;span&gt;&lt;span style=&quot;display:inline-table;&quot;&gt;&lt;span style=&quot;display:table-row;&quot;&gt;&lt;span style=&quot;display:table-cell;&quot;&gt;&lt;span class=&quot;has-text-black has-text-weight-bold&quot;&gt;Again&lt;/span&gt;&lt;/span&gt; &lt;span style=&quot;display:table-cell;&quot;&gt;&lt;span class=&quot;tag is-light&quot;&gt;again&lt;/span&gt;&lt;/span&gt; &lt;span style=&quot;display:table-cell; opacity:1.0;&quot;&gt;&lt;span class=&quot;tag is-success&quot;&gt;100%&lt;/span&gt;&lt;/span&gt;&lt;/span&gt;&lt;span style=&quot;display:table-row;&quot;&gt;&lt;span style=&quot;display:table-cell; padding-left: 0.2em; padding-right: 0.2em;&quot; class=&quot;is-size-7 has-text-centered has-text-black&quot;&gt;ADV&lt;/span&gt;&lt;span style=&quot;display:table-cell; padding-left: 0.2em; padding-right: 0.2em;&quot; class=&quot;is-size-7 has-text-centered&quot;&gt;ADV&lt;/span&gt;&lt;span style=&quot;display:table-cell; padding-left: 0.2em; padding-right: 0.2em;&quot; class=&quot;is-size-7 has-text-centered has-text-grey-light&quot;&gt;fasttext-en&lt;/span&gt;&lt;/span&gt;&lt;/span&gt;&lt;/span&gt; &lt;span class=&quot;has-text-grey-light&quot;&gt;at night he saw &lt;/span&gt; &lt;span&gt;&lt;span style=&quot;display:inline-table;&quot;&gt;&lt;span style=&quot;display:table-row;&quot;&gt;&lt;span style=&quot;display:table-cell;&quot;&gt;&lt;span class=&quot;has-text-black has-text-weight-bold&quot;&gt;the&lt;/span&gt;&lt;/span&gt; &lt;span style=&quot;display:table-cell;&quot;&gt;&lt;span class=&quot;tag is-light&quot;&gt;making&lt;/span&gt;&lt;/span&gt; &lt;span style=&quot;display:table-cell; opacity:1.0;&quot;&gt;&lt;span class=&quot;tag is-warning&quot;&gt;58%&lt;/span&gt;&lt;/span&gt;&lt;/span&gt;&lt;span style=&quot;display:table-row;&quot;&gt;&lt;span style=&quot;display:table-cell; padding-left: 0.2em; padding-right: 0.2em;&quot; class=&quot;is-size-7 has-text-centered has-text-danger&quot;&gt;DET&lt;/span&gt;&lt;span style=&quot;display:table-cell; padding-left: 0.2em; padding-right: 0.2em;&quot; class=&quot;is-size-7 has-text-centered&quot;&gt;VERB&lt;/span&gt;&lt;span style=&quot;display:table-cell; padding-left: 0.2em; padding-right: 0.2em;&quot; class=&quot;is-size-7 has-text-centered has-text-grey-light&quot;&gt;fasttext-en&lt;/span&gt;&lt;/span&gt;&lt;/span&gt;&lt;/span&gt; &lt;span class=&quot;has-text-grey-light&quot;&gt;star, and all &lt;/span&gt; &lt;span&gt;&lt;span style=&quot;display:inline-table;&quot;&gt;&lt;span style=&quot;display:table-row;&quot;&gt;&lt;span style=&quot;display:table-cell;&quot;&gt;&lt;span class=&quot;has-text-black has-text-weight-bold&quot;&gt;that&lt;/span&gt;&lt;/span&gt; &lt;span style=&quot;display:table-cell;&quot;&gt;&lt;span class=&quot;tag is-light&quot;&gt;great&lt;/span&gt;&lt;/span&gt; &lt;span style=&quot;display:table-cell; opacity:1.0;&quot;&gt;&lt;span class=&quot;tag is-warning&quot;&gt;54%&lt;/span&gt;&lt;/span&gt;&lt;/span&gt;&lt;span style=&quot;display:table-row;&quot;&gt;&lt;span style=&quot;display:table-cell; padding-left: 0.2em; padding-right: 0.2em;&quot; class=&quot;is-size-7 has-text-centered has-text-danger&quot;&gt;DET&lt;/span&gt;&lt;span style=&quot;display:table-cell; padding-left: 0.2em; padding-right: 0.2em;&quot; class=&quot;is-size-7 has-text-centered&quot;&gt;ADJ&lt;/span&gt;&lt;span style=&quot;display:table-cell; padding-left: 0.2em; padding-right: 0.2em;&quot; class=&quot;is-size-7 has-text-centered has-text-grey-light&quot;&gt;fasttext-en&lt;/span&gt;&lt;/span&gt;&lt;/span&gt;&lt;/span&gt; &lt;span class=&quot;has-text-grey-light&quot;&gt;former &lt;/span&gt; &lt;span&gt;&lt;span style=&quot;display:inline-table;&quot;&gt;&lt;span style=&quot;display:table-row;&quot;&gt;&lt;span style=&quot;display:table-cell;&quot;&gt;&lt;span class=&quot;has-text-black has-text-weight-bold&quot;&gt;company&lt;/span&gt;&lt;/span&gt; &lt;span style=&quot;display:table-cell;&quot;&gt;&lt;span class=&quot;tag is-light&quot;&gt;america&lt;/span&gt;&lt;/span&gt; &lt;span style=&quot;display:table-cell; opacity:1.0;&quot;&gt;&lt;span class=&quot;tag is-warning&quot;&gt;44%&lt;/span&gt;&lt;/span&gt;&lt;/span&gt;&lt;span style=&quot;display:table-row;&quot;&gt;&lt;span style=&quot;display:table-cell; padding-left: 0.2em; padding-right: 0.2em;&quot; class=&quot;is-size-7 has-text-centered has-text-black&quot;&gt;NOUN&lt;/span&gt;&lt;span style=&quot;display:table-cell; padding-left: 0.2em; padding-right: 0.2em;&quot; class=&quot;is-size-7 has-text-centered&quot;&gt;NOUN&lt;/span&gt;&lt;span style=&quot;display:table-cell; padding-left: 0.2em; padding-right: 0.2em;&quot; class=&quot;is-size-7 has-text-centered has-text-grey-light&quot;&gt;fasttext-en&lt;/span&gt;&lt;/span&gt;&lt;/span&gt;&lt;/span&gt; &lt;span class=&quot;has-text-grey-light&quot;&gt;&lt;/span&gt;&lt;/span&gt;&lt;/div&gt;&lt;/div&gt;&lt;/article&gt;&lt;article class=&quot;media&quot;&gt;&lt;div class=&quot;media-left&quot;&gt;&lt;p class=&quot;image is-64x64&quot;&gt;&lt;span class=&quot;buttons&quot;&gt;&lt;span class=&quot;has-text-weight-bold&quot;&gt;91.0%&lt;/span&gt;&lt;br /&gt;&lt;div&gt;&lt;/div&gt;&lt;/span&gt;&lt;/p&gt;&lt;/div&gt;&lt;div class=&quot;media-content&quot;&gt;&lt;span style=&quot;font-variant: small-caps;&quot;&gt;&lt;/span&gt;&lt;div class=&quot;is-pulled-right&quot;&gt;&lt;small&gt;Anonymous, &lt;/small&gt;&lt;small class=&quot;is-italic&quot;&gt;A Child&#x27;s Dream of a Star, &lt;/small&gt;&lt;small&gt;par. 30&lt;/small&gt;&lt;/div&gt;&lt;div&gt;&lt;br /&gt;&lt;br /&gt;&lt;span&gt;&lt;span&gt;&lt;span style=&quot;display:inline-table;&quot;&gt;&lt;span style=&quot;display:table-row;&quot;&gt;&lt;span style=&quot;display:table-cell;&quot;&gt;&lt;span class=&quot;has-text-black has-text-weight-bold&quot;&gt;Again&lt;/span&gt;&lt;/span&gt; &lt;span style=&quot;display:table-cell;&quot;&gt;&lt;span class=&quot;tag is-light&quot;&gt;again&lt;/span&gt;&lt;/span&gt; &lt;span style=&quot;display:table-cell; opacity:1.0;&quot;&gt;&lt;span class=&quot;tag is-success&quot;&gt;100%&lt;/span&gt;&lt;/span&gt;&lt;/span&gt;&lt;span style=&quot;display:table-row;&quot;&gt;&lt;span style=&quot;display:table-cell; padding-left: 0.2em; padding-right: 0.2em;&quot; class=&quot;is-size-7 has-text-centered has-text-black&quot;&gt;ADV&lt;/span&gt;&lt;span style=&quot;display:table-cell; padding-left: 0.2em; padding-right: 0.2em;&quot; class=&quot;is-size-7 has-text-centered&quot;&gt;ADV&lt;/span&gt;&lt;span style=&quot;display:table-cell; padding-left: 0.2em; padding-right: 0.2em;&quot; class=&quot;is-size-7 has-text-centered has-text-grey-light&quot;&gt;fasttext-en&lt;/span&gt;&lt;/span&gt;&lt;/span&gt;&lt;/span&gt; &lt;span class=&quot;has-text-grey-light&quot;&gt;the child dreamed of the opened star, and of the company of &lt;/span&gt; &lt;span&gt;&lt;span style=&quot;display:inline-table;&quot;&gt;&lt;span style=&quot;display:table-row;&quot;&gt;&lt;span style=&quot;display:table-cell;&quot;&gt;&lt;span class=&quot;has-text-black has-text-weight-bold&quot;&gt;angels&lt;/span&gt;&lt;/span&gt; &lt;span style=&quot;display:table-cell;&quot;&gt;&lt;span class=&quot;tag is-light&quot;&gt;america&lt;/span&gt;&lt;/span&gt; &lt;span style=&quot;display:table-cell; opacity:1.0;&quot;&gt;&lt;span class=&quot;tag is-warning&quot;&gt;44%&lt;/span&gt;&lt;/span&gt;&lt;/span&gt;&lt;span style=&quot;display:table-row;&quot;&gt;&lt;span style=&quot;display:table-cell; padding-left: 0.2em; padding-right: 0.2em;&quot; class=&quot;is-size-7 has-text-centered has-text-black&quot;&gt;NOUN&lt;/span&gt;&lt;span style=&quot;display:table-cell; padding-left: 0.2em; padding-right: 0.2em;&quot; class=&quot;is-size-7 has-text-centered&quot;&gt;NOUN&lt;/span&gt;&lt;span style=&quot;display:table-cell; padding-left: 0.2em; padding-right: 0.2em;&quot; class=&quot;is-size-7 has-text-centered has-text-grey-light&quot;&gt;fasttext-en&lt;/span&gt;&lt;/span&gt;&lt;/span&gt;&lt;/span&gt; &lt;span class=&quot;has-text-grey-light&quot;&gt;and the train of people, and the rows of angels with &lt;/span&gt; &lt;span&gt;&lt;span style=&quot;display:inline-table;&quot;&gt;&lt;span style=&quot;display:table-row;&quot;&gt;&lt;span style=&quot;display:table-cell;&quot;&gt;&lt;span class=&quot;has-text-black has-text-weight-bold&quot;&gt;their&lt;/span&gt;&lt;/span&gt; &lt;span style=&quot;display:table-cell;&quot;&gt;&lt;span class=&quot;tag is-light&quot;&gt;making&lt;/span&gt;&lt;/span&gt; &lt;span style=&quot;display:table-cell; opacity:1.0;&quot;&gt;&lt;span class=&quot;tag is-warning&quot;&gt;60%&lt;/span&gt;&lt;/span&gt;&lt;/span&gt;&lt;span style=&quot;display:table-row;&quot;&gt;&lt;span style=&quot;display:table-cell; padding-left: 0.2em; padding-right: 0.2em;&quot; class=&quot;is-size-7 has-text-centered has-text-danger&quot;&gt;PRON&lt;/span&gt;&lt;span style=&quot;display:table-cell; padding-left: 0.2em; padding-right: 0.2em;&quot; class=&quot;is-size-7 has-text-centered&quot;&gt;VERB&lt;/span&gt;&lt;span style=&quot;display:table-cell; padding-left: 0.2em; padding-right: 0.2em;&quot; class=&quot;is-size-7 has-text-centered has-text-grey-light&quot;&gt;fasttext-en&lt;/span&gt;&lt;/span&gt;&lt;/span&gt;&lt;/span&gt; &lt;span class=&quot;has-text-grey-light&quot;&gt;beaming eyes &lt;/span&gt; &lt;span&gt;&lt;span style=&quot;display:inline-table;&quot;&gt;&lt;span style=&quot;display:table-row;&quot;&gt;&lt;span style=&quot;display:table-cell;&quot;&gt;&lt;span class=&quot;has-text-black has-text-weight-bold&quot;&gt;all&lt;/span&gt;&lt;/span&gt; &lt;span style=&quot;display:table-cell;&quot;&gt;&lt;span class=&quot;tag is-light&quot;&gt;great&lt;/span&gt;&lt;/span&gt; &lt;span style=&quot;display:table-cell; opacity:1.0;&quot;&gt;&lt;span class=&quot;tag is-warning&quot;&gt;50%&lt;/span&gt;&lt;/span&gt;&lt;/span&gt;&lt;span style=&quot;display:table-row;&quot;&gt;&lt;span style=&quot;display:table-cell; padding-left: 0.2em; padding-right: 0.2em;&quot; class=&quot;is-size-7 has-text-centered has-text-danger&quot;&gt;DET&lt;/span&gt;&lt;span style=&quot;display:table-cell; padding-left: 0.2em; padding-right: 0.2em;&quot; class=&quot;is-size-7 has-text-centered&quot;&gt;ADJ&lt;/span&gt;&lt;span style=&quot;display:table-cell; padding-left: 0.2em; padding-right: 0.2em;&quot; class=&quot;is-size-7 has-text-centered has-text-grey-light&quot;&gt;fasttext-en&lt;/span&gt;&lt;/span&gt;&lt;/span&gt;&lt;/span&gt; &lt;span class=&quot;has-text-grey-light&quot;&gt;turned upon those people’s faces.\n",
       "\n",
       "Said his sister&lt;/span&gt;&lt;/span&gt;&lt;/div&gt;&lt;/div&gt;&lt;/article&gt;&lt;article class=&quot;media&quot;&gt;&lt;div class=&quot;media-left&quot;&gt;&lt;p class=&quot;image is-64x64&quot;&gt;&lt;span class=&quot;buttons&quot;&gt;&lt;span class=&quot;has-text-weight-bold&quot;&gt;90.9%&lt;/span&gt;&lt;br /&gt;&lt;div&gt;&lt;/div&gt;&lt;/span&gt;&lt;/p&gt;&lt;/div&gt;&lt;div class=&quot;media-content&quot;&gt;&lt;span style=&quot;font-variant: small-caps;&quot;&gt;&lt;/span&gt;&lt;div class=&quot;is-pulled-right&quot;&gt;&lt;small&gt;Anonymous, &lt;/small&gt;&lt;small class=&quot;is-italic&quot;&gt;A Child&#x27;s Dream of a Star, &lt;/small&gt;&lt;small&gt;par. 16&lt;/small&gt;&lt;/div&gt;&lt;div&gt;&lt;br /&gt;&lt;br /&gt;&lt;span&gt;&lt;span&gt;&lt;span style=&quot;display:inline-table;&quot;&gt;&lt;span style=&quot;display:table-row;&quot;&gt;&lt;span style=&quot;display:table-cell;&quot;&gt;&lt;span class=&quot;has-text-black has-text-weight-bold&quot;&gt;Now&lt;/span&gt;&lt;/span&gt; &lt;span style=&quot;display:table-cell;&quot;&gt;&lt;span class=&quot;tag is-light&quot;&gt;again&lt;/span&gt;&lt;/span&gt; &lt;span style=&quot;display:table-cell; opacity:1.0;&quot;&gt;&lt;span class=&quot;tag is-warning&quot;&gt;61%&lt;/span&gt;&lt;/span&gt;&lt;/span&gt;&lt;span style=&quot;display:table-row;&quot;&gt;&lt;span style=&quot;display:table-cell; padding-left: 0.2em; padding-right: 0.2em;&quot; class=&quot;is-size-7 has-text-centered has-text-black&quot;&gt;ADV&lt;/span&gt;&lt;span style=&quot;display:table-cell; padding-left: 0.2em; padding-right: 0.2em;&quot; class=&quot;is-size-7 has-text-centered&quot;&gt;ADV&lt;/span&gt;&lt;span style=&quot;display:table-cell; padding-left: 0.2em; padding-right: 0.2em;&quot; class=&quot;is-size-7 has-text-centered has-text-grey-light&quot;&gt;fasttext-en&lt;/span&gt;&lt;/span&gt;&lt;/span&gt;&lt;/span&gt; &lt;span class=&quot;has-text-grey-light&quot;&gt;these rays were so bright, and they seemed to &lt;/span&gt; &lt;span&gt;&lt;span style=&quot;display:inline-table;&quot;&gt;&lt;span style=&quot;display:table-row;&quot;&gt;&lt;span style=&quot;display:table-cell;&quot;&gt;&lt;span class=&quot;has-text-black has-text-weight-bold&quot;&gt;make&lt;/span&gt;&lt;/span&gt; &lt;span style=&quot;display:table-cell;&quot;&gt;&lt;span class=&quot;tag is-light&quot;&gt;making&lt;/span&gt;&lt;/span&gt; &lt;span style=&quot;display:table-cell; opacity:1.0;&quot;&gt;&lt;span class=&quot;tag is-success&quot;&gt;81%&lt;/span&gt;&lt;/span&gt;&lt;/span&gt;&lt;span style=&quot;display:table-row;&quot;&gt;&lt;span style=&quot;display:table-cell; padding-left: 0.2em; padding-right: 0.2em;&quot; class=&quot;is-size-7 has-text-centered has-text-black&quot;&gt;VERB&lt;/span&gt;&lt;span style=&quot;display:table-cell; padding-left: 0.2em; padding-right: 0.2em;&quot; class=&quot;is-size-7 has-text-centered&quot;&gt;VERB&lt;/span&gt;&lt;span style=&quot;display:table-cell; padding-left: 0.2em; padding-right: 0.2em;&quot; class=&quot;is-size-7 has-text-centered has-text-grey-light&quot;&gt;fasttext-en&lt;/span&gt;&lt;/span&gt;&lt;/span&gt;&lt;/span&gt; &lt;span class=&quot;has-text-grey-light&quot;&gt;such a shining &lt;/span&gt; &lt;span&gt;&lt;span style=&quot;display:inline-table;&quot;&gt;&lt;span style=&quot;display:table-row;&quot;&gt;&lt;span style=&quot;display:table-cell;&quot;&gt;&lt;span class=&quot;has-text-black has-text-weight-bold&quot;&gt;way&lt;/span&gt;&lt;/span&gt; &lt;span style=&quot;display:table-cell;&quot;&gt;&lt;span class=&quot;tag is-light&quot;&gt;great&lt;/span&gt;&lt;/span&gt; &lt;span style=&quot;display:table-cell; opacity:1.0;&quot;&gt;&lt;span class=&quot;tag is-warning&quot;&gt;58%&lt;/span&gt;&lt;/span&gt;&lt;/span&gt;&lt;span style=&quot;display:table-row;&quot;&gt;&lt;span style=&quot;display:table-cell; padding-left: 0.2em; padding-right: 0.2em;&quot; class=&quot;is-size-7 has-text-centered has-text-danger&quot;&gt;NOUN&lt;/span&gt;&lt;span style=&quot;display:table-cell; padding-left: 0.2em; padding-right: 0.2em;&quot; class=&quot;is-size-7 has-text-centered&quot;&gt;ADJ&lt;/span&gt;&lt;span style=&quot;display:table-cell; padding-left: 0.2em; padding-right: 0.2em;&quot; class=&quot;is-size-7 has-text-centered has-text-grey-light&quot;&gt;fasttext-en&lt;/span&gt;&lt;/span&gt;&lt;/span&gt;&lt;/span&gt; &lt;span class=&quot;has-text-grey-light&quot;&gt;from &lt;/span&gt; &lt;span&gt;&lt;span style=&quot;display:inline-table;&quot;&gt;&lt;span style=&quot;display:table-row;&quot;&gt;&lt;span style=&quot;display:table-cell;&quot;&gt;&lt;span class=&quot;has-text-black has-text-weight-bold&quot;&gt;earth&lt;/span&gt;&lt;/span&gt; &lt;span style=&quot;display:table-cell;&quot;&gt;&lt;span class=&quot;tag is-light&quot;&gt;america&lt;/span&gt;&lt;/span&gt; &lt;span style=&quot;display:table-cell; opacity:1.0;&quot;&gt;&lt;span class=&quot;tag is-warning&quot;&gt;53%&lt;/span&gt;&lt;/span&gt;&lt;/span&gt;&lt;span style=&quot;display:table-row;&quot;&gt;&lt;span style=&quot;display:table-cell; padding-left: 0.2em; padding-right: 0.2em;&quot; class=&quot;is-size-7 has-text-centered has-text-black&quot;&gt;NOUN&lt;/span&gt;&lt;span style=&quot;display:table-cell; padding-left: 0.2em; padding-right: 0.2em;&quot; class=&quot;is-size-7 has-text-centered&quot;&gt;NOUN&lt;/span&gt;&lt;span style=&quot;display:table-cell; padding-left: 0.2em; padding-right: 0.2em;&quot; class=&quot;is-size-7 has-text-centered has-text-grey-light&quot;&gt;fasttext-en&lt;/span&gt;&lt;/span&gt;&lt;/span&gt;&lt;/span&gt; &lt;span class=&quot;has-text-grey-light&quot;&gt;to heaven, that when the child went to his solitary &lt;/span&gt;&lt;/span&gt;&lt;/div&gt;&lt;/div&gt;&lt;/article&gt;\n",
       "\t\t\t&lt;/div&gt;\n",
       "\t\t&lt;/div&gt;\n",
       "\t&lt;/body&gt;\n",
       "&lt;/html&gt;\"\n",
       "\t\t            frameborder=\"0\"\n",
       "\t\t            allowfullscreen\n",
       "\t\t        ></iframe>\n",
       "\t\t        <script>\n",
       "\t\t        \tvar f = document.getElementById(\"vectorian-iframe-1614083105828215000\");\n",
       "\t\t        \tf.onload = function() {\n",
       "\t\t\t        \tf.height = f.contentWindow.document.body.scrollHeight + \"px\";\n",
       "\t\t\t        };\n",
       "\t\t        </script>\n",
       "\t\t"
      ],
      "text/plain": [
       "<vectorian.session.LabResult at 0x7fbc59517730>"
      ]
     },
     "execution_count": 14,
     "metadata": {},
     "output_type": "execute_result"
    }
   ],
   "source": [
    "r.annotate()"
   ]
  },
  {
   "cell_type": "code",
   "execution_count": 8,
   "id": "stone-squad",
   "metadata": {},
   "outputs": [
    {
     "data": {
      "text/plain": [
       "{'book': -1,\n",
       " 'chapter': -1,\n",
       " 'speaker': -1,\n",
       " 'paragraph': 5,\n",
       " 'token_at': 25,\n",
       " 'n_tokens': 83}"
      ]
     },
     "execution_count": 8,
     "metadata": {},
     "output_type": "execute_result"
    }
   ],
   "source": [
    "r[0].document.sentence(r[0].sentence)"
   ]
  },
  {
   "cell_type": "code",
   "execution_count": 9,
   "id": "statewide-graham",
   "metadata": {},
   "outputs": [
    {
     "data": {
      "text/plain": [
       "'THERE was once a child, and he strolled about a good deal, and thought of a number of things. He had a sister, who was a child too, and his constant companion. These two used to wonder all day long. They wondered at the beauty of the flowers; they wondered at the height and blueness of the sky; they wondered at the depth of the bright water; they wondered at the goodness and the power of God, who made the lovely world.\\n\\n'"
      ]
     },
     "execution_count": 9,
     "metadata": {},
     "output_type": "execute_result"
    }
   ],
   "source": [
    "start = r[0].document.tokens[\"idx\"][25]\n",
    "end = r[0].document.tokens[\"idx\"][25 + 83]\n",
    "r[0].document.substr(start, end)"
   ]
  },
  {
   "cell_type": "code",
   "execution_count": 6,
   "id": "occupational-franchise",
   "metadata": {},
   "outputs": [],
   "source": [
    "from vectorian.embeddings import Glove\n",
    "glove = Glove()\n",
    "\n",
    "session = LabSession(\n",
    "    [doc],\n",
    "    [fasttext, glove])"
   ]
  },
  {
   "cell_type": "code",
   "execution_count": null,
   "id": "virtual-computer",
   "metadata": {},
   "outputs": [],
   "source": []
  },
  {
   "cell_type": "code",
   "execution_count": 7,
   "id": "potential-parts",
   "metadata": {},
   "outputs": [
    {
     "data": {
      "application/vnd.jupyter.widget-view+json": {
       "model_id": "",
       "version_major": 2,
       "version_minor": 0
      },
      "text/plain": [
       "FloatProgress(value=0.0, layout=Layout(width='100%'), max=1.0)"
      ]
     },
     "metadata": {},
     "output_type": "display_data"
    }
   ],
   "source": [
    "from vectorian.metrics import CosineMetric, LerpMetric, PNormMetric\n",
    "\n",
    "query = nlp(\"play\")\n",
    "\n",
    "#r = session.find(query, n=3, metric=PNormMetric(fasttext, p=2, scale=0.1))\n",
    "r = session.find(query, n=3)\n",
    "\n",
    "#r = session.find(query, n=3, metric=LerpMetric(\n",
    "#    CosineMetric(fasttext),\n",
    "#    CosineMetric(glove),\n",
    "#    0.8))"
   ]
  },
  {
   "cell_type": "code",
   "execution_count": 10,
   "id": "virgin-offset",
   "metadata": {},
   "outputs": [
    {
     "data": {
      "text/plain": [
       "0.024589061737060547"
      ]
     },
     "execution_count": 10,
     "metadata": {},
     "output_type": "execute_result"
    }
   ],
   "source": [
    "r.duration"
   ]
  },
  {
   "cell_type": "code",
   "execution_count": 11,
   "id": "superb-hungary",
   "metadata": {},
   "outputs": [
    {
     "data": {
      "text/html": [
       "\n",
       "\t\t        <iframe\n",
       "\t\t        \tid=\"vectorian-iframe-1613910549881285000\"\n",
       "\t\t            width=\"100%\"\n",
       "\t\t            height=\"100%\"\n",
       "\t\t            srcdoc=\"&lt;!DOCTYPE html&gt;\n",
       "&lt;html&gt;\n",
       "\t&lt;head&gt;\n",
       "\t\t&lt;meta charset=&quot;utf-8&quot;&gt;\n",
       "\t\t&lt;meta name=&quot;viewport&quot; content=&quot;width=device-width, initial-scale=1&quot;&gt;\n",
       "\t\t&lt;title&gt;Vectorian&lt;/title&gt;\n",
       "\t\t&lt;link rel=&quot;stylesheet&quot; href=&quot;https://cdn.jsdelivr.net/npm/bulma@0.9.1/css/bulma.min.css&quot;&gt;\n",
       "\t&lt;/head&gt;\n",
       "\t&lt;body&gt;\n",
       "\t\t&lt;div class=&quot;container&quot; height=&quot;100%&quot;&gt;\n",
       "\t\t\t&lt;div class=&quot;section&quot;&gt;\n",
       "&lt;!DOCTYPE html&gt;&lt;article class=&quot;media&quot;&gt;&lt;div class=&quot;media-left&quot;&gt;&lt;p class=&quot;image is-64x64&quot;&gt;&lt;span class=&quot;buttons&quot;&gt;&lt;span class=&quot;has-text-weight-bold&quot;&gt;85.6%&lt;/span&gt;&lt;br /&gt;&lt;div&gt;&lt;/div&gt;&lt;/span&gt;&lt;/p&gt;&lt;/div&gt;&lt;div class=&quot;media-content&quot;&gt;&lt;span style=&quot;font-variant: small-caps;&quot;&gt;&lt;/span&gt;&lt;div class=&quot;is-pulled-right&quot;&gt;&lt;small&gt;Anonymous, &lt;/small&gt;&lt;small class=&quot;is-italic&quot;&gt;A Child&#x27;s Dream of a Star, &lt;/small&gt;&lt;small&gt;par. 8&lt;/small&gt;&lt;/div&gt;&lt;div&gt;&lt;br /&gt;&lt;br /&gt;&lt;span&gt;&lt;span class=&quot;has-text-grey-light&quot;&gt;the children of the water; and the smallest bright specks &lt;/span&gt; &lt;span&gt;&lt;span style=&quot;display:inline-table;&quot;&gt;&lt;span style=&quot;display:table-row;&quot;&gt;&lt;span style=&quot;display:table-cell;&quot;&gt;&lt;span class=&quot;has-text-black has-text-weight-bold&quot;&gt;playing&lt;/span&gt;&lt;/span&gt; &lt;span style=&quot;display:table-cell;&quot;&gt;&lt;span class=&quot;tag is-light&quot;&gt;play&lt;/span&gt;&lt;/span&gt; &lt;span style=&quot;display:table-cell; opacity:1.0;&quot;&gt;&lt;span class=&quot;tag is-success&quot;&gt;85%&lt;/span&gt;&lt;/span&gt;&lt;/span&gt;&lt;/span&gt;&lt;/span&gt; &lt;span class=&quot;has-text-grey-light&quot;&gt;at hide-and-seek in the sky all night must &lt;/span&gt;&lt;/span&gt;&lt;/div&gt;&lt;/div&gt;&lt;/article&gt;&lt;article class=&quot;media&quot;&gt;&lt;div class=&quot;media-left&quot;&gt;&lt;p class=&quot;image is-64x64&quot;&gt;&lt;span class=&quot;buttons&quot;&gt;&lt;span class=&quot;has-text-weight-bold&quot;&gt;79.4%&lt;/span&gt;&lt;br /&gt;&lt;div&gt;&lt;/div&gt;&lt;/span&gt;&lt;/p&gt;&lt;/div&gt;&lt;div class=&quot;media-content&quot;&gt;&lt;span style=&quot;font-variant: small-caps;&quot;&gt;&lt;/span&gt;&lt;div class=&quot;is-pulled-right&quot;&gt;&lt;small&gt;Anonymous, &lt;/small&gt;&lt;small class=&quot;is-italic&quot;&gt;A Child&#x27;s Dream of a Star, &lt;/small&gt;&lt;small&gt;par. 8&lt;/small&gt;&lt;/div&gt;&lt;div&gt;&lt;br /&gt;&lt;br /&gt;&lt;span&gt;&lt;span class=&quot;has-text-grey-light&quot;&gt;the children of the water; and the smallest bright specks &lt;/span&gt; &lt;span&gt;&lt;span style=&quot;display:inline-table;&quot;&gt;&lt;span style=&quot;display:table-row;&quot;&gt;&lt;span style=&quot;display:table-cell;&quot;&gt;&lt;span class=&quot;has-text-black has-text-weight-bold&quot;&gt;playing&lt;/span&gt;&lt;/span&gt; &lt;span style=&quot;display:table-cell;&quot;&gt;&lt;span class=&quot;tag is-light&quot;&gt;play&lt;/span&gt;&lt;/span&gt; &lt;span style=&quot;display:table-cell; opacity:1.0;&quot;&gt;&lt;span class=&quot;tag is-success&quot;&gt;79%&lt;/span&gt;&lt;/span&gt;&lt;/span&gt;&lt;/span&gt;&lt;/span&gt; &lt;span class=&quot;has-text-grey-light&quot;&gt;at hide-and-seek in the sky all night must &lt;/span&gt;&lt;/span&gt;&lt;/div&gt;&lt;/div&gt;&lt;/article&gt;&lt;article class=&quot;media&quot;&gt;&lt;div class=&quot;media-left&quot;&gt;&lt;p class=&quot;image is-64x64&quot;&gt;&lt;span class=&quot;buttons&quot;&gt;&lt;span class=&quot;has-text-weight-bold&quot;&gt;60.4%&lt;/span&gt;&lt;br /&gt;&lt;div&gt;&lt;/div&gt;&lt;/span&gt;&lt;/p&gt;&lt;/div&gt;&lt;div class=&quot;media-content&quot;&gt;&lt;span style=&quot;font-variant: small-caps;&quot;&gt;&lt;/span&gt;&lt;div class=&quot;is-pulled-right&quot;&gt;&lt;small&gt;Anonymous, &lt;/small&gt;&lt;small class=&quot;is-italic&quot;&gt;A Child&#x27;s Dream of a Star, &lt;/small&gt;&lt;small&gt;par. 20&lt;/small&gt;&lt;/div&gt;&lt;div&gt;&lt;br /&gt;&lt;br /&gt;&lt;span&gt;&lt;span class=&quot;has-text-grey-light&quot;&gt;joy.\n",
       "\n",
       "But there were many angels who did not &lt;/span&gt; &lt;span&gt;&lt;span style=&quot;display:inline-table;&quot;&gt;&lt;span style=&quot;display:table-row;&quot;&gt;&lt;span style=&quot;display:table-cell;&quot;&gt;&lt;span class=&quot;has-text-black has-text-weight-bold&quot;&gt;go&lt;/span&gt;&lt;/span&gt; &lt;span style=&quot;display:table-cell;&quot;&gt;&lt;span class=&quot;tag is-light&quot;&gt;play&lt;/span&gt;&lt;/span&gt; &lt;span style=&quot;display:table-cell; opacity:1.0;&quot;&gt;&lt;span class=&quot;tag is-warning&quot;&gt;60%&lt;/span&gt;&lt;/span&gt;&lt;/span&gt;&lt;/span&gt;&lt;/span&gt; &lt;span class=&quot;has-text-grey-light&quot;&gt;with them, and among them one he knew. The patient &lt;/span&gt;&lt;/span&gt;&lt;/div&gt;&lt;/div&gt;&lt;/article&gt;\n",
       "\t\t\t&lt;/div&gt;\n",
       "\t\t&lt;/div&gt;\n",
       "\t&lt;/body&gt;\n",
       "&lt;/html&gt;\"\n",
       "\t\t            frameborder=\"0\"\n",
       "\t\t            allowfullscreen\n",
       "\t\t        ></iframe>\n",
       "\t\t        <script>\n",
       "\t\t        \tvar f = document.getElementById(\"vectorian-iframe-1613910549881285000\");\n",
       "\t\t        \tf.onload = function() {\n",
       "\t\t\t        \tf.height = f.contentWindow.document.body.scrollHeight + \"px\";\n",
       "\t\t\t        };\n",
       "\t\t        </script>\n",
       "\t\t"
      ],
      "text/plain": [
       "<vectorian.session.LabResult at 0x7fa87fc72460>"
      ]
     },
     "execution_count": 11,
     "metadata": {},
     "output_type": "execute_result"
    }
   ],
   "source": [
    "r"
   ]
  },
  {
   "cell_type": "code",
   "execution_count": 6,
   "id": "sunset-indonesian",
   "metadata": {},
   "outputs": [
    {
     "name": "stderr",
     "output_type": "stream",
     "text": [
      "100%|██████████| 58/58 [00:00<00:00, 114.64it/s]\n"
     ]
    }
   ],
   "source": [
    "session = LabSession(\n",
    "    [doc],\n",
    "    [glove])"
   ]
  },
  {
   "cell_type": "code",
   "execution_count": 11,
   "id": "sized-western",
   "metadata": {},
   "outputs": [
    {
     "data": {
      "application/vnd.jupyter.widget-view+json": {
       "model_id": "",
       "version_major": 2,
       "version_minor": 0
      },
      "text/plain": [
       "FloatProgress(value=0.0, layout=Layout(width='100%'), max=1.0)"
      ]
     },
     "metadata": {},
     "output_type": "display_data"
    },
    {
     "data": {
      "text/html": [
       "\n",
       "\t\t        <iframe\n",
       "\t\t        \tid=\"vectorian-iframe-1613558883447023000\"\n",
       "\t\t            width=\"100%\"\n",
       "\t\t            height=\"100%\"\n",
       "\t\t            srcdoc=\"&lt;!DOCTYPE html&gt;\n",
       "&lt;html&gt;\n",
       "\t&lt;head&gt;\n",
       "\t\t&lt;meta charset=&quot;utf-8&quot;&gt;\n",
       "\t\t&lt;meta name=&quot;viewport&quot; content=&quot;width=device-width, initial-scale=1&quot;&gt;\n",
       "\t\t&lt;title&gt;Vectorian&lt;/title&gt;\n",
       "\t\t&lt;link rel=&quot;stylesheet&quot; href=&quot;https://cdn.jsdelivr.net/npm/bulma@0.9.1/css/bulma.min.css&quot;&gt;\n",
       "\t&lt;/head&gt;\n",
       "\t&lt;body&gt;\n",
       "\t\t&lt;div class=&quot;container&quot; height=&quot;100%&quot;&gt;\n",
       "\t\t\t&lt;div class=&quot;section&quot;&gt;\n",
       "&lt;!DOCTYPE html&gt;&lt;media&gt;&lt;mediaLeft&gt;&lt;p class=&quot;image is-64x64&quot;&gt;&lt;span class=&quot;buttons&quot;&gt;&lt;span class=&quot;has-text-weight-bold&quot;&gt;100.0%&lt;/span&gt;&lt;br /&gt;&lt;div&gt;&lt;/div&gt;&lt;/span&gt;&lt;/p&gt;&lt;/mediaLeft&gt;&lt;mediaContent&gt;&lt;span style=&quot;font-variant: small-caps;&quot;&gt;&lt;/span&gt;&lt;div class=&quot;is-pulled-right&quot;&gt;&lt;small&gt;Anonymous, &lt;/small&gt;&lt;small class=&quot;is-italic&quot;&gt;A Child&#x27;s Dream of a Star, &lt;/small&gt;&lt;small&gt;par. 4&lt;/small&gt;&lt;/div&gt;&lt;div&gt;&lt;br /&gt;&lt;br /&gt;&lt;span&gt;&lt;span class=&quot;has-text-grey-light&quot;&gt;\n",
       "\n",
       "A CHILD’S DREAM OF A STAR.\n",
       "\n",
       "\n",
       "&lt;/span&gt; &lt;span&gt;&lt;span style=&quot;display:inline-table;&quot;&gt;&lt;span style=&quot;display:table-row;&quot;&gt;&lt;span style=&quot;display:table-cell;&quot;&gt;&lt;span class=&quot;has-text-black has-text-weight-bold&quot;&gt;Short&lt;/span&gt;&lt;/span&gt; &lt;span style=&quot;display:table-cell;&quot;&gt;&lt;span class=&quot;has-text-grey-light&quot;&gt;short&lt;/span&gt;&lt;/span&gt; &lt;span style=&quot;display:table-cell; opacity:1.0;&quot;&gt;&lt;span class=&quot;tag is-success&quot;&gt;100%&lt;/span&gt;&lt;/span&gt;&lt;/span&gt;&lt;/span&gt;&lt;/span&gt; &lt;span class=&quot;has-text-grey-light&quot;&gt;Stories Table of Contents.\n",
       "\n",
       "THERE was once a child, &lt;/span&gt;&lt;/span&gt;&lt;/div&gt;&lt;/mediaContent&gt;&lt;/media&gt;&lt;media&gt;&lt;mediaLeft&gt;&lt;p class=&quot;image is-64x64&quot;&gt;&lt;span class=&quot;buttons&quot;&gt;&lt;span class=&quot;has-text-weight-bold&quot;&gt;67.0%&lt;/span&gt;&lt;br /&gt;&lt;div&gt;&lt;/div&gt;&lt;/span&gt;&lt;/p&gt;&lt;/mediaLeft&gt;&lt;mediaContent&gt;&lt;span style=&quot;font-variant: small-caps;&quot;&gt;&lt;/span&gt;&lt;div class=&quot;is-pulled-right&quot;&gt;&lt;small&gt;Anonymous, &lt;/small&gt;&lt;small class=&quot;is-italic&quot;&gt;A Child&#x27;s Dream of a Star, &lt;/small&gt;&lt;small&gt;par. 19&lt;/small&gt;&lt;/div&gt;&lt;div&gt;&lt;br /&gt;&lt;br /&gt;&lt;span&gt;&lt;span class=&quot;has-text-grey-light&quot;&gt;up into the star; and some came out from the &lt;/span&gt; &lt;span&gt;&lt;span style=&quot;display:inline-table;&quot;&gt;&lt;span style=&quot;display:table-row;&quot;&gt;&lt;span style=&quot;display:table-cell;&quot;&gt;&lt;span class=&quot;has-text-black has-text-weight-bold&quot;&gt;long&lt;/span&gt;&lt;/span&gt; &lt;span style=&quot;display:table-cell;&quot;&gt;&lt;span class=&quot;has-text-grey-light&quot;&gt;short&lt;/span&gt;&lt;/span&gt; &lt;span style=&quot;display:table-cell; opacity:1.0;&quot;&gt;&lt;span class=&quot;tag is-warning&quot;&gt;67%&lt;/span&gt;&lt;/span&gt;&lt;/span&gt;&lt;/span&gt;&lt;/span&gt; &lt;span class=&quot;has-text-grey-light&quot;&gt;rows in which they stood, and fell upon the people&lt;/span&gt;&lt;/span&gt;&lt;/div&gt;&lt;/mediaContent&gt;&lt;/media&gt;&lt;media&gt;&lt;mediaLeft&gt;&lt;p class=&quot;image is-64x64&quot;&gt;&lt;span class=&quot;buttons&quot;&gt;&lt;span class=&quot;has-text-weight-bold&quot;&gt;67.0%&lt;/span&gt;&lt;br /&gt;&lt;div&gt;&lt;/div&gt;&lt;/span&gt;&lt;/p&gt;&lt;/mediaLeft&gt;&lt;mediaContent&gt;&lt;span style=&quot;font-variant: small-caps;&quot;&gt;&lt;/span&gt;&lt;div class=&quot;is-pulled-right&quot;&gt;&lt;small&gt;Anonymous, &lt;/small&gt;&lt;small class=&quot;is-italic&quot;&gt;A Child&#x27;s Dream of a Star, &lt;/small&gt;&lt;small&gt;par. 15&lt;/small&gt;&lt;/div&gt;&lt;div&gt;&lt;br /&gt;&lt;br /&gt;&lt;span&gt;&lt;span class=&quot;has-text-grey-light&quot;&gt;among the graves, not there before; and when the star made &lt;/span&gt; &lt;span&gt;&lt;span style=&quot;display:inline-table;&quot;&gt;&lt;span style=&quot;display:table-row;&quot;&gt;&lt;span style=&quot;display:table-cell;&quot;&gt;&lt;span class=&quot;has-text-black has-text-weight-bold&quot;&gt;long&lt;/span&gt;&lt;/span&gt; &lt;span style=&quot;display:table-cell;&quot;&gt;&lt;span class=&quot;has-text-grey-light&quot;&gt;short&lt;/span&gt;&lt;/span&gt; &lt;span style=&quot;display:table-cell; opacity:1.0;&quot;&gt;&lt;span class=&quot;tag is-warning&quot;&gt;67%&lt;/span&gt;&lt;/span&gt;&lt;/span&gt;&lt;/span&gt;&lt;/span&gt; &lt;span class=&quot;has-text-grey-light&quot;&gt;rays down towards him, as he saw it through his &lt;/span&gt;&lt;/span&gt;&lt;/div&gt;&lt;/mediaContent&gt;&lt;/media&gt;&lt;media&gt;&lt;mediaLeft&gt;&lt;p class=&quot;image is-64x64&quot;&gt;&lt;span class=&quot;buttons&quot;&gt;&lt;span class=&quot;has-text-weight-bold&quot;&gt;67.0%&lt;/span&gt;&lt;br /&gt;&lt;div&gt;&lt;/div&gt;&lt;/span&gt;&lt;/p&gt;&lt;/mediaLeft&gt;&lt;mediaContent&gt;&lt;span style=&quot;font-variant: small-caps;&quot;&gt;&lt;/span&gt;&lt;div class=&quot;is-pulled-right&quot;&gt;&lt;small&gt;Anonymous, &lt;/small&gt;&lt;small class=&quot;is-italic&quot;&gt;A Child&#x27;s Dream of a Star, &lt;/small&gt;&lt;small&gt;par. 25&lt;/small&gt;&lt;/div&gt;&lt;div&gt;&lt;br /&gt;&lt;br /&gt;&lt;span&gt;&lt;span class=&quot;has-text-grey-light&quot;&gt;night; and the star was shining into the room, making &lt;/span&gt; &lt;span&gt;&lt;span style=&quot;display:inline-table;&quot;&gt;&lt;span style=&quot;display:table-row;&quot;&gt;&lt;span style=&quot;display:table-cell;&quot;&gt;&lt;span class=&quot;has-text-black has-text-weight-bold&quot;&gt;long&lt;/span&gt;&lt;/span&gt; &lt;span style=&quot;display:table-cell;&quot;&gt;&lt;span class=&quot;has-text-grey-light&quot;&gt;short&lt;/span&gt;&lt;/span&gt; &lt;span style=&quot;display:table-cell; opacity:1.0;&quot;&gt;&lt;span class=&quot;tag is-warning&quot;&gt;67%&lt;/span&gt;&lt;/span&gt;&lt;/span&gt;&lt;/span&gt;&lt;/span&gt; &lt;span class=&quot;has-text-grey-light&quot;&gt;rays down towards him as he saw it through his &lt;/span&gt;&lt;/span&gt;&lt;/div&gt;&lt;/mediaContent&gt;&lt;/media&gt;\n",
       "\t\t\t&lt;/div&gt;\n",
       "\t\t&lt;/div&gt;\n",
       "\t&lt;/body&gt;\n",
       "&lt;/html&gt;\"\n",
       "\t\t            frameborder=\"0\"\n",
       "\t\t            allowfullscreen\n",
       "\t\t        ></iframe>\n",
       "\t\t        <script>\n",
       "\t\t        \tvar f = document.getElementById(\"vectorian-iframe-1613558883447023000\");\n",
       "\t\t        \tf.onload = function() {\n",
       "\t\t\t        \tf.height = f.contentWindow.document.body.scrollHeight + \"px\";\n",
       "\t\t\t        };\n",
       "\t\t        </script>\n",
       "\t\t"
      ],
      "text/plain": [
       "<vectorian.session.LabResult at 0x7f860b43af70>"
      ]
     },
     "execution_count": 11,
     "metadata": {},
     "output_type": "execute_result"
    }
   ],
   "source": [
    "query = nlp(\"short\")\n",
    "r = session.find(query, n=3)\n",
    "r"
   ]
  },
  {
   "cell_type": "code",
   "execution_count": null,
   "id": "surface-warrant",
   "metadata": {},
   "outputs": [],
   "source": []
  },
  {
   "cell_type": "code",
   "execution_count": 1,
   "id": "capable-journalist",
   "metadata": {},
   "outputs": [
    {
     "data": {
      "image/png": "[encoded data removed]",
      "text/plain": [
       "<Figure size 864x216 with 1 Axes>"
      ]
     },
     "metadata": {
      "needs_background": "light"
     },
     "output_type": "display_data"
    }
   ],
   "source": [
    "from vectorian.alignment import LinearGapCost, WatermanSmithBeyer\n",
    "\n",
    "LinearGapCost(0.2)"
   ]
  },
  {
   "cell_type": "code",
   "execution_count": 3,
   "id": "expected-crime",
   "metadata": {},
   "outputs": [
    {
     "data": {
      "text/plain": [
       "{'algorithm': 'wsb', 'gap': array([0.2], dtype=float32), 'zero': 0.5}"
      ]
     },
     "execution_count": 3,
     "metadata": {},
     "output_type": "execute_result"
    }
   ],
   "source": [
    "#session.exponential_gap_costs(5)  # , 20)session.max_sentence_len\n",
    "\n",
    "waterman_smith_beyer(gap=0.2, zero=0.5)"
   ]
  },
  {
   "cell_type": "code",
   "execution_count": 5,
   "id": "whole-addition",
   "metadata": {},
   "outputs": [
    {
     "data": {
      "text/plain": [
       "True"
      ]
     },
     "execution_count": 5,
     "metadata": {},
     "output_type": "execute_result"
    }
   ],
   "source": [
    "r = session.find(query, n=3, options={\n",
    "    'alignment': WatermanSmithBeyer(gap=LinearGapCost(0.2), zero=0.5)\n",
    "})"
   ]
  },
  {
   "cell_type": "code",
   "execution_count": 3,
   "id": "physical-barrier",
   "metadata": {},
   "outputs": [
    {
     "data": {
      "text/plain": [
       "PosixPath('/Users/arbeit/Projects/vectorian-2021')"
      ]
     },
     "execution_count": 3,
     "metadata": {},
     "output_type": "execute_result"
    }
   ],
   "source": [
    "current_path"
   ]
  },
  {
   "cell_type": "markdown",
   "id": "recovered-louis",
   "metadata": {},
   "source": [
    "# Query Details Example"
   ]
  },
  {
   "cell_type": "code",
   "execution_count": 12,
   "id": "controversial-theory",
   "metadata": {},
   "outputs": [
    {
     "data": {
      "text/plain": [
       "'play'"
      ]
     },
     "execution_count": 12,
     "metadata": {},
     "output_type": "execute_result"
    }
   ],
   "source": [
    "r[0].query.text"
   ]
  },
  {
   "cell_type": "code",
   "execution_count": 13,
   "id": "younger-separation",
   "metadata": {},
   "outputs": [
    {
     "data": {
      "text/plain": [
       "6457"
      ]
     },
     "execution_count": 13,
     "metadata": {},
     "output_type": "execute_result"
    }
   ],
   "source": [
    "len(r[0].document.text)"
   ]
  },
  {
   "cell_type": "code",
   "execution_count": 14,
   "id": "parallel-brown",
   "metadata": {},
   "outputs": [
    {
     "data": {
      "text/plain": [
       "{'id': array([ 0,  1,  2, ...,  6,  6, -1], dtype=int32),\n",
       " 'idx': array([   0,    2,    7, ..., 6568, 6570, 6571], dtype=int32),\n",
       " 'len': array([1, 5, 4, ..., 2, 1, 0], dtype=int8),\n",
       " 'pos': array([ 0,  1,  1, ...,  3,  3, -1], dtype=int8),\n",
       " 'tag': array([ 0,  1,  1, ...,  3,  3, -1], dtype=int8)}"
      ]
     },
     "execution_count": 14,
     "metadata": {},
     "output_type": "execute_result"
    }
   ],
   "source": [
    "r[0].document.tokens"
   ]
  },
  {
   "cell_type": "code",
   "execution_count": 16,
   "id": "caroline-mediterranean",
   "metadata": {},
   "outputs": [
    {
     "data": {
      "text/plain": [
       "{'idx': array([66], dtype=int16),\n",
       " 'sim': array([0.7944386], dtype=float32),\n",
       " 'w': array([1.], dtype=float32)}"
      ]
     },
     "execution_count": 16,
     "metadata": {},
     "output_type": "execute_result"
    }
   ],
   "source": [
    "r[0].assignment"
   ]
  },
  {
   "cell_type": "code",
   "execution_count": 17,
   "id": "clear-ethiopia",
   "metadata": {},
   "outputs": [
    {
     "data": {
      "text/plain": [
       "{'book': -1,\n",
       " 'chapter': -1,\n",
       " 'speaker': -1,\n",
       " 'paragraph': 8,\n",
       " 'token_at': 110,\n",
       " 'n_tokens': 101}"
      ]
     },
     "execution_count": 17,
     "metadata": {},
     "output_type": "execute_result"
    }
   ],
   "source": [
    "sent = r[0].document.sentence(r[0].sentence)\n",
    "sent"
   ]
  },
  {
   "cell_type": "code",
   "execution_count": null,
   "id": "aggressive-biography",
   "metadata": {},
   "outputs": [],
   "source": []
  },
  {
   "cell_type": "code",
   "execution_count": 20,
   "id": "temporal-sessions",
   "metadata": {},
   "outputs": [
    {
     "name": "stdout",
     "output_type": "stream",
     "text": [
      "match with:  playing\n",
      "sim:  0.7944386\n"
     ]
    }
   ],
   "source": [
    "index = r[0].assignment[\"idx\"][0] + sent[\"token_at\"]\n",
    "start = r[0].document.tokens[\"idx\"][index]\n",
    "end = start + r[0].document.tokens[\"len\"][index]\n",
    "print(\"match with: \", r[0].document.substr(start, end))\n",
    "print(\"sim: \", r[0].assignment[\"sim\"][0])"
   ]
  },
  {
   "cell_type": "code",
   "execution_count": 13,
   "id": "official-reference",
   "metadata": {},
   "outputs": [
    {
     "data": {
      "text/plain": [
       "<vectorian.corpus.document.Document at 0x7fe7c88ca040>"
      ]
     },
     "execution_count": 13,
     "metadata": {},
     "output_type": "execute_result"
    }
   ],
   "source": [
    "doc"
   ]
  },
  {
   "cell_type": "code",
   "execution_count": 8,
   "id": "coastal-mouth",
   "metadata": {},
   "outputs": [],
   "source": [
    "doc.save(\"/Users/arbeit/Desktop/doc.json\")"
   ]
  },
  {
   "cell_type": "code",
   "execution_count": 12,
   "id": "appreciated-valley",
   "metadata": {},
   "outputs": [
    {
     "name": "stdout",
     "output_type": "stream",
     "text": [
      "partition 1:\n",
      "  sentence 1:\n",
      "    A Child’s Dream Of A Star.\n",
      "  sentence 2:\n",
      "    \n",
      "\n",
      "\n",
      "partition 2:\n",
      "  sentence 1:\n",
      "    \n",
      "\n",
      "\n",
      "partition 3:\n",
      "  sentence 1:\n",
      "    \n",
      "\n",
      "\n",
      "partition 4:\n",
      "  sentence 1:\n",
      "    A CHILD’S DREAM OF A STAR.\n",
      "  sentence 2:\n",
      "    \n",
      "\n",
      "\n",
      "partition 5:\n",
      "  sentence 1:\n",
      "    \n",
      "Short Stories Table of Contents.\n",
      "  sentence 2:\n",
      "    \n",
      "\n",
      "\n",
      "partition 6:\n",
      "  sentence 1:\n",
      "    THERE was once a child, and he strolled about a good deal, and thought of a number of things.\n",
      "  sentence 2:\n",
      "    He had a sister, who was a child too, and his constant companion.\n",
      "  sentence 3:\n",
      "    These two used to wonder all day long.\n",
      "  sentence 4:\n",
      "    They wondered at the beauty of the flowers; they wondered at the height and blueness of the sky; they wondered at the depth of the bright water; they wondered at the goodness and the power of God, who made the lovely world.\n",
      "  sentence 5:\n",
      "    \n",
      "\n",
      "\n",
      "partition 7:\n",
      "  sentence 1:\n",
      "    \n",
      "\n",
      "\n",
      "partition 8:\n",
      "  sentence 1:\n",
      "    \n",
      "\n",
      "\n",
      "partition 9:\n",
      "  sentence 1:\n",
      "    They used to say to one another, sometimes,\n",
      "  sentence 2:\n",
      "    Supposing all the children upon earth were to die, would the flowers and the water and the sky be sorry?\n",
      "  sentence 3:\n",
      "    They believed they would be sorry.\n",
      "  sentence 4:\n",
      "    For, said they, the buds are the children of the flowers, and the little playful streams that gambol down the hillsides are the children of the water; and the smallest bright specks playing at hide-and-seek in the sky all night must surely be the children of the stars; and they would all be grieved to see their playmates, the children of men, no more.\n",
      "  sentence 5:\n",
      "    \n",
      "\n",
      "\n",
      "partition 10:\n",
      "  sentence 1:\n",
      "    There was one clear shining star that used to come out in the sky before the rest, near the church-spire, above the graves.\n",
      "  sentence 2:\n",
      "    It was larger and more beautiful, they thought, than all the others, and every night they watched for it, standing hand in hand at a window.\n",
      "  sentence 3:\n",
      "    Whoever saw it first cried out, “I see the star!”\n",
      "  sentence 4:\n",
      "    And often they cried out both together, knowing so well when it would rise and where.\n",
      "  sentence 5:\n",
      "    So they grew to be such friends with it, that, before lying down in their beds, they always looked out once again, to bid it good night; and when they were turning round to sleep, they used to say, “God bless the star!”\n",
      "  sentence 6:\n",
      "    \n",
      "\n",
      "\n",
      "partition 11:\n",
      "  sentence 1:\n",
      "    \n",
      "\n",
      "\n",
      "partition 12:\n",
      "  sentence 1:\n",
      "    \n",
      "\n",
      "\n",
      "partition 13:\n",
      "  sentence 1:\n",
      "    But while she was still very young, O, very, very young, the sister drooped, and came to be so weak that she could no longer stand in the window at night; and then the child looked sadly out by himself, and when he saw the star, turned round and said to the patient pale face on the bed, “I see the star!”\n",
      "  sentence 2:\n",
      "    And then a smile would come upon the face, and a little weak voice used to say, “God bless my brother and the star!”\n",
      "  sentence 3:\n",
      "    \n",
      "\n",
      "\n",
      "partition 14:\n",
      "  sentence 1:\n",
      "    \n",
      "\n",
      "\n",
      "partition 15:\n",
      "  sentence 1:\n",
      "    \n",
      "\n",
      "\n",
      "partition 16:\n",
      "  sentence 1:\n",
      "    And so the time came, all too soon!\n",
      "  sentence 2:\n",
      "    when the child looked out alone, and when there was no face on the bed; and when there was a little grave among the graves, not there before; and when the star made long rays down towards him, as he saw it through his tears.\n",
      "  sentence 3:\n",
      "    \n",
      "\n",
      "\n",
      "partition 17:\n",
      "  sentence 1:\n",
      "    Now, these rays were so bright, and they seemed to make such a shining way from earth to heaven, that when the child went to his solitary bed, he dreamed about the star; and dreamed that, lying where he was, he saw a train of people taken up that sparkling road by angels.\n",
      "  sentence 2:\n",
      "    And the star, opening, showed him a great world of light, where many more such angels waited to receive them.\n",
      "  sentence 3:\n",
      "    \n",
      "\n",
      "\n",
      "partition 18:\n",
      "  sentence 1:\n",
      "    \n",
      "\n",
      "\n",
      "partition 19:\n",
      "  sentence 1:\n",
      "    \n",
      "\n",
      "\n",
      "partition 20:\n",
      "  sentence 1:\n",
      "    All these angels, who were waiting, turned their beaming eyes upon the people who were carried up into the star; and some came out from the long rows in which they stood, and fell upon the people’s necks, and kissed them tenderly, and went away with them down avenues of light, and were so happy in their company, that, lying in his bed, he wept for joy.\n",
      "  sentence 2:\n",
      "    \n",
      "\n",
      "\n",
      "partition 21:\n",
      "  sentence 1:\n",
      "    But there were many angels who did not go with them, and among them one he knew.\n",
      "  sentence 2:\n",
      "    The patient face that once had lain upon the bed was glorified and radiant, but his heart found out his sister among all the host.\n",
      "  sentence 3:\n",
      "    \n",
      "\n",
      "\n",
      "partition 22:\n",
      "  sentence 1:\n",
      "    \n",
      "\n",
      "\n",
      "partition 23:\n",
      "  sentence 1:\n",
      "    \n",
      "\n",
      "\n",
      "partition 24:\n",
      "  sentence 1:\n",
      "    His sister’s angel lingered near the entrance of the star, and said to the leader among those who had brought the people thither, “Is my brother come?””\n",
      "  sentence 2:\n",
      "    \n",
      "\n",
      "\n",
      "partition 25:\n",
      "  sentence 1:\n",
      "    And he said, “No.”\n",
      "  sentence 2:\n",
      "    \n",
      "\n",
      "\n",
      "partition 26:\n",
      "  sentence 1:\n",
      "    She was turning hopefully away, when the child stretched out his arms, and cried, “O sister, I am here!\n",
      "  sentence 2:\n",
      "    Take me!”\n",
      "  sentence 3:\n",
      "    And then she turned her beaming eyes upon him, and it was night; and the star was shining into the room, making long rays down towards him as he saw it through his tears.\n",
      "  sentence 4:\n",
      "    \n",
      "\n",
      "\n",
      "partition 27:\n",
      "  sentence 1:\n",
      "    From that hour forth, the child looked out upon the star as on the home he was to go to, when his time should come; and he thought that he did not belong to the earth alone, but to the star too, because of his sister’s angel gone before.\n",
      "  sentence 2:\n",
      "    \n",
      "\n",
      "\n",
      "partition 28:\n",
      "  sentence 1:\n",
      "    \n",
      "\n",
      "\n",
      "partition 29:\n",
      "  sentence 1:\n",
      "    \n",
      "\n",
      "\n",
      "partition 30:\n",
      "  sentence 1:\n",
      "    There was a baby born to be a brother to the child; and while he was so little that he never yet had spoken word, he stretched his tiny form out on his bed, and died.\n",
      "  sentence 2:\n",
      "    \n",
      "\n",
      "\n",
      "partition 31:\n",
      "  sentence 1:\n",
      "    Again the child dreamed of the opened star, and of the company of angels, and the train of people, and the rows of angels with their beaming eyes all turned upon those people’s faces.\n",
      "  sentence 2:\n",
      "    \n",
      "\n",
      "\n",
      "partition 32:\n",
      "  sentence 1:\n",
      "    Said his sister’s angel to the leader, “Is my brother come?”\n",
      "  sentence 2:\n",
      "    \n",
      "\n",
      "\n",
      "partition 33:\n",
      "  sentence 1:\n",
      "    \n",
      "\n",
      "\n",
      "partition 34:\n",
      "  sentence 1:\n",
      "    \n",
      "\n",
      "\n",
      "partition 35:\n",
      "  sentence 1:\n",
      "    And he said, “Not that one, but another.”\n",
      "  sentence 2:\n",
      "    \n",
      "\n",
      "\n",
      "partition 36:\n",
      "  sentence 1:\n",
      "    As the child beheld his brother’s angel in her arms, he cried, “O sister, I am here!\n",
      "  sentence 2:\n",
      "    Take me!”\n",
      "  sentence 3:\n",
      "    And she turned and smiled upon him, and the star was shining.\n",
      "  sentence 4:\n",
      "    \n",
      "\n",
      "\n",
      "partition 37:\n",
      "  sentence 1:\n",
      "    He grew to be a young man, and was busy at his books when an old servant came to him and said, “Thy mother is no more.\n",
      "  sentence 2:\n",
      "    I bring her blessing on her darling son!”\n",
      "  sentence 3:\n",
      "    \n",
      "\n",
      "\n",
      "partition 38:\n",
      "  sentence 1:\n",
      "    Again at night he saw the star, and all that former company.\n",
      "  sentence 2:\n",
      "    Said his sister’s angel to the leader, “Is my brother come?”\n",
      "  sentence 3:\n",
      "    \n",
      "\n",
      "\n",
      "partition 39:\n",
      "  sentence 1:\n",
      "    And he said, “Thy mother!”\n",
      "  sentence 2:\n",
      "    \n",
      "\n",
      "\n",
      "partition 40:\n",
      "  sentence 1:\n",
      "    A mighty cry of joy went forth through all the star, because the mother was reunited to her two children.\n",
      "  sentence 2:\n",
      "    And he stretched out his arms and cried, “O mother, sister, and brother, I am here!\n",
      "  sentence 3:\n",
      "    Take me!”\n",
      "  sentence 4:\n",
      "    \n",
      "\n",
      "\n",
      "partition 41:\n",
      "  sentence 1:\n",
      "    \n",
      "\n",
      "\n",
      "partition 42:\n",
      "  sentence 1:\n",
      "    \n",
      "\n",
      "\n",
      "partition 43:\n",
      "  sentence 1:\n",
      "    And they answered him, “Not yet.”\n",
      "  sentence 2:\n",
      "    And the star was shining.\n",
      "  sentence 3:\n",
      "    \n",
      "\n",
      "\n",
      "partition 44:\n",
      "  sentence 1:\n",
      "    He grew to be a man, whose hair was turning gray; and he was sitting in his chair by the fireside, heavy with grief, and with his face bedewed with tears, when the star opened once again.\n",
      "  sentence 2:\n",
      "    \n",
      "\n",
      "\n",
      "partition 45:\n",
      "  sentence 1:\n",
      "    Said his sister’s angel to the leader, “Is my brother come?”\n",
      "  sentence 2:\n",
      "    \n",
      "\n",
      "\n",
      "partition 46:\n",
      "  sentence 1:\n",
      "    And he said, “Nay, but his maiden daughter.”\n",
      "  sentence 2:\n",
      "    \n",
      "\n",
      "\n",
      "partition 47:\n",
      "  sentence 1:\n",
      "    And the man who had been the child saw his daughter, newly lost to him, a celestial creature among those three, and he said, “My daughter’s head is on my sister’s bosom, and her arm is round my mother’s neck, and at her feet there is the baby of old time, and I can bear the parting from her, God be praised!””\n",
      "  sentence 2:\n",
      "    \n",
      "\n",
      "\n",
      "partition 48:\n",
      "  sentence 1:\n",
      "    \n",
      "\n",
      "\n",
      "partition 49:\n",
      "  sentence 1:\n",
      "    \n",
      "\n",
      "\n",
      "partition 50:\n",
      "  sentence 1:\n",
      "    And the star was shining.\n",
      "  sentence 2:\n",
      "    \n",
      "\n",
      "\n",
      "partition 51:\n",
      "  sentence 1:\n",
      "    Thus the child came to be an old man, and his once smooth face was wrinkled, and his steps were slow and feeble, and his back was bent.\n",
      "  sentence 2:\n",
      "    And one night as he lay upon his bed, his children standing round, he cried, as he had cried so long ago, “I see the star!”\n",
      "  sentence 3:\n",
      "    \n",
      "\n",
      "\n",
      "partition 52:\n",
      "  sentence 1:\n",
      "    They whispered one another, “He is dying.”\n",
      "  sentence 2:\n",
      "    \n",
      "\n",
      "\n",
      "partition 53:\n",
      "  sentence 1:\n",
      "    And he said, “I am.\n",
      "  sentence 2:\n",
      "    My age is falling from me like a garment, and I move towards the star as a child.\n",
      "  sentence 3:\n",
      "    And O my Father, now I thank thee that it has so often opened to receive those dear ones who await me!”\n",
      "  sentence 4:\n",
      "    \n",
      "\n",
      "\n",
      "partition 54:\n",
      "  sentence 1:\n",
      "    \n",
      "\n",
      "\n",
      "partition 55:\n",
      "  sentence 1:\n",
      "    \n",
      "\n",
      "\n",
      "partition 56:\n",
      "  sentence 1:\n",
      "    And the star was shining; and it shines upon his grave.\n",
      "  sentence 2:\n",
      "    \n",
      "\n",
      "\n",
      "partition 57:\n",
      "  sentence 1:\n",
      "    \n",
      "\n",
      "\n",
      "partition 58:\n",
      "  sentence 1:\n",
      "    \n",
      "\n"
     ]
    }
   ],
   "source": [
    "print(doc.structure)"
   ]
  },
  {
   "cell_type": "markdown",
   "id": "delayed-trinity",
   "metadata": {},
   "source": [
    "# Interactive GUI"
   ]
  },
  {
   "cell_type": "code",
   "execution_count": 11,
   "id": "equivalent-venue",
   "metadata": {},
   "outputs": [
    {
     "data": {
      "application/vnd.jupyter.widget-view+json": {
       "model_id": "",
       "version_major": 2,
       "version_minor": 0
      },
      "text/plain": [
       "FloatProgress(value=0.0, layout=Layout(width='100%'), max=1.0)"
      ]
     },
     "metadata": {},
     "output_type": "display_data"
    },
    {
     "data": {
      "text/html": [
       "\n",
       "\t\t        <iframe\n",
       "\t\t        \tid=\"vectorian-iframe-1614007334432271000\"\n",
       "\t\t            width=\"100%\"\n",
       "\t\t            height=\"100%\"\n",
       "\t\t            srcdoc=\"&lt;!DOCTYPE html&gt;\n",
       "&lt;html&gt;\n",
       "\t&lt;head&gt;\n",
       "\t\t&lt;meta charset=&quot;utf-8&quot;&gt;\n",
       "\t\t&lt;meta name=&quot;viewport&quot; content=&quot;width=device-width, initial-scale=1&quot;&gt;\n",
       "\t\t&lt;title&gt;Vectorian&lt;/title&gt;\n",
       "\t\t&lt;link rel=&quot;stylesheet&quot; href=&quot;https://cdn.jsdelivr.net/npm/bulma@0.9.1/css/bulma.min.css&quot;&gt;\n",
       "\t&lt;/head&gt;\n",
       "\t&lt;body&gt;\n",
       "\t\t&lt;div class=&quot;container&quot; height=&quot;100%&quot;&gt;\n",
       "\t\t\t&lt;div class=&quot;section&quot;&gt;\n",
       "&lt;!DOCTYPE html&gt;&lt;article class=&quot;media&quot;&gt;&lt;div class=&quot;media-left&quot;&gt;&lt;p class=&quot;image is-64x64&quot;&gt;&lt;span class=&quot;buttons&quot;&gt;&lt;span class=&quot;has-text-weight-bold&quot;&gt;73.6%&lt;/span&gt;&lt;br /&gt;&lt;div&gt;&lt;/div&gt;&lt;/span&gt;&lt;/p&gt;&lt;/div&gt;&lt;div class=&quot;media-content&quot;&gt;&lt;span style=&quot;font-variant: small-caps;&quot;&gt;&lt;/span&gt;&lt;div class=&quot;is-pulled-right&quot;&gt;&lt;small&gt;Anonymous, &lt;/small&gt;&lt;small class=&quot;is-italic&quot;&gt;A Child&#x27;s Dream of a Star, &lt;/small&gt;&lt;small&gt;par. 9&lt;/small&gt;&lt;/div&gt;&lt;div&gt;&lt;br /&gt;&lt;br /&gt;&lt;span&gt;&lt;span class=&quot;has-text-grey-light&quot;&gt;rest, near the church-spire, above the graves. It was &lt;/span&gt; &lt;span&gt;&lt;span style=&quot;display:inline-table;&quot;&gt;&lt;span style=&quot;display:table-row;&quot;&gt;&lt;span style=&quot;display:table-cell;&quot;&gt;&lt;span class=&quot;has-text-black has-text-weight-bold&quot;&gt;larger&lt;/span&gt;&lt;/span&gt; &lt;span style=&quot;display:table-cell;&quot;&gt;&lt;span class=&quot;tag is-light&quot;&gt;large&lt;/span&gt;&lt;/span&gt; &lt;span style=&quot;display:table-cell; opacity:0.800000011920929;&quot;&gt;&lt;span class=&quot;tag is-warning&quot;&gt;73%&lt;/span&gt;&lt;/span&gt;&lt;/span&gt;&lt;/span&gt;&lt;/span&gt; &lt;span class=&quot;has-text-grey-light&quot;&gt;and more beautiful, they thought, than all the others, and &lt;/span&gt;&lt;/span&gt;&lt;/div&gt;&lt;/div&gt;&lt;/article&gt;&lt;article class=&quot;media&quot;&gt;&lt;div class=&quot;media-left&quot;&gt;&lt;p class=&quot;image is-64x64&quot;&gt;&lt;span class=&quot;buttons&quot;&gt;&lt;span class=&quot;has-text-weight-bold&quot;&gt;70.9%&lt;/span&gt;&lt;br /&gt;&lt;div&gt;&lt;/div&gt;&lt;/span&gt;&lt;/p&gt;&lt;/div&gt;&lt;div class=&quot;media-content&quot;&gt;&lt;span style=&quot;font-variant: small-caps;&quot;&gt;&lt;/span&gt;&lt;div class=&quot;is-pulled-right&quot;&gt;&lt;small&gt;Anonymous, &lt;/small&gt;&lt;small class=&quot;is-italic&quot;&gt;A Child&#x27;s Dream of a Star, &lt;/small&gt;&lt;small&gt;par. 29&lt;/small&gt;&lt;/div&gt;&lt;div&gt;&lt;br /&gt;&lt;br /&gt;&lt;span&gt;&lt;span class=&quot;has-text-grey-light&quot;&gt;that he never yet had spoken word, he stretched his &lt;/span&gt; &lt;span&gt;&lt;span style=&quot;display:inline-table;&quot;&gt;&lt;span style=&quot;display:table-row;&quot;&gt;&lt;span style=&quot;display:table-cell;&quot;&gt;&lt;span class=&quot;has-text-black has-text-weight-bold&quot;&gt;tiny&lt;/span&gt;&lt;/span&gt; &lt;span style=&quot;display:table-cell;&quot;&gt;&lt;span class=&quot;tag is-light&quot;&gt;large&lt;/span&gt;&lt;/span&gt; &lt;span style=&quot;display:table-cell; opacity:0.800000011920929;&quot;&gt;&lt;span class=&quot;tag is-warning&quot;&gt;70%&lt;/span&gt;&lt;/span&gt;&lt;/span&gt;&lt;/span&gt;&lt;/span&gt; &lt;span class=&quot;has-text-grey-light&quot;&gt;form out on his bed, and died.\n",
       "\n",
       "Again the &lt;/span&gt;&lt;/span&gt;&lt;/div&gt;&lt;/div&gt;&lt;/article&gt;&lt;article class=&quot;media&quot;&gt;&lt;div class=&quot;media-left&quot;&gt;&lt;p class=&quot;image is-64x64&quot;&gt;&lt;span class=&quot;buttons&quot;&gt;&lt;span class=&quot;has-text-weight-bold&quot;&gt;62.5%&lt;/span&gt;&lt;br /&gt;&lt;div&gt;&lt;div style=&quot;text-decoration: line-through;&quot;&gt;large&lt;/div&gt;&lt;/div&gt;&lt;/span&gt;&lt;/p&gt;&lt;/div&gt;&lt;div class=&quot;media-content&quot;&gt;&lt;span style=&quot;font-variant: small-caps;&quot;&gt;&lt;/span&gt;&lt;div class=&quot;is-pulled-right&quot;&gt;&lt;small&gt;Anonymous, &lt;/small&gt;&lt;small class=&quot;is-italic&quot;&gt;A Child&#x27;s Dream of a Star, &lt;/small&gt;&lt;small&gt;par. 0&lt;/small&gt;&lt;/div&gt;&lt;div&gt;&lt;br /&gt;&lt;br /&gt;&lt;span&gt;&lt;span class=&quot;has-text-grey-light&quot;&gt;A Child’s Dream Of A Star.\n",
       "\n",
       "\n",
       "\n",
       "\n",
       "\n",
       "&lt;/span&gt;&lt;/span&gt;&lt;/div&gt;&lt;/div&gt;&lt;/article&gt;\n",
       "\t\t\t&lt;/div&gt;\n",
       "\t\t&lt;/div&gt;\n",
       "\t&lt;/body&gt;\n",
       "&lt;/html&gt;\"\n",
       "\t\t            frameborder=\"0\"\n",
       "\t\t            allowfullscreen\n",
       "\t\t        ></iframe>\n",
       "\t\t        <script>\n",
       "\t\t        \tvar f = document.getElementById(\"vectorian-iframe-1614007334432271000\");\n",
       "\t\t        \tf.onload = function() {\n",
       "\t\t\t        \tf.height = f.contentWindow.document.body.scrollHeight + \"px\";\n",
       "\t\t\t        };\n",
       "\t\t        </script>\n",
       "\t\t"
      ],
      "text/plain": [
       "<vectorian.session.LabResult at 0x7f85c053a430>"
      ]
     },
     "execution_count": 11,
     "metadata": {},
     "output_type": "execute_result"
    }
   ],
   "source": [
    "query = nlp(\"large\")\n",
    "r = session.find(query, n=3, options={'tag_weights': {\n",
    "    'JJ': 0.8\n",
    "}})\n",
    "r"
   ]
  },
  {
   "cell_type": "markdown",
   "id": "cheap-bolivia",
   "metadata": {},
   "source": [
    "# Sentence Embeddings"
   ]
  },
  {
   "cell_type": "code",
   "execution_count": 1,
   "id": "statutory-jersey",
   "metadata": {},
   "outputs": [],
   "source": [
    "from pathlib import Path\n",
    "\n",
    "import os\n",
    "import sys\n",
    "\n",
    "current_path = Path(os.getcwd())\n",
    "sys.path.append(str(current_path))\n",
    "\n",
    "import vectorian"
   ]
  },
  {
   "cell_type": "code",
   "execution_count": 2,
   "id": "inclusive-praise",
   "metadata": {},
   "outputs": [],
   "source": [
    "from sentence_transformers import SentenceTransformer\n",
    "model = SentenceTransformer('paraphrase-distilroberta-base-v1')"
   ]
  },
  {
   "cell_type": "code",
   "execution_count": 3,
   "id": "local-transsexual",
   "metadata": {},
   "outputs": [
    {
     "name": "stdout",
     "output_type": "stream",
     "text": [
      "Matching checksum for /Users/arbeit/Projects/vectorian-2021/vectorian/core/cpp/core.cpp --> not compiling\n"
     ]
    }
   ],
   "source": [
    "from vectorian.metrics import SentenceEmbeddingMetric\n",
    "metric = SentenceEmbeddingMetric(model.encode)"
   ]
  },
  {
   "cell_type": "code",
   "execution_count": 4,
   "id": "mighty-romantic",
   "metadata": {},
   "outputs": [],
   "source": [
    "import spacy\n",
    "nlp = spacy.load(\"en_core_web_sm\")"
   ]
  },
  {
   "cell_type": "code",
   "execution_count": 5,
   "id": "sensitive-purpose",
   "metadata": {},
   "outputs": [
    {
     "name": "stderr",
     "output_type": "stream",
     "text": [
      "100%|██████████| 1/1 [00:00<00:00, 43.15it/s]\n",
      "100%|██████████| 1/1 [00:00<00:00, 42.01it/s]\n",
      "encoding: 100%|██████████| 2/2 [00:00<00:00, 15.67it/s]\n"
     ]
    }
   ],
   "source": [
    "from vectorian.importers import StringImporter\n",
    "from vectorian.session import LabSession\n",
    "\n",
    "im = StringImporter(nlp)\n",
    "docs = [im(x) for x in [\n",
    "    \"Hey, ye want to talk like a pirate, eh?\",\n",
    "    \"Summer strolls are beautiful.\"]]\n",
    "\n",
    "session = LabSession(docs)\n",
    "index = session.index_for_metric(metric)"
   ]
  },
  {
   "cell_type": "code",
   "execution_count": 10,
   "id": "difficult-nation",
   "metadata": {},
   "outputs": [
    {
     "data": {
      "application/vnd.jupyter.widget-view+json": {
       "model_id": "",
       "version_major": 2,
       "version_minor": 0
      },
      "text/plain": [
       "FloatProgress(value=0.0, layout=Layout(width='100%'), max=1.0)"
      ]
     },
     "metadata": {},
     "output_type": "display_data"
    },
    {
     "name": "stdout",
     "output_type": "stream",
     "text": [
      "0.5878901183605194 0.17578024\n",
      "0.5659092590212822 0.13181852\n"
     ]
    },
    {
     "data": {
      "text/html": [
       "\n",
       "\t\t        <iframe\n",
       "\t\t        \tid=\"vectorian-iframe-1614277261908087000\"\n",
       "\t\t            width=\"100%\"\n",
       "\t\t            height=\"100%\"\n",
       "\t\t            srcdoc=\"&lt;!DOCTYPE html&gt;\n",
       "&lt;html&gt;\n",
       "\t&lt;head&gt;\n",
       "\t\t&lt;meta charset=&quot;utf-8&quot;&gt;\n",
       "\t\t&lt;meta name=&quot;viewport&quot; content=&quot;width=device-width, initial-scale=1&quot;&gt;\n",
       "\t\t&lt;title&gt;Vectorian&lt;/title&gt;\n",
       "\t\t&lt;link rel=&quot;stylesheet&quot; href=&quot;https://cdn.jsdelivr.net/npm/bulma@0.9.1/css/bulma.min.css&quot;&gt;\n",
       "\t&lt;/head&gt;\n",
       "\t&lt;body&gt;\n",
       "\t\t&lt;div class=&quot;container&quot; height=&quot;100%&quot;&gt;\n",
       "\t\t\t&lt;div class=&quot;section&quot;&gt;\n",
       "&lt;!DOCTYPE html&gt;&lt;article class=&quot;media&quot;&gt;&lt;div class=&quot;media-left&quot;&gt;&lt;p class=&quot;image is-64x64&quot;&gt;&lt;span class=&quot;buttons&quot;&gt;&lt;span class=&quot;has-text-weight-bold&quot;&gt;58.8%&lt;/span&gt;&lt;br /&gt;&lt;div&gt;&lt;/div&gt;&lt;/span&gt;&lt;/p&gt;&lt;/div&gt;&lt;div class=&quot;media-content&quot;&gt;&lt;div class=&quot;is-pulled-right&quot;&gt;&lt;small&gt;par. 1&lt;/small&gt;&lt;/div&gt;&lt;div&gt;&lt;br /&gt;&lt;br /&gt;&lt;span&gt;&lt;span class=&quot;has-text-grey-light&quot;&gt;Hey, ye want to talk like a pirate, eh&lt;/span&gt;&lt;/span&gt;&lt;/div&gt;&lt;/div&gt;&lt;/article&gt;&lt;article class=&quot;media&quot;&gt;&lt;div class=&quot;media-left&quot;&gt;&lt;p class=&quot;image is-64x64&quot;&gt;&lt;span class=&quot;buttons&quot;&gt;&lt;span class=&quot;has-text-weight-bold&quot;&gt;56.6%&lt;/span&gt;&lt;br /&gt;&lt;div&gt;&lt;/div&gt;&lt;/span&gt;&lt;/p&gt;&lt;/div&gt;&lt;div class=&quot;media-content&quot;&gt;&lt;div class=&quot;is-pulled-right&quot;&gt;&lt;small&gt;par. 1&lt;/small&gt;&lt;/div&gt;&lt;div&gt;&lt;br /&gt;&lt;br /&gt;&lt;span&gt;&lt;span class=&quot;has-text-grey-light&quot;&gt;Summer strolls are beautiful&lt;/span&gt;&lt;/span&gt;&lt;/div&gt;&lt;/div&gt;&lt;/article&gt;\n",
       "\t\t\t&lt;/div&gt;\n",
       "\t\t&lt;/div&gt;\n",
       "\t&lt;/body&gt;\n",
       "&lt;/html&gt;\"\n",
       "\t\t            frameborder=\"0\"\n",
       "\t\t            allowfullscreen\n",
       "\t\t        ></iframe>\n",
       "\t\t        <script>\n",
       "\t\t        \tvar f = document.getElementById(\"vectorian-iframe-1614277261908087000\");\n",
       "\t\t        \tf.onload = function() {\n",
       "\t\t\t        \tf.height = f.contentWindow.document.body.scrollHeight + \"px\";\n",
       "\t\t\t        };\n",
       "\t\t        </script>\n",
       "\t\t"
      ],
      "text/plain": [
       "<vectorian.session.LabResult at 0x7fca06ed7280>"
      ]
     },
     "execution_count": 10,
     "metadata": {},
     "output_type": "execute_result"
    }
   ],
   "source": [
    "index.find(nlp(\"ship\"))"
   ]
  },
  {
   "cell_type": "code",
   "execution_count": 6,
   "id": "blond-botswana",
   "metadata": {},
   "outputs": [
    {
     "name": "stderr",
     "output_type": "stream",
     "text": [
      "A Child's Dream of a Star: 100%|██████████| 58/58 [00:00<00:00, 102.38it/s]\n",
      "encoding: 100%|██████████| 1/1 [00:04<00:00,  4.35s/it]\n"
     ]
    }
   ],
   "source": [
    "from vectorian.importers import NovelImporter\n",
    "from vectorian.session import LabSession\n",
    "\n",
    "im = NovelImporter(nlp)\n",
    "doc = im(\"/Users/arbeit/A Child's Dream of a Star.txt\")\n",
    "session = LabSession([doc])\n",
    "index = session.index_for_metric(metric)"
   ]
  },
  {
   "cell_type": "code",
   "execution_count": 19,
   "id": "listed-orientation",
   "metadata": {},
   "outputs": [
    {
     "data": {
      "application/vnd.jupyter.widget-view+json": {
       "model_id": "",
       "version_major": 2,
       "version_minor": 0
      },
      "text/plain": [
       "FloatProgress(value=0.0, layout=Layout(width='100%'), max=1.0)"
      ]
     },
     "metadata": {},
     "output_type": "display_data"
    },
    {
     "data": {
      "text/html": [
       "\n",
       "\t\t        <iframe\n",
       "\t\t        \tid=\"vectorian-iframe-1614278758755708000\"\n",
       "\t\t            width=\"100%\"\n",
       "\t\t            height=\"100%\"\n",
       "\t\t            srcdoc=\"&lt;!DOCTYPE html&gt;\n",
       "&lt;html&gt;\n",
       "\t&lt;head&gt;\n",
       "\t\t&lt;meta charset=&quot;utf-8&quot;&gt;\n",
       "\t\t&lt;meta name=&quot;viewport&quot; content=&quot;width=device-width, initial-scale=1&quot;&gt;\n",
       "\t\t&lt;title&gt;Vectorian&lt;/title&gt;\n",
       "\t\t&lt;link rel=&quot;stylesheet&quot; href=&quot;https://cdn.jsdelivr.net/npm/bulma@0.9.1/css/bulma.min.css&quot;&gt;\n",
       "\t&lt;/head&gt;\n",
       "\t&lt;body&gt;\n",
       "\t\t&lt;div class=&quot;container&quot; height=&quot;100%&quot;&gt;\n",
       "\t\t\t&lt;div class=&quot;section&quot;&gt;\n",
       "&lt;!DOCTYPE html&gt;&lt;article class=&quot;media&quot;&gt;&lt;div class=&quot;media-left&quot;&gt;&lt;p class=&quot;image is-64x64&quot;&gt;&lt;span class=&quot;buttons&quot;&gt;&lt;span class=&quot;has-text-weight-bold&quot;&gt;63.8%&lt;/span&gt;&lt;br /&gt;&lt;div&gt;&lt;/div&gt;&lt;/span&gt;&lt;/p&gt;&lt;/div&gt;&lt;div class=&quot;media-content&quot;&gt;&lt;div class=&quot;is-pulled-right&quot;&gt;&lt;small class=&quot;is-italic&quot;&gt;A Child&#x27;s Dream of a Star, &lt;/small&gt;&lt;small&gt;par. 50&lt;/small&gt;&lt;/div&gt;&lt;div&gt;&lt;br /&gt;&lt;br /&gt;&lt;span&gt;&lt;span class=&quot;has-text-grey-light&quot;&gt;And the star was shining.\n",
       "\n",
       "&lt;/span&gt;&lt;/span&gt;&lt;/div&gt;&lt;/div&gt;&lt;/article&gt;&lt;article class=&quot;media&quot;&gt;&lt;div class=&quot;media-left&quot;&gt;&lt;p class=&quot;image is-64x64&quot;&gt;&lt;span class=&quot;buttons&quot;&gt;&lt;span class=&quot;has-text-weight-bold&quot;&gt;63.5%&lt;/span&gt;&lt;br /&gt;&lt;div&gt;&lt;/div&gt;&lt;/span&gt;&lt;/p&gt;&lt;/div&gt;&lt;div class=&quot;media-content&quot;&gt;&lt;div class=&quot;is-pulled-right&quot;&gt;&lt;small class=&quot;is-italic&quot;&gt;A Child&#x27;s Dream of a Star, &lt;/small&gt;&lt;small&gt;par. 6&lt;/small&gt;&lt;/div&gt;&lt;div&gt;&lt;br /&gt;&lt;br /&gt;&lt;span&gt;&lt;span class=&quot;has-text-grey-light&quot;&gt;o made the lovely world.\n",
       "\n",
       "&lt;/span&gt;&lt;/span&gt;&lt;/div&gt;&lt;/div&gt;&lt;/article&gt;&lt;article class=&quot;media&quot;&gt;&lt;div class=&quot;media-left&quot;&gt;&lt;p class=&quot;image is-64x64&quot;&gt;&lt;span class=&quot;buttons&quot;&gt;&lt;span class=&quot;has-text-weight-bold&quot;&gt;62.3%&lt;/span&gt;&lt;br /&gt;&lt;div&gt;&lt;/div&gt;&lt;/span&gt;&lt;/p&gt;&lt;/div&gt;&lt;div class=&quot;media-content&quot;&gt;&lt;div class=&quot;is-pulled-right&quot;&gt;&lt;small class=&quot;is-italic&quot;&gt;A Child&#x27;s Dream of a Star, &lt;/small&gt;&lt;small&gt;par. 26&lt;/small&gt;&lt;/div&gt;&lt;div&gt;&lt;br /&gt;&lt;br /&gt;&lt;span&gt;&lt;span class=&quot;has-text-grey-light&quot;&gt;And then she turned her beaming eyes upon him, and it was night; and the star was shining into the room, making lo&lt;/span&gt;&lt;/span&gt;&lt;/div&gt;&lt;/div&gt;&lt;/article&gt;&lt;article class=&quot;media&quot;&gt;&lt;div class=&quot;media-left&quot;&gt;&lt;p class=&quot;image is-64x64&quot;&gt;&lt;span class=&quot;buttons&quot;&gt;&lt;span class=&quot;has-text-weight-bold&quot;&gt;61.7%&lt;/span&gt;&lt;br /&gt;&lt;div&gt;&lt;/div&gt;&lt;/span&gt;&lt;/p&gt;&lt;/div&gt;&lt;div class=&quot;media-content&quot;&gt;&lt;div class=&quot;is-pulled-right&quot;&gt;&lt;small class=&quot;is-italic&quot;&gt;A Child&#x27;s Dream of a Star, &lt;/small&gt;&lt;small&gt;par. 10&lt;/small&gt;&lt;/div&gt;&lt;div&gt;&lt;br /&gt;&lt;br /&gt;&lt;span&gt;&lt;span class=&quot;has-text-grey-light&quot;&gt;So they grew to be such friends with it, that, before lying down in their beds, they always looked out once again, to bid it good night; and when they were turning round to sleep, they used to say, “God bless the star!”&lt;/span&gt;&lt;/span&gt;&lt;/div&gt;&lt;/div&gt;&lt;/article&gt;&lt;article class=&quot;media&quot;&gt;&lt;div class=&quot;media-left&quot;&gt;&lt;p class=&quot;image is-64x64&quot;&gt;&lt;span class=&quot;buttons&quot;&gt;&lt;span class=&quot;has-text-weight-bold&quot;&gt;61.0%&lt;/span&gt;&lt;br /&gt;&lt;div&gt;&lt;/div&gt;&lt;/span&gt;&lt;/p&gt;&lt;/div&gt;&lt;div class=&quot;media-content&quot;&gt;&lt;div class=&quot;is-pulled-right&quot;&gt;&lt;small class=&quot;is-italic&quot;&gt;A Child&#x27;s Dream of a Star, &lt;/small&gt;&lt;small&gt;par. 40&lt;/small&gt;&lt;/div&gt;&lt;div&gt;&lt;br /&gt;&lt;br /&gt;&lt;span&gt;&lt;span class=&quot;has-text-grey-light&quot;&gt;A mighty cry of joy went forth through all the star, because the mother was reunited to her two children.And he stretched out his arms and cried, “O mother, sister, and brother, I am here!&lt;/span&gt;&lt;/span&gt;&lt;/div&gt;&lt;/div&gt;&lt;/article&gt;&lt;article class=&quot;media&quot;&gt;&lt;div class=&quot;media-left&quot;&gt;&lt;p class=&quot;image is-64x64&quot;&gt;&lt;span class=&quot;buttons&quot;&gt;&lt;span class=&quot;has-text-weight-bold&quot;&gt;60.7%&lt;/span&gt;&lt;br /&gt;&lt;div&gt;&lt;/div&gt;&lt;/span&gt;&lt;/p&gt;&lt;/div&gt;&lt;div class=&quot;media-content&quot;&gt;&lt;div class=&quot;is-pulled-right&quot;&gt;&lt;small class=&quot;is-italic&quot;&gt;A Child&#x27;s Dream of a Star, &lt;/small&gt;&lt;small&gt;par. 36&lt;/small&gt;&lt;/div&gt;&lt;div&gt;&lt;br /&gt;&lt;br /&gt;&lt;span&gt;&lt;span class=&quot;has-text-grey-light&quot;&gt;And she turned and smiled upon him, and the star was shining.&lt;/span&gt;&lt;/span&gt;&lt;/div&gt;&lt;/div&gt;&lt;/article&gt;&lt;article class=&quot;media&quot;&gt;&lt;div class=&quot;media-left&quot;&gt;&lt;p class=&quot;image is-64x64&quot;&gt;&lt;span class=&quot;buttons&quot;&gt;&lt;span class=&quot;has-text-weight-bold&quot;&gt;60.6%&lt;/span&gt;&lt;br /&gt;&lt;div&gt;&lt;/div&gt;&lt;/span&gt;&lt;/p&gt;&lt;/div&gt;&lt;div class=&quot;media-content&quot;&gt;&lt;div class=&quot;is-pulled-right&quot;&gt;&lt;small class=&quot;is-italic&quot;&gt;A Child&#x27;s Dream of a Star, &lt;/small&gt;&lt;small&gt;par. 10&lt;/small&gt;&lt;/div&gt;&lt;div&gt;&lt;br /&gt;&lt;br /&gt;&lt;span&gt;&lt;span class=&quot;has-text-grey-light&quot;&gt;There was one clear shining star that used to come out in the sky before the rest, near the church-spire, above the graves.It was larger and more beautiful, they thought, than all the others, and every night they watched for it, standing hand in h&lt;/span&gt;&lt;/span&gt;&lt;/div&gt;&lt;/div&gt;&lt;/article&gt;&lt;article class=&quot;media&quot;&gt;&lt;div class=&quot;media-left&quot;&gt;&lt;p class=&quot;image is-64x64&quot;&gt;&lt;span class=&quot;buttons&quot;&gt;&lt;span class=&quot;has-text-weight-bold&quot;&gt;60.5%&lt;/span&gt;&lt;br /&gt;&lt;div&gt;&lt;/div&gt;&lt;/span&gt;&lt;/p&gt;&lt;/div&gt;&lt;div class=&quot;media-content&quot;&gt;&lt;div class=&quot;is-pulled-right&quot;&gt;&lt;small class=&quot;is-italic&quot;&gt;A Child&#x27;s Dream of a Star, &lt;/small&gt;&lt;small&gt;par. 56&lt;/small&gt;&lt;/div&gt;&lt;div&gt;&lt;br /&gt;&lt;br /&gt;&lt;span&gt;&lt;span class=&quot;has-text-grey-light&quot;&gt;And the star was shining; and it shines upon his grave.\n",
       "\n",
       "&lt;/span&gt;&lt;/span&gt;&lt;/div&gt;&lt;/div&gt;&lt;/article&gt;&lt;article class=&quot;media&quot;&gt;&lt;div class=&quot;media-left&quot;&gt;&lt;p class=&quot;image is-64x64&quot;&gt;&lt;span class=&quot;buttons&quot;&gt;&lt;span class=&quot;has-text-weight-bold&quot;&gt;58.1%&lt;/span&gt;&lt;br /&gt;&lt;div&gt;&lt;/div&gt;&lt;/span&gt;&lt;/p&gt;&lt;/div&gt;&lt;div class=&quot;media-content&quot;&gt;&lt;div class=&quot;is-pulled-right&quot;&gt;&lt;small class=&quot;is-italic&quot;&gt;A Child&#x27;s Dream of a Star, &lt;/small&gt;&lt;small&gt;par. 31&lt;/small&gt;&lt;/div&gt;&lt;div&gt;&lt;br /&gt;&lt;br /&gt;&lt;span&gt;&lt;span class=&quot;has-text-grey-light&quot;&gt;Again the child dreamed of the opened star, and of the company of angels, and the train of people, and the rows of angels with their beaming eyes all turned upon those people’s faces.\n",
       "\n",
       "&lt;/span&gt;&lt;/span&gt;&lt;/div&gt;&lt;/div&gt;&lt;/article&gt;&lt;article class=&quot;media&quot;&gt;&lt;div class=&quot;media-left&quot;&gt;&lt;p class=&quot;image is-64x64&quot;&gt;&lt;span class=&quot;buttons&quot;&gt;&lt;span class=&quot;has-text-weight-bold&quot;&gt;57.4%&lt;/span&gt;&lt;br /&gt;&lt;div&gt;&lt;/div&gt;&lt;/span&gt;&lt;/p&gt;&lt;/div&gt;&lt;div class=&quot;media-content&quot;&gt;&lt;div class=&quot;is-pulled-right&quot;&gt;&lt;small class=&quot;is-italic&quot;&gt;A Child&#x27;s Dream of a Star, &lt;/small&gt;&lt;small&gt;par. 17&lt;/small&gt;&lt;/div&gt;&lt;div&gt;&lt;br /&gt;&lt;br /&gt;&lt;span&gt;&lt;span class=&quot;has-text-grey-light&quot;&gt;Now, these rays were so bright, and they seemed to make such a shining way from earth to heaven, that when the child went to his solitary bed, he dreamed about the star; and dreamed that, lying where he was, he saw a train of people taken up that sparkling road by angels.And the star, opening, showed him a great world of light, where many more such angels waited to receive them.&lt;/span&gt;&lt;/span&gt;&lt;/div&gt;&lt;/div&gt;&lt;/article&gt;&lt;article class=&quot;media&quot;&gt;&lt;div class=&quot;media-left&quot;&gt;&lt;p class=&quot;image is-64x64&quot;&gt;&lt;span class=&quot;buttons&quot;&gt;&lt;span class=&quot;has-text-weight-bold&quot;&gt;57.1%&lt;/span&gt;&lt;br /&gt;&lt;div&gt;&lt;/div&gt;&lt;/span&gt;&lt;/p&gt;&lt;/div&gt;&lt;div class=&quot;media-content&quot;&gt;&lt;div class=&quot;is-pulled-right&quot;&gt;&lt;small class=&quot;is-italic&quot;&gt;A Child&#x27;s Dream of a Star, &lt;/small&gt;&lt;small&gt;par. 6&lt;/small&gt;&lt;/div&gt;&lt;div&gt;&lt;br /&gt;&lt;br /&gt;&lt;span&gt;&lt;span class=&quot;has-text-grey-light&quot;&gt;They wondered at the beauty of the flowers; they wondered at the height and blueness of the sky; they wondered at the depth of the bright water; they wondered at the goodness and the power of God, wh&lt;/span&gt;&lt;/span&gt;&lt;/div&gt;&lt;/div&gt;&lt;/article&gt;&lt;article class=&quot;media&quot;&gt;&lt;div class=&quot;media-left&quot;&gt;&lt;p class=&quot;image is-64x64&quot;&gt;&lt;span class=&quot;buttons&quot;&gt;&lt;span class=&quot;has-text-weight-bold&quot;&gt;57.1%&lt;/span&gt;&lt;br /&gt;&lt;div&gt;&lt;/div&gt;&lt;/span&gt;&lt;/p&gt;&lt;/div&gt;&lt;div class=&quot;media-content&quot;&gt;&lt;div class=&quot;is-pulled-right&quot;&gt;&lt;small class=&quot;is-italic&quot;&gt;A Child&#x27;s Dream of a Star, &lt;/small&gt;&lt;small&gt;par. 9&lt;/small&gt;&lt;/div&gt;&lt;div&gt;&lt;br /&gt;&lt;br /&gt;&lt;span&gt;&lt;span class=&quot;has-text-grey-light&quot;&gt;aying at hide-and-seek in the sky all night must surely be the children of the stars; and they would all be grieved to see their playmates, the children of men, no more.\n",
       "\n",
       "&lt;/span&gt;&lt;/span&gt;&lt;/div&gt;&lt;/div&gt;&lt;/article&gt;&lt;article class=&quot;media&quot;&gt;&lt;div class=&quot;media-left&quot;&gt;&lt;p class=&quot;image is-64x64&quot;&gt;&lt;span class=&quot;buttons&quot;&gt;&lt;span class=&quot;has-text-weight-bold&quot;&gt;56.9%&lt;/span&gt;&lt;br /&gt;&lt;div&gt;&lt;/div&gt;&lt;/span&gt;&lt;/p&gt;&lt;/div&gt;&lt;div class=&quot;media-content&quot;&gt;&lt;div class=&quot;is-pulled-right&quot;&gt;&lt;small class=&quot;is-italic&quot;&gt;A Child&#x27;s Dream of a Star, &lt;/small&gt;&lt;small&gt;par. 10&lt;/small&gt;&lt;/div&gt;&lt;div&gt;&lt;br /&gt;&lt;br /&gt;&lt;span&gt;&lt;span class=&quot;has-text-grey-light&quot;&gt;and at a window.Whoever saw it first cried out, “I see the star!”&lt;/span&gt;&lt;/span&gt;&lt;/div&gt;&lt;/div&gt;&lt;/article&gt;&lt;article class=&quot;media&quot;&gt;&lt;div class=&quot;media-left&quot;&gt;&lt;p class=&quot;image is-64x64&quot;&gt;&lt;span class=&quot;buttons&quot;&gt;&lt;span class=&quot;has-text-weight-bold&quot;&gt;56.8%&lt;/span&gt;&lt;br /&gt;&lt;div&gt;&lt;/div&gt;&lt;/span&gt;&lt;/p&gt;&lt;/div&gt;&lt;div class=&quot;media-content&quot;&gt;&lt;div class=&quot;is-pulled-right&quot;&gt;&lt;small class=&quot;is-italic&quot;&gt;A Child&#x27;s Dream of a Star, &lt;/small&gt;&lt;small&gt;par. 47&lt;/small&gt;&lt;/div&gt;&lt;div&gt;&lt;br /&gt;&lt;br /&gt;&lt;span&gt;&lt;span class=&quot;has-text-grey-light&quot;&gt;And the man who had been the child saw his daughter, newly lost to him, a celestial creature among those three, and he said, “My daughter’s head is on my sister’s bosom, and her arm is round my mother’s neck, and at her feet there is the baby of old time, and I can bear the parting from her, God be praised!””\n",
       "\n",
       "&lt;/span&gt;&lt;/span&gt;&lt;/div&gt;&lt;/div&gt;&lt;/article&gt;&lt;article class=&quot;media&quot;&gt;&lt;div class=&quot;media-left&quot;&gt;&lt;p class=&quot;image is-64x64&quot;&gt;&lt;span class=&quot;buttons&quot;&gt;&lt;span class=&quot;has-text-weight-bold&quot;&gt;56.7%&lt;/span&gt;&lt;br /&gt;&lt;div&gt;&lt;/div&gt;&lt;/span&gt;&lt;/p&gt;&lt;/div&gt;&lt;div class=&quot;media-content&quot;&gt;&lt;div class=&quot;is-pulled-right&quot;&gt;&lt;small class=&quot;is-italic&quot;&gt;A Child&#x27;s Dream of a Star, &lt;/small&gt;&lt;small&gt;par. 13&lt;/small&gt;&lt;/div&gt;&lt;div&gt;&lt;br /&gt;&lt;br /&gt;&lt;span&gt;&lt;span class=&quot;has-text-grey-light&quot;&gt;But while she was still very young, O, very, very young, the sister drooped, and came to be so weak that she could no longer stand in the window at night; and then the child looked sadly out by himself, and when he saw the star, turned round and said to the patient pale face on the bed, “I see the star!”And then a smile would come upon the face, and a little weak voice used to say, “God bless my brother and the star!”&lt;/span&gt;&lt;/span&gt;&lt;/div&gt;&lt;/div&gt;&lt;/article&gt;&lt;article class=&quot;media&quot;&gt;&lt;div class=&quot;media-left&quot;&gt;&lt;p class=&quot;image is-64x64&quot;&gt;&lt;span class=&quot;buttons&quot;&gt;&lt;span class=&quot;has-text-weight-bold&quot;&gt;56.7%&lt;/span&gt;&lt;br /&gt;&lt;div&gt;&lt;/div&gt;&lt;/span&gt;&lt;/p&gt;&lt;/div&gt;&lt;div class=&quot;media-content&quot;&gt;&lt;div class=&quot;is-pulled-right&quot;&gt;&lt;small class=&quot;is-italic&quot;&gt;A Child&#x27;s Dream of a Star, &lt;/small&gt;&lt;small&gt;par. 43&lt;/small&gt;&lt;/div&gt;&lt;div&gt;&lt;br /&gt;&lt;br /&gt;&lt;span&gt;&lt;span class=&quot;has-text-grey-light&quot;&gt;And they answered him, “Not yet.”And the star was shining.&lt;/span&gt;&lt;/span&gt;&lt;/div&gt;&lt;/div&gt;&lt;/article&gt;&lt;article class=&quot;media&quot;&gt;&lt;div class=&quot;media-left&quot;&gt;&lt;p class=&quot;image is-64x64&quot;&gt;&lt;span class=&quot;buttons&quot;&gt;&lt;span class=&quot;has-text-weight-bold&quot;&gt;55.8%&lt;/span&gt;&lt;br /&gt;&lt;div&gt;&lt;/div&gt;&lt;/span&gt;&lt;/p&gt;&lt;/div&gt;&lt;div class=&quot;media-content&quot;&gt;&lt;div class=&quot;is-pulled-right&quot;&gt;&lt;small class=&quot;is-italic&quot;&gt;A Child&#x27;s Dream of a Star, &lt;/small&gt;&lt;small&gt;par. 44&lt;/small&gt;&lt;/div&gt;&lt;div&gt;&lt;br /&gt;&lt;br /&gt;&lt;span&gt;&lt;span class=&quot;has-text-grey-light&quot;&gt;He grew to be a man, whose hair was turning gray; and he was sitting in his chair by the fireside, heavy with grief, and with his face bedewed with tears, when the star opened once again.\n",
       "\n",
       "&lt;/span&gt;&lt;/span&gt;&lt;/div&gt;&lt;/div&gt;&lt;/article&gt;&lt;article class=&quot;media&quot;&gt;&lt;div class=&quot;media-left&quot;&gt;&lt;p class=&quot;image is-64x64&quot;&gt;&lt;span class=&quot;buttons&quot;&gt;&lt;span class=&quot;has-text-weight-bold&quot;&gt;55.7%&lt;/span&gt;&lt;br /&gt;&lt;div&gt;&lt;/div&gt;&lt;/span&gt;&lt;/p&gt;&lt;/div&gt;&lt;div class=&quot;media-content&quot;&gt;&lt;div class=&quot;is-pulled-right&quot;&gt;&lt;small class=&quot;is-italic&quot;&gt;A Child&#x27;s Dream of a Star, &lt;/small&gt;&lt;small&gt;par. 4&lt;/small&gt;&lt;/div&gt;&lt;div&gt;&lt;br /&gt;&lt;br /&gt;&lt;span&gt;&lt;span class=&quot;has-text-grey-light&quot;&gt;A CHILD’S DREAM OF A STAR.\n",
       "\n",
       "&lt;/span&gt;&lt;/span&gt;&lt;/div&gt;&lt;/div&gt;&lt;/article&gt;&lt;article class=&quot;media&quot;&gt;&lt;div class=&quot;media-left&quot;&gt;&lt;p class=&quot;image is-64x64&quot;&gt;&lt;span class=&quot;buttons&quot;&gt;&lt;span class=&quot;has-text-weight-bold&quot;&gt;55.6%&lt;/span&gt;&lt;br /&gt;&lt;div&gt;&lt;/div&gt;&lt;/span&gt;&lt;/p&gt;&lt;/div&gt;&lt;div class=&quot;media-content&quot;&gt;&lt;div class=&quot;is-pulled-right&quot;&gt;&lt;small class=&quot;is-italic&quot;&gt;A Child&#x27;s Dream of a Star, &lt;/small&gt;&lt;small&gt;par. 53&lt;/small&gt;&lt;/div&gt;&lt;div&gt;&lt;br /&gt;&lt;br /&gt;&lt;span&gt;&lt;span class=&quot;has-text-grey-light&quot;&gt;om me like a garment, and I move towards the star as a child.And O my Father, now I thank thee that it has so often opened to receive those dear ones who await me!&lt;/span&gt;&lt;/span&gt;&lt;/div&gt;&lt;/div&gt;&lt;/article&gt;&lt;article class=&quot;media&quot;&gt;&lt;div class=&quot;media-left&quot;&gt;&lt;p class=&quot;image is-64x64&quot;&gt;&lt;span class=&quot;buttons&quot;&gt;&lt;span class=&quot;has-text-weight-bold&quot;&gt;55.6%&lt;/span&gt;&lt;br /&gt;&lt;div&gt;&lt;/div&gt;&lt;/span&gt;&lt;/p&gt;&lt;/div&gt;&lt;div class=&quot;media-content&quot;&gt;&lt;div class=&quot;is-pulled-right&quot;&gt;&lt;small class=&quot;is-italic&quot;&gt;A Child&#x27;s Dream of a Star, &lt;/small&gt;&lt;small&gt;par. 10&lt;/small&gt;&lt;/div&gt;&lt;div&gt;&lt;br /&gt;&lt;br /&gt;&lt;span&gt;&lt;span class=&quot;has-text-grey-light&quot;&gt;And often they cried out both together, knowing so well when it would rise and where.&lt;/span&gt;&lt;/span&gt;&lt;/div&gt;&lt;/div&gt;&lt;/article&gt;&lt;article class=&quot;media&quot;&gt;&lt;div class=&quot;media-left&quot;&gt;&lt;p class=&quot;image is-64x64&quot;&gt;&lt;span class=&quot;buttons&quot;&gt;&lt;span class=&quot;has-text-weight-bold&quot;&gt;55.5%&lt;/span&gt;&lt;br /&gt;&lt;div&gt;&lt;/div&gt;&lt;/span&gt;&lt;/p&gt;&lt;/div&gt;&lt;div class=&quot;media-content&quot;&gt;&lt;div class=&quot;is-pulled-right&quot;&gt;&lt;small class=&quot;is-italic&quot;&gt;A Child&#x27;s Dream of a Star, &lt;/small&gt;&lt;small&gt;par. 53&lt;/small&gt;&lt;/div&gt;&lt;div&gt;&lt;br /&gt;&lt;br /&gt;&lt;span&gt;&lt;span class=&quot;has-text-grey-light&quot;&gt;”\n",
       "\n",
       "&lt;/span&gt;&lt;/span&gt;&lt;/div&gt;&lt;/div&gt;&lt;/article&gt;&lt;article class=&quot;media&quot;&gt;&lt;div class=&quot;media-left&quot;&gt;&lt;p class=&quot;image is-64x64&quot;&gt;&lt;span class=&quot;buttons&quot;&gt;&lt;span class=&quot;has-text-weight-bold&quot;&gt;55.5%&lt;/span&gt;&lt;br /&gt;&lt;div&gt;&lt;/div&gt;&lt;/span&gt;&lt;/p&gt;&lt;/div&gt;&lt;div class=&quot;media-content&quot;&gt;&lt;div class=&quot;is-pulled-right&quot;&gt;&lt;small class=&quot;is-italic&quot;&gt;A Child&#x27;s Dream of a Star, &lt;/small&gt;&lt;small&gt;par. 27&lt;/small&gt;&lt;/div&gt;&lt;div&gt;&lt;br /&gt;&lt;br /&gt;&lt;span&gt;&lt;span class=&quot;has-text-grey-light&quot;&gt;From that hour forth, the child looked out upon the star as on the home he was to go to, when his time should come; and he thought that he did not belong to the earth alone, but to the star too, because of his sister’s angel gone before.\n",
       "\n",
       "&lt;/span&gt;&lt;/span&gt;&lt;/div&gt;&lt;/div&gt;&lt;/article&gt;&lt;article class=&quot;media&quot;&gt;&lt;div class=&quot;media-left&quot;&gt;&lt;p class=&quot;image is-64x64&quot;&gt;&lt;span class=&quot;buttons&quot;&gt;&lt;span class=&quot;has-text-weight-bold&quot;&gt;55.5%&lt;/span&gt;&lt;br /&gt;&lt;div&gt;&lt;/div&gt;&lt;/span&gt;&lt;/p&gt;&lt;/div&gt;&lt;div class=&quot;media-content&quot;&gt;&lt;div class=&quot;is-pulled-right&quot;&gt;&lt;small class=&quot;is-italic&quot;&gt;A Child&#x27;s Dream of a Star, &lt;/small&gt;&lt;small&gt;par. 6&lt;/small&gt;&lt;/div&gt;&lt;div&gt;&lt;br /&gt;&lt;br /&gt;&lt;span&gt;&lt;span class=&quot;has-text-grey-light&quot;&gt;These two used to wonder all day long.&lt;/span&gt;&lt;/span&gt;&lt;/div&gt;&lt;/div&gt;&lt;/article&gt;&lt;article class=&quot;media&quot;&gt;&lt;div class=&quot;media-left&quot;&gt;&lt;p class=&quot;image is-64x64&quot;&gt;&lt;span class=&quot;buttons&quot;&gt;&lt;span class=&quot;has-text-weight-bold&quot;&gt;55.4%&lt;/span&gt;&lt;br /&gt;&lt;div&gt;&lt;/div&gt;&lt;/span&gt;&lt;/p&gt;&lt;/div&gt;&lt;div class=&quot;media-content&quot;&gt;&lt;div class=&quot;is-pulled-right&quot;&gt;&lt;small class=&quot;is-italic&quot;&gt;A Child&#x27;s Dream of a Star, &lt;/small&gt;&lt;small&gt;par. 16&lt;/small&gt;&lt;/div&gt;&lt;div&gt;&lt;br /&gt;&lt;br /&gt;&lt;span&gt;&lt;span class=&quot;has-text-grey-light&quot;&gt;And so the time came, all too soon!when the child looked out alone, and&lt;/span&gt;&lt;/span&gt;&lt;/div&gt;&lt;/div&gt;&lt;/article&gt;&lt;article class=&quot;media&quot;&gt;&lt;div class=&quot;media-left&quot;&gt;&lt;p class=&quot;image is-64x64&quot;&gt;&lt;span class=&quot;buttons&quot;&gt;&lt;span class=&quot;has-text-weight-bold&quot;&gt;55.1%&lt;/span&gt;&lt;br /&gt;&lt;div&gt;&lt;/div&gt;&lt;/span&gt;&lt;/p&gt;&lt;/div&gt;&lt;div class=&quot;media-content&quot;&gt;&lt;div class=&quot;is-pulled-right&quot;&gt;&lt;small class=&quot;is-italic&quot;&gt;A Child&#x27;s Dream of a Star, &lt;/small&gt;&lt;small&gt;par. 39&lt;/small&gt;&lt;/div&gt;&lt;div&gt;&lt;br /&gt;&lt;br /&gt;&lt;span&gt;&lt;span class=&quot;has-text-grey-light&quot;&gt;And he said, “Thy mother!”\n",
       "\n",
       "&lt;/span&gt;&lt;/span&gt;&lt;/div&gt;&lt;/div&gt;&lt;/article&gt;\n",
       "\t\t\t&lt;/div&gt;\n",
       "\t\t&lt;/div&gt;\n",
       "\t&lt;/body&gt;\n",
       "&lt;/html&gt;\"\n",
       "\t\t            frameborder=\"0\"\n",
       "\t\t            allowfullscreen\n",
       "\t\t        ></iframe>\n",
       "\t\t        <script>\n",
       "\t\t        \tvar f = document.getElementById(\"vectorian-iframe-1614278758755708000\");\n",
       "\t\t        \tf.onload = function() {\n",
       "\t\t\t        \tf.height = f.contentWindow.document.body.scrollHeight + \"px\";\n",
       "\t\t\t        };\n",
       "\t\t        </script>\n",
       "\t\t"
      ],
      "text/plain": [
       "<vectorian.session.LabResult at 0x7fd7390d8100>"
      ]
     },
     "execution_count": 19,
     "metadata": {},
     "output_type": "execute_result"
    }
   ],
   "source": [
    "index.find(nlp(\"making America great again\"), 80)"
   ]
  },
  {
   "cell_type": "code",
   "execution_count": null,
   "id": "contrary-integral",
   "metadata": {},
   "outputs": [],
   "source": []
  }
 ],
 "metadata": {
  "kernelspec": {
   "display_name": "Python 3",
   "language": "python",
   "name": "python3"
  },
  "language_info": {
   "codemirror_mode": {
    "name": "ipython",
    "version": 3
   },
   "file_extension": ".py",
   "mimetype": "text/x-python",
   "name": "python",
   "nbconvert_exporter": "python",
   "pygments_lexer": "ipython3",
   "version": "3.8.5"
  }
 },
 "nbformat": 4,
 "nbformat_minor": 5
}

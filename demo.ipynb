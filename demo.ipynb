{
 "cells": [
  {
   "cell_type": "code",
   "execution_count": null,
   "id": "acute-semiconductor",
   "metadata": {},
   "outputs": [],
   "source": [
    "from pathlib import Path\n",
    "\n",
    "import os\n",
    "import sys\n",
    "\n",
    "current_path = Path(os.getcwd())\n",
    "sys.path.append(str(current_path))"
   ]
  },
  {
   "cell_type": "code",
   "execution_count": 5,
   "id": "focused-singing",
   "metadata": {},
   "outputs": [],
   "source": [
    "import spacy\n",
    "nlp = spacy.load(\"en_core_web_sm\")"
   ]
  },
  {
   "cell_type": "code",
   "execution_count": 3,
   "id": "integrated-competition",
   "metadata": {},
   "outputs": [
    {
     "name": "stderr",
     "output_type": "stream",
     "text": [
      "100%|██████████| 58/58 [00:00<00:00, 113.68it/s]\n"
     ]
    }
   ],
   "source": [
    "import vectorian\n",
    "\n",
    "from vectorian.importers import NovelImporter\n",
    "from vectorian.embeddings import FastText\n",
    "from vectorian.session import LabSession\n",
    "\n",
    "embedding = FastText(\"en\")\n",
    "\n",
    "im = NovelImporter(nlp)\n",
    "doc = im(\"/Users/arbeit/A Child's Dream of a Star.txt\")\n",
    "\n",
    "session = LabSession(\n",
    "    [doc],\n",
    "    [embedding])"
   ]
  },
  {
   "cell_type": "code",
   "execution_count": 4,
   "id": "sporting-argument",
   "metadata": {},
   "outputs": [
    {
     "data": {
      "application/vnd.jupyter.widget-view+json": {
       "model_id": "",
       "version_major": 2,
       "version_minor": 0
      },
      "text/plain": [
       "FloatProgress(value=0.0, layout=Layout(width='100%'), max=1.0)"
      ]
     },
     "metadata": {},
     "output_type": "display_data"
    }
   ],
   "source": [
    "query = nlp(\"literal\")\n",
    "r = session.find(query, n=3)"
   ]
  },
  {
   "cell_type": "code",
   "execution_count": 8,
   "id": "imported-importance",
   "metadata": {},
   "outputs": [
    {
     "data": {
      "text/html": [
       "\n",
       "\t\t        <iframe\n",
       "\t\t        \tid=\"vectorian-iframe-1613555553260079000\"\n",
       "\t\t            width=\"100%\"\n",
       "\t\t            height=\"100%\"\n",
       "\t\t            srcdoc=\"&lt;!DOCTYPE html&gt;\n",
       "&lt;html&gt;\n",
       "\t&lt;head&gt;\n",
       "\t\t&lt;meta charset=&quot;utf-8&quot;&gt;\n",
       "\t\t&lt;meta name=&quot;viewport&quot; content=&quot;width=device-width, initial-scale=1&quot;&gt;\n",
       "\t\t&lt;title&gt;Vectorian&lt;/title&gt;\n",
       "\t\t&lt;link rel=&quot;stylesheet&quot; href=&quot;https://cdn.jsdelivr.net/npm/bulma@0.9.1/css/bulma.min.css&quot;&gt;\n",
       "\t&lt;/head&gt;\n",
       "\t&lt;body&gt;\n",
       "\t\t&lt;div class=&quot;container&quot; height=&quot;100%&quot;&gt;\n",
       "\t\t\t&lt;div class=&quot;section&quot;&gt;\n",
       "&lt;!DOCTYPE html&gt;&lt;media&gt;&lt;mediaLeft&gt;&lt;p class=&quot;image is-64x64&quot;&gt;&lt;span class=&quot;buttons&quot;&gt;&lt;span class=&quot;has-text-weight-bold&quot;&gt;56.8%&lt;/span&gt;&lt;br /&gt;&lt;div&gt;&lt;/div&gt;&lt;/span&gt;&lt;/p&gt;&lt;/mediaLeft&gt;&lt;mediaContent&gt;&lt;span style=&quot;font-variant: small-caps;&quot;&gt;&lt;/span&gt;&lt;div class=&quot;is-pulled-right&quot;&gt;&lt;small&gt;Anonymous, &lt;/small&gt;&lt;small class=&quot;is-italic&quot;&gt;A Child&#x27;s Dream of a Star, &lt;/small&gt;&lt;small&gt;par. 8&lt;/small&gt;&lt;/div&gt;&lt;div&gt;&lt;br /&gt;&lt;br /&gt;&lt;span&gt;&lt;span class=&quot;has-text-grey-light&quot;&gt;buds are the children of the flowers, and the little &lt;/span&gt; &lt;span&gt;&lt;span style=&quot;display:inline-table;&quot;&gt;&lt;span style=&quot;display:table-row;&quot;&gt;&lt;span style=&quot;display:table-cell;&quot;&gt;&lt;span class=&quot;has-text-black has-text-weight-bold&quot;&gt;playful&lt;/span&gt;&lt;/span&gt; &lt;span style=&quot;display:table-cell;&quot;&gt;&lt;span class=&quot;has-text-grey-light&quot;&gt;literal&lt;/span&gt;&lt;/span&gt; &lt;span style=&quot;display:table-cell; opacity:1.0;&quot;&gt;&lt;span class=&quot;tag is-warning&quot;&gt;56%&lt;/span&gt;&lt;/span&gt;&lt;/span&gt;&lt;/span&gt;&lt;/span&gt; &lt;span class=&quot;has-text-grey-light&quot;&gt;streams that gambol down the hillsides are the children of &lt;/span&gt;&lt;/span&gt;&lt;/div&gt;&lt;/mediaContent&gt;&lt;/media&gt;&lt;media&gt;&lt;mediaLeft&gt;&lt;p class=&quot;image is-64x64&quot;&gt;&lt;span class=&quot;buttons&quot;&gt;&lt;span class=&quot;has-text-weight-bold&quot;&gt;55.3%&lt;/span&gt;&lt;br /&gt;&lt;div&gt;&lt;/div&gt;&lt;/span&gt;&lt;/p&gt;&lt;/mediaLeft&gt;&lt;mediaContent&gt;&lt;span style=&quot;font-variant: small-caps;&quot;&gt;&lt;/span&gt;&lt;div class=&quot;is-pulled-right&quot;&gt;&lt;small&gt;Anonymous, &lt;/small&gt;&lt;small class=&quot;is-italic&quot;&gt;A Child&#x27;s Dream of a Star, &lt;/small&gt;&lt;small&gt;par. 46&lt;/small&gt;&lt;/div&gt;&lt;div&gt;&lt;br /&gt;&lt;br /&gt;&lt;span&gt;&lt;span class=&quot;has-text-grey-light&quot;&gt;the child saw his daughter, newly lost to him, a &lt;/span&gt; &lt;span&gt;&lt;span style=&quot;display:inline-table;&quot;&gt;&lt;span style=&quot;display:table-row;&quot;&gt;&lt;span style=&quot;display:table-cell;&quot;&gt;&lt;span class=&quot;has-text-black has-text-weight-bold&quot;&gt;celestial&lt;/span&gt;&lt;/span&gt; &lt;span style=&quot;display:table-cell;&quot;&gt;&lt;span class=&quot;has-text-grey-light&quot;&gt;literal&lt;/span&gt;&lt;/span&gt; &lt;span style=&quot;display:table-cell; opacity:1.0;&quot;&gt;&lt;span class=&quot;tag is-warning&quot;&gt;55%&lt;/span&gt;&lt;/span&gt;&lt;/span&gt;&lt;/span&gt;&lt;/span&gt; &lt;span class=&quot;has-text-grey-light&quot;&gt;creature among those three, and he said, “My daughter’s &lt;/span&gt;&lt;/span&gt;&lt;/div&gt;&lt;/mediaContent&gt;&lt;/media&gt;&lt;media&gt;&lt;mediaLeft&gt;&lt;p class=&quot;image is-64x64&quot;&gt;&lt;span class=&quot;buttons&quot;&gt;&lt;span class=&quot;has-text-weight-bold&quot;&gt;55.0%&lt;/span&gt;&lt;br /&gt;&lt;div&gt;&lt;/div&gt;&lt;/span&gt;&lt;/p&gt;&lt;/mediaLeft&gt;&lt;mediaContent&gt;&lt;span style=&quot;font-variant: small-caps;&quot;&gt;&lt;/span&gt;&lt;div class=&quot;is-pulled-right&quot;&gt;&lt;small&gt;Anonymous, &lt;/small&gt;&lt;small class=&quot;is-italic&quot;&gt;A Child&#x27;s Dream of a Star, &lt;/small&gt;&lt;small&gt;par. 16&lt;/small&gt;&lt;/div&gt;&lt;div&gt;&lt;br /&gt;&lt;br /&gt;&lt;span&gt;&lt;span class=&quot;has-text-grey-light&quot;&gt;earth to heaven, that when the child went to his &lt;/span&gt; &lt;span&gt;&lt;span style=&quot;display:inline-table;&quot;&gt;&lt;span style=&quot;display:table-row;&quot;&gt;&lt;span style=&quot;display:table-cell;&quot;&gt;&lt;span class=&quot;has-text-black has-text-weight-bold&quot;&gt;solitary&lt;/span&gt;&lt;/span&gt; &lt;span style=&quot;display:table-cell;&quot;&gt;&lt;span class=&quot;has-text-grey-light&quot;&gt;literal&lt;/span&gt;&lt;/span&gt; &lt;span style=&quot;display:table-cell; opacity:1.0;&quot;&gt;&lt;span class=&quot;tag is-warning&quot;&gt;54%&lt;/span&gt;&lt;/span&gt;&lt;/span&gt;&lt;/span&gt;&lt;/span&gt; &lt;span class=&quot;has-text-grey-light&quot;&gt;bed, he dreamed about the star; and dreamed that, lying &lt;/span&gt;&lt;/span&gt;&lt;/div&gt;&lt;/mediaContent&gt;&lt;/media&gt;&lt;media&gt;&lt;mediaLeft&gt;&lt;p class=&quot;image is-64x64&quot;&gt;&lt;span class=&quot;buttons&quot;&gt;&lt;span class=&quot;has-text-weight-bold&quot;&gt;51.6%&lt;/span&gt;&lt;br /&gt;&lt;div&gt;&lt;/div&gt;&lt;/span&gt;&lt;/p&gt;&lt;/mediaLeft&gt;&lt;mediaContent&gt;&lt;span style=&quot;font-variant: small-caps;&quot;&gt;&lt;/span&gt;&lt;div class=&quot;is-pulled-right&quot;&gt;&lt;small&gt;Anonymous, &lt;/small&gt;&lt;small class=&quot;is-italic&quot;&gt;A Child&#x27;s Dream of a Star, &lt;/small&gt;&lt;small&gt;par. 50&lt;/small&gt;&lt;/div&gt;&lt;div&gt;&lt;br /&gt;&lt;br /&gt;&lt;span&gt;&lt;span class=&quot;has-text-grey-light&quot;&gt;smooth face was wrinkled, and his steps were slow and &lt;/span&gt; &lt;span&gt;&lt;span style=&quot;display:inline-table;&quot;&gt;&lt;span style=&quot;display:table-row;&quot;&gt;&lt;span style=&quot;display:table-cell;&quot;&gt;&lt;span class=&quot;has-text-black has-text-weight-bold&quot;&gt;feeble&lt;/span&gt;&lt;/span&gt; &lt;span style=&quot;display:table-cell;&quot;&gt;&lt;span class=&quot;has-text-grey-light&quot;&gt;literal&lt;/span&gt;&lt;/span&gt; &lt;span style=&quot;display:table-cell; opacity:1.0;&quot;&gt;&lt;span class=&quot;tag is-warning&quot;&gt;51%&lt;/span&gt;&lt;/span&gt;&lt;/span&gt;&lt;/span&gt;&lt;/span&gt; &lt;span class=&quot;has-text-grey-light&quot;&gt;and his back was bent. And one night as he &lt;/span&gt;&lt;/span&gt;&lt;/div&gt;&lt;/mediaContent&gt;&lt;/media&gt;\n",
       "\t\t\t&lt;/div&gt;\n",
       "\t\t&lt;/div&gt;\n",
       "\t&lt;/body&gt;\n",
       "&lt;/html&gt;\"\n",
       "\t\t            frameborder=\"0\"\n",
       "\t\t            allowfullscreen\n",
       "\t\t        ></iframe>\n",
       "\t\t        <script>\n",
       "\t\t        \tvar f = document.getElementById(\"vectorian-iframe-1613555553260079000\");\n",
       "\t\t        \tf.onload = function() {\n",
       "\t\t\t        \tf.height = f.contentWindow.document.body.scrollHeight + \"px\";\n",
       "\t\t\t        };\n",
       "\t\t        </script>\n",
       "\t\t"
      ],
      "text/plain": [
       "<vectorian.session.LabResult at 0x7fa8b6c0a610>"
      ]
     },
     "execution_count": 8,
     "metadata": {},
     "output_type": "execute_result"
    }
   ],
   "source": [
    "r"
   ]
  },
  {
   "cell_type": "code",
   "execution_count": 2,
   "id": "integrated-officer",
   "metadata": {},
   "outputs": [],
   "source": [
    "from vectorian.embeddings import Glove\n",
    "glove = Glove()"
   ]
  },
  {
   "cell_type": "code",
   "execution_count": 6,
   "id": "headed-lotus",
   "metadata": {},
   "outputs": [
    {
     "name": "stderr",
     "output_type": "stream",
     "text": [
      "100%|██████████| 58/58 [00:00<00:00, 114.64it/s]\n"
     ]
    }
   ],
   "source": [
    "from vectorian.importers import NovelImporter\n",
    "from vectorian.session import LabSession\n",
    "\n",
    "im = NovelImporter(nlp)\n",
    "doc = im(\"/Users/arbeit/A Child's Dream of a Star.txt\")\n",
    "\n",
    "session = LabSession(\n",
    "    [doc],\n",
    "    [glove])"
   ]
  },
  {
   "cell_type": "code",
   "execution_count": 11,
   "id": "competent-horse",
   "metadata": {},
   "outputs": [
    {
     "data": {
      "application/vnd.jupyter.widget-view+json": {
       "model_id": "",
       "version_major": 2,
       "version_minor": 0
      },
      "text/plain": [
       "FloatProgress(value=0.0, layout=Layout(width='100%'), max=1.0)"
      ]
     },
     "metadata": {},
     "output_type": "display_data"
    },
    {
     "data": {
      "text/html": [
       "\n",
       "\t\t        <iframe\n",
       "\t\t        \tid=\"vectorian-iframe-1613558883447023000\"\n",
       "\t\t            width=\"100%\"\n",
       "\t\t            height=\"100%\"\n",
       "\t\t            srcdoc=\"&lt;!DOCTYPE html&gt;\n",
       "&lt;html&gt;\n",
       "\t&lt;head&gt;\n",
       "\t\t&lt;meta charset=&quot;utf-8&quot;&gt;\n",
       "\t\t&lt;meta name=&quot;viewport&quot; content=&quot;width=device-width, initial-scale=1&quot;&gt;\n",
       "\t\t&lt;title&gt;Vectorian&lt;/title&gt;\n",
       "\t\t&lt;link rel=&quot;stylesheet&quot; href=&quot;https://cdn.jsdelivr.net/npm/bulma@0.9.1/css/bulma.min.css&quot;&gt;\n",
       "\t&lt;/head&gt;\n",
       "\t&lt;body&gt;\n",
       "\t\t&lt;div class=&quot;container&quot; height=&quot;100%&quot;&gt;\n",
       "\t\t\t&lt;div class=&quot;section&quot;&gt;\n",
       "&lt;!DOCTYPE html&gt;&lt;media&gt;&lt;mediaLeft&gt;&lt;p class=&quot;image is-64x64&quot;&gt;&lt;span class=&quot;buttons&quot;&gt;&lt;span class=&quot;has-text-weight-bold&quot;&gt;100.0%&lt;/span&gt;&lt;br /&gt;&lt;div&gt;&lt;/div&gt;&lt;/span&gt;&lt;/p&gt;&lt;/mediaLeft&gt;&lt;mediaContent&gt;&lt;span style=&quot;font-variant: small-caps;&quot;&gt;&lt;/span&gt;&lt;div class=&quot;is-pulled-right&quot;&gt;&lt;small&gt;Anonymous, &lt;/small&gt;&lt;small class=&quot;is-italic&quot;&gt;A Child&#x27;s Dream of a Star, &lt;/small&gt;&lt;small&gt;par. 4&lt;/small&gt;&lt;/div&gt;&lt;div&gt;&lt;br /&gt;&lt;br /&gt;&lt;span&gt;&lt;span class=&quot;has-text-grey-light&quot;&gt;\n",
       "\n",
       "A CHILD’S DREAM OF A STAR.\n",
       "\n",
       "\n",
       "&lt;/span&gt; &lt;span&gt;&lt;span style=&quot;display:inline-table;&quot;&gt;&lt;span style=&quot;display:table-row;&quot;&gt;&lt;span style=&quot;display:table-cell;&quot;&gt;&lt;span class=&quot;has-text-black has-text-weight-bold&quot;&gt;Short&lt;/span&gt;&lt;/span&gt; &lt;span style=&quot;display:table-cell;&quot;&gt;&lt;span class=&quot;has-text-grey-light&quot;&gt;short&lt;/span&gt;&lt;/span&gt; &lt;span style=&quot;display:table-cell; opacity:1.0;&quot;&gt;&lt;span class=&quot;tag is-success&quot;&gt;100%&lt;/span&gt;&lt;/span&gt;&lt;/span&gt;&lt;/span&gt;&lt;/span&gt; &lt;span class=&quot;has-text-grey-light&quot;&gt;Stories Table of Contents.\n",
       "\n",
       "THERE was once a child, &lt;/span&gt;&lt;/span&gt;&lt;/div&gt;&lt;/mediaContent&gt;&lt;/media&gt;&lt;media&gt;&lt;mediaLeft&gt;&lt;p class=&quot;image is-64x64&quot;&gt;&lt;span class=&quot;buttons&quot;&gt;&lt;span class=&quot;has-text-weight-bold&quot;&gt;67.0%&lt;/span&gt;&lt;br /&gt;&lt;div&gt;&lt;/div&gt;&lt;/span&gt;&lt;/p&gt;&lt;/mediaLeft&gt;&lt;mediaContent&gt;&lt;span style=&quot;font-variant: small-caps;&quot;&gt;&lt;/span&gt;&lt;div class=&quot;is-pulled-right&quot;&gt;&lt;small&gt;Anonymous, &lt;/small&gt;&lt;small class=&quot;is-italic&quot;&gt;A Child&#x27;s Dream of a Star, &lt;/small&gt;&lt;small&gt;par. 19&lt;/small&gt;&lt;/div&gt;&lt;div&gt;&lt;br /&gt;&lt;br /&gt;&lt;span&gt;&lt;span class=&quot;has-text-grey-light&quot;&gt;up into the star; and some came out from the &lt;/span&gt; &lt;span&gt;&lt;span style=&quot;display:inline-table;&quot;&gt;&lt;span style=&quot;display:table-row;&quot;&gt;&lt;span style=&quot;display:table-cell;&quot;&gt;&lt;span class=&quot;has-text-black has-text-weight-bold&quot;&gt;long&lt;/span&gt;&lt;/span&gt; &lt;span style=&quot;display:table-cell;&quot;&gt;&lt;span class=&quot;has-text-grey-light&quot;&gt;short&lt;/span&gt;&lt;/span&gt; &lt;span style=&quot;display:table-cell; opacity:1.0;&quot;&gt;&lt;span class=&quot;tag is-warning&quot;&gt;67%&lt;/span&gt;&lt;/span&gt;&lt;/span&gt;&lt;/span&gt;&lt;/span&gt; &lt;span class=&quot;has-text-grey-light&quot;&gt;rows in which they stood, and fell upon the people&lt;/span&gt;&lt;/span&gt;&lt;/div&gt;&lt;/mediaContent&gt;&lt;/media&gt;&lt;media&gt;&lt;mediaLeft&gt;&lt;p class=&quot;image is-64x64&quot;&gt;&lt;span class=&quot;buttons&quot;&gt;&lt;span class=&quot;has-text-weight-bold&quot;&gt;67.0%&lt;/span&gt;&lt;br /&gt;&lt;div&gt;&lt;/div&gt;&lt;/span&gt;&lt;/p&gt;&lt;/mediaLeft&gt;&lt;mediaContent&gt;&lt;span style=&quot;font-variant: small-caps;&quot;&gt;&lt;/span&gt;&lt;div class=&quot;is-pulled-right&quot;&gt;&lt;small&gt;Anonymous, &lt;/small&gt;&lt;small class=&quot;is-italic&quot;&gt;A Child&#x27;s Dream of a Star, &lt;/small&gt;&lt;small&gt;par. 15&lt;/small&gt;&lt;/div&gt;&lt;div&gt;&lt;br /&gt;&lt;br /&gt;&lt;span&gt;&lt;span class=&quot;has-text-grey-light&quot;&gt;among the graves, not there before; and when the star made &lt;/span&gt; &lt;span&gt;&lt;span style=&quot;display:inline-table;&quot;&gt;&lt;span style=&quot;display:table-row;&quot;&gt;&lt;span style=&quot;display:table-cell;&quot;&gt;&lt;span class=&quot;has-text-black has-text-weight-bold&quot;&gt;long&lt;/span&gt;&lt;/span&gt; &lt;span style=&quot;display:table-cell;&quot;&gt;&lt;span class=&quot;has-text-grey-light&quot;&gt;short&lt;/span&gt;&lt;/span&gt; &lt;span style=&quot;display:table-cell; opacity:1.0;&quot;&gt;&lt;span class=&quot;tag is-warning&quot;&gt;67%&lt;/span&gt;&lt;/span&gt;&lt;/span&gt;&lt;/span&gt;&lt;/span&gt; &lt;span class=&quot;has-text-grey-light&quot;&gt;rays down towards him, as he saw it through his &lt;/span&gt;&lt;/span&gt;&lt;/div&gt;&lt;/mediaContent&gt;&lt;/media&gt;&lt;media&gt;&lt;mediaLeft&gt;&lt;p class=&quot;image is-64x64&quot;&gt;&lt;span class=&quot;buttons&quot;&gt;&lt;span class=&quot;has-text-weight-bold&quot;&gt;67.0%&lt;/span&gt;&lt;br /&gt;&lt;div&gt;&lt;/div&gt;&lt;/span&gt;&lt;/p&gt;&lt;/mediaLeft&gt;&lt;mediaContent&gt;&lt;span style=&quot;font-variant: small-caps;&quot;&gt;&lt;/span&gt;&lt;div class=&quot;is-pulled-right&quot;&gt;&lt;small&gt;Anonymous, &lt;/small&gt;&lt;small class=&quot;is-italic&quot;&gt;A Child&#x27;s Dream of a Star, &lt;/small&gt;&lt;small&gt;par. 25&lt;/small&gt;&lt;/div&gt;&lt;div&gt;&lt;br /&gt;&lt;br /&gt;&lt;span&gt;&lt;span class=&quot;has-text-grey-light&quot;&gt;night; and the star was shining into the room, making &lt;/span&gt; &lt;span&gt;&lt;span style=&quot;display:inline-table;&quot;&gt;&lt;span style=&quot;display:table-row;&quot;&gt;&lt;span style=&quot;display:table-cell;&quot;&gt;&lt;span class=&quot;has-text-black has-text-weight-bold&quot;&gt;long&lt;/span&gt;&lt;/span&gt; &lt;span style=&quot;display:table-cell;&quot;&gt;&lt;span class=&quot;has-text-grey-light&quot;&gt;short&lt;/span&gt;&lt;/span&gt; &lt;span style=&quot;display:table-cell; opacity:1.0;&quot;&gt;&lt;span class=&quot;tag is-warning&quot;&gt;67%&lt;/span&gt;&lt;/span&gt;&lt;/span&gt;&lt;/span&gt;&lt;/span&gt; &lt;span class=&quot;has-text-grey-light&quot;&gt;rays down towards him as he saw it through his &lt;/span&gt;&lt;/span&gt;&lt;/div&gt;&lt;/mediaContent&gt;&lt;/media&gt;\n",
       "\t\t\t&lt;/div&gt;\n",
       "\t\t&lt;/div&gt;\n",
       "\t&lt;/body&gt;\n",
       "&lt;/html&gt;\"\n",
       "\t\t            frameborder=\"0\"\n",
       "\t\t            allowfullscreen\n",
       "\t\t        ></iframe>\n",
       "\t\t        <script>\n",
       "\t\t        \tvar f = document.getElementById(\"vectorian-iframe-1613558883447023000\");\n",
       "\t\t        \tf.onload = function() {\n",
       "\t\t\t        \tf.height = f.contentWindow.document.body.scrollHeight + \"px\";\n",
       "\t\t\t        };\n",
       "\t\t        </script>\n",
       "\t\t"
      ],
      "text/plain": [
       "<vectorian.session.LabResult at 0x7f860b43af70>"
      ]
     },
     "execution_count": 11,
     "metadata": {},
     "output_type": "execute_result"
    }
   ],
   "source": [
    "query = nlp(\"short\")\n",
    "r = session.find(query, n=3)\n",
    "r"
   ]
  },
  {
   "cell_type": "code",
   "execution_count": null,
   "id": "qualified-track",
   "metadata": {},
   "outputs": [],
   "source": []
  },
  {
   "cell_type": "code",
   "execution_count": 1,
   "id": "representative-confirmation",
   "metadata": {},
   "outputs": [
    {
     "data": {
      "image/png": "[encoded data removed]",
      "text/plain": [
       "<Figure size 432x288 with 1 Axes>"
      ]
     },
     "metadata": {
      "needs_background": "light"
     },
     "output_type": "display_data"
    }
   ],
   "source": [
    "from vectorian.alignment import LinearGapCost, WatermanSmithBeyer\n",
    "\n",
    "LinearGapCost(0.2)"
   ]
  },
  {
   "cell_type": "code",
   "execution_count": 3,
   "id": "automotive-height",
   "metadata": {},
   "outputs": [
    {
     "data": {
      "text/plain": [
       "{'algorithm': 'wsb', 'gap': array([0.2], dtype=float32), 'zero': 0.5}"
      ]
     },
     "execution_count": 3,
     "metadata": {},
     "output_type": "execute_result"
    }
   ],
   "source": [
    "#session.exponential_gap_costs(5)  # , 20)session.max_sentence_len\n",
    "\n",
    "waterman_smith_beyer(gap=0.2, zero=0.5)"
   ]
  },
  {
   "cell_type": "code",
   "execution_count": 5,
   "id": "internal-tournament",
   "metadata": {},
   "outputs": [
    {
     "data": {
      "text/plain": [
       "True"
      ]
     },
     "execution_count": 5,
     "metadata": {},
     "output_type": "execute_result"
    }
   ],
   "source": [
    "r = session.find(query, n=3, options={\n",
    "    'alignment': WatermanSmithBeyer(gap=LinearGapCost(0.2), zero=0.5)\n",
    "})"
   ]
  },
  {
   "cell_type": "code",
   "execution_count": null,
   "id": "critical-killer",
   "metadata": {},
   "outputs": [],
   "source": []
  }
 ],
 "metadata": {
  "kernelspec": {
   "display_name": "Python 3",
   "language": "python",
   "name": "python3"
  },
  "language_info": {
   "codemirror_mode": {
    "name": "ipython",
    "version": 3
   },
   "file_extension": ".py",
   "mimetype": "text/x-python",
   "name": "python",
   "nbconvert_exporter": "python",
   "pygments_lexer": "ipython3",
   "version": "3.8.5"
  }
 },
 "nbformat": 4,
 "nbformat_minor": 5
}

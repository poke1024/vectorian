{
 "cells": [
  {
   "cell_type": "code",
   "execution_count": 1,
   "id": "solar-intelligence",
   "metadata": {},
   "outputs": [],
   "source": [
    "from pathlib import Path\n",
    "\n",
    "import os\n",
    "import sys\n",
    "\n",
    "current_path = Path(os.getcwd())\n",
    "sys.path.append(str(current_path))"
   ]
  },
  {
   "cell_type": "code",
   "execution_count": 2,
   "id": "determined-catalyst",
   "metadata": {},
   "outputs": [
    {
     "name": "stdout",
     "output_type": "stream",
     "text": [
      "Matching checksum for /Users/arbeit/Projects/vectorian-2021/vectorian/core/cpp/core.cpp --> not compiling\n"
     ]
    }
   ],
   "source": [
    "import vectorian\n",
    "vectorian.compile()"
   ]
  },
  {
   "cell_type": "code",
   "execution_count": 3,
   "id": "first-deficit",
   "metadata": {},
   "outputs": [],
   "source": [
    "import spacy\n",
    "nlp = spacy.load(\"en_core_web_sm\")"
   ]
  },
  {
   "cell_type": "code",
   "execution_count": 4,
   "id": "alike-correction",
   "metadata": {},
   "outputs": [],
   "source": [
    "import vectorian\n",
    "from vectorian.embeddings import FastText\n",
    "\n",
    "fasttext = FastText(\"en\")"
   ]
  },
  {
   "cell_type": "code",
   "execution_count": 5,
   "id": "manual-pipeline",
   "metadata": {},
   "outputs": [],
   "source": [
    "import vectorian.utils as utils\n",
    "\n",
    "token_mappings = {\n",
    "    \"tokenizer\": [],\n",
    "    \"tagger\": []\n",
    "}\n",
    "\n",
    "token_mappings[\"tokenizer\"].append(utils.lowercase())\n",
    "token_mappings[\"tokenizer\"].append(utils.erase(\"W\"))\n",
    "token_mappings[\"tokenizer\"].append(utils.alpha())\n",
    "\n",
    "def filter_punct(t):\n",
    "    return None if t[\"pos\"] == \"PUNCT\" else t\n",
    "\n",
    "token_mappings[\"tagger\"].append(filter_punct)\n",
    "token_mappings[\"tagger\"].append(utils.rewrite({\n",
    "    'pos': {\n",
    "        'PROPN': 'NOUN'\n",
    "    },\n",
    "    'tag': {\n",
    "        'NNP': 'NN',\n",
    "        'NNPS': 'NNS',\n",
    "    }\n",
    "}))\n",
    "\n"
   ]
  },
  {
   "cell_type": "code",
   "execution_count": 6,
   "id": "advanced-association",
   "metadata": {},
   "outputs": [
    {
     "name": "stderr",
     "output_type": "stream",
     "text": [
      "Importing <string>: 100%|██████████| 1/1 [00:00<00:00, 59.21it/s]\n"
     ]
    }
   ],
   "source": [
    "from vectorian.importers import StringImporter\n",
    "from vectorian.session import LabSession\n",
    "from vectorian.metrics import CosineMetric, TokenSimilarityMetric\n",
    "from vectorian.metrics import AlignmentSentenceMetric\n",
    "from vectorian.alignment import WatermanSmithBeyer\n",
    "\n",
    "im = StringImporter(nlp)\n",
    "doc = im(\"Hey, ye want to talk like a pirate, eh?\")\n",
    "\n",
    "metric = AlignmentSentenceMetric(\n",
    "    token_metric=TokenSimilarityMetric(fasttext, CosineMetric()),\n",
    "    alignment=WatermanSmithBeyer())\n",
    "\n",
    "session = LabSession(\n",
    "    [doc],\n",
    "    static_embeddings=[fasttext],\n",
    "    token_mappings=token_mappings)\n",
    "\n",
    "index = session.partition(\"sentence\").index(metric, nlp)"
   ]
  },
  {
   "cell_type": "code",
   "execution_count": 7,
   "id": "useful-emission",
   "metadata": {},
   "outputs": [
    {
     "name": "stdout",
     "output_type": "stream",
     "text": [
      "metric:\n",
      "  alignment:\n",
      "    algorithm: wsb\n",
      "    gap: !!python/object/apply:numpy.core.multiarray._reconstruct\n",
      "      args:\n",
      "      - !!python/name:numpy.ndarray ''\n",
      "      - !!python/tuple\n",
      "        - 0\n",
      "      - !!binary |\n",
      "        Yg==\n",
      "      state: !!python/tuple\n",
      "      - 1\n",
      "      - !!python/tuple\n",
      "        - 9\n",
      "      - !!python/object/apply:numpy.dtype\n",
      "        args:\n",
      "        - f4\n",
      "        - false\n",
      "        - true\n",
      "        state: !!python/tuple\n",
      "        - 3\n",
      "        - <\n",
      "        - null\n",
      "        - null\n",
      "        - null\n",
      "        - -1\n",
      "        - -1\n",
      "        - 0\n",
      "      - false\n",
      "      - !!binary |\n",
      "        AAAAAAAAAAAAAAAAAAAAAAAAAAAAAAAAAAAAAAAAAAAAAAAA\n",
      "    zero: 0.5\n",
      "  metric: alignment-isolated\n",
      "  token_metric:\n",
      "    embedding: fasttext-en\n",
      "    metric: cosine\n",
      "    name: fasttext-en-cosine\n",
      "    options: {}\n",
      "partition:\n",
      "  level: sentence\n",
      "  window_size: 1\n",
      "  window_step: 1\n",
      "\n"
     ]
    }
   ],
   "source": [
    "index.describe()"
   ]
  },
  {
   "cell_type": "code",
   "execution_count": 6,
   "id": "indian-winning",
   "metadata": {},
   "outputs": [
    {
     "data": {
      "text/plain": [
       "[<vectorian.corpus.document.PreparedDocument at 0x7ffa69dc8070>]"
      ]
     },
     "execution_count": 6,
     "metadata": {},
     "output_type": "execute_result"
    }
   ],
   "source": [
    "session.documents"
   ]
  },
  {
   "cell_type": "code",
   "execution_count": null,
   "id": "binding-windows",
   "metadata": {},
   "outputs": [],
   "source": []
  },
  {
   "cell_type": "code",
   "execution_count": 7,
   "id": "opposite-bouquet",
   "metadata": {},
   "outputs": [],
   "source": [
    "def debug(args):\n",
    "    if args[\"hook\"] == \"sim_matrix\":\n",
    "        print(args[\"matrix\"].shape)"
   ]
  },
  {
   "cell_type": "code",
   "execution_count": null,
   "id": "broad-maryland",
   "metadata": {},
   "outputs": [],
   "source": []
  },
  {
   "cell_type": "code",
   "execution_count": 8,
   "id": "prompt-verification",
   "metadata": {},
   "outputs": [
    {
     "data": {
      "application/vnd.jupyter.widget-view+json": {
       "model_id": "",
       "version_major": 2,
       "version_minor": 0
      },
      "text/plain": [
       "FloatProgress(value=0.0, layout=Layout(width='100%'), max=1.0)"
      ]
     },
     "metadata": {},
     "output_type": "display_data"
    },
    {
     "name": "stdout",
     "output_type": "stream",
     "text": [
      "(10, 1)\n"
     ]
    },
    {
     "data": {
      "text/html": [
       "\n",
       "<iframe\n",
       "\tid=\"vectorian-1615306316619106000-140425627453808-1\"\n",
       "\twidth=\"100%\"\n",
       "\theight=\"100%\"\n",
       "\tsrcdoc=\"&lt;!DOCTYPE html&gt;\n",
       "&lt;html&gt;\n",
       "\t&lt;head&gt;\n",
       "\t\t&lt;meta charset=&quot;utf-8&quot;&gt;\n",
       "\t\t&lt;meta name=&quot;viewport&quot; content=&quot;width=device-width, initial-scale=1&quot;&gt;\n",
       "\t\t&lt;title&gt;Vectorian&lt;/title&gt;\n",
       "\t\t&lt;link rel=&quot;stylesheet&quot; href=&quot;https://cdn.jsdelivr.net/npm/bulma@0.9.1/css/bulma.min.css&quot;&gt;\n",
       "\t\t&lt;script src=&quot;https://cdn.anychart.com/releases/v8/js/anychart-core.min.js&quot;&gt;&lt;/script&gt;\n",
       "\t\t&lt;script src=&quot;https://cdn.anychart.com/releases/v8/js/anychart-sankey.min.js&quot;&gt;&lt;/script&gt;\n",
       "\t&lt;/head&gt;\n",
       "\t&lt;body&gt;\n",
       "\t\t&lt;div class=&quot;container&quot; height=&quot;100%&quot;&gt;\n",
       "\t\t\t&lt;div class=&quot;section&quot;&gt;\n",
       "&lt;!DOCTYPE html&gt;&lt;article class=&quot;media&quot;&gt;&lt;div class=&quot;media-left&quot;&gt;&lt;p class=&quot;image is-64x64&quot;&gt;&lt;span class=&quot;buttons&quot;&gt;&lt;span class=&quot;has-text-weight-bold&quot;&gt;60.1%&lt;/span&gt;&lt;br /&gt;&lt;div&gt;&lt;/div&gt;&lt;/span&gt;&lt;/p&gt;&lt;/div&gt;&lt;div class=&quot;media-content&quot;&gt;&lt;div class=&quot;is-pulled-right&quot;&gt;&lt;small&gt;&lt;/small&gt;&lt;/div&gt;&lt;div&gt;&lt;br /&gt;&lt;br /&gt;&lt;span&gt;&lt;span class=&quot;has-text-grey-light&quot;&gt;Hey, ye want to &lt;/span&gt; &lt;span&gt;&lt;span style=&quot;display:inline-table;&quot;&gt;&lt;span style=&quot;display:table-row;&quot;&gt;&lt;span style=&quot;display:table-cell;&quot;&gt;&lt;span class=&quot;has-text-black has-text-weight-bold&quot;&gt;talk&lt;/span&gt;&lt;/span&gt; &lt;span style=&quot;display:table-cell;&quot;&gt;&lt;span class=&quot;tag is-light&quot;&gt;speak&lt;/span&gt;&lt;/span&gt; &lt;span style=&quot;display:table-cell; opacity:1.0;&quot;&gt;&lt;span class=&quot;tag is-warning&quot;&gt;60%&lt;/span&gt;&lt;/span&gt;&lt;/span&gt;&lt;/span&gt;&lt;/span&gt; &lt;span class=&quot;has-text-grey-light&quot;&gt;like a pirate, eh&lt;/span&gt;&lt;/span&gt;&lt;/div&gt;&lt;/div&gt;&lt;/article&gt;\n",
       "\t\t\t&lt;/div&gt;\n",
       "\t\t&lt;/div&gt;\n",
       "\t\t&lt;script&gt;\n",
       "\t\t\t\n",
       "\t\t&lt;/script&gt;\n",
       "\t&lt;/body&gt;\n",
       "&lt;/html&gt;\"\n",
       "\tframeborder=\"0\"\n",
       "\tallowfullscreen\n",
       "></iframe>\n",
       "<script>\n",
       "\t\n",
       "var f = document.getElementById(\"vectorian-1615306316619106000-140425627453808-1\");\n",
       "f.onload = function() {\n",
       "\tf.height = f.contentWindow.document.body.scrollHeight + \"px\";\n",
       "};\n",
       "\n",
       "</script>\n"
      ],
      "text/plain": [
       "<vectorian.session.LabResult at 0x7fb7639f97c0>"
      ]
     },
     "execution_count": 8,
     "metadata": {},
     "output_type": "execute_result"
    }
   ],
   "source": [
    "r = index.find(\"speak\", n=1, debug=debug)\n",
    "r"
   ]
  },
  {
   "cell_type": "code",
   "execution_count": 9,
   "id": "historical-addition",
   "metadata": {},
   "outputs": [
    {
     "data": {
      "text/html": [
       "\n",
       "<iframe\n",
       "\tid=\"vectorian-1615306319033372000-140420205532160-1\"\n",
       "\twidth=\"100%\"\n",
       "\theight=\"100%\"\n",
       "\tsrcdoc=\"&lt;!DOCTYPE html&gt;\n",
       "&lt;html&gt;\n",
       "\t&lt;head&gt;\n",
       "\t\t&lt;meta charset=&quot;utf-8&quot;&gt;\n",
       "\t\t&lt;meta name=&quot;viewport&quot; content=&quot;width=device-width, initial-scale=1&quot;&gt;\n",
       "\t\t&lt;title&gt;Vectorian&lt;/title&gt;\n",
       "\t\t&lt;link rel=&quot;stylesheet&quot; href=&quot;https://cdn.jsdelivr.net/npm/bulma@0.9.1/css/bulma.min.css&quot;&gt;\n",
       "\t\t&lt;script src=&quot;https://cdn.anychart.com/releases/v8/js/anychart-core.min.js&quot;&gt;&lt;/script&gt;\n",
       "\t\t&lt;script src=&quot;https://cdn.anychart.com/releases/v8/js/anychart-sankey.min.js&quot;&gt;&lt;/script&gt;\n",
       "\t&lt;/head&gt;\n",
       "\t&lt;body&gt;\n",
       "\t\t&lt;div class=&quot;container&quot; height=&quot;100%&quot;&gt;\n",
       "\t\t\t&lt;div class=&quot;section&quot;&gt;\n",
       "&lt;!DOCTYPE html&gt;&lt;article class=&quot;media&quot;&gt;&lt;div class=&quot;media-left&quot;&gt;&lt;p class=&quot;image is-64x64&quot;&gt;&lt;span class=&quot;buttons&quot;&gt;&lt;span class=&quot;has-text-weight-bold&quot;&gt;60.1%&lt;/span&gt;&lt;br /&gt;&lt;div&gt;&lt;/div&gt;&lt;/span&gt;&lt;div class=&quot;is-size-7&quot;&gt;&lt;div&gt;doc/version: 1.0&lt;/div&gt;&lt;div&gt;doc/unique_id: 2021-03-09 17:11:03.239275&lt;/div&gt;&lt;div&gt;doc/origin: &amp;lt;string&amp;gt;&lt;/div&gt;&lt;div&gt;slice: 0&lt;/div&gt;&lt;/div&gt;&lt;/p&gt;&lt;/div&gt;&lt;div class=&quot;media-content&quot;&gt;&lt;div class=&quot;is-pulled-right&quot;&gt;&lt;small&gt;&lt;/small&gt;&lt;/div&gt;&lt;div&gt;&lt;br /&gt;&lt;br /&gt;&lt;span&gt;&lt;span class=&quot;has-text-grey-light&quot;&gt;Hey, ye want to &lt;/span&gt; &lt;span&gt;&lt;span style=&quot;display:inline-table;&quot;&gt;&lt;span style=&quot;display:table-row;&quot;&gt;&lt;span style=&quot;display:table-cell;&quot;&gt;&lt;span class=&quot;has-text-black has-text-weight-bold&quot;&gt;talk&lt;/span&gt;&lt;/span&gt; &lt;span style=&quot;display:table-cell;&quot;&gt;&lt;span class=&quot;tag is-light&quot;&gt;speak&lt;/span&gt;&lt;/span&gt; &lt;span style=&quot;display:table-cell; opacity:1.0;&quot;&gt;&lt;span class=&quot;tag is-warning&quot;&gt;60%&lt;/span&gt;&lt;/span&gt;&lt;/span&gt;&lt;/span&gt;&lt;/span&gt; &lt;span class=&quot;has-text-grey-light&quot;&gt;like a pirate, eh&lt;/span&gt;&lt;/span&gt;&lt;/div&gt;&lt;/div&gt;&lt;/article&gt;\n",
       "\t\t\t&lt;/div&gt;\n",
       "\t\t&lt;/div&gt;\n",
       "\t\t&lt;script&gt;\n",
       "\t\t\t\n",
       "\t\t&lt;/script&gt;\n",
       "\t&lt;/body&gt;\n",
       "&lt;/html&gt;\"\n",
       "\tframeborder=\"0\"\n",
       "\tallowfullscreen\n",
       "></iframe>\n",
       "<script>\n",
       "\t\n",
       "var f = document.getElementById(\"vectorian-1615306319033372000-140420205532160-1\");\n",
       "f.onload = function() {\n",
       "\tf.height = f.contentWindow.document.body.scrollHeight + \"px\";\n",
       "};\n",
       "\n",
       "</script>\n"
      ],
      "text/plain": [
       "<vectorian.session.LabResult at 0x7fb7639e6340>"
      ]
     },
     "execution_count": 9,
     "metadata": {},
     "output_type": "execute_result"
    }
   ],
   "source": [
    "r.annotate(\"metadata\")"
   ]
  },
  {
   "cell_type": "code",
   "execution_count": 10,
   "id": "subsequent-identity",
   "metadata": {},
   "outputs": [
    {
     "data": {
      "text/html": [
       "\n",
       "<iframe\n",
       "\tid=\"vectorian-1615306322167765000-140420205534608-2\"\n",
       "\twidth=\"100%\"\n",
       "\theight=\"100%\"\n",
       "\tsrcdoc=\"&lt;!DOCTYPE html&gt;\n",
       "&lt;html&gt;\n",
       "\t&lt;head&gt;\n",
       "\t\t&lt;meta charset=&quot;utf-8&quot;&gt;\n",
       "\t\t&lt;meta name=&quot;viewport&quot; content=&quot;width=device-width, initial-scale=1&quot;&gt;\n",
       "\t\t&lt;title&gt;Vectorian&lt;/title&gt;\n",
       "\t\t&lt;link rel=&quot;stylesheet&quot; href=&quot;https://cdn.jsdelivr.net/npm/bulma@0.9.1/css/bulma.min.css&quot;&gt;\n",
       "\t\t&lt;script src=&quot;https://cdn.anychart.com/releases/v8/js/anychart-core.min.js&quot;&gt;&lt;/script&gt;\n",
       "\t\t&lt;script src=&quot;https://cdn.anychart.com/releases/v8/js/anychart-sankey.min.js&quot;&gt;&lt;/script&gt;\n",
       "\t&lt;/head&gt;\n",
       "\t&lt;body&gt;\n",
       "\t\t&lt;div class=&quot;container&quot; height=&quot;100%&quot;&gt;\n",
       "\t\t\t&lt;div class=&quot;section&quot;&gt;\n",
       "&lt;!DOCTYPE html&gt;&lt;article class=&quot;media&quot;&gt;&lt;div class=&quot;media-left&quot;&gt;&lt;p class=&quot;image is-64x64&quot;&gt;&lt;span class=&quot;buttons&quot;&gt;&lt;span class=&quot;has-text-weight-bold&quot;&gt;60.1%&lt;/span&gt;&lt;br /&gt;&lt;div&gt;&lt;/div&gt;&lt;/span&gt;&lt;/p&gt;&lt;/div&gt;&lt;div class=&quot;media-content&quot;&gt;&lt;div class=&quot;is-pulled-right&quot;&gt;&lt;small&gt;&lt;/small&gt;&lt;/div&gt;&lt;div&gt;&lt;br /&gt;&lt;br /&gt;&lt;span&gt;&lt;span class=&quot;has-text-grey-light&quot;&gt;Hey, ye want to &lt;/span&gt; &lt;span&gt;&lt;span style=&quot;display:inline-table;&quot;&gt;&lt;span style=&quot;display:table-row;&quot;&gt;&lt;span style=&quot;display:table-cell;&quot;&gt;&lt;span class=&quot;has-text-black has-text-weight-bold&quot;&gt;talk&lt;/span&gt;&lt;/span&gt; &lt;span style=&quot;display:table-cell;&quot;&gt;&lt;span class=&quot;tag is-light&quot;&gt;speak&lt;/span&gt;&lt;/span&gt; &lt;span style=&quot;display:table-cell; opacity:1.0;&quot;&gt;&lt;span class=&quot;tag is-warning&quot;&gt;60%&lt;/span&gt;&lt;/span&gt;&lt;/span&gt;&lt;/span&gt;&lt;/span&gt; &lt;span class=&quot;has-text-grey-light&quot;&gt;like a pirate, eh&lt;/span&gt;&lt;/span&gt;&lt;div id=&quot;vectorian-1615306322167765000-140420205534608-1&quot;&gt;&lt;/div&gt;&lt;/div&gt;&lt;/div&gt;&lt;/article&gt;\n",
       "\t\t\t&lt;/div&gt;\n",
       "\t\t&lt;/div&gt;\n",
       "\t\t&lt;script&gt;\n",
       "\t\t\t\n",
       "anychart.onDocumentReady(function(){\n",
       "\tvar data = [\n",
       "\t{from: &quot;Google&quot;, to: &quot;Facebook&quot;, weight: 20000},\n",
       "\t{from: &quot;Google&quot;, to: &quot;Twitter&quot;, weight: 17000},\n",
       "\t{from: &quot;Google&quot;, to: &quot;YouTube&quot;, weight: 8000},\n",
       "\t{from: &quot;Google&quot;, to: &quot;Wikipedia&quot;, weight: 11000},\n",
       "\t{from: &quot;Bing&quot;, to: &quot;Facebook&quot;, weight: 7500},\n",
       "\t{from: &quot;Bing&quot;, to: &quot;Twitter&quot;, weight: 5000},\n",
       "\t{from: &quot;Bing&quot;, to: &quot;Wikipedia&quot;, weight: 4000}\n",
       "\t];\n",
       "\tvar sankey_chart = anychart.sankey(data);\n",
       "\tsankey_chart.nodeWidth(&quot;20%&quot;);\n",
       "\tsankey_chart.title(&quot;&quot;);\n",
       "\tsankey_chart.nodePadding(20);\n",
       "\tsankey_chart.container(&quot;vectorian-1615306322167765000-140420205534608-1&quot;);\n",
       "\tsankey_chart.draw();\n",
       "});\n",
       "\n",
       "\t\t&lt;/script&gt;\n",
       "\t&lt;/body&gt;\n",
       "&lt;/html&gt;\"\n",
       "\tframeborder=\"0\"\n",
       "\tallowfullscreen\n",
       "></iframe>\n",
       "<script>\n",
       "\t\n",
       "var f = document.getElementById(\"vectorian-1615306322167765000-140420205534608-2\");\n",
       "f.onload = function() {\n",
       "\tf.height = f.contentWindow.document.body.scrollHeight + \"px\";\n",
       "};\n",
       "\n",
       "</script>\n"
      ],
      "text/plain": [
       "<vectorian.session.LabResult at 0x7fb620785e80>"
      ]
     },
     "execution_count": 10,
     "metadata": {},
     "output_type": "execute_result"
    }
   ],
   "source": [
    "r.annotate(\"flow\")"
   ]
  },
  {
   "cell_type": "code",
   "execution_count": 11,
   "id": "photographic-refrigerator",
   "metadata": {},
   "outputs": [
    {
     "ename": "KeyError",
     "evalue": "'style'",
     "output_type": "error",
     "traceback": [
      "\u001b[0;31m---------------------------------------------------------------------------\u001b[0m",
      "\u001b[0;31mKeyError\u001b[0m                                  Traceback (most recent call last)",
      "\u001b[0;32m/opt/miniconda3/envs/vectorian2021/lib/python3.8/site-packages/IPython/core/formatters.py\u001b[0m in \u001b[0;36m__call__\u001b[0;34m(self, obj)\u001b[0m\n\u001b[1;32m    343\u001b[0m             \u001b[0mmethod\u001b[0m \u001b[0;34m=\u001b[0m \u001b[0mget_real_method\u001b[0m\u001b[0;34m(\u001b[0m\u001b[0mobj\u001b[0m\u001b[0;34m,\u001b[0m \u001b[0mself\u001b[0m\u001b[0;34m.\u001b[0m\u001b[0mprint_method\u001b[0m\u001b[0;34m)\u001b[0m\u001b[0;34m\u001b[0m\u001b[0;34m\u001b[0m\u001b[0m\n\u001b[1;32m    344\u001b[0m             \u001b[0;32mif\u001b[0m \u001b[0mmethod\u001b[0m \u001b[0;32mis\u001b[0m \u001b[0;32mnot\u001b[0m \u001b[0;32mNone\u001b[0m\u001b[0;34m:\u001b[0m\u001b[0;34m\u001b[0m\u001b[0;34m\u001b[0m\u001b[0m\n\u001b[0;32m--> 345\u001b[0;31m                 \u001b[0;32mreturn\u001b[0m \u001b[0mmethod\u001b[0m\u001b[0;34m(\u001b[0m\u001b[0;34m)\u001b[0m\u001b[0;34m\u001b[0m\u001b[0;34m\u001b[0m\u001b[0m\n\u001b[0m\u001b[1;32m    346\u001b[0m             \u001b[0;32mreturn\u001b[0m \u001b[0;32mNone\u001b[0m\u001b[0;34m\u001b[0m\u001b[0;34m\u001b[0m\u001b[0m\n\u001b[1;32m    347\u001b[0m         \u001b[0;32melse\u001b[0m\u001b[0;34m:\u001b[0m\u001b[0;34m\u001b[0m\u001b[0;34m\u001b[0m\u001b[0m\n",
      "\u001b[0;32m~/Projects/vectorian-2021/vectorian/corpus/document.py\u001b[0m in \u001b[0;36m_repr_html_\u001b[0;34m(self)\u001b[0m\n\u001b[1;32m    234\u001b[0m                 \u001b[0mtokens\u001b[0m \u001b[0;34m=\u001b[0m \u001b[0;34m[\u001b[0m\u001b[0;34m]\u001b[0m\u001b[0;34m\u001b[0m\u001b[0;34m\u001b[0m\u001b[0m\n\u001b[1;32m    235\u001b[0m                 \u001b[0;32mfor\u001b[0m \u001b[0mi\u001b[0m \u001b[0;32min\u001b[0m \u001b[0mrange\u001b[0m\u001b[0;34m(\u001b[0m\u001b[0mself\u001b[0m\u001b[0;34m.\u001b[0m\u001b[0m_end\u001b[0m \u001b[0;34m-\u001b[0m \u001b[0mself\u001b[0m\u001b[0;34m.\u001b[0m\u001b[0m_start\u001b[0m\u001b[0;34m)\u001b[0m\u001b[0;34m:\u001b[0m\u001b[0;34m\u001b[0m\u001b[0;34m\u001b[0m\u001b[0m\n\u001b[0;32m--> 236\u001b[0;31m                         \u001b[0mtokens\u001b[0m\u001b[0;34m.\u001b[0m\u001b[0mappend\u001b[0m\u001b[0;34m(\u001b[0m\u001b[0mself\u001b[0m\u001b[0;34m[\u001b[0m\u001b[0mi\u001b[0m\u001b[0;34m]\u001b[0m\u001b[0;34m.\u001b[0m\u001b[0m_repr_html_\u001b[0m\u001b[0;34m(\u001b[0m\u001b[0;34m)\u001b[0m\u001b[0;34m)\u001b[0m\u001b[0;34m\u001b[0m\u001b[0;34m\u001b[0m\u001b[0m\n\u001b[0m\u001b[1;32m    237\u001b[0m                 \u001b[0;32mreturn\u001b[0m \u001b[0;34m\" \"\u001b[0m\u001b[0;34m.\u001b[0m\u001b[0mjoin\u001b[0m\u001b[0;34m(\u001b[0m\u001b[0mtokens\u001b[0m\u001b[0;34m)\u001b[0m\u001b[0;34m\u001b[0m\u001b[0;34m\u001b[0m\u001b[0m\n\u001b[1;32m    238\u001b[0m \u001b[0;34m\u001b[0m\u001b[0m\n",
      "\u001b[0;32m~/Projects/vectorian-2021/vectorian/corpus/document.py\u001b[0m in \u001b[0;36m_repr_html_\u001b[0;34m(self)\u001b[0m\n\u001b[1;32m    201\u001b[0m \u001b[0;34m\u001b[0m\u001b[0m\n\u001b[1;32m    202\u001b[0m         \u001b[0;32mdef\u001b[0m \u001b[0m_repr_html_\u001b[0m\u001b[0;34m(\u001b[0m\u001b[0mself\u001b[0m\u001b[0;34m)\u001b[0m\u001b[0;34m:\u001b[0m\u001b[0;34m\u001b[0m\u001b[0;34m\u001b[0m\u001b[0m\n\u001b[0;32m--> 203\u001b[0;31m \t\treturn Token._html_template.format(\n\u001b[0m\u001b[1;32m    204\u001b[0m \t\t\tcss=Token._css, text=html.escape(self.text))\n\u001b[1;32m    205\u001b[0m \u001b[0;34m\u001b[0m\u001b[0m\n",
      "\u001b[0;31mKeyError\u001b[0m: 'style'"
     ]
    },
    {
     "data": {
      "text/plain": [
       "<vectorian.corpus.document.Span at 0x7fb620785bb0>"
      ]
     },
     "execution_count": 11,
     "metadata": {},
     "output_type": "execute_result"
    }
   ],
   "source": [
    "r[0].doc_span "
   ]
  },
  {
   "cell_type": "code",
   "execution_count": 14,
   "id": "animated-chicken",
   "metadata": {},
   "outputs": [
    {
     "data": {
      "text/html": [
       "<span style=\"background:lightgray; border-radius:0.25em;\">Hey</span>"
      ],
      "text/plain": [
       "<vectorian.corpus.document.Token at 0x7f8a50247a00>"
      ]
     },
     "execution_count": 14,
     "metadata": {},
     "output_type": "execute_result"
    }
   ],
   "source": [
    "r[0].doc_span[0]"
   ]
  },
  {
   "cell_type": "code",
   "execution_count": 15,
   "id": "fifty-offer",
   "metadata": {},
   "outputs": [
    {
     "data": {
      "text/html": [
       "<span style=\"background:lightgray; border-radius:0.25em;\">speak</span>"
      ],
      "text/plain": [
       "<vectorian.corpus.document.Token at 0x7f8a50247d60>"
      ]
     },
     "execution_count": 15,
     "metadata": {},
     "output_type": "execute_result"
    }
   ],
   "source": [
    "r[0].query[0]"
   ]
  },
  {
   "cell_type": "code",
   "execution_count": 9,
   "id": "whole-shark",
   "metadata": {},
   "outputs": [
    {
     "data": {
      "text/plain": [
       "[{'document': {'version': '1.0',\n",
       "   'unique_id': '2021-03-08 13:08:50.543991',\n",
       "   'origin': '<string>',\n",
       "   'author': '',\n",
       "   'title': '',\n",
       "   'speakers': {}},\n",
       "  'slice': 0,\n",
       "  'location': {'token_at': 0, 'n_tokens': 9},\n",
       "  'score': 0.601454496383667,\n",
       "  'metric': 'fasttext-en',\n",
       "  'regions': [{'s': 'Hey, ye want to ', 'gap_penalty': 0.0},\n",
       "   {'s': 'talk',\n",
       "    't': 'speak',\n",
       "    'similarity': 0.601454496383667,\n",
       "    'weight': 1.0,\n",
       "    'pos_s': 'VERB',\n",
       "    'pos_t': 'VERB',\n",
       "    'metric': 'fasttext-en'},\n",
       "   {'s': 'like a pirate, eh', 'gap_penalty': 0.0}],\n",
       "  'omitted': [],\n",
       "  'level': 'word'}]"
      ]
     },
     "execution_count": 9,
     "metadata": {},
     "output_type": "execute_result"
    }
   ],
   "source": [
    "r.to_json()"
   ]
  },
  {
   "cell_type": "code",
   "execution_count": null,
   "id": "declared-hierarchy",
   "metadata": {},
   "outputs": [],
   "source": []
  },
  {
   "cell_type": "code",
   "execution_count": 8,
   "id": "exact-indicator",
   "metadata": {},
   "outputs": [
    {
     "data": {
      "text/plain": [
       "(300,)"
      ]
     },
     "execution_count": 8,
     "metadata": {},
     "output_type": "execute_result"
    }
   ],
   "source": [
    "session.get_embedding_instance(fasttext).tok2vec(\"talk\").shape"
   ]
  },
  {
   "cell_type": "code",
   "execution_count": 12,
   "id": "convenient-arbitration",
   "metadata": {},
   "outputs": [
    {
     "data": {
      "text/plain": [
       "0.60145444"
      ]
     },
     "execution_count": 12,
     "metadata": {},
     "output_type": "execute_result"
    }
   ],
   "source": [
    "import numpy as np\n",
    "tok2vec = session.get_embedding_instance(fasttext).tok2vec\n",
    "np.dot(tok2vec(\"talk\"), tok2vec(\"speak\"))"
   ]
  },
  {
   "cell_type": "code",
   "execution_count": 16,
   "id": "color-retreat",
   "metadata": {},
   "outputs": [
    {
     "name": "stderr",
     "output_type": "stream",
     "text": [
      "Importing /Users/arbeit/Wise Children.txt: 100%|██████████| 369/369 [00:04<00:00, 77.90it/s] \n"
     ]
    }
   ],
   "source": [
    "from vectorian.importers import NovelImporter\n",
    "from vectorian.session import LabSession\n",
    "from vectorian.metrics import CosineMetric, TokenSimilarityMetric\n",
    "from vectorian.metrics import AlignmentSentenceMetric\n",
    "from vectorian.alignment import WatermanSmithBeyer\n",
    "\n",
    "im = NovelImporter(nlp)\n",
    "doc = im(\"/Users/arbeit/Wise Children.txt\")\n",
    "\n",
    "session = LabSession(\n",
    "    [doc],\n",
    "    [fasttext],\n",
    "    token_mappings)\n",
    "\n",
    "index = session.partition(\"sentence\").index(metric, nlp)"
   ]
  },
  {
   "cell_type": "code",
   "execution_count": 19,
   "id": "surrounded-zealand",
   "metadata": {},
   "outputs": [
    {
     "data": {
      "application/vnd.jupyter.widget-view+json": {
       "model_id": "",
       "version_major": 2,
       "version_minor": 0
      },
      "text/plain": [
       "FloatProgress(value=0.0, layout=Layout(width='100%'), max=1.0)"
      ]
     },
     "metadata": {},
     "output_type": "display_data"
    }
   ],
   "source": [
    "r = index.find(\"write female\", n=3)  # options={'pos_filter': [\"NOUN\"]}"
   ]
  },
  {
   "cell_type": "code",
   "execution_count": 20,
   "id": "naked-interstate",
   "metadata": {},
   "outputs": [
    {
     "data": {
      "text/plain": [
       "0.036850929260253906"
      ]
     },
     "execution_count": 20,
     "metadata": {},
     "output_type": "execute_result"
    }
   ],
   "source": [
    "r.duration"
   ]
  },
  {
   "cell_type": "code",
   "execution_count": 21,
   "id": "collected-bookmark",
   "metadata": {},
   "outputs": [
    {
     "data": {
      "text/html": [
       "\n",
       "<iframe\n",
       "\tid=\"vectorian-iframe-1615294744958913000\"\n",
       "\twidth=\"100%\"\n",
       "\theight=\"100%\"\n",
       "\tsrcdoc=\"&lt;!DOCTYPE html&gt;\n",
       "&lt;html&gt;\n",
       "\t&lt;head&gt;\n",
       "\t\t&lt;meta charset=&quot;utf-8&quot;&gt;\n",
       "\t\t&lt;meta name=&quot;viewport&quot; content=&quot;width=device-width, initial-scale=1&quot;&gt;\n",
       "\t\t&lt;title&gt;Vectorian&lt;/title&gt;\n",
       "\t\t&lt;link rel=&quot;stylesheet&quot; href=&quot;https://cdn.jsdelivr.net/npm/bulma@0.9.1/css/bulma.min.css&quot;&gt;\n",
       "\t&lt;/head&gt;\n",
       "\t&lt;body&gt;\n",
       "\t\t&lt;div class=&quot;container&quot; height=&quot;100%&quot;&gt;\n",
       "\t\t\t&lt;div class=&quot;section&quot;&gt;\n",
       "&lt;!DOCTYPE html&gt;&lt;article class=&quot;media&quot;&gt;&lt;div class=&quot;media-left&quot;&gt;&lt;p class=&quot;image is-64x64&quot;&gt;&lt;span class=&quot;buttons&quot;&gt;&lt;span class=&quot;has-text-weight-bold&quot;&gt;75.0%&lt;/span&gt;&lt;br /&gt;&lt;div&gt;&lt;div style=&quot;text-decoration: line-through;&quot;&gt;write&lt;/div&gt;&lt;/div&gt;&lt;/span&gt;&lt;/p&gt;&lt;/div&gt;&lt;div class=&quot;media-content&quot;&gt;&lt;div class=&quot;is-pulled-right&quot;&gt;&lt;small class=&quot;is-italic&quot;&gt;Wise Children, &lt;/small&gt;&lt;small&gt;par. 286&lt;/small&gt;&lt;/div&gt;&lt;div&gt;&lt;br /&gt;&lt;br /&gt;&lt;span&gt;&lt;span class=&quot;has-text-grey-light&quot;&gt;twins announced that they were on the way and a &lt;/span&gt; &lt;span&gt;&lt;span style=&quot;display:inline-table;&quot;&gt;&lt;span style=&quot;display:table-row;&quot;&gt;&lt;span style=&quot;display:table-cell;&quot;&gt;&lt;span class=&quot;has-text-black has-text-weight-bold&quot;&gt;female&lt;/span&gt;&lt;/span&gt; &lt;span style=&quot;display:table-cell;&quot;&gt;&lt;span class=&quot;tag is-light&quot;&gt;female&lt;/span&gt;&lt;/span&gt; &lt;span style=&quot;display:table-cell; opacity:1.0;&quot;&gt;&lt;span class=&quot;tag is-success&quot;&gt;100%&lt;/span&gt;&lt;/span&gt;&lt;/span&gt;&lt;/span&gt;&lt;/span&gt; &lt;span class=&quot;has-text-grey-light&quot;&gt;Hamlet is one thing but a pregnant prince is quite &lt;/span&gt;&lt;/span&gt;&lt;/div&gt;&lt;/div&gt;&lt;/article&gt;&lt;article class=&quot;media&quot;&gt;&lt;div class=&quot;media-left&quot;&gt;&lt;p class=&quot;image is-64x64&quot;&gt;&lt;span class=&quot;buttons&quot;&gt;&lt;span class=&quot;has-text-weight-bold&quot;&gt;75.0%&lt;/span&gt;&lt;br /&gt;&lt;div&gt;&lt;div style=&quot;text-decoration: line-through;&quot;&gt;write&lt;/div&gt;&lt;/div&gt;&lt;/span&gt;&lt;/p&gt;&lt;/div&gt;&lt;div class=&quot;media-content&quot;&gt;&lt;div class=&quot;is-pulled-right&quot;&gt;&lt;small class=&quot;is-italic&quot;&gt;Wise Children, &lt;/small&gt;&lt;small&gt;par. 150&lt;/small&gt;&lt;/div&gt;&lt;div&gt;&lt;br /&gt;&lt;br /&gt;&lt;span&gt;&lt;span class=&quot;has-text-grey-light&quot;&gt;write for the voice.’11Dora Chance is the only completely &lt;/span&gt; &lt;span&gt;&lt;span style=&quot;display:inline-table;&quot;&gt;&lt;span style=&quot;display:table-row;&quot;&gt;&lt;span style=&quot;display:table-cell;&quot;&gt;&lt;span class=&quot;has-text-black has-text-weight-bold&quot;&gt;female&lt;/span&gt;&lt;/span&gt; &lt;span style=&quot;display:table-cell;&quot;&gt;&lt;span class=&quot;tag is-light&quot;&gt;female&lt;/span&gt;&lt;/span&gt; &lt;span style=&quot;display:table-cell; opacity:1.0;&quot;&gt;&lt;span class=&quot;tag is-success&quot;&gt;100%&lt;/span&gt;&lt;/span&gt;&lt;/span&gt;&lt;/span&gt;&lt;/span&gt; &lt;span class=&quot;has-text-grey-light&quot;&gt;first-person protagonist in Carter’s novels – one who knows, &lt;/span&gt;&lt;/span&gt;&lt;/div&gt;&lt;/div&gt;&lt;/article&gt;&lt;article class=&quot;media&quot;&gt;&lt;div class=&quot;media-left&quot;&gt;&lt;p class=&quot;image is-64x64&quot;&gt;&lt;span class=&quot;buttons&quot;&gt;&lt;span class=&quot;has-text-weight-bold&quot;&gt;75.0%&lt;/span&gt;&lt;br /&gt;&lt;div&gt;&lt;div style=&quot;text-decoration: line-through;&quot;&gt;write&lt;/div&gt;&lt;/div&gt;&lt;/span&gt;&lt;/p&gt;&lt;/div&gt;&lt;div class=&quot;media-content&quot;&gt;&lt;div class=&quot;is-pulled-right&quot;&gt;&lt;small class=&quot;is-italic&quot;&gt;Wise Children, &lt;/small&gt;&lt;small&gt;par. 151&lt;/small&gt;&lt;/div&gt;&lt;div&gt;&lt;br /&gt;&lt;br /&gt;&lt;span&gt;&lt;span class=&quot;has-text-grey-light&quot;&gt;story? Because if she is – even if she’s the &lt;/span&gt; &lt;span&gt;&lt;span style=&quot;display:inline-table;&quot;&gt;&lt;span style=&quot;display:table-row;&quot;&gt;&lt;span style=&quot;display:table-cell;&quot;&gt;&lt;span class=&quot;has-text-black has-text-weight-bold&quot;&gt;female&lt;/span&gt;&lt;/span&gt; &lt;span style=&quot;display:table-cell;&quot;&gt;&lt;span class=&quot;tag is-light&quot;&gt;female&lt;/span&gt;&lt;/span&gt; &lt;span style=&quot;display:table-cell; opacity:1.0;&quot;&gt;&lt;span class=&quot;tag is-success&quot;&gt;100%&lt;/span&gt;&lt;/span&gt;&lt;/span&gt;&lt;/span&gt;&lt;/span&gt; &lt;span class=&quot;has-text-grey-light&quot;&gt;twentieth-century version of the Ancient Mariner – then she’ll &lt;/span&gt;&lt;/span&gt;&lt;/div&gt;&lt;/div&gt;&lt;/article&gt;\n",
       "\t\t\t&lt;/div&gt;\n",
       "\t\t&lt;/div&gt;\n",
       "\t&lt;/body&gt;\n",
       "&lt;/html&gt;\"\n",
       "\tframeborder=\"0\"\n",
       "\tallowfullscreen\n",
       "></iframe>\n",
       "<script>\n",
       "\tvar f = document.getElementById(\"vectorian-iframe-1615294744958913000\");\n",
       "\tf.onload = function() {\n",
       "\t\tf.height = f.contentWindow.document.body.scrollHeight + \"px\";\n",
       "\t};\n",
       "</script>\n",
       "\t\t"
      ],
      "text/plain": [
       "<vectorian.session.LabResult at 0x7fc8ed9cec10>"
      ]
     },
     "execution_count": 21,
     "metadata": {},
     "output_type": "execute_result"
    }
   ],
   "source": [
    "r"
   ]
  },
  {
   "cell_type": "code",
   "execution_count": 16,
   "id": "operational-category",
   "metadata": {},
   "outputs": [
    {
     "data": {
      "text/html": [
       "\n",
       "<iframe\n",
       "\tid=\"vectorian-iframe-1615219327352695000\"\n",
       "\twidth=\"100%\"\n",
       "\theight=\"100%\"\n",
       "\tsrcdoc=\"&lt;!DOCTYPE html&gt;\n",
       "&lt;html&gt;\n",
       "\t&lt;head&gt;\n",
       "\t\t&lt;meta charset=&quot;utf-8&quot;&gt;\n",
       "\t\t&lt;meta name=&quot;viewport&quot; content=&quot;width=device-width, initial-scale=1&quot;&gt;\n",
       "\t\t&lt;title&gt;Vectorian&lt;/title&gt;\n",
       "\t\t&lt;link rel=&quot;stylesheet&quot; href=&quot;https://cdn.jsdelivr.net/npm/bulma@0.9.1/css/bulma.min.css&quot;&gt;\n",
       "\t&lt;/head&gt;\n",
       "\t&lt;body&gt;\n",
       "\t\t&lt;div class=&quot;container&quot; height=&quot;100%&quot;&gt;\n",
       "\t\t\t&lt;div class=&quot;section&quot;&gt;\n",
       "&lt;!DOCTYPE html&gt;&lt;article class=&quot;media&quot;&gt;&lt;div class=&quot;media-left&quot;&gt;&lt;p class=&quot;image is-64x64&quot;&gt;&lt;span class=&quot;buttons&quot;&gt;&lt;span class=&quot;has-text-weight-bold&quot;&gt;75.0%&lt;/span&gt;&lt;br /&gt;&lt;div&gt;&lt;div style=&quot;text-decoration: line-through;&quot;&gt;write&lt;/div&gt;&lt;/div&gt;&lt;/span&gt;&lt;/p&gt;&lt;/div&gt;&lt;div class=&quot;media-content&quot;&gt;&lt;div class=&quot;is-pulled-right&quot;&gt;&lt;small class=&quot;is-italic&quot;&gt;Wise Children, &lt;/small&gt;&lt;small&gt;par. 286&lt;/small&gt;&lt;/div&gt;&lt;div&gt;&lt;br /&gt;&lt;br /&gt;&lt;span&gt;&lt;span style=&quot;display:inline-table;&quot;&gt;&lt;span style=&quot;display:table-row;&quot;&gt;&lt;span class=&quot;has-text-grey-light&quot;&gt;twins announced that they were on the way and a &lt;/span&gt;&lt;/span&gt;&lt;span class=&quot;tag is-danger&quot; style=&quot;display:table-row;&quot;&gt;&lt;/span&gt;&lt;/span&gt; &lt;span&gt;&lt;span style=&quot;display:inline-table;&quot;&gt;&lt;span style=&quot;display:table-row;&quot;&gt;&lt;span style=&quot;display:table-cell;&quot;&gt;&lt;span class=&quot;has-text-black has-text-weight-bold&quot;&gt;female&lt;/span&gt;&lt;/span&gt; &lt;span style=&quot;display:table-cell;&quot;&gt;&lt;span class=&quot;tag is-light&quot;&gt;female&lt;/span&gt;&lt;/span&gt; &lt;span style=&quot;display:table-cell; opacity:1.0;&quot;&gt;&lt;span class=&quot;tag is-success&quot;&gt;100%&lt;/span&gt;&lt;/span&gt;&lt;/span&gt;&lt;span style=&quot;display:table-row;&quot;&gt;&lt;span style=&quot;display:table-cell; padding-left: 0.2em; padding-right: 0.2em;&quot; class=&quot;is-size-7 has-text-centered has-text-danger&quot;&gt;ADJ&lt;/span&gt;&lt;span style=&quot;display:table-cell; padding-left: 0.2em; padding-right: 0.2em;&quot; class=&quot;is-size-7 has-text-centered&quot;&gt;NOUN&lt;/span&gt;&lt;span style=&quot;display:table-cell; padding-left: 0.2em; padding-right: 0.2em;&quot; class=&quot;is-size-7 has-text-centered has-text-grey-light&quot;&gt;fasttext-en&lt;/span&gt;&lt;/span&gt;&lt;/span&gt;&lt;/span&gt; &lt;span style=&quot;display:inline-table;&quot;&gt;&lt;span style=&quot;display:table-row;&quot;&gt;&lt;span class=&quot;has-text-grey-light&quot;&gt;Hamlet is one thing but a pregnant prince is quite &lt;/span&gt;&lt;/span&gt;&lt;span class=&quot;tag is-danger&quot; style=&quot;display:table-row;&quot;&gt;&lt;/span&gt;&lt;/span&gt;&lt;/span&gt;&lt;/div&gt;&lt;/div&gt;&lt;/article&gt;&lt;article class=&quot;media&quot;&gt;&lt;div class=&quot;media-left&quot;&gt;&lt;p class=&quot;image is-64x64&quot;&gt;&lt;span class=&quot;buttons&quot;&gt;&lt;span class=&quot;has-text-weight-bold&quot;&gt;75.0%&lt;/span&gt;&lt;br /&gt;&lt;div&gt;&lt;div style=&quot;text-decoration: line-through;&quot;&gt;write&lt;/div&gt;&lt;/div&gt;&lt;/span&gt;&lt;/p&gt;&lt;/div&gt;&lt;div class=&quot;media-content&quot;&gt;&lt;div class=&quot;is-pulled-right&quot;&gt;&lt;small class=&quot;is-italic&quot;&gt;Wise Children, &lt;/small&gt;&lt;small&gt;par. 151&lt;/small&gt;&lt;/div&gt;&lt;div&gt;&lt;br /&gt;&lt;br /&gt;&lt;span&gt;&lt;span style=&quot;display:inline-table;&quot;&gt;&lt;span style=&quot;display:table-row;&quot;&gt;&lt;span class=&quot;has-text-grey-light&quot;&gt;story? Because if she is – even if she’s the &lt;/span&gt;&lt;/span&gt;&lt;span class=&quot;tag is-danger&quot; style=&quot;display:table-row;&quot;&gt;&lt;/span&gt;&lt;/span&gt; &lt;span&gt;&lt;span style=&quot;display:inline-table;&quot;&gt;&lt;span style=&quot;display:table-row;&quot;&gt;&lt;span style=&quot;display:table-cell;&quot;&gt;&lt;span class=&quot;has-text-black has-text-weight-bold&quot;&gt;female&lt;/span&gt;&lt;/span&gt; &lt;span style=&quot;display:table-cell;&quot;&gt;&lt;span class=&quot;tag is-light&quot;&gt;female&lt;/span&gt;&lt;/span&gt; &lt;span style=&quot;display:table-cell; opacity:1.0;&quot;&gt;&lt;span class=&quot;tag is-success&quot;&gt;100%&lt;/span&gt;&lt;/span&gt;&lt;/span&gt;&lt;span style=&quot;display:table-row;&quot;&gt;&lt;span style=&quot;display:table-cell; padding-left: 0.2em; padding-right: 0.2em;&quot; class=&quot;is-size-7 has-text-centered has-text-danger&quot;&gt;ADJ&lt;/span&gt;&lt;span style=&quot;display:table-cell; padding-left: 0.2em; padding-right: 0.2em;&quot; class=&quot;is-size-7 has-text-centered&quot;&gt;NOUN&lt;/span&gt;&lt;span style=&quot;display:table-cell; padding-left: 0.2em; padding-right: 0.2em;&quot; class=&quot;is-size-7 has-text-centered has-text-grey-light&quot;&gt;fasttext-en&lt;/span&gt;&lt;/span&gt;&lt;/span&gt;&lt;/span&gt; &lt;span style=&quot;display:inline-table;&quot;&gt;&lt;span style=&quot;display:table-row;&quot;&gt;&lt;span class=&quot;has-text-grey-light&quot;&gt;twentieth-century version of the Ancient Mariner – then she’ll &lt;/span&gt;&lt;/span&gt;&lt;span class=&quot;tag is-danger&quot; style=&quot;display:table-row;&quot;&gt;&lt;/span&gt;&lt;/span&gt;&lt;/span&gt;&lt;/div&gt;&lt;/div&gt;&lt;/article&gt;&lt;article class=&quot;media&quot;&gt;&lt;div class=&quot;media-left&quot;&gt;&lt;p class=&quot;image is-64x64&quot;&gt;&lt;span class=&quot;buttons&quot;&gt;&lt;span class=&quot;has-text-weight-bold&quot;&gt;75.0%&lt;/span&gt;&lt;br /&gt;&lt;div&gt;&lt;div style=&quot;text-decoration: line-through;&quot;&gt;write&lt;/div&gt;&lt;/div&gt;&lt;/span&gt;&lt;/p&gt;&lt;/div&gt;&lt;div class=&quot;media-content&quot;&gt;&lt;div class=&quot;is-pulled-right&quot;&gt;&lt;small class=&quot;is-italic&quot;&gt;Wise Children, &lt;/small&gt;&lt;small&gt;par. 150&lt;/small&gt;&lt;/div&gt;&lt;div&gt;&lt;br /&gt;&lt;br /&gt;&lt;span&gt;&lt;span style=&quot;display:inline-table;&quot;&gt;&lt;span style=&quot;display:table-row;&quot;&gt;&lt;span class=&quot;has-text-grey-light&quot;&gt;write for the voice.’11Dora Chance is the only completely &lt;/span&gt;&lt;/span&gt;&lt;span class=&quot;tag is-danger&quot; style=&quot;display:table-row;&quot;&gt;&lt;/span&gt;&lt;/span&gt; &lt;span&gt;&lt;span style=&quot;display:inline-table;&quot;&gt;&lt;span style=&quot;display:table-row;&quot;&gt;&lt;span style=&quot;display:table-cell;&quot;&gt;&lt;span class=&quot;has-text-black has-text-weight-bold&quot;&gt;female&lt;/span&gt;&lt;/span&gt; &lt;span style=&quot;display:table-cell;&quot;&gt;&lt;span class=&quot;tag is-light&quot;&gt;female&lt;/span&gt;&lt;/span&gt; &lt;span style=&quot;display:table-cell; opacity:1.0;&quot;&gt;&lt;span class=&quot;tag is-success&quot;&gt;100%&lt;/span&gt;&lt;/span&gt;&lt;/span&gt;&lt;span style=&quot;display:table-row;&quot;&gt;&lt;span style=&quot;display:table-cell; padding-left: 0.2em; padding-right: 0.2em;&quot; class=&quot;is-size-7 has-text-centered has-text-danger&quot;&gt;ADJ&lt;/span&gt;&lt;span style=&quot;display:table-cell; padding-left: 0.2em; padding-right: 0.2em;&quot; class=&quot;is-size-7 has-text-centered&quot;&gt;NOUN&lt;/span&gt;&lt;span style=&quot;display:table-cell; padding-left: 0.2em; padding-right: 0.2em;&quot; class=&quot;is-size-7 has-text-centered has-text-grey-light&quot;&gt;fasttext-en&lt;/span&gt;&lt;/span&gt;&lt;/span&gt;&lt;/span&gt; &lt;span style=&quot;display:inline-table;&quot;&gt;&lt;span style=&quot;display:table-row;&quot;&gt;&lt;span class=&quot;has-text-grey-light&quot;&gt;first-person protagonist in Carter’s novels – one who knows, &lt;/span&gt;&lt;/span&gt;&lt;span class=&quot;tag is-danger&quot; style=&quot;display:table-row;&quot;&gt;&lt;/span&gt;&lt;/span&gt;&lt;/span&gt;&lt;/div&gt;&lt;/div&gt;&lt;/article&gt;\n",
       "\t\t\t&lt;/div&gt;\n",
       "\t\t&lt;/div&gt;\n",
       "\t&lt;/body&gt;\n",
       "&lt;/html&gt;\"\n",
       "\tframeborder=\"0\"\n",
       "\tallowfullscreen\n",
       "></iframe>\n",
       "<script>\n",
       "\tvar f = document.getElementById(\"vectorian-iframe-1615219327352695000\");\n",
       "\tf.onload = function() {\n",
       "\t\tf.height = f.contentWindow.document.body.scrollHeight + \"px\";\n",
       "\t};\n",
       "</script>\n",
       "\t\t"
      ],
      "text/plain": [
       "<vectorian.session.LabResult at 0x7f9e24c2ad30>"
      ]
     },
     "execution_count": 16,
     "metadata": {},
     "output_type": "execute_result"
    }
   ],
   "source": [
    "r.annotate(\"tags\")"
   ]
  },
  {
   "cell_type": "code",
   "execution_count": 18,
   "id": "respective-dancing",
   "metadata": {},
   "outputs": [
    {
     "data": {
      "application/vnd.jupyter.widget-view+json": {
       "model_id": "",
       "version_major": 2,
       "version_minor": 0
      },
      "text/plain": [
       "FloatProgress(value=0.0, layout=Layout(width='100%'), max=1.0)"
      ]
     },
     "metadata": {},
     "output_type": "display_data"
    },
    {
     "data": {
      "text/html": [
       "\n",
       "<iframe\n",
       "\tid=\"vectorian-iframe-1614863083258553000\"\n",
       "\twidth=\"100%\"\n",
       "\theight=\"100%\"\n",
       "\tsrcdoc=\"&lt;!DOCTYPE html&gt;\n",
       "&lt;html&gt;\n",
       "\t&lt;head&gt;\n",
       "\t\t&lt;meta charset=&quot;utf-8&quot;&gt;\n",
       "\t\t&lt;meta name=&quot;viewport&quot; content=&quot;width=device-width, initial-scale=1&quot;&gt;\n",
       "\t\t&lt;title&gt;Vectorian&lt;/title&gt;\n",
       "\t\t&lt;link rel=&quot;stylesheet&quot; href=&quot;https://cdn.jsdelivr.net/npm/bulma@0.9.1/css/bulma.min.css&quot;&gt;\n",
       "\t&lt;/head&gt;\n",
       "\t&lt;body&gt;\n",
       "\t\t&lt;div class=&quot;container&quot; height=&quot;100%&quot;&gt;\n",
       "\t\t\t&lt;div class=&quot;section&quot;&gt;\n",
       "&lt;!DOCTYPE html&gt;&lt;article class=&quot;media&quot;&gt;&lt;div class=&quot;media-left&quot;&gt;&lt;p class=&quot;image is-64x64&quot;&gt;&lt;span class=&quot;buttons&quot;&gt;&lt;span class=&quot;has-text-weight-bold&quot;&gt;100.0%&lt;/span&gt;&lt;br /&gt;&lt;div&gt;&lt;/div&gt;&lt;/span&gt;&lt;/p&gt;&lt;/div&gt;&lt;div class=&quot;media-content&quot;&gt;&lt;div class=&quot;is-pulled-right&quot;&gt;&lt;small class=&quot;is-italic&quot;&gt;Wise Children, &lt;/small&gt;&lt;small&gt;&lt;/small&gt;&lt;/div&gt;&lt;div&gt;&lt;br /&gt;&lt;br /&gt;&lt;span&gt;&lt;span class=&quot;has-text-grey-light&quot;&gt;many respects something rather archaic in that he did actually &lt;/span&gt; &lt;span&gt;&lt;span style=&quot;display:inline-table;&quot;&gt;&lt;span style=&quot;display:table-row;&quot;&gt;&lt;span style=&quot;display:table-cell;&quot;&gt;&lt;span class=&quot;has-text-black has-text-weight-bold&quot;&gt;write&lt;/span&gt;&lt;/span&gt; &lt;span style=&quot;display:table-cell;&quot;&gt;&lt;span class=&quot;tag is-light&quot;&gt;write&lt;/span&gt;&lt;/span&gt; &lt;span style=&quot;display:table-cell; opacity:1.0;&quot;&gt;&lt;span class=&quot;tag is-success&quot;&gt;100%&lt;/span&gt;&lt;/span&gt;&lt;/span&gt;&lt;/span&gt;&lt;/span&gt; &lt;span class=&quot;has-text-grey-light&quot;&gt;for the voice.’11Dora Chance is the only completely &lt;/span&gt; &lt;span&gt;&lt;span style=&quot;display:inline-table;&quot;&gt;&lt;span style=&quot;display:table-row;&quot;&gt;&lt;span style=&quot;display:table-cell;&quot;&gt;&lt;span class=&quot;has-text-black has-text-weight-bold&quot;&gt;female&lt;/span&gt;&lt;/span&gt; &lt;span style=&quot;display:table-cell;&quot;&gt;&lt;span class=&quot;tag is-light&quot;&gt;female&lt;/span&gt;&lt;/span&gt; &lt;span style=&quot;display:table-cell; opacity:1.0;&quot;&gt;&lt;span class=&quot;tag is-success&quot;&gt;100%&lt;/span&gt;&lt;/span&gt;&lt;/span&gt;&lt;/span&gt;&lt;/span&gt; &lt;span class=&quot;has-text-grey-light&quot;&gt;first-person protagonist in Carter’s novels – one who knows, &lt;/span&gt;&lt;/span&gt;&lt;/div&gt;&lt;/div&gt;&lt;/article&gt;&lt;article class=&quot;media&quot;&gt;&lt;div class=&quot;media-left&quot;&gt;&lt;p class=&quot;image is-64x64&quot;&gt;&lt;span class=&quot;buttons&quot;&gt;&lt;span class=&quot;has-text-weight-bold&quot;&gt;100.0%&lt;/span&gt;&lt;br /&gt;&lt;div&gt;&lt;/div&gt;&lt;/span&gt;&lt;/p&gt;&lt;/div&gt;&lt;div class=&quot;media-content&quot;&gt;&lt;div class=&quot;is-pulled-right&quot;&gt;&lt;small class=&quot;is-italic&quot;&gt;Wise Children, &lt;/small&gt;&lt;small&gt;&lt;/small&gt;&lt;/div&gt;&lt;div&gt;&lt;br /&gt;&lt;br /&gt;&lt;span&gt;&lt;span class=&quot;has-text-grey-light&quot;&gt;many respects something rather archaic in that he did actually &lt;/span&gt; &lt;span&gt;&lt;span style=&quot;display:inline-table;&quot;&gt;&lt;span style=&quot;display:table-row;&quot;&gt;&lt;span style=&quot;display:table-cell;&quot;&gt;&lt;span class=&quot;has-text-black has-text-weight-bold&quot;&gt;write&lt;/span&gt;&lt;/span&gt; &lt;span style=&quot;display:table-cell;&quot;&gt;&lt;span class=&quot;tag is-light&quot;&gt;write&lt;/span&gt;&lt;/span&gt; &lt;span style=&quot;display:table-cell; opacity:1.0;&quot;&gt;&lt;span class=&quot;tag is-success&quot;&gt;100%&lt;/span&gt;&lt;/span&gt;&lt;/span&gt;&lt;/span&gt;&lt;/span&gt; &lt;span class=&quot;has-text-grey-light&quot;&gt;for the voice.’11Dora Chance is the only completely &lt;/span&gt; &lt;span&gt;&lt;span style=&quot;display:inline-table;&quot;&gt;&lt;span style=&quot;display:table-row;&quot;&gt;&lt;span style=&quot;display:table-cell;&quot;&gt;&lt;span class=&quot;has-text-black has-text-weight-bold&quot;&gt;female&lt;/span&gt;&lt;/span&gt; &lt;span style=&quot;display:table-cell;&quot;&gt;&lt;span class=&quot;tag is-light&quot;&gt;female&lt;/span&gt;&lt;/span&gt; &lt;span style=&quot;display:table-cell; opacity:1.0;&quot;&gt;&lt;span class=&quot;tag is-success&quot;&gt;100%&lt;/span&gt;&lt;/span&gt;&lt;/span&gt;&lt;/span&gt;&lt;/span&gt; &lt;span class=&quot;has-text-grey-light&quot;&gt;first-person protagonist in Carter’s novels – one who knows, &lt;/span&gt;&lt;/span&gt;&lt;/div&gt;&lt;/div&gt;&lt;/article&gt;&lt;article class=&quot;media&quot;&gt;&lt;div class=&quot;media-left&quot;&gt;&lt;p class=&quot;image is-64x64&quot;&gt;&lt;span class=&quot;buttons&quot;&gt;&lt;span class=&quot;has-text-weight-bold&quot;&gt;100.0%&lt;/span&gt;&lt;br /&gt;&lt;div&gt;&lt;/div&gt;&lt;/span&gt;&lt;/p&gt;&lt;/div&gt;&lt;div class=&quot;media-content&quot;&gt;&lt;div class=&quot;is-pulled-right&quot;&gt;&lt;small class=&quot;is-italic&quot;&gt;Wise Children, &lt;/small&gt;&lt;small&gt;&lt;/small&gt;&lt;/div&gt;&lt;div&gt;&lt;br /&gt;&lt;br /&gt;&lt;span&gt;&lt;span class=&quot;has-text-grey-light&quot;&gt;many respects something rather archaic in that he did actually &lt;/span&gt; &lt;span&gt;&lt;span style=&quot;display:inline-table;&quot;&gt;&lt;span style=&quot;display:table-row;&quot;&gt;&lt;span style=&quot;display:table-cell;&quot;&gt;&lt;span class=&quot;has-text-black has-text-weight-bold&quot;&gt;write&lt;/span&gt;&lt;/span&gt; &lt;span style=&quot;display:table-cell;&quot;&gt;&lt;span class=&quot;tag is-light&quot;&gt;write&lt;/span&gt;&lt;/span&gt; &lt;span style=&quot;display:table-cell; opacity:1.0;&quot;&gt;&lt;span class=&quot;tag is-success&quot;&gt;100%&lt;/span&gt;&lt;/span&gt;&lt;/span&gt;&lt;/span&gt;&lt;/span&gt; &lt;span class=&quot;has-text-grey-light&quot;&gt;for the voice.’11Dora Chance is the only completely &lt;/span&gt; &lt;span&gt;&lt;span style=&quot;display:inline-table;&quot;&gt;&lt;span style=&quot;display:table-row;&quot;&gt;&lt;span style=&quot;display:table-cell;&quot;&gt;&lt;span class=&quot;has-text-black has-text-weight-bold&quot;&gt;female&lt;/span&gt;&lt;/span&gt; &lt;span style=&quot;display:table-cell;&quot;&gt;&lt;span class=&quot;tag is-light&quot;&gt;female&lt;/span&gt;&lt;/span&gt; &lt;span style=&quot;display:table-cell; opacity:1.0;&quot;&gt;&lt;span class=&quot;tag is-success&quot;&gt;100%&lt;/span&gt;&lt;/span&gt;&lt;/span&gt;&lt;/span&gt;&lt;/span&gt; &lt;span class=&quot;has-text-grey-light&quot;&gt;first-person protagonist in Carter’s novels – one who knows, &lt;/span&gt;&lt;/span&gt;&lt;/div&gt;&lt;/div&gt;&lt;/article&gt;\n",
       "\t\t\t&lt;/div&gt;\n",
       "\t\t&lt;/div&gt;\n",
       "\t&lt;/body&gt;\n",
       "&lt;/html&gt;\"\n",
       "\tframeborder=\"0\"\n",
       "\tallowfullscreen\n",
       "></iframe>\n",
       "<script>\n",
       "\tvar f = document.getElementById(\"vectorian-iframe-1614863083258553000\");\n",
       "\tf.onload = function() {\n",
       "\t\tf.height = f.contentWindow.document.body.scrollHeight + \"px\";\n",
       "\t};\n",
       "</script>\n",
       "\t\t"
      ],
      "text/plain": [
       "<vectorian.session.LabResult at 0x7fd24e44f310>"
      ]
     },
     "execution_count": 18,
     "metadata": {},
     "output_type": "execute_result"
    }
   ],
   "source": [
    "index = session.partition(\"token\", 15, 1).index(metric, nlp)\n",
    "index.find(\"write female\", n=3)"
   ]
  },
  {
   "cell_type": "code",
   "execution_count": 17,
   "id": "abandoned-cloud",
   "metadata": {},
   "outputs": [
    {
     "data": {
      "application/vnd.jupyter.widget-view+json": {
       "model_id": "",
       "version_major": 2,
       "version_minor": 0
      },
      "text/plain": [
       "FloatProgress(value=0.0, layout=Layout(width='100%'), max=1.0)"
      ]
     },
     "metadata": {},
     "output_type": "display_data"
    }
   ],
   "source": [
    "from vectorian.metrics import CosineMetric, TokenSimilarityMetric, AlignmentSentenceMetric\n",
    "from vectorian.alignment import WordMoversDistance\n",
    "\n",
    "index = session.partition(\"sentence\").index(AlignmentSentenceMetric(\n",
    "    token_metric=TokenSimilarityMetric(fasttext, CosineMetric()),\n",
    "    alignment=WordMoversDistance()), nlp=nlp)\n",
    "\n",
    "#query = nlp(\"making america great again\")\n",
    "r = index.find(\"the great star\", n=5, min_score=0.1)"
   ]
  },
  {
   "cell_type": "code",
   "execution_count": 18,
   "id": "minus-night",
   "metadata": {},
   "outputs": [
    {
     "name": "stdout",
     "output_type": "stream",
     "text": [
      "metric:\n",
      "  alignment:\n",
      "    algorithm: rwmd\n",
      "    normalize_bow: false\n",
      "    one_target: true\n",
      "    symmetric: false\n",
      "  metric: alignment-isolated\n",
      "  token_metric:\n",
      "    embedding: fasttext-en\n",
      "    metric: cosine\n",
      "    name: fasttext-en-cosine\n",
      "    options: {}\n",
      "partition:\n",
      "  level: sentence\n",
      "  window_size: 1\n",
      "  window_step: 1\n",
      "\n"
     ]
    }
   ],
   "source": [
    "index.describe()"
   ]
  },
  {
   "cell_type": "code",
   "execution_count": 19,
   "id": "proof-acceptance",
   "metadata": {},
   "outputs": [
    {
     "data": {
      "text/html": [
       "\n",
       "<iframe\n",
       "\tid=\"vectorian-iframe-1615302385248062000\"\n",
       "\twidth=\"100%\"\n",
       "\theight=\"100%\"\n",
       "\tsrcdoc=\"&lt;!DOCTYPE html&gt;\n",
       "&lt;html&gt;\n",
       "\t&lt;head&gt;\n",
       "\t\t&lt;meta charset=&quot;utf-8&quot;&gt;\n",
       "\t\t&lt;meta name=&quot;viewport&quot; content=&quot;width=device-width, initial-scale=1&quot;&gt;\n",
       "\t\t&lt;title&gt;Vectorian&lt;/title&gt;\n",
       "\t\t&lt;link rel=&quot;stylesheet&quot; href=&quot;https://cdn.jsdelivr.net/npm/bulma@0.9.1/css/bulma.min.css&quot;&gt;\n",
       "\t&lt;/head&gt;\n",
       "\t&lt;body&gt;\n",
       "\t\t&lt;div class=&quot;container&quot; height=&quot;100%&quot;&gt;\n",
       "\t\t\t&lt;div class=&quot;section&quot;&gt;\n",
       "&lt;!DOCTYPE html&gt;&lt;article class=&quot;media&quot;&gt;&lt;div class=&quot;media-left&quot;&gt;&lt;p class=&quot;image is-64x64&quot;&gt;&lt;span class=&quot;buttons&quot;&gt;&lt;span class=&quot;has-text-weight-bold&quot;&gt;100.0%&lt;/span&gt;&lt;br /&gt;&lt;div&gt;&lt;/div&gt;&lt;/span&gt;&lt;/p&gt;&lt;/div&gt;&lt;div class=&quot;media-content&quot;&gt;&lt;div class=&quot;is-pulled-right&quot;&gt;&lt;small class=&quot;is-italic&quot;&gt;Wise Children, &lt;/small&gt;&lt;small&gt;par. 253&lt;/small&gt;&lt;/div&gt;&lt;div&gt;&lt;br /&gt;&lt;br /&gt;&lt;span&gt;&lt;span class=&quot;has-text-grey-light&quot;&gt;for a century and a half. Tristram, youngest son of &lt;/span&gt; &lt;span&gt;&lt;span style=&quot;display:inline-table;&quot;&gt;&lt;span style=&quot;display:table-row;&quot;&gt;&lt;span style=&quot;display:table-cell;&quot;&gt;&lt;span class=&quot;has-text-black has-text-weight-bold&quot;&gt;the&lt;/span&gt;&lt;/span&gt; &lt;span style=&quot;display:table-cell;&quot;&gt;&lt;span class=&quot;tag is-light&quot;&gt;the&lt;/span&gt;&lt;/span&gt; &lt;span style=&quot;display:table-cell; opacity:1.0;&quot;&gt;&lt;span class=&quot;tag is-success&quot;&gt;100%&lt;/span&gt;&lt;/span&gt;&lt;/span&gt;&lt;/span&gt;&lt;/span&gt; &lt;span&gt;&lt;span style=&quot;display:inline-table;&quot;&gt;&lt;span style=&quot;display:table-row;&quot;&gt;&lt;span style=&quot;display:table-cell;&quot;&gt;&lt;span class=&quot;has-text-black has-text-weight-bold&quot;&gt;great&lt;/span&gt;&lt;/span&gt; &lt;span style=&quot;display:table-cell;&quot;&gt;&lt;span class=&quot;tag is-light&quot;&gt;great&lt;/span&gt;&lt;/span&gt; &lt;span style=&quot;display:table-cell; opacity:1.0;&quot;&gt;&lt;span class=&quot;tag is-success&quot;&gt;100%&lt;/span&gt;&lt;/span&gt;&lt;/span&gt;&lt;/span&gt;&lt;/span&gt; &lt;span class=&quot;has-text-grey-light&quot;&gt;Melchior Hazard, ‘prince of players’; grandson of those tragic giants of the Victorian stage, Ranulph and Estella ‘A &lt;/span&gt; &lt;span&gt;&lt;span style=&quot;display:inline-table;&quot;&gt;&lt;span style=&quot;display:table-row;&quot;&gt;&lt;span style=&quot;display:table-cell;&quot;&gt;&lt;span class=&quot;has-text-black has-text-weight-bold&quot;&gt;star&lt;/span&gt;&lt;/span&gt; &lt;span style=&quot;display:table-cell;&quot;&gt;&lt;span class=&quot;tag is-light&quot;&gt;star&lt;/span&gt;&lt;/span&gt; &lt;span style=&quot;display:table-cell; opacity:1.0;&quot;&gt;&lt;span class=&quot;tag is-success&quot;&gt;100%&lt;/span&gt;&lt;/span&gt;&lt;/span&gt;&lt;/span&gt;&lt;/span&gt; &lt;span class=&quot;has-text-grey-light&quot;&gt;danced’ Hazard. Lo, how the mighty have fallen.‘Hi, there! &lt;/span&gt;&lt;/span&gt;&lt;/div&gt;&lt;/div&gt;&lt;/article&gt;&lt;article class=&quot;media&quot;&gt;&lt;div class=&quot;media-left&quot;&gt;&lt;p class=&quot;image is-64x64&quot;&gt;&lt;span class=&quot;buttons&quot;&gt;&lt;span class=&quot;has-text-weight-bold&quot;&gt;93.9%&lt;/span&gt;&lt;br /&gt;&lt;div&gt;&lt;/div&gt;&lt;/span&gt;&lt;/p&gt;&lt;/div&gt;&lt;div class=&quot;media-content&quot;&gt;&lt;div class=&quot;is-pulled-right&quot;&gt;&lt;small class=&quot;is-italic&quot;&gt;Wise Children, &lt;/small&gt;&lt;small&gt;par. 302&lt;/small&gt;&lt;/div&gt;&lt;div&gt;&lt;br /&gt;&lt;br /&gt;&lt;span&gt;&lt;span class=&quot;has-text-grey-light&quot;&gt;an &lt;/span&gt; &lt;span&gt;&lt;span style=&quot;display:inline-table;&quot;&gt;&lt;span style=&quot;display:table-row;&quot;&gt;&lt;span style=&quot;display:table-cell;&quot;&gt;&lt;span class=&quot;has-text-black has-text-weight-bold&quot;&gt;actor&lt;/span&gt;&lt;/span&gt; &lt;span style=&quot;display:table-cell;&quot;&gt;&lt;span class=&quot;tag is-light&quot;&gt;star&lt;/span&gt;&lt;/span&gt; &lt;span style=&quot;display:table-cell; opacity:1.0;&quot;&gt;&lt;span class=&quot;tag is-warning&quot;&gt;44%&lt;/span&gt;&lt;/span&gt;&lt;/span&gt;&lt;/span&gt;&lt;/span&gt; &lt;span class=&quot;has-text-grey-light&quot;&gt;manager himself, with his very own theatre on &lt;/span&gt; &lt;span&gt;&lt;span style=&quot;display:inline-table;&quot;&gt;&lt;span style=&quot;display:table-row;&quot;&gt;&lt;span style=&quot;display:table-cell;&quot;&gt;&lt;span class=&quot;has-text-black has-text-weight-bold&quot;&gt;the&lt;/span&gt;&lt;/span&gt; &lt;span style=&quot;display:table-cell;&quot;&gt;&lt;span class=&quot;tag is-light&quot;&gt;the&lt;/span&gt;&lt;/span&gt; &lt;span style=&quot;display:table-cell; opacity:1.0;&quot;&gt;&lt;span class=&quot;tag is-success&quot;&gt;100%&lt;/span&gt;&lt;/span&gt;&lt;/span&gt;&lt;/span&gt;&lt;/span&gt; &lt;span&gt;&lt;span style=&quot;display:inline-table;&quot;&gt;&lt;span style=&quot;display:table-row;&quot;&gt;&lt;span style=&quot;display:table-cell;&quot;&gt;&lt;span class=&quot;has-text-black has-text-weight-bold&quot;&gt;Great&lt;/span&gt;&lt;/span&gt; &lt;span style=&quot;display:table-cell;&quot;&gt;&lt;span class=&quot;tag is-light&quot;&gt;great&lt;/span&gt;&lt;/span&gt; &lt;span style=&quot;display:table-cell; opacity:1.0;&quot;&gt;&lt;span class=&quot;tag is-success&quot;&gt;100%&lt;/span&gt;&lt;/span&gt;&lt;/span&gt;&lt;/span&gt;&lt;/span&gt; &lt;span class=&quot;has-text-grey-light&quot;&gt;White Way. And was he a man to forget old &lt;/span&gt;&lt;/span&gt;&lt;/div&gt;&lt;/div&gt;&lt;/article&gt;&lt;article class=&quot;media&quot;&gt;&lt;div class=&quot;media-left&quot;&gt;&lt;p class=&quot;image is-64x64&quot;&gt;&lt;span class=&quot;buttons&quot;&gt;&lt;span class=&quot;has-text-weight-bold&quot;&gt;93.9%&lt;/span&gt;&lt;br /&gt;&lt;div&gt;&lt;/div&gt;&lt;/span&gt;&lt;/p&gt;&lt;/div&gt;&lt;div class=&quot;media-content&quot;&gt;&lt;div class=&quot;is-pulled-right&quot;&gt;&lt;small class=&quot;is-italic&quot;&gt;Wise Children, &lt;/small&gt;&lt;small&gt;par. 274&lt;/small&gt;&lt;/div&gt;&lt;div&gt;&lt;br /&gt;&lt;br /&gt;&lt;span&gt;&lt;span class=&quot;has-text-grey-light&quot;&gt;Cordelia to the Lear of Ranulph Hazard.Ranulph, one of &lt;/span&gt; &lt;span&gt;&lt;span style=&quot;display:inline-table;&quot;&gt;&lt;span style=&quot;display:table-row;&quot;&gt;&lt;span style=&quot;display:table-cell;&quot;&gt;&lt;span class=&quot;has-text-black has-text-weight-bold&quot;&gt;the&lt;/span&gt;&lt;/span&gt; &lt;span style=&quot;display:table-cell;&quot;&gt;&lt;span class=&quot;tag is-light&quot;&gt;the&lt;/span&gt;&lt;/span&gt; &lt;span style=&quot;display:table-cell; opacity:1.0;&quot;&gt;&lt;span class=&quot;tag is-success&quot;&gt;100%&lt;/span&gt;&lt;/span&gt;&lt;/span&gt;&lt;/span&gt;&lt;/span&gt; &lt;span&gt;&lt;span style=&quot;display:inline-table;&quot;&gt;&lt;span style=&quot;display:table-row;&quot;&gt;&lt;span style=&quot;display:table-cell;&quot;&gt;&lt;span class=&quot;has-text-black has-text-weight-bold&quot;&gt;great&lt;/span&gt;&lt;/span&gt; &lt;span style=&quot;display:table-cell;&quot;&gt;&lt;span class=&quot;tag is-light&quot;&gt;great&lt;/span&gt;&lt;/span&gt; &lt;span style=&quot;display:table-cell; opacity:1.0;&quot;&gt;&lt;span class=&quot;tag is-success&quot;&gt;100%&lt;/span&gt;&lt;/span&gt;&lt;/span&gt;&lt;/span&gt;&lt;/span&gt; &lt;span class=&quot;has-text-grey-light&quot;&gt;roaring, &lt;/span&gt; &lt;span&gt;&lt;span style=&quot;display:inline-table;&quot;&gt;&lt;span style=&quot;display:table-row;&quot;&gt;&lt;span style=&quot;display:table-cell;&quot;&gt;&lt;span class=&quot;has-text-black has-text-weight-bold&quot;&gt;actor&lt;/span&gt;&lt;/span&gt; &lt;span style=&quot;display:table-cell;&quot;&gt;&lt;span class=&quot;tag is-light&quot;&gt;star&lt;/span&gt;&lt;/span&gt; &lt;span style=&quot;display:table-cell; opacity:1.0;&quot;&gt;&lt;span class=&quot;tag is-warning&quot;&gt;44%&lt;/span&gt;&lt;/span&gt;&lt;/span&gt;&lt;/span&gt;&lt;/span&gt; &lt;span class=&quot;has-text-grey-light&quot;&gt;managers such as they don’t make any more. I&lt;/span&gt;&lt;/span&gt;&lt;/div&gt;&lt;/div&gt;&lt;/article&gt;&lt;article class=&quot;media&quot;&gt;&lt;div class=&quot;media-left&quot;&gt;&lt;p class=&quot;image is-64x64&quot;&gt;&lt;span class=&quot;buttons&quot;&gt;&lt;span class=&quot;has-text-weight-bold&quot;&gt;93.8%&lt;/span&gt;&lt;br /&gt;&lt;div&gt;&lt;/div&gt;&lt;/span&gt;&lt;/p&gt;&lt;/div&gt;&lt;div class=&quot;media-content&quot;&gt;&lt;div class=&quot;is-pulled-right&quot;&gt;&lt;small class=&quot;is-italic&quot;&gt;Wise Children, &lt;/small&gt;&lt;small&gt;par. 281&lt;/small&gt;&lt;/div&gt;&lt;div&gt;&lt;br /&gt;&lt;br /&gt;&lt;span&gt;&lt;span class=&quot;has-text-grey-light&quot;&gt;My own grandfather. Yet it was a voice from before &lt;/span&gt; &lt;span&gt;&lt;span style=&quot;display:inline-table;&quot;&gt;&lt;span style=&quot;display:table-row;&quot;&gt;&lt;span style=&quot;display:table-cell;&quot;&gt;&lt;span class=&quot;has-text-black has-text-weight-bold&quot;&gt;the&lt;/span&gt;&lt;/span&gt; &lt;span style=&quot;display:table-cell;&quot;&gt;&lt;span class=&quot;tag is-light&quot;&gt;the&lt;/span&gt;&lt;/span&gt; &lt;span style=&quot;display:table-cell; opacity:1.0;&quot;&gt;&lt;span class=&quot;tag is-success&quot;&gt;100%&lt;/span&gt;&lt;/span&gt;&lt;/span&gt;&lt;/span&gt;&lt;/span&gt; &lt;span class=&quot;has-text-grey-light&quot;&gt;Flood, from another kind of life entirely, so antique-sounding that it scarcely seems possible his granddaughters now sit in silk camiknickers in the basement of a house in Brixton, drinking tea and watching on television his &lt;/span&gt; &lt;span&gt;&lt;span style=&quot;display:inline-table;&quot;&gt;&lt;span style=&quot;display:table-row;&quot;&gt;&lt;span style=&quot;display:table-cell;&quot;&gt;&lt;span class=&quot;has-text-black has-text-weight-bold&quot;&gt;great&lt;/span&gt;&lt;/span&gt; &lt;span style=&quot;display:table-cell;&quot;&gt;&lt;span class=&quot;tag is-light&quot;&gt;great&lt;/span&gt;&lt;/span&gt; &lt;span style=&quot;display:table-cell; opacity:1.0;&quot;&gt;&lt;span class=&quot;tag is-success&quot;&gt;100%&lt;/span&gt;&lt;/span&gt;&lt;/span&gt;&lt;/span&gt;&lt;/span&gt; &lt;span class=&quot;has-text-grey-light&quot;&gt;grandson address an invisible audience out of a plastic box, in that between-two-worlds, neither Brit nor Yank, twang of the game-&lt;/span&gt; &lt;span&gt;&lt;span style=&quot;display:inline-table;&quot;&gt;&lt;span style=&quot;display:table-row;&quot;&gt;&lt;span style=&quot;display:table-cell;&quot;&gt;&lt;span class=&quot;has-text-black has-text-weight-bold&quot;&gt;show&lt;/span&gt;&lt;/span&gt; &lt;span style=&quot;display:table-cell;&quot;&gt;&lt;span class=&quot;tag is-light&quot;&gt;star&lt;/span&gt;&lt;/span&gt; &lt;span style=&quot;display:table-cell; opacity:1.0;&quot;&gt;&lt;span class=&quot;tag is-warning&quot;&gt;43%&lt;/span&gt;&lt;/span&gt;&lt;/span&gt;&lt;/span&gt;&lt;/span&gt; &lt;span class=&quot;has-text-grey-light&quot;&gt;host:‘Say it again for me! LASHINGS OF LOLLY!’Lo, &lt;/span&gt;&lt;/span&gt;&lt;/div&gt;&lt;/div&gt;&lt;/article&gt;&lt;article class=&quot;media&quot;&gt;&lt;div class=&quot;media-left&quot;&gt;&lt;p class=&quot;image is-64x64&quot;&gt;&lt;span class=&quot;buttons&quot;&gt;&lt;span class=&quot;has-text-weight-bold&quot;&gt;93.7%&lt;/span&gt;&lt;br /&gt;&lt;div&gt;&lt;/div&gt;&lt;/span&gt;&lt;/p&gt;&lt;/div&gt;&lt;div class=&quot;media-content&quot;&gt;&lt;div class=&quot;is-pulled-right&quot;&gt;&lt;small class=&quot;is-italic&quot;&gt;Wise Children, &lt;/small&gt;&lt;small&gt;par. 134&lt;/small&gt;&lt;/div&gt;&lt;div&gt;&lt;br /&gt;&lt;br /&gt;&lt;span&gt;&lt;span&gt;&lt;span style=&quot;display:inline-table;&quot;&gt;&lt;span style=&quot;display:table-row;&quot;&gt;&lt;span style=&quot;display:table-cell;&quot;&gt;&lt;span class=&quot;has-text-black has-text-weight-bold&quot;&gt;great&lt;/span&gt;&lt;/span&gt; &lt;span style=&quot;display:table-cell;&quot;&gt;&lt;span class=&quot;tag is-light&quot;&gt;great&lt;/span&gt;&lt;/span&gt; &lt;span style=&quot;display:table-cell; opacity:1.0;&quot;&gt;&lt;span class=&quot;tag is-success&quot;&gt;100%&lt;/span&gt;&lt;/span&gt;&lt;/span&gt;&lt;/span&gt;&lt;/span&gt; &lt;span class=&quot;has-text-grey-light&quot;&gt;friend and most assiduous &lt;/span&gt; &lt;span&gt;&lt;span style=&quot;display:inline-table;&quot;&gt;&lt;span style=&quot;display:table-row;&quot;&gt;&lt;span style=&quot;display:table-cell;&quot;&gt;&lt;span class=&quot;has-text-black has-text-weight-bold&quot;&gt;critic&lt;/span&gt;&lt;/span&gt; &lt;span style=&quot;display:table-cell;&quot;&gt;&lt;span class=&quot;tag is-light&quot;&gt;star&lt;/span&gt;&lt;/span&gt; &lt;span style=&quot;display:table-cell; opacity:1.0;&quot;&gt;&lt;span class=&quot;tag is-warning&quot;&gt;43%&lt;/span&gt;&lt;/span&gt;&lt;/span&gt;&lt;/span&gt;&lt;/span&gt; &lt;span class=&quot;has-text-grey-light&quot;&gt;noted that 1979, the year in which she published not just The Sadeian Woman but also her most celebrated collection of short stories, The Bloody Chamber – &lt;/span&gt; &lt;span&gt;&lt;span style=&quot;display:inline-table;&quot;&gt;&lt;span style=&quot;display:table-row;&quot;&gt;&lt;span style=&quot;display:table-cell;&quot;&gt;&lt;span class=&quot;has-text-black has-text-weight-bold&quot;&gt;the&lt;/span&gt;&lt;/span&gt; &lt;span style=&quot;display:table-cell;&quot;&gt;&lt;span class=&quot;tag is-light&quot;&gt;the&lt;/span&gt;&lt;/span&gt; &lt;span style=&quot;display:table-cell; opacity:1.0;&quot;&gt;&lt;span class=&quot;tag is-success&quot;&gt;100%&lt;/span&gt;&lt;/span&gt;&lt;/span&gt;&lt;/span&gt;&lt;/span&gt; &lt;span class=&quot;has-text-grey-light&quot;&gt;first of her collections in which she explicitly changed the &lt;/span&gt;&lt;/span&gt;&lt;/div&gt;&lt;/div&gt;&lt;/article&gt;\n",
       "\t\t\t&lt;/div&gt;\n",
       "\t\t&lt;/div&gt;\n",
       "\t&lt;/body&gt;\n",
       "&lt;/html&gt;\"\n",
       "\tframeborder=\"0\"\n",
       "\tallowfullscreen\n",
       "></iframe>\n",
       "<script>\n",
       "\tvar f = document.getElementById(\"vectorian-iframe-1615302385248062000\");\n",
       "\tf.onload = function() {\n",
       "\t\tf.height = f.contentWindow.document.body.scrollHeight + \"px\";\n",
       "\t};\n",
       "</script>\n",
       "\t\t"
      ],
      "text/plain": [
       "<vectorian.session.LabResult at 0x7f8a551143d0>"
      ]
     },
     "execution_count": 19,
     "metadata": {},
     "output_type": "execute_result"
    }
   ],
   "source": [
    "r"
   ]
  },
  {
   "cell_type": "code",
   "execution_count": 29,
   "id": "raising-plastic",
   "metadata": {},
   "outputs": [
    {
     "data": {
      "text/plain": [
       "{'type': 'sparse',\n",
       " 'source': array([0, 0, 2, 2, 1, 1], dtype=int16),\n",
       " 'target': array([ 4, 17, 24, 24,  5,  5], dtype=int16),\n",
       " 'weight': array([1., 1., 1., 1., 1., 1.], dtype=float32)}"
      ]
     },
     "execution_count": 29,
     "metadata": {},
     "output_type": "execute_result"
    }
   ],
   "source": [
    "r[0].flow"
   ]
  },
  {
   "cell_type": "code",
   "execution_count": 30,
   "id": "arctic-vacation",
   "metadata": {},
   "outputs": [],
   "source": [
    "def debug_flow(match):\n",
    "    flow = match.flow\n",
    "    \n",
    "    s_span = match.doc_span\n",
    "    t_span = match.query\n",
    "    \n",
    "    for t, s, w in zip(flow['source'], flow['target'], flow['weight']):\n",
    "        print(t_span[t].text, f\"[{t}]\", \"->\", s_span[s].text, f\"[{s}]\", \": \", w)\n",
    "    "
   ]
  },
  {
   "cell_type": "code",
   "execution_count": 31,
   "id": "ambient-attention",
   "metadata": {},
   "outputs": [
    {
     "name": "stdout",
     "output_type": "stream",
     "text": [
      "the [0] -> the [13] :  1.0\n",
      "star [2] -> actor [4] :  0.44881058\n",
      "star [2] -> Great [14] :  1.0\n",
      "great [1] -> Great [14] :  1.0\n"
     ]
    }
   ],
   "source": [
    "debug_flow(r[1])"
   ]
  },
  {
   "cell_type": "code",
   "execution_count": 28,
   "id": "upper-shelter",
   "metadata": {},
   "outputs": [
    {
     "data": {
      "text/plain": [
       "'the'"
      ]
     },
     "execution_count": 28,
     "metadata": {},
     "output_type": "execute_result"
    }
   ],
   "source": [
    "r[0].span[17].text"
   ]
  },
  {
   "cell_type": "code",
   "execution_count": 14,
   "id": "seventh-clearance",
   "metadata": {},
   "outputs": [
    {
     "data": {
      "text/html": [
       "\n",
       "\t\t        <iframe\n",
       "\t\t        \tid=\"vectorian-iframe-1614083105828215000\"\n",
       "\t\t            width=\"100%\"\n",
       "\t\t            height=\"100%\"\n",
       "\t\t            srcdoc=\"&lt;!DOCTYPE html&gt;\n",
       "&lt;html&gt;\n",
       "\t&lt;head&gt;\n",
       "\t\t&lt;meta charset=&quot;utf-8&quot;&gt;\n",
       "\t\t&lt;meta name=&quot;viewport&quot; content=&quot;width=device-width, initial-scale=1&quot;&gt;\n",
       "\t\t&lt;title&gt;Vectorian&lt;/title&gt;\n",
       "\t\t&lt;link rel=&quot;stylesheet&quot; href=&quot;https://cdn.jsdelivr.net/npm/bulma@0.9.1/css/bulma.min.css&quot;&gt;\n",
       "\t&lt;/head&gt;\n",
       "\t&lt;body&gt;\n",
       "\t\t&lt;div class=&quot;container&quot; height=&quot;100%&quot;&gt;\n",
       "\t\t\t&lt;div class=&quot;section&quot;&gt;\n",
       "&lt;!DOCTYPE html&gt;&lt;article class=&quot;media&quot;&gt;&lt;div class=&quot;media-left&quot;&gt;&lt;p class=&quot;image is-64x64&quot;&gt;&lt;span class=&quot;buttons&quot;&gt;&lt;span class=&quot;has-text-weight-bold&quot;&gt;91.7%&lt;/span&gt;&lt;br /&gt;&lt;div&gt;&lt;/div&gt;&lt;/span&gt;&lt;/p&gt;&lt;/div&gt;&lt;div class=&quot;media-content&quot;&gt;&lt;span style=&quot;font-variant: small-caps;&quot;&gt;&lt;/span&gt;&lt;div class=&quot;is-pulled-right&quot;&gt;&lt;small&gt;Anonymous, &lt;/small&gt;&lt;small class=&quot;is-italic&quot;&gt;A Child&#x27;s Dream of a Star, &lt;/small&gt;&lt;small&gt;par. 43&lt;/small&gt;&lt;/div&gt;&lt;div&gt;&lt;br /&gt;&lt;br /&gt;&lt;span&gt;&lt;span class=&quot;has-text-grey-light&quot;&gt;He grew to be a man, whose hair was &lt;/span&gt; &lt;span&gt;&lt;span style=&quot;display:inline-table;&quot;&gt;&lt;span style=&quot;display:table-row;&quot;&gt;&lt;span style=&quot;display:table-cell;&quot;&gt;&lt;span class=&quot;has-text-black has-text-weight-bold&quot;&gt;turning&lt;/span&gt;&lt;/span&gt; &lt;span style=&quot;display:table-cell;&quot;&gt;&lt;span class=&quot;tag is-light&quot;&gt;making&lt;/span&gt;&lt;/span&gt; &lt;span style=&quot;display:table-cell; opacity:1.0;&quot;&gt;&lt;span class=&quot;tag is-warning&quot;&gt;66%&lt;/span&gt;&lt;/span&gt;&lt;/span&gt;&lt;span style=&quot;display:table-row;&quot;&gt;&lt;span style=&quot;display:table-cell; padding-left: 0.2em; padding-right: 0.2em;&quot; class=&quot;is-size-7 has-text-centered has-text-black&quot;&gt;VERB&lt;/span&gt;&lt;span style=&quot;display:table-cell; padding-left: 0.2em; padding-right: 0.2em;&quot; class=&quot;is-size-7 has-text-centered&quot;&gt;VERB&lt;/span&gt;&lt;span style=&quot;display:table-cell; padding-left: 0.2em; padding-right: 0.2em;&quot; class=&quot;is-size-7 has-text-centered has-text-grey-light&quot;&gt;fasttext-en&lt;/span&gt;&lt;/span&gt;&lt;/span&gt;&lt;/span&gt; &lt;span class=&quot;has-text-grey-light&quot;&gt;gray; and he was sitting in his chair by the &lt;/span&gt; &lt;span&gt;&lt;span style=&quot;display:inline-table;&quot;&gt;&lt;span style=&quot;display:table-row;&quot;&gt;&lt;span style=&quot;display:table-cell;&quot;&gt;&lt;span class=&quot;has-text-black has-text-weight-bold&quot;&gt;fireside&lt;/span&gt;&lt;/span&gt; &lt;span style=&quot;display:table-cell;&quot;&gt;&lt;span class=&quot;tag is-light&quot;&gt;america&lt;/span&gt;&lt;/span&gt; &lt;span style=&quot;display:table-cell; opacity:1.0;&quot;&gt;&lt;span class=&quot;tag is-warning&quot;&gt;45%&lt;/span&gt;&lt;/span&gt;&lt;/span&gt;&lt;span style=&quot;display:table-row;&quot;&gt;&lt;span style=&quot;display:table-cell; padding-left: 0.2em; padding-right: 0.2em;&quot; class=&quot;is-size-7 has-text-centered has-text-black&quot;&gt;NOUN&lt;/span&gt;&lt;span style=&quot;display:table-cell; padding-left: 0.2em; padding-right: 0.2em;&quot; class=&quot;is-size-7 has-text-centered&quot;&gt;NOUN&lt;/span&gt;&lt;span style=&quot;display:table-cell; padding-left: 0.2em; padding-right: 0.2em;&quot; class=&quot;is-size-7 has-text-centered has-text-grey-light&quot;&gt;fasttext-en&lt;/span&gt;&lt;/span&gt;&lt;/span&gt;&lt;/span&gt; &lt;span class=&quot;has-text-grey-light&quot;&gt;heavy with grief, and with his face bedewed with tears, when the star opened &lt;/span&gt; &lt;span&gt;&lt;span style=&quot;display:inline-table;&quot;&gt;&lt;span style=&quot;display:table-row;&quot;&gt;&lt;span style=&quot;display:table-cell;&quot;&gt;&lt;span class=&quot;has-text-black has-text-weight-bold&quot;&gt;once&lt;/span&gt;&lt;/span&gt; &lt;span style=&quot;display:table-cell;&quot;&gt;&lt;span class=&quot;tag is-light&quot;&gt;great&lt;/span&gt;&lt;/span&gt; &lt;span style=&quot;display:table-cell; opacity:1.0;&quot;&gt;&lt;span class=&quot;tag is-warning&quot;&gt;55%&lt;/span&gt;&lt;/span&gt;&lt;/span&gt;&lt;span style=&quot;display:table-row;&quot;&gt;&lt;span style=&quot;display:table-cell; padding-left: 0.2em; padding-right: 0.2em;&quot; class=&quot;is-size-7 has-text-centered has-text-danger&quot;&gt;ADV&lt;/span&gt;&lt;span style=&quot;display:table-cell; padding-left: 0.2em; padding-right: 0.2em;&quot; class=&quot;is-size-7 has-text-centered&quot;&gt;ADJ&lt;/span&gt;&lt;span style=&quot;display:table-cell; padding-left: 0.2em; padding-right: 0.2em;&quot; class=&quot;is-size-7 has-text-centered has-text-grey-light&quot;&gt;fasttext-en&lt;/span&gt;&lt;/span&gt;&lt;/span&gt;&lt;/span&gt; &lt;span&gt;&lt;span style=&quot;display:inline-table;&quot;&gt;&lt;span style=&quot;display:table-row;&quot;&gt;&lt;span style=&quot;display:table-cell;&quot;&gt;&lt;span class=&quot;has-text-black has-text-weight-bold&quot;&gt;again&lt;/span&gt;&lt;/span&gt; &lt;span style=&quot;display:table-cell;&quot;&gt;&lt;span class=&quot;tag is-light&quot;&gt;again&lt;/span&gt;&lt;/span&gt; &lt;span style=&quot;display:table-cell; opacity:1.0;&quot;&gt;&lt;span class=&quot;tag is-success&quot;&gt;100%&lt;/span&gt;&lt;/span&gt;&lt;/span&gt;&lt;span style=&quot;display:table-row;&quot;&gt;&lt;span style=&quot;display:table-cell; padding-left: 0.2em; padding-right: 0.2em;&quot; class=&quot;is-size-7 has-text-centered has-text-black&quot;&gt;ADV&lt;/span&gt;&lt;span style=&quot;display:table-cell; padding-left: 0.2em; padding-right: 0.2em;&quot; class=&quot;is-size-7 has-text-centered&quot;&gt;ADV&lt;/span&gt;&lt;span style=&quot;display:table-cell; padding-left: 0.2em; padding-right: 0.2em;&quot; class=&quot;is-size-7 has-text-centered has-text-grey-light&quot;&gt;fasttext-en&lt;/span&gt;&lt;/span&gt;&lt;/span&gt;&lt;/span&gt; &lt;span class=&quot;has-text-grey-light&quot;&gt;Said his sister’s angel to the leader, “Is &lt;/span&gt;&lt;/span&gt;&lt;/div&gt;&lt;/div&gt;&lt;/article&gt;&lt;article class=&quot;media&quot;&gt;&lt;div class=&quot;media-left&quot;&gt;&lt;p class=&quot;image is-64x64&quot;&gt;&lt;span class=&quot;buttons&quot;&gt;&lt;span class=&quot;has-text-weight-bold&quot;&gt;91.3%&lt;/span&gt;&lt;br /&gt;&lt;div&gt;&lt;/div&gt;&lt;/span&gt;&lt;/p&gt;&lt;/div&gt;&lt;div class=&quot;media-content&quot;&gt;&lt;span style=&quot;font-variant: small-caps;&quot;&gt;&lt;/span&gt;&lt;div class=&quot;is-pulled-right&quot;&gt;&lt;small&gt;Anonymous, &lt;/small&gt;&lt;small class=&quot;is-italic&quot;&gt;A Child&#x27;s Dream of a Star, &lt;/small&gt;&lt;small&gt;par. 5&lt;/small&gt;&lt;/div&gt;&lt;div&gt;&lt;br /&gt;&lt;br /&gt;&lt;span&gt;&lt;span&gt;&lt;span style=&quot;display:inline-table;&quot;&gt;&lt;span style=&quot;display:table-row;&quot;&gt;&lt;span style=&quot;display:table-cell;&quot;&gt;&lt;span class=&quot;has-text-black has-text-weight-bold&quot;&gt;once&lt;/span&gt;&lt;/span&gt; &lt;span style=&quot;display:table-cell;&quot;&gt;&lt;span class=&quot;tag is-light&quot;&gt;again&lt;/span&gt;&lt;/span&gt; &lt;span style=&quot;display:table-cell; opacity:1.0;&quot;&gt;&lt;span class=&quot;tag is-warning&quot;&gt;72%&lt;/span&gt;&lt;/span&gt;&lt;/span&gt;&lt;span style=&quot;display:table-row;&quot;&gt;&lt;span style=&quot;display:table-cell; padding-left: 0.2em; padding-right: 0.2em;&quot; class=&quot;is-size-7 has-text-centered has-text-black&quot;&gt;ADV&lt;/span&gt;&lt;span style=&quot;display:table-cell; padding-left: 0.2em; padding-right: 0.2em;&quot; class=&quot;is-size-7 has-text-centered&quot;&gt;ADV&lt;/span&gt;&lt;span style=&quot;display:table-cell; padding-left: 0.2em; padding-right: 0.2em;&quot; class=&quot;is-size-7 has-text-centered has-text-grey-light&quot;&gt;fasttext-en&lt;/span&gt;&lt;/span&gt;&lt;/span&gt;&lt;/span&gt; &lt;span class=&quot;has-text-grey-light&quot;&gt;a child, and he strolled about a &lt;/span&gt; &lt;span&gt;&lt;span style=&quot;display:inline-table;&quot;&gt;&lt;span style=&quot;display:table-row;&quot;&gt;&lt;span style=&quot;display:table-cell;&quot;&gt;&lt;span class=&quot;has-text-black has-text-weight-bold&quot;&gt;good&lt;/span&gt;&lt;/span&gt; &lt;span style=&quot;display:table-cell;&quot;&gt;&lt;span class=&quot;tag is-light&quot;&gt;great&lt;/span&gt;&lt;/span&gt; &lt;span style=&quot;display:table-cell; opacity:1.0;&quot;&gt;&lt;span class=&quot;tag is-success&quot;&gt;83%&lt;/span&gt;&lt;/span&gt;&lt;/span&gt;&lt;span style=&quot;display:table-row;&quot;&gt;&lt;span style=&quot;display:table-cell; padding-left: 0.2em; padding-right: 0.2em;&quot; class=&quot;is-size-7 has-text-centered has-text-black&quot;&gt;ADJ&lt;/span&gt;&lt;span style=&quot;display:table-cell; padding-left: 0.2em; padding-right: 0.2em;&quot; class=&quot;is-size-7 has-text-centered&quot;&gt;ADJ&lt;/span&gt;&lt;span style=&quot;display:table-cell; padding-left: 0.2em; padding-right: 0.2em;&quot; class=&quot;is-size-7 has-text-centered has-text-grey-light&quot;&gt;fasttext-en&lt;/span&gt;&lt;/span&gt;&lt;/span&gt;&lt;/span&gt; &lt;span class=&quot;has-text-grey-light&quot;&gt;deal, and thought of &lt;/span&gt; &lt;span&gt;&lt;span style=&quot;display:inline-table;&quot;&gt;&lt;span style=&quot;display:table-row;&quot;&gt;&lt;span style=&quot;display:table-cell;&quot;&gt;&lt;span class=&quot;has-text-black has-text-weight-bold&quot;&gt;a&lt;/span&gt;&lt;/span&gt; &lt;span style=&quot;display:table-cell;&quot;&gt;&lt;span class=&quot;tag is-light&quot;&gt;making&lt;/span&gt;&lt;/span&gt; &lt;span style=&quot;display:table-cell; opacity:1.0;&quot;&gt;&lt;span class=&quot;tag is-warning&quot;&gt;60%&lt;/span&gt;&lt;/span&gt;&lt;/span&gt;&lt;span style=&quot;display:table-row;&quot;&gt;&lt;span style=&quot;display:table-cell; padding-left: 0.2em; padding-right: 0.2em;&quot; class=&quot;is-size-7 has-text-centered has-text-danger&quot;&gt;DET&lt;/span&gt;&lt;span style=&quot;display:table-cell; padding-left: 0.2em; padding-right: 0.2em;&quot; class=&quot;is-size-7 has-text-centered&quot;&gt;VERB&lt;/span&gt;&lt;span style=&quot;display:table-cell; padding-left: 0.2em; padding-right: 0.2em;&quot; class=&quot;is-size-7 has-text-centered has-text-grey-light&quot;&gt;fasttext-en&lt;/span&gt;&lt;/span&gt;&lt;/span&gt;&lt;/span&gt; &lt;span class=&quot;has-text-grey-light&quot;&gt;number of &lt;/span&gt; &lt;span&gt;&lt;span style=&quot;display:inline-table;&quot;&gt;&lt;span style=&quot;display:table-row;&quot;&gt;&lt;span style=&quot;display:table-cell;&quot;&gt;&lt;span class=&quot;has-text-black has-text-weight-bold&quot;&gt;things&lt;/span&gt;&lt;/span&gt; &lt;span style=&quot;display:table-cell;&quot;&gt;&lt;span class=&quot;tag is-light&quot;&gt;america&lt;/span&gt;&lt;/span&gt; &lt;span style=&quot;display:table-cell; opacity:1.0;&quot;&gt;&lt;span class=&quot;tag is-warning&quot;&gt;43%&lt;/span&gt;&lt;/span&gt;&lt;/span&gt;&lt;span style=&quot;display:table-row;&quot;&gt;&lt;span style=&quot;display:table-cell; padding-left: 0.2em; padding-right: 0.2em;&quot; class=&quot;is-size-7 has-text-centered has-text-black&quot;&gt;NOUN&lt;/span&gt;&lt;span style=&quot;display:table-cell; padding-left: 0.2em; padding-right: 0.2em;&quot; class=&quot;is-size-7 has-text-centered&quot;&gt;NOUN&lt;/span&gt;&lt;span style=&quot;display:table-cell; padding-left: 0.2em; padding-right: 0.2em;&quot; class=&quot;is-size-7 has-text-centered has-text-grey-light&quot;&gt;fasttext-en&lt;/span&gt;&lt;/span&gt;&lt;/span&gt;&lt;/span&gt; &lt;span class=&quot;has-text-grey-light&quot;&gt;&lt;/span&gt;&lt;/span&gt;&lt;/div&gt;&lt;/div&gt;&lt;/article&gt;&lt;article class=&quot;media&quot;&gt;&lt;div class=&quot;media-left&quot;&gt;&lt;p class=&quot;image is-64x64&quot;&gt;&lt;span class=&quot;buttons&quot;&gt;&lt;span class=&quot;has-text-weight-bold&quot;&gt;91.1%&lt;/span&gt;&lt;br /&gt;&lt;div&gt;&lt;/div&gt;&lt;/span&gt;&lt;/p&gt;&lt;/div&gt;&lt;div class=&quot;media-content&quot;&gt;&lt;span style=&quot;font-variant: small-caps;&quot;&gt;&lt;/span&gt;&lt;div class=&quot;is-pulled-right&quot;&gt;&lt;small&gt;Anonymous, &lt;/small&gt;&lt;small class=&quot;is-italic&quot;&gt;A Child&#x27;s Dream of a Star, &lt;/small&gt;&lt;small&gt;par. 37&lt;/small&gt;&lt;/div&gt;&lt;div&gt;&lt;br /&gt;&lt;br /&gt;&lt;span&gt;&lt;span class=&quot;has-text-grey-light&quot;&gt;\n",
       "\n",
       "&lt;/span&gt; &lt;span&gt;&lt;span style=&quot;display:inline-table;&quot;&gt;&lt;span style=&quot;display:table-row;&quot;&gt;&lt;span style=&quot;display:table-cell;&quot;&gt;&lt;span class=&quot;has-text-black has-text-weight-bold&quot;&gt;Again&lt;/span&gt;&lt;/span&gt; &lt;span style=&quot;display:table-cell;&quot;&gt;&lt;span class=&quot;tag is-light&quot;&gt;again&lt;/span&gt;&lt;/span&gt; &lt;span style=&quot;display:table-cell; opacity:1.0;&quot;&gt;&lt;span class=&quot;tag is-success&quot;&gt;100%&lt;/span&gt;&lt;/span&gt;&lt;/span&gt;&lt;span style=&quot;display:table-row;&quot;&gt;&lt;span style=&quot;display:table-cell; padding-left: 0.2em; padding-right: 0.2em;&quot; class=&quot;is-size-7 has-text-centered has-text-black&quot;&gt;ADV&lt;/span&gt;&lt;span style=&quot;display:table-cell; padding-left: 0.2em; padding-right: 0.2em;&quot; class=&quot;is-size-7 has-text-centered&quot;&gt;ADV&lt;/span&gt;&lt;span style=&quot;display:table-cell; padding-left: 0.2em; padding-right: 0.2em;&quot; class=&quot;is-size-7 has-text-centered has-text-grey-light&quot;&gt;fasttext-en&lt;/span&gt;&lt;/span&gt;&lt;/span&gt;&lt;/span&gt; &lt;span class=&quot;has-text-grey-light&quot;&gt;at night he saw &lt;/span&gt; &lt;span&gt;&lt;span style=&quot;display:inline-table;&quot;&gt;&lt;span style=&quot;display:table-row;&quot;&gt;&lt;span style=&quot;display:table-cell;&quot;&gt;&lt;span class=&quot;has-text-black has-text-weight-bold&quot;&gt;the&lt;/span&gt;&lt;/span&gt; &lt;span style=&quot;display:table-cell;&quot;&gt;&lt;span class=&quot;tag is-light&quot;&gt;making&lt;/span&gt;&lt;/span&gt; &lt;span style=&quot;display:table-cell; opacity:1.0;&quot;&gt;&lt;span class=&quot;tag is-warning&quot;&gt;58%&lt;/span&gt;&lt;/span&gt;&lt;/span&gt;&lt;span style=&quot;display:table-row;&quot;&gt;&lt;span style=&quot;display:table-cell; padding-left: 0.2em; padding-right: 0.2em;&quot; class=&quot;is-size-7 has-text-centered has-text-danger&quot;&gt;DET&lt;/span&gt;&lt;span style=&quot;display:table-cell; padding-left: 0.2em; padding-right: 0.2em;&quot; class=&quot;is-size-7 has-text-centered&quot;&gt;VERB&lt;/span&gt;&lt;span style=&quot;display:table-cell; padding-left: 0.2em; padding-right: 0.2em;&quot; class=&quot;is-size-7 has-text-centered has-text-grey-light&quot;&gt;fasttext-en&lt;/span&gt;&lt;/span&gt;&lt;/span&gt;&lt;/span&gt; &lt;span class=&quot;has-text-grey-light&quot;&gt;star, and all &lt;/span&gt; &lt;span&gt;&lt;span style=&quot;display:inline-table;&quot;&gt;&lt;span style=&quot;display:table-row;&quot;&gt;&lt;span style=&quot;display:table-cell;&quot;&gt;&lt;span class=&quot;has-text-black has-text-weight-bold&quot;&gt;that&lt;/span&gt;&lt;/span&gt; &lt;span style=&quot;display:table-cell;&quot;&gt;&lt;span class=&quot;tag is-light&quot;&gt;great&lt;/span&gt;&lt;/span&gt; &lt;span style=&quot;display:table-cell; opacity:1.0;&quot;&gt;&lt;span class=&quot;tag is-warning&quot;&gt;54%&lt;/span&gt;&lt;/span&gt;&lt;/span&gt;&lt;span style=&quot;display:table-row;&quot;&gt;&lt;span style=&quot;display:table-cell; padding-left: 0.2em; padding-right: 0.2em;&quot; class=&quot;is-size-7 has-text-centered has-text-danger&quot;&gt;DET&lt;/span&gt;&lt;span style=&quot;display:table-cell; padding-left: 0.2em; padding-right: 0.2em;&quot; class=&quot;is-size-7 has-text-centered&quot;&gt;ADJ&lt;/span&gt;&lt;span style=&quot;display:table-cell; padding-left: 0.2em; padding-right: 0.2em;&quot; class=&quot;is-size-7 has-text-centered has-text-grey-light&quot;&gt;fasttext-en&lt;/span&gt;&lt;/span&gt;&lt;/span&gt;&lt;/span&gt; &lt;span class=&quot;has-text-grey-light&quot;&gt;former &lt;/span&gt; &lt;span&gt;&lt;span style=&quot;display:inline-table;&quot;&gt;&lt;span style=&quot;display:table-row;&quot;&gt;&lt;span style=&quot;display:table-cell;&quot;&gt;&lt;span class=&quot;has-text-black has-text-weight-bold&quot;&gt;company&lt;/span&gt;&lt;/span&gt; &lt;span style=&quot;display:table-cell;&quot;&gt;&lt;span class=&quot;tag is-light&quot;&gt;america&lt;/span&gt;&lt;/span&gt; &lt;span style=&quot;display:table-cell; opacity:1.0;&quot;&gt;&lt;span class=&quot;tag is-warning&quot;&gt;44%&lt;/span&gt;&lt;/span&gt;&lt;/span&gt;&lt;span style=&quot;display:table-row;&quot;&gt;&lt;span style=&quot;display:table-cell; padding-left: 0.2em; padding-right: 0.2em;&quot; class=&quot;is-size-7 has-text-centered has-text-black&quot;&gt;NOUN&lt;/span&gt;&lt;span style=&quot;display:table-cell; padding-left: 0.2em; padding-right: 0.2em;&quot; class=&quot;is-size-7 has-text-centered&quot;&gt;NOUN&lt;/span&gt;&lt;span style=&quot;display:table-cell; padding-left: 0.2em; padding-right: 0.2em;&quot; class=&quot;is-size-7 has-text-centered has-text-grey-light&quot;&gt;fasttext-en&lt;/span&gt;&lt;/span&gt;&lt;/span&gt;&lt;/span&gt; &lt;span class=&quot;has-text-grey-light&quot;&gt;&lt;/span&gt;&lt;/span&gt;&lt;/div&gt;&lt;/div&gt;&lt;/article&gt;&lt;article class=&quot;media&quot;&gt;&lt;div class=&quot;media-left&quot;&gt;&lt;p class=&quot;image is-64x64&quot;&gt;&lt;span class=&quot;buttons&quot;&gt;&lt;span class=&quot;has-text-weight-bold&quot;&gt;91.0%&lt;/span&gt;&lt;br /&gt;&lt;div&gt;&lt;/div&gt;&lt;/span&gt;&lt;/p&gt;&lt;/div&gt;&lt;div class=&quot;media-content&quot;&gt;&lt;span style=&quot;font-variant: small-caps;&quot;&gt;&lt;/span&gt;&lt;div class=&quot;is-pulled-right&quot;&gt;&lt;small&gt;Anonymous, &lt;/small&gt;&lt;small class=&quot;is-italic&quot;&gt;A Child&#x27;s Dream of a Star, &lt;/small&gt;&lt;small&gt;par. 30&lt;/small&gt;&lt;/div&gt;&lt;div&gt;&lt;br /&gt;&lt;br /&gt;&lt;span&gt;&lt;span&gt;&lt;span style=&quot;display:inline-table;&quot;&gt;&lt;span style=&quot;display:table-row;&quot;&gt;&lt;span style=&quot;display:table-cell;&quot;&gt;&lt;span class=&quot;has-text-black has-text-weight-bold&quot;&gt;Again&lt;/span&gt;&lt;/span&gt; &lt;span style=&quot;display:table-cell;&quot;&gt;&lt;span class=&quot;tag is-light&quot;&gt;again&lt;/span&gt;&lt;/span&gt; &lt;span style=&quot;display:table-cell; opacity:1.0;&quot;&gt;&lt;span class=&quot;tag is-success&quot;&gt;100%&lt;/span&gt;&lt;/span&gt;&lt;/span&gt;&lt;span style=&quot;display:table-row;&quot;&gt;&lt;span style=&quot;display:table-cell; padding-left: 0.2em; padding-right: 0.2em;&quot; class=&quot;is-size-7 has-text-centered has-text-black&quot;&gt;ADV&lt;/span&gt;&lt;span style=&quot;display:table-cell; padding-left: 0.2em; padding-right: 0.2em;&quot; class=&quot;is-size-7 has-text-centered&quot;&gt;ADV&lt;/span&gt;&lt;span style=&quot;display:table-cell; padding-left: 0.2em; padding-right: 0.2em;&quot; class=&quot;is-size-7 has-text-centered has-text-grey-light&quot;&gt;fasttext-en&lt;/span&gt;&lt;/span&gt;&lt;/span&gt;&lt;/span&gt; &lt;span class=&quot;has-text-grey-light&quot;&gt;the child dreamed of the opened star, and of the company of &lt;/span&gt; &lt;span&gt;&lt;span style=&quot;display:inline-table;&quot;&gt;&lt;span style=&quot;display:table-row;&quot;&gt;&lt;span style=&quot;display:table-cell;&quot;&gt;&lt;span class=&quot;has-text-black has-text-weight-bold&quot;&gt;angels&lt;/span&gt;&lt;/span&gt; &lt;span style=&quot;display:table-cell;&quot;&gt;&lt;span class=&quot;tag is-light&quot;&gt;america&lt;/span&gt;&lt;/span&gt; &lt;span style=&quot;display:table-cell; opacity:1.0;&quot;&gt;&lt;span class=&quot;tag is-warning&quot;&gt;44%&lt;/span&gt;&lt;/span&gt;&lt;/span&gt;&lt;span style=&quot;display:table-row;&quot;&gt;&lt;span style=&quot;display:table-cell; padding-left: 0.2em; padding-right: 0.2em;&quot; class=&quot;is-size-7 has-text-centered has-text-black&quot;&gt;NOUN&lt;/span&gt;&lt;span style=&quot;display:table-cell; padding-left: 0.2em; padding-right: 0.2em;&quot; class=&quot;is-size-7 has-text-centered&quot;&gt;NOUN&lt;/span&gt;&lt;span style=&quot;display:table-cell; padding-left: 0.2em; padding-right: 0.2em;&quot; class=&quot;is-size-7 has-text-centered has-text-grey-light&quot;&gt;fasttext-en&lt;/span&gt;&lt;/span&gt;&lt;/span&gt;&lt;/span&gt; &lt;span class=&quot;has-text-grey-light&quot;&gt;and the train of people, and the rows of angels with &lt;/span&gt; &lt;span&gt;&lt;span style=&quot;display:inline-table;&quot;&gt;&lt;span style=&quot;display:table-row;&quot;&gt;&lt;span style=&quot;display:table-cell;&quot;&gt;&lt;span class=&quot;has-text-black has-text-weight-bold&quot;&gt;their&lt;/span&gt;&lt;/span&gt; &lt;span style=&quot;display:table-cell;&quot;&gt;&lt;span class=&quot;tag is-light&quot;&gt;making&lt;/span&gt;&lt;/span&gt; &lt;span style=&quot;display:table-cell; opacity:1.0;&quot;&gt;&lt;span class=&quot;tag is-warning&quot;&gt;60%&lt;/span&gt;&lt;/span&gt;&lt;/span&gt;&lt;span style=&quot;display:table-row;&quot;&gt;&lt;span style=&quot;display:table-cell; padding-left: 0.2em; padding-right: 0.2em;&quot; class=&quot;is-size-7 has-text-centered has-text-danger&quot;&gt;PRON&lt;/span&gt;&lt;span style=&quot;display:table-cell; padding-left: 0.2em; padding-right: 0.2em;&quot; class=&quot;is-size-7 has-text-centered&quot;&gt;VERB&lt;/span&gt;&lt;span style=&quot;display:table-cell; padding-left: 0.2em; padding-right: 0.2em;&quot; class=&quot;is-size-7 has-text-centered has-text-grey-light&quot;&gt;fasttext-en&lt;/span&gt;&lt;/span&gt;&lt;/span&gt;&lt;/span&gt; &lt;span class=&quot;has-text-grey-light&quot;&gt;beaming eyes &lt;/span&gt; &lt;span&gt;&lt;span style=&quot;display:inline-table;&quot;&gt;&lt;span style=&quot;display:table-row;&quot;&gt;&lt;span style=&quot;display:table-cell;&quot;&gt;&lt;span class=&quot;has-text-black has-text-weight-bold&quot;&gt;all&lt;/span&gt;&lt;/span&gt; &lt;span style=&quot;display:table-cell;&quot;&gt;&lt;span class=&quot;tag is-light&quot;&gt;great&lt;/span&gt;&lt;/span&gt; &lt;span style=&quot;display:table-cell; opacity:1.0;&quot;&gt;&lt;span class=&quot;tag is-warning&quot;&gt;50%&lt;/span&gt;&lt;/span&gt;&lt;/span&gt;&lt;span style=&quot;display:table-row;&quot;&gt;&lt;span style=&quot;display:table-cell; padding-left: 0.2em; padding-right: 0.2em;&quot; class=&quot;is-size-7 has-text-centered has-text-danger&quot;&gt;DET&lt;/span&gt;&lt;span style=&quot;display:table-cell; padding-left: 0.2em; padding-right: 0.2em;&quot; class=&quot;is-size-7 has-text-centered&quot;&gt;ADJ&lt;/span&gt;&lt;span style=&quot;display:table-cell; padding-left: 0.2em; padding-right: 0.2em;&quot; class=&quot;is-size-7 has-text-centered has-text-grey-light&quot;&gt;fasttext-en&lt;/span&gt;&lt;/span&gt;&lt;/span&gt;&lt;/span&gt; &lt;span class=&quot;has-text-grey-light&quot;&gt;turned upon those people’s faces.\n",
       "\n",
       "Said his sister&lt;/span&gt;&lt;/span&gt;&lt;/div&gt;&lt;/div&gt;&lt;/article&gt;&lt;article class=&quot;media&quot;&gt;&lt;div class=&quot;media-left&quot;&gt;&lt;p class=&quot;image is-64x64&quot;&gt;&lt;span class=&quot;buttons&quot;&gt;&lt;span class=&quot;has-text-weight-bold&quot;&gt;90.9%&lt;/span&gt;&lt;br /&gt;&lt;div&gt;&lt;/div&gt;&lt;/span&gt;&lt;/p&gt;&lt;/div&gt;&lt;div class=&quot;media-content&quot;&gt;&lt;span style=&quot;font-variant: small-caps;&quot;&gt;&lt;/span&gt;&lt;div class=&quot;is-pulled-right&quot;&gt;&lt;small&gt;Anonymous, &lt;/small&gt;&lt;small class=&quot;is-italic&quot;&gt;A Child&#x27;s Dream of a Star, &lt;/small&gt;&lt;small&gt;par. 16&lt;/small&gt;&lt;/div&gt;&lt;div&gt;&lt;br /&gt;&lt;br /&gt;&lt;span&gt;&lt;span&gt;&lt;span style=&quot;display:inline-table;&quot;&gt;&lt;span style=&quot;display:table-row;&quot;&gt;&lt;span style=&quot;display:table-cell;&quot;&gt;&lt;span class=&quot;has-text-black has-text-weight-bold&quot;&gt;Now&lt;/span&gt;&lt;/span&gt; &lt;span style=&quot;display:table-cell;&quot;&gt;&lt;span class=&quot;tag is-light&quot;&gt;again&lt;/span&gt;&lt;/span&gt; &lt;span style=&quot;display:table-cell; opacity:1.0;&quot;&gt;&lt;span class=&quot;tag is-warning&quot;&gt;61%&lt;/span&gt;&lt;/span&gt;&lt;/span&gt;&lt;span style=&quot;display:table-row;&quot;&gt;&lt;span style=&quot;display:table-cell; padding-left: 0.2em; padding-right: 0.2em;&quot; class=&quot;is-size-7 has-text-centered has-text-black&quot;&gt;ADV&lt;/span&gt;&lt;span style=&quot;display:table-cell; padding-left: 0.2em; padding-right: 0.2em;&quot; class=&quot;is-size-7 has-text-centered&quot;&gt;ADV&lt;/span&gt;&lt;span style=&quot;display:table-cell; padding-left: 0.2em; padding-right: 0.2em;&quot; class=&quot;is-size-7 has-text-centered has-text-grey-light&quot;&gt;fasttext-en&lt;/span&gt;&lt;/span&gt;&lt;/span&gt;&lt;/span&gt; &lt;span class=&quot;has-text-grey-light&quot;&gt;these rays were so bright, and they seemed to &lt;/span&gt; &lt;span&gt;&lt;span style=&quot;display:inline-table;&quot;&gt;&lt;span style=&quot;display:table-row;&quot;&gt;&lt;span style=&quot;display:table-cell;&quot;&gt;&lt;span class=&quot;has-text-black has-text-weight-bold&quot;&gt;make&lt;/span&gt;&lt;/span&gt; &lt;span style=&quot;display:table-cell;&quot;&gt;&lt;span class=&quot;tag is-light&quot;&gt;making&lt;/span&gt;&lt;/span&gt; &lt;span style=&quot;display:table-cell; opacity:1.0;&quot;&gt;&lt;span class=&quot;tag is-success&quot;&gt;81%&lt;/span&gt;&lt;/span&gt;&lt;/span&gt;&lt;span style=&quot;display:table-row;&quot;&gt;&lt;span style=&quot;display:table-cell; padding-left: 0.2em; padding-right: 0.2em;&quot; class=&quot;is-size-7 has-text-centered has-text-black&quot;&gt;VERB&lt;/span&gt;&lt;span style=&quot;display:table-cell; padding-left: 0.2em; padding-right: 0.2em;&quot; class=&quot;is-size-7 has-text-centered&quot;&gt;VERB&lt;/span&gt;&lt;span style=&quot;display:table-cell; padding-left: 0.2em; padding-right: 0.2em;&quot; class=&quot;is-size-7 has-text-centered has-text-grey-light&quot;&gt;fasttext-en&lt;/span&gt;&lt;/span&gt;&lt;/span&gt;&lt;/span&gt; &lt;span class=&quot;has-text-grey-light&quot;&gt;such a shining &lt;/span&gt; &lt;span&gt;&lt;span style=&quot;display:inline-table;&quot;&gt;&lt;span style=&quot;display:table-row;&quot;&gt;&lt;span style=&quot;display:table-cell;&quot;&gt;&lt;span class=&quot;has-text-black has-text-weight-bold&quot;&gt;way&lt;/span&gt;&lt;/span&gt; &lt;span style=&quot;display:table-cell;&quot;&gt;&lt;span class=&quot;tag is-light&quot;&gt;great&lt;/span&gt;&lt;/span&gt; &lt;span style=&quot;display:table-cell; opacity:1.0;&quot;&gt;&lt;span class=&quot;tag is-warning&quot;&gt;58%&lt;/span&gt;&lt;/span&gt;&lt;/span&gt;&lt;span style=&quot;display:table-row;&quot;&gt;&lt;span style=&quot;display:table-cell; padding-left: 0.2em; padding-right: 0.2em;&quot; class=&quot;is-size-7 has-text-centered has-text-danger&quot;&gt;NOUN&lt;/span&gt;&lt;span style=&quot;display:table-cell; padding-left: 0.2em; padding-right: 0.2em;&quot; class=&quot;is-size-7 has-text-centered&quot;&gt;ADJ&lt;/span&gt;&lt;span style=&quot;display:table-cell; padding-left: 0.2em; padding-right: 0.2em;&quot; class=&quot;is-size-7 has-text-centered has-text-grey-light&quot;&gt;fasttext-en&lt;/span&gt;&lt;/span&gt;&lt;/span&gt;&lt;/span&gt; &lt;span class=&quot;has-text-grey-light&quot;&gt;from &lt;/span&gt; &lt;span&gt;&lt;span style=&quot;display:inline-table;&quot;&gt;&lt;span style=&quot;display:table-row;&quot;&gt;&lt;span style=&quot;display:table-cell;&quot;&gt;&lt;span class=&quot;has-text-black has-text-weight-bold&quot;&gt;earth&lt;/span&gt;&lt;/span&gt; &lt;span style=&quot;display:table-cell;&quot;&gt;&lt;span class=&quot;tag is-light&quot;&gt;america&lt;/span&gt;&lt;/span&gt; &lt;span style=&quot;display:table-cell; opacity:1.0;&quot;&gt;&lt;span class=&quot;tag is-warning&quot;&gt;53%&lt;/span&gt;&lt;/span&gt;&lt;/span&gt;&lt;span style=&quot;display:table-row;&quot;&gt;&lt;span style=&quot;display:table-cell; padding-left: 0.2em; padding-right: 0.2em;&quot; class=&quot;is-size-7 has-text-centered has-text-black&quot;&gt;NOUN&lt;/span&gt;&lt;span style=&quot;display:table-cell; padding-left: 0.2em; padding-right: 0.2em;&quot; class=&quot;is-size-7 has-text-centered&quot;&gt;NOUN&lt;/span&gt;&lt;span style=&quot;display:table-cell; padding-left: 0.2em; padding-right: 0.2em;&quot; class=&quot;is-size-7 has-text-centered has-text-grey-light&quot;&gt;fasttext-en&lt;/span&gt;&lt;/span&gt;&lt;/span&gt;&lt;/span&gt; &lt;span class=&quot;has-text-grey-light&quot;&gt;to heaven, that when the child went to his solitary &lt;/span&gt;&lt;/span&gt;&lt;/div&gt;&lt;/div&gt;&lt;/article&gt;\n",
       "\t\t\t&lt;/div&gt;\n",
       "\t\t&lt;/div&gt;\n",
       "\t&lt;/body&gt;\n",
       "&lt;/html&gt;\"\n",
       "\t\t            frameborder=\"0\"\n",
       "\t\t            allowfullscreen\n",
       "\t\t        ></iframe>\n",
       "\t\t        <script>\n",
       "\t\t        \tvar f = document.getElementById(\"vectorian-iframe-1614083105828215000\");\n",
       "\t\t        \tf.onload = function() {\n",
       "\t\t\t        \tf.height = f.contentWindow.document.body.scrollHeight + \"px\";\n",
       "\t\t\t        };\n",
       "\t\t        </script>\n",
       "\t\t"
      ],
      "text/plain": [
       "<vectorian.session.LabResult at 0x7fbc59517730>"
      ]
     },
     "execution_count": 14,
     "metadata": {},
     "output_type": "execute_result"
    }
   ],
   "source": [
    "r.annotate()"
   ]
  },
  {
   "cell_type": "code",
   "execution_count": null,
   "id": "needed-migration",
   "metadata": {},
   "outputs": [],
   "source": []
  },
  {
   "cell_type": "code",
   "execution_count": 6,
   "id": "rational-consultation",
   "metadata": {},
   "outputs": [
    {
     "name": "stderr",
     "output_type": "stream",
     "text": [
      "Importing /Users/arbeit/Wise Children.txt: 100%|██████████| 369/369 [00:04<00:00, 83.86it/s] \n"
     ]
    }
   ],
   "source": [
    "from vectorian.importers import NovelImporter\n",
    "from vectorian.session import LabSession\n",
    "from vectorian.metrics import CosineMetric, TokenSimilarityMetric\n",
    "from vectorian.metrics import AlignmentSentenceMetric\n",
    "from vectorian.alignment import WatermanSmithBeyer\n",
    "\n",
    "im = NovelImporter(nlp)\n",
    "doc = im(\"/Users/arbeit/Wise Children.txt\")\n",
    "\n",
    "session = LabSession(\n",
    "    [doc],\n",
    "    [fasttext],\n",
    "    token_mappings)"
   ]
  },
  {
   "cell_type": "code",
   "execution_count": 31,
   "id": "exciting-april",
   "metadata": {},
   "outputs": [
    {
     "data": {
      "application/vnd.jupyter.widget-view+json": {
       "model_id": "",
       "version_major": 2,
       "version_minor": 0
      },
      "text/plain": [
       "FloatProgress(value=0.0, layout=Layout(width='100%'), max=1.0)"
      ]
     },
     "metadata": {},
     "output_type": "display_data"
    },
    {
     "name": "stdout",
     "output_type": "stream",
     "text": [
      "(3732, 7)\n"
     ]
    }
   ],
   "source": [
    "import tabulate\n",
    "\n",
    "from vectorian.metrics import CosineMetric, TokenSimilarityMetric, AlignmentSentenceMetric\n",
    "from vectorian.alignment import WordRotatorsDistance\n",
    "\n",
    "wrd_metric = AlignmentSentenceMetric(\n",
    "    word_metric=TokenSimilarityMetric(fasttext, CosineMetric()),\n",
    "    alignment=WordRotatorsDistance())\n",
    "index = session.partition(\"sentence\").index(wrd_metric, nlp)\n",
    "\n",
    "debug_data = []\n",
    "def debug_hook(args):\n",
    "    if args[\"hook\"] == \"sim_matrix\":\n",
    "        print(args[\"matrix\"].shape)\n",
    "    if args[\"hook\"] == \"alignment_wrd\":\n",
    "        data = args[\"data\"]\n",
    "        # numpy arrays might be mapped, copy them for later processing.\n",
    "        debug_data.append({\n",
    "            's': data['s'],\n",
    "            't': data['t'],\n",
    "            'mag_s': data['mag_s'].copy(),\n",
    "            'mag_t': data['mag_t'].copy(),\n",
    "            'D': data['D'].copy(),\n",
    "            'type': data['solution']['type'],\n",
    "            'G': data['solution']['G']})\n",
    "\n",
    "r = index.find(\"they were not alike as two peas\", n=5, min_score=0.1, debug=debug_hook)"
   ]
  },
  {
   "cell_type": "code",
   "execution_count": 32,
   "id": "interracial-ceramic",
   "metadata": {},
   "outputs": [
    {
     "data": {
      "text/html": [
       "\n",
       "<iframe\n",
       "\tid=\"vectorian-iframe-1615019261913719000\"\n",
       "\twidth=\"100%\"\n",
       "\theight=\"100%\"\n",
       "\tsrcdoc=\"&lt;!DOCTYPE html&gt;\n",
       "&lt;html&gt;\n",
       "\t&lt;head&gt;\n",
       "\t\t&lt;meta charset=&quot;utf-8&quot;&gt;\n",
       "\t\t&lt;meta name=&quot;viewport&quot; content=&quot;width=device-width, initial-scale=1&quot;&gt;\n",
       "\t\t&lt;title&gt;Vectorian&lt;/title&gt;\n",
       "\t\t&lt;link rel=&quot;stylesheet&quot; href=&quot;https://cdn.jsdelivr.net/npm/bulma@0.9.1/css/bulma.min.css&quot;&gt;\n",
       "\t&lt;/head&gt;\n",
       "\t&lt;body&gt;\n",
       "\t\t&lt;div class=&quot;container&quot; height=&quot;100%&quot;&gt;\n",
       "\t\t\t&lt;div class=&quot;section&quot;&gt;\n",
       "&lt;!DOCTYPE html&gt;&lt;article class=&quot;media&quot;&gt;&lt;div class=&quot;media-left&quot;&gt;&lt;p class=&quot;image is-64x64&quot;&gt;&lt;span class=&quot;buttons&quot;&gt;&lt;span class=&quot;has-text-weight-bold&quot;&gt;13.1%&lt;/span&gt;&lt;br /&gt;&lt;div&gt;&lt;/div&gt;&lt;/span&gt;&lt;/p&gt;&lt;/div&gt;&lt;div class=&quot;media-content&quot;&gt;&lt;div class=&quot;is-pulled-right&quot;&gt;&lt;small class=&quot;is-italic&quot;&gt;Wise Children, &lt;/small&gt;&lt;small&gt;par. 307&lt;/small&gt;&lt;/div&gt;&lt;div&gt;&lt;br /&gt;&lt;br /&gt;&lt;span&gt;&lt;span class=&quot;has-text-grey-light&quot;&gt;Now, although these two were twins, they were not alike as two peas. &lt;/span&gt;&lt;/span&gt;&lt;/div&gt;&lt;/div&gt;&lt;/article&gt;&lt;article class=&quot;media&quot;&gt;&lt;div class=&quot;media-left&quot;&gt;&lt;p class=&quot;image is-64x64&quot;&gt;&lt;span class=&quot;buttons&quot;&gt;&lt;span class=&quot;has-text-weight-bold&quot;&gt;12.8%&lt;/span&gt;&lt;br /&gt;&lt;div&gt;&lt;/div&gt;&lt;/span&gt;&lt;/p&gt;&lt;/div&gt;&lt;div class=&quot;media-content&quot;&gt;&lt;div class=&quot;is-pulled-right&quot;&gt;&lt;small class=&quot;is-italic&quot;&gt;Wise Children, &lt;/small&gt;&lt;small&gt;par. 219&lt;/small&gt;&lt;/div&gt;&lt;div&gt;&lt;br /&gt;&lt;br /&gt;&lt;span&gt;&lt;span class=&quot;has-text-grey-light&quot;&gt;Otherwise, like as two peas, as ever was. &lt;/span&gt;&lt;/span&gt;&lt;/div&gt;&lt;/div&gt;&lt;/article&gt;&lt;article class=&quot;media&quot;&gt;&lt;div class=&quot;media-left&quot;&gt;&lt;p class=&quot;image is-64x64&quot;&gt;&lt;span class=&quot;buttons&quot;&gt;&lt;span class=&quot;has-text-weight-bold&quot;&gt;11.6%&lt;/span&gt;&lt;br /&gt;&lt;div&gt;&lt;/div&gt;&lt;/span&gt;&lt;/p&gt;&lt;/div&gt;&lt;div class=&quot;media-content&quot;&gt;&lt;div class=&quot;is-pulled-right&quot;&gt;&lt;small class=&quot;is-italic&quot;&gt;Wise Children, &lt;/small&gt;&lt;small&gt;par. 308&lt;/small&gt;&lt;/div&gt;&lt;div&gt;&lt;br /&gt;&lt;br /&gt;&lt;span&gt;&lt;span class=&quot;has-text-grey-light&quot;&gt;Don’t think that, just because they were brothers, they liked one another. &lt;/span&gt;&lt;/span&gt;&lt;/div&gt;&lt;/div&gt;&lt;/article&gt;&lt;article class=&quot;media&quot;&gt;&lt;div class=&quot;media-left&quot;&gt;&lt;p class=&quot;image is-64x64&quot;&gt;&lt;span class=&quot;buttons&quot;&gt;&lt;span class=&quot;has-text-weight-bold&quot;&gt;11.5%&lt;/span&gt;&lt;br /&gt;&lt;div&gt;&lt;/div&gt;&lt;/span&gt;&lt;/p&gt;&lt;/div&gt;&lt;div class=&quot;media-content&quot;&gt;&lt;div class=&quot;is-pulled-right&quot;&gt;&lt;small class=&quot;is-italic&quot;&gt;Wise Children, &lt;/small&gt;&lt;small&gt;par. 287&lt;/small&gt;&lt;/div&gt;&lt;div&gt;&lt;br /&gt;&lt;br /&gt;&lt;span&gt;&lt;span class=&quot;has-text-grey-light&quot;&gt;Note how I call them both ‘our fathers’, as if we had the two and, in a sense, so we did. &lt;/span&gt;&lt;/span&gt;&lt;/div&gt;&lt;/div&gt;&lt;/article&gt;&lt;article class=&quot;media&quot;&gt;&lt;div class=&quot;media-left&quot;&gt;&lt;p class=&quot;image is-64x64&quot;&gt;&lt;span class=&quot;buttons&quot;&gt;&lt;span class=&quot;has-text-weight-bold&quot;&gt;11.4%&lt;/span&gt;&lt;br /&gt;&lt;div&gt;&lt;/div&gt;&lt;/span&gt;&lt;/p&gt;&lt;/div&gt;&lt;div class=&quot;media-content&quot;&gt;&lt;div class=&quot;is-pulled-right&quot;&gt;&lt;small class=&quot;is-italic&quot;&gt;Wise Children, &lt;/small&gt;&lt;small&gt;par. 217&lt;/small&gt;&lt;/div&gt;&lt;div&gt;&lt;br /&gt;&lt;br /&gt;&lt;span&gt;&lt;span class=&quot;has-text-grey-light&quot;&gt;We are his natural daughters, as they say, as if only unmarried couples do it the way that nature intended. &lt;/span&gt;&lt;/span&gt;&lt;/div&gt;&lt;/div&gt;&lt;/article&gt;\n",
       "\t\t\t&lt;/div&gt;\n",
       "\t\t&lt;/div&gt;\n",
       "\t&lt;/body&gt;\n",
       "&lt;/html&gt;\"\n",
       "\tframeborder=\"0\"\n",
       "\tallowfullscreen\n",
       "></iframe>\n",
       "<script>\n",
       "\tvar f = document.getElementById(\"vectorian-iframe-1615019261913719000\");\n",
       "\tf.onload = function() {\n",
       "\t\tf.height = f.contentWindow.document.body.scrollHeight + \"px\";\n",
       "\t};\n",
       "</script>\n",
       "\t\t"
      ],
      "text/plain": [
       "<vectorian.session.LabResult at 0x7ff1b8c11ac0>"
      ]
     },
     "execution_count": 32,
     "metadata": {},
     "output_type": "execute_result"
    }
   ],
   "source": [
    "r"
   ]
  },
  {
   "cell_type": "code",
   "execution_count": null,
   "id": "rocky-detective",
   "metadata": {},
   "outputs": [],
   "source": [
    "with open(\"/Users/arbeit/Desktop/debug.txt\", \"w\") as f:\n",
    "    def write_table(name, data):\n",
    "        f.write(\"\\n\")\n",
    "        f.write(name + \":\\n\")\n",
    "        table = [[\"\"] + x[\"t\"][\"text\"]]\n",
    "        for i in range(len(x[\"s\"][\"text\"])):\n",
    "            row = [x[\"s\"][\"text\"][i]]\n",
    "            for j in range(len(x[\"t\"][\"text\"])):\n",
    "                row.append(\"%.2f\" % data[i, j])\n",
    "            table.append(row)\n",
    "        f.write(tabulate.tabulate(table) + \"\\n\")\n",
    "\n",
    "    def write_vec(name, tokens, values):\n",
    "        f.write(\"\\n\")\n",
    "        f.write(name + \":\\n\")\n",
    "        table = []\n",
    "        for t, x in zip(tokens[\"text\"], values):\n",
    "            table.append([t, x])\n",
    "        f.write(tabulate.tabulate(table) + \"\\n\")\n",
    "\n",
    "    for x in debug_data:\n",
    "        f.write(\"# \" + x[\"type\"] + \"\\n\")\n",
    "        f.write(\"s: \" + \" \".join(x[\"s\"][\"text\"]) + \" \" + str(x[\"s\"][\"id\"]) + \" (\" + str(len(x[\"s\"][\"text\"])) + \")\\n\")\n",
    "        f.write(\"t: \" + \" \".join(x[\"t\"][\"text\"]) + \" \" + str(x[\"t\"][\"id\"]) + \" (\" + str(len(x[\"t\"][\"text\"])) + \")\\n\")\n",
    "        write_vec(\"mag_s\", x[\"s\"], x[\"mag_s\"])\n",
    "        write_vec(\"mag_t\", x[\"t\"], x[\"mag_t\"])\n",
    "        write_table(\"D\", x[\"D\"])\n",
    "        write_table(\"G\", x[\"G\"])\n",
    "        f.write(\"\\n\\n\")"
   ]
  },
  {
   "cell_type": "code",
   "execution_count": null,
   "id": "difficult-breathing",
   "metadata": {},
   "outputs": [],
   "source": []
  },
  {
   "cell_type": "code",
   "execution_count": null,
   "id": "metropolitan-replica",
   "metadata": {},
   "outputs": [],
   "source": []
  },
  {
   "cell_type": "code",
   "execution_count": 8,
   "id": "brave-hometown",
   "metadata": {},
   "outputs": [
    {
     "data": {
      "text/plain": [
       "{'book': -1,\n",
       " 'chapter': -1,\n",
       " 'speaker': -1,\n",
       " 'paragraph': 5,\n",
       " 'token_at': 25,\n",
       " 'n_tokens': 83}"
      ]
     },
     "execution_count": 8,
     "metadata": {},
     "output_type": "execute_result"
    }
   ],
   "source": [
    "r[0].document.sentence(r[0].sentence)"
   ]
  },
  {
   "cell_type": "code",
   "execution_count": 9,
   "id": "exposed-freedom",
   "metadata": {},
   "outputs": [
    {
     "data": {
      "text/plain": [
       "'THERE was once a child, and he strolled about a good deal, and thought of a number of things. He had a sister, who was a child too, and his constant companion. These two used to wonder all day long. They wondered at the beauty of the flowers; they wondered at the height and blueness of the sky; they wondered at the depth of the bright water; they wondered at the goodness and the power of God, who made the lovely world.\\n\\n'"
      ]
     },
     "execution_count": 9,
     "metadata": {},
     "output_type": "execute_result"
    }
   ],
   "source": [
    "start = r[0].document.tokens[\"idx\"][25]\n",
    "end = r[0].document.tokens[\"idx\"][25 + 83]\n",
    "r[0].document.substr(start, end)"
   ]
  },
  {
   "cell_type": "code",
   "execution_count": 6,
   "id": "static-cabinet",
   "metadata": {},
   "outputs": [],
   "source": [
    "from vectorian.embeddings import Glove\n",
    "glove = Glove()\n",
    "\n",
    "session = LabSession(\n",
    "    [doc],\n",
    "    [fasttext, glove])"
   ]
  },
  {
   "cell_type": "code",
   "execution_count": null,
   "id": "advanced-junior",
   "metadata": {},
   "outputs": [],
   "source": []
  },
  {
   "cell_type": "code",
   "execution_count": 7,
   "id": "proved-armor",
   "metadata": {},
   "outputs": [
    {
     "data": {
      "application/vnd.jupyter.widget-view+json": {
       "model_id": "",
       "version_major": 2,
       "version_minor": 0
      },
      "text/plain": [
       "FloatProgress(value=0.0, layout=Layout(width='100%'), max=1.0)"
      ]
     },
     "metadata": {},
     "output_type": "display_data"
    }
   ],
   "source": [
    "from vectorian.metrics import CosineMetric, LerpMetric, PNormMetric\n",
    "\n",
    "query = nlp(\"play\")\n",
    "\n",
    "#r = session.find(query, n=3, metric=PNormMetric(fasttext, p=2, scale=0.1))\n",
    "r = session.find(query, n=3)\n",
    "\n",
    "#r = session.find(query, n=3, metric=LerpMetric(\n",
    "#    CosineMetric(fasttext),\n",
    "#    CosineMetric(glove),\n",
    "#    0.8))"
   ]
  },
  {
   "cell_type": "code",
   "execution_count": 10,
   "id": "transparent-hazard",
   "metadata": {},
   "outputs": [
    {
     "data": {
      "text/plain": [
       "0.024589061737060547"
      ]
     },
     "execution_count": 10,
     "metadata": {},
     "output_type": "execute_result"
    }
   ],
   "source": [
    "r.duration"
   ]
  },
  {
   "cell_type": "code",
   "execution_count": 11,
   "id": "nasty-profit",
   "metadata": {},
   "outputs": [
    {
     "data": {
      "text/html": [
       "\n",
       "\t\t        <iframe\n",
       "\t\t        \tid=\"vectorian-iframe-1613910549881285000\"\n",
       "\t\t            width=\"100%\"\n",
       "\t\t            height=\"100%\"\n",
       "\t\t            srcdoc=\"&lt;!DOCTYPE html&gt;\n",
       "&lt;html&gt;\n",
       "\t&lt;head&gt;\n",
       "\t\t&lt;meta charset=&quot;utf-8&quot;&gt;\n",
       "\t\t&lt;meta name=&quot;viewport&quot; content=&quot;width=device-width, initial-scale=1&quot;&gt;\n",
       "\t\t&lt;title&gt;Vectorian&lt;/title&gt;\n",
       "\t\t&lt;link rel=&quot;stylesheet&quot; href=&quot;https://cdn.jsdelivr.net/npm/bulma@0.9.1/css/bulma.min.css&quot;&gt;\n",
       "\t&lt;/head&gt;\n",
       "\t&lt;body&gt;\n",
       "\t\t&lt;div class=&quot;container&quot; height=&quot;100%&quot;&gt;\n",
       "\t\t\t&lt;div class=&quot;section&quot;&gt;\n",
       "&lt;!DOCTYPE html&gt;&lt;article class=&quot;media&quot;&gt;&lt;div class=&quot;media-left&quot;&gt;&lt;p class=&quot;image is-64x64&quot;&gt;&lt;span class=&quot;buttons&quot;&gt;&lt;span class=&quot;has-text-weight-bold&quot;&gt;85.6%&lt;/span&gt;&lt;br /&gt;&lt;div&gt;&lt;/div&gt;&lt;/span&gt;&lt;/p&gt;&lt;/div&gt;&lt;div class=&quot;media-content&quot;&gt;&lt;span style=&quot;font-variant: small-caps;&quot;&gt;&lt;/span&gt;&lt;div class=&quot;is-pulled-right&quot;&gt;&lt;small&gt;Anonymous, &lt;/small&gt;&lt;small class=&quot;is-italic&quot;&gt;A Child&#x27;s Dream of a Star, &lt;/small&gt;&lt;small&gt;par. 8&lt;/small&gt;&lt;/div&gt;&lt;div&gt;&lt;br /&gt;&lt;br /&gt;&lt;span&gt;&lt;span class=&quot;has-text-grey-light&quot;&gt;the children of the water; and the smallest bright specks &lt;/span&gt; &lt;span&gt;&lt;span style=&quot;display:inline-table;&quot;&gt;&lt;span style=&quot;display:table-row;&quot;&gt;&lt;span style=&quot;display:table-cell;&quot;&gt;&lt;span class=&quot;has-text-black has-text-weight-bold&quot;&gt;playing&lt;/span&gt;&lt;/span&gt; &lt;span style=&quot;display:table-cell;&quot;&gt;&lt;span class=&quot;tag is-light&quot;&gt;play&lt;/span&gt;&lt;/span&gt; &lt;span style=&quot;display:table-cell; opacity:1.0;&quot;&gt;&lt;span class=&quot;tag is-success&quot;&gt;85%&lt;/span&gt;&lt;/span&gt;&lt;/span&gt;&lt;/span&gt;&lt;/span&gt; &lt;span class=&quot;has-text-grey-light&quot;&gt;at hide-and-seek in the sky all night must &lt;/span&gt;&lt;/span&gt;&lt;/div&gt;&lt;/div&gt;&lt;/article&gt;&lt;article class=&quot;media&quot;&gt;&lt;div class=&quot;media-left&quot;&gt;&lt;p class=&quot;image is-64x64&quot;&gt;&lt;span class=&quot;buttons&quot;&gt;&lt;span class=&quot;has-text-weight-bold&quot;&gt;79.4%&lt;/span&gt;&lt;br /&gt;&lt;div&gt;&lt;/div&gt;&lt;/span&gt;&lt;/p&gt;&lt;/div&gt;&lt;div class=&quot;media-content&quot;&gt;&lt;span style=&quot;font-variant: small-caps;&quot;&gt;&lt;/span&gt;&lt;div class=&quot;is-pulled-right&quot;&gt;&lt;small&gt;Anonymous, &lt;/small&gt;&lt;small class=&quot;is-italic&quot;&gt;A Child&#x27;s Dream of a Star, &lt;/small&gt;&lt;small&gt;par. 8&lt;/small&gt;&lt;/div&gt;&lt;div&gt;&lt;br /&gt;&lt;br /&gt;&lt;span&gt;&lt;span class=&quot;has-text-grey-light&quot;&gt;the children of the water; and the smallest bright specks &lt;/span&gt; &lt;span&gt;&lt;span style=&quot;display:inline-table;&quot;&gt;&lt;span style=&quot;display:table-row;&quot;&gt;&lt;span style=&quot;display:table-cell;&quot;&gt;&lt;span class=&quot;has-text-black has-text-weight-bold&quot;&gt;playing&lt;/span&gt;&lt;/span&gt; &lt;span style=&quot;display:table-cell;&quot;&gt;&lt;span class=&quot;tag is-light&quot;&gt;play&lt;/span&gt;&lt;/span&gt; &lt;span style=&quot;display:table-cell; opacity:1.0;&quot;&gt;&lt;span class=&quot;tag is-success&quot;&gt;79%&lt;/span&gt;&lt;/span&gt;&lt;/span&gt;&lt;/span&gt;&lt;/span&gt; &lt;span class=&quot;has-text-grey-light&quot;&gt;at hide-and-seek in the sky all night must &lt;/span&gt;&lt;/span&gt;&lt;/div&gt;&lt;/div&gt;&lt;/article&gt;&lt;article class=&quot;media&quot;&gt;&lt;div class=&quot;media-left&quot;&gt;&lt;p class=&quot;image is-64x64&quot;&gt;&lt;span class=&quot;buttons&quot;&gt;&lt;span class=&quot;has-text-weight-bold&quot;&gt;60.4%&lt;/span&gt;&lt;br /&gt;&lt;div&gt;&lt;/div&gt;&lt;/span&gt;&lt;/p&gt;&lt;/div&gt;&lt;div class=&quot;media-content&quot;&gt;&lt;span style=&quot;font-variant: small-caps;&quot;&gt;&lt;/span&gt;&lt;div class=&quot;is-pulled-right&quot;&gt;&lt;small&gt;Anonymous, &lt;/small&gt;&lt;small class=&quot;is-italic&quot;&gt;A Child&#x27;s Dream of a Star, &lt;/small&gt;&lt;small&gt;par. 20&lt;/small&gt;&lt;/div&gt;&lt;div&gt;&lt;br /&gt;&lt;br /&gt;&lt;span&gt;&lt;span class=&quot;has-text-grey-light&quot;&gt;joy.\n",
       "\n",
       "But there were many angels who did not &lt;/span&gt; &lt;span&gt;&lt;span style=&quot;display:inline-table;&quot;&gt;&lt;span style=&quot;display:table-row;&quot;&gt;&lt;span style=&quot;display:table-cell;&quot;&gt;&lt;span class=&quot;has-text-black has-text-weight-bold&quot;&gt;go&lt;/span&gt;&lt;/span&gt; &lt;span style=&quot;display:table-cell;&quot;&gt;&lt;span class=&quot;tag is-light&quot;&gt;play&lt;/span&gt;&lt;/span&gt; &lt;span style=&quot;display:table-cell; opacity:1.0;&quot;&gt;&lt;span class=&quot;tag is-warning&quot;&gt;60%&lt;/span&gt;&lt;/span&gt;&lt;/span&gt;&lt;/span&gt;&lt;/span&gt; &lt;span class=&quot;has-text-grey-light&quot;&gt;with them, and among them one he knew. The patient &lt;/span&gt;&lt;/span&gt;&lt;/div&gt;&lt;/div&gt;&lt;/article&gt;\n",
       "\t\t\t&lt;/div&gt;\n",
       "\t\t&lt;/div&gt;\n",
       "\t&lt;/body&gt;\n",
       "&lt;/html&gt;\"\n",
       "\t\t            frameborder=\"0\"\n",
       "\t\t            allowfullscreen\n",
       "\t\t        ></iframe>\n",
       "\t\t        <script>\n",
       "\t\t        \tvar f = document.getElementById(\"vectorian-iframe-1613910549881285000\");\n",
       "\t\t        \tf.onload = function() {\n",
       "\t\t\t        \tf.height = f.contentWindow.document.body.scrollHeight + \"px\";\n",
       "\t\t\t        };\n",
       "\t\t        </script>\n",
       "\t\t"
      ],
      "text/plain": [
       "<vectorian.session.LabResult at 0x7fa87fc72460>"
      ]
     },
     "execution_count": 11,
     "metadata": {},
     "output_type": "execute_result"
    }
   ],
   "source": [
    "r"
   ]
  },
  {
   "cell_type": "code",
   "execution_count": 6,
   "id": "foster-bulletin",
   "metadata": {},
   "outputs": [
    {
     "name": "stderr",
     "output_type": "stream",
     "text": [
      "100%|██████████| 58/58 [00:00<00:00, 114.64it/s]\n"
     ]
    }
   ],
   "source": [
    "session = LabSession(\n",
    "    [doc],\n",
    "    [glove])"
   ]
  },
  {
   "cell_type": "code",
   "execution_count": 11,
   "id": "fluid-tobacco",
   "metadata": {},
   "outputs": [
    {
     "data": {
      "application/vnd.jupyter.widget-view+json": {
       "model_id": "",
       "version_major": 2,
       "version_minor": 0
      },
      "text/plain": [
       "FloatProgress(value=0.0, layout=Layout(width='100%'), max=1.0)"
      ]
     },
     "metadata": {},
     "output_type": "display_data"
    },
    {
     "data": {
      "text/html": [
       "\n",
       "\t\t        <iframe\n",
       "\t\t        \tid=\"vectorian-iframe-1613558883447023000\"\n",
       "\t\t            width=\"100%\"\n",
       "\t\t            height=\"100%\"\n",
       "\t\t            srcdoc=\"&lt;!DOCTYPE html&gt;\n",
       "&lt;html&gt;\n",
       "\t&lt;head&gt;\n",
       "\t\t&lt;meta charset=&quot;utf-8&quot;&gt;\n",
       "\t\t&lt;meta name=&quot;viewport&quot; content=&quot;width=device-width, initial-scale=1&quot;&gt;\n",
       "\t\t&lt;title&gt;Vectorian&lt;/title&gt;\n",
       "\t\t&lt;link rel=&quot;stylesheet&quot; href=&quot;https://cdn.jsdelivr.net/npm/bulma@0.9.1/css/bulma.min.css&quot;&gt;\n",
       "\t&lt;/head&gt;\n",
       "\t&lt;body&gt;\n",
       "\t\t&lt;div class=&quot;container&quot; height=&quot;100%&quot;&gt;\n",
       "\t\t\t&lt;div class=&quot;section&quot;&gt;\n",
       "&lt;!DOCTYPE html&gt;&lt;media&gt;&lt;mediaLeft&gt;&lt;p class=&quot;image is-64x64&quot;&gt;&lt;span class=&quot;buttons&quot;&gt;&lt;span class=&quot;has-text-weight-bold&quot;&gt;100.0%&lt;/span&gt;&lt;br /&gt;&lt;div&gt;&lt;/div&gt;&lt;/span&gt;&lt;/p&gt;&lt;/mediaLeft&gt;&lt;mediaContent&gt;&lt;span style=&quot;font-variant: small-caps;&quot;&gt;&lt;/span&gt;&lt;div class=&quot;is-pulled-right&quot;&gt;&lt;small&gt;Anonymous, &lt;/small&gt;&lt;small class=&quot;is-italic&quot;&gt;A Child&#x27;s Dream of a Star, &lt;/small&gt;&lt;small&gt;par. 4&lt;/small&gt;&lt;/div&gt;&lt;div&gt;&lt;br /&gt;&lt;br /&gt;&lt;span&gt;&lt;span class=&quot;has-text-grey-light&quot;&gt;\n",
       "\n",
       "A CHILD’S DREAM OF A STAR.\n",
       "\n",
       "\n",
       "&lt;/span&gt; &lt;span&gt;&lt;span style=&quot;display:inline-table;&quot;&gt;&lt;span style=&quot;display:table-row;&quot;&gt;&lt;span style=&quot;display:table-cell;&quot;&gt;&lt;span class=&quot;has-text-black has-text-weight-bold&quot;&gt;Short&lt;/span&gt;&lt;/span&gt; &lt;span style=&quot;display:table-cell;&quot;&gt;&lt;span class=&quot;has-text-grey-light&quot;&gt;short&lt;/span&gt;&lt;/span&gt; &lt;span style=&quot;display:table-cell; opacity:1.0;&quot;&gt;&lt;span class=&quot;tag is-success&quot;&gt;100%&lt;/span&gt;&lt;/span&gt;&lt;/span&gt;&lt;/span&gt;&lt;/span&gt; &lt;span class=&quot;has-text-grey-light&quot;&gt;Stories Table of Contents.\n",
       "\n",
       "THERE was once a child, &lt;/span&gt;&lt;/span&gt;&lt;/div&gt;&lt;/mediaContent&gt;&lt;/media&gt;&lt;media&gt;&lt;mediaLeft&gt;&lt;p class=&quot;image is-64x64&quot;&gt;&lt;span class=&quot;buttons&quot;&gt;&lt;span class=&quot;has-text-weight-bold&quot;&gt;67.0%&lt;/span&gt;&lt;br /&gt;&lt;div&gt;&lt;/div&gt;&lt;/span&gt;&lt;/p&gt;&lt;/mediaLeft&gt;&lt;mediaContent&gt;&lt;span style=&quot;font-variant: small-caps;&quot;&gt;&lt;/span&gt;&lt;div class=&quot;is-pulled-right&quot;&gt;&lt;small&gt;Anonymous, &lt;/small&gt;&lt;small class=&quot;is-italic&quot;&gt;A Child&#x27;s Dream of a Star, &lt;/small&gt;&lt;small&gt;par. 19&lt;/small&gt;&lt;/div&gt;&lt;div&gt;&lt;br /&gt;&lt;br /&gt;&lt;span&gt;&lt;span class=&quot;has-text-grey-light&quot;&gt;up into the star; and some came out from the &lt;/span&gt; &lt;span&gt;&lt;span style=&quot;display:inline-table;&quot;&gt;&lt;span style=&quot;display:table-row;&quot;&gt;&lt;span style=&quot;display:table-cell;&quot;&gt;&lt;span class=&quot;has-text-black has-text-weight-bold&quot;&gt;long&lt;/span&gt;&lt;/span&gt; &lt;span style=&quot;display:table-cell;&quot;&gt;&lt;span class=&quot;has-text-grey-light&quot;&gt;short&lt;/span&gt;&lt;/span&gt; &lt;span style=&quot;display:table-cell; opacity:1.0;&quot;&gt;&lt;span class=&quot;tag is-warning&quot;&gt;67%&lt;/span&gt;&lt;/span&gt;&lt;/span&gt;&lt;/span&gt;&lt;/span&gt; &lt;span class=&quot;has-text-grey-light&quot;&gt;rows in which they stood, and fell upon the people&lt;/span&gt;&lt;/span&gt;&lt;/div&gt;&lt;/mediaContent&gt;&lt;/media&gt;&lt;media&gt;&lt;mediaLeft&gt;&lt;p class=&quot;image is-64x64&quot;&gt;&lt;span class=&quot;buttons&quot;&gt;&lt;span class=&quot;has-text-weight-bold&quot;&gt;67.0%&lt;/span&gt;&lt;br /&gt;&lt;div&gt;&lt;/div&gt;&lt;/span&gt;&lt;/p&gt;&lt;/mediaLeft&gt;&lt;mediaContent&gt;&lt;span style=&quot;font-variant: small-caps;&quot;&gt;&lt;/span&gt;&lt;div class=&quot;is-pulled-right&quot;&gt;&lt;small&gt;Anonymous, &lt;/small&gt;&lt;small class=&quot;is-italic&quot;&gt;A Child&#x27;s Dream of a Star, &lt;/small&gt;&lt;small&gt;par. 15&lt;/small&gt;&lt;/div&gt;&lt;div&gt;&lt;br /&gt;&lt;br /&gt;&lt;span&gt;&lt;span class=&quot;has-text-grey-light&quot;&gt;among the graves, not there before; and when the star made &lt;/span&gt; &lt;span&gt;&lt;span style=&quot;display:inline-table;&quot;&gt;&lt;span style=&quot;display:table-row;&quot;&gt;&lt;span style=&quot;display:table-cell;&quot;&gt;&lt;span class=&quot;has-text-black has-text-weight-bold&quot;&gt;long&lt;/span&gt;&lt;/span&gt; &lt;span style=&quot;display:table-cell;&quot;&gt;&lt;span class=&quot;has-text-grey-light&quot;&gt;short&lt;/span&gt;&lt;/span&gt; &lt;span style=&quot;display:table-cell; opacity:1.0;&quot;&gt;&lt;span class=&quot;tag is-warning&quot;&gt;67%&lt;/span&gt;&lt;/span&gt;&lt;/span&gt;&lt;/span&gt;&lt;/span&gt; &lt;span class=&quot;has-text-grey-light&quot;&gt;rays down towards him, as he saw it through his &lt;/span&gt;&lt;/span&gt;&lt;/div&gt;&lt;/mediaContent&gt;&lt;/media&gt;&lt;media&gt;&lt;mediaLeft&gt;&lt;p class=&quot;image is-64x64&quot;&gt;&lt;span class=&quot;buttons&quot;&gt;&lt;span class=&quot;has-text-weight-bold&quot;&gt;67.0%&lt;/span&gt;&lt;br /&gt;&lt;div&gt;&lt;/div&gt;&lt;/span&gt;&lt;/p&gt;&lt;/mediaLeft&gt;&lt;mediaContent&gt;&lt;span style=&quot;font-variant: small-caps;&quot;&gt;&lt;/span&gt;&lt;div class=&quot;is-pulled-right&quot;&gt;&lt;small&gt;Anonymous, &lt;/small&gt;&lt;small class=&quot;is-italic&quot;&gt;A Child&#x27;s Dream of a Star, &lt;/small&gt;&lt;small&gt;par. 25&lt;/small&gt;&lt;/div&gt;&lt;div&gt;&lt;br /&gt;&lt;br /&gt;&lt;span&gt;&lt;span class=&quot;has-text-grey-light&quot;&gt;night; and the star was shining into the room, making &lt;/span&gt; &lt;span&gt;&lt;span style=&quot;display:inline-table;&quot;&gt;&lt;span style=&quot;display:table-row;&quot;&gt;&lt;span style=&quot;display:table-cell;&quot;&gt;&lt;span class=&quot;has-text-black has-text-weight-bold&quot;&gt;long&lt;/span&gt;&lt;/span&gt; &lt;span style=&quot;display:table-cell;&quot;&gt;&lt;span class=&quot;has-text-grey-light&quot;&gt;short&lt;/span&gt;&lt;/span&gt; &lt;span style=&quot;display:table-cell; opacity:1.0;&quot;&gt;&lt;span class=&quot;tag is-warning&quot;&gt;67%&lt;/span&gt;&lt;/span&gt;&lt;/span&gt;&lt;/span&gt;&lt;/span&gt; &lt;span class=&quot;has-text-grey-light&quot;&gt;rays down towards him as he saw it through his &lt;/span&gt;&lt;/span&gt;&lt;/div&gt;&lt;/mediaContent&gt;&lt;/media&gt;\n",
       "\t\t\t&lt;/div&gt;\n",
       "\t\t&lt;/div&gt;\n",
       "\t&lt;/body&gt;\n",
       "&lt;/html&gt;\"\n",
       "\t\t            frameborder=\"0\"\n",
       "\t\t            allowfullscreen\n",
       "\t\t        ></iframe>\n",
       "\t\t        <script>\n",
       "\t\t        \tvar f = document.getElementById(\"vectorian-iframe-1613558883447023000\");\n",
       "\t\t        \tf.onload = function() {\n",
       "\t\t\t        \tf.height = f.contentWindow.document.body.scrollHeight + \"px\";\n",
       "\t\t\t        };\n",
       "\t\t        </script>\n",
       "\t\t"
      ],
      "text/plain": [
       "<vectorian.session.LabResult at 0x7f860b43af70>"
      ]
     },
     "execution_count": 11,
     "metadata": {},
     "output_type": "execute_result"
    }
   ],
   "source": [
    "query = nlp(\"short\")\n",
    "r = session.find(query, n=3)\n",
    "r"
   ]
  },
  {
   "cell_type": "code",
   "execution_count": null,
   "id": "greatest-backing",
   "metadata": {},
   "outputs": [],
   "source": []
  },
  {
   "cell_type": "code",
   "execution_count": 1,
   "id": "commercial-coordinator",
   "metadata": {},
   "outputs": [
    {
     "data": {
      "image/png": "[encoded data removed]",
      "text/plain": [
       "<Figure size 864x216 with 1 Axes>"
      ]
     },
     "metadata": {
      "needs_background": "light"
     },
     "output_type": "display_data"
    }
   ],
   "source": [
    "from vectorian.alignment import LinearGapCost, WatermanSmithBeyer\n",
    "\n",
    "LinearGapCost(0.2)"
   ]
  },
  {
   "cell_type": "code",
   "execution_count": 3,
   "id": "chinese-cache",
   "metadata": {},
   "outputs": [
    {
     "data": {
      "text/plain": [
       "{'algorithm': 'wsb', 'gap': array([0.2], dtype=float32), 'zero': 0.5}"
      ]
     },
     "execution_count": 3,
     "metadata": {},
     "output_type": "execute_result"
    }
   ],
   "source": [
    "#session.exponential_gap_costs(5)  # , 20)session.max_sentence_len\n",
    "\n",
    "waterman_smith_beyer(gap=0.2, zero=0.5)"
   ]
  },
  {
   "cell_type": "code",
   "execution_count": 5,
   "id": "after-christmas",
   "metadata": {},
   "outputs": [
    {
     "data": {
      "text/plain": [
       "True"
      ]
     },
     "execution_count": 5,
     "metadata": {},
     "output_type": "execute_result"
    }
   ],
   "source": [
    "r = session.find(query, n=3, options={\n",
    "    'alignment': WatermanSmithBeyer(gap=LinearGapCost(0.2), zero=0.5)\n",
    "})"
   ]
  },
  {
   "cell_type": "code",
   "execution_count": 3,
   "id": "subtle-papua",
   "metadata": {},
   "outputs": [
    {
     "data": {
      "text/plain": [
       "PosixPath('/Users/arbeit/Projects/vectorian-2021')"
      ]
     },
     "execution_count": 3,
     "metadata": {},
     "output_type": "execute_result"
    }
   ],
   "source": [
    "current_path"
   ]
  },
  {
   "cell_type": "markdown",
   "id": "blank-irrigation",
   "metadata": {},
   "source": [
    "# Query Details Example"
   ]
  },
  {
   "cell_type": "code",
   "execution_count": 12,
   "id": "collect-statement",
   "metadata": {},
   "outputs": [
    {
     "data": {
      "text/plain": [
       "'play'"
      ]
     },
     "execution_count": 12,
     "metadata": {},
     "output_type": "execute_result"
    }
   ],
   "source": [
    "r[0].query.text"
   ]
  },
  {
   "cell_type": "code",
   "execution_count": 13,
   "id": "solved-garlic",
   "metadata": {},
   "outputs": [
    {
     "data": {
      "text/plain": [
       "6457"
      ]
     },
     "execution_count": 13,
     "metadata": {},
     "output_type": "execute_result"
    }
   ],
   "source": [
    "len(r[0].document.text)"
   ]
  },
  {
   "cell_type": "code",
   "execution_count": 14,
   "id": "dynamic-ordering",
   "metadata": {},
   "outputs": [
    {
     "data": {
      "text/plain": [
       "{'id': array([ 0,  1,  2, ...,  6,  6, -1], dtype=int32),\n",
       " 'idx': array([   0,    2,    7, ..., 6568, 6570, 6571], dtype=int32),\n",
       " 'len': array([1, 5, 4, ..., 2, 1, 0], dtype=int8),\n",
       " 'pos': array([ 0,  1,  1, ...,  3,  3, -1], dtype=int8),\n",
       " 'tag': array([ 0,  1,  1, ...,  3,  3, -1], dtype=int8)}"
      ]
     },
     "execution_count": 14,
     "metadata": {},
     "output_type": "execute_result"
    }
   ],
   "source": [
    "r[0].document.tokens"
   ]
  },
  {
   "cell_type": "code",
   "execution_count": 16,
   "id": "green-sender",
   "metadata": {},
   "outputs": [
    {
     "data": {
      "text/plain": [
       "{'idx': array([66], dtype=int16),\n",
       " 'sim': array([0.7944386], dtype=float32),\n",
       " 'w': array([1.], dtype=float32)}"
      ]
     },
     "execution_count": 16,
     "metadata": {},
     "output_type": "execute_result"
    }
   ],
   "source": [
    "r[0].assignment"
   ]
  },
  {
   "cell_type": "code",
   "execution_count": 17,
   "id": "developed-wallpaper",
   "metadata": {},
   "outputs": [
    {
     "data": {
      "text/plain": [
       "{'book': -1,\n",
       " 'chapter': -1,\n",
       " 'speaker': -1,\n",
       " 'paragraph': 8,\n",
       " 'token_at': 110,\n",
       " 'n_tokens': 101}"
      ]
     },
     "execution_count": 17,
     "metadata": {},
     "output_type": "execute_result"
    }
   ],
   "source": [
    "sent = r[0].document.sentence(r[0].sentence)\n",
    "sent"
   ]
  },
  {
   "cell_type": "code",
   "execution_count": null,
   "id": "dependent-regression",
   "metadata": {},
   "outputs": [],
   "source": []
  },
  {
   "cell_type": "code",
   "execution_count": 20,
   "id": "patent-disclosure",
   "metadata": {},
   "outputs": [
    {
     "name": "stdout",
     "output_type": "stream",
     "text": [
      "match with:  playing\n",
      "sim:  0.7944386\n"
     ]
    }
   ],
   "source": [
    "index = r[0].assignment[\"idx\"][0] + sent[\"token_at\"]\n",
    "start = r[0].document.tokens[\"idx\"][index]\n",
    "end = start + r[0].document.tokens[\"len\"][index]\n",
    "print(\"match with: \", r[0].document.substr(start, end))\n",
    "print(\"sim: \", r[0].assignment[\"sim\"][0])"
   ]
  },
  {
   "cell_type": "code",
   "execution_count": 13,
   "id": "worldwide-jenny",
   "metadata": {},
   "outputs": [
    {
     "data": {
      "text/plain": [
       "<vectorian.corpus.document.Document at 0x7fe7c88ca040>"
      ]
     },
     "execution_count": 13,
     "metadata": {},
     "output_type": "execute_result"
    }
   ],
   "source": [
    "doc"
   ]
  },
  {
   "cell_type": "code",
   "execution_count": 8,
   "id": "arranged-completion",
   "metadata": {},
   "outputs": [],
   "source": [
    "doc.save(\"/Users/arbeit/Desktop/doc.json\")"
   ]
  },
  {
   "cell_type": "code",
   "execution_count": 12,
   "id": "tamil-novel",
   "metadata": {},
   "outputs": [
    {
     "name": "stdout",
     "output_type": "stream",
     "text": [
      "partition 1:\n",
      "  sentence 1:\n",
      "    A Child’s Dream Of A Star.\n",
      "  sentence 2:\n",
      "    \n",
      "\n",
      "\n",
      "partition 2:\n",
      "  sentence 1:\n",
      "    \n",
      "\n",
      "\n",
      "partition 3:\n",
      "  sentence 1:\n",
      "    \n",
      "\n",
      "\n",
      "partition 4:\n",
      "  sentence 1:\n",
      "    A CHILD’S DREAM OF A STAR.\n",
      "  sentence 2:\n",
      "    \n",
      "\n",
      "\n",
      "partition 5:\n",
      "  sentence 1:\n",
      "    \n",
      "Short Stories Table of Contents.\n",
      "  sentence 2:\n",
      "    \n",
      "\n",
      "\n",
      "partition 6:\n",
      "  sentence 1:\n",
      "    THERE was once a child, and he strolled about a good deal, and thought of a number of things.\n",
      "  sentence 2:\n",
      "    He had a sister, who was a child too, and his constant companion.\n",
      "  sentence 3:\n",
      "    These two used to wonder all day long.\n",
      "  sentence 4:\n",
      "    They wondered at the beauty of the flowers; they wondered at the height and blueness of the sky; they wondered at the depth of the bright water; they wondered at the goodness and the power of God, who made the lovely world.\n",
      "  sentence 5:\n",
      "    \n",
      "\n",
      "\n",
      "partition 7:\n",
      "  sentence 1:\n",
      "    \n",
      "\n",
      "\n",
      "partition 8:\n",
      "  sentence 1:\n",
      "    \n",
      "\n",
      "\n",
      "partition 9:\n",
      "  sentence 1:\n",
      "    They used to say to one another, sometimes,\n",
      "  sentence 2:\n",
      "    Supposing all the children upon earth were to die, would the flowers and the water and the sky be sorry?\n",
      "  sentence 3:\n",
      "    They believed they would be sorry.\n",
      "  sentence 4:\n",
      "    For, said they, the buds are the children of the flowers, and the little playful streams that gambol down the hillsides are the children of the water; and the smallest bright specks playing at hide-and-seek in the sky all night must surely be the children of the stars; and they would all be grieved to see their playmates, the children of men, no more.\n",
      "  sentence 5:\n",
      "    \n",
      "\n",
      "\n",
      "partition 10:\n",
      "  sentence 1:\n",
      "    There was one clear shining star that used to come out in the sky before the rest, near the church-spire, above the graves.\n",
      "  sentence 2:\n",
      "    It was larger and more beautiful, they thought, than all the others, and every night they watched for it, standing hand in hand at a window.\n",
      "  sentence 3:\n",
      "    Whoever saw it first cried out, “I see the star!”\n",
      "  sentence 4:\n",
      "    And often they cried out both together, knowing so well when it would rise and where.\n",
      "  sentence 5:\n",
      "    So they grew to be such friends with it, that, before lying down in their beds, they always looked out once again, to bid it good night; and when they were turning round to sleep, they used to say, “God bless the star!”\n",
      "  sentence 6:\n",
      "    \n",
      "\n",
      "\n",
      "partition 11:\n",
      "  sentence 1:\n",
      "    \n",
      "\n",
      "\n",
      "partition 12:\n",
      "  sentence 1:\n",
      "    \n",
      "\n",
      "\n",
      "partition 13:\n",
      "  sentence 1:\n",
      "    But while she was still very young, O, very, very young, the sister drooped, and came to be so weak that she could no longer stand in the window at night; and then the child looked sadly out by himself, and when he saw the star, turned round and said to the patient pale face on the bed, “I see the star!”\n",
      "  sentence 2:\n",
      "    And then a smile would come upon the face, and a little weak voice used to say, “God bless my brother and the star!”\n",
      "  sentence 3:\n",
      "    \n",
      "\n",
      "\n",
      "partition 14:\n",
      "  sentence 1:\n",
      "    \n",
      "\n",
      "\n",
      "partition 15:\n",
      "  sentence 1:\n",
      "    \n",
      "\n",
      "\n",
      "partition 16:\n",
      "  sentence 1:\n",
      "    And so the time came, all too soon!\n",
      "  sentence 2:\n",
      "    when the child looked out alone, and when there was no face on the bed; and when there was a little grave among the graves, not there before; and when the star made long rays down towards him, as he saw it through his tears.\n",
      "  sentence 3:\n",
      "    \n",
      "\n",
      "\n",
      "partition 17:\n",
      "  sentence 1:\n",
      "    Now, these rays were so bright, and they seemed to make such a shining way from earth to heaven, that when the child went to his solitary bed, he dreamed about the star; and dreamed that, lying where he was, he saw a train of people taken up that sparkling road by angels.\n",
      "  sentence 2:\n",
      "    And the star, opening, showed him a great world of light, where many more such angels waited to receive them.\n",
      "  sentence 3:\n",
      "    \n",
      "\n",
      "\n",
      "partition 18:\n",
      "  sentence 1:\n",
      "    \n",
      "\n",
      "\n",
      "partition 19:\n",
      "  sentence 1:\n",
      "    \n",
      "\n",
      "\n",
      "partition 20:\n",
      "  sentence 1:\n",
      "    All these angels, who were waiting, turned their beaming eyes upon the people who were carried up into the star; and some came out from the long rows in which they stood, and fell upon the people’s necks, and kissed them tenderly, and went away with them down avenues of light, and were so happy in their company, that, lying in his bed, he wept for joy.\n",
      "  sentence 2:\n",
      "    \n",
      "\n",
      "\n",
      "partition 21:\n",
      "  sentence 1:\n",
      "    But there were many angels who did not go with them, and among them one he knew.\n",
      "  sentence 2:\n",
      "    The patient face that once had lain upon the bed was glorified and radiant, but his heart found out his sister among all the host.\n",
      "  sentence 3:\n",
      "    \n",
      "\n",
      "\n",
      "partition 22:\n",
      "  sentence 1:\n",
      "    \n",
      "\n",
      "\n",
      "partition 23:\n",
      "  sentence 1:\n",
      "    \n",
      "\n",
      "\n",
      "partition 24:\n",
      "  sentence 1:\n",
      "    His sister’s angel lingered near the entrance of the star, and said to the leader among those who had brought the people thither, “Is my brother come?””\n",
      "  sentence 2:\n",
      "    \n",
      "\n",
      "\n",
      "partition 25:\n",
      "  sentence 1:\n",
      "    And he said, “No.”\n",
      "  sentence 2:\n",
      "    \n",
      "\n",
      "\n",
      "partition 26:\n",
      "  sentence 1:\n",
      "    She was turning hopefully away, when the child stretched out his arms, and cried, “O sister, I am here!\n",
      "  sentence 2:\n",
      "    Take me!”\n",
      "  sentence 3:\n",
      "    And then she turned her beaming eyes upon him, and it was night; and the star was shining into the room, making long rays down towards him as he saw it through his tears.\n",
      "  sentence 4:\n",
      "    \n",
      "\n",
      "\n",
      "partition 27:\n",
      "  sentence 1:\n",
      "    From that hour forth, the child looked out upon the star as on the home he was to go to, when his time should come; and he thought that he did not belong to the earth alone, but to the star too, because of his sister’s angel gone before.\n",
      "  sentence 2:\n",
      "    \n",
      "\n",
      "\n",
      "partition 28:\n",
      "  sentence 1:\n",
      "    \n",
      "\n",
      "\n",
      "partition 29:\n",
      "  sentence 1:\n",
      "    \n",
      "\n",
      "\n",
      "partition 30:\n",
      "  sentence 1:\n",
      "    There was a baby born to be a brother to the child; and while he was so little that he never yet had spoken word, he stretched his tiny form out on his bed, and died.\n",
      "  sentence 2:\n",
      "    \n",
      "\n",
      "\n",
      "partition 31:\n",
      "  sentence 1:\n",
      "    Again the child dreamed of the opened star, and of the company of angels, and the train of people, and the rows of angels with their beaming eyes all turned upon those people’s faces.\n",
      "  sentence 2:\n",
      "    \n",
      "\n",
      "\n",
      "partition 32:\n",
      "  sentence 1:\n",
      "    Said his sister’s angel to the leader, “Is my brother come?”\n",
      "  sentence 2:\n",
      "    \n",
      "\n",
      "\n",
      "partition 33:\n",
      "  sentence 1:\n",
      "    \n",
      "\n",
      "\n",
      "partition 34:\n",
      "  sentence 1:\n",
      "    \n",
      "\n",
      "\n",
      "partition 35:\n",
      "  sentence 1:\n",
      "    And he said, “Not that one, but another.”\n",
      "  sentence 2:\n",
      "    \n",
      "\n",
      "\n",
      "partition 36:\n",
      "  sentence 1:\n",
      "    As the child beheld his brother’s angel in her arms, he cried, “O sister, I am here!\n",
      "  sentence 2:\n",
      "    Take me!”\n",
      "  sentence 3:\n",
      "    And she turned and smiled upon him, and the star was shining.\n",
      "  sentence 4:\n",
      "    \n",
      "\n",
      "\n",
      "partition 37:\n",
      "  sentence 1:\n",
      "    He grew to be a young man, and was busy at his books when an old servant came to him and said, “Thy mother is no more.\n",
      "  sentence 2:\n",
      "    I bring her blessing on her darling son!”\n",
      "  sentence 3:\n",
      "    \n",
      "\n",
      "\n",
      "partition 38:\n",
      "  sentence 1:\n",
      "    Again at night he saw the star, and all that former company.\n",
      "  sentence 2:\n",
      "    Said his sister’s angel to the leader, “Is my brother come?”\n",
      "  sentence 3:\n",
      "    \n",
      "\n",
      "\n",
      "partition 39:\n",
      "  sentence 1:\n",
      "    And he said, “Thy mother!”\n",
      "  sentence 2:\n",
      "    \n",
      "\n",
      "\n",
      "partition 40:\n",
      "  sentence 1:\n",
      "    A mighty cry of joy went forth through all the star, because the mother was reunited to her two children.\n",
      "  sentence 2:\n",
      "    And he stretched out his arms and cried, “O mother, sister, and brother, I am here!\n",
      "  sentence 3:\n",
      "    Take me!”\n",
      "  sentence 4:\n",
      "    \n",
      "\n",
      "\n",
      "partition 41:\n",
      "  sentence 1:\n",
      "    \n",
      "\n",
      "\n",
      "partition 42:\n",
      "  sentence 1:\n",
      "    \n",
      "\n",
      "\n",
      "partition 43:\n",
      "  sentence 1:\n",
      "    And they answered him, “Not yet.”\n",
      "  sentence 2:\n",
      "    And the star was shining.\n",
      "  sentence 3:\n",
      "    \n",
      "\n",
      "\n",
      "partition 44:\n",
      "  sentence 1:\n",
      "    He grew to be a man, whose hair was turning gray; and he was sitting in his chair by the fireside, heavy with grief, and with his face bedewed with tears, when the star opened once again.\n",
      "  sentence 2:\n",
      "    \n",
      "\n",
      "\n",
      "partition 45:\n",
      "  sentence 1:\n",
      "    Said his sister’s angel to the leader, “Is my brother come?”\n",
      "  sentence 2:\n",
      "    \n",
      "\n",
      "\n",
      "partition 46:\n",
      "  sentence 1:\n",
      "    And he said, “Nay, but his maiden daughter.”\n",
      "  sentence 2:\n",
      "    \n",
      "\n",
      "\n",
      "partition 47:\n",
      "  sentence 1:\n",
      "    And the man who had been the child saw his daughter, newly lost to him, a celestial creature among those three, and he said, “My daughter’s head is on my sister’s bosom, and her arm is round my mother’s neck, and at her feet there is the baby of old time, and I can bear the parting from her, God be praised!””\n",
      "  sentence 2:\n",
      "    \n",
      "\n",
      "\n",
      "partition 48:\n",
      "  sentence 1:\n",
      "    \n",
      "\n",
      "\n",
      "partition 49:\n",
      "  sentence 1:\n",
      "    \n",
      "\n",
      "\n",
      "partition 50:\n",
      "  sentence 1:\n",
      "    And the star was shining.\n",
      "  sentence 2:\n",
      "    \n",
      "\n",
      "\n",
      "partition 51:\n",
      "  sentence 1:\n",
      "    Thus the child came to be an old man, and his once smooth face was wrinkled, and his steps were slow and feeble, and his back was bent.\n",
      "  sentence 2:\n",
      "    And one night as he lay upon his bed, his children standing round, he cried, as he had cried so long ago, “I see the star!”\n",
      "  sentence 3:\n",
      "    \n",
      "\n",
      "\n",
      "partition 52:\n",
      "  sentence 1:\n",
      "    They whispered one another, “He is dying.”\n",
      "  sentence 2:\n",
      "    \n",
      "\n",
      "\n",
      "partition 53:\n",
      "  sentence 1:\n",
      "    And he said, “I am.\n",
      "  sentence 2:\n",
      "    My age is falling from me like a garment, and I move towards the star as a child.\n",
      "  sentence 3:\n",
      "    And O my Father, now I thank thee that it has so often opened to receive those dear ones who await me!”\n",
      "  sentence 4:\n",
      "    \n",
      "\n",
      "\n",
      "partition 54:\n",
      "  sentence 1:\n",
      "    \n",
      "\n",
      "\n",
      "partition 55:\n",
      "  sentence 1:\n",
      "    \n",
      "\n",
      "\n",
      "partition 56:\n",
      "  sentence 1:\n",
      "    And the star was shining; and it shines upon his grave.\n",
      "  sentence 2:\n",
      "    \n",
      "\n",
      "\n",
      "partition 57:\n",
      "  sentence 1:\n",
      "    \n",
      "\n",
      "\n",
      "partition 58:\n",
      "  sentence 1:\n",
      "    \n",
      "\n"
     ]
    }
   ],
   "source": [
    "print(doc.structure)"
   ]
  },
  {
   "cell_type": "markdown",
   "id": "another-quilt",
   "metadata": {},
   "source": [
    "# Interactive GUI"
   ]
  },
  {
   "cell_type": "code",
   "execution_count": 11,
   "id": "hidden-concrete",
   "metadata": {},
   "outputs": [
    {
     "data": {
      "application/vnd.jupyter.widget-view+json": {
       "model_id": "",
       "version_major": 2,
       "version_minor": 0
      },
      "text/plain": [
       "FloatProgress(value=0.0, layout=Layout(width='100%'), max=1.0)"
      ]
     },
     "metadata": {},
     "output_type": "display_data"
    },
    {
     "data": {
      "text/html": [
       "\n",
       "\t\t        <iframe\n",
       "\t\t        \tid=\"vectorian-iframe-1614007334432271000\"\n",
       "\t\t            width=\"100%\"\n",
       "\t\t            height=\"100%\"\n",
       "\t\t            srcdoc=\"&lt;!DOCTYPE html&gt;\n",
       "&lt;html&gt;\n",
       "\t&lt;head&gt;\n",
       "\t\t&lt;meta charset=&quot;utf-8&quot;&gt;\n",
       "\t\t&lt;meta name=&quot;viewport&quot; content=&quot;width=device-width, initial-scale=1&quot;&gt;\n",
       "\t\t&lt;title&gt;Vectorian&lt;/title&gt;\n",
       "\t\t&lt;link rel=&quot;stylesheet&quot; href=&quot;https://cdn.jsdelivr.net/npm/bulma@0.9.1/css/bulma.min.css&quot;&gt;\n",
       "\t&lt;/head&gt;\n",
       "\t&lt;body&gt;\n",
       "\t\t&lt;div class=&quot;container&quot; height=&quot;100%&quot;&gt;\n",
       "\t\t\t&lt;div class=&quot;section&quot;&gt;\n",
       "&lt;!DOCTYPE html&gt;&lt;article class=&quot;media&quot;&gt;&lt;div class=&quot;media-left&quot;&gt;&lt;p class=&quot;image is-64x64&quot;&gt;&lt;span class=&quot;buttons&quot;&gt;&lt;span class=&quot;has-text-weight-bold&quot;&gt;73.6%&lt;/span&gt;&lt;br /&gt;&lt;div&gt;&lt;/div&gt;&lt;/span&gt;&lt;/p&gt;&lt;/div&gt;&lt;div class=&quot;media-content&quot;&gt;&lt;span style=&quot;font-variant: small-caps;&quot;&gt;&lt;/span&gt;&lt;div class=&quot;is-pulled-right&quot;&gt;&lt;small&gt;Anonymous, &lt;/small&gt;&lt;small class=&quot;is-italic&quot;&gt;A Child&#x27;s Dream of a Star, &lt;/small&gt;&lt;small&gt;par. 9&lt;/small&gt;&lt;/div&gt;&lt;div&gt;&lt;br /&gt;&lt;br /&gt;&lt;span&gt;&lt;span class=&quot;has-text-grey-light&quot;&gt;rest, near the church-spire, above the graves. It was &lt;/span&gt; &lt;span&gt;&lt;span style=&quot;display:inline-table;&quot;&gt;&lt;span style=&quot;display:table-row;&quot;&gt;&lt;span style=&quot;display:table-cell;&quot;&gt;&lt;span class=&quot;has-text-black has-text-weight-bold&quot;&gt;larger&lt;/span&gt;&lt;/span&gt; &lt;span style=&quot;display:table-cell;&quot;&gt;&lt;span class=&quot;tag is-light&quot;&gt;large&lt;/span&gt;&lt;/span&gt; &lt;span style=&quot;display:table-cell; opacity:0.800000011920929;&quot;&gt;&lt;span class=&quot;tag is-warning&quot;&gt;73%&lt;/span&gt;&lt;/span&gt;&lt;/span&gt;&lt;/span&gt;&lt;/span&gt; &lt;span class=&quot;has-text-grey-light&quot;&gt;and more beautiful, they thought, than all the others, and &lt;/span&gt;&lt;/span&gt;&lt;/div&gt;&lt;/div&gt;&lt;/article&gt;&lt;article class=&quot;media&quot;&gt;&lt;div class=&quot;media-left&quot;&gt;&lt;p class=&quot;image is-64x64&quot;&gt;&lt;span class=&quot;buttons&quot;&gt;&lt;span class=&quot;has-text-weight-bold&quot;&gt;70.9%&lt;/span&gt;&lt;br /&gt;&lt;div&gt;&lt;/div&gt;&lt;/span&gt;&lt;/p&gt;&lt;/div&gt;&lt;div class=&quot;media-content&quot;&gt;&lt;span style=&quot;font-variant: small-caps;&quot;&gt;&lt;/span&gt;&lt;div class=&quot;is-pulled-right&quot;&gt;&lt;small&gt;Anonymous, &lt;/small&gt;&lt;small class=&quot;is-italic&quot;&gt;A Child&#x27;s Dream of a Star, &lt;/small&gt;&lt;small&gt;par. 29&lt;/small&gt;&lt;/div&gt;&lt;div&gt;&lt;br /&gt;&lt;br /&gt;&lt;span&gt;&lt;span class=&quot;has-text-grey-light&quot;&gt;that he never yet had spoken word, he stretched his &lt;/span&gt; &lt;span&gt;&lt;span style=&quot;display:inline-table;&quot;&gt;&lt;span style=&quot;display:table-row;&quot;&gt;&lt;span style=&quot;display:table-cell;&quot;&gt;&lt;span class=&quot;has-text-black has-text-weight-bold&quot;&gt;tiny&lt;/span&gt;&lt;/span&gt; &lt;span style=&quot;display:table-cell;&quot;&gt;&lt;span class=&quot;tag is-light&quot;&gt;large&lt;/span&gt;&lt;/span&gt; &lt;span style=&quot;display:table-cell; opacity:0.800000011920929;&quot;&gt;&lt;span class=&quot;tag is-warning&quot;&gt;70%&lt;/span&gt;&lt;/span&gt;&lt;/span&gt;&lt;/span&gt;&lt;/span&gt; &lt;span class=&quot;has-text-grey-light&quot;&gt;form out on his bed, and died.\n",
       "\n",
       "Again the &lt;/span&gt;&lt;/span&gt;&lt;/div&gt;&lt;/div&gt;&lt;/article&gt;&lt;article class=&quot;media&quot;&gt;&lt;div class=&quot;media-left&quot;&gt;&lt;p class=&quot;image is-64x64&quot;&gt;&lt;span class=&quot;buttons&quot;&gt;&lt;span class=&quot;has-text-weight-bold&quot;&gt;62.5%&lt;/span&gt;&lt;br /&gt;&lt;div&gt;&lt;div style=&quot;text-decoration: line-through;&quot;&gt;large&lt;/div&gt;&lt;/div&gt;&lt;/span&gt;&lt;/p&gt;&lt;/div&gt;&lt;div class=&quot;media-content&quot;&gt;&lt;span style=&quot;font-variant: small-caps;&quot;&gt;&lt;/span&gt;&lt;div class=&quot;is-pulled-right&quot;&gt;&lt;small&gt;Anonymous, &lt;/small&gt;&lt;small class=&quot;is-italic&quot;&gt;A Child&#x27;s Dream of a Star, &lt;/small&gt;&lt;small&gt;par. 0&lt;/small&gt;&lt;/div&gt;&lt;div&gt;&lt;br /&gt;&lt;br /&gt;&lt;span&gt;&lt;span class=&quot;has-text-grey-light&quot;&gt;A Child’s Dream Of A Star.\n",
       "\n",
       "\n",
       "\n",
       "\n",
       "\n",
       "&lt;/span&gt;&lt;/span&gt;&lt;/div&gt;&lt;/div&gt;&lt;/article&gt;\n",
       "\t\t\t&lt;/div&gt;\n",
       "\t\t&lt;/div&gt;\n",
       "\t&lt;/body&gt;\n",
       "&lt;/html&gt;\"\n",
       "\t\t            frameborder=\"0\"\n",
       "\t\t            allowfullscreen\n",
       "\t\t        ></iframe>\n",
       "\t\t        <script>\n",
       "\t\t        \tvar f = document.getElementById(\"vectorian-iframe-1614007334432271000\");\n",
       "\t\t        \tf.onload = function() {\n",
       "\t\t\t        \tf.height = f.contentWindow.document.body.scrollHeight + \"px\";\n",
       "\t\t\t        };\n",
       "\t\t        </script>\n",
       "\t\t"
      ],
      "text/plain": [
       "<vectorian.session.LabResult at 0x7f85c053a430>"
      ]
     },
     "execution_count": 11,
     "metadata": {},
     "output_type": "execute_result"
    }
   ],
   "source": [
    "query = nlp(\"large\")\n",
    "r = session.find(query, n=3, options={'tag_weights': {\n",
    "    'JJ': 0.8\n",
    "}})\n",
    "r"
   ]
  },
  {
   "cell_type": "markdown",
   "id": "competitive-opening",
   "metadata": {},
   "source": [
    "# Sentence Embeddings"
   ]
  },
  {
   "cell_type": "code",
   "execution_count": 1,
   "id": "european-asian",
   "metadata": {},
   "outputs": [],
   "source": [
    "from pathlib import Path\n",
    "\n",
    "import os\n",
    "import sys\n",
    "\n",
    "current_path = Path(os.getcwd())\n",
    "sys.path.append(str(current_path))\n",
    "\n",
    "import vectorian"
   ]
  },
  {
   "cell_type": "code",
   "execution_count": 2,
   "id": "continuous-world",
   "metadata": {},
   "outputs": [],
   "source": [
    "from sentence_transformers import SentenceTransformer\n",
    "model = SentenceTransformer('paraphrase-distilroberta-base-v1')"
   ]
  },
  {
   "cell_type": "code",
   "execution_count": 18,
   "id": "unique-mexico",
   "metadata": {},
   "outputs": [
    {
     "data": {
      "text/plain": [
       "sentence_transformers.SentenceTransformer.SentenceTransformer"
      ]
     },
     "execution_count": 18,
     "metadata": {},
     "output_type": "execute_result"
    }
   ],
   "source": [
    "type(model)"
   ]
  },
  {
   "cell_type": "code",
   "execution_count": 3,
   "id": "appreciated-journey",
   "metadata": {},
   "outputs": [
    {
     "name": "stdout",
     "output_type": "stream",
     "text": [
      "Matching checksum for /Users/arbeit/Projects/vectorian-2021/vectorian/core/cpp/core.cpp --> not compiling\n"
     ]
    }
   ],
   "source": [
    "from vectorian.metrics import SentenceEmbeddingMetric\n",
    "metric = SentenceEmbeddingMetric(model.encode)"
   ]
  },
  {
   "cell_type": "code",
   "execution_count": 4,
   "id": "received-legislation",
   "metadata": {},
   "outputs": [],
   "source": [
    "import spacy\n",
    "nlp = spacy.load(\"en_core_web_sm\")"
   ]
  },
  {
   "cell_type": "code",
   "execution_count": 5,
   "id": "funny-serum",
   "metadata": {},
   "outputs": [
    {
     "name": "stderr",
     "output_type": "stream",
     "text": [
      "Importing <string>: 100%|██████████| 1/1 [00:00<00:00, 23.34it/s]\n",
      "Importing <string>: 100%|██████████| 1/1 [00:00<00:00, 18.49it/s]\n",
      "Encoding: 100%|██████████| 2/2 [00:00<00:00, 10.15it/s]\n"
     ]
    }
   ],
   "source": [
    "from vectorian.importers import StringImporter\n",
    "from vectorian.session import LabSession\n",
    "\n",
    "im = StringImporter(nlp)\n",
    "docs = [im(x) for x in [\n",
    "    \"Hey, ye want to talk like a pirate, eh?\",\n",
    "    \"Summer strolls are beautiful.\"]]\n",
    "\n",
    "session = LabSession(docs)\n",
    "index = session.partition(\"sentence\").index(metric)"
   ]
  },
  {
   "cell_type": "code",
   "execution_count": 6,
   "id": "union-finance",
   "metadata": {},
   "outputs": [],
   "source": [
    "#docs[0].to_json()"
   ]
  },
  {
   "cell_type": "code",
   "execution_count": 8,
   "id": "undefined-girlfriend",
   "metadata": {},
   "outputs": [
    {
     "data": {
      "application/vnd.jupyter.widget-view+json": {
       "model_id": "",
       "version_major": 2,
       "version_minor": 0
      },
      "text/plain": [
       "FloatProgress(value=0.0, layout=Layout(width='100%'), max=1.0)"
      ]
     },
     "metadata": {},
     "output_type": "display_data"
    },
    {
     "data": {
      "text/html": [
       "\n",
       "<iframe\n",
       "\tid=\"vectorian-iframe-1614764570157065000\"\n",
       "\twidth=\"100%\"\n",
       "\theight=\"100%\"\n",
       "\tsrcdoc=\"&lt;!DOCTYPE html&gt;\n",
       "&lt;html&gt;\n",
       "\t&lt;head&gt;\n",
       "\t\t&lt;meta charset=&quot;utf-8&quot;&gt;\n",
       "\t\t&lt;meta name=&quot;viewport&quot; content=&quot;width=device-width, initial-scale=1&quot;&gt;\n",
       "\t\t&lt;title&gt;Vectorian&lt;/title&gt;\n",
       "\t\t&lt;link rel=&quot;stylesheet&quot; href=&quot;https://cdn.jsdelivr.net/npm/bulma@0.9.1/css/bulma.min.css&quot;&gt;\n",
       "\t&lt;/head&gt;\n",
       "\t&lt;body&gt;\n",
       "\t\t&lt;div class=&quot;container&quot; height=&quot;100%&quot;&gt;\n",
       "\t\t\t&lt;div class=&quot;section&quot;&gt;\n",
       "&lt;!DOCTYPE html&gt;&lt;article class=&quot;media&quot;&gt;&lt;div class=&quot;media-left&quot;&gt;&lt;p class=&quot;image is-64x64&quot;&gt;&lt;span class=&quot;buttons&quot;&gt;&lt;span class=&quot;has-text-weight-bold&quot;&gt;61.9%&lt;/span&gt;&lt;br /&gt;&lt;div&gt;&lt;/div&gt;&lt;/span&gt;&lt;/p&gt;&lt;/div&gt;&lt;div class=&quot;media-content&quot;&gt;&lt;div class=&quot;is-pulled-right&quot;&gt;&lt;small&gt;&lt;/small&gt;&lt;/div&gt;&lt;div&gt;&lt;br /&gt;&lt;br /&gt;&lt;span&gt;Hey, ye want to talk like a pirate, eh?&lt;/span&gt;&lt;/div&gt;&lt;/div&gt;&lt;/article&gt;&lt;article class=&quot;media&quot;&gt;&lt;div class=&quot;media-left&quot;&gt;&lt;p class=&quot;image is-64x64&quot;&gt;&lt;span class=&quot;buttons&quot;&gt;&lt;span class=&quot;has-text-weight-bold&quot;&gt;57.1%&lt;/span&gt;&lt;br /&gt;&lt;div&gt;&lt;/div&gt;&lt;/span&gt;&lt;/p&gt;&lt;/div&gt;&lt;div class=&quot;media-content&quot;&gt;&lt;div class=&quot;is-pulled-right&quot;&gt;&lt;small&gt;&lt;/small&gt;&lt;/div&gt;&lt;div&gt;&lt;br /&gt;&lt;br /&gt;&lt;span&gt;Summer strolls are beautiful.&lt;/span&gt;&lt;/div&gt;&lt;/div&gt;&lt;/article&gt;\n",
       "\t\t\t&lt;/div&gt;\n",
       "\t\t&lt;/div&gt;\n",
       "\t&lt;/body&gt;\n",
       "&lt;/html&gt;\"\n",
       "\tframeborder=\"0\"\n",
       "\tallowfullscreen\n",
       "></iframe>\n",
       "<script>\n",
       "\tvar f = document.getElementById(\"vectorian-iframe-1614764570157065000\");\n",
       "\tf.onload = function() {\n",
       "\t\tf.height = f.contentWindow.document.body.scrollHeight + \"px\";\n",
       "\t};\n",
       "</script>\n",
       "\t\t"
      ],
      "text/plain": [
       "<vectorian.session.LabResult at 0x7ff38954cf40>"
      ]
     },
     "execution_count": 8,
     "metadata": {},
     "output_type": "execute_result"
    }
   ],
   "source": [
    "index.find(\"sea\")"
   ]
  },
  {
   "cell_type": "code",
   "execution_count": 6,
   "id": "spread-december",
   "metadata": {},
   "outputs": [
    {
     "name": "stderr",
     "output_type": "stream",
     "text": [
      "Importing /Users/arbeit/Wise Children.txt: 100%|██████████| 369/369 [00:05<00:00, 67.84it/s] \n"
     ]
    }
   ],
   "source": [
    "from vectorian.importers import NovelImporter\n",
    "from vectorian.session import LabSession\n",
    "\n",
    "im = NovelImporter(nlp)\n",
    "doc = im(\"/Users/arbeit/Wise Children.txt\")\n",
    "session = LabSession([doc])"
   ]
  },
  {
   "cell_type": "code",
   "execution_count": null,
   "id": "afraid-determination",
   "metadata": {},
   "outputs": [],
   "source": [
    "index = session.partition(\"sentence\", 2).index(metric)"
   ]
  },
  {
   "cell_type": "code",
   "execution_count": 10,
   "id": "unique-stability",
   "metadata": {},
   "outputs": [],
   "source": [
    "doc.save(\"/Users/arbeit/Desktop/novel.json\")"
   ]
  },
  {
   "cell_type": "code",
   "execution_count": 9,
   "id": "acting-notion",
   "metadata": {},
   "outputs": [
    {
     "name": "stderr",
     "output_type": "stream",
     "text": [
      "Saving: 100%|██████████| 1/1 [00:00<00:00, 104.80it/s]\n"
     ]
    }
   ],
   "source": [
    "index.save(Path(\"/Users/arbeit/Desktop/my_index\"))"
   ]
  },
  {
   "cell_type": "code",
   "execution_count": 7,
   "id": "adequate-carpet",
   "metadata": {},
   "outputs": [],
   "source": [
    "index = metric.load_index(session, \"/Users/arbeit/Desktop/my_index\")"
   ]
  },
  {
   "cell_type": "code",
   "execution_count": 14,
   "id": "surprised-stanley",
   "metadata": {},
   "outputs": [
    {
     "data": {
      "text/plain": [
       "0"
      ]
     },
     "execution_count": 14,
     "metadata": {},
     "output_type": "execute_result"
    }
   ],
   "source": [
    "session.documents[0].tokens['len'][386]"
   ]
  },
  {
   "cell_type": "code",
   "execution_count": 10,
   "id": "julian-garage",
   "metadata": {},
   "outputs": [
    {
     "data": {
      "application/vnd.jupyter.widget-view+json": {
       "model_id": "",
       "version_major": 2,
       "version_minor": 0
      },
      "text/plain": [
       "FloatProgress(value=0.0, layout=Layout(width='100%'), max=1.0)"
      ]
     },
     "metadata": {},
     "output_type": "display_data"
    },
    {
     "data": {
      "text/html": [
       "\n",
       "<iframe\n",
       "\tid=\"vectorian-iframe-1614764806343191000\"\n",
       "\twidth=\"100%\"\n",
       "\theight=\"100%\"\n",
       "\tsrcdoc=\"&lt;!DOCTYPE html&gt;\n",
       "&lt;html&gt;\n",
       "\t&lt;head&gt;\n",
       "\t\t&lt;meta charset=&quot;utf-8&quot;&gt;\n",
       "\t\t&lt;meta name=&quot;viewport&quot; content=&quot;width=device-width, initial-scale=1&quot;&gt;\n",
       "\t\t&lt;title&gt;Vectorian&lt;/title&gt;\n",
       "\t\t&lt;link rel=&quot;stylesheet&quot; href=&quot;https://cdn.jsdelivr.net/npm/bulma@0.9.1/css/bulma.min.css&quot;&gt;\n",
       "\t&lt;/head&gt;\n",
       "\t&lt;body&gt;\n",
       "\t\t&lt;div class=&quot;container&quot; height=&quot;100%&quot;&gt;\n",
       "\t\t\t&lt;div class=&quot;section&quot;&gt;\n",
       "&lt;!DOCTYPE html&gt;&lt;article class=&quot;media&quot;&gt;&lt;div class=&quot;media-left&quot;&gt;&lt;p class=&quot;image is-64x64&quot;&gt;&lt;span class=&quot;buttons&quot;&gt;&lt;span class=&quot;has-text-weight-bold&quot;&gt;63.8%&lt;/span&gt;&lt;br /&gt;&lt;div&gt;&lt;/div&gt;&lt;/span&gt;&lt;/p&gt;&lt;/div&gt;&lt;div class=&quot;media-content&quot;&gt;&lt;div class=&quot;is-pulled-right&quot;&gt;&lt;small class=&quot;is-italic&quot;&gt;Wise Children, &lt;/small&gt;&lt;small&gt;par. 267&lt;/small&gt;&lt;/div&gt;&lt;div&gt;&lt;br /&gt;&lt;br /&gt;&lt;span&gt;She came to a sticky end, all right. This is her as Desdemona, in a white nightie with her spray of willow, just about to go into her number: ‘A poor soul sat sighing by a sycamore tree . . .’&lt;/span&gt;&lt;/div&gt;&lt;/div&gt;&lt;/article&gt;&lt;article class=&quot;media&quot;&gt;&lt;div class=&quot;media-left&quot;&gt;&lt;p class=&quot;image is-64x64&quot;&gt;&lt;span class=&quot;buttons&quot;&gt;&lt;span class=&quot;has-text-weight-bold&quot;&gt;62.9%&lt;/span&gt;&lt;br /&gt;&lt;div&gt;&lt;/div&gt;&lt;/span&gt;&lt;/p&gt;&lt;/div&gt;&lt;div class=&quot;media-content&quot;&gt;&lt;div class=&quot;is-pulled-right&quot;&gt;&lt;small class=&quot;is-italic&quot;&gt;Wise Children, &lt;/small&gt;&lt;small&gt;par. 293&lt;/small&gt;&lt;/div&gt;&lt;div&gt;&lt;br /&gt;&lt;br /&gt;&lt;span&gt;She gave the organ-grinder sixpence and he played ‘Daisy, Daisy’. She took my hand and we danced, right there, on the pavement.&lt;/span&gt;&lt;/div&gt;&lt;/div&gt;&lt;/article&gt;&lt;article class=&quot;media&quot;&gt;&lt;div class=&quot;media-left&quot;&gt;&lt;p class=&quot;image is-64x64&quot;&gt;&lt;span class=&quot;buttons&quot;&gt;&lt;span class=&quot;has-text-weight-bold&quot;&gt;61.0%&lt;/span&gt;&lt;br /&gt;&lt;div&gt;&lt;/div&gt;&lt;/span&gt;&lt;/p&gt;&lt;/div&gt;&lt;div class=&quot;media-content&quot;&gt;&lt;div class=&quot;is-pulled-right&quot;&gt;&lt;small class=&quot;is-italic&quot;&gt;Wise Children, &lt;/small&gt;&lt;small&gt;par. 335&lt;/small&gt;&lt;/div&gt;&lt;div&gt;&lt;br /&gt;&lt;br /&gt;&lt;span&gt;To the Dardanelles.Poor old Charlie, pushing up the daisies, now.&lt;/span&gt;&lt;/div&gt;&lt;/div&gt;&lt;/article&gt;&lt;article class=&quot;media&quot;&gt;&lt;div class=&quot;media-left&quot;&gt;&lt;p class=&quot;image is-64x64&quot;&gt;&lt;span class=&quot;buttons&quot;&gt;&lt;span class=&quot;has-text-weight-bold&quot;&gt;60.3%&lt;/span&gt;&lt;br /&gt;&lt;div&gt;&lt;/div&gt;&lt;/span&gt;&lt;/p&gt;&lt;/div&gt;&lt;div class=&quot;media-content&quot;&gt;&lt;div class=&quot;is-pulled-right&quot;&gt;&lt;small class=&quot;is-italic&quot;&gt;Wise Children, &lt;/small&gt;&lt;small&gt;par. 314&lt;/small&gt;&lt;/div&gt;&lt;div&gt;&lt;br /&gt;&lt;br /&gt;&lt;span&gt;A cart went past with a load of kale; he got a lift a mile or two. The sun would have been coming up, by then.&lt;/span&gt;&lt;/div&gt;&lt;/div&gt;&lt;/article&gt;&lt;article class=&quot;media&quot;&gt;&lt;div class=&quot;media-left&quot;&gt;&lt;p class=&quot;image is-64x64&quot;&gt;&lt;span class=&quot;buttons&quot;&gt;&lt;span class=&quot;has-text-weight-bold&quot;&gt;59.9%&lt;/span&gt;&lt;br /&gt;&lt;div&gt;&lt;/div&gt;&lt;/span&gt;&lt;/p&gt;&lt;/div&gt;&lt;div class=&quot;media-content&quot;&gt;&lt;div class=&quot;is-pulled-right&quot;&gt;&lt;small class=&quot;is-italic&quot;&gt;Wise Children, &lt;/small&gt;&lt;small&gt;par. 298&lt;/small&gt;&lt;/div&gt;&lt;div&gt;&lt;br /&gt;&lt;br /&gt;&lt;span&gt;In Arkansas, the Hazards’ patched and ravaged tent went up in the spaces vacated by the travelling evangelicals: Ranulph, lean, haggard, bearded, more and more resembled John the Baptist had John the Baptist reached old age.They arrived at last in the south-west and pitched their tent in arid scrub in a town called Gun Barrel, Texas, renamed Hazard, after the Hazards played Macbeth there with a hired band of campesinos as the Scottish army, holding spiked ears of prickly pear above their heads to mimic Birnam Wood.&lt;/span&gt;&lt;/div&gt;&lt;/div&gt;&lt;/article&gt;&lt;article class=&quot;media&quot;&gt;&lt;div class=&quot;media-left&quot;&gt;&lt;p class=&quot;image is-64x64&quot;&gt;&lt;span class=&quot;buttons&quot;&gt;&lt;span class=&quot;has-text-weight-bold&quot;&gt;59.7%&lt;/span&gt;&lt;br /&gt;&lt;div&gt;&lt;/div&gt;&lt;/span&gt;&lt;/p&gt;&lt;/div&gt;&lt;div class=&quot;media-content&quot;&gt;&lt;div class=&quot;is-pulled-right&quot;&gt;&lt;small class=&quot;is-italic&quot;&gt;Wise Children, &lt;/small&gt;&lt;small&gt;par. 194&lt;/small&gt;&lt;/div&gt;&lt;div&gt;&lt;br /&gt;&lt;br /&gt;&lt;span&gt;Lovely blue sky, a birthday present in itself. I knew a boy, once, with eyes that colour, years ago.&lt;/span&gt;&lt;/div&gt;&lt;/div&gt;&lt;/article&gt;&lt;article class=&quot;media&quot;&gt;&lt;div class=&quot;media-left&quot;&gt;&lt;p class=&quot;image is-64x64&quot;&gt;&lt;span class=&quot;buttons&quot;&gt;&lt;span class=&quot;has-text-weight-bold&quot;&gt;59.7%&lt;/span&gt;&lt;br /&gt;&lt;div&gt;&lt;/div&gt;&lt;/span&gt;&lt;/p&gt;&lt;/div&gt;&lt;div class=&quot;media-content&quot;&gt;&lt;div class=&quot;is-pulled-right&quot;&gt;&lt;small class=&quot;is-italic&quot;&gt;Wise Children, &lt;/small&gt;&lt;small&gt;par. 187&lt;/small&gt;&lt;/div&gt;&lt;div&gt;&lt;br /&gt;&lt;br /&gt;&lt;span&gt;49 Bard Road, Brixton, London, South West Two. Bless this house.&lt;/span&gt;&lt;/div&gt;&lt;/div&gt;&lt;/article&gt;&lt;article class=&quot;media&quot;&gt;&lt;div class=&quot;media-left&quot;&gt;&lt;p class=&quot;image is-64x64&quot;&gt;&lt;span class=&quot;buttons&quot;&gt;&lt;span class=&quot;has-text-weight-bold&quot;&gt;59.7%&lt;/span&gt;&lt;br /&gt;&lt;div&gt;&lt;/div&gt;&lt;/span&gt;&lt;/p&gt;&lt;/div&gt;&lt;div class=&quot;media-content&quot;&gt;&lt;div class=&quot;is-pulled-right&quot;&gt;&lt;small class=&quot;is-italic&quot;&gt;Wise Children, &lt;/small&gt;&lt;small&gt;par. 298&lt;/small&gt;&lt;/div&gt;&lt;div&gt;&lt;br /&gt;&lt;br /&gt;&lt;span&gt;Crossing, crisscrossing the prairies. Hazard, Alberta, flat as a plateful of snow.&lt;/span&gt;&lt;/div&gt;&lt;/div&gt;&lt;/article&gt;&lt;article class=&quot;media&quot;&gt;&lt;div class=&quot;media-left&quot;&gt;&lt;p class=&quot;image is-64x64&quot;&gt;&lt;span class=&quot;buttons&quot;&gt;&lt;span class=&quot;has-text-weight-bold&quot;&gt;59.7%&lt;/span&gt;&lt;br /&gt;&lt;div&gt;&lt;/div&gt;&lt;/span&gt;&lt;/p&gt;&lt;/div&gt;&lt;div class=&quot;media-content&quot;&gt;&lt;div class=&quot;is-pulled-right&quot;&gt;&lt;small class=&quot;is-italic&quot;&gt;Wise Children, &lt;/small&gt;&lt;small&gt;par. 290&lt;/small&gt;&lt;/div&gt;&lt;div&gt;&lt;br /&gt;&lt;br /&gt;&lt;span&gt;I see it in my mind’s eye as if it were a movie – the ocean liner slipping her moorings, gliding away from the quay, the siren blaring, the crowd throwing flowers, the red-haired woman on the deck, smiling, waving, smiling.Our Uncle Peregrine inherited her scarlet hair.&lt;/span&gt;&lt;/div&gt;&lt;/div&gt;&lt;/article&gt;&lt;article class=&quot;media&quot;&gt;&lt;div class=&quot;media-left&quot;&gt;&lt;p class=&quot;image is-64x64&quot;&gt;&lt;span class=&quot;buttons&quot;&gt;&lt;span class=&quot;has-text-weight-bold&quot;&gt;59.4%&lt;/span&gt;&lt;br /&gt;&lt;div&gt;&lt;/div&gt;&lt;/span&gt;&lt;/p&gt;&lt;/div&gt;&lt;div class=&quot;media-content&quot;&gt;&lt;div class=&quot;is-pulled-right&quot;&gt;&lt;small class=&quot;is-italic&quot;&gt;Wise Children, &lt;/small&gt;&lt;small&gt;par. 296&lt;/small&gt;&lt;/div&gt;&lt;div&gt;&lt;br /&gt;&lt;br /&gt;&lt;span&gt;If an ice-cream sundae was named after Estella in Melbourne, then an entire dried-out township in New South Wales was renamed Hazard, after she and Runulph put on al fresco Coriolanus. A street in Hobart, Tasmania.&lt;/span&gt;&lt;/div&gt;&lt;/div&gt;&lt;/article&gt;\n",
       "\t\t\t&lt;/div&gt;\n",
       "\t\t&lt;/div&gt;\n",
       "\t&lt;/body&gt;\n",
       "&lt;/html&gt;\"\n",
       "\tframeborder=\"0\"\n",
       "\tallowfullscreen\n",
       "></iframe>\n",
       "<script>\n",
       "\tvar f = document.getElementById(\"vectorian-iframe-1614764806343191000\");\n",
       "\tf.onload = function() {\n",
       "\t\tf.height = f.contentWindow.document.body.scrollHeight + \"px\";\n",
       "\t};\n",
       "</script>\n",
       "\t\t"
      ],
      "text/plain": [
       "<vectorian.session.LabResult at 0x7f8953676640>"
      ]
     },
     "execution_count": 10,
     "metadata": {},
     "output_type": "execute_result"
    }
   ],
   "source": [
    "#index.find(\"two and four\")\n",
    "#index.find(\"making America great again\")\n",
    "index.find(\"under the greenwood tree\")"
   ]
  },
  {
   "cell_type": "code",
   "execution_count": 6,
   "id": "sunrise-buying",
   "metadata": {},
   "outputs": [
    {
     "name": "stderr",
     "output_type": "stream",
     "text": [
      "Importing /Users/arbeit/Desktop/play.xml: 100%|██████████| 916/916 [00:07<00:00, 128.00it/s]\n"
     ]
    }
   ],
   "source": [
    "from vectorian.importers import ShakespeareImporter\n",
    "from vectorian.session import LabSession\n",
    "\n",
    "im = ShakespeareImporter(nlp)\n",
    "doc = im(\"/Users/arbeit/Desktop/play.xml\")\n",
    "session = LabSession(\n",
    "    [doc],\n",
    "    static_embeddings=[fasttext],\n",
    "    token_mappings=token_mappings)"
   ]
  },
  {
   "cell_type": "code",
   "execution_count": 7,
   "id": "dying-better",
   "metadata": {},
   "outputs": [],
   "source": [
    "index = session.index_for_metric()"
   ]
  },
  {
   "cell_type": "code",
   "execution_count": 8,
   "id": "naked-fleece",
   "metadata": {},
   "outputs": [
    {
     "data": {
      "application/vnd.jupyter.widget-view+json": {
       "model_id": "",
       "version_major": 2,
       "version_minor": 0
      },
      "text/plain": [
       "FloatProgress(value=0.0, layout=Layout(width='100%'), max=1.0)"
      ]
     },
     "metadata": {},
     "output_type": "display_data"
    },
    {
     "data": {
      "text/html": [
       "\n",
       "<iframe\n",
       "\tid=\"vectorian-iframe-1614612249831673000\"\n",
       "\twidth=\"100%\"\n",
       "\theight=\"100%\"\n",
       "\tsrcdoc=\"&lt;!DOCTYPE html&gt;\n",
       "&lt;html&gt;\n",
       "\t&lt;head&gt;\n",
       "\t\t&lt;meta charset=&quot;utf-8&quot;&gt;\n",
       "\t\t&lt;meta name=&quot;viewport&quot; content=&quot;width=device-width, initial-scale=1&quot;&gt;\n",
       "\t\t&lt;title&gt;Vectorian&lt;/title&gt;\n",
       "\t\t&lt;link rel=&quot;stylesheet&quot; href=&quot;https://cdn.jsdelivr.net/npm/bulma@0.9.1/css/bulma.min.css&quot;&gt;\n",
       "\t&lt;/head&gt;\n",
       "\t&lt;body&gt;\n",
       "\t\t&lt;div class=&quot;container&quot; height=&quot;100%&quot;&gt;\n",
       "\t\t\t&lt;div class=&quot;section&quot;&gt;\n",
       "&lt;!DOCTYPE html&gt;&lt;article class=&quot;media&quot;&gt;&lt;div class=&quot;media-left&quot;&gt;&lt;p class=&quot;image is-64x64&quot;&gt;&lt;span class=&quot;buttons&quot;&gt;&lt;span class=&quot;has-text-weight-bold&quot;&gt;84.0%&lt;/span&gt;&lt;br /&gt;&lt;div&gt;&lt;/div&gt;&lt;/span&gt;&lt;/p&gt;&lt;/div&gt;&lt;div class=&quot;media-content&quot;&gt;&lt;span style=&quot;font-variant: small-caps;&quot;&gt;Countess of Roussillon&lt;/span&gt;&lt;div class=&quot;is-pulled-right&quot;&gt;&lt;small&gt;William Shakespeare, &lt;/small&gt;&lt;small class=&quot;is-italic&quot;&gt;All’s Well That Ends Well, &lt;/small&gt;&lt;small&gt;III.2, line 1045&lt;/small&gt;&lt;/div&gt;&lt;div&gt;&lt;br /&gt;&lt;br /&gt;&lt;span&gt;&lt;span class=&quot;has-text-grey-light&quot;&gt;you have there.This is not well, rash and unbridled &lt;/span&gt; &lt;span&gt;&lt;span style=&quot;display:inline-table;&quot;&gt;&lt;span style=&quot;display:table-row;&quot;&gt;&lt;span style=&quot;display:table-cell;&quot;&gt;&lt;span class=&quot;has-text-black has-text-weight-bold&quot;&gt;boy&lt;/span&gt;&lt;/span&gt; &lt;span style=&quot;display:table-cell;&quot;&gt;&lt;span class=&quot;tag is-light&quot;&gt;girl&lt;/span&gt;&lt;/span&gt; &lt;span style=&quot;display:table-cell; opacity:1.0;&quot;&gt;&lt;span class=&quot;tag is-success&quot;&gt;83%&lt;/span&gt;&lt;/span&gt;&lt;/span&gt;&lt;/span&gt;&lt;/span&gt; &lt;span class=&quot;has-text-grey-light&quot;&gt;To fly the favors of so good a king, To &lt;/span&gt;&lt;/span&gt;&lt;/div&gt;&lt;/div&gt;&lt;/article&gt;&lt;article class=&quot;media&quot;&gt;&lt;div class=&quot;media-left&quot;&gt;&lt;p class=&quot;image is-64x64&quot;&gt;&lt;span class=&quot;buttons&quot;&gt;&lt;span class=&quot;has-text-weight-bold&quot;&gt;84.0%&lt;/span&gt;&lt;br /&gt;&lt;div&gt;&lt;/div&gt;&lt;/span&gt;&lt;/p&gt;&lt;/div&gt;&lt;div class=&quot;media-content&quot;&gt;&lt;span style=&quot;font-variant: small-caps;&quot;&gt;Parolles&lt;/span&gt;&lt;div class=&quot;is-pulled-right&quot;&gt;&lt;small&gt;William Shakespeare, &lt;/small&gt;&lt;small class=&quot;is-italic&quot;&gt;All’s Well That Ends Well, &lt;/small&gt;&lt;small&gt;IV.3, line 1653&lt;/small&gt;&lt;/div&gt;&lt;div&gt;&lt;br /&gt;&lt;br /&gt;&lt;span&gt;&lt;span class=&quot;has-text-grey-light&quot;&gt;well, and to beguile the supposition of that lascivious young &lt;/span&gt; &lt;span&gt;&lt;span style=&quot;display:inline-table;&quot;&gt;&lt;span style=&quot;display:table-row;&quot;&gt;&lt;span style=&quot;display:table-cell;&quot;&gt;&lt;span class=&quot;has-text-black has-text-weight-bold&quot;&gt;boy&lt;/span&gt;&lt;/span&gt; &lt;span style=&quot;display:table-cell;&quot;&gt;&lt;span class=&quot;tag is-light&quot;&gt;girl&lt;/span&gt;&lt;/span&gt; &lt;span style=&quot;display:table-cell; opacity:1.0;&quot;&gt;&lt;span class=&quot;tag is-success&quot;&gt;83%&lt;/span&gt;&lt;/span&gt;&lt;/span&gt;&lt;/span&gt;&lt;/span&gt; &lt;span class=&quot;has-text-grey-light&quot;&gt;the Count, have I run into this danger.Yet who &lt;/span&gt;&lt;/span&gt;&lt;/div&gt;&lt;/div&gt;&lt;/article&gt;&lt;article class=&quot;media&quot;&gt;&lt;div class=&quot;media-left&quot;&gt;&lt;p class=&quot;image is-64x64&quot;&gt;&lt;span class=&quot;buttons&quot;&gt;&lt;span class=&quot;has-text-weight-bold&quot;&gt;84.0%&lt;/span&gt;&lt;br /&gt;&lt;div&gt;&lt;/div&gt;&lt;/span&gt;&lt;/p&gt;&lt;/div&gt;&lt;div class=&quot;media-content&quot;&gt;&lt;span style=&quot;font-variant: small-caps;&quot;&gt;Parolles&lt;/span&gt;&lt;div class=&quot;is-pulled-right&quot;&gt;&lt;small&gt;William Shakespeare, &lt;/small&gt;&lt;small class=&quot;is-italic&quot;&gt;All’s Well That Ends Well, &lt;/small&gt;&lt;small&gt;IV.3, line 1619&lt;/small&gt;&lt;/div&gt;&lt;div&gt;&lt;br /&gt;&lt;br /&gt;&lt;span&gt;&lt;span class=&quot;has-text-grey-light&quot;&gt;knew the young Count to be a dangerous and lascivious &lt;/span&gt; &lt;span&gt;&lt;span style=&quot;display:inline-table;&quot;&gt;&lt;span style=&quot;display:table-row;&quot;&gt;&lt;span style=&quot;display:table-cell;&quot;&gt;&lt;span class=&quot;has-text-black has-text-weight-bold&quot;&gt;boy&lt;/span&gt;&lt;/span&gt; &lt;span style=&quot;display:table-cell;&quot;&gt;&lt;span class=&quot;tag is-light&quot;&gt;girl&lt;/span&gt;&lt;/span&gt; &lt;span style=&quot;display:table-cell; opacity:1.0;&quot;&gt;&lt;span class=&quot;tag is-success&quot;&gt;83%&lt;/span&gt;&lt;/span&gt;&lt;/span&gt;&lt;/span&gt;&lt;/span&gt; &lt;span class=&quot;has-text-grey-light&quot;&gt;who is a whale to virginity, and devours up all &lt;/span&gt;&lt;/span&gt;&lt;/div&gt;&lt;/div&gt;&lt;/article&gt;&lt;article class=&quot;media&quot;&gt;&lt;div class=&quot;media-left&quot;&gt;&lt;p class=&quot;image is-64x64&quot;&gt;&lt;span class=&quot;buttons&quot;&gt;&lt;span class=&quot;has-text-weight-bold&quot;&gt;84.0%&lt;/span&gt;&lt;br /&gt;&lt;div&gt;&lt;/div&gt;&lt;/span&gt;&lt;/p&gt;&lt;/div&gt;&lt;div class=&quot;media-content&quot;&gt;&lt;span style=&quot;font-variant: small-caps;&quot;&gt;Parolles&lt;/span&gt;&lt;div class=&quot;is-pulled-right&quot;&gt;&lt;small&gt;William Shakespeare, &lt;/small&gt;&lt;small class=&quot;is-italic&quot;&gt;All’s Well That Ends Well, &lt;/small&gt;&lt;small&gt;IV.3, line 1617&lt;/small&gt;&lt;/div&gt;&lt;div&gt;&lt;br /&gt;&lt;br /&gt;&lt;span&gt;&lt;span class=&quot;has-text-grey-light&quot;&gt;of the allurement of one Count Roussillon, a foolish idle &lt;/span&gt; &lt;span&gt;&lt;span style=&quot;display:inline-table;&quot;&gt;&lt;span style=&quot;display:table-row;&quot;&gt;&lt;span style=&quot;display:table-cell;&quot;&gt;&lt;span class=&quot;has-text-black has-text-weight-bold&quot;&gt;boy&lt;/span&gt;&lt;/span&gt; &lt;span style=&quot;display:table-cell;&quot;&gt;&lt;span class=&quot;tag is-light&quot;&gt;girl&lt;/span&gt;&lt;/span&gt; &lt;span style=&quot;display:table-cell; opacity:1.0;&quot;&gt;&lt;span class=&quot;tag is-success&quot;&gt;83%&lt;/span&gt;&lt;/span&gt;&lt;/span&gt;&lt;/span&gt;&lt;/span&gt; &lt;span class=&quot;has-text-grey-light&quot;&gt;but for all that very ruttish.I pray you, sir, &lt;/span&gt;&lt;/span&gt;&lt;/div&gt;&lt;/div&gt;&lt;/article&gt;&lt;article class=&quot;media&quot;&gt;&lt;div class=&quot;media-left&quot;&gt;&lt;p class=&quot;image is-64x64&quot;&gt;&lt;span class=&quot;buttons&quot;&gt;&lt;span class=&quot;has-text-weight-bold&quot;&gt;84.0%&lt;/span&gt;&lt;br /&gt;&lt;div&gt;&lt;/div&gt;&lt;/span&gt;&lt;/p&gt;&lt;/div&gt;&lt;div class=&quot;media-content&quot;&gt;&lt;span style=&quot;font-variant: small-caps;&quot;&gt;King of France&lt;/span&gt;&lt;div class=&quot;is-pulled-right&quot;&gt;&lt;small&gt;William Shakespeare, &lt;/small&gt;&lt;small class=&quot;is-italic&quot;&gt;All’s Well That Ends Well, &lt;/small&gt;&lt;small&gt;II.3, line 790&lt;/small&gt;&lt;/div&gt;&lt;div&gt;&lt;br /&gt;&lt;br /&gt;&lt;span&gt;&lt;span class=&quot;has-text-grey-light&quot;&gt;must produce my power.Here, take her hand, Proud scornful &lt;/span&gt; &lt;span&gt;&lt;span style=&quot;display:inline-table;&quot;&gt;&lt;span style=&quot;display:table-row;&quot;&gt;&lt;span style=&quot;display:table-cell;&quot;&gt;&lt;span class=&quot;has-text-black has-text-weight-bold&quot;&gt;boy&lt;/span&gt;&lt;/span&gt; &lt;span style=&quot;display:table-cell;&quot;&gt;&lt;span class=&quot;tag is-light&quot;&gt;girl&lt;/span&gt;&lt;/span&gt; &lt;span style=&quot;display:table-cell; opacity:1.0;&quot;&gt;&lt;span class=&quot;tag is-success&quot;&gt;83%&lt;/span&gt;&lt;/span&gt;&lt;/span&gt;&lt;/span&gt;&lt;/span&gt; &lt;span class=&quot;has-text-grey-light&quot;&gt;unworthy this good gift, That dost in vile misprision shackle &lt;/span&gt;&lt;/span&gt;&lt;/div&gt;&lt;/div&gt;&lt;/article&gt;&lt;article class=&quot;media&quot;&gt;&lt;div class=&quot;media-left&quot;&gt;&lt;p class=&quot;image is-64x64&quot;&gt;&lt;span class=&quot;buttons&quot;&gt;&lt;span class=&quot;has-text-weight-bold&quot;&gt;84.0%&lt;/span&gt;&lt;br /&gt;&lt;div&gt;&lt;/div&gt;&lt;/span&gt;&lt;/p&gt;&lt;/div&gt;&lt;div class=&quot;media-content&quot;&gt;&lt;span style=&quot;font-variant: small-caps;&quot;&gt;Parolles&lt;/span&gt;&lt;div class=&quot;is-pulled-right&quot;&gt;&lt;small&gt;William Shakespeare, &lt;/small&gt;&lt;small class=&quot;is-italic&quot;&gt;All’s Well That Ends Well, &lt;/small&gt;&lt;small&gt;II.3, line 870&lt;/small&gt;&lt;/div&gt;&lt;div&gt;&lt;br /&gt;&lt;br /&gt;&lt;span&gt;&lt;span class=&quot;has-text-grey-light&quot;&gt;yet.Ay, that would be known.To th’ wars, my &lt;/span&gt; &lt;span&gt;&lt;span style=&quot;display:inline-table;&quot;&gt;&lt;span style=&quot;display:table-row;&quot;&gt;&lt;span style=&quot;display:table-cell;&quot;&gt;&lt;span class=&quot;has-text-black has-text-weight-bold&quot;&gt;boy&lt;/span&gt;&lt;/span&gt; &lt;span style=&quot;display:table-cell;&quot;&gt;&lt;span class=&quot;tag is-light&quot;&gt;girl&lt;/span&gt;&lt;/span&gt; &lt;span style=&quot;display:table-cell; opacity:1.0;&quot;&gt;&lt;span class=&quot;tag is-success&quot;&gt;83%&lt;/span&gt;&lt;/span&gt;&lt;/span&gt;&lt;/span&gt;&lt;/span&gt; &lt;span class=&quot;has-text-grey-light&quot;&gt;to th’ wars!He wears his honor in a box &lt;/span&gt;&lt;/span&gt;&lt;/div&gt;&lt;/div&gt;&lt;/article&gt;&lt;article class=&quot;media&quot;&gt;&lt;div class=&quot;media-left&quot;&gt;&lt;p class=&quot;image is-64x64&quot;&gt;&lt;span class=&quot;buttons&quot;&gt;&lt;span class=&quot;has-text-weight-bold&quot;&gt;84.0%&lt;/span&gt;&lt;br /&gt;&lt;div&gt;&lt;/div&gt;&lt;/span&gt;&lt;/p&gt;&lt;/div&gt;&lt;div class=&quot;media-content&quot;&gt;&lt;span style=&quot;font-variant: small-caps;&quot;&gt;Parolles&lt;/span&gt;&lt;div class=&quot;is-pulled-right&quot;&gt;&lt;small&gt;William Shakespeare, &lt;/small&gt;&lt;small class=&quot;is-italic&quot;&gt;All’s Well That Ends Well, &lt;/small&gt;&lt;small&gt;II.1, line 445&lt;/small&gt;&lt;/div&gt;&lt;div&gt;&lt;br /&gt;&lt;br /&gt;&lt;span&gt;&lt;span class=&quot;has-text-grey-light&quot;&gt;year” and “’tis too early.”And thy mind stand to’t, &lt;/span&gt; &lt;span&gt;&lt;span style=&quot;display:inline-table;&quot;&gt;&lt;span style=&quot;display:table-row;&quot;&gt;&lt;span style=&quot;display:table-cell;&quot;&gt;&lt;span class=&quot;has-text-black has-text-weight-bold&quot;&gt;boy&lt;/span&gt;&lt;/span&gt; &lt;span style=&quot;display:table-cell;&quot;&gt;&lt;span class=&quot;tag is-light&quot;&gt;girl&lt;/span&gt;&lt;/span&gt; &lt;span style=&quot;display:table-cell; opacity:1.0;&quot;&gt;&lt;span class=&quot;tag is-success&quot;&gt;83%&lt;/span&gt;&lt;/span&gt;&lt;/span&gt;&lt;/span&gt;&lt;/span&gt; &lt;span class=&quot;has-text-grey-light&quot;&gt;steal away bravely.I shall stay here the forehorse to &lt;/span&gt;&lt;/span&gt;&lt;/div&gt;&lt;/div&gt;&lt;/article&gt;&lt;article class=&quot;media&quot;&gt;&lt;div class=&quot;media-left&quot;&gt;&lt;p class=&quot;image is-64x64&quot;&gt;&lt;span class=&quot;buttons&quot;&gt;&lt;span class=&quot;has-text-weight-bold&quot;&gt;79.8%&lt;/span&gt;&lt;br /&gt;&lt;div&gt;&lt;/div&gt;&lt;/span&gt;&lt;/p&gt;&lt;/div&gt;&lt;div class=&quot;media-content&quot;&gt;&lt;span style=&quot;font-variant: small-caps;&quot;&gt;King of France&lt;/span&gt;&lt;div class=&quot;is-pulled-right&quot;&gt;&lt;small&gt;William Shakespeare, &lt;/small&gt;&lt;small class=&quot;is-italic&quot;&gt;All’s Well That Ends Well, &lt;/small&gt;&lt;small&gt;II.1, line 433&lt;/small&gt;&lt;/div&gt;&lt;div&gt;&lt;br /&gt;&lt;br /&gt;&lt;span&gt;&lt;span class=&quot;has-text-grey-light&quot;&gt;say farewell.Health, at your bidding, serve your Majesty!Those &lt;/span&gt; &lt;span&gt;&lt;span style=&quot;display:inline-table;&quot;&gt;&lt;span style=&quot;display:table-row;&quot;&gt;&lt;span style=&quot;display:table-cell;&quot;&gt;&lt;span class=&quot;has-text-black has-text-weight-bold&quot;&gt;girls&lt;/span&gt;&lt;/span&gt; &lt;span style=&quot;display:table-cell;&quot;&gt;&lt;span class=&quot;tag is-light&quot;&gt;girl&lt;/span&gt;&lt;/span&gt; &lt;span style=&quot;display:table-cell; opacity:1.0;&quot;&gt;&lt;span class=&quot;tag is-success&quot;&gt;79%&lt;/span&gt;&lt;/span&gt;&lt;/span&gt;&lt;/span&gt;&lt;/span&gt; &lt;span class=&quot;has-text-grey-light&quot;&gt;of Italy, take heed of them.They say our French &lt;/span&gt;&lt;/span&gt;&lt;/div&gt;&lt;/div&gt;&lt;/article&gt;&lt;article class=&quot;media&quot;&gt;&lt;div class=&quot;media-left&quot;&gt;&lt;p class=&quot;image is-64x64&quot;&gt;&lt;span class=&quot;buttons&quot;&gt;&lt;span class=&quot;has-text-weight-bold&quot;&gt;71.1%&lt;/span&gt;&lt;br /&gt;&lt;div&gt;&lt;/div&gt;&lt;/span&gt;&lt;/p&gt;&lt;/div&gt;&lt;div class=&quot;media-content&quot;&gt;&lt;span style=&quot;font-variant: small-caps;&quot;&gt;Lavatch&lt;/span&gt;&lt;div class=&quot;is-pulled-right&quot;&gt;&lt;small&gt;William Shakespeare, &lt;/small&gt;&lt;small class=&quot;is-italic&quot;&gt;All’s Well That Ends Well, &lt;/small&gt;&lt;small&gt;I.3, line 264&lt;/small&gt;&lt;/div&gt;&lt;div&gt;&lt;br /&gt;&lt;br /&gt;&lt;span&gt;&lt;span class=&quot;has-text-grey-light&quot;&gt;do as I command you.That man should be at &lt;/span&gt; &lt;span&gt;&lt;span style=&quot;display:inline-table;&quot;&gt;&lt;span style=&quot;display:table-row;&quot;&gt;&lt;span style=&quot;display:table-cell;&quot;&gt;&lt;span class=&quot;has-text-black has-text-weight-bold&quot;&gt;woman&lt;/span&gt;&lt;/span&gt; &lt;span style=&quot;display:table-cell;&quot;&gt;&lt;span class=&quot;tag is-light&quot;&gt;girl&lt;/span&gt;&lt;/span&gt; &lt;span style=&quot;display:table-cell; opacity:1.0;&quot;&gt;&lt;span class=&quot;tag is-warning&quot;&gt;71%&lt;/span&gt;&lt;/span&gt;&lt;/span&gt;&lt;/span&gt;&lt;/span&gt; &lt;span class=&quot;has-text-grey-light&quot;&gt;’s command, and yet no hurt done!Though honesty be &lt;/span&gt;&lt;/span&gt;&lt;/div&gt;&lt;/div&gt;&lt;/article&gt;&lt;article class=&quot;media&quot;&gt;&lt;div class=&quot;media-left&quot;&gt;&lt;p class=&quot;image is-64x64&quot;&gt;&lt;span class=&quot;buttons&quot;&gt;&lt;span class=&quot;has-text-weight-bold&quot;&gt;71.1%&lt;/span&gt;&lt;br /&gt;&lt;div&gt;&lt;/div&gt;&lt;/span&gt;&lt;/p&gt;&lt;/div&gt;&lt;div class=&quot;media-content&quot;&gt;&lt;span style=&quot;font-variant: small-caps;&quot;&gt;Lavatch&lt;/span&gt;&lt;div class=&quot;is-pulled-right&quot;&gt;&lt;small&gt;William Shakespeare, &lt;/small&gt;&lt;small class=&quot;is-italic&quot;&gt;All’s Well That Ends Well, &lt;/small&gt;&lt;small&gt;I.3, line 262&lt;/small&gt;&lt;/div&gt;&lt;div&gt;&lt;br /&gt;&lt;br /&gt;&lt;span&gt;&lt;span class=&quot;has-text-grey-light&quot;&gt;in ten, quoth ’a?And we might have a good &lt;/span&gt; &lt;span&gt;&lt;span style=&quot;display:inline-table;&quot;&gt;&lt;span style=&quot;display:table-row;&quot;&gt;&lt;span style=&quot;display:table-cell;&quot;&gt;&lt;span class=&quot;has-text-black has-text-weight-bold&quot;&gt;woman&lt;/span&gt;&lt;/span&gt; &lt;span style=&quot;display:table-cell;&quot;&gt;&lt;span class=&quot;tag is-light&quot;&gt;girl&lt;/span&gt;&lt;/span&gt; &lt;span style=&quot;display:table-cell; opacity:1.0;&quot;&gt;&lt;span class=&quot;tag is-warning&quot;&gt;71%&lt;/span&gt;&lt;/span&gt;&lt;/span&gt;&lt;/span&gt;&lt;/span&gt; &lt;span class=&quot;has-text-grey-light&quot;&gt;born but or every blazing star or at an earthquake, ’&lt;/span&gt;&lt;/span&gt;&lt;/div&gt;&lt;/div&gt;&lt;/article&gt;\n",
       "\t\t\t&lt;/div&gt;\n",
       "\t\t&lt;/div&gt;\n",
       "\t&lt;/body&gt;\n",
       "&lt;/html&gt;\"\n",
       "\tframeborder=\"0\"\n",
       "\tallowfullscreen\n",
       "></iframe>\n",
       "<script>\n",
       "\tvar f = document.getElementById(\"vectorian-iframe-1614612249831673000\");\n",
       "\tf.onload = function() {\n",
       "\t\tf.height = f.contentWindow.document.body.scrollHeight + \"px\";\n",
       "\t};\n",
       "</script>\n",
       "\t\t"
      ],
      "text/plain": [
       "<vectorian.session.LabResult at 0x7fd4feb13430>"
      ]
     },
     "execution_count": 8,
     "metadata": {},
     "output_type": "execute_result"
    }
   ],
   "source": [
    "index.find(nlp(\"girl\"))"
   ]
  },
  {
   "cell_type": "code",
   "execution_count": 14,
   "id": "documentary-monitoring",
   "metadata": {},
   "outputs": [
    {
     "data": {
      "text/plain": [
       "{'version': '1.0',\n",
       " 'unique_id': 'William Shakespeare/All’s Well That Ends Well',\n",
       " 'origin': PosixPath('/Users/arbeit/Desktop/play.xml'),\n",
       " 'author': 'William Shakespeare',\n",
       " 'title': 'All’s Well That Ends Well',\n",
       " 'speakers': {1: 'Countess of Roussillon',\n",
       "  2: 'Bertram, Count of Roussillon',\n",
       "  3: 'Lafew',\n",
       "  4: 'Helena',\n",
       "  5: 'Parolles',\n",
       "  6: 'Countess’s Page',\n",
       "  7: 'King of France',\n",
       "  8: 'First French Lord Dumaine',\n",
       "  9: 'Second French Lord Dumaine',\n",
       "  10: 'Rinaldo',\n",
       "  11: 'Lavatch',\n",
       "  12: 'Both French Lords',\n",
       "  13: 'All French Lords',\n",
       "  14: 'First French Lord',\n",
       "  15: 'Second French Lord',\n",
       "  16: 'Fourth French Lord',\n",
       "  17: 'Duke of Florence',\n",
       "  18: 'An Old Widow of Florence',\n",
       "  19: 'Diana',\n",
       "  20: 'Mariana',\n",
       "  21: 'Both Mariana and Widow',\n",
       "  22: 'First Soldier as Interpreter',\n",
       "  23: 'Second Soldier',\n",
       "  24: 'Messenger',\n",
       "  25: 'Gentleman'}}"
      ]
     },
     "execution_count": 14,
     "metadata": {},
     "output_type": "execute_result"
    }
   ],
   "source": [
    "doc._json[\"metadata\"]"
   ]
  },
  {
   "cell_type": "code",
   "execution_count": null,
   "id": "ancient-automation",
   "metadata": {},
   "outputs": [],
   "source": []
  },
  {
   "cell_type": "code",
   "execution_count": 22,
   "id": "brilliant-selling",
   "metadata": {},
   "outputs": [
    {
     "data": {
      "text/html": [
       "<span style=\"background:lightgray; border-radius:0.25em;\">Hello, world!</span> <span style=\"border: 2px solid;\">world!</span>"
      ],
      "text/plain": [
       "<IPython.core.display.HTML object>"
      ]
     },
     "metadata": {},
     "output_type": "display_data"
    }
   ],
   "source": [
    "from IPython.core.display import display, HTML\n",
    "display(HTML('<span style=\"background:lightgray; border-radius:0.25em;\">Hello, world!</span> <span style=\"border: 2px solid;\">world!</span>'))"
   ]
  },
  {
   "cell_type": "code",
   "execution_count": 15,
   "id": "average-stick",
   "metadata": {},
   "outputs": [],
   "source": [
    "import holoviews as hv\n",
    "#hv.extension('bokeh')"
   ]
  },
  {
   "cell_type": "code",
   "execution_count": 16,
   "id": "exclusive-negotiation",
   "metadata": {},
   "outputs": [
    {
     "data": {
      "text/plain": [
       "holoviews.element.sankey.Sankey"
      ]
     },
     "execution_count": 16,
     "metadata": {},
     "output_type": "execute_result"
    }
   ],
   "source": [
    "sankey = hv.Sankey([\n",
    "    ['A', 'X', 5],\n",
    "    ['A', 'Y', 7],\n",
    "    ['A', 'Z', 6],\n",
    "    ['B', 'X', 2],\n",
    "    ['B', 'Y', 9],\n",
    "    ['B', 'Z', 4]]\n",
    ")\n",
    "#sankey.opts(width=600, height=400)\n",
    "\n",
    "type(sankey)"
   ]
  },
  {
   "cell_type": "code",
   "execution_count": 17,
   "id": "junior-twins",
   "metadata": {},
   "outputs": [],
   "source": [
    "#type(sankey.opts(width=600, height=400))"
   ]
  },
  {
   "cell_type": "code",
   "execution_count": 59,
   "id": "decimal-sensitivity",
   "metadata": {},
   "outputs": [
    {
     "name": "stdout",
     "output_type": "stream",
     "text": [
      "<class 'bokeh.plotting.figure.Figure'>\n"
     ]
    }
   ],
   "source": [
    "p = hv.render(sankey.opts(width=600, height=200), backend='bokeh')\n",
    "print(type(p))"
   ]
  },
  {
   "cell_type": "code",
   "execution_count": 60,
   "id": "broadband-carter",
   "metadata": {},
   "outputs": [
    {
     "data": {
      "text/html": [
       "<div style=\"display: table;\"><div style=\"display: table-row;\"><div style=\"display: table-cell;\"><b title=\"bokeh.plotting.figure.Figure\">Figure</b>(</div><div style=\"display: table-cell;\">id&nbsp;=&nbsp;'2227', <span id=\"2313\" style=\"cursor: pointer;\">&hellip;)</span></div></div><div class=\"2312\" style=\"display: none;\"><div style=\"display: table-cell;\"></div><div style=\"display: table-cell;\">above&nbsp;=&nbsp;[],</div></div><div class=\"2312\" style=\"display: none;\"><div style=\"display: table-cell;\"></div><div style=\"display: table-cell;\">align&nbsp;=&nbsp;'start',</div></div><div class=\"2312\" style=\"display: none;\"><div style=\"display: table-cell;\"></div><div style=\"display: table-cell;\">aspect_ratio&nbsp;=&nbsp;None,</div></div><div class=\"2312\" style=\"display: none;\"><div style=\"display: table-cell;\"></div><div style=\"display: table-cell;\">aspect_scale&nbsp;=&nbsp;1,</div></div><div class=\"2312\" style=\"display: none;\"><div style=\"display: table-cell;\"></div><div style=\"display: table-cell;\">background&nbsp;=&nbsp;None,</div></div><div class=\"2312\" style=\"display: none;\"><div style=\"display: table-cell;\"></div><div style=\"display: table-cell;\">background_fill_alpha&nbsp;=&nbsp;1.0,</div></div><div class=\"2312\" style=\"display: none;\"><div style=\"display: table-cell;\"></div><div style=\"display: table-cell;\">background_fill_color&nbsp;=&nbsp;'#ffffff',</div></div><div class=\"2312\" style=\"display: none;\"><div style=\"display: table-cell;\"></div><div style=\"display: table-cell;\">below&nbsp;=&nbsp;[LinearAxis(id='2236', ...)],</div></div><div class=\"2312\" style=\"display: none;\"><div style=\"display: table-cell;\"></div><div style=\"display: table-cell;\">border_fill_alpha&nbsp;=&nbsp;1.0,</div></div><div class=\"2312\" style=\"display: none;\"><div style=\"display: table-cell;\"></div><div style=\"display: table-cell;\">border_fill_color&nbsp;=&nbsp;'#ffffff',</div></div><div class=\"2312\" style=\"display: none;\"><div style=\"display: table-cell;\"></div><div style=\"display: table-cell;\">center&nbsp;=&nbsp;[Grid(id='2239', ...), Grid(id='2243', ...)],</div></div><div class=\"2312\" style=\"display: none;\"><div style=\"display: table-cell;\"></div><div style=\"display: table-cell;\">css_classes&nbsp;=&nbsp;[],</div></div><div class=\"2312\" style=\"display: none;\"><div style=\"display: table-cell;\"></div><div style=\"display: table-cell;\">disabled&nbsp;=&nbsp;False,</div></div><div class=\"2312\" style=\"display: none;\"><div style=\"display: table-cell;\"></div><div style=\"display: table-cell;\">extra_x_ranges&nbsp;=&nbsp;{},</div></div><div class=\"2312\" style=\"display: none;\"><div style=\"display: table-cell;\"></div><div style=\"display: table-cell;\">extra_y_ranges&nbsp;=&nbsp;{},</div></div><div class=\"2312\" style=\"display: none;\"><div style=\"display: table-cell;\"></div><div style=\"display: table-cell;\">frame_height&nbsp;=&nbsp;None,</div></div><div class=\"2312\" style=\"display: none;\"><div style=\"display: table-cell;\"></div><div style=\"display: table-cell;\">frame_width&nbsp;=&nbsp;None,</div></div><div class=\"2312\" style=\"display: none;\"><div style=\"display: table-cell;\"></div><div style=\"display: table-cell;\">height&nbsp;=&nbsp;200,</div></div><div class=\"2312\" style=\"display: none;\"><div style=\"display: table-cell;\"></div><div style=\"display: table-cell;\">height_policy&nbsp;=&nbsp;'auto',</div></div><div class=\"2312\" style=\"display: none;\"><div style=\"display: table-cell;\"></div><div style=\"display: table-cell;\">hidpi&nbsp;=&nbsp;True,</div></div><div class=\"2312\" style=\"display: none;\"><div style=\"display: table-cell;\"></div><div style=\"display: table-cell;\">inner_height&nbsp;=&nbsp;0,</div></div><div class=\"2312\" style=\"display: none;\"><div style=\"display: table-cell;\"></div><div style=\"display: table-cell;\">inner_width&nbsp;=&nbsp;0,</div></div><div class=\"2312\" style=\"display: none;\"><div style=\"display: table-cell;\"></div><div style=\"display: table-cell;\">js_event_callbacks&nbsp;=&nbsp;{},</div></div><div class=\"2312\" style=\"display: none;\"><div style=\"display: table-cell;\"></div><div style=\"display: table-cell;\">js_property_callbacks&nbsp;=&nbsp;{},</div></div><div class=\"2312\" style=\"display: none;\"><div style=\"display: table-cell;\"></div><div style=\"display: table-cell;\">left&nbsp;=&nbsp;[LinearAxis(id='2240', ...)],</div></div><div class=\"2312\" style=\"display: none;\"><div style=\"display: table-cell;\"></div><div style=\"display: table-cell;\">lod_factor&nbsp;=&nbsp;10,</div></div><div class=\"2312\" style=\"display: none;\"><div style=\"display: table-cell;\"></div><div style=\"display: table-cell;\">lod_interval&nbsp;=&nbsp;300,</div></div><div class=\"2312\" style=\"display: none;\"><div style=\"display: table-cell;\"></div><div style=\"display: table-cell;\">lod_threshold&nbsp;=&nbsp;2000,</div></div><div class=\"2312\" style=\"display: none;\"><div style=\"display: table-cell;\"></div><div style=\"display: table-cell;\">lod_timeout&nbsp;=&nbsp;500,</div></div><div class=\"2312\" style=\"display: none;\"><div style=\"display: table-cell;\"></div><div style=\"display: table-cell;\">margin&nbsp;=&nbsp;None,</div></div><div class=\"2312\" style=\"display: none;\"><div style=\"display: table-cell;\"></div><div style=\"display: table-cell;\">match_aspect&nbsp;=&nbsp;False,</div></div><div class=\"2312\" style=\"display: none;\"><div style=\"display: table-cell;\"></div><div style=\"display: table-cell;\">max_height&nbsp;=&nbsp;None,</div></div><div class=\"2312\" style=\"display: none;\"><div style=\"display: table-cell;\"></div><div style=\"display: table-cell;\">max_width&nbsp;=&nbsp;None,</div></div><div class=\"2312\" style=\"display: none;\"><div style=\"display: table-cell;\"></div><div style=\"display: table-cell;\">min_border&nbsp;=&nbsp;5,</div></div><div class=\"2312\" style=\"display: none;\"><div style=\"display: table-cell;\"></div><div style=\"display: table-cell;\">min_border_bottom&nbsp;=&nbsp;10,</div></div><div class=\"2312\" style=\"display: none;\"><div style=\"display: table-cell;\"></div><div style=\"display: table-cell;\">min_border_left&nbsp;=&nbsp;10,</div></div><div class=\"2312\" style=\"display: none;\"><div style=\"display: table-cell;\"></div><div style=\"display: table-cell;\">min_border_right&nbsp;=&nbsp;10,</div></div><div class=\"2312\" style=\"display: none;\"><div style=\"display: table-cell;\"></div><div style=\"display: table-cell;\">min_border_top&nbsp;=&nbsp;10,</div></div><div class=\"2312\" style=\"display: none;\"><div style=\"display: table-cell;\"></div><div style=\"display: table-cell;\">min_height&nbsp;=&nbsp;None,</div></div><div class=\"2312\" style=\"display: none;\"><div style=\"display: table-cell;\"></div><div style=\"display: table-cell;\">min_width&nbsp;=&nbsp;None,</div></div><div class=\"2312\" style=\"display: none;\"><div style=\"display: table-cell;\"></div><div style=\"display: table-cell;\">name&nbsp;=&nbsp;None,</div></div><div class=\"2312\" style=\"display: none;\"><div style=\"display: table-cell;\"></div><div style=\"display: table-cell;\">outer_height&nbsp;=&nbsp;0,</div></div><div class=\"2312\" style=\"display: none;\"><div style=\"display: table-cell;\"></div><div style=\"display: table-cell;\">outer_width&nbsp;=&nbsp;0,</div></div><div class=\"2312\" style=\"display: none;\"><div style=\"display: table-cell;\"></div><div style=\"display: table-cell;\">outline_line_alpha&nbsp;=&nbsp;0,</div></div><div class=\"2312\" style=\"display: none;\"><div style=\"display: table-cell;\"></div><div style=\"display: table-cell;\">outline_line_cap&nbsp;=&nbsp;'butt',</div></div><div class=\"2312\" style=\"display: none;\"><div style=\"display: table-cell;\"></div><div style=\"display: table-cell;\">outline_line_color&nbsp;=&nbsp;'#e5e5e5',</div></div><div class=\"2312\" style=\"display: none;\"><div style=\"display: table-cell;\"></div><div style=\"display: table-cell;\">outline_line_dash&nbsp;=&nbsp;[],</div></div><div class=\"2312\" style=\"display: none;\"><div style=\"display: table-cell;\"></div><div style=\"display: table-cell;\">outline_line_dash_offset&nbsp;=&nbsp;0,</div></div><div class=\"2312\" style=\"display: none;\"><div style=\"display: table-cell;\"></div><div style=\"display: table-cell;\">outline_line_join&nbsp;=&nbsp;'bevel',</div></div><div class=\"2312\" style=\"display: none;\"><div style=\"display: table-cell;\"></div><div style=\"display: table-cell;\">outline_line_width&nbsp;=&nbsp;1,</div></div><div class=\"2312\" style=\"display: none;\"><div style=\"display: table-cell;\"></div><div style=\"display: table-cell;\">output_backend&nbsp;=&nbsp;'canvas',</div></div><div class=\"2312\" style=\"display: none;\"><div style=\"display: table-cell;\"></div><div style=\"display: table-cell;\">renderers&nbsp;=&nbsp;[GraphRenderer(id='2274', ...), GlyphRenderer(id='2297', ...), GlyphRenderer(id='2303', ...)],</div></div><div class=\"2312\" style=\"display: none;\"><div style=\"display: table-cell;\"></div><div style=\"display: table-cell;\">reset_policy&nbsp;=&nbsp;'standard',</div></div><div class=\"2312\" style=\"display: none;\"><div style=\"display: table-cell;\"></div><div style=\"display: table-cell;\">right&nbsp;=&nbsp;[],</div></div><div class=\"2312\" style=\"display: none;\"><div style=\"display: table-cell;\"></div><div style=\"display: table-cell;\">sizing_mode&nbsp;=&nbsp;'fixed',</div></div><div class=\"2312\" style=\"display: none;\"><div style=\"display: table-cell;\"></div><div style=\"display: table-cell;\">subscribed_events&nbsp;=&nbsp;[],</div></div><div class=\"2312\" style=\"display: none;\"><div style=\"display: table-cell;\"></div><div style=\"display: table-cell;\">syncable&nbsp;=&nbsp;True,</div></div><div class=\"2312\" style=\"display: none;\"><div style=\"display: table-cell;\"></div><div style=\"display: table-cell;\">tags&nbsp;=&nbsp;[],</div></div><div class=\"2312\" style=\"display: none;\"><div style=\"display: table-cell;\"></div><div style=\"display: table-cell;\">title&nbsp;=&nbsp;Title(id='2228', ...),</div></div><div class=\"2312\" style=\"display: none;\"><div style=\"display: table-cell;\"></div><div style=\"display: table-cell;\">title_location&nbsp;=&nbsp;'above',</div></div><div class=\"2312\" style=\"display: none;\"><div style=\"display: table-cell;\"></div><div style=\"display: table-cell;\">toolbar&nbsp;=&nbsp;Toolbar(id='2251', ...),</div></div><div class=\"2312\" style=\"display: none;\"><div style=\"display: table-cell;\"></div><div style=\"display: table-cell;\">toolbar_location&nbsp;=&nbsp;'right',</div></div><div class=\"2312\" style=\"display: none;\"><div style=\"display: table-cell;\"></div><div style=\"display: table-cell;\">toolbar_sticky&nbsp;=&nbsp;True,</div></div><div class=\"2312\" style=\"display: none;\"><div style=\"display: table-cell;\"></div><div style=\"display: table-cell;\">visible&nbsp;=&nbsp;True,</div></div><div class=\"2312\" style=\"display: none;\"><div style=\"display: table-cell;\"></div><div style=\"display: table-cell;\">width&nbsp;=&nbsp;600,</div></div><div class=\"2312\" style=\"display: none;\"><div style=\"display: table-cell;\"></div><div style=\"display: table-cell;\">width_policy&nbsp;=&nbsp;'auto',</div></div><div class=\"2312\" style=\"display: none;\"><div style=\"display: table-cell;\"></div><div style=\"display: table-cell;\">x_range&nbsp;=&nbsp;Range1d(id='2224', ...),</div></div><div class=\"2312\" style=\"display: none;\"><div style=\"display: table-cell;\"></div><div style=\"display: table-cell;\">x_scale&nbsp;=&nbsp;LinearScale(id='2232', ...),</div></div><div class=\"2312\" style=\"display: none;\"><div style=\"display: table-cell;\"></div><div style=\"display: table-cell;\">y_range&nbsp;=&nbsp;Range1d(id='2225', ...),</div></div><div class=\"2312\" style=\"display: none;\"><div style=\"display: table-cell;\"></div><div style=\"display: table-cell;\">y_scale&nbsp;=&nbsp;LinearScale(id='2234', ...))</div></div></div>\n",
       "<script>\n",
       "(function() {\n",
       "  var expanded = false;\n",
       "  var ellipsis = document.getElementById(\"2313\");\n",
       "  ellipsis.addEventListener(\"click\", function() {\n",
       "    var rows = document.getElementsByClassName(\"2312\");\n",
       "    for (var i = 0; i < rows.length; i++) {\n",
       "      var el = rows[i];\n",
       "      el.style.display = expanded ? \"none\" : \"table-row\";\n",
       "    }\n",
       "    ellipsis.innerHTML = expanded ? \"&hellip;)\" : \"&lsaquo;&lsaquo;&lsaquo;\";\n",
       "    expanded = !expanded;\n",
       "  });\n",
       "})();\n",
       "</script>\n"
      ],
      "text/plain": [
       "Figure(id='2227', ...)"
      ]
     },
     "execution_count": 60,
     "metadata": {},
     "output_type": "execute_result"
    }
   ],
   "source": [
    "p"
   ]
  },
  {
   "cell_type": "code",
   "execution_count": 61,
   "id": "collect-institute",
   "metadata": {},
   "outputs": [],
   "source": [
    "import bokeh.plotting\n",
    "#bokeh.plotting.output_notebook()\n",
    "\n",
    "import json\n",
    "import bokeh.embed\n",
    "# use correct div id here!\n",
    "item_text = json.dumps(bokeh.embed.json_item(p, \"bokeh_ch1\"))"
   ]
  },
  {
   "cell_type": "code",
   "execution_count": 62,
   "id": "strong-change",
   "metadata": {},
   "outputs": [
    {
     "data": {
      "text/html": [
       "\n",
       "<iframe id=\"my_iframe\"\n",
       "width=800\n",
       "height=400\n",
       "srcdoc=\"\n",
       "&lt;html&gt;\n",
       "&lt;head&gt;\n",
       "&lt;script src=&quot;https://ajax.googleapis.com/ajax/libs/jquery/3.5.1/jquery.min.js&quot;&gt;&lt;/script&gt;\n",
       "&lt;script src=&quot;https://cdn.bokeh.org/bokeh/release/bokeh-2.3.0.min.js&quot;\n",
       "        crossorigin=&quot;anonymous&quot;&gt;&lt;/script&gt;\n",
       "&lt;script src=&quot;https://cdn.bokeh.org/bokeh/release/bokeh-widgets-2.3.0.min.js&quot;\n",
       "        crossorigin=&quot;anonymous&quot;&gt;&lt;/script&gt;\n",
       "&lt;script src=&quot;https://cdn.bokeh.org/bokeh/release/bokeh-tables-2.3.0.min.js&quot;\n",
       "        crossorigin=&quot;anonymous&quot;&gt;&lt;/script&gt;\n",
       "&lt;/head&gt;\n",
       "&lt;body&gt;\n",
       "\n",
       "    some div: &lt;div id=&quot;bokeh_ch1&quot;&gt;&lt;/div&gt;\n",
       "    bla.\n",
       "\n",
       "&lt;script&gt;\n",
       "\n",
       "/* $(&#x27;#bokeh_ch1&#x27;).text(&quot;hi&quot;); */\n",
       "\n",
       "$(&#x27;#bokeh_ch1&#x27;).ready(function () {\n",
       "    item = JSON.parse(&#x27;{&quot;target_id&quot;: &quot;bokeh_ch1&quot;, &quot;root_id&quot;: &quot;2227&quot;, &quot;doc&quot;: {&quot;defs&quot;: [{&quot;extends&quot;: null, &quot;module&quot;: null, &quot;name&quot;: &quot;DataModel&quot;, &quot;overrides&quot;: [], &quot;properties&quot;: []}], &quot;roots&quot;: {&quot;references&quot;: [{&quot;attributes&quot;: {}, &quot;id&quot;: &quot;2232&quot;, &quot;type&quot;: &quot;LinearScale&quot;}, {&quot;attributes&quot;: {&quot;text_baseline&quot;: {&quot;value&quot;: &quot;middle&quot;}, &quot;text_color&quot;: {&quot;value&quot;: &quot;black&quot;}, &quot;text_font_size&quot;: {&quot;value&quot;: &quot;8pt&quot;}, &quot;x&quot;: {&quot;field&quot;: &quot;x&quot;}, &quot;y&quot;: {&quot;field&quot;: &quot;y&quot;}}, &quot;id&quot;: &quot;2301&quot;, &quot;type&quot;: &quot;Text&quot;}, {&quot;attributes&quot;: {}, &quot;id&quot;: &quot;2324&quot;, &quot;type&quot;: &quot;UnionRenderers&quot;}, {&quot;attributes&quot;: {&quot;fill_alpha&quot;: {&quot;value&quot;: 0.2}, &quot;line_alpha&quot;: {&quot;value&quot;: 0.2}, &quot;xs&quot;: {&quot;field&quot;: &quot;xs&quot;}, &quot;ys&quot;: {&quot;field&quot;: &quot;ys&quot;}}, &quot;id&quot;: &quot;2285&quot;, &quot;type&quot;: &quot;Patches&quot;}, {&quot;attributes&quot;: {&quot;data&quot;: {&quot;Value&quot;: [5, 7, 6, 2, 9, 4], &quot;end&quot;: {&quot;__ndarray__&quot;: &quot;AgAAAAMAAAAEAAAAAgAAAAMAAAAEAAAA&quot;, &quot;dtype&quot;: &quot;int32&quot;, &quot;order&quot;: &quot;little&quot;, &quot;shape&quot;: [6]}, &quot;end_values&quot;: [&quot;X&quot;, &quot;Y&quot;, &quot;Z&quot;, &quot;X&quot;, &quot;Y&quot;, &quot;Z&quot;], &quot;start&quot;: {&quot;__ndarray__&quot;: &quot;AAAAAAAAAAAAAAAAAQAAAAEAAAABAAAA&quot;, &quot;dtype&quot;: &quot;int32&quot;, &quot;order&quot;: &quot;little&quot;, &quot;shape&quot;: [6]}, &quot;start_values&quot;: [&quot;A&quot;, &quot;A&quot;, &quot;A&quot;, &quot;B&quot;, &quot;B&quot;, &quot;B&quot;], &quot;xs&quot;: [{&quot;__ndarray__&quot;: &quot;AAAAAAAALkAAAAAAAAAuQAAAAAAAAC5AaNk40k0MRkAkPIj/5gFSQBQID8RqtlhAQ2p8t9wmX0A6/k2tM6tiQDOsHJcapGVA8QuQWbh/aEBQ6g01oj9rQDQU/Glt5W1APCtgnFc5cEAEP+BwfnRxQN0rsdL1pHJAOdgFYojLc0CLKhG/AOl0QEAJBoop/nVAyFoXY80Ld0CXBXjqthJ4QBnwWsCwE3lAwgDzhIUPekD/HXPY/wZ7QEYuDlvq+ntAARj3rA/sfEClwWBuOtt9QKARfj81yX5AYu6BwMq2f0Atn8/IYlKAQP9zhCn4yYBA3eh40opCgUAAccYTgLyBQJ5/hj09OIJA84fSnye2gkA0/cOKpDaDQJxSdE4ZuoNAYPv8OutAhEC6anegf8uEQOIT/c47WoVAEGqnFoXthUB+4I/HwIWGQGDqzzFUI4dA8vqApaTGh0BshbxyF3CIQAT9m+kRIIlA89Q4WvnWiUBwgKwUM5WKQLdyEGkkW4tA/R5+pzIpjEB7+A4gw/+MQGly3CI7341AAAAAAADIjkAAAAAAAMiOQAAAAAAAyI5AAAAAAADIjkBqctwiO9+NQHv4DiDD/4xA/h5+pzIpjEC4chBpJFuLQHKArBQzlYpA89Q4WvnWiUAF/ZvpESCJQG2FvHIXcIhA9PqApaTGh0Bh6s8xVCOHQH7gj8fAhYZAEGqnFoXthUDiE/3OO1qFQLtqd6B/y4RAYfv8OutAhECdUnROGbqDQDX9w4qkNoNA84fSnye2gkCff4Y9PTiCQP9wxhOAvIFA3eh40opCgUAAdIQp+MmAQC6fz8hiUoBAY+6BwMq2f0CfEX4/Ncl+QKXBYG46231AAxj3rA/sfEBGLg5b6vp7QAEec9j/BntAxADzhIUPekAb8FrAsBN5QJcFeOq2EnhAyVoXY80Ld0A/CQaKKf51QI0qEb8A6XRAPNgFYojLc0DfK7HS9aRyQAU/4HB+dHFAQCtgnFc5cEA3FPxpbeVtQFPqDTWiP2tA8guQWbh/aEA1rByXGqRlQD/+Ta0zq2JATGp8t9wmX0AaCA/EarZYQCk8iP/mAVJAbNk40k0MRkAAAAAAAAAuQA==&quot;, &quot;dtype&quot;: &quot;float64&quot;, &quot;order&quot;: &quot;little&quot;, &quot;shape&quot;: [104]}, {&quot;__ndarray__&quot;: &quot;AAAAAAAALkAAAAAAAAAuQAAAAAAAAC5AaNk40k0MRkAkPIj/5gFSQBQID8RqtlhAQ2p8t9wmX0A6/k2tM6tiQDOsHJcapGVA8QuQWbh/aEBQ6g01oj9rQDQU/Glt5W1APCtgnFc5cEAEP+BwfnRxQN0rsdL1pHJAOdgFYojLc0CLKhG/AOl0QEAJBoop/nVAyFoXY80Ld0CXBXjqthJ4QBnwWsCwE3lAwgDzhIUPekD/HXPY/wZ7QEYuDlvq+ntAARj3rA/sfEClwWBuOtt9QKARfj81yX5AYu6BwMq2f0Atn8/IYlKAQP9zhCn4yYBA3eh40opCgUAAccYTgLyBQJ5/hj09OIJA84fSnye2gkA0/cOKpDaDQJxSdE4ZuoNAYPv8OutAhEC6anegf8uEQOIT/c47WoVAEGqnFoXthUB+4I/HwIWGQGDqzzFUI4dA8vqApaTGh0BshbxyF3CIQAT9m+kRIIlA89Q4WvnWiUBwgKwUM5WKQLdyEGkkW4tA/R5+pzIpjEB7+A4gw/+MQGly3CI7341AAAAAAADIjkAAAAAAAMiOQAAAAAAAyI5AAAAAAADIjkBqctwiO9+NQHv4DiDD/4xA/h5+pzIpjEC4chBpJFuLQHKArBQzlYpA89Q4WvnWiUAF/ZvpESCJQG2FvHIXcIhA9PqApaTGh0Bh6s8xVCOHQH7gj8fAhYZAEGqnFoXthUDiE/3OO1qFQLtqd6B/y4RAYfv8OutAhECdUnROGbqDQDX9w4qkNoNA84fSnye2gkCff4Y9PTiCQP9wxhOAvIFA3eh40opCgUAAdIQp+MmAQC6fz8hiUoBAY+6BwMq2f0CfEX4/Ncl+QKXBYG46231AAxj3rA/sfEBGLg5b6vp7QAEec9j/BntAxADzhIUPekAb8FrAsBN5QJcFeOq2EnhAyVoXY80Ld0A/CQaKKf51QI0qEb8A6XRAPNgFYojLc0DfK7HS9aRyQAU/4HB+dHFAQCtgnFc5cEA3FPxpbeVtQFPqDTWiP2tA8guQWbh/aEA1rByXGqRlQD/+Ta0zq2JATGp8t9wmX0AaCA/EarZYQCk8iP/mAVJAbNk40k0MRkAAAAAAAAAuQA==&quot;, &quot;dtype&quot;: &quot;float64&quot;, &quot;order&quot;: &quot;little&quot;, &quot;shape&quot;: [104]}, {&quot;__ndarray__&quot;: &quot;AAAAAAAALkAAAAAAAAAuQAAAAAAAAC5AaNk40k0MRkAkPIj/5gFSQBQID8RqtlhAQ2p8t9wmX0A6/k2tM6tiQDOsHJcapGVA8QuQWbh/aEBQ6g01oj9rQDQU/Glt5W1APCtgnFc5cEAEP+BwfnRxQN0rsdL1pHJAOdgFYojLc0CLKhG/AOl0QEAJBoop/nVAyFoXY80Ld0CXBXjqthJ4QBnwWsCwE3lAwgDzhIUPekD/HXPY/wZ7QEYuDlvq+ntAARj3rA/sfEClwWBuOtt9QKARfj81yX5AYu6BwMq2f0Atn8/IYlKAQP9zhCn4yYBA3eh40opCgUAAccYTgLyBQJ5/hj09OIJA84fSnye2gkA0/cOKpDaDQJxSdE4ZuoNAYPv8OutAhEC6anegf8uEQOIT/c47WoVAEGqnFoXthUB+4I/HwIWGQGDqzzFUI4dA8vqApaTGh0BshbxyF3CIQAT9m+kRIIlA89Q4WvnWiUBwgKwUM5WKQLdyEGkkW4tA/R5+pzIpjEB7+A4gw/+MQGly3CI7341AAAAAAADIjkAAAAAAAMiOQAAAAAAAyI5AAAAAAADIjkBqctwiO9+NQHv4DiDD/4xA/h5+pzIpjEC4chBpJFuLQHKArBQzlYpA89Q4WvnWiUAF/ZvpESCJQG2FvHIXcIhA9PqApaTGh0Bh6s8xVCOHQH7gj8fAhYZAEGqnFoXthUDiE/3OO1qFQLtqd6B/y4RAYfv8OutAhECdUnROGbqDQDX9w4qkNoNA84fSnye2gkCff4Y9PTiCQP9wxhOAvIFA3eh40opCgUAAdIQp+MmAQC6fz8hiUoBAY+6BwMq2f0CfEX4/Ncl+QKXBYG46231AAxj3rA/sfEBGLg5b6vp7QAEec9j/BntAxADzhIUPekAb8FrAsBN5QJcFeOq2EnhAyVoXY80Ld0A/CQaKKf51QI0qEb8A6XRAPNgFYojLc0DfK7HS9aRyQAU/4HB+dHFAQCtgnFc5cEA3FPxpbeVtQFPqDTWiP2tA8guQWbh/aEA1rByXGqRlQD/+Ta0zq2JATGp8t9wmX0AaCA/EarZYQCk8iP/mAVJAbNk40k0MRkAAAAAAAAAuQA==&quot;, &quot;dtype&quot;: &quot;float64&quot;, &quot;order&quot;: &quot;little&quot;, &quot;shape&quot;: [104]}, {&quot;__ndarray__&quot;: &quot;AAAAAAAALkAAAAAAAAAuQAAAAAAAAC5AaNk40k0MRkAkPIj/5gFSQBQID8RqtlhAQ2p8t9wmX0A6/k2tM6tiQDOsHJcapGVA8QuQWbh/aEBQ6g01oj9rQDQU/Glt5W1APCtgnFc5cEAEP+BwfnRxQN0rsdL1pHJAOdgFYojLc0CLKhG/AOl0QEAJBoop/nVAyFoXY80Ld0CXBXjqthJ4QBnwWsCwE3lAwgDzhIUPekD/HXPY/wZ7QEYuDlvq+ntAARj3rA/sfEClwWBuOtt9QKARfj81yX5AYu6BwMq2f0Atn8/IYlKAQP9zhCn4yYBA3eh40opCgUAAccYTgLyBQJ5/hj09OIJA84fSnye2gkA0/cOKpDaDQJxSdE4ZuoNAYPv8OutAhEC6anegf8uEQOIT/c47WoVAEGqnFoXthUB+4I/HwIWGQGDqzzFUI4dA8vqApaTGh0BshbxyF3CIQAT9m+kRIIlA89Q4WvnWiUBwgKwUM5WKQLdyEGkkW4tA/R5+pzIpjEB7+A4gw/+MQGly3CI7341AAAAAAADIjkAAAAAAAMiOQAAAAAAAyI5AAAAAAADIjkBqctwiO9+NQHv4DiDD/4xA/h5+pzIpjEC4chBpJFuLQHKArBQzlYpA89Q4WvnWiUAF/ZvpESCJQG2FvHIXcIhA9PqApaTGh0Bh6s8xVCOHQH7gj8fAhYZAEGqnFoXthUDiE/3OO1qFQLtqd6B/y4RAYfv8OutAhECdUnROGbqDQDX9w4qkNoNA84fSnye2gkCff4Y9PTiCQP9wxhOAvIFA3eh40opCgUAAdIQp+MmAQC6fz8hiUoBAY+6BwMq2f0CfEX4/Ncl+QKXBYG46231AAxj3rA/sfEBGLg5b6vp7QAEec9j/BntAxADzhIUPekAb8FrAsBN5QJcFeOq2EnhAyVoXY80Ld0A/CQaKKf51QI0qEb8A6XRAPNgFYojLc0DfK7HS9aRyQAU/4HB+dHFAQCtgnFc5cEA3FPxpbeVtQFPqDTWiP2tA8guQWbh/aEA1rByXGqRlQD/+Ta0zq2JATGp8t9wmX0AaCA/EarZYQCk8iP/mAVJAbNk40k0MRkAAAAAAAAAuQA==&quot;, &quot;dtype&quot;: &quot;float64&quot;, &quot;order&quot;: &quot;little&quot;, &quot;shape&quot;: [104]}, {&quot;__ndarray__&quot;: &quot;AAAAAAAALkAAAAAAAAAuQAAAAAAAAC5AaNk40k0MRkAkPIj/5gFSQBQID8RqtlhAQ2p8t9wmX0A6/k2tM6tiQDOsHJcapGVA8QuQWbh/aEBQ6g01oj9rQDQU/Glt5W1APCtgnFc5cEAEP+BwfnRxQN0rsdL1pHJAOdgFYojLc0CLKhG/AOl0QEAJBoop/nVAyFoXY80Ld0CXBXjqthJ4QBnwWsCwE3lAwgDzhIUPekD/HXPY/wZ7QEYuDlvq+ntAARj3rA/sfEClwWBuOtt9QKARfj81yX5AYu6BwMq2f0Atn8/IYlKAQP9zhCn4yYBA3eh40opCgUAAccYTgLyBQJ5/hj09OIJA84fSnye2gkA0/cOKpDaDQJxSdE4ZuoNAYPv8OutAhEC6anegf8uEQOIT/c47WoVAEGqnFoXthUB+4I/HwIWGQGDqzzFUI4dA8vqApaTGh0BshbxyF3CIQAT9m+kRIIlA89Q4WvnWiUBwgKwUM5WKQLdyEGkkW4tA/R5+pzIpjEB7+A4gw/+MQGly3CI7341AAAAAAADIjkAAAAAAAMiOQAAAAAAAyI5AAAAAAADIjkBqctwiO9+NQHv4DiDD/4xA/h5+pzIpjEC4chBpJFuLQHKArBQzlYpA89Q4WvnWiUAF/ZvpESCJQG2FvHIXcIhA9PqApaTGh0Bh6s8xVCOHQH7gj8fAhYZAEGqnFoXthUDiE/3OO1qFQLtqd6B/y4RAYfv8OutAhECdUnROGbqDQDX9w4qkNoNA84fSnye2gkCff4Y9PTiCQP9wxhOAvIFA3eh40opCgUAAdIQp+MmAQC6fz8hiUoBAY+6BwMq2f0CfEX4/Ncl+QKXBYG46231AAxj3rA/sfEBGLg5b6vp7QAEec9j/BntAxADzhIUPekAb8FrAsBN5QJcFeOq2EnhAyVoXY80Ld0A/CQaKKf51QI0qEb8A6XRAPNgFYojLc0DfK7HS9aRyQAU/4HB+dHFAQCtgnFc5cEA3FPxpbeVtQFPqDTWiP2tA8guQWbh/aEA1rByXGqRlQD/+Ta0zq2JATGp8t9wmX0AaCA/EarZYQCk8iP/mAVJAbNk40k0MRkAAAAAAAAAuQA==&quot;, &quot;dtype&quot;: &quot;float64&quot;, &quot;order&quot;: &quot;little&quot;, &quot;shape&quot;: [104]}, {&quot;__ndarray__&quot;: &quot;AAAAAAAALkAAAAAAAAAuQAAAAAAAAC5AaNk40k0MRkAkPIj/5gFSQBQID8RqtlhAQ2p8t9wmX0A6/k2tM6tiQDOsHJcapGVA8QuQWbh/aEBQ6g01oj9rQDQU/Glt5W1APCtgnFc5cEAEP+BwfnRxQN0rsdL1pHJAOdgFYojLc0CLKhG/AOl0QEAJBoop/nVAyFoXY80Ld0CXBXjqthJ4QBnwWsCwE3lAwgDzhIUPekD/HXPY/wZ7QEYuDlvq+ntAARj3rA/sfEClwWBuOtt9QKARfj81yX5AYu6BwMq2f0Atn8/IYlKAQP9zhCn4yYBA3eh40opCgUAAccYTgLyBQJ5/hj09OIJA84fSnye2gkA0/cOKpDaDQJxSdE4ZuoNAYPv8OutAhEC6anegf8uEQOIT/c47WoVAEGqnFoXthUB+4I/HwIWGQGDqzzFUI4dA8vqApaTGh0BshbxyF3CIQAT9m+kRIIlA89Q4WvnWiUBwgKwUM5WKQLdyEGkkW4tA/R5+pzIpjEB7+A4gw/+MQGly3CI7341AAAAAAADIjkAAAAAAAMiOQAAAAAAAyI5AAAAAAADIjkBqctwiO9+NQHv4DiDD/4xA/h5+pzIpjEC4chBpJFuLQHKArBQzlYpA89Q4WvnWiUAF/ZvpESCJQG2FvHIXcIhA9PqApaTGh0Bh6s8xVCOHQH7gj8fAhYZAEGqnFoXthUDiE/3OO1qFQLtqd6B/y4RAYfv8OutAhECdUnROGbqDQDX9w4qkNoNA84fSnye2gkCff4Y9PTiCQP9wxhOAvIFA3eh40opCgUAAdIQp+MmAQC6fz8hiUoBAY+6BwMq2f0CfEX4/Ncl+QKXBYG46231AAxj3rA/sfEBGLg5b6vp7QAEec9j/BntAxADzhIUPekAb8FrAsBN5QJcFeOq2EnhAyVoXY80Ld0A/CQaKKf51QI0qEb8A6XRAPNgFYojLc0DfK7HS9aRyQAU/4HB+dHFAQCtgnFc5cEA3FPxpbeVtQFPqDTWiP2tA8guQWbh/aEA1rByXGqRlQD/+Ta0zq2JATGp8t9wmX0AaCA/EarZYQCk8iP/mAVJAbNk40k0MRkAAAAAAAAAuQA==&quot;, &quot;dtype&quot;: &quot;float64&quot;, &quot;order&quot;: &quot;little&quot;, &quot;shape&quot;: [104]}], &quot;ys&quot;: [{&quot;__ndarray__&quot;: &quot;ULLJJptsVkCM//////8zQIz//////zNAW/5ykLD5M0DtH29iG+czQPob6SbGyDNANqrVjjafM0BYgilL8mozQBVc2Qx/LDNAKO/ZhGLkMkBD8x9kIpMyQBwgoFtEOTJAay1PHE7XMUDm0iFXxW0xQETIDL0v/TBAPMUE/xKGMECCgf7N9AgwQJ1p3bW1DC9ArC2UrZX9LUCfvgrllOUsQOOLKr6+xStA4wTdmh6fKkAPmQvdv3IpQNK3n+atQShAmtCCGfQMJ0DSUp7XndUlQOat24K2nCRAQ1EkfUljI0BXrGEoYioiQJAufeYL8yBAq47AMqR8H0AxzOhFgBodQIv0RcrCwRpAjuaqg4J0GEAWgeo11jQWQPui16TUBBRAGStFlJTmEUCT8AuQWbgPQMLS2QdozwtAfLqZF4IWCEBrZfFG1ZEEQEyRhh2PRQFAkff9Rbpr/D8qxQC+2c32P80GYbLXufE/vG/UZB5w6j+Rp8+atqHiP5hXlUpcMtg/C81xi+ycyz8Lpt+QneS4P0XiBDS+PZk/AAAAAAAAID0AAAAAAAAgPW+yySabbFFAb7LJJptsUUC78qwCL25RQFbqLU7UclFAVGsPnWl6UUDFRxSDzYRRQLxR/5PekVFATFuTY3uhUUCJNpOFgrNRQIK1wY3Sx1FATKrhD0reUUD35rWfx/ZRQJc9AdEpEVJAQICGN08tUkADgQhnFktSQPIRSvNdalJAHwUOcASLUkCdLBdx6KxSQH9aKIroz1JA1mAET+PzUkC2EW5TtxhTQDA/KCtDPlNAV7v1aWVkU0A+WJmj/IpTQPfn1WvnsVNAljxuVgTZU0ApKCX3MQBUQMd8veFOJ1RAgAz6qTlOVEBoqZ3j0HRUQI8layLzmlRACVMl+n7AVEDpA4/+UuVUQEAKa8NNCVVAIjh83E0sVUCgX4XdMU5VQM5SSVrYblVAvOOK5h+OVUB+5AwW56tVQCcnknwMyFVAyH3drW7iVUB0urE97PpVQD6v0b9jEVZANy4AyLMlVkByCQDqujdWQAMTlLlXR1ZA+hx/ymhUVkBr+YOwzF5WQGh6Zf9hZlZABHLmSgdrVkBQsskmm2xWQA==&quot;, &quot;dtype&quot;: &quot;float64&quot;, &quot;order&quot;: &quot;little&quot;, &quot;shape&quot;: [104]}, {&quot;__ndarray__&quot;: &quot;2qKLLrpoZ0BQsskmm2xWQFCyySabbFZAHsY8G85uVkAWZVXpR3VWQIikMvrZf1ZAwJnztlWOVkATWreIjKBWQM36nNhPtlZAQ5HDD3HPVkC+MkqXwetWQJL0T9gSC1dADezzOzYtV0CELlUr/VFXQEHRkg85eVdAmOnLUbuiV0DXjB9bVc5XQE/QrJTY+1dAUMmSZxYrWEAnjfA84FtYQCYx5X0HjlhAnsqPk13BWEDebg/ns/VYQDYzg+HbKllA+CwK7KZgWUBwccNv5pZZQPEVztVrzVlAyi9JhwgEWkBL1FPtjTpaQMMYDXHNcFpAhhKUe5imWkDd1gd2wNtaQB57h8kWEFtAlhQy32xDW0CWuCYglHVbQG58hPVdpltAbnVqyJvVW0DluPcBHwNcQCNcSwu5LlxAenSETTtYXEA4F8Ixd39cQK1ZIyE+pFxAKlHHhGHGXED/Es3FsuVcQHy0U00DAl1A7kp6hCQbXUCp61/U5zBdQPurI6YeQ11ANKHkYppRXUCm4MFzLFxdQJ1/2kGmYl1AbJNNNtlkXUBsk0022WRdQGiTTTbZ5GpAaJNNNtnkakCACRS8v+NqQAO6B9WC4GpASxqZzDnbakCwnzju+9NqQIe/VoXgympAKe9j3f6/akDxo9BBbrNqQDNTDf5FpWpAR3KKXZ2VakCJdriri4RqQE3VBzQocmpA7QPpQYpeakDDd8wgyUlqQCSmIhz8M2pAagRcfzodakDpB+mVmwVqQP4lOqs27WlA/dO/CiPUaUBBh+r/d7ppQB+1KtZMoGlA9NLw2LiFaUAUVq1T02ppQNiz0JGzT2lAl2HL3nA0aUCq1A2GIhlpQGqCCNPf/WhALuArEcDiaEBNY+iL2sdoQCGBro5GrWhAAa/uZBuTaEBFYhlacHloQEUQn7lcYGhAWS7wzvdHaEDZMX3lWDBoQB6QtkiXGWhAfr4MRMoDaEBUMvAiCe9nQPRg0TBr22dAur8guQfJZ0D7w04H9rdnQBHjy2ZNqGdAU5IIIyWaZ0AZR3WHlI1nQLt2gt+ygmdAk5agdpd5Z0D2G0CYWXJnQD580Y8QbWdAwizFqNNpZ0DaoosuumhnQA==&quot;, &quot;dtype&quot;: &quot;float64&quot;, &quot;order&quot;: &quot;little&quot;, &quot;shape&quot;: [104]}, {&quot;__ndarray__&quot;: &quot;J7rooovucEDaoosuumhnQNqiiy66aGdAebm5PJBvZ0Bw6j3ZsYNnQGQZDy+OpGdA+ikkaZTRZ0DX/3OyMwpoQKB+9TXbTWhA/ImfHvqbaECLBWmX//NoQPfUSMtaVWlA4ts15Xq/aUD0/SYQzzFqQNIeE3fGq2pAHiLxRNAsa0CC67ekW7RrQJ9eXsHXQWxAGl/bxbPUbECc0CXdXmxtQMSWNDJICG5APZX+796nbkCor3pBkkpvQK7Jn1HR729AeWOypYVLcECMReCs159wQOT81FOW9HBAUvsLMHlJcUCpsgDXN55xQL2ULt6J8nFAXhMR2yZGckBhoCNjxphyQJet4Qsg6nJA1KzGaus5c0DoD04V4IdzQKlI86C103NA58gxoyMddEB1AoWx4WN0QCZnaGGnp3RAzGhXSCzodEA8ec37JyV1QEQKRhFSXnVAuo08HmKTdUBxdSy4D8R1QDozkXQS8HVA5jjm6CEXdkBK+Kaq9Th2QDjjTk9FVXZAhGtZbMhrdkD+AkKXNnx2QHkbhGVHhnZAySabbLKJdkDJJptssol2QIMPPvjgw3tAgw8++ODDe0AyBCfxdcB7QLfr5CJltntAP1T89/ale0Dzy/Hac497QAXhSTYkc3tAnyGJdFBRe0D0GzQAQSp7QC1ez0M+/npAdXbfqZDNekD/8uicgJh6QPVhcIdWX3pAhVH601oiekDgTwvt1eF5QC/rJz0QnnlAorHULlJXeUBjMZYs5A15QKP48KAOwnhAj5Vp9hl0eEBRloSXTiR4QBqJxu700ndAGPyzZlWAd0B4fdFpuCx3QGObo2Jm2HZADeSuu6eDdkCe5XffxC52QEYugzgG2nVAM0xVMbSFdUCSzXI0FzJ1QI9AYKx333RAWTOiAx6OdEAdNL2kUj50QAjRNfpd8HNARpiQboikc0AIGFJsGltzQHze/l1cFHNAynkbrpbQckAkeCzHEZByQLVnthMWU3JArNY9/usZckA2U0fx2+RxQH9rV1cutHFAt63ymiuIcUAKqJ0mHGFxQKXo3GRIP3FAuP00wPgicUBsdSqjdQxxQPLdQXgH/HBAd8X/qfbxcEAnuuiii+5wQA==&quot;, &quot;dtype&quot;: &quot;float64&quot;, &quot;order&quot;: &quot;little&quot;, &quot;shape&quot;: [104]}, {&quot;__ndarray__&quot;: &quot;ZrLJJpvsc0Aouuiiiy5yQCi66KKLLnJA0Rm85y4qckCwmxNTVh1yQB1UO1BeCHJAZld/SqPrcUDmuSutgcdxQO2PjONVnHFA2O3tWHxqcUDx55t4UTJxQJSS4q0x9HBAEwIOZHmwcEDFSmoGhWdwQPyAQwCxGXBAIXLLebOOb0CpDjpPt+FuQD0Aa1cmLW5Agm/2aLlxbUAnhXRaKbBsQNBpfQIv6WtALUapN4Mda0DjQpDQ3k1qQJ6IyqP6emlACUDwh4+laEDKkZlTVs5nQI2mXt0H9mZA+6bX+1wdZkC+u5yFDkVlQH8NRlHVbWRA6sRrNWqYY0CkCqYIhsViQFwHjaHh9WFAuOO41jUqYUBjyMF+O2NgQAy8f+BWQ19AmJqWA33MXUC/ffgTW2NcQM621b5iCVtAHJdesQXAWUD7b8OYtYhYQMOSNCLkZFdAwlDi+gJWVkBM+/zPg11VQLbjtE7YfFRAU1s6JHK1U0B4s739wghTQHU9b4g8eFJAoEp/cVAFUkBLLB5mcLFRQMkzfBMOflFAb7LJJptsUUBvsskmm2xRQGeTTTbZZFhAZ5NNNtlkWEDAFAAjTHZYQEENonWuqVhAmCsDgY79WEBsHvOXenBZQG+UQQ0BAVpASzy+M7CtWkCwxDheFnVbQETcgN/BVVxAuDFmCkFOXUC3c7gxIl1eQPNQR6jzgF9ACDxx4CFcYEDhyyxn0ABhQFovvpHMrWFAyD2NiV1iYkCCzgF4yh1jQN+4g4Za32NAMtR63lSmZEDW906pAHJlQB/7ZxClQWZAZLUtPYkUZ0D6/QdZ9OlnQDmsXo0twWhAd5eZA3yZaUAJlyDlJnJqQEWCW1t1SmtAhDCyj64hbEAbeYyrGfdsQGAzUtj9yW1AqDZrP6KZbkBNWj8KTmVvQNA6GzEkFnBA/i9cOOx2cEBceJavotRwQJL/fSvrLnFATrHGQGmFcUA7eSSEwNdxQANDS4qUJXJAUfru54huckDSisMxQbJyQC/gfPxg8HJAFObO3Isoc0AtiG1nZVpzQCOyDDGRhXNApE9gzrKpc0BaTBzUbcZzQO+T9NZl23NADxKdaz7oc0Bmsskmm+xzQA==&quot;, &quot;dtype&quot;: &quot;float64&quot;, &quot;order&quot;: &quot;little&quot;, &quot;shape&quot;: [104]}, {&quot;__ndarray__&quot;: &quot;fQ8++ODDe0Bmsskmm+xzQGayySab7HNAdpN6+I/qc0BW3gdLi+RzQISOqWq42nNAfJ+Xo0LNc0DBDApCVbxzQNHROJIbqHNALupb4MCQc0BTUat4cHZzQMECX6dVWXNA+PmuuJs5c0B3MtP4bRdzQL+nA7T38nJATlV4NmTMckClNmnM3qNyQEJHDsKSeXJAo4KfY6tNckBL5FT9UyByQLRnZtu38XFAYwgMSgLCcUDUwX2VXpFxQIiP8wn4X3FAAG2l8/ktcUC3Vcuej/twQDBFnVfkyHBA6TZTaiOWcEBiJiUjeGNwQBsPS84NMXBAItn5bx/+b0CKdOVYUptvQG7nyO8KOm9AzSgUzZ/abkChLzeJZ31uQO7yoby4Im5AsWnE/+nKbUDrig7rUXZtQJZN8BZHJW1AtKjZGyDYbEBEkzqSM49sQEUEgxLYSmxAtPIiNWQLbECSVYqSLtFrQNsjKcONnGtAkVRvX9hta0Cx3sz/ZEVrQDy5sTyKI2tALtuNrp4Ia0CGO9Ht+PRqQETR65Lv6GpAaJNNNtnkakBok0022eRqQMsmm2yySXVAyyabbLJJdUC5ReqavUt1QNn6XEjCUXVArUq7KJVbdUCzOc3vCml1QHDMWlH4eXVAXwcsATKOdUAF7wizjKV1QOCHuRrdv3VAcdYF7PfcdUA437Xasfx1QLimkZrfHnZAcTFh31VDdkDig+xc6Wl2QIyi+8ZuknZA8JFW0bq8dkCPVsUvouh2QOj0D5b5FXdAfXH+t5VEd0DO0FhJS3R3QFsX5/3upHdAqElxiVXWd0AybL+fUwh4QHqDmfS9OnhAAZTHO2lteEBHohEpKqB4QM2yP3DV0nhAFsoZxT8FeUCg7GfbPTd5QOwe8makaHlAemWAG0iZeUDMxNqs/ch5QGBByc6Z93lAut8TNfEkekBYpIKT2FB6QLyT3Z0ke3pAZrLsB6qjekDXBHiFPcp6QI+PR8qz7npAEFcjiuEQe0DYX9N4mzB7QGmuH0q2TXtAREfQsQZoe0DoLq1jYX97QNhpfhObk3tAk/wLdYike0Cb6x08/rF7QG47fBzRu3tAj/DuydXBe0B9Dz744MN7QA==&quot;, &quot;dtype&quot;: &quot;float64&quot;, &quot;order&quot;: &quot;little&quot;, &quot;shape&quot;: [104]}, {&quot;__ndarray__&quot;: &quot;+f////8/f0B9Dz744MN7QH0PPvjgw3tAfQ8++ODDe0B7Dz744MN7QH0PPvjgw3tAfQ8++ODDe0B8Dz744MN7QHwPPvjgw3tAfg8++ODDe0B/Dz744MN7QH8PPvjgw3tAfA8++ODDe0B8Dz744MN7QH0PPvjgw3tAfQ8++ODDe0B/Dz744MN7QH8PPvjgw3tAfw8++ODDe0B/Dz744MN7QH4PPvjgw3tAfw8++ODDe0B+Dz744MN7QH4PPvjgw3tAgA8++ODDe0B/Dz744MN7QIEPPvjgw3tAgA8++ODDe0CADz744MN7QIAPPvjgw3tAgQ8++ODDe0CBDz744MN7QIEPPvjgw3tAgg8++ODDe0CCDz744MN7QIIPPvjgw3tAgg8++ODDe0CCDz744MN7QIIPPvjgw3tAgg8++ODDe0CCDz744MN7QIIPPvjgw3tAgw8++ODDe0CCDz744MN7QIMPPvjgw3tAgg8++ODDe0CCDz744MN7QIMPPvjgw3tAhA8++ODDe0CDDz744MN7QIIPPvjgw3tAgw8++ODDe0CDDz744MN7QP//////P39A//////8/f0D+/////z9/QP7/////P39AAAAAAABAf0D//////z9/QP//////P39A/v////8/f0ABAAAAAEB/QP//////P39A//////8/f0D9/////z9/QP7/////P39A/f////8/f0D9/////z9/QP7/////P39A/v////8/f0D9/////z9/QP//////P39A/f////8/f0D+/////z9/QPz/////P39A+/////8/f0D8/////z9/QPz/////P39A/P////8/f0D7/////z9/QPz/////P39A/P////8/f0D8/////z9/QPz/////P39A+v////8/f0D8/////z9/QPr/////P39A+v////8/f0D6/////z9/QPr/////P39A+v////8/f0D6/////z9/QPr/////P39A+v////8/f0D6/////z9/QPn/////P39A+v////8/f0D5/////z9/QPn/////P39A+f////8/f0D6/////z9/QPn/////P39A+P////8/f0D5/////z9/QA==&quot;, &quot;dtype&quot;: &quot;float64&quot;, &quot;order&quot;: &quot;little&quot;, &quot;shape&quot;: [104]}]}, &quot;selected&quot;: {&quot;id&quot;: &quot;2328&quot;}, &quot;selection_policy&quot;: {&quot;id&quot;: &quot;2327&quot;}}, &quot;id&quot;: &quot;2261&quot;, &quot;type&quot;: &quot;ColumnDataSource&quot;}, {&quot;attributes&quot;: {}, &quot;id&quot;: &quot;2237&quot;, &quot;type&quot;: &quot;BasicTicker&quot;}, {&quot;attributes&quot;: {}, &quot;id&quot;: &quot;2325&quot;, &quot;type&quot;: &quot;Selection&quot;}, {&quot;attributes&quot;: {}, &quot;id&quot;: &quot;2228&quot;, &quot;type&quot;: &quot;Title&quot;}, {&quot;attributes&quot;: {&quot;fill_alpha&quot;: {&quot;value&quot;: 0.9}, &quot;line_alpha&quot;: {&quot;value&quot;: 0.9}, &quot;xs&quot;: {&quot;field&quot;: &quot;xs&quot;}, &quot;ys&quot;: {&quot;field&quot;: &quot;ys&quot;}}, &quot;id&quot;: &quot;2286&quot;, &quot;type&quot;: &quot;Patches&quot;}, {&quot;attributes&quot;: {&quot;source&quot;: {&quot;id&quot;: &quot;2299&quot;}}, &quot;id&quot;: &quot;2304&quot;, &quot;type&quot;: &quot;CDSView&quot;}, {&quot;attributes&quot;: {}, &quot;id&quot;: &quot;2245&quot;, &quot;type&quot;: &quot;PanTool&quot;}, {&quot;attributes&quot;: {&quot;axis_label&quot;: &quot;x&quot;, &quot;formatter&quot;: {&quot;id&quot;: &quot;2308&quot;}, &quot;major_label_policy&quot;: {&quot;id&quot;: &quot;2307&quot;}, &quot;ticker&quot;: {&quot;id&quot;: &quot;2237&quot;}, &quot;visible&quot;: false}, &quot;id&quot;: &quot;2236&quot;, &quot;type&quot;: &quot;LinearAxis&quot;}, {&quot;attributes&quot;: {&quot;text_alpha&quot;: {&quot;value&quot;: 0.1}, &quot;text_baseline&quot;: {&quot;value&quot;: &quot;middle&quot;}, &quot;text_color&quot;: {&quot;value&quot;: &quot;black&quot;}, &quot;text_font_size&quot;: {&quot;value&quot;: &quot;8pt&quot;}, &quot;x&quot;: {&quot;field&quot;: &quot;x&quot;}, &quot;y&quot;: {&quot;field&quot;: &quot;y&quot;}}, &quot;id&quot;: &quot;2302&quot;, &quot;type&quot;: &quot;Text&quot;}, {&quot;attributes&quot;: {&quot;axis_label&quot;: &quot;y&quot;, &quot;formatter&quot;: {&quot;id&quot;: &quot;2311&quot;}, &quot;major_label_policy&quot;: {&quot;id&quot;: &quot;2310&quot;}, &quot;ticker&quot;: {&quot;id&quot;: &quot;2241&quot;}, &quot;visible&quot;: false}, &quot;id&quot;: &quot;2240&quot;, &quot;type&quot;: &quot;LinearAxis&quot;}, {&quot;attributes&quot;: {&quot;bottom&quot;: {&quot;field&quot;: &quot;y0&quot;}, &quot;fill_color&quot;: {&quot;field&quot;: &quot;index&quot;, &quot;transform&quot;: {&quot;id&quot;: &quot;2259&quot;}}, &quot;left&quot;: {&quot;field&quot;: &quot;x0&quot;}, &quot;right&quot;: {&quot;field&quot;: &quot;x1&quot;}, &quot;top&quot;: {&quot;field&quot;: &quot;y1&quot;}}, &quot;id&quot;: &quot;2295&quot;, &quot;type&quot;: &quot;Quad&quot;}, {&quot;attributes&quot;: {&quot;axis&quot;: {&quot;id&quot;: &quot;2236&quot;}, &quot;grid_line_color&quot;: null, &quot;ticker&quot;: null}, &quot;id&quot;: &quot;2239&quot;, &quot;type&quot;: &quot;Grid&quot;}, {&quot;attributes&quot;: {}, &quot;id&quot;: &quot;2246&quot;, &quot;type&quot;: &quot;WheelZoomTool&quot;}, {&quot;attributes&quot;: {&quot;axis&quot;: {&quot;id&quot;: &quot;2240&quot;}, &quot;dimension&quot;: 1, &quot;grid_line_color&quot;: null, &quot;ticker&quot;: null}, &quot;id&quot;: &quot;2243&quot;, &quot;type&quot;: &quot;Grid&quot;}, {&quot;attributes&quot;: {&quot;bottom&quot;: {&quot;field&quot;: &quot;y0&quot;}, &quot;fill_alpha&quot;: {&quot;value&quot;: 0.2}, &quot;fill_color&quot;: {&quot;field&quot;: &quot;index&quot;, &quot;transform&quot;: {&quot;id&quot;: &quot;2259&quot;}}, &quot;left&quot;: {&quot;field&quot;: &quot;x0&quot;}, &quot;line_alpha&quot;: {&quot;value&quot;: 0.2}, &quot;right&quot;: {&quot;field&quot;: &quot;x1&quot;}, &quot;top&quot;: {&quot;field&quot;: &quot;y1&quot;}}, &quot;id&quot;: &quot;2294&quot;, &quot;type&quot;: &quot;Quad&quot;}, {&quot;attributes&quot;: {&quot;data&quot;: {&quot;index&quot;: [&quot;A&quot;, &quot;B&quot;, &quot;X&quot;, &quot;Y&quot;, &quot;Z&quot;], &quot;x0&quot;: [0, 0, 985.0, 985.0, 985.0], &quot;x1&quot;: [15, 15, 1000.0, 1000.0, 1000.0], &quot;y0&quot;: [19.999999999999588, 290.90909090909054, 2.842170943040401e-14, 117.57575757575768, 360.60606060606057], &quot;y1&quot;: [270.90909090909054, 500.0, 97.57575757575768, 340.60606060606057, 500.0]}, &quot;selected&quot;: {&quot;id&quot;: &quot;2323&quot;}, &quot;selection_policy&quot;: {&quot;id&quot;: &quot;2322&quot;}}, &quot;id&quot;: &quot;2260&quot;, &quot;type&quot;: &quot;ColumnDataSource&quot;}, {&quot;attributes&quot;: {}, &quot;id&quot;: &quot;2241&quot;, &quot;type&quot;: &quot;BasicTicker&quot;}, {&quot;attributes&quot;: {}, &quot;id&quot;: &quot;2244&quot;, &quot;type&quot;: &quot;SaveTool&quot;}, {&quot;attributes&quot;: {&quot;end&quot;: 525.0, &quot;reset_end&quot;: 525.0, &quot;reset_start&quot;: -24.99999999999997, &quot;start&quot;: -24.99999999999997, &quot;tags&quot;: [[[&quot;y&quot;, &quot;y&quot;, null]]]}, &quot;id&quot;: &quot;2225&quot;, &quot;type&quot;: &quot;Range1d&quot;}, {&quot;attributes&quot;: {&quot;active_multi&quot;: null, &quot;tools&quot;: [{&quot;id&quot;: &quot;2226&quot;}, {&quot;id&quot;: &quot;2244&quot;}, {&quot;id&quot;: &quot;2245&quot;}, {&quot;id&quot;: &quot;2246&quot;}, {&quot;id&quot;: &quot;2247&quot;}, {&quot;id&quot;: &quot;2248&quot;}, {&quot;id&quot;: &quot;2249&quot;}]}, &quot;id&quot;: &quot;2251&quot;, &quot;type&quot;: &quot;Toolbar&quot;}, {&quot;attributes&quot;: {&quot;overlay&quot;: {&quot;id&quot;: &quot;2250&quot;}}, &quot;id&quot;: &quot;2247&quot;, &quot;type&quot;: &quot;BoxZoomTool&quot;}, {&quot;attributes&quot;: {}, &quot;id&quot;: &quot;2248&quot;, &quot;type&quot;: &quot;ResetTool&quot;}, {&quot;attributes&quot;: {&quot;callback&quot;: null}, &quot;id&quot;: &quot;2249&quot;, &quot;type&quot;: &quot;TapTool&quot;}, {&quot;attributes&quot;: {&quot;data_source&quot;: {&quot;id&quot;: &quot;2299&quot;}, &quot;glyph&quot;: {&quot;id&quot;: &quot;2301&quot;}, &quot;hover_glyph&quot;: null, &quot;muted_glyph&quot;: null, &quot;nonselection_glyph&quot;: {&quot;id&quot;: &quot;2302&quot;}, &quot;selection_glyph&quot;: {&quot;id&quot;: &quot;2305&quot;}, &quot;view&quot;: {&quot;id&quot;: &quot;2304&quot;}}, &quot;id&quot;: &quot;2303&quot;, &quot;type&quot;: &quot;GlyphRenderer&quot;}, {&quot;attributes&quot;: {&quot;data_source&quot;: {&quot;id&quot;: &quot;2260&quot;}, &quot;glyph&quot;: {&quot;id&quot;: &quot;2263&quot;}, &quot;hover_glyph&quot;: {&quot;id&quot;: &quot;2266&quot;}, &quot;muted_glyph&quot;: null, &quot;nonselection_glyph&quot;: {&quot;id&quot;: &quot;2264&quot;}, &quot;selection_glyph&quot;: {&quot;id&quot;: &quot;2265&quot;}, &quot;view&quot;: {&quot;id&quot;: &quot;2268&quot;}}, &quot;id&quot;: &quot;2267&quot;, &quot;type&quot;: &quot;GlyphRenderer&quot;}, {&quot;attributes&quot;: {}, &quot;id&quot;: &quot;2322&quot;, &quot;type&quot;: &quot;UnionRenderers&quot;}, {&quot;attributes&quot;: {&quot;angle&quot;: {&quot;value&quot;: 0}, &quot;text&quot;: {&quot;field&quot;: &quot;text&quot;}, &quot;text_align&quot;: {&quot;value&quot;: &quot;left&quot;}, &quot;text_alpha&quot;: {&quot;value&quot;: 1.0}, &quot;text_baseline&quot;: {&quot;value&quot;: &quot;middle&quot;}, &quot;text_color&quot;: {&quot;value&quot;: &quot;black&quot;}, &quot;text_font_size&quot;: {&quot;value&quot;: &quot;8pt&quot;}, &quot;text_font_style&quot;: {&quot;value&quot;: &quot;normal&quot;}, &quot;text_line_height&quot;: {&quot;value&quot;: 1.2}, &quot;x&quot;: {&quot;field&quot;: &quot;x&quot;}, &quot;x_offset&quot;: {&quot;value&quot;: 0}, &quot;y&quot;: {&quot;field&quot;: &quot;y&quot;}, &quot;y_offset&quot;: {&quot;value&quot;: 0}}, &quot;id&quot;: &quot;2305&quot;, &quot;type&quot;: &quot;Text&quot;}, {&quot;attributes&quot;: {&quot;end&quot;: 1238.75, &quot;reset_end&quot;: 1238.75, &quot;reset_start&quot;: -41.75, &quot;start&quot;: -41.75, &quot;tags&quot;: [[[&quot;x&quot;, &quot;x&quot;, null]]]}, &quot;id&quot;: &quot;2224&quot;, &quot;type&quot;: &quot;Range1d&quot;}, {&quot;attributes&quot;: {&quot;data_source&quot;: {&quot;id&quot;: &quot;2261&quot;}, &quot;glyph&quot;: {&quot;id&quot;: &quot;2283&quot;}, &quot;hover_glyph&quot;: {&quot;id&quot;: &quot;2286&quot;}, &quot;muted_glyph&quot;: null, &quot;nonselection_glyph&quot;: {&quot;id&quot;: &quot;2285&quot;}, &quot;selection_glyph&quot;: {&quot;id&quot;: &quot;2284&quot;}, &quot;view&quot;: {&quot;id&quot;: &quot;2273&quot;}}, &quot;id&quot;: &quot;2272&quot;, &quot;type&quot;: &quot;GlyphRenderer&quot;}, {&quot;attributes&quot;: {}, &quot;id&quot;: &quot;2310&quot;, &quot;type&quot;: &quot;AllLabels&quot;}, {&quot;attributes&quot;: {&quot;fill_alpha&quot;: {&quot;value&quot;: 0.2}, &quot;fill_color&quot;: {&quot;field&quot;: &quot;index&quot;, &quot;transform&quot;: {&quot;id&quot;: &quot;2259&quot;}}, &quot;line_alpha&quot;: {&quot;value&quot;: 0.2}, &quot;size&quot;: {&quot;value&quot;: 10}}, &quot;id&quot;: &quot;2264&quot;, &quot;type&quot;: &quot;Circle&quot;}, {&quot;attributes&quot;: {}, &quot;id&quot;: &quot;2323&quot;, &quot;type&quot;: &quot;Selection&quot;}, {&quot;attributes&quot;: {&quot;graph_layout&quot;: {&quot;0&quot;: [7.5, 145.45454545454507], &quot;1&quot;: [7.5, 395.45454545454527], &quot;2&quot;: [992.5, 48.78787878787885], &quot;3&quot;: [992.5, 229.09090909090912], &quot;4&quot;: [992.5, 430.30303030303025]}}, &quot;id&quot;: &quot;2262&quot;, &quot;type&quot;: &quot;StaticLayoutProvider&quot;}, {&quot;attributes&quot;: {&quot;fill_color&quot;: {&quot;field&quot;: &quot;index&quot;, &quot;transform&quot;: {&quot;id&quot;: &quot;2259&quot;}}, &quot;size&quot;: {&quot;value&quot;: 10}}, &quot;id&quot;: &quot;2265&quot;, &quot;type&quot;: &quot;Circle&quot;}, {&quot;attributes&quot;: {&quot;source&quot;: {&quot;id&quot;: &quot;2261&quot;}}, &quot;id&quot;: &quot;2273&quot;, &quot;type&quot;: &quot;CDSView&quot;}, {&quot;attributes&quot;: {&quot;bottom&quot;: {&quot;field&quot;: &quot;y0&quot;}, &quot;fill_color&quot;: {&quot;field&quot;: &quot;index&quot;, &quot;transform&quot;: {&quot;id&quot;: &quot;2259&quot;}}, &quot;left&quot;: {&quot;field&quot;: &quot;x0&quot;}, &quot;right&quot;: {&quot;field&quot;: &quot;x1&quot;}, &quot;top&quot;: {&quot;field&quot;: &quot;y1&quot;}}, &quot;id&quot;: &quot;2296&quot;, &quot;type&quot;: &quot;Quad&quot;}, {&quot;attributes&quot;: {&quot;fill_color&quot;: {&quot;field&quot;: &quot;index&quot;, &quot;transform&quot;: {&quot;id&quot;: &quot;2259&quot;}}, &quot;size&quot;: {&quot;value&quot;: 10}}, &quot;id&quot;: &quot;2263&quot;, &quot;type&quot;: &quot;Circle&quot;}, {&quot;attributes&quot;: {&quot;fill_alpha&quot;: {&quot;value&quot;: 0.6}, &quot;xs&quot;: {&quot;field&quot;: &quot;xs&quot;}, &quot;ys&quot;: {&quot;field&quot;: &quot;ys&quot;}}, &quot;id&quot;: &quot;2284&quot;, &quot;type&quot;: &quot;Patches&quot;}, {&quot;attributes&quot;: {&quot;data&quot;: {&quot;text&quot;: [&quot;A - 18&quot;, &quot;B - 15&quot;, &quot;X - 7&quot;, &quot;Y - 16&quot;, &quot;Z - 10&quot;], &quot;x&quot;: {&quot;__ndarray__&quot;: &quot;AAAAAADAMkAAAAAAAMAyQAAAAAAAXo9AAAAAAABej0AAAAAAAF6PQA==&quot;, &quot;dtype&quot;: &quot;float64&quot;, &quot;order&quot;: &quot;little&quot;, &quot;shape&quot;: [5]}, &quot;y&quot;: {&quot;__ndarray__&quot;: &quot;IbrooosuYkAUXXTRRbd4QG6TTTbZZEhApIsuuuiibEBkk0022eR6QA==&quot;, &quot;dtype&quot;: &quot;float64&quot;, &quot;order&quot;: &quot;little&quot;, &quot;shape&quot;: [5]}}, &quot;selected&quot;: {&quot;id&quot;: &quot;2325&quot;}, &quot;selection_policy&quot;: {&quot;id&quot;: &quot;2324&quot;}}, &quot;id&quot;: &quot;2299&quot;, &quot;type&quot;: &quot;ColumnDataSource&quot;}, {&quot;attributes&quot;: {&quot;factors&quot;: [&quot;A&quot;, &quot;B&quot;, &quot;X&quot;, &quot;Y&quot;, &quot;Z&quot;], &quot;palette&quot;: [&quot;#1f77b4&quot;, &quot;#aec7e8&quot;, &quot;#ff7f0e&quot;, &quot;#ffbb78&quot;, &quot;#2ca02c&quot;]}, &quot;id&quot;: &quot;2259&quot;, &quot;type&quot;: &quot;CategoricalColorMapper&quot;}, {&quot;attributes&quot;: {}, &quot;id&quot;: &quot;2287&quot;, &quot;type&quot;: &quot;NodesAndLinkedEdges&quot;}, {&quot;attributes&quot;: {&quot;bottom&quot;: {&quot;field&quot;: &quot;y0&quot;}, &quot;fill_color&quot;: {&quot;field&quot;: &quot;index&quot;, &quot;transform&quot;: {&quot;id&quot;: &quot;2259&quot;}}, &quot;left&quot;: {&quot;field&quot;: &quot;x0&quot;}, &quot;right&quot;: {&quot;field&quot;: &quot;x1&quot;}, &quot;top&quot;: {&quot;field&quot;: &quot;y1&quot;}}, &quot;id&quot;: &quot;2293&quot;, &quot;type&quot;: &quot;Quad&quot;}, {&quot;attributes&quot;: {&quot;source&quot;: {&quot;id&quot;: &quot;2260&quot;}}, &quot;id&quot;: &quot;2268&quot;, &quot;type&quot;: &quot;CDSView&quot;}, {&quot;attributes&quot;: {&quot;data_source&quot;: {&quot;id&quot;: &quot;2260&quot;}, &quot;glyph&quot;: {&quot;id&quot;: &quot;2293&quot;}, &quot;hover_glyph&quot;: {&quot;id&quot;: &quot;2296&quot;}, &quot;muted_glyph&quot;: null, &quot;nonselection_glyph&quot;: {&quot;id&quot;: &quot;2294&quot;}, &quot;selection_glyph&quot;: {&quot;id&quot;: &quot;2295&quot;}, &quot;view&quot;: {&quot;id&quot;: &quot;2268&quot;}}, &quot;id&quot;: &quot;2297&quot;, &quot;type&quot;: &quot;GlyphRenderer&quot;}, {&quot;attributes&quot;: {}, &quot;id&quot;: &quot;2307&quot;, &quot;type&quot;: &quot;AllLabels&quot;}, {&quot;attributes&quot;: {&quot;fill_color&quot;: {&quot;field&quot;: &quot;index&quot;, &quot;transform&quot;: {&quot;id&quot;: &quot;2259&quot;}}, &quot;size&quot;: {&quot;value&quot;: 10}}, &quot;id&quot;: &quot;2266&quot;, &quot;type&quot;: &quot;Circle&quot;}, {&quot;attributes&quot;: {&quot;edge_renderer&quot;: {&quot;id&quot;: &quot;2272&quot;}, &quot;inspection_policy&quot;: {&quot;id&quot;: &quot;2289&quot;}, &quot;layout_provider&quot;: {&quot;id&quot;: &quot;2262&quot;}, &quot;node_renderer&quot;: {&quot;id&quot;: &quot;2267&quot;}, &quot;selection_policy&quot;: {&quot;id&quot;: &quot;2287&quot;}}, &quot;id&quot;: &quot;2274&quot;, &quot;type&quot;: &quot;GraphRenderer&quot;}, {&quot;attributes&quot;: {&quot;bottom_units&quot;: &quot;screen&quot;, &quot;fill_alpha&quot;: 0.5, &quot;fill_color&quot;: &quot;lightgrey&quot;, &quot;left_units&quot;: &quot;screen&quot;, &quot;level&quot;: &quot;overlay&quot;, &quot;line_alpha&quot;: 1.0, &quot;line_color&quot;: &quot;black&quot;, &quot;line_dash&quot;: [4, 4], &quot;line_width&quot;: 2, &quot;right_units&quot;: &quot;screen&quot;, &quot;syncable&quot;: false, &quot;top_units&quot;: &quot;screen&quot;}, &quot;id&quot;: &quot;2250&quot;, &quot;type&quot;: &quot;BoxAnnotation&quot;}, {&quot;attributes&quot;: {&quot;below&quot;: [{&quot;id&quot;: &quot;2236&quot;}], &quot;center&quot;: [{&quot;id&quot;: &quot;2239&quot;}, {&quot;id&quot;: &quot;2243&quot;}], &quot;height&quot;: 200, &quot;left&quot;: [{&quot;id&quot;: &quot;2240&quot;}], &quot;margin&quot;: null, &quot;min_border_bottom&quot;: 10, &quot;min_border_left&quot;: 10, &quot;min_border_right&quot;: 10, &quot;min_border_top&quot;: 10, &quot;outline_line_alpha&quot;: 0, &quot;renderers&quot;: [{&quot;id&quot;: &quot;2274&quot;}, {&quot;id&quot;: &quot;2297&quot;}, {&quot;id&quot;: &quot;2303&quot;}], &quot;sizing_mode&quot;: &quot;fixed&quot;, &quot;title&quot;: {&quot;id&quot;: &quot;2228&quot;}, &quot;toolbar&quot;: {&quot;id&quot;: &quot;2251&quot;}, &quot;x_range&quot;: {&quot;id&quot;: &quot;2224&quot;}, &quot;x_scale&quot;: {&quot;id&quot;: &quot;2232&quot;}, &quot;y_range&quot;: {&quot;id&quot;: &quot;2225&quot;}, &quot;y_scale&quot;: {&quot;id&quot;: &quot;2234&quot;}}, &quot;id&quot;: &quot;2227&quot;, &quot;subtype&quot;: &quot;Figure&quot;, &quot;type&quot;: &quot;Plot&quot;}, {&quot;attributes&quot;: {}, &quot;id&quot;: &quot;2289&quot;, &quot;type&quot;: &quot;EdgesAndLinkedNodes&quot;}, {&quot;attributes&quot;: {}, &quot;id&quot;: &quot;2327&quot;, &quot;type&quot;: &quot;UnionRenderers&quot;}, {&quot;attributes&quot;: {}, &quot;id&quot;: &quot;2308&quot;, &quot;type&quot;: &quot;BasicTickFormatter&quot;}, {&quot;attributes&quot;: {&quot;fill_alpha&quot;: {&quot;value&quot;: 0.6}, &quot;xs&quot;: {&quot;field&quot;: &quot;xs&quot;}, &quot;ys&quot;: {&quot;field&quot;: &quot;ys&quot;}}, &quot;id&quot;: &quot;2283&quot;, &quot;type&quot;: &quot;Patches&quot;}, {&quot;attributes&quot;: {&quot;callback&quot;: null, &quot;renderers&quot;: [{&quot;id&quot;: &quot;2274&quot;}], &quot;tags&quot;: [&quot;hv_created&quot;], &quot;tooltips&quot;: [[&quot;start&quot;, &quot;@{start_values}&quot;], [&quot;end&quot;, &quot;@{end_values}&quot;], [&quot;Value&quot;, &quot;@{Value}&quot;]]}, &quot;id&quot;: &quot;2226&quot;, &quot;type&quot;: &quot;HoverTool&quot;}, {&quot;attributes&quot;: {}, &quot;id&quot;: &quot;2328&quot;, &quot;type&quot;: &quot;Selection&quot;}, {&quot;attributes&quot;: {}, &quot;id&quot;: &quot;2311&quot;, &quot;type&quot;: &quot;BasicTickFormatter&quot;}, {&quot;attributes&quot;: {}, &quot;id&quot;: &quot;2234&quot;, &quot;type&quot;: &quot;LinearScale&quot;}], &quot;root_ids&quot;: [&quot;2227&quot;]}, &quot;title&quot;: &quot;&quot;, &quot;version&quot;: &quot;2.3.0&quot;}}&#x27;);\n",
       "    Bokeh.embed.embed_item(item);\n",
       "});\n",
       "\n",
       "/*    console.log(&quot;hello1&quot;);\n",
       "\n",
       "\n",
       "*/\n",
       "\n",
       "&lt;/script&gt;\n",
       "\n",
       "&lt;/body&gt;\n",
       "&lt;/html&gt;\n",
       "\"\n",
       ">\n"
      ],
      "text/plain": [
       "<IPython.core.display.HTML object>"
      ]
     },
     "execution_count": 62,
     "metadata": {},
     "output_type": "execute_result"
    }
   ],
   "source": [
    "from IPython.core.display import HTML\n",
    "import html\n",
    "import string\n",
    "\n",
    "x_html = string.Template('''\n",
    "<html>\n",
    "<head>\n",
    "<script src=\"https://ajax.googleapis.com/ajax/libs/jquery/3.5.1/jquery.min.js\"></script>\n",
    "<script src=\"https://cdn.bokeh.org/bokeh/release/bokeh-${bokeh_version}.min.js\"\n",
    "        crossorigin=\"anonymous\"></script>\n",
    "<script src=\"https://cdn.bokeh.org/bokeh/release/bokeh-widgets-${bokeh_version}.min.js\"\n",
    "        crossorigin=\"anonymous\"></script>\n",
    "<script src=\"https://cdn.bokeh.org/bokeh/release/bokeh-tables-${bokeh_version}.min.js\"\n",
    "        crossorigin=\"anonymous\"></script>\n",
    "</head>\n",
    "<body>\n",
    "\n",
    "    some div: <div id=\"bokeh_ch1\"></div>\n",
    "    bla.\n",
    "\n",
    "<script>\n",
    "\n",
    "/* $('#bokeh_ch1').text(\"hi\"); */\n",
    "\n",
    "$('#bokeh_ch1').ready(function () {\n",
    "    item = JSON.parse('$item_text');\n",
    "    Bokeh.embed.embed_item(item);\n",
    "});\n",
    "\n",
    "/*    console.log(\"hello1\");\n",
    "\n",
    "\n",
    "*/\n",
    "\n",
    "</script>\n",
    "\n",
    "</body>\n",
    "</html>\n",
    "''').safe_substitute(\n",
    "    item_text=item_text,\n",
    "    bokeh_version=bokeh.__version__)\n",
    "\n",
    "HTML(f'''\n",
    "<iframe id=\"my_iframe\"\n",
    "width=800\n",
    "height=400\n",
    "srcdoc=\"{html.escape(x_html)}\"\n",
    ">\n",
    "''')\n"
   ]
  },
  {
   "cell_type": "code",
   "execution_count": 48,
   "id": "painted-macro",
   "metadata": {},
   "outputs": [
    {
     "data": {
      "text/plain": [
       "'2.3.0'"
      ]
     },
     "execution_count": 48,
     "metadata": {},
     "output_type": "execute_result"
    }
   ],
   "source": []
  },
  {
   "cell_type": "code",
   "execution_count": null,
   "id": "fifth-barrier",
   "metadata": {},
   "outputs": [],
   "source": []
  },
  {
   "cell_type": "code",
   "execution_count": null,
   "id": "impressive-practice",
   "metadata": {},
   "outputs": [],
   "source": []
  }
 ],
 "metadata": {
  "kernelspec": {
   "display_name": "Python 3",
   "language": "python",
   "name": "python3"
  },
  "language_info": {
   "codemirror_mode": {
    "name": "ipython",
    "version": 3
   },
   "file_extension": ".py",
   "mimetype": "text/x-python",
   "name": "python",
   "nbconvert_exporter": "python",
   "pygments_lexer": "ipython3",
   "version": "3.8.5"
  }
 },
 "nbformat": 4,
 "nbformat_minor": 5
}

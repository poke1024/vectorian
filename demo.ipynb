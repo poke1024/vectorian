{
 "cells": [
  {
   "cell_type": "code",
   "execution_count": 1,
   "id": "abandoned-intensity",
   "metadata": {},
   "outputs": [],
   "source": [
    "from pathlib import Path\n",
    "\n",
    "import os\n",
    "import sys\n",
    "\n",
    "current_path = Path(os.getcwd())\n",
    "sys.path.append(str(current_path))"
   ]
  },
  {
   "cell_type": "code",
   "execution_count": 2,
   "id": "herbal-friday",
   "metadata": {},
   "outputs": [],
   "source": [
    "import spacy\n",
    "nlp = spacy.load(\"en_core_web_sm\")"
   ]
  },
  {
   "cell_type": "code",
   "execution_count": 3,
   "id": "aerial-workstation",
   "metadata": {},
   "outputs": [
    {
     "name": "stdout",
     "output_type": "stream",
     "text": [
      "Matching checksum for /Users/arbeit/Projects/vectorian-2021/vectorian/core/cpp/core.cpp --> not compiling\n"
     ]
    },
    {
     "name": "stderr",
     "output_type": "stream",
     "text": [
      "100%|██████████| 58/58 [00:01<00:00, 43.55it/s]\n"
     ]
    }
   ],
   "source": [
    "import vectorian\n",
    "\n",
    "from vectorian.importers import NovelImporter\n",
    "from vectorian.embeddings import FastText\n",
    "from vectorian.session import LabSession\n",
    "\n",
    "embedding = FastText(\"en\")\n",
    "\n",
    "im = NovelImporter(nlp)\n",
    "doc = im(\"/Users/arbeit/A Child's Dream of a Star.txt\")\n",
    "\n",
    "session = LabSession(\n",
    "    [doc],\n",
    "    [embedding])"
   ]
  },
  {
   "cell_type": "code",
   "execution_count": 10,
   "id": "finite-spank",
   "metadata": {},
   "outputs": [
    {
     "data": {
      "application/vnd.jupyter.widget-view+json": {
       "model_id": "",
       "version_major": 2,
       "version_minor": 0
      },
      "text/plain": [
       "FloatProgress(value=0.0, layout=Layout(width='100%'), max=1.0)"
      ]
     },
     "metadata": {},
     "output_type": "display_data"
    },
    {
     "data": {
      "text/html": [
       "<!DOCTYPE html>\n",
       "<html>\n",
       "\t<head>\n",
       "\t\t<meta charset=\"utf-8\">\n",
       "\t\t<meta name=\"viewport\" content=\"width=device-width, initial-scale=1\">\n",
       "\t\t<title>Vectorian</title>\n",
       "\t\t<link rel=\"stylesheet\" href=\"https://cdn.jsdelivr.net/npm/bulma@0.9.1/css/bulma.min.css\">\n",
       "\t</head>\n",
       "\t<body>\n",
       "\t\t<div class=\"container\">\n",
       "\t\t\t<div class=\"section\">\n",
       "<!DOCTYPE html><media><mediaLeft><p class=\"image is-64x64\"><span class=\"buttons\"><span class=\"has-text-weight-bold\">56.8%</span><br /><div></div></span></p></mediaLeft><mediaContent><span style=\"font-variant: small-caps;\"></span><div class=\"is-pulled-right\"><small>Anonymous, </small><small class=\"is-italic\">A Child's Dream of a Star, </small><small>par. 8</small></div><div><br /><br /><span><span class=\"has-text-grey-light\">buds are the children of the flowers, and the little </span> <span><span style=\"display:inline-table;\"><span style=\"display:table-row;\"><span style=\"display:table-cell;\"><span class=\"has-text-black has-text-weight-bold\">playful</span></span> <span style=\"display:table-cell;\"><span class=\"has-text-grey-light\">literal</span></span> <span style=\"display:table-cell; opacity:1.0;\"><span class=\"tag is-warning\">56%</span></span></span></span></span> <span class=\"has-text-grey-light\">streams that gambol down the hillsides are the children of </span></span></div></mediaContent></media><media><mediaLeft><p class=\"image is-64x64\"><span class=\"buttons\"><span class=\"has-text-weight-bold\">55.3%</span><br /><div></div></span></p></mediaLeft><mediaContent><span style=\"font-variant: small-caps;\"></span><div class=\"is-pulled-right\"><small>Anonymous, </small><small class=\"is-italic\">A Child's Dream of a Star, </small><small>par. 46</small></div><div><br /><br /><span><span class=\"has-text-grey-light\">the child saw his daughter, newly lost to him, a </span> <span><span style=\"display:inline-table;\"><span style=\"display:table-row;\"><span style=\"display:table-cell;\"><span class=\"has-text-black has-text-weight-bold\">celestial</span></span> <span style=\"display:table-cell;\"><span class=\"has-text-grey-light\">literal</span></span> <span style=\"display:table-cell; opacity:1.0;\"><span class=\"tag is-warning\">55%</span></span></span></span></span> <span class=\"has-text-grey-light\">creature among those three, and he said, “My daughter’s </span></span></div></mediaContent></media><media><mediaLeft><p class=\"image is-64x64\"><span class=\"buttons\"><span class=\"has-text-weight-bold\">55.0%</span><br /><div></div></span></p></mediaLeft><mediaContent><span style=\"font-variant: small-caps;\"></span><div class=\"is-pulled-right\"><small>Anonymous, </small><small class=\"is-italic\">A Child's Dream of a Star, </small><small>par. 16</small></div><div><br /><br /><span><span class=\"has-text-grey-light\">earth to heaven, that when the child went to his </span> <span><span style=\"display:inline-table;\"><span style=\"display:table-row;\"><span style=\"display:table-cell;\"><span class=\"has-text-black has-text-weight-bold\">solitary</span></span> <span style=\"display:table-cell;\"><span class=\"has-text-grey-light\">literal</span></span> <span style=\"display:table-cell; opacity:1.0;\"><span class=\"tag is-warning\">54%</span></span></span></span></span> <span class=\"has-text-grey-light\">bed, he dreamed about the star; and dreamed that, lying </span></span></div></mediaContent></media><media><mediaLeft><p class=\"image is-64x64\"><span class=\"buttons\"><span class=\"has-text-weight-bold\">51.6%</span><br /><div></div></span></p></mediaLeft><mediaContent><span style=\"font-variant: small-caps;\"></span><div class=\"is-pulled-right\"><small>Anonymous, </small><small class=\"is-italic\">A Child's Dream of a Star, </small><small>par. 50</small></div><div><br /><br /><span><span class=\"has-text-grey-light\">smooth face was wrinkled, and his steps were slow and </span> <span><span style=\"display:inline-table;\"><span style=\"display:table-row;\"><span style=\"display:table-cell;\"><span class=\"has-text-black has-text-weight-bold\">feeble</span></span> <span style=\"display:table-cell;\"><span class=\"has-text-grey-light\">literal</span></span> <span style=\"display:table-cell; opacity:1.0;\"><span class=\"tag is-warning\">51%</span></span></span></span></span> <span class=\"has-text-grey-light\">and his back was bent. And one night as he </span></span></div></mediaContent></media>\n",
       "\t\t\t</div>\n",
       "\t\t</div>\n",
       "\t</body>\n",
       "</html>"
      ],
      "text/plain": [
       "<IPython.core.display.HTML object>"
      ]
     },
     "execution_count": 10,
     "metadata": {},
     "output_type": "execute_result"
    }
   ],
   "source": [
    "query = nlp(\"literal\")\n",
    "session.find(query, n=3)"
   ]
  },
  {
   "cell_type": "code",
   "execution_count": null,
   "id": "korean-insulation",
   "metadata": {},
   "outputs": [],
   "source": []
  }
 ],
 "metadata": {
  "kernelspec": {
   "display_name": "Python 3",
   "language": "python",
   "name": "python3"
  },
  "language_info": {
   "codemirror_mode": {
    "name": "ipython",
    "version": 3
   },
   "file_extension": ".py",
   "mimetype": "text/x-python",
   "name": "python",
   "nbconvert_exporter": "python",
   "pygments_lexer": "ipython3",
   "version": "3.8.5"
  }
 },
 "nbformat": 4,
 "nbformat_minor": 5
}

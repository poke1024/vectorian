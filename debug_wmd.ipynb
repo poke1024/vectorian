{
 "cells": [
  {
   "cell_type": "code",
   "execution_count": 1,
   "id": "superior-lotus",
   "metadata": {},
   "outputs": [
    {
     "name": "stdout",
     "output_type": "stream",
     "text": [
      "Matching checksum for /Users/arbeit/Projects/vectorian-2021/vectorian/core/cpp/core.cpp --> not compiling\n"
     ]
    }
   ],
   "source": [
    "from pathlib import Path\n",
    "\n",
    "import os\n",
    "import sys\n",
    "\n",
    "current_path = Path(os.getcwd())\n",
    "sys.path.append(str(current_path))\n",
    "\n",
    "import vectorian\n",
    "vectorian.compile()\n",
    "\n",
    "import spacy\n",
    "nlp = spacy.load(\"en_core_web_sm\")\n",
    "\n",
    "import vectorian\n",
    "from vectorian.embeddings import FastText\n",
    "\n",
    "fasttext = FastText(\"en\")"
   ]
  },
  {
   "cell_type": "code",
   "execution_count": 2,
   "id": "seventh-albania",
   "metadata": {},
   "outputs": [],
   "source": [
    "import vectorian.utils as utils\n",
    "\n",
    "token_mappings = {\n",
    "    \"tokenizer\": [],\n",
    "    \"tagger\": []\n",
    "}\n",
    "\n",
    "token_mappings[\"tokenizer\"].append(utils.lowercase())\n",
    "token_mappings[\"tokenizer\"].append(utils.erase(\"W\"))\n",
    "token_mappings[\"tokenizer\"].append(utils.alpha())\n",
    "\n",
    "def filter_punct(t):\n",
    "    return None if t[\"pos\"] == \"PUNCT\" else t\n",
    "\n",
    "token_mappings[\"tagger\"].append(filter_punct)\n",
    "token_mappings[\"tagger\"].append(utils.rewrite({\n",
    "    'pos': {\n",
    "        'PROPN': 'NOUN'\n",
    "    },\n",
    "    'tag': {\n",
    "        'NNP': 'NN',\n",
    "        'NNPS': 'NNS',\n",
    "    }\n",
    "}))"
   ]
  },
  {
   "cell_type": "code",
   "execution_count": 21,
   "id": "alone-process",
   "metadata": {},
   "outputs": [
    {
     "name": "stderr",
     "output_type": "stream",
     "text": [
      "Importing <string>: 100%|██████████| 1/1 [00:00<00:00, 60.14it/s]\n"
     ]
    }
   ],
   "source": [
    "from vectorian.importers import StringImporter\n",
    "from vectorian.session import LabSession\n",
    "from vectorian.metrics import CosineMetric, TokenSimilarityMetric\n",
    "from vectorian.metrics import AlignmentSentenceMetric\n",
    "from vectorian.alignment import WatermanSmithBeyer\n",
    "from vectorian.metrics import CosineMetric, TokenSimilarityMetric, AlignmentSentenceMetric\n",
    "from vectorian.alignment import WordMoversDistance\n",
    "\n",
    "im = StringImporter(nlp)\n",
    "doc = im(\"afternoon and morning sun\")\n",
    "\n",
    "session = LabSession(\n",
    "    [doc],\n",
    "    static_embeddings=[fasttext],\n",
    "    token_mappings=token_mappings)\n",
    "\n",
    "index = session.partition(\"sentence\").index(AlignmentSentenceMetric(\n",
    "    token_metric=TokenSimilarityMetric(fasttext, CosineMetric()),\n",
    "    alignment=WordMoversDistance.wmd('vectorian')), nlp=nlp)\n",
    "\n",
    "if False:\n",
    "    index = session.partition(\"sentence\").index(AlignmentSentenceMetric(\n",
    "        token_metric=TokenSimilarityMetric(fasttext, CosineMetric()),\n",
    "        alignment=WordMoversDistance.rwmd('vectorian')), nlp=nlp)"
   ]
  },
  {
   "cell_type": "code",
   "execution_count": 22,
   "id": "round-length",
   "metadata": {},
   "outputs": [],
   "source": [
    "import json\n",
    "\n",
    "def debug(hook, data):\n",
    "    if hook == 'alignment_wmd_full_internal':\n",
    "        print(data)"
   ]
  },
  {
   "cell_type": "code",
   "execution_count": 24,
   "id": "another-premium",
   "metadata": {},
   "outputs": [
    {
     "data": {
      "application/vnd.jupyter.widget-view+json": {
       "model_id": "",
       "version_major": 2,
       "version_minor": 0
      },
      "text/plain": [
       "FloatProgress(value=0.0, layout=Layout(width='100%'), max=1.0)"
      ]
     },
     "metadata": {},
     "output_type": "display_data"
    },
    {
     "name": "stdout",
     "output_type": "stream",
     "text": [
      "{'s': {'id': [0, 1, 2, 3], 'text': ['afternoon', 'and', 'morning', 'sun']}, 't': {'id': [4, 5, 4, 6], 'text': ['evening', 'oh', 'evening', 'star']}, 'pos_to_vocab_s': array([0, 1, 2, 3], dtype=int16), 'pos_to_vocab_t': array([4, 5, 4, 6], dtype=int16), 'vocab_to_pos_s': {0: [0], 1: [1], 2: [2], 3: [3]}, 'vocab_to_pos_t': {4: [0, 2], 5: [1], 6: [3]}, 'bow_s': array([1., 1., 1., 1., 0., 0., 0.], dtype=float32), 'bow_t': array([0., 0., 0., 0., 2., 1., 1.], dtype=float32), 'D': array([[1.        , 1.        , 1.        , 1.        , 0.16250151,\n",
      "        0.6226857 , 0.7048912 ],\n",
      "       [1.        , 1.        , 1.        , 1.        , 0.59407264,\n",
      "        0.31267238, 0.64379895],\n",
      "       [1.        , 1.        , 1.        , 1.        , 0.2443018 ,\n",
      "        0.60731065, 0.61894834],\n",
      "       [1.        , 1.        , 1.        , 1.        , 0.508418  ,\n",
      "        0.63617456, 0.50640804],\n",
      "       [0.16250151, 0.59407264, 0.2443018 , 0.508418  , 1.        ,\n",
      "        1.        , 1.        ],\n",
      "       [0.6226857 , 0.31267238, 0.60731065, 0.63617456, 1.        ,\n",
      "        1.        , 1.        ],\n",
      "       [0.7048912 , 0.64379895, 0.61894834, 0.50640804, 1.        ,\n",
      "        1.        , 1.        ]], dtype=float32), 'G': array([[0., 0., 0., 0., 0., 0., 0.],\n",
      "       [0., 0., 0., 0., 0., 0., 0.],\n",
      "       [0., 0., 0., 0., 0., 0., 0.],\n",
      "       [0., 0., 0., 0., 0., 0., 0.],\n",
      "       [1., 0., 1., 0., 0., 0., 0.],\n",
      "       [0., 1., 0., 0., 0., 0., 0.],\n",
      "       [0., 0., 0., 1., 0., 0., 0.]], dtype=float32), 'flow_by_pos': array([[0.5, 0. , 0.5, 0. ],\n",
      "       [0. , 1. , 0. , 0. ],\n",
      "       [0.5, 0. , 0.5, 0. ],\n",
      "       [0. , 0. , 0. , 1. ]], dtype=float32), 'dist_by_pos': array([[0.16250151, 0.59407264, 0.2443018 , 0.508418  ],\n",
      "       [0.6226857 , 0.31267238, 0.60731065, 0.63617456],\n",
      "       [0.16250151, 0.59407264, 0.2443018 , 0.508418  ],\n",
      "       [0.7048912 , 0.64379895, 0.61894834, 0.50640804]], dtype=float32), 'score': 0.6935290694236755}\n"
     ]
    }
   ],
   "source": [
    "r = index.find(\"evening, oh evening star\", n=1, debug=debug)"
   ]
  },
  {
   "cell_type": "code",
   "execution_count": 28,
   "id": "educational-chess",
   "metadata": {},
   "outputs": [
    {
     "data": {
      "text/html": [
       "\n",
       "<iframe\n",
       "\tid=\"vectorian-1615535359364526000-140302558478000-1\"\n",
       "\twidth=\"100%\"\n",
       "\theight=\"100%\"\n",
       "\tsrcdoc=\"&lt;!DOCTYPE html&gt;&lt;html&gt;&lt;head&gt;&lt;meta charset=&quot;utf-8&quot;&gt;&lt;meta name=&quot;viewport&quot; content=&quot;width=device-width, initial-scale=1&quot;&gt;&lt;link rel=&quot;stylesheet&quot; href=&quot;https://cdn.jsdelivr.net/npm/bulma@0.9.1/css/bulma.min.css&quot; /&gt;&lt;script src=&quot;https://ajax.googleapis.com/ajax/libs/jquery/3.5.1/jquery.min.js&quot;&gt;&lt;/script&gt;&lt;/head&gt;&lt;body&gt;&lt;div class=&quot;container&quot; height=&quot;100%&quot;&gt;&lt;div class=&quot;section&quot;&gt;&lt;/div&gt;&lt;/div&gt;&lt;/body&gt;&lt;/html&gt;\"\n",
       "\tframeborder=\"0\"\n",
       "\tallowfullscreen\n",
       "></iframe>\n",
       "<script>\n",
       "\tdocument.getElementById(\"vectorian-1615535359364526000-140302558478000-1\").onload = function() {\n",
       "\t\tvar f = document.getElementById(\"vectorian-1615535359364526000-140302558478000-1\");\n",
       "\t\tf.height = f.contentWindow.document.body.scrollHeight + \"px\";\n",
       "\t}\n",
       "</script>\n"
      ],
      "text/plain": [
       "<vectorian.session.LabResult at 0x7f9bf917f370>"
      ]
     },
     "execution_count": 28,
     "metadata": {},
     "output_type": "execute_result"
    }
   ],
   "source": [
    "r"
   ]
  },
  {
   "cell_type": "code",
   "execution_count": 27,
   "id": "straight-paradise",
   "metadata": {},
   "outputs": [
    {
     "data": {
      "text/html": [
       "\n",
       "<iframe\n",
       "\tid=\"vectorian-1615535326091125000-140302558475744-1\"\n",
       "\twidth=\"100%\"\n",
       "\theight=\"100%\"\n",
       "\tsrcdoc=\"&lt;!DOCTYPE html&gt;&lt;html&gt;&lt;head&gt;&lt;meta charset=&quot;utf-8&quot;&gt;&lt;meta name=&quot;viewport&quot; content=&quot;width=device-width, initial-scale=1&quot;&gt;&lt;link rel=&quot;stylesheet&quot; href=&quot;https://cdn.jsdelivr.net/npm/bulma@0.9.1/css/bulma.min.css&quot; /&gt;&lt;script src=&quot;https://ajax.googleapis.com/ajax/libs/jquery/3.5.1/jquery.min.js&quot;&gt;&lt;/script&gt;&lt;script src=&quot;https://cdn.bokeh.org/bokeh/release/bokeh-2.3.0.min.js&quot; crossorigin=&quot;anonymous&quot;&gt;&lt;/script&gt;&lt;script src=&quot;https://cdn.bokeh.org/bokeh/release/bokeh-widgets-2.3.0.min.js&quot; crossorigin=&quot;anonymous&quot;&gt;&lt;/script&gt;&lt;script src=&quot;https://cdn.bokeh.org/bokeh/release/bokeh-tables-2.3.0.min.js&quot; crossorigin=&quot;anonymous&quot;&gt;&lt;/script&gt;&lt;/head&gt;&lt;body&gt;&lt;div class=&quot;container&quot; height=&quot;100%&quot;&gt;&lt;div class=&quot;section&quot;&gt;&lt;/div&gt;&lt;/div&gt;&lt;script&gt;&lt;/script&gt;&lt;/body&gt;&lt;/html&gt;\"\n",
       "\tframeborder=\"0\"\n",
       "\tallowfullscreen\n",
       "></iframe>\n",
       "<script>\n",
       "\tdocument.getElementById(\"vectorian-1615535326091125000-140302558475744-1\").onload = function() {\n",
       "\t\tvar f = document.getElementById(\"vectorian-1615535326091125000-140302558475744-1\");\n",
       "\t\tf.height = f.contentWindow.document.body.scrollHeight + \"px\";\n",
       "\t}\n",
       "</script>\n"
      ],
      "text/plain": [
       "<vectorian.session.LabResult at 0x7f9abc28bb80>"
      ]
     },
     "execution_count": 27,
     "metadata": {},
     "output_type": "execute_result"
    }
   ],
   "source": [
    "r.annotate('flow')"
   ]
  },
  {
   "cell_type": "code",
   "execution_count": null,
   "id": "romance-wagon",
   "metadata": {},
   "outputs": [],
   "source": []
  }
 ],
 "metadata": {
  "kernelspec": {
   "display_name": "Python 3",
   "language": "python",
   "name": "python3"
  },
  "language_info": {
   "codemirror_mode": {
    "name": "ipython",
    "version": 3
   },
   "file_extension": ".py",
   "mimetype": "text/x-python",
   "name": "python",
   "nbconvert_exporter": "python",
   "pygments_lexer": "ipython3",
   "version": "3.8.5"
  }
 },
 "nbformat": 4,
 "nbformat_minor": 5
}
